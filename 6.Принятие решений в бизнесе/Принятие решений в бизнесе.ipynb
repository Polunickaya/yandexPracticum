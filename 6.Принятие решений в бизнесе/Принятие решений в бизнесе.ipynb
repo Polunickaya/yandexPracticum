{
 "cells": [
  {
   "cell_type": "markdown",
   "metadata": {},
   "source": [
    "# Проектная работа - Принятие решений в бизнесе\n",
    "\n",
    "**Описание проекта**\n",
    "\n",
    "Вы — аналитик крупного интернет-магазина. Вместе с отделом маркетинга вы подготовили список гипотез для увеличения выручки.\n",
    "Приоритизируйте гипотезы, запустите A/B-тест и проанализируйте результаты.\n",
    "\n",
    "\n",
    "**Ход исследования**\n",
    "\n",
    " **Часть 1. Приоритизация гипотез.**\n",
    "\n",
    "**Задачи:**\n",
    " - Применить фреймворк ICE для приоритизации гипотез. Отсортируйте их по убыванию приоритета.\n",
    " - Применить фреймворк RICE для приоритизации гипотез. Отсортируйте их по убыванию приоритета.\n",
    " - Указать, как изменилась приоритизация гипотез при применении RICE вместо ICE. Объяснить, почему так произошло.\n",
    " \n",
    "**Часть 2. Анализ A/B-теста**\n",
    "\n",
    "**Задачи:**\n",
    " - Проанализировать A/B-тест:\n",
    " - Построить график кумулятивной выручки по группам. \n",
    " - Построить график кумулятивного среднего чека по группам.\n",
    " - Построить график относительного изменения кумулятивного среднего чека группы B к группе A. \n",
    " - Построить график кумулятивной конверсии по группам. \n",
    " - Построить график относительного изменения кумулятивной конверсии группы B к группе A. \n",
    " - Построить точечный график количества заказов по пользователям. \n",
    " - Посчитать 95-й и 99-й перцентили количества заказов на пользователя. Выбрать границу для определения аномальных пользователей.\n",
    " - Построить точечный график стоимостей заказов. \n",
    " - Построить 95-й и 99-й перцентили стоимости заказов. Выберать границу для определения аномальных заказов.\n",
    " - Посчитать статистическую значимость различий в конверсии между группами по «сырым» данным. \n",
    " - Посчитать статистическую значимость различий в среднем чеке заказа между группами по «сырым» данным. \n",
    " - Посчитать статистическую значимость различий в конверсии между группами по «очищенным» данным. \n",
    " - Посчитать статистическую значимость различий в среднем чеке заказа между группами по «очищенным» данным. \n",
    " - Принять решение по результатам. \n",
    "\n",
    "**Описание данных**\n",
    "\n",
    "**Данные для первой части**\n",
    "\n",
    "Таблица hypothesis:\n",
    " - `Hypothesis` — краткое описание гипотезы;\n",
    " - `Reach` — охват пользователей по 10-балльной шкале;\n",
    " - `Impact` — влияние на пользователей по 10-балльной шкале;\n",
    " - `Confidence` — уверенность в гипотезе по 10-балльной шкале;\n",
    " - `Efforts` — затраты ресурсов на проверку гипотезы по 10-балльной шкале. Чем больше значение Efforts, тем дороже проверка гипотезы.\n",
    " \n",
    "**Данные для второй части**\n",
    "\n",
    "Таблица orders:\n",
    " - `transactionId` — идентификатор заказа;\n",
    " - `visitorId` — идентификатор пользователя, совершившего заказ;\n",
    " - `date` — дата, когда был совершён заказ;\n",
    " - `revenue` — выручка заказа;\n",
    " - `group` — группа A/B-теста, в которую попал заказ.\n",
    " \n",
    "Таблица visitors:\n",
    " - `date` — дата;\n",
    " - `group` — группа A/B-теста;\n",
    " - `visitors` — количество пользователей в указанную дату в указанной группе A/B-теста"
   ]
  },
  {
   "cell_type": "markdown",
   "metadata": {},
   "source": [
    "## Загрузка, изучение и подготовка данных к анализу"
   ]
  },
  {
   "cell_type": "code",
   "execution_count": 1,
   "metadata": {},
   "outputs": [],
   "source": [
    "import pandas as pd #импорт библиотеки pandas\n",
    "import numpy as np #импорт библиотеки numpy\n",
    "import scipy.stats as stats #импорт библиотеки scipy.stats\n",
    "import datetime as dt #импорт библиотеки datetime\n",
    "from matplotlib import pyplot as plt #импорт библиотеки matplotlib\n",
    "from matplotlib.pyplot import figure\n",
    "from pylab import rcParams"
   ]
  },
  {
   "cell_type": "code",
   "execution_count": 2,
   "metadata": {},
   "outputs": [],
   "source": [
    "hypothesis, orders, visitors = (\n",
    "    pd.read_csv('/datasets/hypothesis.csv'),  # описание гипотез \n",
    "    pd.read_csv('/datasets/orders.csv', parse_dates=['date']),  # заказы\n",
    "    pd.read_csv('/datasets/visitors.csv', parse_dates=['date']),  # пользователи\n",
    ")"
   ]
  },
  {
   "cell_type": "code",
   "execution_count": 3,
   "metadata": {},
   "outputs": [
    {
     "data": {
      "text/html": [
       "<div>\n",
       "<style scoped>\n",
       "    .dataframe tbody tr th:only-of-type {\n",
       "        vertical-align: middle;\n",
       "    }\n",
       "\n",
       "    .dataframe tbody tr th {\n",
       "        vertical-align: top;\n",
       "    }\n",
       "\n",
       "    .dataframe thead th {\n",
       "        text-align: right;\n",
       "    }\n",
       "</style>\n",
       "<table border=\"1\" class=\"dataframe\">\n",
       "  <thead>\n",
       "    <tr style=\"text-align: right;\">\n",
       "      <th></th>\n",
       "      <th>Hypothesis</th>\n",
       "      <th>Reach</th>\n",
       "      <th>Impact</th>\n",
       "      <th>Confidence</th>\n",
       "      <th>Efforts</th>\n",
       "    </tr>\n",
       "  </thead>\n",
       "  <tbody>\n",
       "    <tr>\n",
       "      <th>0</th>\n",
       "      <td>Добавить два новых канала привлечения трафика,...</td>\n",
       "      <td>3</td>\n",
       "      <td>10</td>\n",
       "      <td>8</td>\n",
       "      <td>6</td>\n",
       "    </tr>\n",
       "    <tr>\n",
       "      <th>1</th>\n",
       "      <td>Запустить собственную службу доставки, что сок...</td>\n",
       "      <td>2</td>\n",
       "      <td>5</td>\n",
       "      <td>4</td>\n",
       "      <td>10</td>\n",
       "    </tr>\n",
       "    <tr>\n",
       "      <th>2</th>\n",
       "      <td>Добавить блоки рекомендаций товаров на сайт ин...</td>\n",
       "      <td>8</td>\n",
       "      <td>3</td>\n",
       "      <td>7</td>\n",
       "      <td>3</td>\n",
       "    </tr>\n",
       "    <tr>\n",
       "      <th>3</th>\n",
       "      <td>Изменить структура категорий, что увеличит кон...</td>\n",
       "      <td>8</td>\n",
       "      <td>3</td>\n",
       "      <td>3</td>\n",
       "      <td>8</td>\n",
       "    </tr>\n",
       "    <tr>\n",
       "      <th>4</th>\n",
       "      <td>Изменить цвет фона главной страницы, чтобы уве...</td>\n",
       "      <td>3</td>\n",
       "      <td>1</td>\n",
       "      <td>1</td>\n",
       "      <td>1</td>\n",
       "    </tr>\n",
       "  </tbody>\n",
       "</table>\n",
       "</div>"
      ],
      "text/plain": [
       "                                          Hypothesis  Reach  Impact  \\\n",
       "0  Добавить два новых канала привлечения трафика,...      3      10   \n",
       "1  Запустить собственную службу доставки, что сок...      2       5   \n",
       "2  Добавить блоки рекомендаций товаров на сайт ин...      8       3   \n",
       "3  Изменить структура категорий, что увеличит кон...      8       3   \n",
       "4  Изменить цвет фона главной страницы, чтобы уве...      3       1   \n",
       "\n",
       "   Confidence  Efforts  \n",
       "0           8        6  \n",
       "1           4       10  \n",
       "2           7        3  \n",
       "3           3        8  \n",
       "4           1        1  "
      ]
     },
     "metadata": {},
     "output_type": "display_data"
    },
    {
     "name": "stdout",
     "output_type": "stream",
     "text": [
      "\n",
      "<class 'pandas.core.frame.DataFrame'>\n",
      "RangeIndex: 9 entries, 0 to 8\n",
      "Data columns (total 5 columns):\n",
      " #   Column      Non-Null Count  Dtype \n",
      "---  ------      --------------  ----- \n",
      " 0   Hypothesis  9 non-null      object\n",
      " 1   Reach       9 non-null      int64 \n",
      " 2   Impact      9 non-null      int64 \n",
      " 3   Confidence  9 non-null      int64 \n",
      " 4   Efforts     9 non-null      int64 \n",
      "dtypes: int64(4), object(1)\n",
      "memory usage: 488.0+ bytes\n"
     ]
    },
    {
     "data": {
      "text/plain": [
       "None"
      ]
     },
     "metadata": {},
     "output_type": "display_data"
    },
    {
     "name": "stdout",
     "output_type": "stream",
     "text": [
      "\n"
     ]
    },
    {
     "data": {
      "text/plain": [
       "0"
      ]
     },
     "execution_count": 3,
     "metadata": {},
     "output_type": "execute_result"
    }
   ],
   "source": [
    "display(hypothesis.head()) #получение первых 5 строк таблицы hypothesis\n",
    "print()\n",
    "display(hypothesis.info()) #получение общей информации о данных в таблице hypothesis\n",
    "print()\n",
    "hypothesis.duplicated().sum() #проверяем дубликаты"
   ]
  },
  {
   "cell_type": "code",
   "execution_count": 4,
   "metadata": {},
   "outputs": [
    {
     "data": {
      "text/html": [
       "<div>\n",
       "<style scoped>\n",
       "    .dataframe tbody tr th:only-of-type {\n",
       "        vertical-align: middle;\n",
       "    }\n",
       "\n",
       "    .dataframe tbody tr th {\n",
       "        vertical-align: top;\n",
       "    }\n",
       "\n",
       "    .dataframe thead th {\n",
       "        text-align: right;\n",
       "    }\n",
       "</style>\n",
       "<table border=\"1\" class=\"dataframe\">\n",
       "  <thead>\n",
       "    <tr style=\"text-align: right;\">\n",
       "      <th></th>\n",
       "      <th>transactionId</th>\n",
       "      <th>visitorId</th>\n",
       "      <th>date</th>\n",
       "      <th>revenue</th>\n",
       "      <th>group</th>\n",
       "    </tr>\n",
       "  </thead>\n",
       "  <tbody>\n",
       "    <tr>\n",
       "      <th>0</th>\n",
       "      <td>3667963787</td>\n",
       "      <td>3312258926</td>\n",
       "      <td>2019-08-15</td>\n",
       "      <td>1650</td>\n",
       "      <td>B</td>\n",
       "    </tr>\n",
       "    <tr>\n",
       "      <th>1</th>\n",
       "      <td>2804400009</td>\n",
       "      <td>3642806036</td>\n",
       "      <td>2019-08-15</td>\n",
       "      <td>730</td>\n",
       "      <td>B</td>\n",
       "    </tr>\n",
       "    <tr>\n",
       "      <th>2</th>\n",
       "      <td>2961555356</td>\n",
       "      <td>4069496402</td>\n",
       "      <td>2019-08-15</td>\n",
       "      <td>400</td>\n",
       "      <td>A</td>\n",
       "    </tr>\n",
       "    <tr>\n",
       "      <th>3</th>\n",
       "      <td>3797467345</td>\n",
       "      <td>1196621759</td>\n",
       "      <td>2019-08-15</td>\n",
       "      <td>9759</td>\n",
       "      <td>B</td>\n",
       "    </tr>\n",
       "    <tr>\n",
       "      <th>4</th>\n",
       "      <td>2282983706</td>\n",
       "      <td>2322279887</td>\n",
       "      <td>2019-08-15</td>\n",
       "      <td>2308</td>\n",
       "      <td>B</td>\n",
       "    </tr>\n",
       "  </tbody>\n",
       "</table>\n",
       "</div>"
      ],
      "text/plain": [
       "   transactionId   visitorId       date  revenue group\n",
       "0     3667963787  3312258926 2019-08-15     1650     B\n",
       "1     2804400009  3642806036 2019-08-15      730     B\n",
       "2     2961555356  4069496402 2019-08-15      400     A\n",
       "3     3797467345  1196621759 2019-08-15     9759     B\n",
       "4     2282983706  2322279887 2019-08-15     2308     B"
      ]
     },
     "metadata": {},
     "output_type": "display_data"
    },
    {
     "name": "stdout",
     "output_type": "stream",
     "text": [
      "\n",
      "<class 'pandas.core.frame.DataFrame'>\n",
      "RangeIndex: 1197 entries, 0 to 1196\n",
      "Data columns (total 5 columns):\n",
      " #   Column         Non-Null Count  Dtype         \n",
      "---  ------         --------------  -----         \n",
      " 0   transactionId  1197 non-null   int64         \n",
      " 1   visitorId      1197 non-null   int64         \n",
      " 2   date           1197 non-null   datetime64[ns]\n",
      " 3   revenue        1197 non-null   int64         \n",
      " 4   group          1197 non-null   object        \n",
      "dtypes: datetime64[ns](1), int64(3), object(1)\n",
      "memory usage: 46.9+ KB\n"
     ]
    },
    {
     "data": {
      "text/plain": [
       "None"
      ]
     },
     "metadata": {},
     "output_type": "display_data"
    },
    {
     "name": "stdout",
     "output_type": "stream",
     "text": [
      "\n"
     ]
    },
    {
     "data": {
      "text/plain": [
       "0"
      ]
     },
     "execution_count": 4,
     "metadata": {},
     "output_type": "execute_result"
    }
   ],
   "source": [
    "display(orders.head()) #получение первых 5 строк таблицы orders\n",
    "print()\n",
    "display(orders.info()) #получение общей информации о данных в таблице orders\n",
    "print()\n",
    "orders.duplicated().sum() #проверяем дубликаты"
   ]
  },
  {
   "cell_type": "code",
   "execution_count": 5,
   "metadata": {},
   "outputs": [
    {
     "data": {
      "text/html": [
       "<div>\n",
       "<style scoped>\n",
       "    .dataframe tbody tr th:only-of-type {\n",
       "        vertical-align: middle;\n",
       "    }\n",
       "\n",
       "    .dataframe tbody tr th {\n",
       "        vertical-align: top;\n",
       "    }\n",
       "\n",
       "    .dataframe thead th {\n",
       "        text-align: right;\n",
       "    }\n",
       "</style>\n",
       "<table border=\"1\" class=\"dataframe\">\n",
       "  <thead>\n",
       "    <tr style=\"text-align: right;\">\n",
       "      <th></th>\n",
       "      <th>date</th>\n",
       "      <th>group</th>\n",
       "      <th>visitors</th>\n",
       "    </tr>\n",
       "  </thead>\n",
       "  <tbody>\n",
       "    <tr>\n",
       "      <th>0</th>\n",
       "      <td>2019-08-01</td>\n",
       "      <td>A</td>\n",
       "      <td>719</td>\n",
       "    </tr>\n",
       "    <tr>\n",
       "      <th>1</th>\n",
       "      <td>2019-08-02</td>\n",
       "      <td>A</td>\n",
       "      <td>619</td>\n",
       "    </tr>\n",
       "    <tr>\n",
       "      <th>2</th>\n",
       "      <td>2019-08-03</td>\n",
       "      <td>A</td>\n",
       "      <td>507</td>\n",
       "    </tr>\n",
       "    <tr>\n",
       "      <th>3</th>\n",
       "      <td>2019-08-04</td>\n",
       "      <td>A</td>\n",
       "      <td>717</td>\n",
       "    </tr>\n",
       "    <tr>\n",
       "      <th>4</th>\n",
       "      <td>2019-08-05</td>\n",
       "      <td>A</td>\n",
       "      <td>756</td>\n",
       "    </tr>\n",
       "  </tbody>\n",
       "</table>\n",
       "</div>"
      ],
      "text/plain": [
       "        date group  visitors\n",
       "0 2019-08-01     A       719\n",
       "1 2019-08-02     A       619\n",
       "2 2019-08-03     A       507\n",
       "3 2019-08-04     A       717\n",
       "4 2019-08-05     A       756"
      ]
     },
     "metadata": {},
     "output_type": "display_data"
    },
    {
     "name": "stdout",
     "output_type": "stream",
     "text": [
      "\n",
      "<class 'pandas.core.frame.DataFrame'>\n",
      "RangeIndex: 62 entries, 0 to 61\n",
      "Data columns (total 3 columns):\n",
      " #   Column    Non-Null Count  Dtype         \n",
      "---  ------    --------------  -----         \n",
      " 0   date      62 non-null     datetime64[ns]\n",
      " 1   group     62 non-null     object        \n",
      " 2   visitors  62 non-null     int64         \n",
      "dtypes: datetime64[ns](1), int64(1), object(1)\n",
      "memory usage: 1.6+ KB\n"
     ]
    },
    {
     "data": {
      "text/plain": [
       "None"
      ]
     },
     "metadata": {},
     "output_type": "display_data"
    },
    {
     "name": "stdout",
     "output_type": "stream",
     "text": [
      "\n"
     ]
    },
    {
     "data": {
      "text/plain": [
       "0"
      ]
     },
     "execution_count": 5,
     "metadata": {},
     "output_type": "execute_result"
    }
   ],
   "source": [
    "display(visitors.head()) #получение первых 5 строк таблицы visitors\n",
    "print()\n",
    "display(visitors.info()) #получение общей информации о данных в таблице visitors\n",
    "print()\n",
    "visitors.duplicated().sum() #проверяем дубликаты"
   ]
  },
  {
   "cell_type": "code",
   "execution_count": 6,
   "metadata": {},
   "outputs": [],
   "source": [
    "hypothesis.columns = hypothesis.columns.str.lower() #приводим названия столбцов к нижнему регистру\n",
    "orders.rename(columns = {'transactionId':'transaction_id', 'visitorId' : 'visitor_id'}, inplace = True) "
   ]
  },
  {
   "cell_type": "markdown",
   "metadata": {},
   "source": [
    "После первого ознакомления с данным видим, что пропусков и дубликатов нет. Колонки с датами в таблицах `orders` и `visitors` преобразовали на этапе чтения данных, также привели названия столбцов в таблице `hypothesis` к нижнему регистру и переименовали названия столбцов в таблице `orders`.\n",
    "Для анализа есть все необходимые данные, можем приступать."
   ]
  },
  {
   "cell_type": "markdown",
   "metadata": {},
   "source": [
    "## Приоритизация гипотез"
   ]
  },
  {
   "cell_type": "markdown",
   "metadata": {},
   "source": [
    "Ознакомимся с данными нам гипотезами по увеличению выручки интернет-магазина."
   ]
  },
  {
   "cell_type": "code",
   "execution_count": 7,
   "metadata": {},
   "outputs": [
    {
     "data": {
      "text/html": [
       "<div>\n",
       "<style scoped>\n",
       "    .dataframe tbody tr th:only-of-type {\n",
       "        vertical-align: middle;\n",
       "    }\n",
       "\n",
       "    .dataframe tbody tr th {\n",
       "        vertical-align: top;\n",
       "    }\n",
       "\n",
       "    .dataframe thead th {\n",
       "        text-align: right;\n",
       "    }\n",
       "</style>\n",
       "<table border=\"1\" class=\"dataframe\">\n",
       "  <thead>\n",
       "    <tr style=\"text-align: right;\">\n",
       "      <th></th>\n",
       "      <th>hypothesis</th>\n",
       "      <th>reach</th>\n",
       "      <th>impact</th>\n",
       "      <th>confidence</th>\n",
       "      <th>efforts</th>\n",
       "    </tr>\n",
       "  </thead>\n",
       "  <tbody>\n",
       "    <tr>\n",
       "      <th>0</th>\n",
       "      <td>Добавить два новых канала привлечения трафика, что позволит привлекать на 30% больше пользователей</td>\n",
       "      <td>3</td>\n",
       "      <td>10</td>\n",
       "      <td>8</td>\n",
       "      <td>6</td>\n",
       "    </tr>\n",
       "    <tr>\n",
       "      <th>1</th>\n",
       "      <td>Запустить собственную службу доставки, что сократит срок доставки заказов</td>\n",
       "      <td>2</td>\n",
       "      <td>5</td>\n",
       "      <td>4</td>\n",
       "      <td>10</td>\n",
       "    </tr>\n",
       "    <tr>\n",
       "      <th>2</th>\n",
       "      <td>Добавить блоки рекомендаций товаров на сайт интернет магазина, чтобы повысить конверсию и средний чек заказа</td>\n",
       "      <td>8</td>\n",
       "      <td>3</td>\n",
       "      <td>7</td>\n",
       "      <td>3</td>\n",
       "    </tr>\n",
       "    <tr>\n",
       "      <th>3</th>\n",
       "      <td>Изменить структура категорий, что увеличит конверсию, т.к. пользователи быстрее найдут нужный товар</td>\n",
       "      <td>8</td>\n",
       "      <td>3</td>\n",
       "      <td>3</td>\n",
       "      <td>8</td>\n",
       "    </tr>\n",
       "    <tr>\n",
       "      <th>4</th>\n",
       "      <td>Изменить цвет фона главной страницы, чтобы увеличить вовлеченность пользователей</td>\n",
       "      <td>3</td>\n",
       "      <td>1</td>\n",
       "      <td>1</td>\n",
       "      <td>1</td>\n",
       "    </tr>\n",
       "    <tr>\n",
       "      <th>5</th>\n",
       "      <td>Добавить страницу отзывов клиентов о магазине, что позволит увеличить количество заказов</td>\n",
       "      <td>3</td>\n",
       "      <td>2</td>\n",
       "      <td>2</td>\n",
       "      <td>3</td>\n",
       "    </tr>\n",
       "    <tr>\n",
       "      <th>6</th>\n",
       "      <td>Показать на главной странице баннеры с актуальными акциями и распродажами, чтобы увеличить конверсию</td>\n",
       "      <td>5</td>\n",
       "      <td>3</td>\n",
       "      <td>8</td>\n",
       "      <td>3</td>\n",
       "    </tr>\n",
       "    <tr>\n",
       "      <th>7</th>\n",
       "      <td>Добавить форму подписки на все основные страницы, чтобы собрать базу клиентов для email-рассылок</td>\n",
       "      <td>10</td>\n",
       "      <td>7</td>\n",
       "      <td>8</td>\n",
       "      <td>5</td>\n",
       "    </tr>\n",
       "    <tr>\n",
       "      <th>8</th>\n",
       "      <td>Запустить акцию, дающую скидку на товар в день рождения</td>\n",
       "      <td>1</td>\n",
       "      <td>9</td>\n",
       "      <td>9</td>\n",
       "      <td>5</td>\n",
       "    </tr>\n",
       "  </tbody>\n",
       "</table>\n",
       "</div>"
      ],
      "text/plain": [
       "                                                                                                     hypothesis  \\\n",
       "0            Добавить два новых канала привлечения трафика, что позволит привлекать на 30% больше пользователей   \n",
       "1                                     Запустить собственную службу доставки, что сократит срок доставки заказов   \n",
       "2  Добавить блоки рекомендаций товаров на сайт интернет магазина, чтобы повысить конверсию и средний чек заказа   \n",
       "3           Изменить структура категорий, что увеличит конверсию, т.к. пользователи быстрее найдут нужный товар   \n",
       "4                              Изменить цвет фона главной страницы, чтобы увеличить вовлеченность пользователей   \n",
       "5                      Добавить страницу отзывов клиентов о магазине, что позволит увеличить количество заказов   \n",
       "6          Показать на главной странице баннеры с актуальными акциями и распродажами, чтобы увеличить конверсию   \n",
       "7              Добавить форму подписки на все основные страницы, чтобы собрать базу клиентов для email-рассылок   \n",
       "8                                                       Запустить акцию, дающую скидку на товар в день рождения   \n",
       "\n",
       "   reach  impact  confidence  efforts  \n",
       "0      3      10           8        6  \n",
       "1      2       5           4       10  \n",
       "2      8       3           7        3  \n",
       "3      8       3           3        8  \n",
       "4      3       1           1        1  \n",
       "5      3       2           2        3  \n",
       "6      5       3           8        3  \n",
       "7     10       7           8        5  \n",
       "8      1       9           9        5  "
      ]
     },
     "execution_count": 7,
     "metadata": {},
     "output_type": "execute_result"
    }
   ],
   "source": [
    "pd.set_option('display.max_colwidth', None)\n",
    "hypothesis"
   ]
  },
  {
   "cell_type": "markdown",
   "metadata": {},
   "source": [
    "Сначала применим фреймворк ICE для приоритизации гипотез и отсортируем их по убыванию приоритета."
   ]
  },
  {
   "cell_type": "code",
   "execution_count": 8,
   "metadata": {},
   "outputs": [
    {
     "data": {
      "text/html": [
       "<div>\n",
       "<style scoped>\n",
       "    .dataframe tbody tr th:only-of-type {\n",
       "        vertical-align: middle;\n",
       "    }\n",
       "\n",
       "    .dataframe tbody tr th {\n",
       "        vertical-align: top;\n",
       "    }\n",
       "\n",
       "    .dataframe thead th {\n",
       "        text-align: right;\n",
       "    }\n",
       "</style>\n",
       "<table border=\"1\" class=\"dataframe\">\n",
       "  <thead>\n",
       "    <tr style=\"text-align: right;\">\n",
       "      <th></th>\n",
       "      <th>hypothesis</th>\n",
       "      <th>ICE</th>\n",
       "    </tr>\n",
       "  </thead>\n",
       "  <tbody>\n",
       "    <tr>\n",
       "      <th>8</th>\n",
       "      <td>Запустить акцию, дающую скидку на товар в день рождения</td>\n",
       "      <td>16.200000</td>\n",
       "    </tr>\n",
       "    <tr>\n",
       "      <th>0</th>\n",
       "      <td>Добавить два новых канала привлечения трафика, что позволит привлекать на 30% больше пользователей</td>\n",
       "      <td>13.333333</td>\n",
       "    </tr>\n",
       "    <tr>\n",
       "      <th>7</th>\n",
       "      <td>Добавить форму подписки на все основные страницы, чтобы собрать базу клиентов для email-рассылок</td>\n",
       "      <td>11.200000</td>\n",
       "    </tr>\n",
       "    <tr>\n",
       "      <th>6</th>\n",
       "      <td>Показать на главной странице баннеры с актуальными акциями и распродажами, чтобы увеличить конверсию</td>\n",
       "      <td>8.000000</td>\n",
       "    </tr>\n",
       "    <tr>\n",
       "      <th>2</th>\n",
       "      <td>Добавить блоки рекомендаций товаров на сайт интернет магазина, чтобы повысить конверсию и средний чек заказа</td>\n",
       "      <td>7.000000</td>\n",
       "    </tr>\n",
       "    <tr>\n",
       "      <th>1</th>\n",
       "      <td>Запустить собственную службу доставки, что сократит срок доставки заказов</td>\n",
       "      <td>2.000000</td>\n",
       "    </tr>\n",
       "    <tr>\n",
       "      <th>5</th>\n",
       "      <td>Добавить страницу отзывов клиентов о магазине, что позволит увеличить количество заказов</td>\n",
       "      <td>1.333333</td>\n",
       "    </tr>\n",
       "    <tr>\n",
       "      <th>3</th>\n",
       "      <td>Изменить структура категорий, что увеличит конверсию, т.к. пользователи быстрее найдут нужный товар</td>\n",
       "      <td>1.125000</td>\n",
       "    </tr>\n",
       "    <tr>\n",
       "      <th>4</th>\n",
       "      <td>Изменить цвет фона главной страницы, чтобы увеличить вовлеченность пользователей</td>\n",
       "      <td>1.000000</td>\n",
       "    </tr>\n",
       "  </tbody>\n",
       "</table>\n",
       "</div>"
      ],
      "text/plain": [
       "                                                                                                     hypothesis  \\\n",
       "8                                                       Запустить акцию, дающую скидку на товар в день рождения   \n",
       "0            Добавить два новых канала привлечения трафика, что позволит привлекать на 30% больше пользователей   \n",
       "7              Добавить форму подписки на все основные страницы, чтобы собрать базу клиентов для email-рассылок   \n",
       "6          Показать на главной странице баннеры с актуальными акциями и распродажами, чтобы увеличить конверсию   \n",
       "2  Добавить блоки рекомендаций товаров на сайт интернет магазина, чтобы повысить конверсию и средний чек заказа   \n",
       "1                                     Запустить собственную службу доставки, что сократит срок доставки заказов   \n",
       "5                      Добавить страницу отзывов клиентов о магазине, что позволит увеличить количество заказов   \n",
       "3           Изменить структура категорий, что увеличит конверсию, т.к. пользователи быстрее найдут нужный товар   \n",
       "4                              Изменить цвет фона главной страницы, чтобы увеличить вовлеченность пользователей   \n",
       "\n",
       "         ICE  \n",
       "8  16.200000  \n",
       "0  13.333333  \n",
       "7  11.200000  \n",
       "6   8.000000  \n",
       "2   7.000000  \n",
       "1   2.000000  \n",
       "5   1.333333  \n",
       "3   1.125000  \n",
       "4   1.000000  "
      ]
     },
     "execution_count": 8,
     "metadata": {},
     "output_type": "execute_result"
    }
   ],
   "source": [
    "hypothesis['ICE'] = (hypothesis['impact'] * hypothesis['confidence']) / hypothesis['efforts'] # считаем  фреймворк ICE\n",
    "hypothesis[['hypothesis', 'ICE']].sort_values(by='ICE', ascending=False) # сортируем по убыванию приоритета"
   ]
  },
  {
   "cell_type": "markdown",
   "metadata": {},
   "source": [
    "По фреймворку ICE в лидерах оказались три гипотезы:\n",
    "`Запустить акцию, дающую скидку на товар в день рождения`,\n",
    "`Добавить два новых канала привлечения трафика, что позволит привлекать на 30% больше пользователей`и\n",
    "`Добавить форму подписки на все основные страницы, чтобы собрать базу клиентов для email-рассылок`"
   ]
  },
  {
   "cell_type": "markdown",
   "metadata": {},
   "source": [
    "Далее применим фреймворк RICE для приоритизации гипотез и отсортируем по убыванию приоритета."
   ]
  },
  {
   "cell_type": "code",
   "execution_count": 9,
   "metadata": {},
   "outputs": [
    {
     "data": {
      "text/html": [
       "<div>\n",
       "<style scoped>\n",
       "    .dataframe tbody tr th:only-of-type {\n",
       "        vertical-align: middle;\n",
       "    }\n",
       "\n",
       "    .dataframe tbody tr th {\n",
       "        vertical-align: top;\n",
       "    }\n",
       "\n",
       "    .dataframe thead th {\n",
       "        text-align: right;\n",
       "    }\n",
       "</style>\n",
       "<table border=\"1\" class=\"dataframe\">\n",
       "  <thead>\n",
       "    <tr style=\"text-align: right;\">\n",
       "      <th></th>\n",
       "      <th>hypothesis</th>\n",
       "      <th>RICE</th>\n",
       "    </tr>\n",
       "  </thead>\n",
       "  <tbody>\n",
       "    <tr>\n",
       "      <th>7</th>\n",
       "      <td>Добавить форму подписки на все основные страницы, чтобы собрать базу клиентов для email-рассылок</td>\n",
       "      <td>112.0</td>\n",
       "    </tr>\n",
       "    <tr>\n",
       "      <th>2</th>\n",
       "      <td>Добавить блоки рекомендаций товаров на сайт интернет магазина, чтобы повысить конверсию и средний чек заказа</td>\n",
       "      <td>56.0</td>\n",
       "    </tr>\n",
       "    <tr>\n",
       "      <th>0</th>\n",
       "      <td>Добавить два новых канала привлечения трафика, что позволит привлекать на 30% больше пользователей</td>\n",
       "      <td>40.0</td>\n",
       "    </tr>\n",
       "    <tr>\n",
       "      <th>6</th>\n",
       "      <td>Показать на главной странице баннеры с актуальными акциями и распродажами, чтобы увеличить конверсию</td>\n",
       "      <td>40.0</td>\n",
       "    </tr>\n",
       "    <tr>\n",
       "      <th>8</th>\n",
       "      <td>Запустить акцию, дающую скидку на товар в день рождения</td>\n",
       "      <td>16.2</td>\n",
       "    </tr>\n",
       "    <tr>\n",
       "      <th>3</th>\n",
       "      <td>Изменить структура категорий, что увеличит конверсию, т.к. пользователи быстрее найдут нужный товар</td>\n",
       "      <td>9.0</td>\n",
       "    </tr>\n",
       "    <tr>\n",
       "      <th>1</th>\n",
       "      <td>Запустить собственную службу доставки, что сократит срок доставки заказов</td>\n",
       "      <td>4.0</td>\n",
       "    </tr>\n",
       "    <tr>\n",
       "      <th>5</th>\n",
       "      <td>Добавить страницу отзывов клиентов о магазине, что позволит увеличить количество заказов</td>\n",
       "      <td>4.0</td>\n",
       "    </tr>\n",
       "    <tr>\n",
       "      <th>4</th>\n",
       "      <td>Изменить цвет фона главной страницы, чтобы увеличить вовлеченность пользователей</td>\n",
       "      <td>3.0</td>\n",
       "    </tr>\n",
       "  </tbody>\n",
       "</table>\n",
       "</div>"
      ],
      "text/plain": [
       "                                                                                                     hypothesis  \\\n",
       "7              Добавить форму подписки на все основные страницы, чтобы собрать базу клиентов для email-рассылок   \n",
       "2  Добавить блоки рекомендаций товаров на сайт интернет магазина, чтобы повысить конверсию и средний чек заказа   \n",
       "0            Добавить два новых канала привлечения трафика, что позволит привлекать на 30% больше пользователей   \n",
       "6          Показать на главной странице баннеры с актуальными акциями и распродажами, чтобы увеличить конверсию   \n",
       "8                                                       Запустить акцию, дающую скидку на товар в день рождения   \n",
       "3           Изменить структура категорий, что увеличит конверсию, т.к. пользователи быстрее найдут нужный товар   \n",
       "1                                     Запустить собственную службу доставки, что сократит срок доставки заказов   \n",
       "5                      Добавить страницу отзывов клиентов о магазине, что позволит увеличить количество заказов   \n",
       "4                              Изменить цвет фона главной страницы, чтобы увеличить вовлеченность пользователей   \n",
       "\n",
       "    RICE  \n",
       "7  112.0  \n",
       "2   56.0  \n",
       "0   40.0  \n",
       "6   40.0  \n",
       "8   16.2  \n",
       "3    9.0  \n",
       "1    4.0  \n",
       "5    4.0  \n",
       "4    3.0  "
      ]
     },
     "execution_count": 9,
     "metadata": {},
     "output_type": "execute_result"
    }
   ],
   "source": [
    "hypothesis['RICE'] = (hypothesis['reach'] * hypothesis['impact'] * hypothesis['confidence']) / hypothesis['efforts']\n",
    "hypothesis[['hypothesis', 'RICE']].sort_values(by='RICE', ascending=False)"
   ]
  },
  {
   "cell_type": "markdown",
   "metadata": {},
   "source": [
    "Видим, что при применении фреймворка RICE на первое место вышла гипотеза `Добавить форму подписки на все основные страницы, чтобы собрать базу клиентов для email-рассылок`, за счет большого охвата пользователей, которых затронет изменение. \n",
    "У гипотезы, попавшей на первое место при применении фреймворка ICE, параметр reach самый маленький, что логично, так как день рождения у каждого пользователя всего один раз в году, а в момент проверки гипотезы не велика вероятность, что наберется нужное количество пользователей. Однако у гипотезы `Запустить акцию, дающую скидку на товар в день рождения` самый высокий confidence и практичеки самый высокий impact. "
   ]
  },
  {
   "cell_type": "markdown",
   "metadata": {},
   "source": [
    "### Построим график кумулятивной выручки по группам."
   ]
  },
  {
   "cell_type": "code",
   "execution_count": 10,
   "metadata": {},
   "outputs": [
    {
     "name": "stdout",
     "output_type": "stream",
     "text": [
      "        date group  orders  buyers  revenue  visitors\n",
      "0 2019-08-01     A      24      20   148579       719\n",
      "1 2019-08-01     B      21      20   101217       713\n",
      "2 2019-08-02     A      44      38   242401      1338\n",
      "3 2019-08-02     B      45      43   266748      1294\n",
      "4 2019-08-03     A      68      62   354874      1845\n"
     ]
    }
   ],
   "source": [
    "# создаем массив уникальных пар значений дат и групп теста\n",
    "datesGroups = orders[['date','group']].drop_duplicates()\n",
    "\n",
    "# получаем агрегированные кумулятивные по дням данные о заказах \n",
    "ordersAggregated = datesGroups.apply(lambda x: orders[np.logical_and(orders['date'] <= x['date'], orders['group'] == x['group'])]\\\n",
    "                .agg({'date' : 'max',\\\n",
    "                'group' : 'max',\\\n",
    "                'transaction_id' : 'nunique',\\\n",
    "                'visitor_id' : 'nunique',\\\n",
    "                'revenue' : 'sum'}), axis=1).sort_values(by=['date','group'])\n",
    "\n",
    "# получаем агрегированные кумулятивные по дням данные о посетителях интернет-магазина \n",
    "visitorsAggregated = datesGroups.apply(lambda x: visitors[np.logical_and(visitors['date'] <= x['date'], visitors['group'] == x['group'])]\n",
    "                .agg({'date' : 'max',\\\n",
    "                'group' : 'max',\\\n",
    "                'visitors' : 'sum'}), axis=1).sort_values(by=['date','group']) \n",
    "\n",
    "# объединяем кумулятивные данные в одной таблице и присваиваем ее столбцам понятные названия\n",
    "cumulativeData = ordersAggregated.merge(visitorsAggregated, left_on=['date', 'group'], right_on=['date', 'group'])\n",
    "cumulativeData.columns = ['date', 'group', 'orders', 'buyers', 'revenue', 'visitors']\n",
    "\n",
    "print(cumulativeData.head(5))"
   ]
  },
  {
   "cell_type": "code",
   "execution_count": 11,
   "metadata": {},
   "outputs": [
    {
     "data": {
      "image/png": "[encoded data removed]",
      "text/plain": [
       "<Figure size 432x288 with 1 Axes>"
      ]
     },
     "metadata": {
      "needs_background": "light"
     },
     "output_type": "display_data"
    }
   ],
   "source": [
    "# датафрейм с кумулятивным количеством заказов и кумулятивной выручкой по дням в группе А\n",
    "cumulativeRevenueA = cumulativeData[cumulativeData['group']=='A'][['date','revenue', 'orders']]\n",
    "# датафрейм с кумулятивным количеством заказов и кумулятивной выручкой по дням в группе B\n",
    "cumulativeRevenueB = cumulativeData[cumulativeData['group']=='B'][['date','revenue', 'orders']]\n",
    "fig = plt.plot(cumulativeRevenueA['date'], cumulativeRevenueA['revenue'], label='A')\n",
    "fig = plt.plot(cumulativeRevenueB['date'], cumulativeRevenueB['revenue'], label='B')\n",
    "plt.xticks(rotation=45, ha='right')\n",
    "plt.title(\"Кумулятивная выручка по группам\")\n",
    "plt.xlabel(\"Дата\")\n",
    "plt.ylabel(\"Выручка\")\n",
    "rcParams['figure.figsize'] = 15, 5\n",
    "plt.legend()\n",
    "plt.show()\n"
   ]
  },
  {
   "cell_type": "markdown",
   "metadata": {},
   "source": [
    "Видим, что на протяжении всего теста выручка увеличивается. Также видим, что группа В показываает значительно лучшие результаты. Возможно, из-за наличия дорогих заказов в выборке. Далее посмотрим на средний чек по группам.\n"
   ]
  },
  {
   "cell_type": "markdown",
   "metadata": {},
   "source": [
    "### Построим график кумулятивного среднего чека по группам"
   ]
  },
  {
   "cell_type": "code",
   "execution_count": 12,
   "metadata": {},
   "outputs": [
    {
     "data": {
      "image/png": "[encoded data removed]",
      "text/plain": [
       "<Figure size 1080x360 with 1 Axes>"
      ]
     },
     "metadata": {
      "needs_background": "light"
     },
     "output_type": "display_data"
    }
   ],
   "source": [
    "plt.plot(cumulativeRevenueA['date'], cumulativeRevenueA['revenue']/cumulativeRevenueA['orders'], label='A')\n",
    "plt.plot(cumulativeRevenueB['date'], cumulativeRevenueB['revenue']/cumulativeRevenueB['orders'], label='B')\n",
    "plt.xticks(rotation=45, ha='right')\n",
    "plt.title(\"Кумулятивная выручка среднего чека по группам\")\n",
    "plt.xlabel(\"Дата\")\n",
    "plt.ylabel(\"Выручка среднего чека\")\n",
    "plt.legend() \n",
    "rcParams['figure.figsize'] = 15, 5"
   ]
  },
  {
   "cell_type": "markdown",
   "metadata": {},
   "source": [
    "На графике видим нестабильное распределение выручки среднего чека и резкий подъем 17.08.2012 для группы В. Это может быть связано с тем, что в группу В на середине теста попали особо крупные заказы. "
   ]
  },
  {
   "cell_type": "markdown",
   "metadata": {},
   "source": [
    "### Построим график относительного изменения кумулятивного среднего чека группы B к группе A"
   ]
  },
  {
   "cell_type": "code",
   "execution_count": 13,
   "metadata": {},
   "outputs": [
    {
     "data": {
      "image/png": "[encoded data removed]",
      "text/plain": [
       "<Figure size 1080x360 with 1 Axes>"
      ]
     },
     "metadata": {
      "needs_background": "light"
     },
     "output_type": "display_data"
    }
   ],
   "source": [
    "# собираем данные в одном датафрейме\n",
    "mergedCumulativeRevenue = cumulativeRevenueA.merge(cumulativeRevenueB, left_on='date', right_on='date', how='left', suffixes=['A', 'B'])\n",
    "\n",
    "# cтроим отношение средних чеков\n",
    "plt.plot(mergedCumulativeRevenue['date'], (mergedCumulativeRevenue['revenueB']/mergedCumulativeRevenue['ordersB'])/(mergedCumulativeRevenue['revenueA']/mergedCumulativeRevenue['ordersA'])-1)\n",
    "\n",
    "# добавляем ось X\n",
    "plt.axhline(y=0, color='black', linestyle='--') \n",
    "plt.xticks(rotation=45, ha='right')\n",
    "plt.title(\"Относительное изменение кумулятивного среднего чека группы B к группе A\")\n",
    "plt.xlabel(\"Дата\")\n",
    "plt.ylabel(\"Доля изменения\")\n",
    "rcParams['figure.figsize'] = 15, 5"
   ]
  },
  {
   "cell_type": "markdown",
   "metadata": {},
   "source": [
    "График сильно скачет, наверняка дело в крупных и дорогих заказах, что мы проверим на следующих шагах. "
   ]
  },
  {
   "cell_type": "markdown",
   "metadata": {},
   "source": [
    "### Построим график кумулятивной конверсии по группам."
   ]
  },
  {
   "cell_type": "code",
   "execution_count": 14,
   "metadata": {},
   "outputs": [
    {
     "data": {
      "image/png": "[encoded data removed]",
      "text/plain": [
       "<Figure size 1080x360 with 1 Axes>"
      ]
     },
     "metadata": {
      "needs_background": "light"
     },
     "output_type": "display_data"
    }
   ],
   "source": [
    "# считаем кумулятивную конверсию\n",
    "cumulativeData['conversion'] = cumulativeData['orders']/cumulativeData['visitors']\n",
    "\n",
    "# отделяем данные по группе A\n",
    "cumulativeDataA = cumulativeData[cumulativeData['group']=='A']\n",
    "\n",
    "# отделяем данные по группе B\n",
    "cumulativeDataB = cumulativeData[cumulativeData['group']=='B']\n",
    "\n",
    "# строим графики\n",
    "plt.plot(cumulativeDataA['date'], cumulativeDataA['conversion'], label='A')\n",
    "plt.plot(cumulativeDataB['date'], cumulativeDataB['conversion'], label='B')\n",
    "plt.legend()\n",
    "\n",
    "# задаем масштаб осей\n",
    "plt.axis([dt.datetime(2019, 8, 1), dt.datetime(2019, 9, 1), 0, 0.05])\n",
    "plt.xticks(rotation=45, ha='right')\n",
    "plt.title(\"Кумулятивная конверсия по группам\")\n",
    "plt.xlabel(\"Дата\")\n",
    "plt.ylabel(\"Конверсия\")\n",
    "plt.legend() \n",
    "rcParams['figure.figsize'] = 15, 5"
   ]
  },
  {
   "cell_type": "markdown",
   "metadata": {},
   "source": [
    "Видим небольшое колебание в начале теста, далее конверсия группы В выходит вперед и удерживается выше, чем группа А. "
   ]
  },
  {
   "cell_type": "markdown",
   "metadata": {},
   "source": [
    "### Построим график относительного изменения кумулятивной конверсии группы B к группе A."
   ]
  },
  {
   "cell_type": "code",
   "execution_count": 15,
   "metadata": {},
   "outputs": [
    {
     "data": {
      "image/png": "[encoded data removed]",
      "text/plain": [
       "<Figure size 1080x360 with 1 Axes>"
      ]
     },
     "metadata": {
      "needs_background": "light"
     },
     "output_type": "display_data"
    }
   ],
   "source": [
    "mergedCumulativeConversions = cumulativeDataA[['date','conversion']].merge(cumulativeDataB[['date','conversion']], left_on='date', right_on='date', how='left', suffixes=['A', 'B'])\n",
    "\n",
    "plt.plot(mergedCumulativeConversions['date'], mergedCumulativeConversions['conversionB']/mergedCumulativeConversions['conversionA']-1)\n",
    "plt.axhline(y=0, color='black', linestyle='--')\n",
    "plt.axhline(y=0.1, color='grey', linestyle='--')\n",
    "plt.xticks(rotation=45, ha='right')\n",
    "plt.title(\"Относительное изменение кумулятивной конверсии группы B к группе A\")\n",
    "plt.xlabel(\"Дата\")\n",
    "plt.ylabel(\"Доля изменения\")\n",
    "rcParams['figure.figsize'] = 15, 5"
   ]
  },
  {
   "cell_type": "markdown",
   "metadata": {},
   "source": [
    "Видим, что конверсия группы В явно лучше группы А. Далее будем анализировать аномалии и выбросы, чтобы удостовериться в результатах. "
   ]
  },
  {
   "cell_type": "markdown",
   "metadata": {},
   "source": [
    "### Построим точечный график количества заказов по пользователям."
   ]
  },
  {
   "cell_type": "code",
   "execution_count": 16,
   "metadata": {},
   "outputs": [
    {
     "data": {
      "text/html": [
       "<div>\n",
       "<style scoped>\n",
       "    .dataframe tbody tr th:only-of-type {\n",
       "        vertical-align: middle;\n",
       "    }\n",
       "\n",
       "    .dataframe tbody tr th {\n",
       "        vertical-align: top;\n",
       "    }\n",
       "\n",
       "    .dataframe thead th {\n",
       "        text-align: right;\n",
       "    }\n",
       "</style>\n",
       "<table border=\"1\" class=\"dataframe\">\n",
       "  <thead>\n",
       "    <tr style=\"text-align: right;\">\n",
       "      <th></th>\n",
       "      <th>visitor_id</th>\n",
       "      <th>transaction_id</th>\n",
       "    </tr>\n",
       "  </thead>\n",
       "  <tbody>\n",
       "    <tr>\n",
       "      <th>1023</th>\n",
       "      <td>4256040402</td>\n",
       "      <td>11</td>\n",
       "    </tr>\n",
       "    <tr>\n",
       "      <th>591</th>\n",
       "      <td>2458001652</td>\n",
       "      <td>11</td>\n",
       "    </tr>\n",
       "    <tr>\n",
       "      <th>569</th>\n",
       "      <td>2378935119</td>\n",
       "      <td>9</td>\n",
       "    </tr>\n",
       "    <tr>\n",
       "      <th>487</th>\n",
       "      <td>2038680547</td>\n",
       "      <td>8</td>\n",
       "    </tr>\n",
       "    <tr>\n",
       "      <th>44</th>\n",
       "      <td>199603092</td>\n",
       "      <td>5</td>\n",
       "    </tr>\n",
       "    <tr>\n",
       "      <th>744</th>\n",
       "      <td>3062433592</td>\n",
       "      <td>5</td>\n",
       "    </tr>\n",
       "    <tr>\n",
       "      <th>55</th>\n",
       "      <td>237748145</td>\n",
       "      <td>5</td>\n",
       "    </tr>\n",
       "    <tr>\n",
       "      <th>917</th>\n",
       "      <td>3803269165</td>\n",
       "      <td>5</td>\n",
       "    </tr>\n",
       "    <tr>\n",
       "      <th>299</th>\n",
       "      <td>1230306981</td>\n",
       "      <td>5</td>\n",
       "    </tr>\n",
       "    <tr>\n",
       "      <th>897</th>\n",
       "      <td>3717692402</td>\n",
       "      <td>5</td>\n",
       "    </tr>\n",
       "  </tbody>\n",
       "</table>\n",
       "</div>"
      ],
      "text/plain": [
       "      visitor_id  transaction_id\n",
       "1023  4256040402              11\n",
       "591   2458001652              11\n",
       "569   2378935119               9\n",
       "487   2038680547               8\n",
       "44     199603092               5\n",
       "744   3062433592               5\n",
       "55     237748145               5\n",
       "917   3803269165               5\n",
       "299   1230306981               5\n",
       "897   3717692402               5"
      ]
     },
     "execution_count": 16,
     "metadata": {},
     "output_type": "execute_result"
    }
   ],
   "source": [
    "ordersByUsers = (\n",
    "    orders.groupby('visitor_id', as_index=False)\n",
    "    .agg({'transaction_id': 'nunique'})\n",
    "    .sort_values(by='transaction_id', ascending=False)\n",
    ")\n",
    "ordersByUsers.head(10)"
   ]
  },
  {
   "cell_type": "code",
   "execution_count": 17,
   "metadata": {},
   "outputs": [
    {
     "data": {
      "image/png": "[encoded data removed]",
      "text/plain": [
       "<Figure size 1080x360 with 1 Axes>"
      ]
     },
     "metadata": {
      "needs_background": "light"
     },
     "output_type": "display_data"
    }
   ],
   "source": [
    "x_values = pd.Series(range(0,len(ordersByUsers)))\n",
    "\n",
    "plt.scatter(x_values, ordersByUsers['transaction_id']) \n",
    "plt.title(\"Точечный график количества заказов по пользователям\")\n",
    "plt.xlabel(\"Покупатели\")\n",
    "plt.ylabel(\"Количество заказов\")\n",
    "rcParams['figure.figsize'] = 15, 5"
   ]
  },
  {
   "cell_type": "markdown",
   "metadata": {},
   "source": [
    "Большинство пользователей совершают по 1-2 заказу, также видим выбросы, есть пользователи, который совершают больше 10-ти заказов. "
   ]
  },
  {
   "cell_type": "markdown",
   "metadata": {},
   "source": [
    "### Посчитаем 95-й и 99-й перцентили количества заказов на пользователя. Выберем границу для определения аномальных пользователей."
   ]
  },
  {
   "cell_type": "code",
   "execution_count": 18,
   "metadata": {},
   "outputs": [
    {
     "data": {
      "text/plain": [
       "array([2., 4.])"
      ]
     },
     "metadata": {},
     "output_type": "display_data"
    }
   ],
   "source": [
    "display(np.percentile(ordersByUsers['transaction_id'], [95, 99]))"
   ]
  },
  {
   "cell_type": "markdown",
   "metadata": {},
   "source": [
    "Не более 5% пользователей оформляли больше чем 2 заказа. И 1% пользователей заказывали более четырех раз.\n",
    "\n",
    " Выберем границу в 2 заказа для определения аномальных пользователей."
   ]
  },
  {
   "cell_type": "markdown",
   "metadata": {},
   "source": [
    "### Построим точечный график стоимостей заказов"
   ]
  },
  {
   "cell_type": "code",
   "execution_count": 19,
   "metadata": {},
   "outputs": [
    {
     "data": {
      "image/png": "[encoded data removed]",
      "text/plain": [
       "<Figure size 1080x360 with 1 Axes>"
      ]
     },
     "metadata": {
      "needs_background": "light"
     },
     "output_type": "display_data"
    }
   ],
   "source": [
    "x_values = pd.Series(range(0,len(orders['revenue'])))\n",
    "plt.scatter(x_values, orders['revenue']) \n",
    "plt.title(\"Точечный график стоимостей заказов\")\n",
    "plt.xlabel(\"Покупатели\")\n",
    "plt.ylabel(\"Стоимость заказов\")\n",
    "rcParams['figure.figsize'] = 15, 5"
   ]
  },
  {
   "cell_type": "markdown",
   "metadata": {},
   "source": [
    "На графике видим несколько аномальных выбросов - особо дорогих заказов, в основном все распределение приходится примерно до 20 000 рублей. "
   ]
  },
  {
   "cell_type": "markdown",
   "metadata": {},
   "source": [
    "Посмотрим ближе на распределение строимостей заказов для более наглядного отображения."
   ]
  },
  {
   "cell_type": "code",
   "execution_count": 20,
   "metadata": {},
   "outputs": [
    {
     "data": {
      "image/png": "[encoded data removed]",
      "text/plain": [
       "<Figure size 1080x360 with 1 Axes>"
      ]
     },
     "metadata": {
      "needs_background": "light"
     },
     "output_type": "display_data"
    }
   ],
   "source": [
    "x_values = pd.Series(range(0,len(orders['revenue'])))\n",
    "plt.scatter(x_values, orders['revenue']) \n",
    "plt.title(\"Точечный график стоимостей заказов\")\n",
    "plt.xlabel(\"Покупатели\")\n",
    "plt.ylabel(\"Стоимость заказов\")\n",
    "rcParams['figure.figsize'] = 15, 5\n",
    "plt.ylim(0, 50000)\n",
    "plt.show()"
   ]
  },
  {
   "cell_type": "markdown",
   "metadata": {},
   "source": [
    "На точечной диаграмме рассеивания видим, что большая часть заказов имеет стоимость не более 20 000 рублей, а подавляющее большинсво заказов стоят в районе 5 000 рублей. "
   ]
  },
  {
   "cell_type": "markdown",
   "metadata": {},
   "source": [
    "### Посчитаем 95-й и 99-й перцентили стоимости заказов. Выберем границу для определения аномальных заказов."
   ]
  },
  {
   "cell_type": "code",
   "execution_count": 21,
   "metadata": {},
   "outputs": [
    {
     "data": {
      "text/plain": [
       "array([28000. , 58233.2])"
      ]
     },
     "metadata": {},
     "output_type": "display_data"
    }
   ],
   "source": [
    "display(np.percentile(orders['revenue'], [95, 99]))"
   ]
  },
  {
   "cell_type": "markdown",
   "metadata": {},
   "source": [
    "Не более 5% заказов дороже 28 000 рублей и не более 1% дороже 58 233 рублей.\n",
    "\n",
    "Выберем границу в 28 000 рублей для определения аномальных пользователей."
   ]
  },
  {
   "cell_type": "markdown",
   "metadata": {},
   "source": [
    "### Посчитаем статистическую значимость различий в конверсии между группами по «сырым» данным."
   ]
  },
  {
   "cell_type": "markdown",
   "metadata": {},
   "source": [
    "Проверим, есть ли пользователи, которые учавствовали в обоих группах одновременно."
   ]
  },
  {
   "cell_type": "code",
   "execution_count": 22,
   "metadata": {},
   "outputs": [],
   "source": [
    "test = orders[['visitor_id', 'group']]\n",
    "groupA = test.query('group == \"A\"')\n",
    "groupB = test.query('group == \"B\"')"
   ]
  },
  {
   "cell_type": "code",
   "execution_count": 23,
   "metadata": {},
   "outputs": [
    {
     "name": "stdout",
     "output_type": "stream",
     "text": [
      "Количество пользователей, учавствовавших в обоих группах: 89\n"
     ]
    }
   ],
   "source": [
    "print(\"Количество пользователей, учавствовавших в обоих группах:\", (groupA['visitor_id']).isin(groupB['visitor_id']).sum())"
   ]
  },
  {
   "cell_type": "markdown",
   "metadata": {},
   "source": [
    "Удалим из анализа пользователей, которые оказались в обоих группах, так как мы не можем с уверенностью сказать какая именно версия страницы повлияла на их решения."
   ]
  },
  {
   "cell_type": "code",
   "execution_count": 24,
   "metadata": {},
   "outputs": [],
   "source": [
    "duplicates = orders.loc[orders['group'] == 'A', 'visitor_id'].isin(orders.loc[orders['group'] == 'B', 'visitor_id'])\n",
    "orders = orders.drop(duplicates[duplicates].index)"
   ]
  },
  {
   "cell_type": "markdown",
   "metadata": {},
   "source": [
    "Сформулируем гипотезы:\n",
    "\n",
    "`Нулевая:` различий в среднем количестве заказов между группами по сырым данным нет. \n",
    "\n",
    "`Альтернативная:` различия в среднем между группами по сырым данным есть."
   ]
  },
  {
   "cell_type": "code",
   "execution_count": 25,
   "metadata": {},
   "outputs": [
    {
     "data": {
      "text/html": [
       "<div>\n",
       "<style scoped>\n",
       "    .dataframe tbody tr th:only-of-type {\n",
       "        vertical-align: middle;\n",
       "    }\n",
       "\n",
       "    .dataframe tbody tr th {\n",
       "        vertical-align: top;\n",
       "    }\n",
       "\n",
       "    .dataframe thead th {\n",
       "        text-align: right;\n",
       "    }\n",
       "</style>\n",
       "<table border=\"1\" class=\"dataframe\">\n",
       "  <thead>\n",
       "    <tr style=\"text-align: right;\">\n",
       "      <th></th>\n",
       "      <th>date</th>\n",
       "      <th>ordersPerDateA</th>\n",
       "      <th>revenuePerDateA</th>\n",
       "      <th>ordersPerDateB</th>\n",
       "      <th>revenuePerDateB</th>\n",
       "      <th>ordersCummulativeA</th>\n",
       "      <th>revenueCummulativeA</th>\n",
       "      <th>ordersCummulativeB</th>\n",
       "      <th>revenueCummulativeB</th>\n",
       "      <th>visitorsPerDateA</th>\n",
       "      <th>visitorsPerDateB</th>\n",
       "      <th>visitorsCummulativeA</th>\n",
       "      <th>visitorsCummulativeB</th>\n",
       "    </tr>\n",
       "  </thead>\n",
       "  <tbody>\n",
       "    <tr>\n",
       "      <th>0</th>\n",
       "      <td>2019-08-01</td>\n",
       "      <td>23</td>\n",
       "      <td>142779</td>\n",
       "      <td>21</td>\n",
       "      <td>101217</td>\n",
       "      <td>23</td>\n",
       "      <td>142779</td>\n",
       "      <td>21</td>\n",
       "      <td>101217</td>\n",
       "      <td>719</td>\n",
       "      <td>713</td>\n",
       "      <td>719</td>\n",
       "      <td>713</td>\n",
       "    </tr>\n",
       "    <tr>\n",
       "      <th>1</th>\n",
       "      <td>2019-08-02</td>\n",
       "      <td>19</td>\n",
       "      <td>91602</td>\n",
       "      <td>24</td>\n",
       "      <td>165531</td>\n",
       "      <td>42</td>\n",
       "      <td>234381</td>\n",
       "      <td>45</td>\n",
       "      <td>266748</td>\n",
       "      <td>619</td>\n",
       "      <td>581</td>\n",
       "      <td>1338</td>\n",
       "      <td>1294</td>\n",
       "    </tr>\n",
       "    <tr>\n",
       "      <th>2</th>\n",
       "      <td>2019-08-03</td>\n",
       "      <td>24</td>\n",
       "      <td>112473</td>\n",
       "      <td>16</td>\n",
       "      <td>114248</td>\n",
       "      <td>66</td>\n",
       "      <td>346854</td>\n",
       "      <td>61</td>\n",
       "      <td>380996</td>\n",
       "      <td>507</td>\n",
       "      <td>509</td>\n",
       "      <td>1845</td>\n",
       "      <td>1803</td>\n",
       "    </tr>\n",
       "    <tr>\n",
       "      <th>3</th>\n",
       "      <td>2019-08-04</td>\n",
       "      <td>11</td>\n",
       "      <td>41176</td>\n",
       "      <td>17</td>\n",
       "      <td>108571</td>\n",
       "      <td>77</td>\n",
       "      <td>388030</td>\n",
       "      <td>78</td>\n",
       "      <td>489567</td>\n",
       "      <td>717</td>\n",
       "      <td>770</td>\n",
       "      <td>2562</td>\n",
       "      <td>2573</td>\n",
       "    </tr>\n",
       "    <tr>\n",
       "      <th>4</th>\n",
       "      <td>2019-08-05</td>\n",
       "      <td>22</td>\n",
       "      <td>86383</td>\n",
       "      <td>23</td>\n",
       "      <td>92428</td>\n",
       "      <td>99</td>\n",
       "      <td>474413</td>\n",
       "      <td>101</td>\n",
       "      <td>581995</td>\n",
       "      <td>756</td>\n",
       "      <td>707</td>\n",
       "      <td>3318</td>\n",
       "      <td>3280</td>\n",
       "    </tr>\n",
       "  </tbody>\n",
       "</table>\n",
       "</div>"
      ],
      "text/plain": [
       "        date  ordersPerDateA  revenuePerDateA  ordersPerDateB  \\\n",
       "0 2019-08-01              23           142779              21   \n",
       "1 2019-08-02              19            91602              24   \n",
       "2 2019-08-03              24           112473              16   \n",
       "3 2019-08-04              11            41176              17   \n",
       "4 2019-08-05              22            86383              23   \n",
       "\n",
       "   revenuePerDateB  ordersCummulativeA  revenueCummulativeA  \\\n",
       "0           101217                  23               142779   \n",
       "1           165531                  42               234381   \n",
       "2           114248                  66               346854   \n",
       "3           108571                  77               388030   \n",
       "4            92428                  99               474413   \n",
       "\n",
       "   ordersCummulativeB  revenueCummulativeB  visitorsPerDateA  \\\n",
       "0                  21               101217               719   \n",
       "1                  45               266748               619   \n",
       "2                  61               380996               507   \n",
       "3                  78               489567               717   \n",
       "4                 101               581995               756   \n",
       "\n",
       "   visitorsPerDateB  visitorsCummulativeA  visitorsCummulativeB  \n",
       "0               713                   719                   713  \n",
       "1               581                  1338                  1294  \n",
       "2               509                  1845                  1803  \n",
       "3               770                  2562                  2573  \n",
       "4               707                  3318                  3280  "
      ]
     },
     "metadata": {},
     "output_type": "display_data"
    },
    {
     "name": "stdout",
     "output_type": "stream",
     "text": [
      "P-value: 0.00002\n",
      "Относительный прирост конверсии группы B по отношению к группе A: 0.355\n"
     ]
    }
   ],
   "source": [
    "visitorsADaily = visitors[visitors['group'] == 'A'][['date', 'visitors']]\n",
    "visitorsADaily.columns = ['date', 'visitorsPerDateA']\n",
    "\n",
    "visitorsACummulative = visitorsADaily.apply(\n",
    "    lambda x: visitorsADaily[visitorsADaily['date'] <= x['date']].agg(\n",
    "        {'date': 'max', 'visitorsPerDateA': 'sum'}\n",
    "    ),\n",
    "    axis=1,\n",
    ")\n",
    "visitorsACummulative.columns = ['date', 'visitorsCummulativeA']\n",
    "\n",
    "visitorsBDaily = visitors[visitors['group'] == 'B'][['date', 'visitors']]\n",
    "visitorsBDaily.columns = ['date', 'visitorsPerDateB']\n",
    "\n",
    "visitorsBCummulative = visitorsBDaily.apply(\n",
    "    lambda x: visitorsBDaily[visitorsBDaily['date'] <= x['date']].agg(\n",
    "        {'date': 'max', 'visitorsPerDateB': 'sum'}\n",
    "    ),\n",
    "    axis=1,\n",
    ")\n",
    "visitorsBCummulative.columns = ['date', 'visitorsCummulativeB']\n",
    "\n",
    "ordersADaily = (\n",
    "    orders[orders['group'] == 'A'][['date', 'transaction_id', 'visitor_id', 'revenue']]\n",
    "    .groupby('date', as_index=False)\n",
    "    .agg({'transaction_id': pd.Series.nunique, 'revenue': 'sum'})\n",
    ")\n",
    "ordersADaily.columns = ['date', 'ordersPerDateA', 'revenuePerDateA']\n",
    "\n",
    "ordersACummulative = ordersADaily.apply(\n",
    "    lambda x: ordersADaily[ordersADaily['date'] <= x['date']].agg(\n",
    "        {'date': 'max', 'ordersPerDateA': 'sum', 'revenuePerDateA': 'sum'}\n",
    "    ),\n",
    "    axis=1,\n",
    ").sort_values(by=['date'])\n",
    "ordersACummulative.columns = [\n",
    "    'date',\n",
    "    'ordersCummulativeA',\n",
    "    'revenueCummulativeA',\n",
    "]\n",
    "\n",
    "ordersBDaily = (\n",
    "    orders[orders['group'] == 'B'][['date', 'transaction_id', 'visitor_id', 'revenue']]\n",
    "    .groupby('date', as_index=False)\n",
    "    .agg({'transaction_id': pd.Series.nunique, 'revenue': 'sum'})\n",
    ")\n",
    "ordersBDaily.columns = ['date', 'ordersPerDateB', 'revenuePerDateB']\n",
    "\n",
    "ordersBCummulative = ordersBDaily.apply(\n",
    "    lambda x: ordersBDaily[ordersBDaily['date'] <= x['date']].agg(\n",
    "        {'date': 'max', 'ordersPerDateB': 'sum', 'revenuePerDateB': 'sum'}\n",
    "    ),\n",
    "    axis=1,\n",
    ").sort_values(by=['date'])\n",
    "ordersBCummulative.columns = [\n",
    "    'date',\n",
    "    'ordersCummulativeB',\n",
    "    'revenueCummulativeB',\n",
    "]\n",
    "\n",
    "data = (\n",
    "    ordersADaily.merge(\n",
    "        ordersBDaily, left_on='date', right_on='date', how='left'\n",
    "    )\n",
    "    .merge(ordersACummulative, left_on='date', right_on='date', how='left')\n",
    "    .merge(ordersBCummulative, left_on='date', right_on='date', how='left')\n",
    "    .merge(visitorsADaily, left_on='date', right_on='date', how='left')\n",
    "    .merge(visitorsBDaily, left_on='date', right_on='date', how='left')\n",
    "    .merge(visitorsACummulative, left_on='date', right_on='date', how='left')\n",
    "    .merge(visitorsBCummulative, left_on='date', right_on='date', how='left')\n",
    ")\n",
    "\n",
    "display(data.head(5))\n",
    "\n",
    "ordersByUsersA = (\n",
    "    orders[orders['group'] == 'A']\n",
    "    .groupby('visitor_id', as_index=False)\n",
    "    .agg({'transaction_id': pd.Series.nunique})\n",
    ")\n",
    "ordersByUsersA.columns = ['visitor_id', 'orders']\n",
    "\n",
    "ordersByUsersB = (\n",
    "    orders[orders['group'] == 'B']\n",
    "    .groupby('visitor_id', as_index=False)\n",
    "    .agg({'transaction_id': pd.Series.nunique})\n",
    ")\n",
    "ordersByUsersB.columns = ['visitor_id', 'orders'] \n",
    "pd.Series(0, index=np.arange(data['visitorsPerDateA'].sum() - len(ordersByUsersA['orders'])), name='orders')\n",
    "[ordersByUsersA['orders'],pd.Series(0, index=np.arange(data['visitorsPerDateA'].sum() - len(ordersByUsersA['orders'])), name='orders')]\n",
    "\n",
    "sampleA = pd.concat([ordersByUsersA['orders'],pd.Series(0, index=np.arange(data['visitorsPerDateA'].sum() - len(ordersByUsersA['orders'])), name='orders')],axis=0)\n",
    "\n",
    "sampleB = pd.concat([ordersByUsersB['orders'],pd.Series(0, index=np.arange(data['visitorsPerDateB'].sum() - len(ordersByUsersB['orders'])), name='orders')],axis=0)\n",
    "\n",
    "ordersByUsersA = (\n",
    "    orders[orders['group'] == 'A']\n",
    "    .groupby('visitor_id', as_index=False)\n",
    "    .agg({'transaction_id': pd.Series.nunique})\n",
    ")\n",
    "ordersByUsersA.columns = ['visitor_id', 'orders']\n",
    "\n",
    "ordersByUsersB = (\n",
    "    orders[orders['group'] == 'B']\n",
    "    .groupby('visitor_id', as_index=False)\n",
    "    .agg({'transaction_id': pd.Series.nunique})\n",
    ")\n",
    "ordersByUsersB.columns = ['visitor_id', 'orders']\n",
    "\n",
    "sampleA = pd.concat(\n",
    "    [\n",
    "        ordersByUsersA['orders'],\n",
    "        pd.Series(\n",
    "            0,\n",
    "            index=np.arange(\n",
    "                data['visitorsPerDateA'].sum() - len(ordersByUsersA['orders'])\n",
    "            ),\n",
    "            name='orders',\n",
    "        ),\n",
    "    ],\n",
    "    axis=0,\n",
    ")\n",
    "\n",
    "sampleB = pd.concat(\n",
    "    [\n",
    "        ordersByUsersB['orders'],\n",
    "        pd.Series(\n",
    "            0,\n",
    "            index=np.arange(\n",
    "                data['visitorsPerDateB'].sum() - len(ordersByUsersB['orders'])\n",
    "            ),\n",
    "            name='orders',\n",
    "        ),\n",
    "    ],\n",
    "    axis=0,\n",
    ")\n",
    "\n",
    "print(\"P-value: \"\"{0:.5f}\".format(stats.mannwhitneyu(sampleA, sampleB)[1]))\n",
    "\n",
    "print(\"Относительный прирост конверсии группы B по отношению к группе A: \" \"{0:.3f}\".format(sampleB.mean() / sampleA.mean() - 1))\n",
    " "
   ]
  },
  {
   "cell_type": "markdown",
   "metadata": {},
   "source": [
    "Анализ сырых данных сообщает, что в количестве заказов меду группами есть статистически значимые различия. Относительный прирост конверсии группы B по отношению к группе A равен 0.138. P-value меньше alpha - 0.05, поэтому имеем основания отвергнуть нудевую гипотезу."
   ]
  },
  {
   "cell_type": "markdown",
   "metadata": {},
   "source": [
    "### Посчитаем статистическую значимость различий в среднем чеке заказа между группами по «сырым» данным."
   ]
  },
  {
   "cell_type": "markdown",
   "metadata": {},
   "source": [
    "Сформулируем гипотезы:\n",
    "\n",
    "`Нулевая:` различий в среднем чеке заказа между группами по сырым данным нет.\n",
    "\n",
    "`Альтернативная:` различия среднем чеке заказа между группами по сырым данным есть."
   ]
  },
  {
   "cell_type": "code",
   "execution_count": 26,
   "metadata": {},
   "outputs": [
    {
     "name": "stdout",
     "output_type": "stream",
     "text": [
      "Относительное изменение среднего чека в группе B по отношению группы A: 0.765\n",
      "P-value: 0.284\n"
     ]
    }
   ],
   "source": [
    "print(\"Относительное изменение среднего чека в группе B по отношению группы A: \"'{0:.3f}'.format(stats.mannwhitneyu(orders[orders['group']=='A']['revenue'], orders[orders['group']=='B']['revenue'])[1]))\n",
    "print(\"P-value: \"'{0:.3f}'.format(orders[orders['group']=='B']['revenue'].mean()/orders[orders['group']=='A']['revenue'].mean()-1)) "
   ]
  },
  {
   "cell_type": "markdown",
   "metadata": {},
   "source": [
    "P-value больше 0.05, соответственно, можем сделать вывод, что статистически значимых изменений в среднем чеке между группами нет. Относительное различие среднего чека составляет 7.2%"
   ]
  },
  {
   "cell_type": "markdown",
   "metadata": {},
   "source": [
    "### Посчитаем статистическую значимость различий в конверсии между группами по «очищенным» данным."
   ]
  },
  {
   "cell_type": "markdown",
   "metadata": {},
   "source": [
    "Сначала проверим сколько аномальных пользвоателей не входит в установленные границы: не более двух заказов и сумма заказа не более 28 000 руб."
   ]
  },
  {
   "cell_type": "code",
   "execution_count": 27,
   "metadata": {},
   "outputs": [
    {
     "name": "stdout",
     "output_type": "stream",
     "text": [
      "Количество аномальных пользователей: 68\n"
     ]
    }
   ],
   "source": [
    "ordersByUsersA = (\n",
    "    orders[orders['group'] == 'A']\n",
    "    .groupby('visitor_id', as_index=False)\n",
    "    .agg({'transaction_id': pd.Series.nunique})\n",
    ")\n",
    "ordersByUsersA.columns = ['visitor_id', 'orders']\n",
    "\n",
    "ordersByUsersB = (\n",
    "    orders[orders['group'] == 'B']\n",
    "    .groupby('visitor_id', as_index=False)\n",
    "    .agg({'transaction_id': pd.Series.nunique})\n",
    ")\n",
    "ordersByUsersB.columns = ['visitor_id', 'orders']\n",
    "\n",
    "\n",
    "usersWithManyOrders = pd.concat(\n",
    "    [\n",
    "        ordersByUsersA[ordersByUsersA['orders'] > 2]['visitor_id'],\n",
    "        ordersByUsersB[ordersByUsersB['orders'] > 2]['visitor_id'],\n",
    "    ],\n",
    "    axis=0,\n",
    ")\n",
    "usersWithExpensiveOrders = orders[orders['revenue'] > 28000]['visitor_id']\n",
    "abnormalUsers = (\n",
    "    pd.concat([usersWithManyOrders, usersWithExpensiveOrders], axis=0)\n",
    "    .drop_duplicates()\n",
    "    .sort_values()\n",
    ")\n",
    "print('Количество аномальных пользователей:',len(abnormalUsers))\n"
   ]
  },
  {
   "cell_type": "markdown",
   "metadata": {},
   "source": [
    "Далее сформируем гипотезы и посчитаем статистическую значимость различия среднего количества заказов после удаления аномальных пользователей.\n",
    "\n",
    "`Нулевая:` различий в среднем количестве заказов между группами по отфильтрованным данным нет.\n",
    "\n",
    "`Альтернативная:` различия среднем количестве заказов между группами по отфильтрованным данным есть."
   ]
  },
  {
   "cell_type": "code",
   "execution_count": 28,
   "metadata": {},
   "outputs": [
    {
     "name": "stdout",
     "output_type": "stream",
     "text": [
      "P-value: 0.00006\n",
      "Относительный прирост конверсии группы B по отношению к группе A по очищенным данным: 0.307\n"
     ]
    }
   ],
   "source": [
    "sampleAFiltered = pd.concat(\n",
    "    [\n",
    "        ordersByUsersA[\n",
    "            np.logical_not(ordersByUsersA['visitor_id'].isin(abnormalUsers))\n",
    "        ]['orders'],\n",
    "        pd.Series(\n",
    "            0,\n",
    "            index=np.arange(\n",
    "                data['visitorsPerDateA'].sum() - len(ordersByUsersA['orders'])\n",
    "            ),\n",
    "            name='orders',\n",
    "        ),\n",
    "    ],\n",
    "    axis=0,\n",
    ")\n",
    "\n",
    "sampleBFiltered = pd.concat(\n",
    "    [\n",
    "        ordersByUsersB[\n",
    "            np.logical_not(ordersByUsersB['visitor_id'].isin(abnormalUsers))\n",
    "        ]['orders'],\n",
    "        pd.Series(\n",
    "            0,\n",
    "            index=np.arange(\n",
    "                data['visitorsPerDateB'].sum() - len(ordersByUsersB['orders'])\n",
    "            ),\n",
    "            name='orders',\n",
    "        ),\n",
    "    ],\n",
    "    axis=0,\n",
    ") \n",
    "\n",
    "print(\"P-value: \"'{0:.5f}'.format(stats.mannwhitneyu(sampleAFiltered, sampleBFiltered)[1]))\n",
    "print(\"Относительный прирост конверсии группы B по отношению к группе A по очищенным данным: \"'{0:.3f}'.format(sampleBFiltered.mean()/sampleAFiltered.mean()-1)) "
   ]
  },
  {
   "cell_type": "markdown",
   "metadata": {},
   "source": [
    "P-value меньше 0.05. На основании полученных данных делаем вывод, что разница в конверсии для групп А и В статистически значима."
   ]
  },
  {
   "cell_type": "markdown",
   "metadata": {},
   "source": [
    "### Посчитаем статистическую значимость различий в среднем чеке заказа между группами по «очищенным» данным."
   ]
  },
  {
   "cell_type": "markdown",
   "metadata": {},
   "source": [
    "Сформируем гипотезы:\n",
    "\n",
    "`Нулевая:` различий в среднем количестве заказов между группами по отфильтрованным данным нет.\n",
    "\n",
    "`Альтернативная:` различия среднем количестве заказов между группами по отфильтрованным данным есть."
   ]
  },
  {
   "cell_type": "code",
   "execution_count": 29,
   "metadata": {},
   "outputs": [
    {
     "name": "stdout",
     "output_type": "stream",
     "text": [
      "P-value:0.934\n",
      "Относительное изменение среднего чека в группе B по отношению группы A по очищенным данным:-0.002\n"
     ]
    }
   ],
   "source": [
    "print(\"P-value:\"\n",
    "    '{0:.3f}'.format(\n",
    "        stats.mannwhitneyu(\n",
    "            orders[\n",
    "                np.logical_and(\n",
    "                    orders['group'] == 'A',\n",
    "                    np.logical_not(orders['visitor_id'].isin(abnormalUsers)),\n",
    "                )\n",
    "            ]['revenue'],\n",
    "            orders[\n",
    "                np.logical_and(\n",
    "                    orders['group'] == 'B',\n",
    "                    np.logical_not(orders['visitor_id'].isin(abnormalUsers)),\n",
    "                )\n",
    "            ]['revenue'],\n",
    "        )[1]\n",
    "    )\n",
    ")\n",
    "\n",
    "print(\"Относительное изменение среднего чека в группе B по отношению группы A по очищенным данным:\"\n",
    "    \"{0:.3f}\".format(\n",
    "        orders[\n",
    "            np.logical_and(\n",
    "                orders['group'] == 'B',\n",
    "                np.logical_not(orders['visitor_id'].isin(abnormalUsers)),\n",
    "            )\n",
    "        ]['revenue'].mean()\n",
    "        / orders[\n",
    "            np.logical_and(\n",
    "                orders['group'] == 'A',\n",
    "                np.logical_not(orders['visitor_id'].isin(abnormalUsers)),\n",
    "            )\n",
    "        ]['revenue'].mean()\n",
    "        - 1\n",
    "    )\n",
    ") "
   ]
  },
  {
   "cell_type": "markdown",
   "metadata": {},
   "source": [
    "После очистки данных P-value показал значение 0.738, выше уровня alpha.делаем вывод, что разничий в средних чеках для групп А и В нет."
   ]
  },
  {
   "cell_type": "markdown",
   "metadata": {},
   "source": [
    "### Примимаем решение по результатам теста"
   ]
  },
  {
   "cell_type": "markdown",
   "metadata": {},
   "source": [
    "В ходе исследования мы ознакомились и предобработали данные, приоритизировали гипотезы с помощью фреймворков ICE и RICE.\n",
    "\n",
    "В ходе анализа результатов А/В теста мы выявили:\n",
    "- Большинство пользователей совершают по 1-2 заказу, то также есть пользователи, который совершают больше 10-ти заказов.\n",
    "- Средняя стоимость всех заказов примерно до 20 000 рублей. \n",
    "- В ходе теста были пользователи, которые учавствовали в обоих группах одновременно, таких было 89 человек.\n",
    "- Кумулятивная выручка в группе В на протяжении всего теста  увеличивается по отношению к группе А.\n",
    "- Относительный прирост конверсии группы B по отношению к группе A составил 13%.\n",
    "- На протяжении всего теста лидировала группа В по комулятивной выручке, среднему чеку и конверсии. Также есть статистически значимое различие по конверсии между группами как по сырым данным, так и после фильтрации аномалий. \n",
    "\n",
    "По результатам анализа А/В теста можем прекратить тест и зафиксировать победу группы В."
   ]
  }
 ],
 "metadata": {
  "ExecuteTimeLog": [
   {
    "duration": 57,
    "start_time": "2022-06-21T14:07:42.685Z"
   },
   {
    "duration": 1463,
    "start_time": "2022-06-21T14:07:46.682Z"
   },
   {
    "duration": 368,
    "start_time": "2022-06-21T14:07:48.147Z"
   },
   {
    "duration": 44,
    "start_time": "2022-06-21T14:08:15.979Z"
   },
   {
    "duration": 26,
    "start_time": "2022-06-21T14:08:42.200Z"
   },
   {
    "duration": 18,
    "start_time": "2022-06-21T14:09:20.622Z"
   },
   {
    "duration": 96,
    "start_time": "2022-06-21T14:10:58.401Z"
   },
   {
    "duration": 20,
    "start_time": "2022-06-21T14:10:59.890Z"
   },
   {
    "duration": 26,
    "start_time": "2022-06-21T14:11:01.483Z"
   },
   {
    "duration": 19,
    "start_time": "2022-06-21T14:11:03.224Z"
   },
   {
    "duration": 13,
    "start_time": "2022-06-21T14:21:45.954Z"
   },
   {
    "duration": 16,
    "start_time": "2022-06-21T14:24:00.378Z"
   },
   {
    "duration": 84,
    "start_time": "2022-06-21T14:24:11.415Z"
   },
   {
    "duration": 7,
    "start_time": "2022-06-21T14:26:54.488Z"
   },
   {
    "duration": 7,
    "start_time": "2022-06-21T14:27:49.046Z"
   },
   {
    "duration": 19,
    "start_time": "2022-06-21T14:33:58.288Z"
   },
   {
    "duration": 12,
    "start_time": "2022-06-21T14:34:08.788Z"
   },
   {
    "duration": 10,
    "start_time": "2022-06-21T14:35:11.790Z"
   },
   {
    "duration": 16,
    "start_time": "2022-06-21T14:37:13.127Z"
   },
   {
    "duration": 4,
    "start_time": "2022-06-21T14:42:21.478Z"
   },
   {
    "duration": 9,
    "start_time": "2022-06-21T14:42:28.504Z"
   },
   {
    "duration": 10,
    "start_time": "2022-06-21T14:42:44.264Z"
   },
   {
    "duration": 11,
    "start_time": "2022-06-21T14:43:02.256Z"
   },
   {
    "duration": 51,
    "start_time": "2022-06-23T05:09:10.454Z"
   },
   {
    "duration": 1221,
    "start_time": "2022-06-23T05:09:17.372Z"
   },
   {
    "duration": 277,
    "start_time": "2022-06-23T05:09:18.595Z"
   },
   {
    "duration": 34,
    "start_time": "2022-06-23T05:09:18.875Z"
   },
   {
    "duration": 22,
    "start_time": "2022-06-23T05:09:18.910Z"
   },
   {
    "duration": 49,
    "start_time": "2022-06-23T05:09:18.935Z"
   },
   {
    "duration": 4,
    "start_time": "2022-06-23T05:09:18.986Z"
   },
   {
    "duration": 12,
    "start_time": "2022-06-23T05:09:18.992Z"
   },
   {
    "duration": 22,
    "start_time": "2022-06-23T05:09:19.006Z"
   },
   {
    "duration": 20,
    "start_time": "2022-06-23T05:09:19.030Z"
   },
   {
    "duration": 15,
    "start_time": "2022-06-23T05:09:19.051Z"
   },
   {
    "duration": 388,
    "start_time": "2022-06-23T09:59:20.293Z"
   },
   {
    "duration": 1078,
    "start_time": "2022-06-23T09:59:39.542Z"
   },
   {
    "duration": 129,
    "start_time": "2022-06-23T09:59:40.622Z"
   },
   {
    "duration": 34,
    "start_time": "2022-06-23T09:59:40.754Z"
   },
   {
    "duration": 38,
    "start_time": "2022-06-23T09:59:40.791Z"
   },
   {
    "duration": 24,
    "start_time": "2022-06-23T09:59:40.831Z"
   },
   {
    "duration": 4,
    "start_time": "2022-06-23T09:59:40.857Z"
   },
   {
    "duration": 16,
    "start_time": "2022-06-23T09:59:40.863Z"
   },
   {
    "duration": 15,
    "start_time": "2022-06-23T09:59:40.882Z"
   },
   {
    "duration": 12,
    "start_time": "2022-06-23T09:59:40.928Z"
   },
   {
    "duration": 305,
    "start_time": "2022-06-23T09:59:40.942Z"
   },
   {
    "duration": 14,
    "start_time": "2022-06-23T10:00:23.002Z"
   },
   {
    "duration": 35,
    "start_time": "2022-06-23T10:01:07.483Z"
   },
   {
    "duration": 202,
    "start_time": "2022-06-23T10:03:10.022Z"
   },
   {
    "duration": 167,
    "start_time": "2022-06-23T10:03:35.009Z"
   },
   {
    "duration": 312,
    "start_time": "2022-06-23T10:04:21.243Z"
   },
   {
    "duration": 180,
    "start_time": "2022-06-23T10:05:47.399Z"
   },
   {
    "duration": 261,
    "start_time": "2022-06-23T10:10:22.004Z"
   },
   {
    "duration": 164,
    "start_time": "2022-06-23T10:10:38.356Z"
   },
   {
    "duration": 308,
    "start_time": "2022-06-23T10:14:54.531Z"
   },
   {
    "duration": 217,
    "start_time": "2022-06-23T10:15:40.252Z"
   },
   {
    "duration": 304,
    "start_time": "2022-06-23T10:15:55.549Z"
   },
   {
    "duration": 290,
    "start_time": "2022-06-23T10:16:07.822Z"
   },
   {
    "duration": 347,
    "start_time": "2022-06-23T10:16:36.318Z"
   },
   {
    "duration": 319,
    "start_time": "2022-06-23T10:16:46.149Z"
   },
   {
    "duration": 254,
    "start_time": "2022-06-23T10:17:52.808Z"
   },
   {
    "duration": 401,
    "start_time": "2022-06-23T10:19:07.804Z"
   },
   {
    "duration": 310,
    "start_time": "2022-06-23T10:19:21.646Z"
   },
   {
    "duration": 319,
    "start_time": "2022-06-23T10:20:02.845Z"
   },
   {
    "duration": 331,
    "start_time": "2022-06-23T10:20:10.022Z"
   },
   {
    "duration": 380,
    "start_time": "2022-06-23T10:20:28.717Z"
   },
   {
    "duration": 7,
    "start_time": "2022-06-23T12:03:37.993Z"
   },
   {
    "duration": 1154,
    "start_time": "2022-06-23T12:04:38.509Z"
   },
   {
    "duration": 133,
    "start_time": "2022-06-23T12:04:39.665Z"
   },
   {
    "duration": 26,
    "start_time": "2022-06-23T12:04:39.799Z"
   },
   {
    "duration": 28,
    "start_time": "2022-06-23T12:04:39.827Z"
   },
   {
    "duration": 21,
    "start_time": "2022-06-23T12:04:39.857Z"
   },
   {
    "duration": 4,
    "start_time": "2022-06-23T12:04:39.880Z"
   },
   {
    "duration": 48,
    "start_time": "2022-06-23T12:04:39.886Z"
   },
   {
    "duration": 22,
    "start_time": "2022-06-23T12:04:39.939Z"
   },
   {
    "duration": 13,
    "start_time": "2022-06-23T12:04:39.963Z"
   },
   {
    "duration": 18,
    "start_time": "2022-06-23T12:04:39.980Z"
   },
   {
    "duration": 154,
    "start_time": "2022-06-23T12:04:40.001Z"
   },
   {
    "duration": 0,
    "start_time": "2022-06-23T12:04:40.157Z"
   },
   {
    "duration": 0,
    "start_time": "2022-06-23T12:04:40.159Z"
   },
   {
    "duration": 0,
    "start_time": "2022-06-23T12:04:40.160Z"
   },
   {
    "duration": 0,
    "start_time": "2022-06-23T12:04:40.162Z"
   },
   {
    "duration": 0,
    "start_time": "2022-06-23T12:04:40.163Z"
   },
   {
    "duration": 0,
    "start_time": "2022-06-23T12:04:40.164Z"
   },
   {
    "duration": 177,
    "start_time": "2022-06-23T12:05:53.312Z"
   },
   {
    "duration": 13,
    "start_time": "2022-06-23T12:07:27.619Z"
   },
   {
    "duration": 320,
    "start_time": "2022-06-23T12:11:43.904Z"
   },
   {
    "duration": 313,
    "start_time": "2022-06-23T12:12:22.612Z"
   },
   {
    "duration": 350,
    "start_time": "2022-06-23T12:13:25.632Z"
   },
   {
    "duration": 216,
    "start_time": "2022-06-23T12:13:39.644Z"
   },
   {
    "duration": 207,
    "start_time": "2022-06-23T12:13:45.845Z"
   },
   {
    "duration": 218,
    "start_time": "2022-06-23T12:14:26.479Z"
   },
   {
    "duration": 191,
    "start_time": "2022-06-23T12:14:34.026Z"
   },
   {
    "duration": 323,
    "start_time": "2022-06-23T12:14:40.234Z"
   },
   {
    "duration": 189,
    "start_time": "2022-06-23T12:14:43.622Z"
   },
   {
    "duration": 311,
    "start_time": "2022-06-23T12:14:46.279Z"
   },
   {
    "duration": 212,
    "start_time": "2022-06-23T12:17:07.992Z"
   },
   {
    "duration": 312,
    "start_time": "2022-06-23T12:17:37.707Z"
   },
   {
    "duration": 379,
    "start_time": "2022-06-23T12:18:15.224Z"
   },
   {
    "duration": 264,
    "start_time": "2022-06-23T12:19:38.749Z"
   },
   {
    "duration": 319,
    "start_time": "2022-06-23T12:20:13.180Z"
   },
   {
    "duration": 296,
    "start_time": "2022-06-23T12:21:00.271Z"
   },
   {
    "duration": 350,
    "start_time": "2022-06-23T12:23:22.687Z"
   },
   {
    "duration": 326,
    "start_time": "2022-06-23T12:23:43.851Z"
   },
   {
    "duration": 388,
    "start_time": "2022-06-23T12:24:24.511Z"
   },
   {
    "duration": 318,
    "start_time": "2022-06-23T12:24:32.375Z"
   },
   {
    "duration": 334,
    "start_time": "2022-06-23T12:25:41.529Z"
   },
   {
    "duration": 271,
    "start_time": "2022-06-23T12:26:38.856Z"
   },
   {
    "duration": 405,
    "start_time": "2022-06-23T12:26:51.764Z"
   },
   {
    "duration": 13,
    "start_time": "2022-06-23T12:29:09.846Z"
   },
   {
    "duration": 13,
    "start_time": "2022-06-23T12:29:16.794Z"
   },
   {
    "duration": 9,
    "start_time": "2022-06-23T12:29:25.772Z"
   },
   {
    "duration": 146,
    "start_time": "2022-06-23T12:29:35.850Z"
   },
   {
    "duration": 144,
    "start_time": "2022-06-23T13:39:43.896Z"
   },
   {
    "duration": 45,
    "start_time": "2022-06-23T13:41:36.635Z"
   },
   {
    "duration": 8,
    "start_time": "2022-06-23T13:41:59.391Z"
   },
   {
    "duration": 11,
    "start_time": "2022-06-23T13:42:08.001Z"
   },
   {
    "duration": 16,
    "start_time": "2022-06-23T13:42:56.026Z"
   },
   {
    "duration": 12,
    "start_time": "2022-06-23T13:43:10.874Z"
   },
   {
    "duration": 138,
    "start_time": "2022-06-23T13:43:49.721Z"
   },
   {
    "duration": 134,
    "start_time": "2022-06-23T13:44:33.423Z"
   },
   {
    "duration": 6,
    "start_time": "2022-06-23T13:45:31.942Z"
   },
   {
    "duration": 149,
    "start_time": "2022-06-23T13:48:07.426Z"
   },
   {
    "duration": 132,
    "start_time": "2022-06-23T13:48:28.714Z"
   },
   {
    "duration": 12,
    "start_time": "2022-06-23T13:49:05.212Z"
   },
   {
    "duration": 7,
    "start_time": "2022-06-23T13:49:11.444Z"
   },
   {
    "duration": 5,
    "start_time": "2022-06-23T13:49:32.818Z"
   },
   {
    "duration": 5,
    "start_time": "2022-06-23T13:49:44.174Z"
   },
   {
    "duration": 1482,
    "start_time": "2022-06-27T03:31:41.214Z"
   },
   {
    "duration": 321,
    "start_time": "2022-06-27T03:31:42.699Z"
   },
   {
    "duration": 28,
    "start_time": "2022-06-27T03:31:43.022Z"
   },
   {
    "duration": 33,
    "start_time": "2022-06-27T03:31:43.052Z"
   },
   {
    "duration": 60,
    "start_time": "2022-06-27T03:31:43.088Z"
   },
   {
    "duration": 6,
    "start_time": "2022-06-27T03:31:43.151Z"
   },
   {
    "duration": 18,
    "start_time": "2022-06-27T03:31:43.160Z"
   },
   {
    "duration": 15,
    "start_time": "2022-06-27T03:31:43.180Z"
   },
   {
    "duration": 16,
    "start_time": "2022-06-27T03:31:43.225Z"
   },
   {
    "duration": 294,
    "start_time": "2022-06-27T03:31:43.244Z"
   },
   {
    "duration": 380,
    "start_time": "2022-06-27T03:31:43.541Z"
   },
   {
    "duration": 213,
    "start_time": "2022-06-27T03:31:43.925Z"
   },
   {
    "duration": 319,
    "start_time": "2022-06-27T03:31:44.140Z"
   },
   {
    "duration": 187,
    "start_time": "2022-06-27T03:31:44.462Z"
   },
   {
    "duration": 423,
    "start_time": "2022-06-27T03:31:44.651Z"
   },
   {
    "duration": 20,
    "start_time": "2022-06-27T03:31:45.077Z"
   },
   {
    "duration": 128,
    "start_time": "2022-06-27T03:31:45.099Z"
   },
   {
    "duration": 10,
    "start_time": "2022-06-27T03:31:45.230Z"
   },
   {
    "duration": 148,
    "start_time": "2022-06-27T03:31:45.243Z"
   },
   {
    "duration": 5,
    "start_time": "2022-06-27T03:31:45.392Z"
   },
   {
    "duration": 166,
    "start_time": "2022-06-27T03:32:20.514Z"
   },
   {
    "duration": 164,
    "start_time": "2022-06-27T03:32:26.698Z"
   },
   {
    "duration": 386,
    "start_time": "2022-06-27T03:49:08.885Z"
   },
   {
    "duration": 174,
    "start_time": "2022-06-27T03:55:50.943Z"
   },
   {
    "duration": 256,
    "start_time": "2022-06-27T03:56:04.341Z"
   },
   {
    "duration": 161,
    "start_time": "2022-06-27T03:56:16.263Z"
   },
   {
    "duration": 160,
    "start_time": "2022-06-27T03:57:31.630Z"
   },
   {
    "duration": 111,
    "start_time": "2022-06-27T03:58:05.691Z"
   },
   {
    "duration": 138,
    "start_time": "2022-06-27T03:58:09.326Z"
   },
   {
    "duration": 162,
    "start_time": "2022-06-27T03:58:31.581Z"
   },
   {
    "duration": 198,
    "start_time": "2022-06-27T04:22:33.052Z"
   },
   {
    "duration": 134,
    "start_time": "2022-06-27T04:23:37.974Z"
   },
   {
    "duration": 561,
    "start_time": "2022-06-27T04:24:03.826Z"
   },
   {
    "duration": 510,
    "start_time": "2022-06-27T04:25:21.553Z"
   },
   {
    "duration": 476,
    "start_time": "2022-06-27T04:26:07.701Z"
   },
   {
    "duration": 504,
    "start_time": "2022-06-27T04:26:13.365Z"
   },
   {
    "duration": 470,
    "start_time": "2022-06-27T04:26:20.350Z"
   },
   {
    "duration": 523,
    "start_time": "2022-06-27T04:26:33.986Z"
   },
   {
    "duration": 512,
    "start_time": "2022-06-27T04:32:18.744Z"
   },
   {
    "duration": 616,
    "start_time": "2022-06-27T04:32:24.482Z"
   },
   {
    "duration": 474,
    "start_time": "2022-06-27T04:32:29.496Z"
   },
   {
    "duration": 483,
    "start_time": "2022-06-27T04:32:38.011Z"
   },
   {
    "duration": 515,
    "start_time": "2022-06-27T04:32:43.798Z"
   },
   {
    "duration": 744,
    "start_time": "2022-06-27T04:32:58.646Z"
   },
   {
    "duration": 10,
    "start_time": "2022-06-27T04:33:29.468Z"
   },
   {
    "duration": 11,
    "start_time": "2022-06-27T04:34:27.264Z"
   },
   {
    "duration": 10,
    "start_time": "2022-06-27T04:34:41.306Z"
   },
   {
    "duration": 133,
    "start_time": "2022-06-27T04:38:22.579Z"
   },
   {
    "duration": 135,
    "start_time": "2022-06-27T04:39:08.896Z"
   },
   {
    "duration": 139,
    "start_time": "2022-06-27T04:39:50.315Z"
   },
   {
    "duration": 132,
    "start_time": "2022-06-27T04:40:22.903Z"
   },
   {
    "duration": 37,
    "start_time": "2022-06-27T04:44:12.040Z"
   },
   {
    "duration": 33,
    "start_time": "2022-06-27T04:45:27.915Z"
   },
   {
    "duration": 33,
    "start_time": "2022-06-27T04:46:15.617Z"
   },
   {
    "duration": 18,
    "start_time": "2022-06-27T04:50:02.121Z"
   },
   {
    "duration": 13,
    "start_time": "2022-06-27T04:54:04.665Z"
   },
   {
    "duration": 12,
    "start_time": "2022-06-27T04:54:18.668Z"
   },
   {
    "duration": 1034,
    "start_time": "2022-06-27T05:38:34.284Z"
   },
   {
    "duration": 144,
    "start_time": "2022-06-27T05:38:35.319Z"
   },
   {
    "duration": 23,
    "start_time": "2022-06-27T05:38:35.465Z"
   },
   {
    "duration": 21,
    "start_time": "2022-06-27T05:38:35.491Z"
   },
   {
    "duration": 30,
    "start_time": "2022-06-27T05:38:35.513Z"
   },
   {
    "duration": 7,
    "start_time": "2022-06-27T05:38:35.545Z"
   },
   {
    "duration": 10,
    "start_time": "2022-06-27T05:38:35.553Z"
   },
   {
    "duration": 12,
    "start_time": "2022-06-27T05:38:35.564Z"
   },
   {
    "duration": 10,
    "start_time": "2022-06-27T05:38:35.578Z"
   },
   {
    "duration": 300,
    "start_time": "2022-06-27T05:38:35.591Z"
   },
   {
    "duration": 271,
    "start_time": "2022-06-27T05:38:35.892Z"
   },
   {
    "duration": 185,
    "start_time": "2022-06-27T05:38:36.165Z"
   },
   {
    "duration": 308,
    "start_time": "2022-06-27T05:38:36.351Z"
   },
   {
    "duration": 251,
    "start_time": "2022-06-27T05:38:36.661Z"
   },
   {
    "duration": 307,
    "start_time": "2022-06-27T05:38:36.914Z"
   },
   {
    "duration": 16,
    "start_time": "2022-06-27T05:38:37.226Z"
   },
   {
    "duration": 137,
    "start_time": "2022-06-27T05:38:37.245Z"
   },
   {
    "duration": 6,
    "start_time": "2022-06-27T05:38:37.383Z"
   },
   {
    "duration": 163,
    "start_time": "2022-06-27T05:38:37.391Z"
   },
   {
    "duration": 5,
    "start_time": "2022-06-27T05:38:37.556Z"
   },
   {
    "duration": 508,
    "start_time": "2022-06-27T05:38:37.562Z"
   },
   {
    "duration": 11,
    "start_time": "2022-06-27T05:38:38.072Z"
   },
   {
    "duration": 136,
    "start_time": "2022-06-27T05:38:38.085Z"
   },
   {
    "duration": 40,
    "start_time": "2022-06-27T05:38:38.222Z"
   },
   {
    "duration": 15,
    "start_time": "2022-06-27T05:38:38.264Z"
   },
   {
    "duration": 997,
    "start_time": "2022-06-27T07:39:09.461Z"
   },
   {
    "duration": 101,
    "start_time": "2022-06-27T07:39:10.460Z"
   },
   {
    "duration": 23,
    "start_time": "2022-06-27T07:39:10.563Z"
   },
   {
    "duration": 21,
    "start_time": "2022-06-27T07:39:10.588Z"
   },
   {
    "duration": 26,
    "start_time": "2022-06-27T07:39:10.611Z"
   },
   {
    "duration": 4,
    "start_time": "2022-06-27T07:39:10.639Z"
   },
   {
    "duration": 10,
    "start_time": "2022-06-27T07:39:10.645Z"
   },
   {
    "duration": 13,
    "start_time": "2022-06-27T07:39:10.657Z"
   },
   {
    "duration": 11,
    "start_time": "2022-06-27T07:39:10.672Z"
   },
   {
    "duration": 323,
    "start_time": "2022-06-27T07:39:10.685Z"
   },
   {
    "duration": 271,
    "start_time": "2022-06-27T07:39:11.009Z"
   },
   {
    "duration": 190,
    "start_time": "2022-06-27T07:39:11.282Z"
   },
   {
    "duration": 300,
    "start_time": "2022-06-27T07:39:11.474Z"
   },
   {
    "duration": 197,
    "start_time": "2022-06-27T07:39:11.776Z"
   },
   {
    "duration": 270,
    "start_time": "2022-06-27T07:39:11.974Z"
   },
   {
    "duration": 11,
    "start_time": "2022-06-27T07:39:12.246Z"
   },
   {
    "duration": 136,
    "start_time": "2022-06-27T07:39:12.259Z"
   },
   {
    "duration": 5,
    "start_time": "2022-06-27T07:39:12.396Z"
   },
   {
    "duration": 142,
    "start_time": "2022-06-27T07:39:12.402Z"
   },
   {
    "duration": 5,
    "start_time": "2022-06-27T07:39:12.546Z"
   },
   {
    "duration": 504,
    "start_time": "2022-06-27T07:39:12.553Z"
   },
   {
    "duration": 10,
    "start_time": "2022-06-27T07:39:13.059Z"
   },
   {
    "duration": 156,
    "start_time": "2022-06-27T07:39:13.071Z"
   },
   {
    "duration": 31,
    "start_time": "2022-06-27T07:39:13.229Z"
   },
   {
    "duration": 16,
    "start_time": "2022-06-27T07:39:13.262Z"
   },
   {
    "duration": 981,
    "start_time": "2022-06-27T07:42:50.179Z"
   },
   {
    "duration": 80,
    "start_time": "2022-06-27T07:42:51.162Z"
   },
   {
    "duration": 25,
    "start_time": "2022-06-27T07:42:51.244Z"
   },
   {
    "duration": 20,
    "start_time": "2022-06-27T07:42:51.270Z"
   },
   {
    "duration": 44,
    "start_time": "2022-06-27T07:42:51.293Z"
   },
   {
    "duration": 3,
    "start_time": "2022-06-27T07:42:51.339Z"
   },
   {
    "duration": 17,
    "start_time": "2022-06-27T07:42:51.344Z"
   },
   {
    "duration": 13,
    "start_time": "2022-06-27T07:42:51.363Z"
   },
   {
    "duration": 11,
    "start_time": "2022-06-27T07:42:51.377Z"
   },
   {
    "duration": 298,
    "start_time": "2022-06-27T07:42:51.389Z"
   },
   {
    "duration": 266,
    "start_time": "2022-06-27T07:42:51.688Z"
   },
   {
    "duration": 174,
    "start_time": "2022-06-27T07:42:51.956Z"
   },
   {
    "duration": 289,
    "start_time": "2022-06-27T07:42:52.132Z"
   },
   {
    "duration": 196,
    "start_time": "2022-06-27T07:42:52.428Z"
   },
   {
    "duration": 306,
    "start_time": "2022-06-27T07:42:52.627Z"
   },
   {
    "duration": 15,
    "start_time": "2022-06-27T07:42:52.936Z"
   },
   {
    "duration": 142,
    "start_time": "2022-06-27T07:42:52.952Z"
   },
   {
    "duration": 5,
    "start_time": "2022-06-27T07:42:53.096Z"
   },
   {
    "duration": 148,
    "start_time": "2022-06-27T07:42:53.102Z"
   },
   {
    "duration": 9,
    "start_time": "2022-06-27T07:42:53.253Z"
   },
   {
    "duration": 500,
    "start_time": "2022-06-27T07:42:53.264Z"
   },
   {
    "duration": 9,
    "start_time": "2022-06-27T07:42:53.766Z"
   },
   {
    "duration": 174,
    "start_time": "2022-06-27T07:42:53.777Z"
   },
   {
    "duration": 30,
    "start_time": "2022-06-27T07:42:53.953Z"
   },
   {
    "duration": 13,
    "start_time": "2022-06-27T07:42:53.984Z"
   },
   {
    "duration": 65,
    "start_time": "2022-06-27T11:55:50.977Z"
   },
   {
    "duration": 1238,
    "start_time": "2022-06-27T11:55:56.077Z"
   },
   {
    "duration": 169,
    "start_time": "2022-06-27T11:55:57.318Z"
   },
   {
    "duration": 26,
    "start_time": "2022-06-27T11:55:57.489Z"
   },
   {
    "duration": 24,
    "start_time": "2022-06-27T11:55:57.517Z"
   },
   {
    "duration": 30,
    "start_time": "2022-06-27T11:55:57.544Z"
   },
   {
    "duration": 3,
    "start_time": "2022-06-27T11:55:57.576Z"
   },
   {
    "duration": 14,
    "start_time": "2022-06-27T11:55:57.581Z"
   },
   {
    "duration": 33,
    "start_time": "2022-06-27T11:55:57.597Z"
   },
   {
    "duration": 16,
    "start_time": "2022-06-27T11:55:57.631Z"
   },
   {
    "duration": 310,
    "start_time": "2022-06-27T11:55:57.649Z"
   },
   {
    "duration": 296,
    "start_time": "2022-06-27T11:55:57.961Z"
   },
   {
    "duration": 197,
    "start_time": "2022-06-27T11:55:58.259Z"
   },
   {
    "duration": 345,
    "start_time": "2022-06-27T11:55:58.458Z"
   },
   {
    "duration": 213,
    "start_time": "2022-06-27T11:55:58.807Z"
   },
   {
    "duration": 308,
    "start_time": "2022-06-27T11:55:59.026Z"
   },
   {
    "duration": 14,
    "start_time": "2022-06-27T11:55:59.339Z"
   },
   {
    "duration": 142,
    "start_time": "2022-06-27T11:55:59.355Z"
   },
   {
    "duration": 6,
    "start_time": "2022-06-27T11:55:59.499Z"
   },
   {
    "duration": 156,
    "start_time": "2022-06-27T11:55:59.506Z"
   },
   {
    "duration": 5,
    "start_time": "2022-06-27T11:55:59.664Z"
   },
   {
    "duration": 556,
    "start_time": "2022-06-27T11:55:59.671Z"
   },
   {
    "duration": 15,
    "start_time": "2022-06-27T11:56:00.229Z"
   },
   {
    "duration": 152,
    "start_time": "2022-06-27T11:56:00.247Z"
   },
   {
    "duration": 45,
    "start_time": "2022-06-27T11:56:00.401Z"
   },
   {
    "duration": 15,
    "start_time": "2022-06-27T11:56:00.447Z"
   },
   {
    "duration": 212,
    "start_time": "2022-06-27T11:56:15.012Z"
   },
   {
    "duration": 343,
    "start_time": "2022-06-27T11:57:26.004Z"
   },
   {
    "duration": 273,
    "start_time": "2022-06-27T11:57:31.942Z"
   },
   {
    "duration": 190,
    "start_time": "2022-06-27T11:57:38.073Z"
   },
   {
    "duration": 169,
    "start_time": "2022-06-27T11:57:55.338Z"
   },
   {
    "duration": 190,
    "start_time": "2022-06-27T11:58:02.346Z"
   },
   {
    "duration": 194,
    "start_time": "2022-06-27T11:58:08.338Z"
   },
   {
    "duration": 275,
    "start_time": "2022-06-27T11:58:12.538Z"
   },
   {
    "duration": 173,
    "start_time": "2022-06-27T11:58:24.651Z"
   },
   {
    "duration": 164,
    "start_time": "2022-06-27T11:58:29.838Z"
   },
   {
    "duration": 172,
    "start_time": "2022-06-27T11:58:33.835Z"
   },
   {
    "duration": 307,
    "start_time": "2022-06-27T12:00:02.414Z"
   },
   {
    "duration": 1056,
    "start_time": "2022-06-27T12:01:44.397Z"
   },
   {
    "duration": 95,
    "start_time": "2022-06-27T12:01:45.456Z"
   },
   {
    "duration": 23,
    "start_time": "2022-06-27T12:01:45.552Z"
   },
   {
    "duration": 27,
    "start_time": "2022-06-27T12:01:45.577Z"
   },
   {
    "duration": 42,
    "start_time": "2022-06-27T12:01:45.605Z"
   },
   {
    "duration": 22,
    "start_time": "2022-06-27T12:01:45.649Z"
   },
   {
    "duration": 40,
    "start_time": "2022-06-27T12:01:45.673Z"
   },
   {
    "duration": 43,
    "start_time": "2022-06-27T12:01:45.715Z"
   },
   {
    "duration": 24,
    "start_time": "2022-06-27T12:01:45.760Z"
   },
   {
    "duration": 302,
    "start_time": "2022-06-27T12:01:45.787Z"
   },
   {
    "duration": 387,
    "start_time": "2022-06-27T12:01:46.090Z"
   },
   {
    "duration": 195,
    "start_time": "2022-06-27T12:01:46.479Z"
   },
   {
    "duration": 277,
    "start_time": "2022-06-27T12:01:46.675Z"
   },
   {
    "duration": 197,
    "start_time": "2022-06-27T12:01:46.954Z"
   },
   {
    "duration": 301,
    "start_time": "2022-06-27T12:01:47.152Z"
   },
   {
    "duration": 12,
    "start_time": "2022-06-27T12:01:47.454Z"
   },
   {
    "duration": 133,
    "start_time": "2022-06-27T12:01:47.468Z"
   },
   {
    "duration": 5,
    "start_time": "2022-06-27T12:01:47.603Z"
   },
   {
    "duration": 148,
    "start_time": "2022-06-27T12:01:47.609Z"
   },
   {
    "duration": 5,
    "start_time": "2022-06-27T12:01:47.759Z"
   },
   {
    "duration": 497,
    "start_time": "2022-06-27T12:01:47.766Z"
   },
   {
    "duration": 11,
    "start_time": "2022-06-27T12:01:48.264Z"
   },
   {
    "duration": 182,
    "start_time": "2022-06-27T12:01:48.277Z"
   },
   {
    "duration": 27,
    "start_time": "2022-06-27T12:01:48.461Z"
   },
   {
    "duration": 40,
    "start_time": "2022-06-27T12:01:48.490Z"
   },
   {
    "duration": 286,
    "start_time": "2022-06-27T12:02:11.820Z"
   },
   {
    "duration": 358,
    "start_time": "2022-06-27T12:02:24.390Z"
   },
   {
    "duration": 284,
    "start_time": "2022-06-27T12:04:14.585Z"
   },
   {
    "duration": 293,
    "start_time": "2022-06-27T12:04:22.884Z"
   },
   {
    "duration": 222,
    "start_time": "2022-06-27T12:04:42.585Z"
   },
   {
    "duration": 75,
    "start_time": "2022-06-27T12:05:50.600Z"
   },
   {
    "duration": 288,
    "start_time": "2022-06-27T12:05:56.116Z"
   },
   {
    "duration": 208,
    "start_time": "2022-06-27T12:06:03.169Z"
   },
   {
    "duration": 199,
    "start_time": "2022-06-27T12:06:08.799Z"
   },
   {
    "duration": 213,
    "start_time": "2022-06-27T12:06:16.768Z"
   },
   {
    "duration": 64,
    "start_time": "2022-06-27T12:06:59.318Z"
   },
   {
    "duration": 204,
    "start_time": "2022-06-27T12:07:16.966Z"
   },
   {
    "duration": 203,
    "start_time": "2022-06-27T12:07:23.769Z"
   },
   {
    "duration": 216,
    "start_time": "2022-06-27T12:07:27.458Z"
   },
   {
    "duration": 198,
    "start_time": "2022-06-27T12:07:40.682Z"
   },
   {
    "duration": 202,
    "start_time": "2022-06-27T12:16:28.552Z"
   },
   {
    "duration": 224,
    "start_time": "2022-06-27T12:16:34.817Z"
   },
   {
    "duration": 219,
    "start_time": "2022-06-27T12:16:40.343Z"
   },
   {
    "duration": 251,
    "start_time": "2022-06-27T12:16:57.535Z"
   },
   {
    "duration": 229,
    "start_time": "2022-06-27T12:17:19.458Z"
   },
   {
    "duration": 295,
    "start_time": "2022-06-27T12:17:26.273Z"
   },
   {
    "duration": 1044,
    "start_time": "2022-06-27T12:17:32.876Z"
   },
   {
    "duration": 144,
    "start_time": "2022-06-27T12:17:33.922Z"
   },
   {
    "duration": 27,
    "start_time": "2022-06-27T12:17:34.068Z"
   },
   {
    "duration": 27,
    "start_time": "2022-06-27T12:17:34.097Z"
   },
   {
    "duration": 54,
    "start_time": "2022-06-27T12:17:34.125Z"
   },
   {
    "duration": 4,
    "start_time": "2022-06-27T12:17:34.181Z"
   },
   {
    "duration": 14,
    "start_time": "2022-06-27T12:17:34.187Z"
   },
   {
    "duration": 12,
    "start_time": "2022-06-27T12:17:34.203Z"
   },
   {
    "duration": 33,
    "start_time": "2022-06-27T12:17:34.217Z"
   },
   {
    "duration": 299,
    "start_time": "2022-06-27T12:17:34.253Z"
   },
   {
    "duration": 311,
    "start_time": "2022-06-27T12:17:34.553Z"
   },
   {
    "duration": 206,
    "start_time": "2022-06-27T12:17:34.865Z"
   },
   {
    "duration": 283,
    "start_time": "2022-06-27T12:17:35.073Z"
   },
   {
    "duration": 190,
    "start_time": "2022-06-27T12:17:35.360Z"
   },
   {
    "duration": 312,
    "start_time": "2022-06-27T12:17:35.552Z"
   },
   {
    "duration": 10,
    "start_time": "2022-06-27T12:17:35.866Z"
   },
   {
    "duration": 137,
    "start_time": "2022-06-27T12:17:35.878Z"
   },
   {
    "duration": 23,
    "start_time": "2022-06-27T12:17:36.026Z"
   },
   {
    "duration": 387,
    "start_time": "2022-06-27T12:17:36.056Z"
   },
   {
    "duration": 7,
    "start_time": "2022-06-27T12:17:36.447Z"
   },
   {
    "duration": 1288,
    "start_time": "2022-06-27T12:17:36.456Z"
   },
   {
    "duration": 12,
    "start_time": "2022-06-27T12:17:37.746Z"
   },
   {
    "duration": 378,
    "start_time": "2022-06-27T12:17:37.760Z"
   },
   {
    "duration": 91,
    "start_time": "2022-06-27T12:17:38.141Z"
   },
   {
    "duration": 25,
    "start_time": "2022-06-27T12:17:38.234Z"
   },
   {
    "duration": 209,
    "start_time": "2022-06-27T12:17:45.866Z"
   },
   {
    "duration": 291,
    "start_time": "2022-06-27T12:17:50.979Z"
   },
   {
    "duration": 205,
    "start_time": "2022-06-27T12:17:56.396Z"
   },
   {
    "duration": 198,
    "start_time": "2022-06-27T12:18:03.475Z"
   },
   {
    "duration": 195,
    "start_time": "2022-06-27T12:18:14.704Z"
   },
   {
    "duration": 244,
    "start_time": "2022-06-27T12:18:21.726Z"
   },
   {
    "duration": 310,
    "start_time": "2022-06-27T12:22:50.598Z"
   },
   {
    "duration": 208,
    "start_time": "2022-06-27T12:23:02.870Z"
   },
   {
    "duration": 239,
    "start_time": "2022-06-27T12:23:34.681Z"
   },
   {
    "duration": 3,
    "start_time": "2022-06-27T12:24:38.861Z"
   },
   {
    "duration": 250,
    "start_time": "2022-06-27T12:24:44.417Z"
   },
   {
    "duration": 265,
    "start_time": "2022-06-27T12:25:14.474Z"
   },
   {
    "duration": 606,
    "start_time": "2022-06-27T12:25:23.255Z"
   },
   {
    "duration": 487,
    "start_time": "2022-06-27T12:25:30.500Z"
   },
   {
    "duration": 281,
    "start_time": "2022-06-27T12:25:45.410Z"
   },
   {
    "duration": 227,
    "start_time": "2022-06-27T12:26:03.275Z"
   },
   {
    "duration": 6,
    "start_time": "2022-06-27T12:26:27.015Z"
   },
   {
    "duration": 214,
    "start_time": "2022-06-27T12:26:39.545Z"
   },
   {
    "duration": 208,
    "start_time": "2022-06-27T12:26:46.088Z"
   },
   {
    "duration": 243,
    "start_time": "2022-06-27T12:26:52.276Z"
   },
   {
    "duration": 363,
    "start_time": "2022-06-27T12:27:00.392Z"
   },
   {
    "duration": 288,
    "start_time": "2022-06-27T12:27:03.663Z"
   },
   {
    "duration": 276,
    "start_time": "2022-06-27T12:27:22.896Z"
   },
   {
    "duration": 274,
    "start_time": "2022-06-27T12:27:26.376Z"
   },
   {
    "duration": 238,
    "start_time": "2022-06-27T12:27:31.869Z"
   },
   {
    "duration": 76,
    "start_time": "2022-06-27T12:28:50.910Z"
   },
   {
    "duration": 241,
    "start_time": "2022-06-27T12:28:57.910Z"
   },
   {
    "duration": 360,
    "start_time": "2022-06-27T12:34:17.494Z"
   },
   {
    "duration": 337,
    "start_time": "2022-06-27T12:34:24.097Z"
   },
   {
    "duration": 218,
    "start_time": "2022-06-27T12:34:53.742Z"
   },
   {
    "duration": 230,
    "start_time": "2022-06-27T12:35:02.119Z"
   },
   {
    "duration": 308,
    "start_time": "2022-06-27T12:35:27.552Z"
   },
   {
    "duration": 264,
    "start_time": "2022-06-27T12:36:23.289Z"
   },
   {
    "duration": 175,
    "start_time": "2022-06-27T12:37:38.640Z"
   },
   {
    "duration": 215,
    "start_time": "2022-06-27T12:37:43.588Z"
   },
   {
    "duration": 148,
    "start_time": "2022-06-27T13:58:17.485Z"
   },
   {
    "duration": 144,
    "start_time": "2022-06-27T13:58:25.855Z"
   },
   {
    "duration": 155,
    "start_time": "2022-06-27T13:58:44.729Z"
   },
   {
    "duration": 143,
    "start_time": "2022-06-27T13:59:16.368Z"
   },
   {
    "duration": 154,
    "start_time": "2022-06-27T13:59:41.900Z"
   },
   {
    "duration": 155,
    "start_time": "2022-06-27T13:59:45.783Z"
   },
   {
    "duration": 166,
    "start_time": "2022-06-27T13:59:51.218Z"
   },
   {
    "duration": 154,
    "start_time": "2022-06-27T14:02:37.297Z"
   },
   {
    "duration": 157,
    "start_time": "2022-06-27T14:02:58.199Z"
   },
   {
    "duration": 160,
    "start_time": "2022-06-27T14:03:06.197Z"
   },
   {
    "duration": 276,
    "start_time": "2022-06-27T14:05:44.887Z"
   },
   {
    "duration": 175,
    "start_time": "2022-06-27T14:06:03.537Z"
   },
   {
    "duration": 177,
    "start_time": "2022-06-27T14:09:33.975Z"
   },
   {
    "duration": 172,
    "start_time": "2022-06-27T14:11:55.870Z"
   },
   {
    "duration": 164,
    "start_time": "2022-06-27T14:13:10.797Z"
   },
   {
    "duration": 152,
    "start_time": "2022-06-27T14:13:25.282Z"
   },
   {
    "duration": 178,
    "start_time": "2022-06-27T14:13:31.640Z"
   },
   {
    "duration": 176,
    "start_time": "2022-06-27T14:13:40.606Z"
   },
   {
    "duration": 171,
    "start_time": "2022-06-27T14:13:44.822Z"
   },
   {
    "duration": 167,
    "start_time": "2022-06-27T14:14:02.252Z"
   },
   {
    "duration": 172,
    "start_time": "2022-06-27T14:14:18.865Z"
   },
   {
    "duration": 223,
    "start_time": "2022-06-27T14:18:24.738Z"
   },
   {
    "duration": 221,
    "start_time": "2022-06-27T14:18:39.397Z"
   },
   {
    "duration": 430,
    "start_time": "2022-06-27T14:18:45.745Z"
   },
   {
    "duration": 212,
    "start_time": "2022-06-27T14:19:02.210Z"
   },
   {
    "duration": 305,
    "start_time": "2022-06-27T14:19:09.566Z"
   },
   {
    "duration": 186,
    "start_time": "2022-06-27T14:30:08.967Z"
   },
   {
    "duration": 153,
    "start_time": "2022-06-27T14:31:19.157Z"
   },
   {
    "duration": 10,
    "start_time": "2022-06-27T15:27:55.583Z"
   },
   {
    "duration": 4,
    "start_time": "2022-06-27T15:28:14.916Z"
   },
   {
    "duration": 11,
    "start_time": "2022-06-27T15:28:35.720Z"
   },
   {
    "duration": 30,
    "start_time": "2022-06-27T15:29:13.656Z"
   },
   {
    "duration": 14,
    "start_time": "2022-06-27T15:29:24.502Z"
   },
   {
    "duration": 10,
    "start_time": "2022-06-27T15:29:42.893Z"
   },
   {
    "duration": 10,
    "start_time": "2022-06-27T15:30:48.475Z"
   },
   {
    "duration": 13,
    "start_time": "2022-06-27T15:30:54.663Z"
   },
   {
    "duration": 11,
    "start_time": "2022-06-27T15:30:58.360Z"
   },
   {
    "duration": 4,
    "start_time": "2022-06-27T15:45:02.581Z"
   },
   {
    "duration": 5,
    "start_time": "2022-06-27T15:45:22.349Z"
   },
   {
    "duration": 5,
    "start_time": "2022-06-27T15:45:25.162Z"
   },
   {
    "duration": 6,
    "start_time": "2022-06-27T15:47:00.664Z"
   },
   {
    "duration": 3,
    "start_time": "2022-06-27T15:47:24.758Z"
   },
   {
    "duration": 9,
    "start_time": "2022-06-27T15:48:12.814Z"
   },
   {
    "duration": 3,
    "start_time": "2022-06-27T15:48:38.386Z"
   },
   {
    "duration": 9,
    "start_time": "2022-06-27T15:48:49.907Z"
   },
   {
    "duration": 5,
    "start_time": "2022-06-27T15:49:44.032Z"
   },
   {
    "duration": 9,
    "start_time": "2022-06-27T15:50:30.004Z"
   },
   {
    "duration": 5,
    "start_time": "2022-06-27T15:50:30.660Z"
   },
   {
    "duration": 8,
    "start_time": "2022-06-27T15:53:43.750Z"
   },
   {
    "duration": 4,
    "start_time": "2022-06-27T15:53:44.167Z"
   },
   {
    "duration": 1023,
    "start_time": "2022-06-27T16:10:28.499Z"
   },
   {
    "duration": 91,
    "start_time": "2022-06-27T16:10:29.524Z"
   },
   {
    "duration": 22,
    "start_time": "2022-06-27T16:10:29.617Z"
   },
   {
    "duration": 19,
    "start_time": "2022-06-27T16:10:29.641Z"
   },
   {
    "duration": 17,
    "start_time": "2022-06-27T16:10:29.661Z"
   },
   {
    "duration": 4,
    "start_time": "2022-06-27T16:10:29.679Z"
   },
   {
    "duration": 45,
    "start_time": "2022-06-27T16:10:29.684Z"
   },
   {
    "duration": 13,
    "start_time": "2022-06-27T16:10:29.731Z"
   },
   {
    "duration": 10,
    "start_time": "2022-06-27T16:10:29.745Z"
   },
   {
    "duration": 305,
    "start_time": "2022-06-27T16:10:29.758Z"
   },
   {
    "duration": 279,
    "start_time": "2022-06-27T16:10:30.065Z"
   },
   {
    "duration": 217,
    "start_time": "2022-06-27T16:10:30.346Z"
   },
   {
    "duration": 305,
    "start_time": "2022-06-27T16:10:30.564Z"
   },
   {
    "duration": 228,
    "start_time": "2022-06-27T16:10:30.871Z"
   },
   {
    "duration": 367,
    "start_time": "2022-06-27T16:10:31.102Z"
   },
   {
    "duration": 14,
    "start_time": "2022-06-27T16:10:31.472Z"
   },
   {
    "duration": 223,
    "start_time": "2022-06-27T16:10:31.488Z"
   },
   {
    "duration": 6,
    "start_time": "2022-06-27T16:10:31.712Z"
   },
   {
    "duration": 181,
    "start_time": "2022-06-27T16:10:31.727Z"
   },
   {
    "duration": 176,
    "start_time": "2022-06-27T16:10:31.909Z"
   },
   {
    "duration": 5,
    "start_time": "2022-06-27T16:10:32.087Z"
   },
   {
    "duration": 48,
    "start_time": "2022-06-27T16:10:32.093Z"
   },
   {
    "duration": 56,
    "start_time": "2022-06-27T16:10:32.142Z"
   },
   {
    "duration": 505,
    "start_time": "2022-06-27T16:10:32.199Z"
   },
   {
    "duration": 9,
    "start_time": "2022-06-27T16:10:32.706Z"
   },
   {
    "duration": 143,
    "start_time": "2022-06-27T16:10:32.726Z"
   },
   {
    "duration": 27,
    "start_time": "2022-06-27T16:10:32.871Z"
   },
   {
    "duration": 33,
    "start_time": "2022-06-27T16:10:32.901Z"
   },
   {
    "duration": 1163,
    "start_time": "2022-06-27T20:43:20.614Z"
   },
   {
    "duration": 273,
    "start_time": "2022-06-27T20:43:21.779Z"
   },
   {
    "duration": 20,
    "start_time": "2022-06-27T20:43:22.054Z"
   },
   {
    "duration": 17,
    "start_time": "2022-06-27T20:43:22.076Z"
   },
   {
    "duration": 16,
    "start_time": "2022-06-27T20:43:22.095Z"
   },
   {
    "duration": 3,
    "start_time": "2022-06-27T20:43:22.112Z"
   },
   {
    "duration": 7,
    "start_time": "2022-06-27T20:43:22.128Z"
   },
   {
    "duration": 11,
    "start_time": "2022-06-27T20:43:22.136Z"
   },
   {
    "duration": 10,
    "start_time": "2022-06-27T20:43:22.148Z"
   },
   {
    "duration": 271,
    "start_time": "2022-06-27T20:43:22.160Z"
   },
   {
    "duration": 254,
    "start_time": "2022-06-27T20:43:22.432Z"
   },
   {
    "duration": 212,
    "start_time": "2022-06-27T20:43:22.688Z"
   },
   {
    "duration": 394,
    "start_time": "2022-06-27T20:43:22.902Z"
   },
   {
    "duration": 202,
    "start_time": "2022-06-27T20:43:23.299Z"
   },
   {
    "duration": 331,
    "start_time": "2022-06-27T20:43:23.503Z"
   },
   {
    "duration": 12,
    "start_time": "2022-06-27T20:43:23.836Z"
   },
   {
    "duration": 152,
    "start_time": "2022-06-27T20:43:23.849Z"
   },
   {
    "duration": 5,
    "start_time": "2022-06-27T20:43:24.002Z"
   },
   {
    "duration": 160,
    "start_time": "2022-06-27T20:43:24.009Z"
   },
   {
    "duration": 154,
    "start_time": "2022-06-27T20:43:24.171Z"
   },
   {
    "duration": 5,
    "start_time": "2022-06-27T20:43:24.329Z"
   },
   {
    "duration": 10,
    "start_time": "2022-06-27T20:43:24.335Z"
   },
   {
    "duration": 7,
    "start_time": "2022-06-27T20:43:24.346Z"
   },
   {
    "duration": 457,
    "start_time": "2022-06-27T20:43:24.354Z"
   },
   {
    "duration": 18,
    "start_time": "2022-06-27T20:43:24.813Z"
   },
   {
    "duration": 129,
    "start_time": "2022-06-27T20:43:24.832Z"
   },
   {
    "duration": 25,
    "start_time": "2022-06-27T20:43:24.962Z"
   },
   {
    "duration": 14,
    "start_time": "2022-06-27T20:43:24.989Z"
   },
   {
    "duration": 42,
    "start_time": "2022-06-28T02:10:06.820Z"
   },
   {
    "duration": 1080,
    "start_time": "2022-06-28T02:11:31.569Z"
   },
   {
    "duration": 147,
    "start_time": "2022-06-28T02:11:32.652Z"
   },
   {
    "duration": 22,
    "start_time": "2022-06-28T02:11:32.800Z"
   },
   {
    "duration": 17,
    "start_time": "2022-06-28T02:11:32.824Z"
   },
   {
    "duration": 15,
    "start_time": "2022-06-28T02:11:32.842Z"
   },
   {
    "duration": 4,
    "start_time": "2022-06-28T02:11:32.858Z"
   },
   {
    "duration": 8,
    "start_time": "2022-06-28T02:11:32.863Z"
   },
   {
    "duration": 11,
    "start_time": "2022-06-28T02:11:32.872Z"
   },
   {
    "duration": 8,
    "start_time": "2022-06-28T02:11:32.885Z"
   },
   {
    "duration": 264,
    "start_time": "2022-06-28T02:11:32.894Z"
   },
   {
    "duration": 233,
    "start_time": "2022-06-28T02:11:33.159Z"
   },
   {
    "duration": 195,
    "start_time": "2022-06-28T02:11:33.393Z"
   },
   {
    "duration": 310,
    "start_time": "2022-06-28T02:11:33.589Z"
   },
   {
    "duration": 180,
    "start_time": "2022-06-28T02:11:33.901Z"
   },
   {
    "duration": 271,
    "start_time": "2022-06-28T02:11:34.082Z"
   },
   {
    "duration": 10,
    "start_time": "2022-06-28T02:11:34.354Z"
   },
   {
    "duration": 166,
    "start_time": "2022-06-28T02:11:34.365Z"
   },
   {
    "duration": 6,
    "start_time": "2022-06-28T02:11:34.533Z"
   },
   {
    "duration": 146,
    "start_time": "2022-06-28T02:11:34.556Z"
   },
   {
    "duration": 134,
    "start_time": "2022-06-28T02:11:34.703Z"
   },
   {
    "duration": 12,
    "start_time": "2022-06-28T02:11:34.838Z"
   },
   {
    "duration": 7,
    "start_time": "2022-06-28T02:11:34.852Z"
   },
   {
    "duration": 8,
    "start_time": "2022-06-28T02:11:34.860Z"
   },
   {
    "duration": 451,
    "start_time": "2022-06-28T02:11:34.869Z"
   },
   {
    "duration": 9,
    "start_time": "2022-06-28T02:11:35.321Z"
   },
   {
    "duration": 147,
    "start_time": "2022-06-28T02:11:35.331Z"
   },
   {
    "duration": 26,
    "start_time": "2022-06-28T02:11:35.479Z"
   },
   {
    "duration": 12,
    "start_time": "2022-06-28T02:11:35.507Z"
   },
   {
    "duration": 252,
    "start_time": "2022-06-28T02:11:58.118Z"
   },
   {
    "duration": 178,
    "start_time": "2022-06-28T02:12:30.860Z"
   },
   {
    "duration": 15,
    "start_time": "2022-06-28T03:06:03.827Z"
   },
   {
    "duration": 92,
    "start_time": "2022-06-28T03:38:10.102Z"
   },
   {
    "duration": 13,
    "start_time": "2022-06-28T03:39:10.129Z"
   },
   {
    "duration": 7,
    "start_time": "2022-06-28T03:39:43.034Z"
   },
   {
    "duration": 4,
    "start_time": "2022-06-28T03:43:08.819Z"
   },
   {
    "duration": 5,
    "start_time": "2022-06-28T03:43:28.657Z"
   },
   {
    "duration": 14,
    "start_time": "2022-06-28T03:43:46.859Z"
   },
   {
    "duration": 7,
    "start_time": "2022-06-28T03:44:10.957Z"
   },
   {
    "duration": 9,
    "start_time": "2022-06-28T03:44:25.572Z"
   },
   {
    "duration": 13,
    "start_time": "2022-06-28T03:44:39.690Z"
   },
   {
    "duration": 9,
    "start_time": "2022-06-28T03:44:44.466Z"
   },
   {
    "duration": 938,
    "start_time": "2022-06-28T03:45:07.381Z"
   },
   {
    "duration": 95,
    "start_time": "2022-06-28T03:45:08.321Z"
   },
   {
    "duration": 20,
    "start_time": "2022-06-28T03:45:08.418Z"
   },
   {
    "duration": 20,
    "start_time": "2022-06-28T03:45:08.439Z"
   },
   {
    "duration": 17,
    "start_time": "2022-06-28T03:45:08.461Z"
   },
   {
    "duration": 3,
    "start_time": "2022-06-28T03:45:08.479Z"
   },
   {
    "duration": 11,
    "start_time": "2022-06-28T03:45:08.484Z"
   },
   {
    "duration": 13,
    "start_time": "2022-06-28T03:45:08.496Z"
   },
   {
    "duration": 9,
    "start_time": "2022-06-28T03:45:08.511Z"
   },
   {
    "duration": 259,
    "start_time": "2022-06-28T03:45:08.552Z"
   },
   {
    "duration": 248,
    "start_time": "2022-06-28T03:45:08.812Z"
   },
   {
    "duration": 195,
    "start_time": "2022-06-28T03:45:09.062Z"
   },
   {
    "duration": 296,
    "start_time": "2022-06-28T03:45:09.259Z"
   },
   {
    "duration": 194,
    "start_time": "2022-06-28T03:45:09.558Z"
   },
   {
    "duration": 305,
    "start_time": "2022-06-28T03:45:09.754Z"
   },
   {
    "duration": 12,
    "start_time": "2022-06-28T03:45:10.061Z"
   },
   {
    "duration": 151,
    "start_time": "2022-06-28T03:45:10.074Z"
   },
   {
    "duration": 6,
    "start_time": "2022-06-28T03:45:10.226Z"
   },
   {
    "duration": 159,
    "start_time": "2022-06-28T03:45:10.234Z"
   },
   {
    "duration": 142,
    "start_time": "2022-06-28T03:45:10.394Z"
   },
   {
    "duration": 5,
    "start_time": "2022-06-28T03:45:10.537Z"
   },
   {
    "duration": 7,
    "start_time": "2022-06-28T03:45:10.551Z"
   },
   {
    "duration": 23,
    "start_time": "2022-06-28T03:45:10.559Z"
   },
   {
    "duration": 42,
    "start_time": "2022-06-28T03:45:10.583Z"
   },
   {
    "duration": 17,
    "start_time": "2022-06-28T03:45:10.627Z"
   },
   {
    "duration": 436,
    "start_time": "2022-06-28T03:45:10.645Z"
   },
   {
    "duration": 10,
    "start_time": "2022-06-28T03:45:11.082Z"
   },
   {
    "duration": 142,
    "start_time": "2022-06-28T03:45:11.093Z"
   },
   {
    "duration": 33,
    "start_time": "2022-06-28T03:45:11.237Z"
   },
   {
    "duration": 12,
    "start_time": "2022-06-28T03:45:11.271Z"
   },
   {
    "duration": 12,
    "start_time": "2022-06-28T03:52:22.799Z"
   },
   {
    "duration": 8,
    "start_time": "2022-06-28T03:52:40.177Z"
   },
   {
    "duration": 922,
    "start_time": "2022-06-28T03:52:51.089Z"
   },
   {
    "duration": 96,
    "start_time": "2022-06-28T03:52:52.013Z"
   },
   {
    "duration": 22,
    "start_time": "2022-06-28T03:52:52.110Z"
   },
   {
    "duration": 20,
    "start_time": "2022-06-28T03:52:52.134Z"
   },
   {
    "duration": 18,
    "start_time": "2022-06-28T03:52:52.155Z"
   },
   {
    "duration": 4,
    "start_time": "2022-06-28T03:52:52.174Z"
   },
   {
    "duration": 10,
    "start_time": "2022-06-28T03:52:52.179Z"
   },
   {
    "duration": 12,
    "start_time": "2022-06-28T03:52:52.190Z"
   },
   {
    "duration": 10,
    "start_time": "2022-06-28T03:52:52.203Z"
   },
   {
    "duration": 293,
    "start_time": "2022-06-28T03:52:52.216Z"
   },
   {
    "duration": 249,
    "start_time": "2022-06-28T03:52:52.510Z"
   },
   {
    "duration": 195,
    "start_time": "2022-06-28T03:52:52.761Z"
   },
   {
    "duration": 303,
    "start_time": "2022-06-28T03:52:52.958Z"
   },
   {
    "duration": 221,
    "start_time": "2022-06-28T03:52:53.263Z"
   },
   {
    "duration": 287,
    "start_time": "2022-06-28T03:52:53.486Z"
   },
   {
    "duration": 10,
    "start_time": "2022-06-28T03:52:53.775Z"
   },
   {
    "duration": 141,
    "start_time": "2022-06-28T03:52:53.787Z"
   },
   {
    "duration": 5,
    "start_time": "2022-06-28T03:52:53.930Z"
   },
   {
    "duration": 156,
    "start_time": "2022-06-28T03:52:53.936Z"
   },
   {
    "duration": 158,
    "start_time": "2022-06-28T03:52:54.093Z"
   },
   {
    "duration": 5,
    "start_time": "2022-06-28T03:52:54.252Z"
   },
   {
    "duration": 11,
    "start_time": "2022-06-28T03:52:54.258Z"
   },
   {
    "duration": 11,
    "start_time": "2022-06-28T03:52:54.271Z"
   },
   {
    "duration": 14,
    "start_time": "2022-06-28T03:52:54.283Z"
   },
   {
    "duration": 8,
    "start_time": "2022-06-28T03:52:54.299Z"
   },
   {
    "duration": 513,
    "start_time": "2022-06-28T03:52:54.308Z"
   },
   {
    "duration": 10,
    "start_time": "2022-06-28T03:52:54.823Z"
   },
   {
    "duration": 140,
    "start_time": "2022-06-28T03:52:54.835Z"
   },
   {
    "duration": 23,
    "start_time": "2022-06-28T03:52:54.977Z"
   },
   {
    "duration": 12,
    "start_time": "2022-06-28T03:52:55.002Z"
   },
   {
    "duration": 8,
    "start_time": "2022-06-28T03:53:19.319Z"
   },
   {
    "duration": 985,
    "start_time": "2022-06-28T03:53:27.805Z"
   },
   {
    "duration": 93,
    "start_time": "2022-06-28T03:53:28.792Z"
   },
   {
    "duration": 23,
    "start_time": "2022-06-28T03:53:28.887Z"
   },
   {
    "duration": 19,
    "start_time": "2022-06-28T03:53:28.913Z"
   },
   {
    "duration": 22,
    "start_time": "2022-06-28T03:53:28.934Z"
   },
   {
    "duration": 3,
    "start_time": "2022-06-28T03:53:28.957Z"
   },
   {
    "duration": 9,
    "start_time": "2022-06-28T03:53:28.962Z"
   },
   {
    "duration": 14,
    "start_time": "2022-06-28T03:53:28.973Z"
   },
   {
    "duration": 11,
    "start_time": "2022-06-28T03:53:28.988Z"
   },
   {
    "duration": 309,
    "start_time": "2022-06-28T03:53:29.001Z"
   },
   {
    "duration": 283,
    "start_time": "2022-06-28T03:53:29.311Z"
   },
   {
    "duration": 241,
    "start_time": "2022-06-28T03:53:29.596Z"
   },
   {
    "duration": 336,
    "start_time": "2022-06-28T03:53:29.839Z"
   },
   {
    "duration": 219,
    "start_time": "2022-06-28T03:53:30.176Z"
   },
   {
    "duration": 277,
    "start_time": "2022-06-28T03:53:30.396Z"
   },
   {
    "duration": 11,
    "start_time": "2022-06-28T03:53:30.674Z"
   },
   {
    "duration": 149,
    "start_time": "2022-06-28T03:53:30.687Z"
   },
   {
    "duration": 14,
    "start_time": "2022-06-28T03:53:30.838Z"
   },
   {
    "duration": 153,
    "start_time": "2022-06-28T03:53:30.854Z"
   },
   {
    "duration": 145,
    "start_time": "2022-06-28T03:53:31.008Z"
   },
   {
    "duration": 4,
    "start_time": "2022-06-28T03:53:31.155Z"
   },
   {
    "duration": 11,
    "start_time": "2022-06-28T03:53:31.160Z"
   },
   {
    "duration": 19,
    "start_time": "2022-06-28T03:53:31.172Z"
   },
   {
    "duration": 11,
    "start_time": "2022-06-28T03:53:31.193Z"
   },
   {
    "duration": 19,
    "start_time": "2022-06-28T03:53:31.206Z"
   },
   {
    "duration": 227,
    "start_time": "2022-06-28T03:53:31.227Z"
   },
   {
    "duration": 0,
    "start_time": "2022-06-28T03:53:31.456Z"
   },
   {
    "duration": 0,
    "start_time": "2022-06-28T03:53:31.457Z"
   },
   {
    "duration": 0,
    "start_time": "2022-06-28T03:53:31.458Z"
   },
   {
    "duration": 0,
    "start_time": "2022-06-28T03:53:31.459Z"
   },
   {
    "duration": 945,
    "start_time": "2022-06-28T03:54:06.687Z"
   },
   {
    "duration": 100,
    "start_time": "2022-06-28T03:54:07.634Z"
   },
   {
    "duration": 22,
    "start_time": "2022-06-28T03:54:07.736Z"
   },
   {
    "duration": 22,
    "start_time": "2022-06-28T03:54:07.760Z"
   },
   {
    "duration": 19,
    "start_time": "2022-06-28T03:54:07.783Z"
   },
   {
    "duration": 4,
    "start_time": "2022-06-28T03:54:07.804Z"
   },
   {
    "duration": 43,
    "start_time": "2022-06-28T03:54:07.809Z"
   },
   {
    "duration": 12,
    "start_time": "2022-06-28T03:54:07.854Z"
   },
   {
    "duration": 10,
    "start_time": "2022-06-28T03:54:07.868Z"
   },
   {
    "duration": 287,
    "start_time": "2022-06-28T03:54:07.880Z"
   },
   {
    "duration": 255,
    "start_time": "2022-06-28T03:54:08.168Z"
   },
   {
    "duration": 202,
    "start_time": "2022-06-28T03:54:08.425Z"
   },
   {
    "duration": 323,
    "start_time": "2022-06-28T03:54:08.628Z"
   },
   {
    "duration": 190,
    "start_time": "2022-06-28T03:54:08.952Z"
   },
   {
    "duration": 312,
    "start_time": "2022-06-28T03:54:09.144Z"
   },
   {
    "duration": 13,
    "start_time": "2022-06-28T03:54:09.458Z"
   },
   {
    "duration": 167,
    "start_time": "2022-06-28T03:54:09.473Z"
   },
   {
    "duration": 12,
    "start_time": "2022-06-28T03:54:09.642Z"
   },
   {
    "duration": 154,
    "start_time": "2022-06-28T03:54:09.655Z"
   },
   {
    "duration": 154,
    "start_time": "2022-06-28T03:54:09.811Z"
   },
   {
    "duration": 4,
    "start_time": "2022-06-28T03:54:09.967Z"
   },
   {
    "duration": 8,
    "start_time": "2022-06-28T03:54:09.973Z"
   },
   {
    "duration": 8,
    "start_time": "2022-06-28T03:54:09.983Z"
   },
   {
    "duration": 15,
    "start_time": "2022-06-28T03:54:09.993Z"
   },
   {
    "duration": 509,
    "start_time": "2022-06-28T03:54:10.010Z"
   },
   {
    "duration": 9,
    "start_time": "2022-06-28T03:54:10.520Z"
   },
   {
    "duration": 126,
    "start_time": "2022-06-28T03:54:10.530Z"
   },
   {
    "duration": 22,
    "start_time": "2022-06-28T03:54:10.659Z"
   },
   {
    "duration": 12,
    "start_time": "2022-06-28T03:54:10.683Z"
   },
   {
    "duration": 3,
    "start_time": "2022-06-28T03:58:02.787Z"
   },
   {
    "duration": 6,
    "start_time": "2022-06-28T03:58:08.871Z"
   },
   {
    "duration": 57,
    "start_time": "2022-06-28T04:01:21.496Z"
   },
   {
    "duration": 55,
    "start_time": "2022-06-28T04:01:29.830Z"
   },
   {
    "duration": 86,
    "start_time": "2022-06-28T04:01:32.833Z"
   },
   {
    "duration": 11,
    "start_time": "2022-06-28T04:02:16.407Z"
   },
   {
    "duration": 45,
    "start_time": "2022-06-28T04:02:45.789Z"
   },
   {
    "duration": 3,
    "start_time": "2022-06-28T04:02:51.756Z"
   },
   {
    "duration": 3,
    "start_time": "2022-06-28T04:02:55.882Z"
   },
   {
    "duration": 11,
    "start_time": "2022-06-28T04:03:16.109Z"
   },
   {
    "duration": 11,
    "start_time": "2022-06-28T04:32:21.707Z"
   },
   {
    "duration": 12,
    "start_time": "2022-06-28T07:48:32.948Z"
   },
   {
    "duration": 8,
    "start_time": "2022-06-28T07:54:51.490Z"
   },
   {
    "duration": 11,
    "start_time": "2022-06-28T07:55:05.625Z"
   },
   {
    "duration": 37,
    "start_time": "2022-06-28T07:55:24.014Z"
   },
   {
    "duration": 17,
    "start_time": "2022-06-28T07:55:58.322Z"
   },
   {
    "duration": 30,
    "start_time": "2022-06-28T07:56:03.102Z"
   },
   {
    "duration": 4,
    "start_time": "2022-06-28T07:56:34.950Z"
   },
   {
    "duration": 9,
    "start_time": "2022-06-28T07:56:39.918Z"
   },
   {
    "duration": 10,
    "start_time": "2022-06-28T07:57:13.144Z"
   },
   {
    "duration": 28,
    "start_time": "2022-06-28T07:58:03.148Z"
   },
   {
    "duration": 20,
    "start_time": "2022-06-28T07:58:19.330Z"
   },
   {
    "duration": 23,
    "start_time": "2022-06-28T08:21:48.307Z"
   },
   {
    "duration": 32,
    "start_time": "2022-06-28T08:21:53.561Z"
   },
   {
    "duration": 1014,
    "start_time": "2022-06-28T08:22:00.675Z"
   },
   {
    "duration": 98,
    "start_time": "2022-06-28T08:22:01.691Z"
   },
   {
    "duration": 25,
    "start_time": "2022-06-28T08:22:01.790Z"
   },
   {
    "duration": 19,
    "start_time": "2022-06-28T08:22:01.816Z"
   },
   {
    "duration": 42,
    "start_time": "2022-06-28T08:22:01.836Z"
   },
   {
    "duration": 10,
    "start_time": "2022-06-28T08:22:01.879Z"
   },
   {
    "duration": 20,
    "start_time": "2022-06-28T08:22:01.891Z"
   },
   {
    "duration": 19,
    "start_time": "2022-06-28T08:22:01.913Z"
   },
   {
    "duration": 10,
    "start_time": "2022-06-28T08:22:01.934Z"
   },
   {
    "duration": 276,
    "start_time": "2022-06-28T08:22:01.947Z"
   },
   {
    "duration": 266,
    "start_time": "2022-06-28T08:22:02.225Z"
   },
   {
    "duration": 211,
    "start_time": "2022-06-28T08:22:02.492Z"
   },
   {
    "duration": 295,
    "start_time": "2022-06-28T08:22:02.705Z"
   },
   {
    "duration": 215,
    "start_time": "2022-06-28T08:22:03.001Z"
   },
   {
    "duration": 349,
    "start_time": "2022-06-28T08:22:03.218Z"
   },
   {
    "duration": 10,
    "start_time": "2022-06-28T08:22:03.569Z"
   },
   {
    "duration": 154,
    "start_time": "2022-06-28T08:22:03.581Z"
   },
   {
    "duration": 5,
    "start_time": "2022-06-28T08:22:03.737Z"
   },
   {
    "duration": 161,
    "start_time": "2022-06-28T08:22:03.750Z"
   },
   {
    "duration": 158,
    "start_time": "2022-06-28T08:22:03.912Z"
   },
   {
    "duration": 5,
    "start_time": "2022-06-28T08:22:04.072Z"
   },
   {
    "duration": 13,
    "start_time": "2022-06-28T08:22:04.079Z"
   },
   {
    "duration": 9,
    "start_time": "2022-06-28T08:22:04.094Z"
   },
   {
    "duration": 8,
    "start_time": "2022-06-28T08:22:04.105Z"
   },
   {
    "duration": 62,
    "start_time": "2022-06-28T08:22:04.115Z"
   },
   {
    "duration": 441,
    "start_time": "2022-06-28T08:22:04.178Z"
   },
   {
    "duration": 0,
    "start_time": "2022-06-28T08:22:04.621Z"
   },
   {
    "duration": 0,
    "start_time": "2022-06-28T08:22:04.622Z"
   },
   {
    "duration": 0,
    "start_time": "2022-06-28T08:22:04.624Z"
   },
   {
    "duration": 0,
    "start_time": "2022-06-28T08:22:04.624Z"
   },
   {
    "duration": 1056,
    "start_time": "2022-06-28T08:22:25.846Z"
   },
   {
    "duration": 94,
    "start_time": "2022-06-28T08:22:26.905Z"
   },
   {
    "duration": 25,
    "start_time": "2022-06-28T08:22:27.004Z"
   },
   {
    "duration": 30,
    "start_time": "2022-06-28T08:22:27.031Z"
   },
   {
    "duration": 25,
    "start_time": "2022-06-28T08:22:27.063Z"
   },
   {
    "duration": 4,
    "start_time": "2022-06-28T08:22:27.090Z"
   },
   {
    "duration": 19,
    "start_time": "2022-06-28T08:22:27.096Z"
   },
   {
    "duration": 41,
    "start_time": "2022-06-28T08:22:27.117Z"
   },
   {
    "duration": 13,
    "start_time": "2022-06-28T08:22:27.160Z"
   },
   {
    "duration": 304,
    "start_time": "2022-06-28T08:22:27.174Z"
   },
   {
    "duration": 296,
    "start_time": "2022-06-28T08:22:27.480Z"
   },
   {
    "duration": 223,
    "start_time": "2022-06-28T08:22:27.778Z"
   },
   {
    "duration": 305,
    "start_time": "2022-06-28T08:22:28.004Z"
   },
   {
    "duration": 233,
    "start_time": "2022-06-28T08:22:28.311Z"
   },
   {
    "duration": 324,
    "start_time": "2022-06-28T08:22:28.546Z"
   },
   {
    "duration": 13,
    "start_time": "2022-06-28T08:22:28.872Z"
   },
   {
    "duration": 167,
    "start_time": "2022-06-28T08:22:28.887Z"
   },
   {
    "duration": 6,
    "start_time": "2022-06-28T08:22:29.056Z"
   },
   {
    "duration": 171,
    "start_time": "2022-06-28T08:22:29.064Z"
   },
   {
    "duration": 185,
    "start_time": "2022-06-28T08:22:29.236Z"
   },
   {
    "duration": 5,
    "start_time": "2022-06-28T08:22:29.423Z"
   },
   {
    "duration": 29,
    "start_time": "2022-06-28T08:22:29.429Z"
   },
   {
    "duration": 9,
    "start_time": "2022-06-28T08:22:29.460Z"
   },
   {
    "duration": 12,
    "start_time": "2022-06-28T08:22:29.471Z"
   },
   {
    "duration": 547,
    "start_time": "2022-06-28T08:22:29.485Z"
   },
   {
    "duration": 18,
    "start_time": "2022-06-28T08:22:30.033Z"
   },
   {
    "duration": 172,
    "start_time": "2022-06-28T08:22:30.053Z"
   },
   {
    "duration": 43,
    "start_time": "2022-06-28T08:22:30.227Z"
   },
   {
    "duration": 19,
    "start_time": "2022-06-28T08:22:30.272Z"
   },
   {
    "duration": 47,
    "start_time": "2022-06-29T02:26:27.463Z"
   },
   {
    "duration": 1161,
    "start_time": "2022-06-29T02:26:33.963Z"
   },
   {
    "duration": 190,
    "start_time": "2022-06-29T02:26:35.127Z"
   },
   {
    "duration": 27,
    "start_time": "2022-06-29T02:26:35.318Z"
   },
   {
    "duration": 20,
    "start_time": "2022-06-29T02:26:35.347Z"
   },
   {
    "duration": 24,
    "start_time": "2022-06-29T02:26:35.369Z"
   },
   {
    "duration": 4,
    "start_time": "2022-06-29T02:26:35.394Z"
   },
   {
    "duration": 9,
    "start_time": "2022-06-29T02:26:35.428Z"
   },
   {
    "duration": 15,
    "start_time": "2022-06-29T02:26:35.438Z"
   },
   {
    "duration": 10,
    "start_time": "2022-06-29T02:26:35.454Z"
   },
   {
    "duration": 297,
    "start_time": "2022-06-29T02:26:35.466Z"
   },
   {
    "duration": 275,
    "start_time": "2022-06-29T02:26:35.765Z"
   },
   {
    "duration": 236,
    "start_time": "2022-06-29T02:26:36.042Z"
   },
   {
    "duration": 402,
    "start_time": "2022-06-29T02:26:36.280Z"
   },
   {
    "duration": 202,
    "start_time": "2022-06-29T02:26:36.685Z"
   },
   {
    "duration": 314,
    "start_time": "2022-06-29T02:26:36.889Z"
   },
   {
    "duration": 11,
    "start_time": "2022-06-29T02:26:37.205Z"
   },
   {
    "duration": 178,
    "start_time": "2022-06-29T02:26:37.226Z"
   },
   {
    "duration": 6,
    "start_time": "2022-06-29T02:26:37.406Z"
   },
   {
    "duration": 174,
    "start_time": "2022-06-29T02:26:37.413Z"
   },
   {
    "duration": 165,
    "start_time": "2022-06-29T02:26:37.589Z"
   },
   {
    "duration": 5,
    "start_time": "2022-06-29T02:26:37.755Z"
   },
   {
    "duration": 33,
    "start_time": "2022-06-29T02:26:37.762Z"
   },
   {
    "duration": 30,
    "start_time": "2022-06-29T02:26:37.796Z"
   },
   {
    "duration": 461,
    "start_time": "2022-06-29T02:26:37.827Z"
   },
   {
    "duration": 10,
    "start_time": "2022-06-29T02:26:38.290Z"
   },
   {
    "duration": 142,
    "start_time": "2022-06-29T02:26:38.301Z"
   },
   {
    "duration": 26,
    "start_time": "2022-06-29T02:26:38.445Z"
   },
   {
    "duration": 13,
    "start_time": "2022-06-29T02:26:38.473Z"
   },
   {
    "duration": 275,
    "start_time": "2022-06-29T02:26:44.194Z"
   },
   {
    "duration": 5,
    "start_time": "2022-06-29T02:41:49.380Z"
   },
   {
    "duration": 5,
    "start_time": "2022-06-29T02:44:21.090Z"
   },
   {
    "duration": 397,
    "start_time": "2022-06-29T02:44:23.396Z"
   },
   {
    "duration": 1048,
    "start_time": "2022-06-29T02:46:12.507Z"
   },
   {
    "duration": 103,
    "start_time": "2022-06-29T02:46:13.557Z"
   },
   {
    "duration": 33,
    "start_time": "2022-06-29T02:46:13.663Z"
   },
   {
    "duration": 22,
    "start_time": "2022-06-29T02:46:13.698Z"
   },
   {
    "duration": 21,
    "start_time": "2022-06-29T02:46:13.728Z"
   },
   {
    "duration": 3,
    "start_time": "2022-06-29T02:46:13.751Z"
   },
   {
    "duration": 19,
    "start_time": "2022-06-29T02:46:13.756Z"
   },
   {
    "duration": 17,
    "start_time": "2022-06-29T02:46:13.777Z"
   },
   {
    "duration": 34,
    "start_time": "2022-06-29T02:46:13.795Z"
   },
   {
    "duration": 303,
    "start_time": "2022-06-29T02:46:13.831Z"
   },
   {
    "duration": 275,
    "start_time": "2022-06-29T02:46:14.135Z"
   },
   {
    "duration": 217,
    "start_time": "2022-06-29T02:46:14.412Z"
   },
   {
    "duration": 333,
    "start_time": "2022-06-29T02:46:14.631Z"
   },
   {
    "duration": 215,
    "start_time": "2022-06-29T02:46:14.968Z"
   },
   {
    "duration": 349,
    "start_time": "2022-06-29T02:46:15.185Z"
   },
   {
    "duration": 11,
    "start_time": "2022-06-29T02:46:15.536Z"
   },
   {
    "duration": 152,
    "start_time": "2022-06-29T02:46:15.548Z"
   },
   {
    "duration": 4,
    "start_time": "2022-06-29T02:46:15.702Z"
   },
   {
    "duration": 167,
    "start_time": "2022-06-29T02:46:15.708Z"
   },
   {
    "duration": 169,
    "start_time": "2022-06-29T02:46:15.877Z"
   },
   {
    "duration": 6,
    "start_time": "2022-06-29T02:46:16.047Z"
   },
   {
    "duration": 12,
    "start_time": "2022-06-29T02:46:16.055Z"
   },
   {
    "duration": 13,
    "start_time": "2022-06-29T02:46:16.069Z"
   },
   {
    "duration": 8,
    "start_time": "2022-06-29T02:46:16.084Z"
   },
   {
    "duration": 511,
    "start_time": "2022-06-29T02:46:16.093Z"
   },
   {
    "duration": 0,
    "start_time": "2022-06-29T02:46:16.606Z"
   },
   {
    "duration": 0,
    "start_time": "2022-06-29T02:46:16.607Z"
   },
   {
    "duration": 0,
    "start_time": "2022-06-29T02:46:16.608Z"
   },
   {
    "duration": 0,
    "start_time": "2022-06-29T02:46:16.609Z"
   },
   {
    "duration": 17,
    "start_time": "2022-06-29T02:47:31.965Z"
   },
   {
    "duration": 15,
    "start_time": "2022-06-29T02:47:54.161Z"
   },
   {
    "duration": 12,
    "start_time": "2022-06-29T02:47:59.661Z"
   },
   {
    "duration": 9,
    "start_time": "2022-06-29T02:48:25.230Z"
   },
   {
    "duration": 6,
    "start_time": "2022-06-29T02:48:59.310Z"
   },
   {
    "duration": 16,
    "start_time": "2022-06-29T02:49:04.221Z"
   },
   {
    "duration": 8,
    "start_time": "2022-06-29T02:49:28.044Z"
   },
   {
    "duration": 1049,
    "start_time": "2022-06-29T02:49:33.687Z"
   },
   {
    "duration": 100,
    "start_time": "2022-06-29T02:49:34.738Z"
   },
   {
    "duration": 26,
    "start_time": "2022-06-29T02:49:34.840Z"
   },
   {
    "duration": 19,
    "start_time": "2022-06-29T02:49:34.868Z"
   },
   {
    "duration": 45,
    "start_time": "2022-06-29T02:49:34.889Z"
   },
   {
    "duration": 4,
    "start_time": "2022-06-29T02:49:34.935Z"
   },
   {
    "duration": 10,
    "start_time": "2022-06-29T02:49:34.940Z"
   },
   {
    "duration": 13,
    "start_time": "2022-06-29T02:49:34.951Z"
   },
   {
    "duration": 10,
    "start_time": "2022-06-29T02:49:34.965Z"
   },
   {
    "duration": 325,
    "start_time": "2022-06-29T02:49:34.977Z"
   },
   {
    "duration": 275,
    "start_time": "2022-06-29T02:49:35.303Z"
   },
   {
    "duration": 214,
    "start_time": "2022-06-29T02:49:35.579Z"
   },
   {
    "duration": 336,
    "start_time": "2022-06-29T02:49:35.794Z"
   },
   {
    "duration": 270,
    "start_time": "2022-06-29T02:49:36.131Z"
   },
   {
    "duration": 354,
    "start_time": "2022-06-29T02:49:36.403Z"
   },
   {
    "duration": 11,
    "start_time": "2022-06-29T02:49:36.759Z"
   },
   {
    "duration": 148,
    "start_time": "2022-06-29T02:49:36.772Z"
   },
   {
    "duration": 8,
    "start_time": "2022-06-29T02:49:36.921Z"
   },
   {
    "duration": 154,
    "start_time": "2022-06-29T02:49:36.931Z"
   },
   {
    "duration": 158,
    "start_time": "2022-06-29T02:49:37.087Z"
   },
   {
    "duration": 6,
    "start_time": "2022-06-29T02:49:37.247Z"
   },
   {
    "duration": 35,
    "start_time": "2022-06-29T02:49:37.255Z"
   },
   {
    "duration": 27,
    "start_time": "2022-06-29T02:49:37.292Z"
   },
   {
    "duration": 18,
    "start_time": "2022-06-29T02:49:37.321Z"
   },
   {
    "duration": 484,
    "start_time": "2022-06-29T02:49:37.342Z"
   },
   {
    "duration": 9,
    "start_time": "2022-06-29T02:49:37.827Z"
   },
   {
    "duration": 142,
    "start_time": "2022-06-29T02:49:37.837Z"
   },
   {
    "duration": 28,
    "start_time": "2022-06-29T02:49:37.982Z"
   },
   {
    "duration": 24,
    "start_time": "2022-06-29T02:49:38.011Z"
   },
   {
    "duration": 5,
    "start_time": "2022-06-29T02:50:47.760Z"
   },
   {
    "duration": 1015,
    "start_time": "2022-06-29T02:51:10.842Z"
   },
   {
    "duration": 103,
    "start_time": "2022-06-29T02:51:11.859Z"
   },
   {
    "duration": 26,
    "start_time": "2022-06-29T02:51:11.963Z"
   },
   {
    "duration": 21,
    "start_time": "2022-06-29T02:51:11.991Z"
   },
   {
    "duration": 19,
    "start_time": "2022-06-29T02:51:12.027Z"
   },
   {
    "duration": 4,
    "start_time": "2022-06-29T02:51:12.048Z"
   },
   {
    "duration": 15,
    "start_time": "2022-06-29T02:51:12.053Z"
   },
   {
    "duration": 14,
    "start_time": "2022-06-29T02:51:12.069Z"
   },
   {
    "duration": 10,
    "start_time": "2022-06-29T02:51:12.085Z"
   },
   {
    "duration": 317,
    "start_time": "2022-06-29T02:51:12.096Z"
   },
   {
    "duration": 291,
    "start_time": "2022-06-29T02:51:12.415Z"
   },
   {
    "duration": 236,
    "start_time": "2022-06-29T02:51:12.709Z"
   },
   {
    "duration": 333,
    "start_time": "2022-06-29T02:51:12.948Z"
   },
   {
    "duration": 236,
    "start_time": "2022-06-29T02:51:13.284Z"
   },
   {
    "duration": 331,
    "start_time": "2022-06-29T02:51:13.521Z"
   },
   {
    "duration": 13,
    "start_time": "2022-06-29T02:51:13.854Z"
   },
   {
    "duration": 189,
    "start_time": "2022-06-29T02:51:13.869Z"
   },
   {
    "duration": 6,
    "start_time": "2022-06-29T02:51:14.060Z"
   },
   {
    "duration": 183,
    "start_time": "2022-06-29T02:51:14.067Z"
   },
   {
    "duration": 168,
    "start_time": "2022-06-29T02:51:14.252Z"
   },
   {
    "duration": 7,
    "start_time": "2022-06-29T02:51:14.426Z"
   },
   {
    "duration": 9,
    "start_time": "2022-06-29T02:51:14.435Z"
   },
   {
    "duration": 9,
    "start_time": "2022-06-29T02:51:14.446Z"
   },
   {
    "duration": 11,
    "start_time": "2022-06-29T02:51:14.457Z"
   },
   {
    "duration": 542,
    "start_time": "2022-06-29T02:51:14.470Z"
   },
   {
    "duration": 16,
    "start_time": "2022-06-29T02:51:15.014Z"
   },
   {
    "duration": 160,
    "start_time": "2022-06-29T02:51:15.032Z"
   },
   {
    "duration": 37,
    "start_time": "2022-06-29T02:51:15.194Z"
   },
   {
    "duration": 13,
    "start_time": "2022-06-29T02:51:15.233Z"
   },
   {
    "duration": 266,
    "start_time": "2022-06-29T02:51:20.614Z"
   },
   {
    "duration": 203,
    "start_time": "2022-06-29T02:51:38.711Z"
   },
   {
    "duration": 206,
    "start_time": "2022-06-29T02:51:51.697Z"
   },
   {
    "duration": 1004,
    "start_time": "2022-06-29T02:52:04.667Z"
   },
   {
    "duration": 93,
    "start_time": "2022-06-29T02:52:05.673Z"
   },
   {
    "duration": 24,
    "start_time": "2022-06-29T02:52:05.767Z"
   },
   {
    "duration": 29,
    "start_time": "2022-06-29T02:52:05.794Z"
   },
   {
    "duration": 22,
    "start_time": "2022-06-29T02:52:05.827Z"
   },
   {
    "duration": 4,
    "start_time": "2022-06-29T02:52:05.851Z"
   },
   {
    "duration": 17,
    "start_time": "2022-06-29T02:52:05.856Z"
   },
   {
    "duration": 15,
    "start_time": "2022-06-29T02:52:05.874Z"
   },
   {
    "duration": 37,
    "start_time": "2022-06-29T02:52:05.891Z"
   },
   {
    "duration": 292,
    "start_time": "2022-06-29T02:52:05.931Z"
   },
   {
    "duration": 331,
    "start_time": "2022-06-29T02:52:06.226Z"
   },
   {
    "duration": 230,
    "start_time": "2022-06-29T02:52:06.559Z"
   },
   {
    "duration": 383,
    "start_time": "2022-06-29T02:52:06.791Z"
   },
   {
    "duration": 234,
    "start_time": "2022-06-29T02:52:07.176Z"
   },
   {
    "duration": 334,
    "start_time": "2022-06-29T02:52:07.412Z"
   },
   {
    "duration": 12,
    "start_time": "2022-06-29T02:52:07.747Z"
   },
   {
    "duration": 168,
    "start_time": "2022-06-29T02:52:07.761Z"
   },
   {
    "duration": 6,
    "start_time": "2022-06-29T02:52:07.930Z"
   },
   {
    "duration": 188,
    "start_time": "2022-06-29T02:52:07.937Z"
   },
   {
    "duration": 181,
    "start_time": "2022-06-29T02:52:08.128Z"
   },
   {
    "duration": 5,
    "start_time": "2022-06-29T02:52:08.312Z"
   },
   {
    "duration": 8,
    "start_time": "2022-06-29T02:52:08.328Z"
   },
   {
    "duration": 10,
    "start_time": "2022-06-29T02:52:08.338Z"
   },
   {
    "duration": 6,
    "start_time": "2022-06-29T02:52:08.350Z"
   },
   {
    "duration": 474,
    "start_time": "2022-06-29T02:52:08.358Z"
   },
   {
    "duration": 9,
    "start_time": "2022-06-29T02:52:08.834Z"
   },
   {
    "duration": 142,
    "start_time": "2022-06-29T02:52:08.845Z"
   },
   {
    "duration": 37,
    "start_time": "2022-06-29T02:52:08.990Z"
   },
   {
    "duration": 14,
    "start_time": "2022-06-29T02:52:09.029Z"
   },
   {
    "duration": 270,
    "start_time": "2022-06-29T02:52:17.431Z"
   },
   {
    "duration": 1070,
    "start_time": "2022-06-29T02:57:19.021Z"
   },
   {
    "duration": 95,
    "start_time": "2022-06-29T02:57:20.092Z"
   },
   {
    "duration": 22,
    "start_time": "2022-06-29T02:57:20.189Z"
   },
   {
    "duration": 21,
    "start_time": "2022-06-29T02:57:20.212Z"
   },
   {
    "duration": 17,
    "start_time": "2022-06-29T02:57:20.236Z"
   },
   {
    "duration": 9,
    "start_time": "2022-06-29T02:57:20.255Z"
   },
   {
    "duration": 14,
    "start_time": "2022-06-29T02:57:20.265Z"
   },
   {
    "duration": 16,
    "start_time": "2022-06-29T02:57:20.281Z"
   },
   {
    "duration": 35,
    "start_time": "2022-06-29T02:57:20.299Z"
   },
   {
    "duration": 281,
    "start_time": "2022-06-29T02:57:20.336Z"
   },
   {
    "duration": 263,
    "start_time": "2022-06-29T02:57:20.619Z"
   },
   {
    "duration": 208,
    "start_time": "2022-06-29T02:57:20.884Z"
   },
   {
    "duration": 344,
    "start_time": "2022-06-29T02:57:21.094Z"
   },
   {
    "duration": 206,
    "start_time": "2022-06-29T02:57:21.441Z"
   },
   {
    "duration": 299,
    "start_time": "2022-06-29T02:57:21.648Z"
   },
   {
    "duration": 13,
    "start_time": "2022-06-29T02:57:21.949Z"
   },
   {
    "duration": 156,
    "start_time": "2022-06-29T02:57:21.963Z"
   },
   {
    "duration": 9,
    "start_time": "2022-06-29T02:57:22.121Z"
   },
   {
    "duration": 161,
    "start_time": "2022-06-29T02:57:22.132Z"
   },
   {
    "duration": 183,
    "start_time": "2022-06-29T02:57:22.296Z"
   },
   {
    "duration": 5,
    "start_time": "2022-06-29T02:57:22.480Z"
   },
   {
    "duration": 9,
    "start_time": "2022-06-29T02:57:22.487Z"
   },
   {
    "duration": 10,
    "start_time": "2022-06-29T02:57:22.497Z"
   },
   {
    "duration": 24,
    "start_time": "2022-06-29T02:57:22.508Z"
   },
   {
    "duration": 458,
    "start_time": "2022-06-29T02:57:22.534Z"
   },
   {
    "duration": 10,
    "start_time": "2022-06-29T02:57:22.993Z"
   },
   {
    "duration": 136,
    "start_time": "2022-06-29T02:57:23.005Z"
   },
   {
    "duration": 26,
    "start_time": "2022-06-29T02:57:23.143Z"
   },
   {
    "duration": 13,
    "start_time": "2022-06-29T02:57:23.171Z"
   },
   {
    "duration": 277,
    "start_time": "2022-06-29T02:57:30.759Z"
   },
   {
    "duration": 1038,
    "start_time": "2022-06-29T06:18:20.902Z"
   },
   {
    "duration": 125,
    "start_time": "2022-06-29T06:18:21.942Z"
   },
   {
    "duration": 22,
    "start_time": "2022-06-29T06:18:22.068Z"
   },
   {
    "duration": 19,
    "start_time": "2022-06-29T06:18:22.092Z"
   },
   {
    "duration": 18,
    "start_time": "2022-06-29T06:18:22.113Z"
   },
   {
    "duration": 4,
    "start_time": "2022-06-29T06:18:22.132Z"
   },
   {
    "duration": 11,
    "start_time": "2022-06-29T06:18:22.137Z"
   },
   {
    "duration": 13,
    "start_time": "2022-06-29T06:18:22.150Z"
   },
   {
    "duration": 10,
    "start_time": "2022-06-29T06:18:22.164Z"
   },
   {
    "duration": 299,
    "start_time": "2022-06-29T06:18:22.176Z"
   },
   {
    "duration": 274,
    "start_time": "2022-06-29T06:18:22.476Z"
   },
   {
    "duration": 233,
    "start_time": "2022-06-29T06:18:22.752Z"
   },
   {
    "duration": 341,
    "start_time": "2022-06-29T06:18:22.986Z"
   },
   {
    "duration": 217,
    "start_time": "2022-06-29T06:18:23.330Z"
   },
   {
    "duration": 306,
    "start_time": "2022-06-29T06:18:23.548Z"
   },
   {
    "duration": 12,
    "start_time": "2022-06-29T06:18:23.855Z"
   },
   {
    "duration": 186,
    "start_time": "2022-06-29T06:18:23.868Z"
   },
   {
    "duration": 6,
    "start_time": "2022-06-29T06:18:24.056Z"
   },
   {
    "duration": 173,
    "start_time": "2022-06-29T06:18:24.064Z"
   },
   {
    "duration": 170,
    "start_time": "2022-06-29T06:18:24.239Z"
   },
   {
    "duration": 6,
    "start_time": "2022-06-29T06:18:24.410Z"
   },
   {
    "duration": 8,
    "start_time": "2022-06-29T06:18:24.426Z"
   },
   {
    "duration": 11,
    "start_time": "2022-06-29T06:18:24.436Z"
   },
   {
    "duration": 7,
    "start_time": "2022-06-29T06:18:24.449Z"
   },
   {
    "duration": 515,
    "start_time": "2022-06-29T06:18:24.458Z"
   },
   {
    "duration": 10,
    "start_time": "2022-06-29T06:18:24.975Z"
   },
   {
    "duration": 152,
    "start_time": "2022-06-29T06:18:24.987Z"
   },
   {
    "duration": 29,
    "start_time": "2022-06-29T06:18:25.142Z"
   },
   {
    "duration": 14,
    "start_time": "2022-06-29T06:18:25.173Z"
   },
   {
    "duration": 996,
    "start_time": "2022-06-29T06:19:28.862Z"
   },
   {
    "duration": 120,
    "start_time": "2022-06-29T06:19:29.860Z"
   },
   {
    "duration": 22,
    "start_time": "2022-06-29T06:19:29.982Z"
   },
   {
    "duration": 25,
    "start_time": "2022-06-29T06:19:30.006Z"
   },
   {
    "duration": 21,
    "start_time": "2022-06-29T06:19:30.034Z"
   },
   {
    "duration": 4,
    "start_time": "2022-06-29T06:19:30.056Z"
   },
   {
    "duration": 13,
    "start_time": "2022-06-29T06:19:30.062Z"
   },
   {
    "duration": 20,
    "start_time": "2022-06-29T06:19:30.076Z"
   },
   {
    "duration": 36,
    "start_time": "2022-06-29T06:19:30.098Z"
   },
   {
    "duration": 282,
    "start_time": "2022-06-29T06:19:30.136Z"
   },
   {
    "duration": 270,
    "start_time": "2022-06-29T06:19:30.420Z"
   },
   {
    "duration": 221,
    "start_time": "2022-06-29T06:19:30.691Z"
   },
   {
    "duration": 327,
    "start_time": "2022-06-29T06:19:30.913Z"
   },
   {
    "duration": 203,
    "start_time": "2022-06-29T06:19:31.243Z"
   },
   {
    "duration": 310,
    "start_time": "2022-06-29T06:19:31.448Z"
   },
   {
    "duration": 10,
    "start_time": "2022-06-29T06:19:31.759Z"
   },
   {
    "duration": 155,
    "start_time": "2022-06-29T06:19:31.770Z"
   },
   {
    "duration": 4,
    "start_time": "2022-06-29T06:19:31.927Z"
   },
   {
    "duration": 156,
    "start_time": "2022-06-29T06:19:31.933Z"
   },
   {
    "duration": 155,
    "start_time": "2022-06-29T06:19:32.091Z"
   },
   {
    "duration": 4,
    "start_time": "2022-06-29T06:19:32.247Z"
   },
   {
    "duration": 10,
    "start_time": "2022-06-29T06:19:32.253Z"
   },
   {
    "duration": 9,
    "start_time": "2022-06-29T06:19:32.265Z"
   },
   {
    "duration": 7,
    "start_time": "2022-06-29T06:19:32.275Z"
   },
   {
    "duration": 581,
    "start_time": "2022-06-29T06:19:32.283Z"
   },
   {
    "duration": 9,
    "start_time": "2022-06-29T06:19:32.865Z"
   },
   {
    "duration": 151,
    "start_time": "2022-06-29T06:19:32.875Z"
   },
   {
    "duration": 23,
    "start_time": "2022-06-29T06:19:33.028Z"
   },
   {
    "duration": 15,
    "start_time": "2022-06-29T06:19:33.053Z"
   }
  ],
  "kernelspec": {
   "display_name": "Python 3 (ipykernel)",
   "language": "python",
   "name": "python3"
  },
  "language_info": {
   "codemirror_mode": {
    "name": "ipython",
    "version": 3
   },
   "file_extension": ".py",
   "mimetype": "text/x-python",
   "name": "python",
   "nbconvert_exporter": "python",
   "pygments_lexer": "ipython3",
   "version": "3.9.5"
  },
  "toc": {
   "base_numbering": 1,
   "nav_menu": {},
   "number_sections": true,
   "sideBar": true,
   "skip_h1_title": true,
   "title_cell": "Table of Contents",
   "title_sidebar": "Contents",
   "toc_cell": false,
   "toc_position": {
    "height": "calc(100% - 180px)",
    "left": "10px",
    "top": "150px",
    "width": "329px"
   },
   "toc_section_display": true,
   "toc_window_display": false
  }
 },
 "nbformat": 4,
 "nbformat_minor": 2
}
