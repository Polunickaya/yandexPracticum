{
 "cells": [
  {
   "cell_type": "markdown",
   "metadata": {},
   "source": [
    "# Проект - Основы машинного обучения"
   ]
  },
  {
   "cell_type": "markdown",
   "metadata": {},
   "source": [
    "**Описание**\n",
    "\n",
    "Сеть фитнес-центров «Культурист-датасаентист» разрабатывает стратегию взаимодействия с клиентами на основе аналитических данных.Распространённая проблема фитнес-клубов и других сервисов — отток клиентов. Для фитнес-центра можно считать, что клиент попал в отток, если за последний месяц ни разу не посетил спортзал. \n",
    "\n",
    "**Задачи**\n",
    "\n",
    "- выделить целевые группы клиентов;\n",
    "- предложить меры по снижению оттока;\n",
    "- определить другие особенности взаимодействия с клиентами.\n",
    "\n",
    "**В ходе исследования предстоит:**\n",
    "\n",
    "- научиться прогнозировать вероятность оттока (на уровне следующего месяца) для каждого клиента;\n",
    "- сформировать типичные портреты клиентов: выделить несколько наиболее ярких групп и охарактеризовать их основные свойства;\n",
    "- проанализировать основные признаки, наиболее сильно влияющие на отток;\n",
    "- сформулировать основные выводы и разработать рекомендации по повышению качества работы с клиентами.\n",
    "\n",
    "**Описание данных**\n",
    "\n",
    "Данные клиента за предыдущий до проверки факта оттока месяц:\n",
    "- `gender` — пол;\n",
    "- `Near_Location` — проживание или работа в районе, где находится фитнес-центр;\n",
    "- `Partner` — сотрудник компании-партнёра клуба (сотрудничество с компаниями, чьи сотрудники могут получать скидки на абонемент — в таком случае фитнес-центр хранит информацию о работодателе клиента);\n",
    "- `Promo_friends` — факт первоначальной записи в рамках акции «приведи друга» (использовал промо-код от знакомого при оплате первого абонемента);\n",
    "- `Phone` — наличие контактного телефона;\n",
    "- `Age` — возраст;\n",
    "- `Lifetime` — время с момента первого обращения в фитнес-центр (в месяцах).\n",
    "\n",
    "Информация на основе журнала посещений, покупок и информация о текущем статусе абонемента клиента:\n",
    "\n",
    "- `Contract_period` — длительность текущего действующего абонемента (месяц, 6 месяцев, год);\n",
    "- `Month_to_end_contract` — срок до окончания текущего действующего абонемента (в месяцах);\n",
    "- `Group_visits` — факт посещения групповых занятий;\n",
    "- `Avg_class_frequency_total` — средняя частота посещений в неделю за все время с начала действия абонемента;\n",
    "- `Avg_class_frequency_current_month` — средняя частота посещений в неделю за предыдущий месяц;\n",
    "- `Avg_additional_charges_total` — суммарная выручка от других услуг фитнес-центра: кафе, спорттовары, косметический и массажный салон.\n",
    "- `Churn` — факт оттока в текущем месяце.\n"
   ]
  },
  {
   "cell_type": "markdown",
   "metadata": {},
   "source": [
    "## Чтение  данных и изучение общей информации"
   ]
  },
  {
   "cell_type": "code",
   "execution_count": 2,
   "metadata": {},
   "outputs": [],
   "source": [
    "import pandas as pd \n",
    "import numpy as np \n",
    "from matplotlib import pyplot as plt \n",
    "import seaborn as sns\n",
    "import warnings \n",
    "warnings.filterwarnings('ignore')\n",
    "from sklearn.model_selection import train_test_split\n",
    "from sklearn.preprocessing import StandardScaler\n",
    "from sklearn.linear_model import LogisticRegression\n",
    "from sklearn.metrics import accuracy_score, precision_score, recall_score, f1_score\n",
    "from sklearn.ensemble import RandomForestClassifier, GradientBoostingClassifier\n",
    "from scipy.cluster.hierarchy import dendrogram, linkage \n",
    "from itertools import combinations\n",
    "from sklearn.cluster import KMeans"
   ]
  },
  {
   "cell_type": "code",
   "execution_count": 3,
   "metadata": {},
   "outputs": [],
   "source": [
    "df = pd.read_csv('/datasets/gym_churn.csv')"
   ]
  },
  {
   "cell_type": "code",
   "execution_count": 4,
   "metadata": {},
   "outputs": [
    {
     "data": {
      "text/html": [
       "<div>\n",
       "<style scoped>\n",
       "    .dataframe tbody tr th:only-of-type {\n",
       "        vertical-align: middle;\n",
       "    }\n",
       "\n",
       "    .dataframe tbody tr th {\n",
       "        vertical-align: top;\n",
       "    }\n",
       "\n",
       "    .dataframe thead th {\n",
       "        text-align: right;\n",
       "    }\n",
       "</style>\n",
       "<table border=\"1\" class=\"dataframe\">\n",
       "  <thead>\n",
       "    <tr style=\"text-align: right;\">\n",
       "      <th></th>\n",
       "      <th>gender</th>\n",
       "      <th>Near_Location</th>\n",
       "      <th>Partner</th>\n",
       "      <th>Promo_friends</th>\n",
       "      <th>Phone</th>\n",
       "      <th>Contract_period</th>\n",
       "      <th>Group_visits</th>\n",
       "      <th>Age</th>\n",
       "      <th>Avg_additional_charges_total</th>\n",
       "      <th>Month_to_end_contract</th>\n",
       "      <th>Lifetime</th>\n",
       "      <th>Avg_class_frequency_total</th>\n",
       "      <th>Avg_class_frequency_current_month</th>\n",
       "      <th>Churn</th>\n",
       "    </tr>\n",
       "  </thead>\n",
       "  <tbody>\n",
       "    <tr>\n",
       "      <th>0</th>\n",
       "      <td>1</td>\n",
       "      <td>1</td>\n",
       "      <td>1</td>\n",
       "      <td>1</td>\n",
       "      <td>0</td>\n",
       "      <td>6</td>\n",
       "      <td>1</td>\n",
       "      <td>29</td>\n",
       "      <td>14.227470</td>\n",
       "      <td>5.0</td>\n",
       "      <td>3</td>\n",
       "      <td>0.020398</td>\n",
       "      <td>0.000000</td>\n",
       "      <td>0</td>\n",
       "    </tr>\n",
       "    <tr>\n",
       "      <th>1</th>\n",
       "      <td>0</td>\n",
       "      <td>1</td>\n",
       "      <td>0</td>\n",
       "      <td>0</td>\n",
       "      <td>1</td>\n",
       "      <td>12</td>\n",
       "      <td>1</td>\n",
       "      <td>31</td>\n",
       "      <td>113.202938</td>\n",
       "      <td>12.0</td>\n",
       "      <td>7</td>\n",
       "      <td>1.922936</td>\n",
       "      <td>1.910244</td>\n",
       "      <td>0</td>\n",
       "    </tr>\n",
       "    <tr>\n",
       "      <th>2</th>\n",
       "      <td>0</td>\n",
       "      <td>1</td>\n",
       "      <td>1</td>\n",
       "      <td>0</td>\n",
       "      <td>1</td>\n",
       "      <td>1</td>\n",
       "      <td>0</td>\n",
       "      <td>28</td>\n",
       "      <td>129.448479</td>\n",
       "      <td>1.0</td>\n",
       "      <td>2</td>\n",
       "      <td>1.859098</td>\n",
       "      <td>1.736502</td>\n",
       "      <td>0</td>\n",
       "    </tr>\n",
       "    <tr>\n",
       "      <th>3</th>\n",
       "      <td>0</td>\n",
       "      <td>1</td>\n",
       "      <td>1</td>\n",
       "      <td>1</td>\n",
       "      <td>1</td>\n",
       "      <td>12</td>\n",
       "      <td>1</td>\n",
       "      <td>33</td>\n",
       "      <td>62.669863</td>\n",
       "      <td>12.0</td>\n",
       "      <td>2</td>\n",
       "      <td>3.205633</td>\n",
       "      <td>3.357215</td>\n",
       "      <td>0</td>\n",
       "    </tr>\n",
       "    <tr>\n",
       "      <th>4</th>\n",
       "      <td>1</td>\n",
       "      <td>1</td>\n",
       "      <td>1</td>\n",
       "      <td>1</td>\n",
       "      <td>1</td>\n",
       "      <td>1</td>\n",
       "      <td>0</td>\n",
       "      <td>26</td>\n",
       "      <td>198.362265</td>\n",
       "      <td>1.0</td>\n",
       "      <td>3</td>\n",
       "      <td>1.113884</td>\n",
       "      <td>1.120078</td>\n",
       "      <td>0</td>\n",
       "    </tr>\n",
       "  </tbody>\n",
       "</table>\n",
       "</div>"
      ],
      "text/plain": [
       "   gender  Near_Location  Partner  Promo_friends  Phone  Contract_period  \\\n",
       "0       1              1        1              1      0                6   \n",
       "1       0              1        0              0      1               12   \n",
       "2       0              1        1              0      1                1   \n",
       "3       0              1        1              1      1               12   \n",
       "4       1              1        1              1      1                1   \n",
       "\n",
       "   Group_visits  Age  Avg_additional_charges_total  Month_to_end_contract  \\\n",
       "0             1   29                     14.227470                    5.0   \n",
       "1             1   31                    113.202938                   12.0   \n",
       "2             0   28                    129.448479                    1.0   \n",
       "3             1   33                     62.669863                   12.0   \n",
       "4             0   26                    198.362265                    1.0   \n",
       "\n",
       "   Lifetime  Avg_class_frequency_total  Avg_class_frequency_current_month  \\\n",
       "0         3                   0.020398                           0.000000   \n",
       "1         7                   1.922936                           1.910244   \n",
       "2         2                   1.859098                           1.736502   \n",
       "3         2                   3.205633                           3.357215   \n",
       "4         3                   1.113884                           1.120078   \n",
       "\n",
       "   Churn  \n",
       "0      0  \n",
       "1      0  \n",
       "2      0  \n",
       "3      0  \n",
       "4      0  "
      ]
     },
     "metadata": {},
     "output_type": "display_data"
    },
    {
     "name": "stdout",
     "output_type": "stream",
     "text": [
      "\n",
      "<class 'pandas.core.frame.DataFrame'>\n",
      "RangeIndex: 4000 entries, 0 to 3999\n",
      "Data columns (total 14 columns):\n",
      " #   Column                             Non-Null Count  Dtype  \n",
      "---  ------                             --------------  -----  \n",
      " 0   gender                             4000 non-null   int64  \n",
      " 1   Near_Location                      4000 non-null   int64  \n",
      " 2   Partner                            4000 non-null   int64  \n",
      " 3   Promo_friends                      4000 non-null   int64  \n",
      " 4   Phone                              4000 non-null   int64  \n",
      " 5   Contract_period                    4000 non-null   int64  \n",
      " 6   Group_visits                       4000 non-null   int64  \n",
      " 7   Age                                4000 non-null   int64  \n",
      " 8   Avg_additional_charges_total       4000 non-null   float64\n",
      " 9   Month_to_end_contract              4000 non-null   float64\n",
      " 10  Lifetime                           4000 non-null   int64  \n",
      " 11  Avg_class_frequency_total          4000 non-null   float64\n",
      " 12  Avg_class_frequency_current_month  4000 non-null   float64\n",
      " 13  Churn                              4000 non-null   int64  \n",
      "dtypes: float64(4), int64(10)\n",
      "memory usage: 437.6 KB\n"
     ]
    },
    {
     "data": {
      "text/plain": [
       "None"
      ]
     },
     "metadata": {},
     "output_type": "display_data"
    },
    {
     "name": "stdout",
     "output_type": "stream",
     "text": [
      "\n"
     ]
    },
    {
     "data": {
      "text/plain": [
       "0"
      ]
     },
     "execution_count": 4,
     "metadata": {},
     "output_type": "execute_result"
    }
   ],
   "source": [
    "display(df.head()) #получение первых 5 строк таблицы df\n",
    "print()\n",
    "display(df.info()) #получение общей информации о данных в таблице df\n",
    "print()\n",
    "df.duplicated().sum() #проверяем дубликаты"
   ]
  },
  {
   "cell_type": "markdown",
   "metadata": {},
   "source": [
    "После первого ознакомленния с данными видим, что информация предоставлена корректно, в полном объеме без пропусков и дубликатов. Типы даных также в нужном нам формате."
   ]
  },
  {
   "cell_type": "markdown",
   "metadata": {},
   "source": [
    "## Исследовательский анализ данных (EDA)"
   ]
  },
  {
   "cell_type": "code",
   "execution_count": 5,
   "metadata": {},
   "outputs": [
    {
     "data": {
      "text/html": [
       "<div>\n",
       "<style scoped>\n",
       "    .dataframe tbody tr th:only-of-type {\n",
       "        vertical-align: middle;\n",
       "    }\n",
       "\n",
       "    .dataframe tbody tr th {\n",
       "        vertical-align: top;\n",
       "    }\n",
       "\n",
       "    .dataframe thead th {\n",
       "        text-align: right;\n",
       "    }\n",
       "</style>\n",
       "<table border=\"1\" class=\"dataframe\">\n",
       "  <thead>\n",
       "    <tr style=\"text-align: right;\">\n",
       "      <th></th>\n",
       "      <th>count</th>\n",
       "      <th>mean</th>\n",
       "      <th>std</th>\n",
       "      <th>min</th>\n",
       "      <th>25%</th>\n",
       "      <th>50%</th>\n",
       "      <th>75%</th>\n",
       "      <th>max</th>\n",
       "    </tr>\n",
       "  </thead>\n",
       "  <tbody>\n",
       "    <tr>\n",
       "      <th>gender</th>\n",
       "      <td>4000.0</td>\n",
       "      <td>0.510250</td>\n",
       "      <td>0.499957</td>\n",
       "      <td>0.000000</td>\n",
       "      <td>0.000000</td>\n",
       "      <td>1.000000</td>\n",
       "      <td>1.000000</td>\n",
       "      <td>1.000000</td>\n",
       "    </tr>\n",
       "    <tr>\n",
       "      <th>Near_Location</th>\n",
       "      <td>4000.0</td>\n",
       "      <td>0.845250</td>\n",
       "      <td>0.361711</td>\n",
       "      <td>0.000000</td>\n",
       "      <td>1.000000</td>\n",
       "      <td>1.000000</td>\n",
       "      <td>1.000000</td>\n",
       "      <td>1.000000</td>\n",
       "    </tr>\n",
       "    <tr>\n",
       "      <th>Partner</th>\n",
       "      <td>4000.0</td>\n",
       "      <td>0.486750</td>\n",
       "      <td>0.499887</td>\n",
       "      <td>0.000000</td>\n",
       "      <td>0.000000</td>\n",
       "      <td>0.000000</td>\n",
       "      <td>1.000000</td>\n",
       "      <td>1.000000</td>\n",
       "    </tr>\n",
       "    <tr>\n",
       "      <th>Promo_friends</th>\n",
       "      <td>4000.0</td>\n",
       "      <td>0.308500</td>\n",
       "      <td>0.461932</td>\n",
       "      <td>0.000000</td>\n",
       "      <td>0.000000</td>\n",
       "      <td>0.000000</td>\n",
       "      <td>1.000000</td>\n",
       "      <td>1.000000</td>\n",
       "    </tr>\n",
       "    <tr>\n",
       "      <th>Phone</th>\n",
       "      <td>4000.0</td>\n",
       "      <td>0.903500</td>\n",
       "      <td>0.295313</td>\n",
       "      <td>0.000000</td>\n",
       "      <td>1.000000</td>\n",
       "      <td>1.000000</td>\n",
       "      <td>1.000000</td>\n",
       "      <td>1.000000</td>\n",
       "    </tr>\n",
       "    <tr>\n",
       "      <th>Contract_period</th>\n",
       "      <td>4000.0</td>\n",
       "      <td>4.681250</td>\n",
       "      <td>4.549706</td>\n",
       "      <td>1.000000</td>\n",
       "      <td>1.000000</td>\n",
       "      <td>1.000000</td>\n",
       "      <td>6.000000</td>\n",
       "      <td>12.000000</td>\n",
       "    </tr>\n",
       "    <tr>\n",
       "      <th>Group_visits</th>\n",
       "      <td>4000.0</td>\n",
       "      <td>0.412250</td>\n",
       "      <td>0.492301</td>\n",
       "      <td>0.000000</td>\n",
       "      <td>0.000000</td>\n",
       "      <td>0.000000</td>\n",
       "      <td>1.000000</td>\n",
       "      <td>1.000000</td>\n",
       "    </tr>\n",
       "    <tr>\n",
       "      <th>Age</th>\n",
       "      <td>4000.0</td>\n",
       "      <td>29.184250</td>\n",
       "      <td>3.258367</td>\n",
       "      <td>18.000000</td>\n",
       "      <td>27.000000</td>\n",
       "      <td>29.000000</td>\n",
       "      <td>31.000000</td>\n",
       "      <td>41.000000</td>\n",
       "    </tr>\n",
       "    <tr>\n",
       "      <th>Avg_additional_charges_total</th>\n",
       "      <td>4000.0</td>\n",
       "      <td>146.943728</td>\n",
       "      <td>96.355602</td>\n",
       "      <td>0.148205</td>\n",
       "      <td>68.868830</td>\n",
       "      <td>136.220159</td>\n",
       "      <td>210.949625</td>\n",
       "      <td>552.590740</td>\n",
       "    </tr>\n",
       "    <tr>\n",
       "      <th>Month_to_end_contract</th>\n",
       "      <td>4000.0</td>\n",
       "      <td>4.322750</td>\n",
       "      <td>4.191297</td>\n",
       "      <td>1.000000</td>\n",
       "      <td>1.000000</td>\n",
       "      <td>1.000000</td>\n",
       "      <td>6.000000</td>\n",
       "      <td>12.000000</td>\n",
       "    </tr>\n",
       "    <tr>\n",
       "      <th>Lifetime</th>\n",
       "      <td>4000.0</td>\n",
       "      <td>3.724750</td>\n",
       "      <td>3.749267</td>\n",
       "      <td>0.000000</td>\n",
       "      <td>1.000000</td>\n",
       "      <td>3.000000</td>\n",
       "      <td>5.000000</td>\n",
       "      <td>31.000000</td>\n",
       "    </tr>\n",
       "    <tr>\n",
       "      <th>Avg_class_frequency_total</th>\n",
       "      <td>4000.0</td>\n",
       "      <td>1.879020</td>\n",
       "      <td>0.972245</td>\n",
       "      <td>0.000000</td>\n",
       "      <td>1.180875</td>\n",
       "      <td>1.832768</td>\n",
       "      <td>2.536078</td>\n",
       "      <td>6.023668</td>\n",
       "    </tr>\n",
       "    <tr>\n",
       "      <th>Avg_class_frequency_current_month</th>\n",
       "      <td>4000.0</td>\n",
       "      <td>1.767052</td>\n",
       "      <td>1.052906</td>\n",
       "      <td>0.000000</td>\n",
       "      <td>0.963003</td>\n",
       "      <td>1.719574</td>\n",
       "      <td>2.510336</td>\n",
       "      <td>6.146783</td>\n",
       "    </tr>\n",
       "    <tr>\n",
       "      <th>Churn</th>\n",
       "      <td>4000.0</td>\n",
       "      <td>0.265250</td>\n",
       "      <td>0.441521</td>\n",
       "      <td>0.000000</td>\n",
       "      <td>0.000000</td>\n",
       "      <td>0.000000</td>\n",
       "      <td>1.000000</td>\n",
       "      <td>1.000000</td>\n",
       "    </tr>\n",
       "  </tbody>\n",
       "</table>\n",
       "</div>"
      ],
      "text/plain": [
       "                                    count        mean        std        min  \\\n",
       "gender                             4000.0    0.510250   0.499957   0.000000   \n",
       "Near_Location                      4000.0    0.845250   0.361711   0.000000   \n",
       "Partner                            4000.0    0.486750   0.499887   0.000000   \n",
       "Promo_friends                      4000.0    0.308500   0.461932   0.000000   \n",
       "Phone                              4000.0    0.903500   0.295313   0.000000   \n",
       "Contract_period                    4000.0    4.681250   4.549706   1.000000   \n",
       "Group_visits                       4000.0    0.412250   0.492301   0.000000   \n",
       "Age                                4000.0   29.184250   3.258367  18.000000   \n",
       "Avg_additional_charges_total       4000.0  146.943728  96.355602   0.148205   \n",
       "Month_to_end_contract              4000.0    4.322750   4.191297   1.000000   \n",
       "Lifetime                           4000.0    3.724750   3.749267   0.000000   \n",
       "Avg_class_frequency_total          4000.0    1.879020   0.972245   0.000000   \n",
       "Avg_class_frequency_current_month  4000.0    1.767052   1.052906   0.000000   \n",
       "Churn                              4000.0    0.265250   0.441521   0.000000   \n",
       "\n",
       "                                         25%         50%         75%  \\\n",
       "gender                              0.000000    1.000000    1.000000   \n",
       "Near_Location                       1.000000    1.000000    1.000000   \n",
       "Partner                             0.000000    0.000000    1.000000   \n",
       "Promo_friends                       0.000000    0.000000    1.000000   \n",
       "Phone                               1.000000    1.000000    1.000000   \n",
       "Contract_period                     1.000000    1.000000    6.000000   \n",
       "Group_visits                        0.000000    0.000000    1.000000   \n",
       "Age                                27.000000   29.000000   31.000000   \n",
       "Avg_additional_charges_total       68.868830  136.220159  210.949625   \n",
       "Month_to_end_contract               1.000000    1.000000    6.000000   \n",
       "Lifetime                            1.000000    3.000000    5.000000   \n",
       "Avg_class_frequency_total           1.180875    1.832768    2.536078   \n",
       "Avg_class_frequency_current_month   0.963003    1.719574    2.510336   \n",
       "Churn                               0.000000    0.000000    1.000000   \n",
       "\n",
       "                                          max  \n",
       "gender                               1.000000  \n",
       "Near_Location                        1.000000  \n",
       "Partner                              1.000000  \n",
       "Promo_friends                        1.000000  \n",
       "Phone                                1.000000  \n",
       "Contract_period                     12.000000  \n",
       "Group_visits                         1.000000  \n",
       "Age                                 41.000000  \n",
       "Avg_additional_charges_total       552.590740  \n",
       "Month_to_end_contract               12.000000  \n",
       "Lifetime                            31.000000  \n",
       "Avg_class_frequency_total            6.023668  \n",
       "Avg_class_frequency_current_month    6.146783  \n",
       "Churn                                1.000000  "
      ]
     },
     "execution_count": 5,
     "metadata": {},
     "output_type": "execute_result"
    }
   ],
   "source": [
    "df.describe().T"
   ]
  },
  {
   "cell_type": "markdown",
   "metadata": {},
   "source": [
    "По описанию данных видим, что процент оттока клиентов составляет почти 27%. Средний возраст клиентов 29 лет, также обратим внимание, что большинство посетителей живет близко к фитнес-центру. Почти у всех внесен контактный номер телефона, 48% клиентов являются сотрудниками партнерских компаний. Можем отметить, что время с момента первого обращения в фитнес-центр в среднем составляет 3,7 месяца. \n",
    "\n",
    "Далее посмотрим на средние значения признаков в двух группах — тех, кто ушел в отток и тех, кто остался."
   ]
  },
  {
   "cell_type": "code",
   "execution_count": 6,
   "metadata": {},
   "outputs": [
    {
     "data": {
      "text/html": [
       "<div>\n",
       "<style scoped>\n",
       "    .dataframe tbody tr th:only-of-type {\n",
       "        vertical-align: middle;\n",
       "    }\n",
       "\n",
       "    .dataframe tbody tr th {\n",
       "        vertical-align: top;\n",
       "    }\n",
       "\n",
       "    .dataframe thead th {\n",
       "        text-align: right;\n",
       "    }\n",
       "</style>\n",
       "<table border=\"1\" class=\"dataframe\">\n",
       "  <thead>\n",
       "    <tr style=\"text-align: right;\">\n",
       "      <th>Churn</th>\n",
       "      <th>0</th>\n",
       "      <th>1</th>\n",
       "    </tr>\n",
       "  </thead>\n",
       "  <tbody>\n",
       "    <tr>\n",
       "      <th>gender</th>\n",
       "      <td>0.510037</td>\n",
       "      <td>0.510839</td>\n",
       "    </tr>\n",
       "    <tr>\n",
       "      <th>Near_Location</th>\n",
       "      <td>0.873086</td>\n",
       "      <td>0.768143</td>\n",
       "    </tr>\n",
       "    <tr>\n",
       "      <th>Partner</th>\n",
       "      <td>0.534195</td>\n",
       "      <td>0.355325</td>\n",
       "    </tr>\n",
       "    <tr>\n",
       "      <th>Promo_friends</th>\n",
       "      <td>0.353522</td>\n",
       "      <td>0.183789</td>\n",
       "    </tr>\n",
       "    <tr>\n",
       "      <th>Phone</th>\n",
       "      <td>0.903709</td>\n",
       "      <td>0.902922</td>\n",
       "    </tr>\n",
       "    <tr>\n",
       "      <th>Contract_period</th>\n",
       "      <td>5.747193</td>\n",
       "      <td>1.728558</td>\n",
       "    </tr>\n",
       "    <tr>\n",
       "      <th>Group_visits</th>\n",
       "      <td>0.464103</td>\n",
       "      <td>0.268615</td>\n",
       "    </tr>\n",
       "    <tr>\n",
       "      <th>Age</th>\n",
       "      <td>29.976523</td>\n",
       "      <td>26.989632</td>\n",
       "    </tr>\n",
       "    <tr>\n",
       "      <th>Avg_additional_charges_total</th>\n",
       "      <td>158.445715</td>\n",
       "      <td>115.082899</td>\n",
       "    </tr>\n",
       "    <tr>\n",
       "      <th>Month_to_end_contract</th>\n",
       "      <td>5.283089</td>\n",
       "      <td>1.662582</td>\n",
       "    </tr>\n",
       "    <tr>\n",
       "      <th>Lifetime</th>\n",
       "      <td>4.711807</td>\n",
       "      <td>0.990575</td>\n",
       "    </tr>\n",
       "    <tr>\n",
       "      <th>Avg_class_frequency_total</th>\n",
       "      <td>2.024876</td>\n",
       "      <td>1.474995</td>\n",
       "    </tr>\n",
       "    <tr>\n",
       "      <th>Avg_class_frequency_current_month</th>\n",
       "      <td>2.027882</td>\n",
       "      <td>1.044546</td>\n",
       "    </tr>\n",
       "  </tbody>\n",
       "</table>\n",
       "</div>"
      ],
      "text/plain": [
       "Churn                                       0           1\n",
       "gender                               0.510037    0.510839\n",
       "Near_Location                        0.873086    0.768143\n",
       "Partner                              0.534195    0.355325\n",
       "Promo_friends                        0.353522    0.183789\n",
       "Phone                                0.903709    0.902922\n",
       "Contract_period                      5.747193    1.728558\n",
       "Group_visits                         0.464103    0.268615\n",
       "Age                                 29.976523   26.989632\n",
       "Avg_additional_charges_total       158.445715  115.082899\n",
       "Month_to_end_contract                5.283089    1.662582\n",
       "Lifetime                             4.711807    0.990575\n",
       "Avg_class_frequency_total            2.024876    1.474995\n",
       "Avg_class_frequency_current_month    2.027882    1.044546"
      ]
     },
     "execution_count": 6,
     "metadata": {},
     "output_type": "execute_result"
    }
   ],
   "source": [
    "df.groupby('Churn').mean().T"
   ]
  },
  {
   "cell_type": "markdown",
   "metadata": {},
   "source": [
    "Можем предположить, что в отток попадают клиенты, которые живут несколько дальше от фитнес-центра, как правило они не являются сотрудниками партнерских компаний, реже посещают групповые занятия. В среднем попадающие в отток клиенты занимаются месяц, скореее всего  абонемент они приобретали на пробу, но их что-то не усроило и они нашли вариант фитнес-центра получше. "
   ]
  },
  {
   "cell_type": "markdown",
   "metadata": {},
   "source": [
    "Построим столбчатые гистограммы и распредения признаков для тех, кто ушёл (отток) и тех, кто остался (не попали в отток)."
   ]
  },
  {
   "cell_type": "code",
   "execution_count": 6,
   "metadata": {
    "scrolled": false
   },
   "outputs": [
    {
     "data": {
      "image/png": "[encoded data removed]",
      "text/plain": [
       "<Figure size 432x288 with 1 Axes>"
      ]
     },
     "metadata": {
      "needs_background": "light"
     },
     "output_type": "display_data"
    },
    {
     "data": {
      "image/png": "[encoded data removed]",
      "text/plain": [
       "<Figure size 432x288 with 1 Axes>"
      ]
     },
     "metadata": {
      "needs_background": "light"
     },
     "output_type": "display_data"
    },
    {
     "data": {
      "image/png": "[encoded data removed]",
      "text/plain": [
       "<Figure size 432x288 with 1 Axes>"
      ]
     },
     "metadata": {
      "needs_background": "light"
     },
     "output_type": "display_data"
    },
    {
     "data": {
      "image/png": "[encoded data removed]",
      "text/plain": [
       "<Figure size 432x288 with 1 Axes>"
      ]
     },
     "metadata": {
      "needs_background": "light"
     },
     "output_type": "display_data"
    },
    {
     "data": {
      "image/png": "[encoded data removed]",
      "text/plain": [
       "<Figure size 432x288 with 1 Axes>"
      ]
     },
     "metadata": {
      "needs_background": "light"
     },
     "output_type": "display_data"
    },
    {
     "data": {
      "image/png": "[encoded data removed]",
      "text/plain": [
       "<Figure size 432x288 with 1 Axes>"
      ]
     },
     "metadata": {
      "needs_background": "light"
     },
     "output_type": "display_data"
    },
    {
     "data": {
      "image/png": "[encoded data removed]",
      "text/plain": [
       "<Figure size 432x288 with 1 Axes>"
      ]
     },
     "metadata": {
      "needs_background": "light"
     },
     "output_type": "display_data"
    },
    {
     "data": {
      "image/png": "[encoded data removed]",
      "text/plain": [
       "<Figure size 432x288 with 1 Axes>"
      ]
     },
     "metadata": {
      "needs_background": "light"
     },
     "output_type": "display_data"
    },
    {
     "data": {
      "image/png": "[encoded data removed]",
      "text/plain": [
       "<Figure size 432x288 with 1 Axes>"
      ]
     },
     "metadata": {
      "needs_background": "light"
     },
     "output_type": "display_data"
    },
    {
     "data": {
      "image/png": "[encoded data removed]",
      "text/plain": [
       "<Figure size 432x288 with 1 Axes>"
      ]
     },
     "metadata": {
      "needs_background": "light"
     },
     "output_type": "display_data"
    },
    {
     "data": {
      "image/png": "[encoded data removed]",
      "text/plain": [
       "<Figure size 432x288 with 1 Axes>"
      ]
     },
     "metadata": {
      "needs_background": "light"
     },
     "output_type": "display_data"
    },
    {
     "data": {
      "image/png": "[encoded data removed]",
      "text/plain": [
       "<Figure size 432x288 with 1 Axes>"
      ]
     },
     "metadata": {
      "needs_background": "light"
     },
     "output_type": "display_data"
    },
    {
     "data": {
      "image/png": "[encoded data removed]",
      "text/plain": [
       "<Figure size 432x288 with 1 Axes>"
      ]
     },
     "metadata": {
      "needs_background": "light"
     },
     "output_type": "display_data"
    },
    {
     "data": {
      "image/png": "[encoded data removed]",
      "text/plain": [
       "<Figure size 432x288 with 1 Axes>"
      ]
     },
     "metadata": {
      "needs_background": "light"
     },
     "output_type": "display_data"
    }
   ],
   "source": [
    "churn_1 = df.query('Churn==1')\n",
    "churn_0 = df.query('Churn==0')\n",
    "for j in df:\n",
    "    plt.title('Признак '+j)\n",
    "    plt.xlabel(j)\n",
    "    plt.hist(churn_1[j], bins=20, alpha = 1, label = 'Отток')\n",
    "    plt.hist(churn_0[j], bins=20, alpha = 0.50, label = 'Не попали в отток')\n",
    "    plt.ylabel('Количество')\n",
    "    plt.legend()\n",
    "    plt.show()"
   ]
  },
  {
   "cell_type": "code",
   "execution_count": 27,
   "metadata": {},
   "outputs": [
    {
     "data": {
      "image/png": "[encoded data removed]",
      "text/plain": [
       "<Figure size 402.375x360 with 1 Axes>"
      ]
     },
     "metadata": {
      "needs_background": "light"
     },
     "output_type": "display_data"
    }
   ],
   "source": [
    "### CODE FROM REVIEWER\n",
    "\n",
    "sns.displot(df, x='Avg_class_frequency_current_month', hue='Churn')\n",
    "plt.title('Avg_class_frequency_current_month')\n",
    "plt.show()"
   ]
  },
  {
   "cell_type": "markdown",
   "metadata": {},
   "source": [
    "По графикам можем сделать вывод, что попадают в отток в основном клиенты, которые приобретают абонемент на 1 месяц. Также следует обратить внимание на параметр `Avg_additional_charges_total`— суммарная выручка от других услуг фитнес-центра, видим, что распределение смещено в лево, причем для оттока несколько больше. Скорее всего клиенты, которые попали в отток не приобретали никаких дополнительных услуг."
   ]
  },
  {
   "cell_type": "code",
   "execution_count": 7,
   "metadata": {},
   "outputs": [
    {
     "data": {
      "image/png": "[encoded data removed]",
      "text/plain": [
       "<Figure size 1080x720 with 2 Axes>"
      ]
     },
     "metadata": {
      "needs_background": "light"
     },
     "output_type": "display_data"
    }
   ],
   "source": [
    "cr = df.corr() #построим матрицу корреляций\n",
    "\n",
    "plt.figure(figsize=(15, 10))\n",
    "#рисуем тепловую карту с подписями для матрицы корреляций\n",
    "sns.heatmap(cr, annot = True)\n",
    "plt.title('Матрица корреляций')\n",
    "plt.show()"
   ]
  },
  {
   "cell_type": "markdown",
   "metadata": {},
   "source": [
    "По матрице корреляций мы выявили мультиколлинеарные признаки - это `Contract_period` и `Month_to_end_contact`, `Avg_class_frequency_total` и `Avg_class_frequency_current_month`. \n",
    "Чтобы в дальнейшем не возникли проблемы с линейной регрессией для каждой пары сильно скоррелированных признаков удалим один из них вручную."
   ]
  },
  {
   "cell_type": "code",
   "execution_count": 8,
   "metadata": {},
   "outputs": [],
   "source": [
    "df = df.drop(['Month_to_end_contract', 'Avg_class_frequency_total'], axis=1)"
   ]
  },
  {
   "cell_type": "markdown",
   "metadata": {},
   "source": [
    "## Строим модель прогнозирования оттока клиентов"
   ]
  },
  {
   "cell_type": "markdown",
   "metadata": {},
   "source": [
    "Построим модель бинарной классификации клиентов, где целевой признак — факт оттока клиента в следующем месяце."
   ]
  },
  {
   "cell_type": "code",
   "execution_count": 9,
   "metadata": {},
   "outputs": [],
   "source": [
    "# разделяем данные на признаки (матрица X) и целевую переменную (y)\n",
    "X = df.drop('Churn', axis = 1)\n",
    "y = df['Churn']\n",
    "\n",
    "# разделяем модель на обучающую и валидационную выборку\n",
    "X_train, X_test, y_train, y_test = train_test_split(X, y, test_size=0.2, stratify = y)"
   ]
  },
  {
   "cell_type": "code",
   "execution_count": 10,
   "metadata": {},
   "outputs": [],
   "source": [
    "# определим функцию, которая будет выводить наши метрики\n",
    "def print_all_metrics(y_true, y_pred, title='Метрики классификации'):\n",
    "    print(title)\n",
    "    print('\\tAccuracy: {:.2f}'.format(accuracy_score(y_true, y_pred)))\n",
    "    print('\\tPrecision: {:.2f}'.format(precision_score(y_true, y_pred)))\n",
    "    print('\\tRecall: {:.2f}'.format(recall_score(y_true, y_pred)))"
   ]
  },
  {
   "cell_type": "code",
   "execution_count": 11,
   "metadata": {},
   "outputs": [
    {
     "name": "stdout",
     "output_type": "stream",
     "text": [
      "Метрики для модели логистической регрессии:\n",
      "\tAccuracy: 0.91\n",
      "\tPrecision: 0.85\n",
      "\tRecall: 0.79\n"
     ]
    }
   ],
   "source": [
    "# зададим алгоритм для модели логистической регрессии\n",
    "lr_model = LogisticRegression(random_state=0)\n",
    "# обучим модель\n",
    "lr_model.fit(X_train, y_train)\n",
    "# воспользуемся уже обученной моделью, чтобы сделать прогнозы\n",
    "lr_predictions = lr_model.predict(X_test)\n",
    "\n",
    "# выведем все метрики\n",
    "print_all_metrics(\n",
    "    y_test,\n",
    "    lr_predictions,\n",
    "    title='Метрики для модели логистической регрессии:',\n",
    ")"
   ]
  },
  {
   "cell_type": "code",
   "execution_count": 12,
   "metadata": {},
   "outputs": [
    {
     "name": "stdout",
     "output_type": "stream",
     "text": [
      "Метрики для модели случайного леса:\n",
      "\tAccuracy: 0.92\n",
      "\tPrecision: 0.88\n",
      "\tRecall: 0.80\n"
     ]
    }
   ],
   "source": [
    "# зададим алгоритм для новой модели на основе алгоритма случайного леса\n",
    "rf_model = RandomForestClassifier(n_estimators = 100, random_state = 0)\n",
    "# обучим модель случайного леса\n",
    "rf_model.fit(X_train, y_train)\n",
    "# воспользуемся уже обученной моделью, чтобы сделать прогнозы\n",
    "rf_predictions = rf_model.predict(X_test)\n",
    "# выведем все метрики\n",
    "print_all_metrics(\n",
    "    y_test,\n",
    "    rf_predictions,\n",
    "    title='Метрики для модели случайного леса:',\n",
    ")"
   ]
  },
  {
   "cell_type": "markdown",
   "metadata": {},
   "source": [
    "На основании полученных метрик нам больше подойдет модель логистической регрессии, так как доля правильных прогнозов несколько выше, чем у модели случайного леса."
   ]
  },
  {
   "cell_type": "markdown",
   "metadata": {},
   "source": [
    "## Кластеризация клиентов"
   ]
  },
  {
   "cell_type": "code",
   "execution_count": 13,
   "metadata": {},
   "outputs": [],
   "source": [
    "# стандартизируем данные\n",
    "sc = StandardScaler()\n",
    "x_sc = sc.fit_transform(X)"
   ]
  },
  {
   "cell_type": "code",
   "execution_count": 14,
   "metadata": {},
   "outputs": [
    {
     "data": {
      "image/png": "[encoded data removed]",
      "text/plain": [
       "<Figure size 1080x720 with 1 Axes>"
      ]
     },
     "metadata": {
      "needs_background": "light"
     },
     "output_type": "display_data"
    }
   ],
   "source": [
    "linked = linkage(x_sc, method = 'ward') \n",
    "plt.figure(figsize=(15, 10))  \n",
    "dendrogram(linked, orientation='top')\n",
    "plt.title('Дендрограмма')\n",
    "plt.show() "
   ]
  },
  {
   "cell_type": "markdown",
   "metadata": {},
   "source": [
    "На основании полученной дендрограммы можем выделить 4 кластера. \n",
    "\n",
    "Далее обучим модель кластеризации на основании алгоритма K-Means и спрогнозируем кластеры клиентов. Число кластеров примем за n=5, как было указано в задании."
   ]
  },
  {
   "cell_type": "code",
   "execution_count": 15,
   "metadata": {},
   "outputs": [
    {
     "data": {
      "text/html": [
       "<div>\n",
       "<style scoped>\n",
       "    .dataframe tbody tr th:only-of-type {\n",
       "        vertical-align: middle;\n",
       "    }\n",
       "\n",
       "    .dataframe tbody tr th {\n",
       "        vertical-align: top;\n",
       "    }\n",
       "\n",
       "    .dataframe thead th {\n",
       "        text-align: right;\n",
       "    }\n",
       "</style>\n",
       "<table border=\"1\" class=\"dataframe\">\n",
       "  <thead>\n",
       "    <tr style=\"text-align: right;\">\n",
       "      <th>cluster_km</th>\n",
       "      <th>0</th>\n",
       "      <th>1</th>\n",
       "      <th>2</th>\n",
       "      <th>3</th>\n",
       "      <th>4</th>\n",
       "    </tr>\n",
       "  </thead>\n",
       "  <tbody>\n",
       "    <tr>\n",
       "      <th>gender</th>\n",
       "      <td>0.496447</td>\n",
       "      <td>0.500000</td>\n",
       "      <td>0.500940</td>\n",
       "      <td>0.534260</td>\n",
       "      <td>0.523316</td>\n",
       "    </tr>\n",
       "    <tr>\n",
       "      <th>Near_Location</th>\n",
       "      <td>0.995939</td>\n",
       "      <td>0.000000</td>\n",
       "      <td>1.000000</td>\n",
       "      <td>0.996028</td>\n",
       "      <td>0.862694</td>\n",
       "    </tr>\n",
       "    <tr>\n",
       "      <th>Partner</th>\n",
       "      <td>0.892386</td>\n",
       "      <td>0.489247</td>\n",
       "      <td>0.217105</td>\n",
       "      <td>0.379345</td>\n",
       "      <td>0.471503</td>\n",
       "    </tr>\n",
       "    <tr>\n",
       "      <th>Promo_friends</th>\n",
       "      <td>1.000000</td>\n",
       "      <td>0.078853</td>\n",
       "      <td>0.072368</td>\n",
       "      <td>0.009930</td>\n",
       "      <td>0.305699</td>\n",
       "    </tr>\n",
       "    <tr>\n",
       "      <th>Phone</th>\n",
       "      <td>1.000000</td>\n",
       "      <td>1.000000</td>\n",
       "      <td>1.000000</td>\n",
       "      <td>1.000000</td>\n",
       "      <td>0.000000</td>\n",
       "    </tr>\n",
       "    <tr>\n",
       "      <th>Contract_period</th>\n",
       "      <td>6.922843</td>\n",
       "      <td>2.994624</td>\n",
       "      <td>2.010338</td>\n",
       "      <td>6.208540</td>\n",
       "      <td>4.777202</td>\n",
       "    </tr>\n",
       "    <tr>\n",
       "      <th>Group_visits</th>\n",
       "      <td>0.524873</td>\n",
       "      <td>0.232975</td>\n",
       "      <td>0.277256</td>\n",
       "      <td>0.538232</td>\n",
       "      <td>0.427461</td>\n",
       "    </tr>\n",
       "    <tr>\n",
       "      <th>Age</th>\n",
       "      <td>29.606091</td>\n",
       "      <td>28.679211</td>\n",
       "      <td>27.583647</td>\n",
       "      <td>30.699106</td>\n",
       "      <td>29.297927</td>\n",
       "    </tr>\n",
       "    <tr>\n",
       "      <th>Avg_additional_charges_total</th>\n",
       "      <td>153.424651</td>\n",
       "      <td>137.125763</td>\n",
       "      <td>119.339956</td>\n",
       "      <td>176.259567</td>\n",
       "      <td>144.208179</td>\n",
       "    </tr>\n",
       "    <tr>\n",
       "      <th>Lifetime</th>\n",
       "      <td>4.283249</td>\n",
       "      <td>2.974910</td>\n",
       "      <td>1.922932</td>\n",
       "      <td>5.415094</td>\n",
       "      <td>3.940415</td>\n",
       "    </tr>\n",
       "    <tr>\n",
       "      <th>Avg_class_frequency_current_month</th>\n",
       "      <td>1.919520</td>\n",
       "      <td>1.597146</td>\n",
       "      <td>1.203319</td>\n",
       "      <td>2.324220</td>\n",
       "      <td>1.723967</td>\n",
       "    </tr>\n",
       "    <tr>\n",
       "      <th>Churn</th>\n",
       "      <td>0.119797</td>\n",
       "      <td>0.403226</td>\n",
       "      <td>0.563910</td>\n",
       "      <td>0.014896</td>\n",
       "      <td>0.266839</td>\n",
       "    </tr>\n",
       "  </tbody>\n",
       "</table>\n",
       "</div>"
      ],
      "text/plain": [
       "cluster_km                                  0           1           2  \\\n",
       "gender                               0.496447    0.500000    0.500940   \n",
       "Near_Location                        0.995939    0.000000    1.000000   \n",
       "Partner                              0.892386    0.489247    0.217105   \n",
       "Promo_friends                        1.000000    0.078853    0.072368   \n",
       "Phone                                1.000000    1.000000    1.000000   \n",
       "Contract_period                      6.922843    2.994624    2.010338   \n",
       "Group_visits                         0.524873    0.232975    0.277256   \n",
       "Age                                 29.606091   28.679211   27.583647   \n",
       "Avg_additional_charges_total       153.424651  137.125763  119.339956   \n",
       "Lifetime                             4.283249    2.974910    1.922932   \n",
       "Avg_class_frequency_current_month    1.919520    1.597146    1.203319   \n",
       "Churn                                0.119797    0.403226    0.563910   \n",
       "\n",
       "cluster_km                                  3           4  \n",
       "gender                               0.534260    0.523316  \n",
       "Near_Location                        0.996028    0.862694  \n",
       "Partner                              0.379345    0.471503  \n",
       "Promo_friends                        0.009930    0.305699  \n",
       "Phone                                1.000000    0.000000  \n",
       "Contract_period                      6.208540    4.777202  \n",
       "Group_visits                         0.538232    0.427461  \n",
       "Age                                 30.699106   29.297927  \n",
       "Avg_additional_charges_total       176.259567  144.208179  \n",
       "Lifetime                             5.415094    3.940415  \n",
       "Avg_class_frequency_current_month    2.324220    1.723967  \n",
       "Churn                                0.014896    0.266839  "
      ]
     },
     "execution_count": 15,
     "metadata": {},
     "output_type": "execute_result"
    }
   ],
   "source": [
    "# задаём модель k_means с числом кластеров 5 и фиксируем значение random_state\n",
    "km = KMeans(n_clusters=5, random_state=0)\n",
    "# прогнозируем кластеры для наблюдений (алгоритм присваивает им номера от 0 до 2)\n",
    "labels = km.fit_predict(x_sc)\n",
    "\n",
    "# сохраняем метки кластера в поле нашего датасета\n",
    "df['cluster_km'] = labels\n",
    "\n",
    "# выводим статистику по средним значениям наших признаков по кластеру\n",
    "df.groupby('cluster_km').mean().T"
   ]
  },
  {
   "cell_type": "markdown",
   "metadata": {},
   "source": [
    "У кластера 0 самый маленький процент оттока и самый длительный текущий абонемент, что не сложно сопоставить. Еще видим, что у нулевого кластера самая большая суммарная выручка от других услуг фитнес-центра, и с большей вероятностью клиент - сотрудник компании-партнёра клуба.\n",
    "\n",
    "Первый и второй кластер несколько похожи, наблюдается различие в степени оттока. Второй кластер более подвержен оттоку клиентов. Еще можем выделить признаки `Near_Location` и `Contract_period`, у второго кластера длительность текущего действующего абонемента ниже, чем у первого. И также второй кластер гораздо ниже по проживанию или работе в районе, где находится фитнес-центр\n",
    "\n",
    "У третьего кластера самый большой отток клиентов, также видно, что у данного кластера самый низкий показатель посещений за последний месяц и количество посещений в целом.\n",
    "\n",
    "Четвертый кластер имеет небольшой процент оттока, как и нулевой кластер. Стоит обратить внимание на признак `Lifetime`, у данного кластера он самый высокий, как и признак `Avg_class_frequency_current_month` -  средняя частота посещений в неделю за предыдущий месяц.\n"
   ]
  },
  {
   "cell_type": "code",
   "execution_count": 16,
   "metadata": {
    "scrolled": false
   },
   "outputs": [
    {
     "data": {
      "image/png": "[encoded data removed]",
      "text/plain": [
       "<Figure size 720x360 with 1 Axes>"
      ]
     },
     "metadata": {
      "needs_background": "light"
     },
     "output_type": "display_data"
    },
    {
     "data": {
      "image/png": "[encoded data removed]",
      "text/plain": [
       "<Figure size 720x360 with 1 Axes>"
      ]
     },
     "metadata": {
      "needs_background": "light"
     },
     "output_type": "display_data"
    },
    {
     "data": {
      "image/png": "[encoded data removed]",
      "text/plain": [
       "<Figure size 720x360 with 1 Axes>"
      ]
     },
     "metadata": {
      "needs_background": "light"
     },
     "output_type": "display_data"
    },
    {
     "data": {
      "image/png": "[encoded data removed]",
      "text/plain": [
       "<Figure size 720x360 with 1 Axes>"
      ]
     },
     "metadata": {
      "needs_background": "light"
     },
     "output_type": "display_data"
    },
    {
     "data": {
      "image/png": "[encoded data removed]",
      "text/plain": [
       "<Figure size 720x360 with 1 Axes>"
      ]
     },
     "metadata": {
      "needs_background": "light"
     },
     "output_type": "display_data"
    },
    {
     "data": {
      "image/png": "[encoded data removed]",
      "text/plain": [
       "<Figure size 720x360 with 1 Axes>"
      ]
     },
     "metadata": {
      "needs_background": "light"
     },
     "output_type": "display_data"
    },
    {
     "data": {
      "image/png": "[encoded data removed]",
      "text/plain": [
       "<Figure size 720x360 with 1 Axes>"
      ]
     },
     "metadata": {
      "needs_background": "light"
     },
     "output_type": "display_data"
    },
    {
     "data": {
      "image/png": "[encoded data removed]",
      "text/plain": [
       "<Figure size 720x360 with 1 Axes>"
      ]
     },
     "metadata": {
      "needs_background": "light"
     },
     "output_type": "display_data"
    },
    {
     "data": {
      "image/png": "[encoded data removed]",
      "text/plain": [
       "<Figure size 720x360 with 1 Axes>"
      ]
     },
     "metadata": {
      "needs_background": "light"
     },
     "output_type": "display_data"
    },
    {
     "data": {
      "image/png": "[encoded data removed]",
      "text/plain": [
       "<Figure size 720x360 with 1 Axes>"
      ]
     },
     "metadata": {
      "needs_background": "light"
     },
     "output_type": "display_data"
    },
    {
     "data": {
      "image/png": "[encoded data removed]",
      "text/plain": [
       "<Figure size 720x360 with 1 Axes>"
      ]
     },
     "metadata": {
      "needs_background": "light"
     },
     "output_type": "display_data"
    }
   ],
   "source": [
    "for t in ['gender', 'Near_Location', 'Partner', 'Promo_friends', 'Phone', 'Contract_period', \\\n",
    "          'Group_visits', 'Age', 'Lifetime', 'Avg_class_frequency_current_month', 'Avg_additional_charges_total']:\n",
    "    plt.figure(figsize=(10, 5))\n",
    "    plt.title('Признак '+t)\n",
    "    plt.xlabel(j)\n",
    "    sns.barplot(x ='cluster_km', y = t, data=df)\n",
    "    plt.show()"
   ]
  },
  {
   "cell_type": "markdown",
   "metadata": {},
   "source": [
    "По построеным графикам дополнительно можем сказать, что распределние по возрасту и полу примерно одинаковое, также примерно на одном уровне у всех кластеров признак `Avg_additional_charges_total`."
   ]
  },
  {
   "cell_type": "code",
   "execution_count": 17,
   "metadata": {},
   "outputs": [
    {
     "data": {
      "text/html": [
       "<div>\n",
       "<style scoped>\n",
       "    .dataframe tbody tr th:only-of-type {\n",
       "        vertical-align: middle;\n",
       "    }\n",
       "\n",
       "    .dataframe tbody tr th {\n",
       "        vertical-align: top;\n",
       "    }\n",
       "\n",
       "    .dataframe thead th {\n",
       "        text-align: right;\n",
       "    }\n",
       "</style>\n",
       "<table border=\"1\" class=\"dataframe\">\n",
       "  <thead>\n",
       "    <tr style=\"text-align: right;\">\n",
       "      <th></th>\n",
       "      <th>cluster_km</th>\n",
       "      <th>Churn</th>\n",
       "    </tr>\n",
       "  </thead>\n",
       "  <tbody>\n",
       "    <tr>\n",
       "      <th>2</th>\n",
       "      <td>2</td>\n",
       "      <td>0.563910</td>\n",
       "    </tr>\n",
       "    <tr>\n",
       "      <th>1</th>\n",
       "      <td>1</td>\n",
       "      <td>0.403226</td>\n",
       "    </tr>\n",
       "    <tr>\n",
       "      <th>4</th>\n",
       "      <td>4</td>\n",
       "      <td>0.266839</td>\n",
       "    </tr>\n",
       "    <tr>\n",
       "      <th>0</th>\n",
       "      <td>0</td>\n",
       "      <td>0.119797</td>\n",
       "    </tr>\n",
       "    <tr>\n",
       "      <th>3</th>\n",
       "      <td>3</td>\n",
       "      <td>0.014896</td>\n",
       "    </tr>\n",
       "  </tbody>\n",
       "</table>\n",
       "</div>"
      ],
      "text/plain": [
       "   cluster_km     Churn\n",
       "2           2  0.563910\n",
       "1           1  0.403226\n",
       "4           4  0.266839\n",
       "0           0  0.119797\n",
       "3           3  0.014896"
      ]
     },
     "execution_count": 17,
     "metadata": {},
     "output_type": "execute_result"
    }
   ],
   "source": [
    "# Для каждого полученного кластера посчитаем долю оттока\n",
    "df.groupby('cluster_km')['Churn'].mean().reset_index().sort_values(by='Churn', ascending=False)"
   ]
  },
  {
   "cell_type": "markdown",
   "metadata": {},
   "source": [
    "Как мы и выявили ранее, больше всего подвержен оттоку третий кластер 51%. Далее следует второй кластер - 44%, первый кластер занимает 26% оттока, а четвертый и нулевой всего 6% и 2% оттока клиентов. "
   ]
  },
  {
   "cell_type": "markdown",
   "metadata": {},
   "source": [
    "## Вывод и рекомендации "
   ]
  },
  {
   "cell_type": "markdown",
   "metadata": {},
   "source": [
    "В ходе исследования мы спрогнозировали вероятность оттока для каждого клиента, используя модель логистической регрессии, сформировали типичные портреты клиентов, а также проанализировали основные признаки, наиболее сильно влияют на отток. Ими оказались такие признаки, как `Near_Location` — проживание или работа в районе, где находится фитнес-центр, `Contract_period` — длительность текущего действующего абонемента, `Group_visits` — факт посещения групповых занятий и `Avg_class_frequency_current_month` — средняя частота посещений в неделю за предыдущий месяц.\n",
    "\n",
    "Клиенты, живущие поблизости и посещающие групповые занятия реже попадают в отток. В среднем попадающие в отток клиенты занимаются месяц, вероятнее абонемент они приобретали на пробу, и по истечении действия контракта принимали решение не продливать абонемент.\n",
    "\n",
    "Проведя кластеризацию клиентов мы выявили 5 кластеров:\n",
    "\n",
    "`Кластер 0:` самый маленький процент оттока и самый длительный текущий абонемент, самая большая суммарная выручка от других услуг фитнес-центра, и с большей вероятностью клиент - сотрудник компании-партнёра клуба.\n",
    "\n",
    "`Кластер 1:` достаточно долгий Lifetime и срок до окончания текущего действующего абонемента, чаще посещают групповые занятия. \n",
    "\n",
    "`Кластер 2:` самый низкий показатель признака Promo_friends, более подвержен оттоку клиентов, в сравнении с первым, низкая длительность текущего действующего абонемента.\n",
    "\n",
    "`Кластер 3:`  самый большой отток клиентов, еще у данного кластера самый низкий показатель длительности текущего абонемента, посещений за последний месяц и количество посещений в целом.\n",
    "\n",
    "`Кластер 4:`  имеет небольшой процент оттока, как и нулевой кластер, Lifetime у данного кластера самый высокий, как и признак Avg_class_frequency_current_month - средняя частота посещений в неделю за предыдущий месяц.\n",
    "\n",
    "На основании проведенного анализа можно рекомендовать стараться продавать абонементы на более длительный срок, так как наблюдается тенденция оттока клиентов при небольшом сроке действия абонемента.  \n",
    "Можно предлагать потенциальным клиентам приобретать абонементы на 6-12 месяцев на более выгодных условиях. \n",
    "Мы выявили, что лояльные клиенты более склонны пользоваться дополнительнымы услугами фитнес-центра, для удержания клиентов будет целесообразно ввести дополнительные скидки или бонусную систему на дополнительные услуги.\n",
    "\n",
    "Можно посоветовать стараться привлекать клиентов из близлежащих районов, некоторые фитнес-центры практикуют дополнительные \"бонусы\" для жителей района, в котором располагается сам центр.  \n",
    "\n",
    "Еще следут ввести процедуру обзвона клиентов за несколько дней до окончания действия месячного абонемента для новых клиентов и предлагать единоразовое продление на более выгодных условиях. "
   ]
  }
 ],
 "metadata": {
  "ExecuteTimeLog": [
   {
    "duration": 1609,
    "start_time": "2022-08-17T11:11:43.455Z"
   },
   {
    "duration": 71,
    "start_time": "2022-08-17T11:12:49.525Z"
   },
   {
    "duration": 23,
    "start_time": "2022-08-17T11:12:52.345Z"
   },
   {
    "duration": 30,
    "start_time": "2022-08-17T11:13:26.027Z"
   },
   {
    "duration": 47,
    "start_time": "2022-08-17T11:44:46.646Z"
   },
   {
    "duration": 56,
    "start_time": "2022-08-17T11:44:58.658Z"
   },
   {
    "duration": 108,
    "start_time": "2022-08-17T11:45:08.283Z"
   },
   {
    "duration": 49,
    "start_time": "2022-08-17T11:45:12.833Z"
   },
   {
    "duration": 18,
    "start_time": "2022-08-17T11:46:59.950Z"
   },
   {
    "duration": 46,
    "start_time": "2022-08-17T11:47:14.446Z"
   },
   {
    "duration": 124,
    "start_time": "2022-08-17T11:47:22.067Z"
   },
   {
    "duration": 12,
    "start_time": "2022-08-17T11:49:23.543Z"
   },
   {
    "duration": 18,
    "start_time": "2022-08-17T11:50:26.365Z"
   },
   {
    "duration": 22,
    "start_time": "2022-08-17T11:53:37.844Z"
   },
   {
    "duration": 1189,
    "start_time": "2022-08-17T11:54:00.642Z"
   },
   {
    "duration": 1047,
    "start_time": "2022-08-17T12:02:54.226Z"
   },
   {
    "duration": 50,
    "start_time": "2022-08-17T12:03:15.717Z"
   },
   {
    "duration": 2875,
    "start_time": "2022-08-17T12:03:22.114Z"
   },
   {
    "duration": 3220,
    "start_time": "2022-08-17T12:03:37.897Z"
   },
   {
    "duration": 106,
    "start_time": "2022-08-17T12:05:31.627Z"
   },
   {
    "duration": 12,
    "start_time": "2022-08-17T13:31:19.661Z"
   },
   {
    "duration": 2023,
    "start_time": "2022-08-17T13:31:35.126Z"
   },
   {
    "duration": 1905,
    "start_time": "2022-08-17T13:32:04.914Z"
   },
   {
    "duration": 103,
    "start_time": "2022-08-17T13:35:08.975Z"
   },
   {
    "duration": 73,
    "start_time": "2022-08-17T13:35:16.478Z"
   },
   {
    "duration": 546,
    "start_time": "2022-08-17T13:35:25.132Z"
   },
   {
    "duration": 1736,
    "start_time": "2022-08-17T13:36:18.232Z"
   },
   {
    "duration": 2035,
    "start_time": "2022-08-17T13:36:35.774Z"
   },
   {
    "duration": 1317,
    "start_time": "2022-08-17T13:36:44.588Z"
   },
   {
    "duration": 2213,
    "start_time": "2022-08-17T13:36:53.781Z"
   },
   {
    "duration": 2251,
    "start_time": "2022-08-17T13:37:02.462Z"
   },
   {
    "duration": 1900,
    "start_time": "2022-08-17T13:37:10.271Z"
   },
   {
    "duration": 1835,
    "start_time": "2022-08-17T13:37:24.657Z"
   },
   {
    "duration": 1830,
    "start_time": "2022-08-17T13:37:33.692Z"
   },
   {
    "duration": 1890,
    "start_time": "2022-08-17T13:37:43.619Z"
   },
   {
    "duration": 2259,
    "start_time": "2022-08-17T13:37:50.974Z"
   },
   {
    "duration": 1881,
    "start_time": "2022-08-17T13:38:05.146Z"
   },
   {
    "duration": 2281,
    "start_time": "2022-08-17T13:38:15.821Z"
   },
   {
    "duration": 1787,
    "start_time": "2022-08-17T13:39:31.810Z"
   },
   {
    "duration": 1941,
    "start_time": "2022-08-17T13:39:48.162Z"
   },
   {
    "duration": 17,
    "start_time": "2022-08-17T13:40:20.178Z"
   },
   {
    "duration": 16,
    "start_time": "2022-08-17T13:40:29.538Z"
   },
   {
    "duration": 1856,
    "start_time": "2022-08-17T13:40:39.267Z"
   },
   {
    "duration": 1961,
    "start_time": "2022-08-17T13:40:46.745Z"
   },
   {
    "duration": 2015,
    "start_time": "2022-08-17T13:40:57.444Z"
   },
   {
    "duration": 1850,
    "start_time": "2022-08-17T13:41:05.740Z"
   },
   {
    "duration": 1490,
    "start_time": "2022-08-17T13:41:22.935Z"
   },
   {
    "duration": 1858,
    "start_time": "2022-08-17T13:41:36.329Z"
   },
   {
    "duration": 949,
    "start_time": "2022-08-17T13:42:24.631Z"
   },
   {
    "duration": 1833,
    "start_time": "2022-08-17T13:42:30.372Z"
   },
   {
    "duration": 1439,
    "start_time": "2022-08-17T13:42:54.210Z"
   },
   {
    "duration": 34,
    "start_time": "2022-08-17T13:42:55.651Z"
   },
   {
    "duration": 32,
    "start_time": "2022-08-17T13:42:55.686Z"
   },
   {
    "duration": 47,
    "start_time": "2022-08-17T13:42:55.719Z"
   },
   {
    "duration": 36,
    "start_time": "2022-08-17T13:42:55.769Z"
   },
   {
    "duration": 2002,
    "start_time": "2022-08-17T13:42:55.807Z"
   },
   {
    "duration": 1960,
    "start_time": "2022-08-17T13:42:57.811Z"
   },
   {
    "duration": 1945,
    "start_time": "2022-08-17T13:43:26.025Z"
   },
   {
    "duration": 1005,
    "start_time": "2022-08-17T13:43:41.525Z"
   },
   {
    "duration": 1821,
    "start_time": "2022-08-17T13:44:12.825Z"
   },
   {
    "duration": 209,
    "start_time": "2022-08-17T13:45:43.287Z"
   },
   {
    "duration": 60,
    "start_time": "2022-08-17T13:46:02.622Z"
   },
   {
    "duration": 1445,
    "start_time": "2022-08-17T13:46:06.198Z"
   },
   {
    "duration": 1751,
    "start_time": "2022-08-17T13:46:23.256Z"
   },
   {
    "duration": 1537,
    "start_time": "2022-08-17T13:46:41.227Z"
   },
   {
    "duration": 1436,
    "start_time": "2022-08-17T13:46:52.361Z"
   },
   {
    "duration": 1716,
    "start_time": "2022-08-17T13:47:06.024Z"
   },
   {
    "duration": 1782,
    "start_time": "2022-08-17T13:47:39.845Z"
   },
   {
    "duration": 1807,
    "start_time": "2022-08-17T13:47:47.882Z"
   },
   {
    "duration": 1549,
    "start_time": "2022-08-17T13:47:56.122Z"
   },
   {
    "duration": 1577,
    "start_time": "2022-08-17T13:48:15.876Z"
   },
   {
    "duration": 1560,
    "start_time": "2022-08-17T13:49:39.002Z"
   },
   {
    "duration": 1660,
    "start_time": "2022-08-17T13:49:49.037Z"
   },
   {
    "duration": 1435,
    "start_time": "2022-08-17T13:49:56.434Z"
   },
   {
    "duration": 1582,
    "start_time": "2022-08-17T13:50:09.768Z"
   },
   {
    "duration": 25,
    "start_time": "2022-08-17T14:02:14.225Z"
   },
   {
    "duration": 2025,
    "start_time": "2022-08-17T14:02:21.950Z"
   },
   {
    "duration": 1774,
    "start_time": "2022-08-18T04:44:16.589Z"
   },
   {
    "duration": 95,
    "start_time": "2022-08-18T04:44:18.366Z"
   },
   {
    "duration": 55,
    "start_time": "2022-08-18T04:44:18.464Z"
   },
   {
    "duration": 53,
    "start_time": "2022-08-18T04:44:18.522Z"
   },
   {
    "duration": 17,
    "start_time": "2022-08-18T04:44:18.576Z"
   },
   {
    "duration": 2121,
    "start_time": "2022-08-18T04:44:18.595Z"
   },
   {
    "duration": 1968,
    "start_time": "2022-08-18T04:44:20.721Z"
   },
   {
    "duration": 1780,
    "start_time": "2022-08-18T04:44:22.690Z"
   },
   {
    "duration": 1631,
    "start_time": "2022-08-18T04:44:50.503Z"
   },
   {
    "duration": 4,
    "start_time": "2022-08-18T04:45:12.184Z"
   },
   {
    "duration": 7,
    "start_time": "2022-08-18T04:45:28.298Z"
   },
   {
    "duration": 7,
    "start_time": "2022-08-18T04:46:02.847Z"
   },
   {
    "duration": 18,
    "start_time": "2022-08-18T04:49:41.773Z"
   },
   {
    "duration": 5,
    "start_time": "2022-08-18T04:50:30.974Z"
   },
   {
    "duration": 157,
    "start_time": "2022-08-18T04:50:33.857Z"
   },
   {
    "duration": 4,
    "start_time": "2022-08-18T04:51:08.236Z"
   },
   {
    "duration": 79,
    "start_time": "2022-08-18T04:51:11.247Z"
   },
   {
    "duration": 12,
    "start_time": "2022-08-18T04:52:23.309Z"
   },
   {
    "duration": 7,
    "start_time": "2022-08-18T04:53:29.782Z"
   },
   {
    "duration": 4,
    "start_time": "2022-08-18T04:53:35.495Z"
   },
   {
    "duration": 12,
    "start_time": "2022-08-18T04:53:35.823Z"
   },
   {
    "duration": 2252,
    "start_time": "2022-08-18T04:53:52.858Z"
   },
   {
    "duration": 5,
    "start_time": "2022-08-18T04:54:29.186Z"
   },
   {
    "duration": 2513,
    "start_time": "2022-08-18T04:54:29.597Z"
   },
   {
    "duration": 4,
    "start_time": "2022-08-18T04:54:41.466Z"
   },
   {
    "duration": 2090,
    "start_time": "2022-08-18T04:54:41.920Z"
   },
   {
    "duration": 3055,
    "start_time": "2022-08-18T04:55:17.556Z"
   },
   {
    "duration": 13,
    "start_time": "2022-08-18T04:55:34.422Z"
   },
   {
    "duration": 43,
    "start_time": "2022-08-18T04:56:10.301Z"
   },
   {
    "duration": 392,
    "start_time": "2022-08-18T04:56:13.345Z"
   },
   {
    "duration": 10,
    "start_time": "2022-08-18T05:30:55.522Z"
   },
   {
    "duration": 5,
    "start_time": "2022-08-18T05:32:14.551Z"
   },
   {
    "duration": 14,
    "start_time": "2022-08-18T05:33:16.868Z"
   },
   {
    "duration": 127741,
    "start_time": "2022-08-18T05:33:25.732Z"
   },
   {
    "duration": 5,
    "start_time": "2022-08-18T05:36:42.160Z"
   },
   {
    "duration": 16,
    "start_time": "2022-08-18T05:37:04.419Z"
   },
   {
    "duration": 21,
    "start_time": "2022-08-18T05:37:31.921Z"
   },
   {
    "duration": 961,
    "start_time": "2022-08-18T05:37:35.564Z"
   },
   {
    "duration": 4,
    "start_time": "2022-08-18T05:38:38.323Z"
   },
   {
    "duration": 42167,
    "start_time": "2022-08-18T05:38:39.494Z"
   },
   {
    "duration": 128751,
    "start_time": "2022-08-18T05:42:07.736Z"
   },
   {
    "duration": 41251,
    "start_time": "2022-08-18T05:44:16.489Z"
   },
   {
    "duration": 49,
    "start_time": "2022-08-19T03:22:43.479Z"
   },
   {
    "duration": 1521,
    "start_time": "2022-08-19T03:22:48.126Z"
   },
   {
    "duration": 74,
    "start_time": "2022-08-19T03:22:49.649Z"
   },
   {
    "duration": 31,
    "start_time": "2022-08-19T03:22:49.724Z"
   },
   {
    "duration": 46,
    "start_time": "2022-08-19T03:22:49.757Z"
   },
   {
    "duration": 15,
    "start_time": "2022-08-19T03:22:49.804Z"
   },
   {
    "duration": 1780,
    "start_time": "2022-08-19T03:22:49.820Z"
   },
   {
    "duration": 1750,
    "start_time": "2022-08-19T03:22:51.601Z"
   },
   {
    "duration": 1501,
    "start_time": "2022-08-19T03:22:53.352Z"
   },
   {
    "duration": 7,
    "start_time": "2022-08-19T03:22:54.854Z"
   },
   {
    "duration": 4,
    "start_time": "2022-08-19T03:22:54.864Z"
   },
   {
    "duration": 1318,
    "start_time": "2022-08-19T03:22:54.870Z"
   },
   {
    "duration": 407,
    "start_time": "2022-08-19T03:22:56.191Z"
   },
   {
    "duration": 7,
    "start_time": "2022-08-19T03:22:56.600Z"
   },
   {
    "duration": 115048,
    "start_time": "2022-08-19T03:22:56.609Z"
   },
   {
    "duration": 4,
    "start_time": "2022-08-19T03:24:51.658Z"
   },
   {
    "duration": 1095,
    "start_time": "2022-08-19T03:24:54.007Z"
   },
   {
    "duration": 1819,
    "start_time": "2022-08-19T03:42:01.435Z"
   },
   {
    "duration": 529,
    "start_time": "2022-08-19T03:42:04.366Z"
   },
   {
    "duration": 79,
    "start_time": "2022-08-19T04:10:13.835Z"
   },
   {
    "duration": 13,
    "start_time": "2022-08-19T04:30:03.757Z"
   },
   {
    "duration": 8453,
    "start_time": "2022-08-19T05:14:41.070Z"
   },
   {
    "duration": 1809,
    "start_time": "2022-08-19T05:17:49.557Z"
   },
   {
    "duration": 2377,
    "start_time": "2022-08-19T05:18:00.840Z"
   },
   {
    "duration": 2030,
    "start_time": "2022-08-19T05:18:23.949Z"
   },
   {
    "duration": 1729,
    "start_time": "2022-08-19T05:19:30.213Z"
   },
   {
    "duration": 114,
    "start_time": "2022-08-19T05:24:37.463Z"
   },
   {
    "duration": 12,
    "start_time": "2022-08-19T05:24:47.147Z"
   },
   {
    "duration": 17,
    "start_time": "2022-08-19T05:25:14.781Z"
   },
   {
    "duration": 11,
    "start_time": "2022-08-19T05:26:03.164Z"
   },
   {
    "duration": 11,
    "start_time": "2022-08-19T05:26:25.824Z"
   },
   {
    "duration": 14,
    "start_time": "2022-08-19T05:28:17.083Z"
   },
   {
    "duration": 1978,
    "start_time": "2022-08-19T05:36:30.270Z"
   },
   {
    "duration": 1210,
    "start_time": "2022-08-19T05:36:59.013Z"
   },
   {
    "duration": 1803,
    "start_time": "2022-08-19T05:37:15.028Z"
   },
   {
    "duration": 330,
    "start_time": "2022-08-19T05:38:03.310Z"
   },
   {
    "duration": 1887,
    "start_time": "2022-08-19T05:38:23.861Z"
   },
   {
    "duration": 20,
    "start_time": "2022-08-19T05:44:15.702Z"
   },
   {
    "duration": 21,
    "start_time": "2022-08-19T05:44:35.933Z"
   },
   {
    "duration": 119,
    "start_time": "2022-08-19T06:08:37.411Z"
   },
   {
    "duration": 3997,
    "start_time": "2022-08-19T06:09:05.524Z"
   },
   {
    "duration": 2753,
    "start_time": "2022-08-19T06:09:56.715Z"
   },
   {
    "duration": 2766,
    "start_time": "2022-08-19T06:10:16.812Z"
   },
   {
    "duration": 4149,
    "start_time": "2022-08-19T06:10:31.556Z"
   },
   {
    "duration": 2456,
    "start_time": "2022-08-19T06:22:32.001Z"
   },
   {
    "duration": 2639,
    "start_time": "2022-08-19T06:26:47.687Z"
   },
   {
    "duration": 2598,
    "start_time": "2022-08-19T06:27:20.494Z"
   },
   {
    "duration": 2669,
    "start_time": "2022-08-19T06:27:45.294Z"
   },
   {
    "duration": 2782,
    "start_time": "2022-08-19T06:28:11.749Z"
   },
   {
    "duration": 1767,
    "start_time": "2022-08-19T12:31:21.490Z"
   },
   {
    "duration": 139,
    "start_time": "2022-08-19T12:31:23.259Z"
   },
   {
    "duration": 38,
    "start_time": "2022-08-19T12:31:23.399Z"
   },
   {
    "duration": 60,
    "start_time": "2022-08-19T12:31:23.439Z"
   },
   {
    "duration": 15,
    "start_time": "2022-08-19T12:31:23.502Z"
   },
   {
    "duration": 2238,
    "start_time": "2022-08-19T12:31:23.520Z"
   },
   {
    "duration": 2114,
    "start_time": "2022-08-19T12:31:25.760Z"
   },
   {
    "duration": 258,
    "start_time": "2022-08-19T12:31:27.876Z"
   },
   {
    "duration": 0,
    "start_time": "2022-08-19T12:31:28.137Z"
   },
   {
    "duration": 0,
    "start_time": "2022-08-19T12:31:28.139Z"
   },
   {
    "duration": 0,
    "start_time": "2022-08-19T12:31:28.140Z"
   },
   {
    "duration": 0,
    "start_time": "2022-08-19T12:31:28.142Z"
   },
   {
    "duration": 0,
    "start_time": "2022-08-19T12:31:28.144Z"
   },
   {
    "duration": 0,
    "start_time": "2022-08-19T12:31:28.146Z"
   },
   {
    "duration": 0,
    "start_time": "2022-08-19T12:31:28.147Z"
   },
   {
    "duration": 0,
    "start_time": "2022-08-19T12:31:28.172Z"
   },
   {
    "duration": 0,
    "start_time": "2022-08-19T12:31:28.173Z"
   },
   {
    "duration": 0,
    "start_time": "2022-08-19T12:31:28.174Z"
   },
   {
    "duration": 0,
    "start_time": "2022-08-19T12:31:28.175Z"
   },
   {
    "duration": 1606,
    "start_time": "2022-08-20T06:40:59.832Z"
   },
   {
    "duration": 87,
    "start_time": "2022-08-20T06:41:01.440Z"
   },
   {
    "duration": 33,
    "start_time": "2022-08-20T06:41:01.528Z"
   },
   {
    "duration": 56,
    "start_time": "2022-08-20T06:41:01.562Z"
   },
   {
    "duration": 21,
    "start_time": "2022-08-20T06:41:01.621Z"
   },
   {
    "duration": 1881,
    "start_time": "2022-08-20T06:41:01.644Z"
   },
   {
    "duration": 1745,
    "start_time": "2022-08-20T06:41:03.527Z"
   },
   {
    "duration": 277,
    "start_time": "2022-08-20T06:41:05.274Z"
   },
   {
    "duration": 0,
    "start_time": "2022-08-20T06:41:05.557Z"
   },
   {
    "duration": 0,
    "start_time": "2022-08-20T06:41:05.559Z"
   },
   {
    "duration": 0,
    "start_time": "2022-08-20T06:41:05.561Z"
   },
   {
    "duration": 1,
    "start_time": "2022-08-20T06:41:05.562Z"
   },
   {
    "duration": 0,
    "start_time": "2022-08-20T06:41:05.564Z"
   },
   {
    "duration": 0,
    "start_time": "2022-08-20T06:41:05.566Z"
   },
   {
    "duration": 0,
    "start_time": "2022-08-20T06:41:05.567Z"
   },
   {
    "duration": 0,
    "start_time": "2022-08-20T06:41:05.569Z"
   },
   {
    "duration": 0,
    "start_time": "2022-08-20T06:41:05.570Z"
   },
   {
    "duration": 0,
    "start_time": "2022-08-20T06:41:05.572Z"
   },
   {
    "duration": 0,
    "start_time": "2022-08-20T06:41:05.573Z"
   },
   {
    "duration": 2407,
    "start_time": "2022-08-20T06:41:41.191Z"
   },
   {
    "duration": 2458,
    "start_time": "2022-08-20T06:44:05.251Z"
   },
   {
    "duration": 3609,
    "start_time": "2022-08-20T06:48:14.108Z"
   },
   {
    "duration": 2443,
    "start_time": "2022-08-20T06:49:08.825Z"
   },
   {
    "duration": 3612,
    "start_time": "2022-08-20T06:50:18.873Z"
   },
   {
    "duration": 129,
    "start_time": "2022-08-20T07:12:03.018Z"
   },
   {
    "duration": 1070,
    "start_time": "2022-08-20T07:12:32.913Z"
   },
   {
    "duration": 2017,
    "start_time": "2022-08-20T07:13:03.552Z"
   },
   {
    "duration": 2122,
    "start_time": "2022-08-20T07:13:12.898Z"
   },
   {
    "duration": 1041,
    "start_time": "2022-08-20T07:15:54.533Z"
   },
   {
    "duration": 1740,
    "start_time": "2022-08-20T07:16:07.860Z"
   },
   {
    "duration": 1026,
    "start_time": "2022-08-20T07:16:27.979Z"
   },
   {
    "duration": 1004,
    "start_time": "2022-08-20T07:17:02.713Z"
   },
   {
    "duration": 1827,
    "start_time": "2022-08-20T07:17:46.547Z"
   },
   {
    "duration": 50,
    "start_time": "2022-08-20T07:18:05.290Z"
   },
   {
    "duration": 1929,
    "start_time": "2022-08-20T07:18:08.841Z"
   },
   {
    "duration": 1910,
    "start_time": "2022-08-20T07:18:13.928Z"
   },
   {
    "duration": 1909,
    "start_time": "2022-08-20T07:18:21.888Z"
   },
   {
    "duration": 1970,
    "start_time": "2022-08-20T07:18:38.508Z"
   },
   {
    "duration": 1779,
    "start_time": "2022-08-20T07:18:41.719Z"
   },
   {
    "duration": 1166,
    "start_time": "2022-08-20T07:19:09.372Z"
   },
   {
    "duration": 1556,
    "start_time": "2022-08-20T07:19:44.441Z"
   },
   {
    "duration": 3774,
    "start_time": "2022-08-20T07:21:31.341Z"
   },
   {
    "duration": 3794,
    "start_time": "2022-08-20T07:22:32.920Z"
   },
   {
    "duration": 3936,
    "start_time": "2022-08-20T07:22:59.214Z"
   },
   {
    "duration": 3518,
    "start_time": "2022-08-20T07:41:18.522Z"
   },
   {
    "duration": 6,
    "start_time": "2022-08-20T08:05:42.398Z"
   },
   {
    "duration": 3,
    "start_time": "2022-08-20T08:05:42.733Z"
   },
   {
    "duration": 520,
    "start_time": "2022-08-20T08:05:43.240Z"
   },
   {
    "duration": 390,
    "start_time": "2022-08-20T08:05:45.150Z"
   },
   {
    "duration": 9,
    "start_time": "2022-08-20T08:08:29.368Z"
   },
   {
    "duration": 7,
    "start_time": "2022-08-20T08:08:49.734Z"
   },
   {
    "duration": 109264,
    "start_time": "2022-08-20T08:10:40.268Z"
   },
   {
    "duration": 1430,
    "start_time": "2022-08-20T08:12:29.534Z"
   },
   {
    "duration": 7720,
    "start_time": "2022-08-20T08:12:30.965Z"
   },
   {
    "duration": 1934,
    "start_time": "2022-08-20T08:12:38.686Z"
   },
   {
    "duration": 10,
    "start_time": "2022-08-20T08:12:40.622Z"
   },
   {
    "duration": 1327,
    "start_time": "2022-08-20T12:14:08.446Z"
   },
   {
    "duration": 32,
    "start_time": "2022-08-20T12:14:09.775Z"
   },
   {
    "duration": 29,
    "start_time": "2022-08-20T12:14:09.809Z"
   },
   {
    "duration": 42,
    "start_time": "2022-08-20T12:14:09.840Z"
   },
   {
    "duration": 10,
    "start_time": "2022-08-20T12:14:09.884Z"
   },
   {
    "duration": 3564,
    "start_time": "2022-08-20T12:14:09.896Z"
   },
   {
    "duration": 1416,
    "start_time": "2022-08-20T12:14:13.461Z"
   },
   {
    "duration": 6,
    "start_time": "2022-08-20T12:14:14.878Z"
   },
   {
    "duration": 7,
    "start_time": "2022-08-20T12:14:14.885Z"
   },
   {
    "duration": 765,
    "start_time": "2022-08-20T12:14:14.894Z"
   },
   {
    "duration": 425,
    "start_time": "2022-08-20T12:14:15.661Z"
   },
   {
    "duration": 7,
    "start_time": "2022-08-20T12:14:16.087Z"
   },
   {
    "duration": 108077,
    "start_time": "2022-08-20T12:14:16.095Z"
   },
   {
    "duration": 1388,
    "start_time": "2022-08-20T12:16:04.174Z"
   },
   {
    "duration": 7667,
    "start_time": "2022-08-20T12:16:05.564Z"
   },
   {
    "duration": 11,
    "start_time": "2022-08-20T12:16:13.233Z"
   },
   {
    "duration": 1280,
    "start_time": "2022-08-20T12:16:34.679Z"
   },
   {
    "duration": 1735,
    "start_time": "2022-08-21T14:01:17.514Z"
   },
   {
    "duration": 140,
    "start_time": "2022-08-21T14:01:19.251Z"
   },
   {
    "duration": 49,
    "start_time": "2022-08-21T14:01:19.393Z"
   },
   {
    "duration": 92,
    "start_time": "2022-08-21T14:01:19.444Z"
   },
   {
    "duration": 17,
    "start_time": "2022-08-21T14:01:19.539Z"
   },
   {
    "duration": 4268,
    "start_time": "2022-08-21T14:01:19.558Z"
   },
   {
    "duration": 1691,
    "start_time": "2022-08-21T14:01:23.828Z"
   },
   {
    "duration": 7,
    "start_time": "2022-08-21T14:01:25.521Z"
   },
   {
    "duration": 14,
    "start_time": "2022-08-21T14:01:25.530Z"
   },
   {
    "duration": 852,
    "start_time": "2022-08-21T14:01:25.547Z"
   },
   {
    "duration": 617,
    "start_time": "2022-08-21T14:01:26.401Z"
   },
   {
    "duration": 13,
    "start_time": "2022-08-21T14:01:27.021Z"
   },
   {
    "duration": 123066,
    "start_time": "2022-08-21T14:01:27.037Z"
   },
   {
    "duration": 1589,
    "start_time": "2022-08-21T14:03:30.105Z"
   },
   {
    "duration": 8979,
    "start_time": "2022-08-21T14:03:31.696Z"
   },
   {
    "duration": 20,
    "start_time": "2022-08-21T14:03:40.677Z"
   },
   {
    "duration": 126,
    "start_time": "2022-08-21T14:20:29.815Z"
   },
   {
    "duration": 21,
    "start_time": "2022-08-21T14:20:35.715Z"
   },
   {
    "duration": 1661,
    "start_time": "2022-08-21T14:24:58.190Z"
   },
   {
    "duration": 40,
    "start_time": "2022-08-21T14:24:59.853Z"
   },
   {
    "duration": 48,
    "start_time": "2022-08-21T14:24:59.895Z"
   },
   {
    "duration": 82,
    "start_time": "2022-08-21T14:24:59.946Z"
   },
   {
    "duration": 15,
    "start_time": "2022-08-21T14:25:00.033Z"
   },
   {
    "duration": 4664,
    "start_time": "2022-08-21T14:25:00.053Z"
   },
   {
    "duration": 1697,
    "start_time": "2022-08-21T14:25:04.719Z"
   },
   {
    "duration": 9,
    "start_time": "2022-08-21T14:25:06.419Z"
   },
   {
    "duration": 13,
    "start_time": "2022-08-21T14:25:06.431Z"
   },
   {
    "duration": 1346,
    "start_time": "2022-08-21T14:25:06.447Z"
   },
   {
    "duration": 496,
    "start_time": "2022-08-21T14:25:07.795Z"
   },
   {
    "duration": 12,
    "start_time": "2022-08-21T14:25:08.294Z"
   },
   {
    "duration": 124909,
    "start_time": "2022-08-21T14:25:08.309Z"
   },
   {
    "duration": 1686,
    "start_time": "2022-08-21T14:27:13.220Z"
   },
   {
    "duration": 3898,
    "start_time": "2022-08-21T14:27:14.908Z"
   },
   {
    "duration": 158,
    "start_time": "2022-08-21T14:27:18.822Z"
   },
   {
    "duration": 0,
    "start_time": "2022-08-21T14:27:18.982Z"
   },
   {
    "duration": 14,
    "start_time": "2022-08-21T14:27:53.882Z"
   },
   {
    "duration": 4706,
    "start_time": "2022-08-21T14:29:09.512Z"
   },
   {
    "duration": 4582,
    "start_time": "2022-08-21T14:29:27.785Z"
   },
   {
    "duration": 4312,
    "start_time": "2022-08-21T14:29:37.554Z"
   },
   {
    "duration": 3120,
    "start_time": "2022-08-21T14:31:04.877Z"
   },
   {
    "duration": 5950,
    "start_time": "2022-08-21T14:31:48.785Z"
   },
   {
    "duration": 78,
    "start_time": "2022-08-21T14:32:09.078Z"
   },
   {
    "duration": 9683,
    "start_time": "2022-08-21T14:32:25.422Z"
   },
   {
    "duration": 9653,
    "start_time": "2022-08-21T14:32:50.355Z"
   },
   {
    "duration": 4314,
    "start_time": "2022-08-21T14:33:13.791Z"
   },
   {
    "duration": 2252,
    "start_time": "2022-08-21T14:40:22.370Z"
   },
   {
    "duration": 5107,
    "start_time": "2022-08-21T14:40:38.358Z"
   },
   {
    "duration": 4677,
    "start_time": "2022-08-21T14:40:55.937Z"
   },
   {
    "duration": 1617,
    "start_time": "2022-08-21T15:27:04.257Z"
   },
   {
    "duration": 41,
    "start_time": "2022-08-21T15:27:05.876Z"
   },
   {
    "duration": 52,
    "start_time": "2022-08-21T15:27:05.919Z"
   },
   {
    "duration": 85,
    "start_time": "2022-08-21T15:27:05.974Z"
   },
   {
    "duration": 14,
    "start_time": "2022-08-21T15:27:06.062Z"
   },
   {
    "duration": 4919,
    "start_time": "2022-08-21T15:27:06.077Z"
   },
   {
    "duration": 2024,
    "start_time": "2022-08-21T15:27:11.000Z"
   },
   {
    "duration": 9,
    "start_time": "2022-08-21T15:27:13.026Z"
   },
   {
    "duration": 8,
    "start_time": "2022-08-21T15:27:13.038Z"
   },
   {
    "duration": 6858,
    "start_time": "2022-08-21T15:27:13.047Z"
   },
   {
    "duration": 592,
    "start_time": "2022-08-21T15:27:19.911Z"
   },
   {
    "duration": 14,
    "start_time": "2022-08-21T15:27:20.506Z"
   },
   {
    "duration": 138016,
    "start_time": "2022-08-21T15:27:20.522Z"
   },
   {
    "duration": 1550,
    "start_time": "2022-08-21T15:29:38.542Z"
   },
   {
    "duration": 4275,
    "start_time": "2022-08-21T15:29:40.097Z"
   },
   {
    "duration": 31,
    "start_time": "2022-08-21T15:29:44.374Z"
   },
   {
    "duration": 60,
    "start_time": "2022-08-21T15:35:35.580Z"
   },
   {
    "duration": 2369,
    "start_time": "2022-08-21T15:35:41.702Z"
   },
   {
    "duration": 151,
    "start_time": "2022-08-21T15:35:44.073Z"
   },
   {
    "duration": 39,
    "start_time": "2022-08-21T15:35:44.230Z"
   },
   {
    "duration": 25,
    "start_time": "2022-08-21T15:39:01.347Z"
   },
   {
    "duration": 8,
    "start_time": "2022-08-21T15:40:15.579Z"
   },
   {
    "duration": 26,
    "start_time": "2022-08-21T15:40:18.354Z"
   },
   {
    "duration": 1546,
    "start_time": "2022-08-22T03:54:29.789Z"
   },
   {
    "duration": 68,
    "start_time": "2022-08-22T03:54:31.337Z"
   },
   {
    "duration": 33,
    "start_time": "2022-08-22T03:54:31.407Z"
   },
   {
    "duration": 43,
    "start_time": "2022-08-22T03:54:31.442Z"
   },
   {
    "duration": 11,
    "start_time": "2022-08-22T03:54:31.486Z"
   },
   {
    "duration": 243,
    "start_time": "2022-08-22T03:54:31.498Z"
   },
   {
    "duration": 0,
    "start_time": "2022-08-22T03:54:31.743Z"
   },
   {
    "duration": 0,
    "start_time": "2022-08-22T03:54:31.744Z"
   },
   {
    "duration": 0,
    "start_time": "2022-08-22T03:54:31.746Z"
   },
   {
    "duration": 0,
    "start_time": "2022-08-22T03:54:31.747Z"
   },
   {
    "duration": 1,
    "start_time": "2022-08-22T03:54:31.747Z"
   },
   {
    "duration": 0,
    "start_time": "2022-08-22T03:54:31.757Z"
   },
   {
    "duration": 0,
    "start_time": "2022-08-22T03:54:31.759Z"
   },
   {
    "duration": 0,
    "start_time": "2022-08-22T03:54:31.760Z"
   },
   {
    "duration": 0,
    "start_time": "2022-08-22T03:54:31.761Z"
   },
   {
    "duration": 1,
    "start_time": "2022-08-22T03:54:31.762Z"
   },
   {
    "duration": 114,
    "start_time": "2022-08-22T03:55:47.553Z"
   },
   {
    "duration": 107,
    "start_time": "2022-08-22T03:56:22.523Z"
   },
   {
    "duration": 126,
    "start_time": "2022-08-22T03:56:31.207Z"
   },
   {
    "duration": 186,
    "start_time": "2022-08-22T03:56:47.838Z"
   },
   {
    "duration": 109,
    "start_time": "2022-08-22T03:56:56.317Z"
   },
   {
    "duration": 110,
    "start_time": "2022-08-22T03:57:14.778Z"
   },
   {
    "duration": 118,
    "start_time": "2022-08-22T03:57:31.864Z"
   },
   {
    "duration": 114,
    "start_time": "2022-08-22T03:57:42.279Z"
   },
   {
    "duration": 118,
    "start_time": "2022-08-22T03:57:46.827Z"
   },
   {
    "duration": 123,
    "start_time": "2022-08-22T03:58:31.612Z"
   },
   {
    "duration": 110,
    "start_time": "2022-08-22T03:58:39.667Z"
   },
   {
    "duration": 126,
    "start_time": "2022-08-22T03:58:57.659Z"
   },
   {
    "duration": 125,
    "start_time": "2022-08-22T03:59:01.617Z"
   },
   {
    "duration": 118,
    "start_time": "2022-08-22T04:01:12.242Z"
   },
   {
    "duration": 114,
    "start_time": "2022-08-22T04:01:18.321Z"
   },
   {
    "duration": 132,
    "start_time": "2022-08-22T04:01:31.335Z"
   },
   {
    "duration": 126,
    "start_time": "2022-08-22T04:03:10.299Z"
   },
   {
    "duration": 112,
    "start_time": "2022-08-22T04:03:16.334Z"
   },
   {
    "duration": 113,
    "start_time": "2022-08-22T04:03:25.720Z"
   },
   {
    "duration": 2963,
    "start_time": "2022-08-22T04:03:30.358Z"
   },
   {
    "duration": 848,
    "start_time": "2022-08-22T04:04:38.556Z"
   },
   {
    "duration": 18,
    "start_time": "2022-08-22T04:05:10.032Z"
   },
   {
    "duration": 215,
    "start_time": "2022-08-22T04:37:44.465Z"
   },
   {
    "duration": 139,
    "start_time": "2022-08-22T04:37:58.700Z"
   },
   {
    "duration": 1811,
    "start_time": "2022-08-22T04:38:13.340Z"
   },
   {
    "duration": 292,
    "start_time": "2022-08-22T04:38:39.023Z"
   },
   {
    "duration": 2371,
    "start_time": "2022-08-22T04:40:20.566Z"
   },
   {
    "duration": 2554,
    "start_time": "2022-08-22T04:40:54.911Z"
   },
   {
    "duration": 2585,
    "start_time": "2022-08-22T04:41:14.339Z"
   },
   {
    "duration": 2660,
    "start_time": "2022-08-22T04:42:05.931Z"
   },
   {
    "duration": 3088,
    "start_time": "2022-08-22T04:42:23.786Z"
   },
   {
    "duration": 119,
    "start_time": "2022-08-22T05:32:04.586Z"
   },
   {
    "duration": 120,
    "start_time": "2022-08-22T05:32:57.778Z"
   },
   {
    "duration": 3069,
    "start_time": "2022-08-22T05:33:25.452Z"
   },
   {
    "duration": 1986,
    "start_time": "2022-08-22T05:40:49.443Z"
   },
   {
    "duration": 60,
    "start_time": "2022-08-22T05:45:16.697Z"
   },
   {
    "duration": 13,
    "start_time": "2022-08-22T05:45:20.879Z"
   },
   {
    "duration": 5,
    "start_time": "2022-08-22T05:45:31.330Z"
   },
   {
    "duration": 21,
    "start_time": "2022-08-22T05:45:46.148Z"
   },
   {
    "duration": 14,
    "start_time": "2022-08-22T05:46:08.641Z"
   },
   {
    "duration": 1367,
    "start_time": "2022-08-22T05:46:26.299Z"
   },
   {
    "duration": 32,
    "start_time": "2022-08-22T05:46:27.668Z"
   },
   {
    "duration": 40,
    "start_time": "2022-08-22T05:46:27.702Z"
   },
   {
    "duration": 55,
    "start_time": "2022-08-22T05:46:27.743Z"
   },
   {
    "duration": 11,
    "start_time": "2022-08-22T05:46:27.800Z"
   },
   {
    "duration": 3038,
    "start_time": "2022-08-22T05:46:27.813Z"
   },
   {
    "duration": 1738,
    "start_time": "2022-08-22T05:46:30.852Z"
   },
   {
    "duration": 5,
    "start_time": "2022-08-22T05:46:32.591Z"
   },
   {
    "duration": 36,
    "start_time": "2022-08-22T05:46:32.598Z"
   },
   {
    "duration": 8,
    "start_time": "2022-08-22T05:46:32.636Z"
   },
   {
    "duration": 4322,
    "start_time": "2022-08-22T05:46:32.646Z"
   },
   {
    "duration": 431,
    "start_time": "2022-08-22T05:46:36.970Z"
   },
   {
    "duration": 7,
    "start_time": "2022-08-22T05:46:37.402Z"
   },
   {
    "duration": 116859,
    "start_time": "2022-08-22T05:46:37.411Z"
   },
   {
    "duration": 1190,
    "start_time": "2022-08-22T05:48:34.272Z"
   },
   {
    "duration": 2862,
    "start_time": "2022-08-22T05:48:35.464Z"
   },
   {
    "duration": 0,
    "start_time": "2022-08-22T05:48:38.328Z"
   },
   {
    "duration": 0,
    "start_time": "2022-08-22T05:48:38.329Z"
   },
   {
    "duration": 8,
    "start_time": "2022-08-22T05:49:04.009Z"
   },
   {
    "duration": 4,
    "start_time": "2022-08-22T05:50:01.102Z"
   },
   {
    "duration": 1419,
    "start_time": "2022-08-22T05:51:20.096Z"
   },
   {
    "duration": 33,
    "start_time": "2022-08-22T05:51:21.517Z"
   },
   {
    "duration": 43,
    "start_time": "2022-08-22T05:51:21.551Z"
   },
   {
    "duration": 54,
    "start_time": "2022-08-22T05:51:21.596Z"
   },
   {
    "duration": 21,
    "start_time": "2022-08-22T05:51:21.653Z"
   },
   {
    "duration": 3135,
    "start_time": "2022-08-22T05:51:21.676Z"
   },
   {
    "duration": 1780,
    "start_time": "2022-08-22T05:51:24.813Z"
   },
   {
    "duration": 3,
    "start_time": "2022-08-22T05:51:26.595Z"
   },
   {
    "duration": 23,
    "start_time": "2022-08-22T05:51:26.600Z"
   },
   {
    "duration": 49,
    "start_time": "2022-08-22T05:51:26.625Z"
   },
   {
    "duration": 2285,
    "start_time": "2022-08-22T05:51:26.676Z"
   },
   {
    "duration": 437,
    "start_time": "2022-08-22T05:51:28.963Z"
   },
   {
    "duration": 7,
    "start_time": "2022-08-22T05:51:29.402Z"
   },
   {
    "duration": 114355,
    "start_time": "2022-08-22T05:51:29.411Z"
   },
   {
    "duration": 1203,
    "start_time": "2022-08-22T05:53:23.768Z"
   },
   {
    "duration": 3081,
    "start_time": "2022-08-22T05:53:24.973Z"
   },
   {
    "duration": 15,
    "start_time": "2022-08-22T05:53:28.061Z"
   },
   {
    "duration": 1368,
    "start_time": "2022-08-22T09:11:53.467Z"
   },
   {
    "duration": 45,
    "start_time": "2022-08-22T09:11:54.837Z"
   },
   {
    "duration": 34,
    "start_time": "2022-08-22T09:11:54.884Z"
   },
   {
    "duration": 49,
    "start_time": "2022-08-22T09:11:54.919Z"
   },
   {
    "duration": 10,
    "start_time": "2022-08-22T09:11:54.971Z"
   },
   {
    "duration": 3110,
    "start_time": "2022-08-22T09:11:54.983Z"
   },
   {
    "duration": 1662,
    "start_time": "2022-08-22T09:11:58.095Z"
   },
   {
    "duration": 5,
    "start_time": "2022-08-22T09:11:59.760Z"
   },
   {
    "duration": 16,
    "start_time": "2022-08-22T09:11:59.767Z"
   },
   {
    "duration": 4,
    "start_time": "2022-08-22T09:11:59.785Z"
   },
   {
    "duration": 579,
    "start_time": "2022-08-22T09:11:59.790Z"
   },
   {
    "duration": 424,
    "start_time": "2022-08-22T09:12:00.459Z"
   },
   {
    "duration": 7,
    "start_time": "2022-08-22T09:12:00.885Z"
   },
   {
    "duration": 113555,
    "start_time": "2022-08-22T09:12:00.894Z"
   },
   {
    "duration": 1207,
    "start_time": "2022-08-22T09:13:54.451Z"
   },
   {
    "duration": 2803,
    "start_time": "2022-08-22T09:13:55.660Z"
   },
   {
    "duration": 10,
    "start_time": "2022-08-22T09:13:58.465Z"
   },
   {
    "duration": 1350,
    "start_time": "2022-08-22T09:15:07.500Z"
   },
   {
    "duration": 32,
    "start_time": "2022-08-22T09:15:08.852Z"
   },
   {
    "duration": 31,
    "start_time": "2022-08-22T09:15:08.886Z"
   },
   {
    "duration": 43,
    "start_time": "2022-08-22T09:15:08.919Z"
   },
   {
    "duration": 10,
    "start_time": "2022-08-22T09:15:08.965Z"
   },
   {
    "duration": 2984,
    "start_time": "2022-08-22T09:15:08.977Z"
   },
   {
    "duration": 1598,
    "start_time": "2022-08-22T09:15:11.963Z"
   },
   {
    "duration": 4,
    "start_time": "2022-08-22T09:15:13.563Z"
   },
   {
    "duration": 10,
    "start_time": "2022-08-22T09:15:13.568Z"
   },
   {
    "duration": 6,
    "start_time": "2022-08-22T09:15:13.579Z"
   },
   {
    "duration": 1471,
    "start_time": "2022-08-22T09:15:13.587Z"
   },
   {
    "duration": 472,
    "start_time": "2022-08-22T09:15:15.060Z"
   },
   {
    "duration": 9,
    "start_time": "2022-08-22T09:15:15.534Z"
   },
   {
    "duration": 113821,
    "start_time": "2022-08-22T09:15:15.556Z"
   },
   {
    "duration": 1083,
    "start_time": "2022-08-22T09:17:09.378Z"
   },
   {
    "duration": 2841,
    "start_time": "2022-08-22T09:17:10.463Z"
   },
   {
    "duration": 11,
    "start_time": "2022-08-22T09:17:13.307Z"
   },
   {
    "duration": 86,
    "start_time": "2022-08-22T09:41:06.865Z"
   },
   {
    "duration": 1648,
    "start_time": "2022-08-22T09:41:12.040Z"
   },
   {
    "duration": 30,
    "start_time": "2022-08-22T09:41:13.690Z"
   },
   {
    "duration": 28,
    "start_time": "2022-08-22T09:41:13.722Z"
   },
   {
    "duration": 36,
    "start_time": "2022-08-22T09:41:15.229Z"
   },
   {
    "duration": 10,
    "start_time": "2022-08-22T09:41:16.788Z"
   },
   {
    "duration": 283,
    "start_time": "2022-08-22T09:41:51.602Z"
   },
   {
    "duration": 504,
    "start_time": "2022-08-22T09:42:03.464Z"
   },
   {
    "duration": 76,
    "start_time": "2022-08-22T09:42:32.451Z"
   },
   {
    "duration": 556,
    "start_time": "2022-08-22T09:42:35.126Z"
   },
   {
    "duration": 482,
    "start_time": "2022-08-22T09:43:06.109Z"
   },
   {
    "duration": 132,
    "start_time": "2022-08-22T09:43:12.683Z"
   },
   {
    "duration": 449,
    "start_time": "2022-08-22T09:43:19.829Z"
   },
   {
    "duration": 455,
    "start_time": "2022-08-22T09:43:38.137Z"
   },
   {
    "duration": 211,
    "start_time": "2022-08-22T09:44:40.150Z"
   },
   {
    "duration": 569,
    "start_time": "2022-08-22T09:44:53.699Z"
   },
   {
    "duration": 480,
    "start_time": "2022-08-22T09:44:57.595Z"
   },
   {
    "duration": 507,
    "start_time": "2022-08-22T09:45:33.815Z"
   },
   {
    "duration": 515,
    "start_time": "2022-08-22T09:45:57.557Z"
   },
   {
    "duration": 498,
    "start_time": "2022-08-22T09:46:32.856Z"
   },
   {
    "duration": 486,
    "start_time": "2022-08-22T09:46:38.295Z"
   },
   {
    "duration": 618,
    "start_time": "2022-08-22T09:46:42.097Z"
   },
   {
    "duration": 454,
    "start_time": "2022-08-22T09:46:51.437Z"
   },
   {
    "duration": 511,
    "start_time": "2022-08-22T09:47:08.276Z"
   },
   {
    "duration": 534,
    "start_time": "2022-08-22T09:47:50.957Z"
   },
   {
    "duration": 501,
    "start_time": "2022-08-22T09:48:45.644Z"
   },
   {
    "duration": 529,
    "start_time": "2022-08-22T09:48:59.999Z"
   }
  ],
  "kernelspec": {
   "display_name": "Python 3 (ipykernel)",
   "language": "python",
   "name": "python3"
  },
  "language_info": {
   "codemirror_mode": {
    "name": "ipython",
    "version": 3
   },
   "file_extension": ".py",
   "mimetype": "text/x-python",
   "name": "python",
   "nbconvert_exporter": "python",
   "pygments_lexer": "ipython3",
   "version": "3.9.5"
  },
  "toc": {
   "base_numbering": 1,
   "nav_menu": {},
   "number_sections": true,
   "sideBar": true,
   "skip_h1_title": true,
   "title_cell": "Table of Contents",
   "title_sidebar": "Contents",
   "toc_cell": false,
   "toc_position": {},
   "toc_section_display": true,
   "toc_window_display": true
  }
 },
 "nbformat": 4,
 "nbformat_minor": 2
}
