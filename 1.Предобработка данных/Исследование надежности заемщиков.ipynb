{
 "cells": [
  {
   "cell_type": "markdown",
   "id": "a5ff1426",
   "metadata": {},
   "source": [
    "# Исследование надежности заемщиков."
   ]
  },
  {
   "cell_type": "markdown",
   "id": "0be0523b",
   "metadata": {},
   "source": [
    "Заказчик — кредитный отдел банка. \n",
    "\n",
    "**Цель исследования** - \n",
    "Разобраться, влияет ли семейное положение и количество детей клиента на факт погашения кредита в срок. \n",
    "Входные данные от банка — статистика о платёжеспособности клиентов.\n",
    "\n",
    "Результаты исследования будут учтены при построении модели кредитного скоринга — специальной системы, которая оценивает способность потенциального заёмщика вернуть кредит банку.\n",
    "\n",
    "**Ход исследования**-\n",
    "Данные получаем из файла data.csv. О качестве данных ничего не известно. Поэтому перед проверкой гипотез понадобится обзор данных.\n",
    "\n",
    "Проверим данные на ошибки и оценим их влияние на исследование. На этапе предобработки поищем возможность исправить самые критичные ошибки данных.\n",
    "\n",
    "\n",
    "Таким образом, исследование пройдёт в три основных этапа:\n",
    "\n",
    "1. Обзор данных\n",
    "2. Предобработка данных.\n",
    "3. Ответы на вопросы\n",
    "\n"
   ]
  },
  {
   "cell_type": "markdown",
   "id": "b166e767",
   "metadata": {},
   "source": [
    "### Шаг 1. Обзор данных"
   ]
  },
  {
   "cell_type": "code",
   "execution_count": 1,
   "id": "88a7cf07",
   "metadata": {},
   "outputs": [
    {
     "ename": "FileNotFoundError",
     "evalue": "[Errno 2] No such file or directory: '/datasets/data.csv'",
     "output_type": "error",
     "traceback": [
      "\u001b[0;31m---------------------------------------------------------------------------\u001b[0m",
      "\u001b[0;31mFileNotFoundError\u001b[0m                         Traceback (most recent call last)",
      "\u001b[1;32m/home/grandma/Загрузки/12.ipynb Ячейка 4\u001b[0m in \u001b[0;36m<cell line: 4>\u001b[0;34m()\u001b[0m\n\u001b[1;32m      <a href='vscode-notebook-cell:/home/grandma/%D0%97%D0%B0%D0%B3%D1%80%D1%83%D0%B7%D0%BA%D0%B8/12.ipynb#ch0000003?line=1'>2</a>\u001b[0m warnings\u001b[39m.\u001b[39mfilterwarnings(\u001b[39m'\u001b[39m\u001b[39mignore\u001b[39m\u001b[39m'\u001b[39m) \u001b[39m#просим игнорировать предупреждения\u001b[39;00m\n\u001b[1;32m      <a href='vscode-notebook-cell:/home/grandma/%D0%97%D0%B0%D0%B3%D1%80%D1%83%D0%B7%D0%BA%D0%B8/12.ipynb#ch0000003?line=2'>3</a>\u001b[0m \u001b[39mimport\u001b[39;00m \u001b[39mpandas\u001b[39;00m \u001b[39mas\u001b[39;00m \u001b[39mpd\u001b[39;00m \u001b[39m#импортируем библиотеку pandas\u001b[39;00m\n\u001b[0;32m----> <a href='vscode-notebook-cell:/home/grandma/%D0%97%D0%B0%D0%B3%D1%80%D1%83%D0%B7%D0%BA%D0%B8/12.ipynb#ch0000003?line=3'>4</a>\u001b[0m data \u001b[39m=\u001b[39m pd\u001b[39m.\u001b[39;49mread_csv(\u001b[39m'\u001b[39;49m\u001b[39m/datasets/data.csv\u001b[39;49m\u001b[39m'\u001b[39;49m) \u001b[39m#чтение файла с данными и сохранение в переменной data\u001b[39;00m\n\u001b[1;32m      <a href='vscode-notebook-cell:/home/grandma/%D0%97%D0%B0%D0%B3%D1%80%D1%83%D0%B7%D0%BA%D0%B8/12.ipynb#ch0000003?line=4'>5</a>\u001b[0m data\u001b[39m.\u001b[39mhead(\u001b[39m10\u001b[39m)\n",
      "File \u001b[0;32m~/miniconda3/lib/python3.9/site-packages/pandas/util/_decorators.py:311\u001b[0m, in \u001b[0;36mdeprecate_nonkeyword_arguments.<locals>.decorate.<locals>.wrapper\u001b[0;34m(*args, **kwargs)\u001b[0m\n\u001b[1;32m    305\u001b[0m \u001b[39mif\u001b[39;00m \u001b[39mlen\u001b[39m(args) \u001b[39m>\u001b[39m num_allow_args:\n\u001b[1;32m    306\u001b[0m     warnings\u001b[39m.\u001b[39mwarn(\n\u001b[1;32m    307\u001b[0m         msg\u001b[39m.\u001b[39mformat(arguments\u001b[39m=\u001b[39marguments),\n\u001b[1;32m    308\u001b[0m         \u001b[39mFutureWarning\u001b[39;00m,\n\u001b[1;32m    309\u001b[0m         stacklevel\u001b[39m=\u001b[39mstacklevel,\n\u001b[1;32m    310\u001b[0m     )\n\u001b[0;32m--> 311\u001b[0m \u001b[39mreturn\u001b[39;00m func(\u001b[39m*\u001b[39;49margs, \u001b[39m*\u001b[39;49m\u001b[39m*\u001b[39;49mkwargs)\n",
      "File \u001b[0;32m~/miniconda3/lib/python3.9/site-packages/pandas/io/parsers/readers.py:680\u001b[0m, in \u001b[0;36mread_csv\u001b[0;34m(filepath_or_buffer, sep, delimiter, header, names, index_col, usecols, squeeze, prefix, mangle_dupe_cols, dtype, engine, converters, true_values, false_values, skipinitialspace, skiprows, skipfooter, nrows, na_values, keep_default_na, na_filter, verbose, skip_blank_lines, parse_dates, infer_datetime_format, keep_date_col, date_parser, dayfirst, cache_dates, iterator, chunksize, compression, thousands, decimal, lineterminator, quotechar, quoting, doublequote, escapechar, comment, encoding, encoding_errors, dialect, error_bad_lines, warn_bad_lines, on_bad_lines, delim_whitespace, low_memory, memory_map, float_precision, storage_options)\u001b[0m\n\u001b[1;32m    665\u001b[0m kwds_defaults \u001b[39m=\u001b[39m _refine_defaults_read(\n\u001b[1;32m    666\u001b[0m     dialect,\n\u001b[1;32m    667\u001b[0m     delimiter,\n\u001b[0;32m   (...)\u001b[0m\n\u001b[1;32m    676\u001b[0m     defaults\u001b[39m=\u001b[39m{\u001b[39m\"\u001b[39m\u001b[39mdelimiter\u001b[39m\u001b[39m\"\u001b[39m: \u001b[39m\"\u001b[39m\u001b[39m,\u001b[39m\u001b[39m\"\u001b[39m},\n\u001b[1;32m    677\u001b[0m )\n\u001b[1;32m    678\u001b[0m kwds\u001b[39m.\u001b[39mupdate(kwds_defaults)\n\u001b[0;32m--> 680\u001b[0m \u001b[39mreturn\u001b[39;00m _read(filepath_or_buffer, kwds)\n",
      "File \u001b[0;32m~/miniconda3/lib/python3.9/site-packages/pandas/io/parsers/readers.py:575\u001b[0m, in \u001b[0;36m_read\u001b[0;34m(filepath_or_buffer, kwds)\u001b[0m\n\u001b[1;32m    572\u001b[0m _validate_names(kwds\u001b[39m.\u001b[39mget(\u001b[39m\"\u001b[39m\u001b[39mnames\u001b[39m\u001b[39m\"\u001b[39m, \u001b[39mNone\u001b[39;00m))\n\u001b[1;32m    574\u001b[0m \u001b[39m# Create the parser.\u001b[39;00m\n\u001b[0;32m--> 575\u001b[0m parser \u001b[39m=\u001b[39m TextFileReader(filepath_or_buffer, \u001b[39m*\u001b[39;49m\u001b[39m*\u001b[39;49mkwds)\n\u001b[1;32m    577\u001b[0m \u001b[39mif\u001b[39;00m chunksize \u001b[39mor\u001b[39;00m iterator:\n\u001b[1;32m    578\u001b[0m     \u001b[39mreturn\u001b[39;00m parser\n",
      "File \u001b[0;32m~/miniconda3/lib/python3.9/site-packages/pandas/io/parsers/readers.py:933\u001b[0m, in \u001b[0;36mTextFileReader.__init__\u001b[0;34m(self, f, engine, **kwds)\u001b[0m\n\u001b[1;32m    930\u001b[0m     \u001b[39mself\u001b[39m\u001b[39m.\u001b[39moptions[\u001b[39m\"\u001b[39m\u001b[39mhas_index_names\u001b[39m\u001b[39m\"\u001b[39m] \u001b[39m=\u001b[39m kwds[\u001b[39m\"\u001b[39m\u001b[39mhas_index_names\u001b[39m\u001b[39m\"\u001b[39m]\n\u001b[1;32m    932\u001b[0m \u001b[39mself\u001b[39m\u001b[39m.\u001b[39mhandles: IOHandles \u001b[39m|\u001b[39m \u001b[39mNone\u001b[39;00m \u001b[39m=\u001b[39m \u001b[39mNone\u001b[39;00m\n\u001b[0;32m--> 933\u001b[0m \u001b[39mself\u001b[39m\u001b[39m.\u001b[39m_engine \u001b[39m=\u001b[39m \u001b[39mself\u001b[39;49m\u001b[39m.\u001b[39;49m_make_engine(f, \u001b[39mself\u001b[39;49m\u001b[39m.\u001b[39;49mengine)\n",
      "File \u001b[0;32m~/miniconda3/lib/python3.9/site-packages/pandas/io/parsers/readers.py:1217\u001b[0m, in \u001b[0;36mTextFileReader._make_engine\u001b[0;34m(self, f, engine)\u001b[0m\n\u001b[1;32m   1213\u001b[0m     mode \u001b[39m=\u001b[39m \u001b[39m\"\u001b[39m\u001b[39mrb\u001b[39m\u001b[39m\"\u001b[39m\n\u001b[1;32m   1214\u001b[0m \u001b[39m# error: No overload variant of \"get_handle\" matches argument types\u001b[39;00m\n\u001b[1;32m   1215\u001b[0m \u001b[39m# \"Union[str, PathLike[str], ReadCsvBuffer[bytes], ReadCsvBuffer[str]]\"\u001b[39;00m\n\u001b[1;32m   1216\u001b[0m \u001b[39m# , \"str\", \"bool\", \"Any\", \"Any\", \"Any\", \"Any\", \"Any\"\u001b[39;00m\n\u001b[0;32m-> 1217\u001b[0m \u001b[39mself\u001b[39m\u001b[39m.\u001b[39mhandles \u001b[39m=\u001b[39m get_handle(  \u001b[39m# type: ignore[call-overload]\u001b[39;49;00m\n\u001b[1;32m   1218\u001b[0m     f,\n\u001b[1;32m   1219\u001b[0m     mode,\n\u001b[1;32m   1220\u001b[0m     encoding\u001b[39m=\u001b[39;49m\u001b[39mself\u001b[39;49m\u001b[39m.\u001b[39;49moptions\u001b[39m.\u001b[39;49mget(\u001b[39m\"\u001b[39;49m\u001b[39mencoding\u001b[39;49m\u001b[39m\"\u001b[39;49m, \u001b[39mNone\u001b[39;49;00m),\n\u001b[1;32m   1221\u001b[0m     compression\u001b[39m=\u001b[39;49m\u001b[39mself\u001b[39;49m\u001b[39m.\u001b[39;49moptions\u001b[39m.\u001b[39;49mget(\u001b[39m\"\u001b[39;49m\u001b[39mcompression\u001b[39;49m\u001b[39m\"\u001b[39;49m, \u001b[39mNone\u001b[39;49;00m),\n\u001b[1;32m   1222\u001b[0m     memory_map\u001b[39m=\u001b[39;49m\u001b[39mself\u001b[39;49m\u001b[39m.\u001b[39;49moptions\u001b[39m.\u001b[39;49mget(\u001b[39m\"\u001b[39;49m\u001b[39mmemory_map\u001b[39;49m\u001b[39m\"\u001b[39;49m, \u001b[39mFalse\u001b[39;49;00m),\n\u001b[1;32m   1223\u001b[0m     is_text\u001b[39m=\u001b[39;49mis_text,\n\u001b[1;32m   1224\u001b[0m     errors\u001b[39m=\u001b[39;49m\u001b[39mself\u001b[39;49m\u001b[39m.\u001b[39;49moptions\u001b[39m.\u001b[39;49mget(\u001b[39m\"\u001b[39;49m\u001b[39mencoding_errors\u001b[39;49m\u001b[39m\"\u001b[39;49m, \u001b[39m\"\u001b[39;49m\u001b[39mstrict\u001b[39;49m\u001b[39m\"\u001b[39;49m),\n\u001b[1;32m   1225\u001b[0m     storage_options\u001b[39m=\u001b[39;49m\u001b[39mself\u001b[39;49m\u001b[39m.\u001b[39;49moptions\u001b[39m.\u001b[39;49mget(\u001b[39m\"\u001b[39;49m\u001b[39mstorage_options\u001b[39;49m\u001b[39m\"\u001b[39;49m, \u001b[39mNone\u001b[39;49;00m),\n\u001b[1;32m   1226\u001b[0m )\n\u001b[1;32m   1227\u001b[0m \u001b[39massert\u001b[39;00m \u001b[39mself\u001b[39m\u001b[39m.\u001b[39mhandles \u001b[39mis\u001b[39;00m \u001b[39mnot\u001b[39;00m \u001b[39mNone\u001b[39;00m\n\u001b[1;32m   1228\u001b[0m f \u001b[39m=\u001b[39m \u001b[39mself\u001b[39m\u001b[39m.\u001b[39mhandles\u001b[39m.\u001b[39mhandle\n",
      "File \u001b[0;32m~/miniconda3/lib/python3.9/site-packages/pandas/io/common.py:789\u001b[0m, in \u001b[0;36mget_handle\u001b[0;34m(path_or_buf, mode, encoding, compression, memory_map, is_text, errors, storage_options)\u001b[0m\n\u001b[1;32m    784\u001b[0m \u001b[39melif\u001b[39;00m \u001b[39misinstance\u001b[39m(handle, \u001b[39mstr\u001b[39m):\n\u001b[1;32m    785\u001b[0m     \u001b[39m# Check whether the filename is to be opened in binary mode.\u001b[39;00m\n\u001b[1;32m    786\u001b[0m     \u001b[39m# Binary mode does not support 'encoding' and 'newline'.\u001b[39;00m\n\u001b[1;32m    787\u001b[0m     \u001b[39mif\u001b[39;00m ioargs\u001b[39m.\u001b[39mencoding \u001b[39mand\u001b[39;00m \u001b[39m\"\u001b[39m\u001b[39mb\u001b[39m\u001b[39m\"\u001b[39m \u001b[39mnot\u001b[39;00m \u001b[39min\u001b[39;00m ioargs\u001b[39m.\u001b[39mmode:\n\u001b[1;32m    788\u001b[0m         \u001b[39m# Encoding\u001b[39;00m\n\u001b[0;32m--> 789\u001b[0m         handle \u001b[39m=\u001b[39m \u001b[39mopen\u001b[39;49m(\n\u001b[1;32m    790\u001b[0m             handle,\n\u001b[1;32m    791\u001b[0m             ioargs\u001b[39m.\u001b[39;49mmode,\n\u001b[1;32m    792\u001b[0m             encoding\u001b[39m=\u001b[39;49mioargs\u001b[39m.\u001b[39;49mencoding,\n\u001b[1;32m    793\u001b[0m             errors\u001b[39m=\u001b[39;49merrors,\n\u001b[1;32m    794\u001b[0m             newline\u001b[39m=\u001b[39;49m\u001b[39m\"\u001b[39;49m\u001b[39m\"\u001b[39;49m,\n\u001b[1;32m    795\u001b[0m         )\n\u001b[1;32m    796\u001b[0m     \u001b[39melse\u001b[39;00m:\n\u001b[1;32m    797\u001b[0m         \u001b[39m# Binary mode\u001b[39;00m\n\u001b[1;32m    798\u001b[0m         handle \u001b[39m=\u001b[39m \u001b[39mopen\u001b[39m(handle, ioargs\u001b[39m.\u001b[39mmode)\n",
      "\u001b[0;31mFileNotFoundError\u001b[0m: [Errno 2] No such file or directory: '/datasets/data.csv'"
     ]
    }
   ],
   "source": [
    "import warnings #импортируем управление предупреждениями\n",
    "warnings.filterwarnings('ignore') #просим игнорировать предупреждения\n",
    "import pandas as pd #импортируем библиотеку pandas\n",
    "data = pd.read_csv('/datasets/data.csv') #чтение файла с данными и сохранение в переменной data\n",
    "data.head(10) #получение первых 10 строк таблицы data"
   ]
  },
  {
   "cell_type": "code",
   "execution_count": null,
   "id": "e92696d1",
   "metadata": {},
   "outputs": [
    {
     "name": "stdout",
     "output_type": "stream",
     "text": [
      "<class 'pandas.core.frame.DataFrame'>\n",
      "RangeIndex: 21525 entries, 0 to 21524\n",
      "Data columns (total 12 columns):\n",
      " #   Column            Non-Null Count  Dtype  \n",
      "---  ------            --------------  -----  \n",
      " 0   children          21525 non-null  int64  \n",
      " 1   days_employed     19351 non-null  float64\n",
      " 2   dob_years         21525 non-null  int64  \n",
      " 3   education         21525 non-null  object \n",
      " 4   education_id      21525 non-null  int64  \n",
      " 5   family_status     21525 non-null  object \n",
      " 6   family_status_id  21525 non-null  int64  \n",
      " 7   gender            21525 non-null  object \n",
      " 8   income_type       21525 non-null  object \n",
      " 9   debt              21525 non-null  int64  \n",
      " 10  total_income      19351 non-null  float64\n",
      " 11  purpose           21525 non-null  object \n",
      "dtypes: float64(2), int64(5), object(5)\n",
      "memory usage: 2.0+ MB\n"
     ]
    }
   ],
   "source": [
    "data.info() #получение общей информации о данных в таблице data"
   ]
  },
  {
   "cell_type": "markdown",
   "id": "15680d84",
   "metadata": {},
   "source": [
    "Видим, что таблица состоит из 21525 строк и 12 столбцов, также замечаем пропущеные значения в двух столбцах days_employed и total_income. \n",
    "\n",
    "Еще присутствует аномалия данных в колонке days_employed. Указаны отрицательные значения, судя по документации, данный столбец отображает трудовой стаж в днях. Выясним по какой причине образовались данные значения.\n",
    "\n",
    "Согласно документации к данным:\n",
    "\n",
    "* children — количество детей в семье\n",
    "* days_employed — общий трудовой стаж в днях\n",
    "* dob_years — возраст клиента в годах\n",
    "* education — уровень образования клиента\n",
    "* education_id — идентификатор уровня образования\n",
    "* family_status — семейное положение\n",
    "* family_status_id — идентификатор семейного положения\n",
    "* gender — пол клиента\n",
    "* income_type — тип занятости\n",
    "* debt — имел ли задолженность по возврату кредитов\n",
    "* total_income — ежемесячный доход\n",
    "* purpose — цель получения кредита\n",
    "\n",
    "В названиях колонок нарушений стиля не обнаружено.\n",
    "\n",
    "Выводы\n",
    "\n",
    "В каждой строке таблицы — информация о платёжеспособности клиентов. Часть колонок описывают общую информацию о клиентах: пол, возраст, количество детей в семье, доход, общий трудовой стаж, уровень образования, семейное положение. \n",
    "\n",
    "Предварительно можно утверждать, что, данных достаточно для проверки гипотез. \n",
    "\n",
    "Чтобы двигаться дальше, нужно устранить проблемы в данных: преобразовать значения в колонке days_employed, заполнить пропуски в колонках days_employed и total_income.\n"
   ]
  },
  {
   "cell_type": "markdown",
   "id": "b52ce92f",
   "metadata": {},
   "source": [
    "### Шаг 2.1 Заполнение пропусков"
   ]
  },
  {
   "cell_type": "markdown",
   "id": "b59d7aae",
   "metadata": {},
   "source": [
    "Первым делом обработаем пустые значения в столбце total_income.\n",
    "Методом isna() найдём все строки с пропусками в столбце total_income и просмотрим первые пять.\n"
   ]
  },
  {
   "cell_type": "code",
   "execution_count": null,
   "id": "90e303e8",
   "metadata": {},
   "outputs": [
    {
     "data": {
      "text/html": [
       "<div>\n",
       "<style scoped>\n",
       "    .dataframe tbody tr th:only-of-type {\n",
       "        vertical-align: middle;\n",
       "    }\n",
       "\n",
       "    .dataframe tbody tr th {\n",
       "        vertical-align: top;\n",
       "    }\n",
       "\n",
       "    .dataframe thead th {\n",
       "        text-align: right;\n",
       "    }\n",
       "</style>\n",
       "<table border=\"1\" class=\"dataframe\">\n",
       "  <thead>\n",
       "    <tr style=\"text-align: right;\">\n",
       "      <th></th>\n",
       "      <th>children</th>\n",
       "      <th>days_employed</th>\n",
       "      <th>dob_years</th>\n",
       "      <th>education</th>\n",
       "      <th>education_id</th>\n",
       "      <th>family_status</th>\n",
       "      <th>family_status_id</th>\n",
       "      <th>gender</th>\n",
       "      <th>income_type</th>\n",
       "      <th>debt</th>\n",
       "      <th>total_income</th>\n",
       "      <th>purpose</th>\n",
       "    </tr>\n",
       "  </thead>\n",
       "  <tbody>\n",
       "    <tr>\n",
       "      <th>12</th>\n",
       "      <td>0</td>\n",
       "      <td>NaN</td>\n",
       "      <td>65</td>\n",
       "      <td>среднее</td>\n",
       "      <td>1</td>\n",
       "      <td>гражданский брак</td>\n",
       "      <td>1</td>\n",
       "      <td>M</td>\n",
       "      <td>пенсионер</td>\n",
       "      <td>0</td>\n",
       "      <td>NaN</td>\n",
       "      <td>сыграть свадьбу</td>\n",
       "    </tr>\n",
       "    <tr>\n",
       "      <th>26</th>\n",
       "      <td>0</td>\n",
       "      <td>NaN</td>\n",
       "      <td>41</td>\n",
       "      <td>среднее</td>\n",
       "      <td>1</td>\n",
       "      <td>женат / замужем</td>\n",
       "      <td>0</td>\n",
       "      <td>M</td>\n",
       "      <td>госслужащий</td>\n",
       "      <td>0</td>\n",
       "      <td>NaN</td>\n",
       "      <td>образование</td>\n",
       "    </tr>\n",
       "    <tr>\n",
       "      <th>29</th>\n",
       "      <td>0</td>\n",
       "      <td>NaN</td>\n",
       "      <td>63</td>\n",
       "      <td>среднее</td>\n",
       "      <td>1</td>\n",
       "      <td>Не женат / не замужем</td>\n",
       "      <td>4</td>\n",
       "      <td>F</td>\n",
       "      <td>пенсионер</td>\n",
       "      <td>0</td>\n",
       "      <td>NaN</td>\n",
       "      <td>строительство жилой недвижимости</td>\n",
       "    </tr>\n",
       "    <tr>\n",
       "      <th>41</th>\n",
       "      <td>0</td>\n",
       "      <td>NaN</td>\n",
       "      <td>50</td>\n",
       "      <td>среднее</td>\n",
       "      <td>1</td>\n",
       "      <td>женат / замужем</td>\n",
       "      <td>0</td>\n",
       "      <td>F</td>\n",
       "      <td>госслужащий</td>\n",
       "      <td>0</td>\n",
       "      <td>NaN</td>\n",
       "      <td>сделка с подержанным автомобилем</td>\n",
       "    </tr>\n",
       "    <tr>\n",
       "      <th>55</th>\n",
       "      <td>0</td>\n",
       "      <td>NaN</td>\n",
       "      <td>54</td>\n",
       "      <td>среднее</td>\n",
       "      <td>1</td>\n",
       "      <td>гражданский брак</td>\n",
       "      <td>1</td>\n",
       "      <td>F</td>\n",
       "      <td>пенсионер</td>\n",
       "      <td>1</td>\n",
       "      <td>NaN</td>\n",
       "      <td>сыграть свадьбу</td>\n",
       "    </tr>\n",
       "  </tbody>\n",
       "</table>\n",
       "</div>"
      ],
      "text/plain": [
       "    children  days_employed  dob_years education  education_id  \\\n",
       "12         0            NaN         65   среднее             1   \n",
       "26         0            NaN         41   среднее             1   \n",
       "29         0            NaN         63   среднее             1   \n",
       "41         0            NaN         50   среднее             1   \n",
       "55         0            NaN         54   среднее             1   \n",
       "\n",
       "            family_status  family_status_id gender  income_type  debt  \\\n",
       "12       гражданский брак                 1      M    пенсионер     0   \n",
       "26        женат / замужем                 0      M  госслужащий     0   \n",
       "29  Не женат / не замужем                 4      F    пенсионер     0   \n",
       "41        женат / замужем                 0      F  госслужащий     0   \n",
       "55       гражданский брак                 1      F    пенсионер     1   \n",
       "\n",
       "    total_income                           purpose  \n",
       "12           NaN                   сыграть свадьбу  \n",
       "26           NaN                       образование  \n",
       "29           NaN  строительство жилой недвижимости  \n",
       "41           NaN  сделка с подержанным автомобилем  \n",
       "55           NaN                   сыграть свадьбу  "
      ]
     },
     "execution_count": 3,
     "metadata": {},
     "output_type": "execute_result"
    }
   ],
   "source": [
    "data[data['total_income'].isna()].head() #Ищем пропущенные значения в столбце total_income"
   ]
  },
  {
   "cell_type": "markdown",
   "id": "e6bd94d9",
   "metadata": {},
   "source": [
    "Находим пустые значения типа NaN.  \n",
    "\n",
    "Проверим, какую долю составляют пропущенные значения в каждом из столбцов с пропусками.\n"
   ]
  },
  {
   "cell_type": "code",
   "execution_count": null,
   "id": "7f43c107",
   "metadata": {},
   "outputs": [
    {
     "data": {
      "text/plain": [
       "children             0.0\n",
       "days_employed       10.1\n",
       "dob_years            0.0\n",
       "education            0.0\n",
       "education_id         0.0\n",
       "family_status        0.0\n",
       "family_status_id     0.0\n",
       "gender               0.0\n",
       "income_type          0.0\n",
       "debt                 0.0\n",
       "total_income        10.1\n",
       "purpose              0.0\n",
       "dtype: float64"
      ]
     },
     "execution_count": 4,
     "metadata": {},
     "output_type": "execute_result"
    }
   ],
   "source": [
    "\n",
    "round(data.isna().sum()*100/len(data),2) #доля пропущенных значений\n"
   ]
  },
  {
   "cell_type": "markdown",
   "id": "aaa50908",
   "metadata": {},
   "source": [
    "Пропуски в столбце total_income совпадают с пропусками в столбце days_employed, из чего можем сделать вывод, что отсутствие данных не случайно: в данной ситуации можем предположить, что при внесении данных, у клиентов без ежемесячного дохода по ошибке не заполнялся и трудовой стаж.\n",
    "\n",
    "Так как значения в столбце total_income - количественные переменные - заполним пропуски характерными значениями. \n",
    "\n",
    "Заполним пропущенные значения медианным значением по столбцу, так как доходы клиентов могут сильно отличаться. Среднее значение, в данном случае, будет некорректно характеризовать данные."
   ]
  },
  {
   "cell_type": "code",
   "execution_count": null,
   "id": "0ae44380",
   "metadata": {},
   "outputs": [
    {
     "name": "stdout",
     "output_type": "stream",
     "text": [
      "145017.93753253992\n"
     ]
    }
   ],
   "source": [
    "total_income_median = data['total_income'].median() #считаем медиану для столбца total_income\n",
    "print(total_income_median)"
   ]
  },
  {
   "cell_type": "code",
   "execution_count": null,
   "id": "c13e7e2f",
   "metadata": {},
   "outputs": [
    {
     "data": {
      "text/plain": [
       "children               0\n",
       "days_employed       2174\n",
       "dob_years              0\n",
       "education              0\n",
       "education_id           0\n",
       "family_status          0\n",
       "family_status_id       0\n",
       "gender                 0\n",
       "income_type            0\n",
       "debt                   0\n",
       "total_income           0\n",
       "purpose                0\n",
       "dtype: int64"
      ]
     },
     "execution_count": 6,
     "metadata": {},
     "output_type": "execute_result"
    }
   ],
   "source": [
    "data['total_income'] = data['total_income'].fillna(value=total_income_median) #заполняем пропуски медианным значением\n",
    "data.isna().sum() #проверяем, заменились ли пропуски "
   ]
  },
  {
   "cell_type": "markdown",
   "id": "9c164463",
   "metadata": {},
   "source": [
    "### Шаг 2.2 Проверка данных на аномалии и исправления."
   ]
  },
  {
   "cell_type": "markdown",
   "id": "340358cc",
   "metadata": {},
   "source": [
    "Теперь рассмотрим и обработаем значения в столбце days_employed. На начальном этапе знакомства с данными мы сразу заметили отрицательные значения в данном столбце.\n",
    "Можем предположить, что отрицательные значения возникли вследствие сбоя при загрузке данных, но стоит отметить, что в таблице присутствуют и положительные данные, но невозможно большие.\n",
    "\n",
    "При первом знакомстве с данными можно предположить, что положительные числа указаны преимущественно для пенсионеров, давайте проверим."
   ]
  },
  {
   "cell_type": "code",
   "execution_count": null,
   "id": "00fec567",
   "metadata": {},
   "outputs": [
    {
     "data": {
      "text/plain": [
       "4        пенсионер\n",
       "18       пенсионер\n",
       "24       пенсионер\n",
       "25       пенсионер\n",
       "30       пенсионер\n",
       "           ...    \n",
       "21505    пенсионер\n",
       "21508    пенсионер\n",
       "21509    пенсионер\n",
       "21518    пенсионер\n",
       "21521    пенсионер\n",
       "Name: income_type, Length: 3445, dtype: object"
      ]
     },
     "execution_count": 7,
     "metadata": {},
     "output_type": "execute_result"
    }
   ],
   "source": [
    "data.loc[data['days_employed'] > 0, 'income_type']"
   ]
  },
  {
   "cell_type": "markdown",
   "id": "5eadc455",
   "metadata": {},
   "source": [
    "Появляется предположение, что данные некорректно заполняются для клиентов, которые в данный момент времени не работают.\n",
    "Для этого проверим трудовой стаж для безработных клиентов. "
   ]
  },
  {
   "cell_type": "code",
   "execution_count": null,
   "id": "35ef4616",
   "metadata": {},
   "outputs": [
    {
     "data": {
      "text/plain": [
       "3133     337524.466835\n",
       "14798    395302.838654\n",
       "Name: days_employed, dtype: float64"
      ]
     },
     "execution_count": 8,
     "metadata": {},
     "output_type": "execute_result"
    }
   ],
   "source": [
    "data.loc[data['income_type'] =='безработный', 'days_employed']"
   ]
  },
  {
   "cell_type": "markdown",
   "id": "883fae4d",
   "metadata": {},
   "source": [
    "Предположение подтвердилось, но, так как в нашем исследовании мы не будем использовать информацию о трудовом стаже, исправлять данные значения не целесообразно. На практике точные причины появления этих аномальных значений нужно уточнить у разработчиков.\n",
    "\n",
    "Обработаем пропущенные значения в столбце days_employed."
   ]
  },
  {
   "cell_type": "code",
   "execution_count": null,
   "id": "f197a0ed",
   "metadata": {},
   "outputs": [
    {
     "data": {
      "text/html": [
       "<div>\n",
       "<style scoped>\n",
       "    .dataframe tbody tr th:only-of-type {\n",
       "        vertical-align: middle;\n",
       "    }\n",
       "\n",
       "    .dataframe tbody tr th {\n",
       "        vertical-align: top;\n",
       "    }\n",
       "\n",
       "    .dataframe thead th {\n",
       "        text-align: right;\n",
       "    }\n",
       "</style>\n",
       "<table border=\"1\" class=\"dataframe\">\n",
       "  <thead>\n",
       "    <tr style=\"text-align: right;\">\n",
       "      <th></th>\n",
       "      <th>children</th>\n",
       "      <th>days_employed</th>\n",
       "      <th>dob_years</th>\n",
       "      <th>education</th>\n",
       "      <th>education_id</th>\n",
       "      <th>family_status</th>\n",
       "      <th>family_status_id</th>\n",
       "      <th>gender</th>\n",
       "      <th>income_type</th>\n",
       "      <th>debt</th>\n",
       "      <th>total_income</th>\n",
       "      <th>purpose</th>\n",
       "    </tr>\n",
       "  </thead>\n",
       "  <tbody>\n",
       "    <tr>\n",
       "      <th>12</th>\n",
       "      <td>0</td>\n",
       "      <td>NaN</td>\n",
       "      <td>65</td>\n",
       "      <td>среднее</td>\n",
       "      <td>1</td>\n",
       "      <td>гражданский брак</td>\n",
       "      <td>1</td>\n",
       "      <td>M</td>\n",
       "      <td>пенсионер</td>\n",
       "      <td>0</td>\n",
       "      <td>145017.937533</td>\n",
       "      <td>сыграть свадьбу</td>\n",
       "    </tr>\n",
       "    <tr>\n",
       "      <th>26</th>\n",
       "      <td>0</td>\n",
       "      <td>NaN</td>\n",
       "      <td>41</td>\n",
       "      <td>среднее</td>\n",
       "      <td>1</td>\n",
       "      <td>женат / замужем</td>\n",
       "      <td>0</td>\n",
       "      <td>M</td>\n",
       "      <td>госслужащий</td>\n",
       "      <td>0</td>\n",
       "      <td>145017.937533</td>\n",
       "      <td>образование</td>\n",
       "    </tr>\n",
       "    <tr>\n",
       "      <th>29</th>\n",
       "      <td>0</td>\n",
       "      <td>NaN</td>\n",
       "      <td>63</td>\n",
       "      <td>среднее</td>\n",
       "      <td>1</td>\n",
       "      <td>Не женат / не замужем</td>\n",
       "      <td>4</td>\n",
       "      <td>F</td>\n",
       "      <td>пенсионер</td>\n",
       "      <td>0</td>\n",
       "      <td>145017.937533</td>\n",
       "      <td>строительство жилой недвижимости</td>\n",
       "    </tr>\n",
       "    <tr>\n",
       "      <th>41</th>\n",
       "      <td>0</td>\n",
       "      <td>NaN</td>\n",
       "      <td>50</td>\n",
       "      <td>среднее</td>\n",
       "      <td>1</td>\n",
       "      <td>женат / замужем</td>\n",
       "      <td>0</td>\n",
       "      <td>F</td>\n",
       "      <td>госслужащий</td>\n",
       "      <td>0</td>\n",
       "      <td>145017.937533</td>\n",
       "      <td>сделка с подержанным автомобилем</td>\n",
       "    </tr>\n",
       "    <tr>\n",
       "      <th>55</th>\n",
       "      <td>0</td>\n",
       "      <td>NaN</td>\n",
       "      <td>54</td>\n",
       "      <td>среднее</td>\n",
       "      <td>1</td>\n",
       "      <td>гражданский брак</td>\n",
       "      <td>1</td>\n",
       "      <td>F</td>\n",
       "      <td>пенсионер</td>\n",
       "      <td>1</td>\n",
       "      <td>145017.937533</td>\n",
       "      <td>сыграть свадьбу</td>\n",
       "    </tr>\n",
       "  </tbody>\n",
       "</table>\n",
       "</div>"
      ],
      "text/plain": [
       "    children  days_employed  dob_years education  education_id  \\\n",
       "12         0            NaN         65   среднее             1   \n",
       "26         0            NaN         41   среднее             1   \n",
       "29         0            NaN         63   среднее             1   \n",
       "41         0            NaN         50   среднее             1   \n",
       "55         0            NaN         54   среднее             1   \n",
       "\n",
       "            family_status  family_status_id gender  income_type  debt  \\\n",
       "12       гражданский брак                 1      M    пенсионер     0   \n",
       "26        женат / замужем                 0      M  госслужащий     0   \n",
       "29  Не женат / не замужем                 4      F    пенсионер     0   \n",
       "41        женат / замужем                 0      F  госслужащий     0   \n",
       "55       гражданский брак                 1      F    пенсионер     1   \n",
       "\n",
       "     total_income                           purpose  \n",
       "12  145017.937533                   сыграть свадьбу  \n",
       "26  145017.937533                       образование  \n",
       "29  145017.937533  строительство жилой недвижимости  \n",
       "41  145017.937533  сделка с подержанным автомобилем  \n",
       "55  145017.937533                   сыграть свадьбу  "
      ]
     },
     "execution_count": 9,
     "metadata": {},
     "output_type": "execute_result"
    }
   ],
   "source": [
    "data[data['days_employed'].isna()].head() #Ищем пропущенные значения в столбце days_employed"
   ]
  },
  {
   "cell_type": "markdown",
   "id": "82d92356",
   "metadata": {},
   "source": [
    "\n",
    "Уберем минус в значениях для столбца days_employed. Для этого применим функцию abs, которая возвращает абсолютную величину числа."
   ]
  },
  {
   "cell_type": "code",
   "execution_count": null,
   "id": "070bede3",
   "metadata": {},
   "outputs": [],
   "source": [
    "data['days_employed'] = abs(data['days_employed']) #возвращаем абсолютную величину числа"
   ]
  },
  {
   "cell_type": "markdown",
   "id": "675a024c",
   "metadata": {},
   "source": [
    "Значения в столбце обновили, теперь заменим пропуски медианным значением по столбцу days_employed."
   ]
  },
  {
   "cell_type": "code",
   "execution_count": null,
   "id": "d31f8bd5",
   "metadata": {},
   "outputs": [
    {
     "name": "stdout",
     "output_type": "stream",
     "text": [
      "2194.220566878695\n"
     ]
    }
   ],
   "source": [
    "days_employed_median = data['days_employed'].median() #считаем медиану для столбца total_income\n",
    "print(days_employed_median)"
   ]
  },
  {
   "cell_type": "code",
   "execution_count": null,
   "id": "ac456b49",
   "metadata": {},
   "outputs": [
    {
     "data": {
      "text/plain": [
       "children            0\n",
       "days_employed       0\n",
       "dob_years           0\n",
       "education           0\n",
       "education_id        0\n",
       "family_status       0\n",
       "family_status_id    0\n",
       "gender              0\n",
       "income_type         0\n",
       "debt                0\n",
       "total_income        0\n",
       "purpose             0\n",
       "dtype: int64"
      ]
     },
     "execution_count": 12,
     "metadata": {},
     "output_type": "execute_result"
    }
   ],
   "source": [
    "data['days_employed'] = data['days_employed'].fillna(value=days_employed_median) #заполняем пропуски медианным значением\n",
    "data.isna().sum() #проверяем, заменились ли пропуски "
   ]
  },
  {
   "cell_type": "markdown",
   "id": "e7f6653c",
   "metadata": {},
   "source": [
    "Пропуски заполнили, давайте также проверим значения в столбце children, который непосредственно будет учавствовать в исследовании. "
   ]
  },
  {
   "cell_type": "code",
   "execution_count": null,
   "id": "4354bc21",
   "metadata": {},
   "outputs": [
    {
     "data": {
      "text/plain": [
       " 0     14149\n",
       " 1      4818\n",
       " 2      2055\n",
       " 3       330\n",
       " 20       76\n",
       "-1        47\n",
       " 4        41\n",
       " 5         9\n",
       "Name: children, dtype: int64"
      ]
     },
     "execution_count": 13,
     "metadata": {},
     "output_type": "execute_result"
    }
   ],
   "source": [
    "data['children'].value_counts() #проверим уникальные значения в столбце children"
   ]
  },
  {
   "cell_type": "markdown",
   "id": "3a96e2c2",
   "metadata": {},
   "source": [
    "Замечаем аномальные значения: количество детей -1.\n",
    "Предположим, что данные записаны с ошибкой, заменим -1 на 1.\n",
    "Также присутствует значение 20, что маловероятно для 76 клиентов. Но тут мы точно не знаем, имелось в виду 2 или 0, поэтому заменим на медианное значение."
   ]
  },
  {
   "cell_type": "code",
   "execution_count": null,
   "id": "35c7db2e",
   "metadata": {},
   "outputs": [
    {
     "data": {
      "text/plain": [
       "0    14225\n",
       "1     4865\n",
       "2     2055\n",
       "3      330\n",
       "4       41\n",
       "5        9\n",
       "Name: children, dtype: int64"
      ]
     },
     "execution_count": 14,
     "metadata": {},
     "output_type": "execute_result"
    }
   ],
   "source": [
    "data['children'] = abs(data['children']) #возвращаем абсолютную величину числа\n",
    "children_median = data.loc[data.loc[:, 'children'] != 20]['children'].median() #считаем медиану для столбца children\n",
    "data['children'] = data['children'].replace(20, children_median) #менеям значение 20 на медианное\n",
    "data['children'] = data['children'].astype('int') #приводим данные в столбце children до целочисленных\n",
    "data['children'].value_counts() #проверяем результат"
   ]
  },
  {
   "cell_type": "markdown",
   "id": "d3a36c0a",
   "metadata": {},
   "source": [
    "Теперь проверим данные в столбцах gender и dob_years."
   ]
  },
  {
   "cell_type": "code",
   "execution_count": null,
   "id": "b23e6522",
   "metadata": {},
   "outputs": [
    {
     "data": {
      "text/plain": [
       "F      14236\n",
       "M       7288\n",
       "XNA        1\n",
       "Name: gender, dtype: int64"
      ]
     },
     "execution_count": 15,
     "metadata": {},
     "output_type": "execute_result"
    }
   ],
   "source": [
    "data['gender'].value_counts()"
   ]
  },
  {
   "cell_type": "code",
   "execution_count": null,
   "id": "2dc916a5",
   "metadata": {},
   "outputs": [
    {
     "data": {
      "text/plain": [
       "35    617\n",
       "40    609\n",
       "41    607\n",
       "34    603\n",
       "38    598\n",
       "42    597\n",
       "33    581\n",
       "39    573\n",
       "31    560\n",
       "36    555\n",
       "44    547\n",
       "29    545\n",
       "30    540\n",
       "48    538\n",
       "37    537\n",
       "50    514\n",
       "43    513\n",
       "32    510\n",
       "49    508\n",
       "28    503\n",
       "45    497\n",
       "27    493\n",
       "56    487\n",
       "52    484\n",
       "47    480\n",
       "54    479\n",
       "46    475\n",
       "58    461\n",
       "57    460\n",
       "53    459\n",
       "51    448\n",
       "59    444\n",
       "55    443\n",
       "26    408\n",
       "60    377\n",
       "25    357\n",
       "61    355\n",
       "62    352\n",
       "63    269\n",
       "64    265\n",
       "24    264\n",
       "23    254\n",
       "65    194\n",
       "66    183\n",
       "22    183\n",
       "67    167\n",
       "21    111\n",
       "0     101\n",
       "68     99\n",
       "69     85\n",
       "70     65\n",
       "71     58\n",
       "20     51\n",
       "72     33\n",
       "19     14\n",
       "73      8\n",
       "74      6\n",
       "75      1\n",
       "Name: dob_years, dtype: int64"
      ]
     },
     "execution_count": 16,
     "metadata": {},
     "output_type": "execute_result"
    }
   ],
   "source": [
    "data['dob_years'].value_counts()"
   ]
  },
  {
   "cell_type": "markdown",
   "id": "1c87b8a3",
   "metadata": {},
   "source": [
    "Обнаружили одно значение XNA в столбце gender, в данном случае не можем точно предположить, что значение было указано ошибочно, возможно, какой-то клиент целенаправленно не заполнил пол. Так как значения столбца gender не будут учавствовать в нашем исследовании, удалять XNA не будем. \n",
    "\n",
    "Также выявили аномальное значение в стобце dob_years, целых 101 клиентов с возрастом 0. В этой ситуации не можем однозначно сказать в чем причина данной аномалии, возможно, при внесении данных сотрудник опечатался и не добавил цифру перед нулем, либо на каком-то этапе произошел сбой. В любом случае эту информацию необходимо уточнить у разработчиков. "
   ]
  },
  {
   "cell_type": "markdown",
   "id": "bb356430",
   "metadata": {},
   "source": [
    "Итак, пропуски и аномальные значения исправлены, перейдем к изменению типов данных и удалению дубликатов. "
   ]
  },
  {
   "cell_type": "markdown",
   "id": "a22d2a5d",
   "metadata": {},
   "source": [
    "### Шаг 2.3. Изменение типов данных."
   ]
  },
  {
   "cell_type": "markdown",
   "id": "96ffa6d8",
   "metadata": {},
   "source": [
    "Заменим вещественный тип данных в столбце total_income на целочисленный с помощью метода astype()."
   ]
  },
  {
   "cell_type": "code",
   "execution_count": null,
   "id": "4fb9540a",
   "metadata": {},
   "outputs": [],
   "source": [
    "data['total_income'] = data['total_income'].astype('int')"
   ]
  },
  {
   "cell_type": "markdown",
   "id": "71ef36e8",
   "metadata": {},
   "source": [
    "### Шаг 2.4. Удаление дубликатов."
   ]
  },
  {
   "cell_type": "code",
   "execution_count": null,
   "id": "3ebc418c",
   "metadata": {},
   "outputs": [
    {
     "data": {
      "text/plain": [
       "54"
      ]
     },
     "execution_count": 18,
     "metadata": {},
     "output_type": "execute_result"
    }
   ],
   "source": [
    "data.duplicated().sum() #проверяем наличие явных дубликатов\n"
   ]
  },
  {
   "cell_type": "markdown",
   "id": "91ca0efe",
   "metadata": {},
   "source": [
    "Видим, что в наших данных есть 54 явных дубликата, можем сразу их удалить "
   ]
  },
  {
   "cell_type": "code",
   "execution_count": null,
   "id": "4eb5e060",
   "metadata": {},
   "outputs": [
    {
     "data": {
      "text/plain": [
       "0"
      ]
     },
     "execution_count": 19,
     "metadata": {},
     "output_type": "execute_result"
    }
   ],
   "source": [
    "data = data.drop_duplicates().reset_index(drop=True) #удаляем явные дубликаты\n",
    "data.duplicated().sum() #проверяем наличие дубликатов после удаления "
   ]
  },
  {
   "cell_type": "markdown",
   "id": "e2919bf5",
   "metadata": {},
   "source": [
    "Проверим столбец education методом value_counts(), чтобы проанализирать столбец, выбрать каждое уникальное значение и подсчитать частоту его встречаемости в списке."
   ]
  },
  {
   "cell_type": "code",
   "execution_count": null,
   "id": "7acecb42",
   "metadata": {},
   "outputs": [
    {
     "data": {
      "text/plain": [
       "среднее                13705\n",
       "высшее                  4710\n",
       "СРЕДНЕЕ                  772\n",
       "Среднее                  711\n",
       "неоконченное высшее      668\n",
       "ВЫСШЕЕ                   273\n",
       "Высшее                   268\n",
       "начальное                250\n",
       "Неоконченное высшее       47\n",
       "НЕОКОНЧЕННОЕ ВЫСШЕЕ       29\n",
       "НАЧАЛЬНОЕ                 17\n",
       "Начальное                 15\n",
       "ученая степень             4\n",
       "УЧЕНАЯ СТЕПЕНЬ             1\n",
       "Ученая степень             1\n",
       "Name: education, dtype: int64"
      ]
     },
     "execution_count": 20,
     "metadata": {},
     "output_type": "execute_result"
    }
   ],
   "source": [
    "data['education'].value_counts() #применяем метод value_counts() к столбцу education"
   ]
  },
  {
   "cell_type": "markdown",
   "id": "b49e69e3",
   "metadata": {},
   "source": [
    "Глядя на таблицу видим, что в столбце education есть одни и те же значения, но записанные по-разному: с использованием заглавных и строчных букв. Приведим их к одному регистру."
   ]
  },
  {
   "cell_type": "code",
   "execution_count": null,
   "id": "a6e3bd67",
   "metadata": {},
   "outputs": [
    {
     "data": {
      "text/plain": [
       "среднее                15188\n",
       "высшее                  5251\n",
       "неоконченное высшее      744\n",
       "начальное                282\n",
       "ученая степень             6\n",
       "Name: education, dtype: int64"
      ]
     },
     "execution_count": 21,
     "metadata": {},
     "output_type": "execute_result"
    }
   ],
   "source": [
    "data['education'] = data['education'].str.lower() #приводим столбец education к нижнему регистру\n",
    "data['education'].value_counts() # повторно применяем метод value_counts() к столбцу education  "
   ]
  },
  {
   "cell_type": "markdown",
   "id": "3e156720",
   "metadata": {},
   "source": [
    "Явные дубликаты в нашем датасете удалены, неявные дубликаты в столбце education обработаны - приведены к единому нижнему регистру\n",
    "Для работы с дубликатами использовали метод value_counts() для их обнаружения, и метод str.lower() для исправления. \n",
    "Дубликаты могли появиться по нескольким причинам. Например, сбой при загрузке данных, либо вследствие проявления человеческого фактора: при внесении данных несколько сотрудников могли по-разному записывать информацию в колонку. "
   ]
  },
  {
   "cell_type": "markdown",
   "id": "6d8829f2",
   "metadata": {},
   "source": [
    "### Шаг 2.5. Формирование дополнительных датафреймов словарей, декомпозиция исходного датафрейма."
   ]
  },
  {
   "cell_type": "markdown",
   "id": "8465706c",
   "metadata": {},
   "source": [
    "На данном этапе мы имеем два столбца education_id и education, первый из которых отображает уникальное значение столбца  education. \n",
    "Создадим отдельный словарь, где названию категории будет соответствовать номер. И в будущих таблицах будем обращаться уже не к длинной строке, а к её числовому обозначению."
   ]
  },
  {
   "cell_type": "code",
   "execution_count": null,
   "id": "cdbdec71",
   "metadata": {},
   "outputs": [
    {
     "data": {
      "text/html": [
       "<div>\n",
       "<style scoped>\n",
       "    .dataframe tbody tr th:only-of-type {\n",
       "        vertical-align: middle;\n",
       "    }\n",
       "\n",
       "    .dataframe tbody tr th {\n",
       "        vertical-align: top;\n",
       "    }\n",
       "\n",
       "    .dataframe thead th {\n",
       "        text-align: right;\n",
       "    }\n",
       "</style>\n",
       "<table border=\"1\" class=\"dataframe\">\n",
       "  <thead>\n",
       "    <tr style=\"text-align: right;\">\n",
       "      <th></th>\n",
       "      <th>children</th>\n",
       "      <th>days_employed</th>\n",
       "      <th>dob_years</th>\n",
       "      <th>education_id</th>\n",
       "      <th>family_status_id</th>\n",
       "      <th>gender</th>\n",
       "      <th>income_type</th>\n",
       "      <th>debt</th>\n",
       "      <th>total_income</th>\n",
       "      <th>purpose</th>\n",
       "    </tr>\n",
       "  </thead>\n",
       "  <tbody>\n",
       "    <tr>\n",
       "      <th>0</th>\n",
       "      <td>1</td>\n",
       "      <td>8437.673028</td>\n",
       "      <td>42</td>\n",
       "      <td>0</td>\n",
       "      <td>0</td>\n",
       "      <td>F</td>\n",
       "      <td>сотрудник</td>\n",
       "      <td>0</td>\n",
       "      <td>253875</td>\n",
       "      <td>покупка жилья</td>\n",
       "    </tr>\n",
       "    <tr>\n",
       "      <th>1</th>\n",
       "      <td>1</td>\n",
       "      <td>4024.803754</td>\n",
       "      <td>36</td>\n",
       "      <td>1</td>\n",
       "      <td>0</td>\n",
       "      <td>F</td>\n",
       "      <td>сотрудник</td>\n",
       "      <td>0</td>\n",
       "      <td>112080</td>\n",
       "      <td>приобретение автомобиля</td>\n",
       "    </tr>\n",
       "    <tr>\n",
       "      <th>2</th>\n",
       "      <td>0</td>\n",
       "      <td>5623.422610</td>\n",
       "      <td>33</td>\n",
       "      <td>1</td>\n",
       "      <td>0</td>\n",
       "      <td>M</td>\n",
       "      <td>сотрудник</td>\n",
       "      <td>0</td>\n",
       "      <td>145885</td>\n",
       "      <td>покупка жилья</td>\n",
       "    </tr>\n",
       "    <tr>\n",
       "      <th>3</th>\n",
       "      <td>3</td>\n",
       "      <td>4124.747207</td>\n",
       "      <td>32</td>\n",
       "      <td>1</td>\n",
       "      <td>0</td>\n",
       "      <td>M</td>\n",
       "      <td>сотрудник</td>\n",
       "      <td>0</td>\n",
       "      <td>267628</td>\n",
       "      <td>дополнительное образование</td>\n",
       "    </tr>\n",
       "    <tr>\n",
       "      <th>4</th>\n",
       "      <td>0</td>\n",
       "      <td>340266.072047</td>\n",
       "      <td>53</td>\n",
       "      <td>1</td>\n",
       "      <td>1</td>\n",
       "      <td>F</td>\n",
       "      <td>пенсионер</td>\n",
       "      <td>0</td>\n",
       "      <td>158616</td>\n",
       "      <td>сыграть свадьбу</td>\n",
       "    </tr>\n",
       "    <tr>\n",
       "      <th>5</th>\n",
       "      <td>0</td>\n",
       "      <td>926.185831</td>\n",
       "      <td>27</td>\n",
       "      <td>0</td>\n",
       "      <td>1</td>\n",
       "      <td>M</td>\n",
       "      <td>компаньон</td>\n",
       "      <td>0</td>\n",
       "      <td>255763</td>\n",
       "      <td>покупка жилья</td>\n",
       "    </tr>\n",
       "    <tr>\n",
       "      <th>6</th>\n",
       "      <td>0</td>\n",
       "      <td>2879.202052</td>\n",
       "      <td>43</td>\n",
       "      <td>0</td>\n",
       "      <td>0</td>\n",
       "      <td>F</td>\n",
       "      <td>компаньон</td>\n",
       "      <td>0</td>\n",
       "      <td>240525</td>\n",
       "      <td>операции с жильем</td>\n",
       "    </tr>\n",
       "    <tr>\n",
       "      <th>7</th>\n",
       "      <td>0</td>\n",
       "      <td>152.779569</td>\n",
       "      <td>50</td>\n",
       "      <td>1</td>\n",
       "      <td>0</td>\n",
       "      <td>M</td>\n",
       "      <td>сотрудник</td>\n",
       "      <td>0</td>\n",
       "      <td>135823</td>\n",
       "      <td>образование</td>\n",
       "    </tr>\n",
       "    <tr>\n",
       "      <th>8</th>\n",
       "      <td>2</td>\n",
       "      <td>6929.865299</td>\n",
       "      <td>35</td>\n",
       "      <td>0</td>\n",
       "      <td>1</td>\n",
       "      <td>F</td>\n",
       "      <td>сотрудник</td>\n",
       "      <td>0</td>\n",
       "      <td>95856</td>\n",
       "      <td>на проведение свадьбы</td>\n",
       "    </tr>\n",
       "    <tr>\n",
       "      <th>9</th>\n",
       "      <td>0</td>\n",
       "      <td>2188.756445</td>\n",
       "      <td>41</td>\n",
       "      <td>1</td>\n",
       "      <td>0</td>\n",
       "      <td>M</td>\n",
       "      <td>сотрудник</td>\n",
       "      <td>0</td>\n",
       "      <td>144425</td>\n",
       "      <td>покупка жилья для семьи</td>\n",
       "    </tr>\n",
       "  </tbody>\n",
       "</table>\n",
       "</div>"
      ],
      "text/plain": [
       "   children  days_employed  dob_years  education_id  family_status_id gender  \\\n",
       "0         1    8437.673028         42             0                 0      F   \n",
       "1         1    4024.803754         36             1                 0      F   \n",
       "2         0    5623.422610         33             1                 0      M   \n",
       "3         3    4124.747207         32             1                 0      M   \n",
       "4         0  340266.072047         53             1                 1      F   \n",
       "5         0     926.185831         27             0                 1      M   \n",
       "6         0    2879.202052         43             0                 0      F   \n",
       "7         0     152.779569         50             1                 0      M   \n",
       "8         2    6929.865299         35             0                 1      F   \n",
       "9         0    2188.756445         41             1                 0      M   \n",
       "\n",
       "  income_type  debt  total_income                     purpose  \n",
       "0   сотрудник     0        253875               покупка жилья  \n",
       "1   сотрудник     0        112080     приобретение автомобиля  \n",
       "2   сотрудник     0        145885               покупка жилья  \n",
       "3   сотрудник     0        267628  дополнительное образование  \n",
       "4   пенсионер     0        158616             сыграть свадьбу  \n",
       "5   компаньон     0        255763               покупка жилья  \n",
       "6   компаньон     0        240525           операции с жильем  \n",
       "7   сотрудник     0        135823                 образование  \n",
       "8   сотрудник     0         95856       на проведение свадьбы  \n",
       "9   сотрудник     0        144425     покупка жилья для семьи  "
      ]
     },
     "execution_count": 22,
     "metadata": {},
     "output_type": "execute_result"
    }
   ],
   "source": [
    "data_log = data[['children', 'days_employed', 'dob_years', 'education_id', 'family_status_id', 'gender', 'income_type', 'debt', 'total_income', 'purpose']]\n",
    "data_log.head(10) #создаем и выводим первые 10 строк нашего нового датафрема\n"
   ]
  },
  {
   "cell_type": "code",
   "execution_count": null,
   "id": "7f593496",
   "metadata": {},
   "outputs": [
    {
     "data": {
      "text/html": [
       "<div>\n",
       "<style scoped>\n",
       "    .dataframe tbody tr th:only-of-type {\n",
       "        vertical-align: middle;\n",
       "    }\n",
       "\n",
       "    .dataframe tbody tr th {\n",
       "        vertical-align: top;\n",
       "    }\n",
       "\n",
       "    .dataframe thead th {\n",
       "        text-align: right;\n",
       "    }\n",
       "</style>\n",
       "<table border=\"1\" class=\"dataframe\">\n",
       "  <thead>\n",
       "    <tr style=\"text-align: right;\">\n",
       "      <th></th>\n",
       "      <th>education_id</th>\n",
       "      <th>education</th>\n",
       "    </tr>\n",
       "  </thead>\n",
       "  <tbody>\n",
       "    <tr>\n",
       "      <th>0</th>\n",
       "      <td>0</td>\n",
       "      <td>высшее</td>\n",
       "    </tr>\n",
       "    <tr>\n",
       "      <th>1</th>\n",
       "      <td>1</td>\n",
       "      <td>среднее</td>\n",
       "    </tr>\n",
       "    <tr>\n",
       "      <th>2</th>\n",
       "      <td>1</td>\n",
       "      <td>среднее</td>\n",
       "    </tr>\n",
       "    <tr>\n",
       "      <th>3</th>\n",
       "      <td>1</td>\n",
       "      <td>среднее</td>\n",
       "    </tr>\n",
       "    <tr>\n",
       "      <th>4</th>\n",
       "      <td>1</td>\n",
       "      <td>среднее</td>\n",
       "    </tr>\n",
       "    <tr>\n",
       "      <th>5</th>\n",
       "      <td>0</td>\n",
       "      <td>высшее</td>\n",
       "    </tr>\n",
       "    <tr>\n",
       "      <th>6</th>\n",
       "      <td>0</td>\n",
       "      <td>высшее</td>\n",
       "    </tr>\n",
       "    <tr>\n",
       "      <th>7</th>\n",
       "      <td>1</td>\n",
       "      <td>среднее</td>\n",
       "    </tr>\n",
       "    <tr>\n",
       "      <th>8</th>\n",
       "      <td>0</td>\n",
       "      <td>высшее</td>\n",
       "    </tr>\n",
       "    <tr>\n",
       "      <th>9</th>\n",
       "      <td>1</td>\n",
       "      <td>среднее</td>\n",
       "    </tr>\n",
       "  </tbody>\n",
       "</table>\n",
       "</div>"
      ],
      "text/plain": [
       "   education_id education\n",
       "0             0    высшее\n",
       "1             1   среднее\n",
       "2             1   среднее\n",
       "3             1   среднее\n",
       "4             1   среднее\n",
       "5             0    высшее\n",
       "6             0    высшее\n",
       "7             1   среднее\n",
       "8             0    высшее\n",
       "9             1   среднее"
      ]
     },
     "execution_count": 23,
     "metadata": {},
     "output_type": "execute_result"
    }
   ],
   "source": [
    "data_education_id = data[['education_id', 'education']] #создаем дополнительный датафрейм-словарь для education\n",
    "data_education_id.head(10)"
   ]
  },
  {
   "cell_type": "code",
   "execution_count": null,
   "id": "68f8d327",
   "metadata": {},
   "outputs": [
    {
     "data": {
      "text/html": [
       "<div>\n",
       "<style scoped>\n",
       "    .dataframe tbody tr th:only-of-type {\n",
       "        vertical-align: middle;\n",
       "    }\n",
       "\n",
       "    .dataframe tbody tr th {\n",
       "        vertical-align: top;\n",
       "    }\n",
       "\n",
       "    .dataframe thead th {\n",
       "        text-align: right;\n",
       "    }\n",
       "</style>\n",
       "<table border=\"1\" class=\"dataframe\">\n",
       "  <thead>\n",
       "    <tr style=\"text-align: right;\">\n",
       "      <th></th>\n",
       "      <th>education_id</th>\n",
       "      <th>education</th>\n",
       "    </tr>\n",
       "  </thead>\n",
       "  <tbody>\n",
       "    <tr>\n",
       "      <th>0</th>\n",
       "      <td>0</td>\n",
       "      <td>высшее</td>\n",
       "    </tr>\n",
       "    <tr>\n",
       "      <th>1</th>\n",
       "      <td>1</td>\n",
       "      <td>среднее</td>\n",
       "    </tr>\n",
       "    <tr>\n",
       "      <th>2</th>\n",
       "      <td>2</td>\n",
       "      <td>неоконченное высшее</td>\n",
       "    </tr>\n",
       "    <tr>\n",
       "      <th>3</th>\n",
       "      <td>3</td>\n",
       "      <td>начальное</td>\n",
       "    </tr>\n",
       "    <tr>\n",
       "      <th>4</th>\n",
       "      <td>4</td>\n",
       "      <td>ученая степень</td>\n",
       "    </tr>\n",
       "  </tbody>\n",
       "</table>\n",
       "</div>"
      ],
      "text/plain": [
       "   education_id            education\n",
       "0             0               высшее\n",
       "1             1              среднее\n",
       "2             2  неоконченное высшее\n",
       "3             3            начальное\n",
       "4             4       ученая степень"
      ]
     },
     "execution_count": 24,
     "metadata": {},
     "output_type": "execute_result"
    }
   ],
   "source": [
    "data_education_id = data_education_id.drop_duplicates().reset_index(drop=True) #удаляем дубликаты в data_education_id\n",
    "data_education_id.sort_values('education_id')"
   ]
  },
  {
   "cell_type": "markdown",
   "id": "1d6e56f6",
   "metadata": {},
   "source": [
    "Проделаем тоже самое со столбцами family_status_id и family_status"
   ]
  },
  {
   "cell_type": "code",
   "execution_count": null,
   "id": "ff0d0cfc",
   "metadata": {},
   "outputs": [
    {
     "data": {
      "text/html": [
       "<div>\n",
       "<style scoped>\n",
       "    .dataframe tbody tr th:only-of-type {\n",
       "        vertical-align: middle;\n",
       "    }\n",
       "\n",
       "    .dataframe tbody tr th {\n",
       "        vertical-align: top;\n",
       "    }\n",
       "\n",
       "    .dataframe thead th {\n",
       "        text-align: right;\n",
       "    }\n",
       "</style>\n",
       "<table border=\"1\" class=\"dataframe\">\n",
       "  <thead>\n",
       "    <tr style=\"text-align: right;\">\n",
       "      <th></th>\n",
       "      <th>family_status_id</th>\n",
       "      <th>family_status</th>\n",
       "    </tr>\n",
       "  </thead>\n",
       "  <tbody>\n",
       "    <tr>\n",
       "      <th>0</th>\n",
       "      <td>0</td>\n",
       "      <td>женат / замужем</td>\n",
       "    </tr>\n",
       "    <tr>\n",
       "      <th>1</th>\n",
       "      <td>0</td>\n",
       "      <td>женат / замужем</td>\n",
       "    </tr>\n",
       "    <tr>\n",
       "      <th>2</th>\n",
       "      <td>0</td>\n",
       "      <td>женат / замужем</td>\n",
       "    </tr>\n",
       "    <tr>\n",
       "      <th>3</th>\n",
       "      <td>0</td>\n",
       "      <td>женат / замужем</td>\n",
       "    </tr>\n",
       "    <tr>\n",
       "      <th>4</th>\n",
       "      <td>1</td>\n",
       "      <td>гражданский брак</td>\n",
       "    </tr>\n",
       "    <tr>\n",
       "      <th>5</th>\n",
       "      <td>1</td>\n",
       "      <td>гражданский брак</td>\n",
       "    </tr>\n",
       "    <tr>\n",
       "      <th>6</th>\n",
       "      <td>0</td>\n",
       "      <td>женат / замужем</td>\n",
       "    </tr>\n",
       "    <tr>\n",
       "      <th>7</th>\n",
       "      <td>0</td>\n",
       "      <td>женат / замужем</td>\n",
       "    </tr>\n",
       "    <tr>\n",
       "      <th>8</th>\n",
       "      <td>1</td>\n",
       "      <td>гражданский брак</td>\n",
       "    </tr>\n",
       "    <tr>\n",
       "      <th>9</th>\n",
       "      <td>0</td>\n",
       "      <td>женат / замужем</td>\n",
       "    </tr>\n",
       "  </tbody>\n",
       "</table>\n",
       "</div>"
      ],
      "text/plain": [
       "   family_status_id     family_status\n",
       "0                 0   женат / замужем\n",
       "1                 0   женат / замужем\n",
       "2                 0   женат / замужем\n",
       "3                 0   женат / замужем\n",
       "4                 1  гражданский брак\n",
       "5                 1  гражданский брак\n",
       "6                 0   женат / замужем\n",
       "7                 0   женат / замужем\n",
       "8                 1  гражданский брак\n",
       "9                 0   женат / замужем"
      ]
     },
     "execution_count": 25,
     "metadata": {},
     "output_type": "execute_result"
    }
   ],
   "source": [
    "data_family_status = data[['family_status_id', 'family_status']] #создаем дополнительный датафрейм-словарь для family_status\n",
    "data_family_status.head(10)"
   ]
  },
  {
   "cell_type": "code",
   "execution_count": null,
   "id": "d5ca09ad",
   "metadata": {},
   "outputs": [
    {
     "data": {
      "text/html": [
       "<div>\n",
       "<style scoped>\n",
       "    .dataframe tbody tr th:only-of-type {\n",
       "        vertical-align: middle;\n",
       "    }\n",
       "\n",
       "    .dataframe tbody tr th {\n",
       "        vertical-align: top;\n",
       "    }\n",
       "\n",
       "    .dataframe thead th {\n",
       "        text-align: right;\n",
       "    }\n",
       "</style>\n",
       "<table border=\"1\" class=\"dataframe\">\n",
       "  <thead>\n",
       "    <tr style=\"text-align: right;\">\n",
       "      <th></th>\n",
       "      <th>family_status_id</th>\n",
       "      <th>family_status</th>\n",
       "    </tr>\n",
       "  </thead>\n",
       "  <tbody>\n",
       "    <tr>\n",
       "      <th>0</th>\n",
       "      <td>0</td>\n",
       "      <td>женат / замужем</td>\n",
       "    </tr>\n",
       "    <tr>\n",
       "      <th>1</th>\n",
       "      <td>1</td>\n",
       "      <td>гражданский брак</td>\n",
       "    </tr>\n",
       "    <tr>\n",
       "      <th>2</th>\n",
       "      <td>2</td>\n",
       "      <td>вдовец / вдова</td>\n",
       "    </tr>\n",
       "    <tr>\n",
       "      <th>3</th>\n",
       "      <td>3</td>\n",
       "      <td>в разводе</td>\n",
       "    </tr>\n",
       "    <tr>\n",
       "      <th>4</th>\n",
       "      <td>4</td>\n",
       "      <td>Не женат / не замужем</td>\n",
       "    </tr>\n",
       "  </tbody>\n",
       "</table>\n",
       "</div>"
      ],
      "text/plain": [
       "   family_status_id          family_status\n",
       "0                 0        женат / замужем\n",
       "1                 1       гражданский брак\n",
       "2                 2         вдовец / вдова\n",
       "3                 3              в разводе\n",
       "4                 4  Не женат / не замужем"
      ]
     },
     "execution_count": 26,
     "metadata": {},
     "output_type": "execute_result"
    }
   ],
   "source": [
    "data_family_status = data_family_status.drop_duplicates().reset_index(drop=True) #удаляем дубликаты в data_family_status\n",
    "data_family_status.sort_values('family_status_id')"
   ]
  },
  {
   "cell_type": "markdown",
   "id": "fcb2385f",
   "metadata": {},
   "source": [
    "Готово, теперь с нашими данными будет удобнее работать. "
   ]
  },
  {
   "cell_type": "markdown",
   "id": "d8407245",
   "metadata": {},
   "source": [
    "### Шаг 2.6. Категоризация дохода."
   ]
  },
  {
   "cell_type": "markdown",
   "id": "8de63c5e",
   "metadata": {},
   "source": [
    "Для удобства анализа дохода клиентов создадим категоризацию и разделим по диапазонам:\n",
    "* 0–30000 — 'E';\n",
    "* 30001–50000 — 'D';\n",
    "* 50001–200000 — 'C';\n",
    "* 200001–1000000 — 'B';\n",
    "* 1000001 и выше — 'A'.\n",
    "\n",
    "И создадим отдельный столбец total_income_category."
   ]
  },
  {
   "cell_type": "code",
   "execution_count": null,
   "id": "72d30c2a",
   "metadata": {},
   "outputs": [],
   "source": [
    "def total_income_group(number): #делаем функцию, которая распределит доходы клиентов по категориям\n",
    "    if 0<number<= 30000:\n",
    "        return 'E'\n",
    "    if 30001<=number<=50000:\n",
    "        return 'D'\n",
    "    if 50001<=number<=200000:\n",
    "        return 'C'\n",
    "    if 200001<=number<=1000000:\n",
    "        return 'B'\n",
    "    if 1000001<=number<=2147483647:\n",
    "        return 'A'"
   ]
  },
  {
   "cell_type": "code",
   "execution_count": null,
   "id": "9ffa0b98",
   "metadata": {},
   "outputs": [
    {
     "data": {
      "text/html": [
       "<div>\n",
       "<style scoped>\n",
       "    .dataframe tbody tr th:only-of-type {\n",
       "        vertical-align: middle;\n",
       "    }\n",
       "\n",
       "    .dataframe tbody tr th {\n",
       "        vertical-align: top;\n",
       "    }\n",
       "\n",
       "    .dataframe thead th {\n",
       "        text-align: right;\n",
       "    }\n",
       "</style>\n",
       "<table border=\"1\" class=\"dataframe\">\n",
       "  <thead>\n",
       "    <tr style=\"text-align: right;\">\n",
       "      <th></th>\n",
       "      <th>children</th>\n",
       "      <th>days_employed</th>\n",
       "      <th>dob_years</th>\n",
       "      <th>education_id</th>\n",
       "      <th>family_status_id</th>\n",
       "      <th>gender</th>\n",
       "      <th>income_type</th>\n",
       "      <th>debt</th>\n",
       "      <th>total_income</th>\n",
       "      <th>purpose</th>\n",
       "      <th>total_income_category</th>\n",
       "    </tr>\n",
       "  </thead>\n",
       "  <tbody>\n",
       "    <tr>\n",
       "      <th>0</th>\n",
       "      <td>1</td>\n",
       "      <td>8437.673028</td>\n",
       "      <td>42</td>\n",
       "      <td>0</td>\n",
       "      <td>0</td>\n",
       "      <td>F</td>\n",
       "      <td>сотрудник</td>\n",
       "      <td>0</td>\n",
       "      <td>253875</td>\n",
       "      <td>покупка жилья</td>\n",
       "      <td>B</td>\n",
       "    </tr>\n",
       "    <tr>\n",
       "      <th>1</th>\n",
       "      <td>1</td>\n",
       "      <td>4024.803754</td>\n",
       "      <td>36</td>\n",
       "      <td>1</td>\n",
       "      <td>0</td>\n",
       "      <td>F</td>\n",
       "      <td>сотрудник</td>\n",
       "      <td>0</td>\n",
       "      <td>112080</td>\n",
       "      <td>приобретение автомобиля</td>\n",
       "      <td>C</td>\n",
       "    </tr>\n",
       "    <tr>\n",
       "      <th>2</th>\n",
       "      <td>0</td>\n",
       "      <td>5623.422610</td>\n",
       "      <td>33</td>\n",
       "      <td>1</td>\n",
       "      <td>0</td>\n",
       "      <td>M</td>\n",
       "      <td>сотрудник</td>\n",
       "      <td>0</td>\n",
       "      <td>145885</td>\n",
       "      <td>покупка жилья</td>\n",
       "      <td>C</td>\n",
       "    </tr>\n",
       "    <tr>\n",
       "      <th>3</th>\n",
       "      <td>3</td>\n",
       "      <td>4124.747207</td>\n",
       "      <td>32</td>\n",
       "      <td>1</td>\n",
       "      <td>0</td>\n",
       "      <td>M</td>\n",
       "      <td>сотрудник</td>\n",
       "      <td>0</td>\n",
       "      <td>267628</td>\n",
       "      <td>дополнительное образование</td>\n",
       "      <td>B</td>\n",
       "    </tr>\n",
       "    <tr>\n",
       "      <th>4</th>\n",
       "      <td>0</td>\n",
       "      <td>340266.072047</td>\n",
       "      <td>53</td>\n",
       "      <td>1</td>\n",
       "      <td>1</td>\n",
       "      <td>F</td>\n",
       "      <td>пенсионер</td>\n",
       "      <td>0</td>\n",
       "      <td>158616</td>\n",
       "      <td>сыграть свадьбу</td>\n",
       "      <td>C</td>\n",
       "    </tr>\n",
       "    <tr>\n",
       "      <th>5</th>\n",
       "      <td>0</td>\n",
       "      <td>926.185831</td>\n",
       "      <td>27</td>\n",
       "      <td>0</td>\n",
       "      <td>1</td>\n",
       "      <td>M</td>\n",
       "      <td>компаньон</td>\n",
       "      <td>0</td>\n",
       "      <td>255763</td>\n",
       "      <td>покупка жилья</td>\n",
       "      <td>B</td>\n",
       "    </tr>\n",
       "    <tr>\n",
       "      <th>6</th>\n",
       "      <td>0</td>\n",
       "      <td>2879.202052</td>\n",
       "      <td>43</td>\n",
       "      <td>0</td>\n",
       "      <td>0</td>\n",
       "      <td>F</td>\n",
       "      <td>компаньон</td>\n",
       "      <td>0</td>\n",
       "      <td>240525</td>\n",
       "      <td>операции с жильем</td>\n",
       "      <td>B</td>\n",
       "    </tr>\n",
       "    <tr>\n",
       "      <th>7</th>\n",
       "      <td>0</td>\n",
       "      <td>152.779569</td>\n",
       "      <td>50</td>\n",
       "      <td>1</td>\n",
       "      <td>0</td>\n",
       "      <td>M</td>\n",
       "      <td>сотрудник</td>\n",
       "      <td>0</td>\n",
       "      <td>135823</td>\n",
       "      <td>образование</td>\n",
       "      <td>C</td>\n",
       "    </tr>\n",
       "    <tr>\n",
       "      <th>8</th>\n",
       "      <td>2</td>\n",
       "      <td>6929.865299</td>\n",
       "      <td>35</td>\n",
       "      <td>0</td>\n",
       "      <td>1</td>\n",
       "      <td>F</td>\n",
       "      <td>сотрудник</td>\n",
       "      <td>0</td>\n",
       "      <td>95856</td>\n",
       "      <td>на проведение свадьбы</td>\n",
       "      <td>C</td>\n",
       "    </tr>\n",
       "    <tr>\n",
       "      <th>9</th>\n",
       "      <td>0</td>\n",
       "      <td>2188.756445</td>\n",
       "      <td>41</td>\n",
       "      <td>1</td>\n",
       "      <td>0</td>\n",
       "      <td>M</td>\n",
       "      <td>сотрудник</td>\n",
       "      <td>0</td>\n",
       "      <td>144425</td>\n",
       "      <td>покупка жилья для семьи</td>\n",
       "      <td>C</td>\n",
       "    </tr>\n",
       "    <tr>\n",
       "      <th>10</th>\n",
       "      <td>2</td>\n",
       "      <td>4171.483647</td>\n",
       "      <td>36</td>\n",
       "      <td>0</td>\n",
       "      <td>0</td>\n",
       "      <td>M</td>\n",
       "      <td>компаньон</td>\n",
       "      <td>0</td>\n",
       "      <td>113943</td>\n",
       "      <td>покупка недвижимости</td>\n",
       "      <td>C</td>\n",
       "    </tr>\n",
       "    <tr>\n",
       "      <th>11</th>\n",
       "      <td>0</td>\n",
       "      <td>792.701887</td>\n",
       "      <td>40</td>\n",
       "      <td>1</td>\n",
       "      <td>0</td>\n",
       "      <td>F</td>\n",
       "      <td>сотрудник</td>\n",
       "      <td>0</td>\n",
       "      <td>77069</td>\n",
       "      <td>покупка коммерческой недвижимости</td>\n",
       "      <td>C</td>\n",
       "    </tr>\n",
       "    <tr>\n",
       "      <th>12</th>\n",
       "      <td>0</td>\n",
       "      <td>2194.220567</td>\n",
       "      <td>65</td>\n",
       "      <td>1</td>\n",
       "      <td>1</td>\n",
       "      <td>M</td>\n",
       "      <td>пенсионер</td>\n",
       "      <td>0</td>\n",
       "      <td>145017</td>\n",
       "      <td>сыграть свадьбу</td>\n",
       "      <td>C</td>\n",
       "    </tr>\n",
       "    <tr>\n",
       "      <th>13</th>\n",
       "      <td>0</td>\n",
       "      <td>1846.641941</td>\n",
       "      <td>54</td>\n",
       "      <td>2</td>\n",
       "      <td>0</td>\n",
       "      <td>F</td>\n",
       "      <td>сотрудник</td>\n",
       "      <td>0</td>\n",
       "      <td>130458</td>\n",
       "      <td>приобретение автомобиля</td>\n",
       "      <td>C</td>\n",
       "    </tr>\n",
       "    <tr>\n",
       "      <th>14</th>\n",
       "      <td>0</td>\n",
       "      <td>1844.956182</td>\n",
       "      <td>56</td>\n",
       "      <td>0</td>\n",
       "      <td>1</td>\n",
       "      <td>F</td>\n",
       "      <td>компаньон</td>\n",
       "      <td>1</td>\n",
       "      <td>165127</td>\n",
       "      <td>покупка жилой недвижимости</td>\n",
       "      <td>C</td>\n",
       "    </tr>\n",
       "  </tbody>\n",
       "</table>\n",
       "</div>"
      ],
      "text/plain": [
       "    children  days_employed  dob_years  education_id  family_status_id gender  \\\n",
       "0          1    8437.673028         42             0                 0      F   \n",
       "1          1    4024.803754         36             1                 0      F   \n",
       "2          0    5623.422610         33             1                 0      M   \n",
       "3          3    4124.747207         32             1                 0      M   \n",
       "4          0  340266.072047         53             1                 1      F   \n",
       "5          0     926.185831         27             0                 1      M   \n",
       "6          0    2879.202052         43             0                 0      F   \n",
       "7          0     152.779569         50             1                 0      M   \n",
       "8          2    6929.865299         35             0                 1      F   \n",
       "9          0    2188.756445         41             1                 0      M   \n",
       "10         2    4171.483647         36             0                 0      M   \n",
       "11         0     792.701887         40             1                 0      F   \n",
       "12         0    2194.220567         65             1                 1      M   \n",
       "13         0    1846.641941         54             2                 0      F   \n",
       "14         0    1844.956182         56             0                 1      F   \n",
       "\n",
       "   income_type  debt  total_income                            purpose  \\\n",
       "0    сотрудник     0        253875                      покупка жилья   \n",
       "1    сотрудник     0        112080            приобретение автомобиля   \n",
       "2    сотрудник     0        145885                      покупка жилья   \n",
       "3    сотрудник     0        267628         дополнительное образование   \n",
       "4    пенсионер     0        158616                    сыграть свадьбу   \n",
       "5    компаньон     0        255763                      покупка жилья   \n",
       "6    компаньон     0        240525                  операции с жильем   \n",
       "7    сотрудник     0        135823                        образование   \n",
       "8    сотрудник     0         95856              на проведение свадьбы   \n",
       "9    сотрудник     0        144425            покупка жилья для семьи   \n",
       "10   компаньон     0        113943               покупка недвижимости   \n",
       "11   сотрудник     0         77069  покупка коммерческой недвижимости   \n",
       "12   пенсионер     0        145017                    сыграть свадьбу   \n",
       "13   сотрудник     0        130458            приобретение автомобиля   \n",
       "14   компаньон     1        165127         покупка жилой недвижимости   \n",
       "\n",
       "   total_income_category  \n",
       "0                      B  \n",
       "1                      C  \n",
       "2                      C  \n",
       "3                      B  \n",
       "4                      C  \n",
       "5                      B  \n",
       "6                      B  \n",
       "7                      C  \n",
       "8                      C  \n",
       "9                      C  \n",
       "10                     C  \n",
       "11                     C  \n",
       "12                     C  \n",
       "13                     C  \n",
       "14                     C  "
      ]
     },
     "execution_count": 28,
     "metadata": {},
     "output_type": "execute_result"
    }
   ],
   "source": [
    "data_log['total_income_category'] = data_log['total_income'].apply(total_income_group) #добаляем новый столбец с результатами работы функции\n",
    "data_log.head(15)\n"
   ]
  },
  {
   "cell_type": "markdown",
   "id": "9a10d555",
   "metadata": {},
   "source": [
    "### Шаг 2.7. Категоризация целей кредита."
   ]
  },
  {
   "cell_type": "markdown",
   "id": "4f90a215",
   "metadata": {},
   "source": [
    "Создадим функцию, которая на основании данных из столбца purpose сформирует новый столбец purpose_category, в который войдут следующие категории: 'операции с автомобилем', 'операции с недвижимостью', 'проведение свадьбы', 'получение образования'."
   ]
  },
  {
   "cell_type": "code",
   "execution_count": null,
   "id": "6e2043d2",
   "metadata": {},
   "outputs": [
    {
     "data": {
      "text/plain": [
       "свадьба                                   793\n",
       "на проведение свадьбы                     773\n",
       "сыграть свадьбу                           769\n",
       "операции с недвижимостью                  675\n",
       "покупка коммерческой недвижимости         662\n",
       "покупка жилья для сдачи                   652\n",
       "операции с жильем                         652\n",
       "операции с коммерческой недвижимостью     650\n",
       "покупка жилья                             646\n",
       "жилье                                     646\n",
       "покупка жилья для семьи                   638\n",
       "строительство собственной недвижимости    635\n",
       "недвижимость                              633\n",
       "операции со своей недвижимостью           627\n",
       "строительство жилой недвижимости          625\n",
       "покупка недвижимости                      621\n",
       "покупка своего жилья                      620\n",
       "строительство недвижимости                619\n",
       "ремонт жилью                              607\n",
       "покупка жилой недвижимости                606\n",
       "на покупку своего автомобиля              505\n",
       "заняться высшим образованием              496\n",
       "автомобиль                                494\n",
       "сделка с подержанным автомобилем          486\n",
       "свой автомобиль                           479\n",
       "на покупку подержанного автомобиля        478\n",
       "автомобили                                478\n",
       "на покупку автомобиля                     472\n",
       "приобретение автомобиля                   461\n",
       "дополнительное образование                460\n",
       "сделка с автомобилем                      455\n",
       "высшее образование                        452\n",
       "получение дополнительного образования     447\n",
       "образование                               447\n",
       "получение образования                     442\n",
       "профильное образование                    436\n",
       "получение высшего образования             426\n",
       "заняться образованием                     408\n",
       "Name: purpose, dtype: int64"
      ]
     },
     "execution_count": 29,
     "metadata": {},
     "output_type": "execute_result"
    }
   ],
   "source": [
    "data['purpose'].value_counts() #Проверяем уникальные значения в столбце purpose"
   ]
  },
  {
   "cell_type": "markdown",
   "id": "5c5a61e1",
   "metadata": {},
   "source": [
    "Полученные цели распределим на четыре основные категории с помощью функции. "
   ]
  },
  {
   "cell_type": "code",
   "execution_count": null,
   "id": "0998972f",
   "metadata": {},
   "outputs": [],
   "source": [
    "def purpose_group(name): #делаем функцию, которая распределит цели клиентов по категориям\n",
    "    if 'автомоб' in name:\n",
    "        return 'операции с автомобилем'\n",
    "    if 'недвиж' in name:\n",
    "        return 'операции с недвижимостью'\n",
    "    if 'жил' in name:\n",
    "        return 'операции с недвижимостью'\n",
    "    if 'свадьб' in name:\n",
    "        return 'проведение свадьбы'\n",
    "    if 'образов' in name:\n",
    "        return 'получение образования'\n",
    "   "
   ]
  },
  {
   "cell_type": "code",
   "execution_count": null,
   "id": "4492d9d3",
   "metadata": {},
   "outputs": [
    {
     "data": {
      "text/html": [
       "<div>\n",
       "<style scoped>\n",
       "    .dataframe tbody tr th:only-of-type {\n",
       "        vertical-align: middle;\n",
       "    }\n",
       "\n",
       "    .dataframe tbody tr th {\n",
       "        vertical-align: top;\n",
       "    }\n",
       "\n",
       "    .dataframe thead th {\n",
       "        text-align: right;\n",
       "    }\n",
       "</style>\n",
       "<table border=\"1\" class=\"dataframe\">\n",
       "  <thead>\n",
       "    <tr style=\"text-align: right;\">\n",
       "      <th></th>\n",
       "      <th>children</th>\n",
       "      <th>days_employed</th>\n",
       "      <th>dob_years</th>\n",
       "      <th>education_id</th>\n",
       "      <th>family_status_id</th>\n",
       "      <th>gender</th>\n",
       "      <th>income_type</th>\n",
       "      <th>debt</th>\n",
       "      <th>total_income</th>\n",
       "      <th>purpose</th>\n",
       "      <th>total_income_category</th>\n",
       "      <th>purpose_category</th>\n",
       "    </tr>\n",
       "  </thead>\n",
       "  <tbody>\n",
       "    <tr>\n",
       "      <th>0</th>\n",
       "      <td>1</td>\n",
       "      <td>8437.673028</td>\n",
       "      <td>42</td>\n",
       "      <td>0</td>\n",
       "      <td>0</td>\n",
       "      <td>F</td>\n",
       "      <td>сотрудник</td>\n",
       "      <td>0</td>\n",
       "      <td>253875</td>\n",
       "      <td>покупка жилья</td>\n",
       "      <td>B</td>\n",
       "      <td>операции с недвижимостью</td>\n",
       "    </tr>\n",
       "    <tr>\n",
       "      <th>1</th>\n",
       "      <td>1</td>\n",
       "      <td>4024.803754</td>\n",
       "      <td>36</td>\n",
       "      <td>1</td>\n",
       "      <td>0</td>\n",
       "      <td>F</td>\n",
       "      <td>сотрудник</td>\n",
       "      <td>0</td>\n",
       "      <td>112080</td>\n",
       "      <td>приобретение автомобиля</td>\n",
       "      <td>C</td>\n",
       "      <td>операции с автомобилем</td>\n",
       "    </tr>\n",
       "    <tr>\n",
       "      <th>2</th>\n",
       "      <td>0</td>\n",
       "      <td>5623.422610</td>\n",
       "      <td>33</td>\n",
       "      <td>1</td>\n",
       "      <td>0</td>\n",
       "      <td>M</td>\n",
       "      <td>сотрудник</td>\n",
       "      <td>0</td>\n",
       "      <td>145885</td>\n",
       "      <td>покупка жилья</td>\n",
       "      <td>C</td>\n",
       "      <td>операции с недвижимостью</td>\n",
       "    </tr>\n",
       "    <tr>\n",
       "      <th>3</th>\n",
       "      <td>3</td>\n",
       "      <td>4124.747207</td>\n",
       "      <td>32</td>\n",
       "      <td>1</td>\n",
       "      <td>0</td>\n",
       "      <td>M</td>\n",
       "      <td>сотрудник</td>\n",
       "      <td>0</td>\n",
       "      <td>267628</td>\n",
       "      <td>дополнительное образование</td>\n",
       "      <td>B</td>\n",
       "      <td>получение образования</td>\n",
       "    </tr>\n",
       "    <tr>\n",
       "      <th>4</th>\n",
       "      <td>0</td>\n",
       "      <td>340266.072047</td>\n",
       "      <td>53</td>\n",
       "      <td>1</td>\n",
       "      <td>1</td>\n",
       "      <td>F</td>\n",
       "      <td>пенсионер</td>\n",
       "      <td>0</td>\n",
       "      <td>158616</td>\n",
       "      <td>сыграть свадьбу</td>\n",
       "      <td>C</td>\n",
       "      <td>проведение свадьбы</td>\n",
       "    </tr>\n",
       "    <tr>\n",
       "      <th>5</th>\n",
       "      <td>0</td>\n",
       "      <td>926.185831</td>\n",
       "      <td>27</td>\n",
       "      <td>0</td>\n",
       "      <td>1</td>\n",
       "      <td>M</td>\n",
       "      <td>компаньон</td>\n",
       "      <td>0</td>\n",
       "      <td>255763</td>\n",
       "      <td>покупка жилья</td>\n",
       "      <td>B</td>\n",
       "      <td>операции с недвижимостью</td>\n",
       "    </tr>\n",
       "    <tr>\n",
       "      <th>6</th>\n",
       "      <td>0</td>\n",
       "      <td>2879.202052</td>\n",
       "      <td>43</td>\n",
       "      <td>0</td>\n",
       "      <td>0</td>\n",
       "      <td>F</td>\n",
       "      <td>компаньон</td>\n",
       "      <td>0</td>\n",
       "      <td>240525</td>\n",
       "      <td>операции с жильем</td>\n",
       "      <td>B</td>\n",
       "      <td>операции с недвижимостью</td>\n",
       "    </tr>\n",
       "    <tr>\n",
       "      <th>7</th>\n",
       "      <td>0</td>\n",
       "      <td>152.779569</td>\n",
       "      <td>50</td>\n",
       "      <td>1</td>\n",
       "      <td>0</td>\n",
       "      <td>M</td>\n",
       "      <td>сотрудник</td>\n",
       "      <td>0</td>\n",
       "      <td>135823</td>\n",
       "      <td>образование</td>\n",
       "      <td>C</td>\n",
       "      <td>получение образования</td>\n",
       "    </tr>\n",
       "    <tr>\n",
       "      <th>8</th>\n",
       "      <td>2</td>\n",
       "      <td>6929.865299</td>\n",
       "      <td>35</td>\n",
       "      <td>0</td>\n",
       "      <td>1</td>\n",
       "      <td>F</td>\n",
       "      <td>сотрудник</td>\n",
       "      <td>0</td>\n",
       "      <td>95856</td>\n",
       "      <td>на проведение свадьбы</td>\n",
       "      <td>C</td>\n",
       "      <td>проведение свадьбы</td>\n",
       "    </tr>\n",
       "    <tr>\n",
       "      <th>9</th>\n",
       "      <td>0</td>\n",
       "      <td>2188.756445</td>\n",
       "      <td>41</td>\n",
       "      <td>1</td>\n",
       "      <td>0</td>\n",
       "      <td>M</td>\n",
       "      <td>сотрудник</td>\n",
       "      <td>0</td>\n",
       "      <td>144425</td>\n",
       "      <td>покупка жилья для семьи</td>\n",
       "      <td>C</td>\n",
       "      <td>операции с недвижимостью</td>\n",
       "    </tr>\n",
       "    <tr>\n",
       "      <th>10</th>\n",
       "      <td>2</td>\n",
       "      <td>4171.483647</td>\n",
       "      <td>36</td>\n",
       "      <td>0</td>\n",
       "      <td>0</td>\n",
       "      <td>M</td>\n",
       "      <td>компаньон</td>\n",
       "      <td>0</td>\n",
       "      <td>113943</td>\n",
       "      <td>покупка недвижимости</td>\n",
       "      <td>C</td>\n",
       "      <td>операции с недвижимостью</td>\n",
       "    </tr>\n",
       "    <tr>\n",
       "      <th>11</th>\n",
       "      <td>0</td>\n",
       "      <td>792.701887</td>\n",
       "      <td>40</td>\n",
       "      <td>1</td>\n",
       "      <td>0</td>\n",
       "      <td>F</td>\n",
       "      <td>сотрудник</td>\n",
       "      <td>0</td>\n",
       "      <td>77069</td>\n",
       "      <td>покупка коммерческой недвижимости</td>\n",
       "      <td>C</td>\n",
       "      <td>операции с недвижимостью</td>\n",
       "    </tr>\n",
       "    <tr>\n",
       "      <th>12</th>\n",
       "      <td>0</td>\n",
       "      <td>2194.220567</td>\n",
       "      <td>65</td>\n",
       "      <td>1</td>\n",
       "      <td>1</td>\n",
       "      <td>M</td>\n",
       "      <td>пенсионер</td>\n",
       "      <td>0</td>\n",
       "      <td>145017</td>\n",
       "      <td>сыграть свадьбу</td>\n",
       "      <td>C</td>\n",
       "      <td>проведение свадьбы</td>\n",
       "    </tr>\n",
       "    <tr>\n",
       "      <th>13</th>\n",
       "      <td>0</td>\n",
       "      <td>1846.641941</td>\n",
       "      <td>54</td>\n",
       "      <td>2</td>\n",
       "      <td>0</td>\n",
       "      <td>F</td>\n",
       "      <td>сотрудник</td>\n",
       "      <td>0</td>\n",
       "      <td>130458</td>\n",
       "      <td>приобретение автомобиля</td>\n",
       "      <td>C</td>\n",
       "      <td>операции с автомобилем</td>\n",
       "    </tr>\n",
       "    <tr>\n",
       "      <th>14</th>\n",
       "      <td>0</td>\n",
       "      <td>1844.956182</td>\n",
       "      <td>56</td>\n",
       "      <td>0</td>\n",
       "      <td>1</td>\n",
       "      <td>F</td>\n",
       "      <td>компаньон</td>\n",
       "      <td>1</td>\n",
       "      <td>165127</td>\n",
       "      <td>покупка жилой недвижимости</td>\n",
       "      <td>C</td>\n",
       "      <td>операции с недвижимостью</td>\n",
       "    </tr>\n",
       "  </tbody>\n",
       "</table>\n",
       "</div>"
      ],
      "text/plain": [
       "    children  days_employed  dob_years  education_id  family_status_id gender  \\\n",
       "0          1    8437.673028         42             0                 0      F   \n",
       "1          1    4024.803754         36             1                 0      F   \n",
       "2          0    5623.422610         33             1                 0      M   \n",
       "3          3    4124.747207         32             1                 0      M   \n",
       "4          0  340266.072047         53             1                 1      F   \n",
       "5          0     926.185831         27             0                 1      M   \n",
       "6          0    2879.202052         43             0                 0      F   \n",
       "7          0     152.779569         50             1                 0      M   \n",
       "8          2    6929.865299         35             0                 1      F   \n",
       "9          0    2188.756445         41             1                 0      M   \n",
       "10         2    4171.483647         36             0                 0      M   \n",
       "11         0     792.701887         40             1                 0      F   \n",
       "12         0    2194.220567         65             1                 1      M   \n",
       "13         0    1846.641941         54             2                 0      F   \n",
       "14         0    1844.956182         56             0                 1      F   \n",
       "\n",
       "   income_type  debt  total_income                            purpose  \\\n",
       "0    сотрудник     0        253875                      покупка жилья   \n",
       "1    сотрудник     0        112080            приобретение автомобиля   \n",
       "2    сотрудник     0        145885                      покупка жилья   \n",
       "3    сотрудник     0        267628         дополнительное образование   \n",
       "4    пенсионер     0        158616                    сыграть свадьбу   \n",
       "5    компаньон     0        255763                      покупка жилья   \n",
       "6    компаньон     0        240525                  операции с жильем   \n",
       "7    сотрудник     0        135823                        образование   \n",
       "8    сотрудник     0         95856              на проведение свадьбы   \n",
       "9    сотрудник     0        144425            покупка жилья для семьи   \n",
       "10   компаньон     0        113943               покупка недвижимости   \n",
       "11   сотрудник     0         77069  покупка коммерческой недвижимости   \n",
       "12   пенсионер     0        145017                    сыграть свадьбу   \n",
       "13   сотрудник     0        130458            приобретение автомобиля   \n",
       "14   компаньон     1        165127         покупка жилой недвижимости   \n",
       "\n",
       "   total_income_category          purpose_category  \n",
       "0                      B  операции с недвижимостью  \n",
       "1                      C    операции с автомобилем  \n",
       "2                      C  операции с недвижимостью  \n",
       "3                      B     получение образования  \n",
       "4                      C        проведение свадьбы  \n",
       "5                      B  операции с недвижимостью  \n",
       "6                      B  операции с недвижимостью  \n",
       "7                      C     получение образования  \n",
       "8                      C        проведение свадьбы  \n",
       "9                      C  операции с недвижимостью  \n",
       "10                     C  операции с недвижимостью  \n",
       "11                     C  операции с недвижимостью  \n",
       "12                     C        проведение свадьбы  \n",
       "13                     C    операции с автомобилем  \n",
       "14                     C  операции с недвижимостью  "
      ]
     },
     "execution_count": 31,
     "metadata": {},
     "output_type": "execute_result"
    }
   ],
   "source": [
    "data_log['purpose_category'] = data_log['purpose'].apply(purpose_group) #добаляем новый столбец с результатами работы функции\n",
    "data_log.head(15)"
   ]
  },
  {
   "cell_type": "markdown",
   "id": "3cb0f9ac",
   "metadata": {},
   "source": [
    "Получили итоговую таблицу для анализа."
   ]
  },
  {
   "cell_type": "markdown",
   "id": "a5d9dbbf",
   "metadata": {},
   "source": [
    "### Ответы на вопросы."
   ]
  },
  {
   "cell_type": "markdown",
   "id": "7203848c",
   "metadata": {},
   "source": [
    "##### Вопрос 1: Есть ли зависимость между количеством детей и возвратом кредита в срок?"
   ]
  },
  {
   "cell_type": "markdown",
   "id": "625c1313",
   "metadata": {},
   "source": [
    "Для анализа будем использовать метод pivot_table."
   ]
  },
  {
   "cell_type": "code",
   "execution_count": null,
   "id": "da22ac2b",
   "metadata": {},
   "outputs": [
    {
     "data": {
      "text/html": [
       "<div>\n",
       "<style scoped>\n",
       "    .dataframe tbody tr th:only-of-type {\n",
       "        vertical-align: middle;\n",
       "    }\n",
       "\n",
       "    .dataframe tbody tr th {\n",
       "        vertical-align: top;\n",
       "    }\n",
       "\n",
       "    .dataframe thead th {\n",
       "        text-align: right;\n",
       "    }\n",
       "</style>\n",
       "<table border=\"1\" class=\"dataframe\">\n",
       "  <thead>\n",
       "    <tr style=\"text-align: right;\">\n",
       "      <th></th>\n",
       "      <th>debt</th>\n",
       "    </tr>\n",
       "    <tr>\n",
       "      <th>children</th>\n",
       "      <th></th>\n",
       "    </tr>\n",
       "  </thead>\n",
       "  <tbody>\n",
       "    <tr>\n",
       "      <th>0</th>\n",
       "      <td>0.075513</td>\n",
       "    </tr>\n",
       "    <tr>\n",
       "      <th>1</th>\n",
       "      <td>0.091639</td>\n",
       "    </tr>\n",
       "    <tr>\n",
       "      <th>2</th>\n",
       "      <td>0.094542</td>\n",
       "    </tr>\n",
       "    <tr>\n",
       "      <th>3</th>\n",
       "      <td>0.081818</td>\n",
       "    </tr>\n",
       "    <tr>\n",
       "      <th>4</th>\n",
       "      <td>0.097561</td>\n",
       "    </tr>\n",
       "    <tr>\n",
       "      <th>5</th>\n",
       "      <td>0.000000</td>\n",
       "    </tr>\n",
       "  </tbody>\n",
       "</table>\n",
       "</div>"
      ],
      "text/plain": [
       "              debt\n",
       "children          \n",
       "0         0.075513\n",
       "1         0.091639\n",
       "2         0.094542\n",
       "3         0.081818\n",
       "4         0.097561\n",
       "5         0.000000"
      ]
     },
     "execution_count": 32,
     "metadata": {},
     "output_type": "execute_result"
    }
   ],
   "source": [
    "data_pivot_children = data_log.pivot_table(index = 'children', values= 'debt')\n",
    "data_pivot_children\n"
   ]
  },
  {
   "cell_type": "markdown",
   "id": "be3ee79c",
   "metadata": {},
   "source": [
    "###### Вывод 1\n",
    "Исходя из полученной информации мы видим, что клиенты с четырьмя детьми реже платят в срок, а у клиентов вообще без детей проблем с погашением кредита меньше.\n",
    "Также можем обратить внимание, что информация по клиентам с пятью детьми выводится некорректно, поэтому мы не можем опираться на полученную информацию. Для более глубокого анализа нужно больше данных по клиентам с пятью детьми. \n"
   ]
  },
  {
   "cell_type": "markdown",
   "id": "a961044f",
   "metadata": {},
   "source": [
    "##### Вопрос 2: Есть ли зависимость между семейным положением и возвратом кредита в срок?"
   ]
  },
  {
   "cell_type": "markdown",
   "id": "40cb336a",
   "metadata": {},
   "source": [
    "Для анализа будем использовать метод pivot_table."
   ]
  },
  {
   "cell_type": "code",
   "execution_count": null,
   "id": "afa1d442",
   "metadata": {},
   "outputs": [
    {
     "data": {
      "text/html": [
       "<div>\n",
       "<style scoped>\n",
       "    .dataframe tbody tr th:only-of-type {\n",
       "        vertical-align: middle;\n",
       "    }\n",
       "\n",
       "    .dataframe tbody tr th {\n",
       "        vertical-align: top;\n",
       "    }\n",
       "\n",
       "    .dataframe thead th {\n",
       "        text-align: right;\n",
       "    }\n",
       "</style>\n",
       "<table border=\"1\" class=\"dataframe\">\n",
       "  <thead>\n",
       "    <tr style=\"text-align: right;\">\n",
       "      <th></th>\n",
       "      <th>debt</th>\n",
       "    </tr>\n",
       "    <tr>\n",
       "      <th>family_status_id</th>\n",
       "      <th></th>\n",
       "    </tr>\n",
       "  </thead>\n",
       "  <tbody>\n",
       "    <tr>\n",
       "      <th>0</th>\n",
       "      <td>0.075421</td>\n",
       "    </tr>\n",
       "    <tr>\n",
       "      <th>1</th>\n",
       "      <td>0.093202</td>\n",
       "    </tr>\n",
       "    <tr>\n",
       "      <th>2</th>\n",
       "      <td>0.065693</td>\n",
       "    </tr>\n",
       "    <tr>\n",
       "      <th>3</th>\n",
       "      <td>0.071130</td>\n",
       "    </tr>\n",
       "    <tr>\n",
       "      <th>4</th>\n",
       "      <td>0.097509</td>\n",
       "    </tr>\n",
       "  </tbody>\n",
       "</table>\n",
       "</div>"
      ],
      "text/plain": [
       "                      debt\n",
       "family_status_id          \n",
       "0                 0.075421\n",
       "1                 0.093202\n",
       "2                 0.065693\n",
       "3                 0.071130\n",
       "4                 0.097509"
      ]
     },
     "execution_count": 33,
     "metadata": {},
     "output_type": "execute_result"
    }
   ],
   "source": [
    "data_pivot = data_log.pivot_table(index = 'family_status_id', values= 'debt')\n",
    "data_pivot"
   ]
  },
  {
   "cell_type": "markdown",
   "id": "c1330520",
   "metadata": {},
   "source": [
    "###### Вывод 2\n",
    "Смотря на таблицу мы видим, что вдовцы и разведенные выплачивают кредиты лучше, чем те кто никогда не бывал в браке и клиенты в гражданском браке."
   ]
  },
  {
   "cell_type": "markdown",
   "id": "dabc8ea0",
   "metadata": {},
   "source": [
    "##### Вопрос 3: Есть ли зависимость между уровнем дохода и возвратом кредита в срок?"
   ]
  },
  {
   "cell_type": "markdown",
   "id": "0c2ab212",
   "metadata": {},
   "source": [
    "Для анализа будем использовать метод pivot_table."
   ]
  },
  {
   "cell_type": "code",
   "execution_count": null,
   "id": "89d33964",
   "metadata": {},
   "outputs": [
    {
     "data": {
      "text/html": [
       "<div>\n",
       "<style scoped>\n",
       "    .dataframe tbody tr th:only-of-type {\n",
       "        vertical-align: middle;\n",
       "    }\n",
       "\n",
       "    .dataframe tbody tr th {\n",
       "        vertical-align: top;\n",
       "    }\n",
       "\n",
       "    .dataframe thead th {\n",
       "        text-align: right;\n",
       "    }\n",
       "</style>\n",
       "<table border=\"1\" class=\"dataframe\">\n",
       "  <thead>\n",
       "    <tr style=\"text-align: right;\">\n",
       "      <th></th>\n",
       "      <th>debt</th>\n",
       "    </tr>\n",
       "    <tr>\n",
       "      <th>total_income_category</th>\n",
       "      <th></th>\n",
       "    </tr>\n",
       "  </thead>\n",
       "  <tbody>\n",
       "    <tr>\n",
       "      <th>A</th>\n",
       "      <td>0.080000</td>\n",
       "    </tr>\n",
       "    <tr>\n",
       "      <th>B</th>\n",
       "      <td>0.070621</td>\n",
       "    </tr>\n",
       "    <tr>\n",
       "      <th>C</th>\n",
       "      <td>0.084825</td>\n",
       "    </tr>\n",
       "    <tr>\n",
       "      <th>D</th>\n",
       "      <td>0.060000</td>\n",
       "    </tr>\n",
       "    <tr>\n",
       "      <th>E</th>\n",
       "      <td>0.090909</td>\n",
       "    </tr>\n",
       "  </tbody>\n",
       "</table>\n",
       "</div>"
      ],
      "text/plain": [
       "                           debt\n",
       "total_income_category          \n",
       "A                      0.080000\n",
       "B                      0.070621\n",
       "C                      0.084825\n",
       "D                      0.060000\n",
       "E                      0.090909"
      ]
     },
     "execution_count": 34,
     "metadata": {},
     "output_type": "execute_result"
    }
   ],
   "source": [
    "data_pivot_income = data_log.pivot_table(index = 'total_income_category', values= 'debt')\n",
    "data_pivot_income"
   ]
  },
  {
   "cell_type": "markdown",
   "id": "f7df72d2",
   "metadata": {},
   "source": [
    "###### Вывод 3\n",
    "По данным можем сказать, что клиенты с уровнем дохода до 30 000 имеют больше проблем с возвратом кредита (Е), а клиенты с доходом от 30 001 и до 50 000 (D) погашают задолженность значительно лучше. "
   ]
  },
  {
   "cell_type": "markdown",
   "id": "c0bb1d9d",
   "metadata": {},
   "source": [
    "##### Вопрос 4: Как разные цели кредита влияют на его возврат в срок?"
   ]
  },
  {
   "cell_type": "markdown",
   "id": "d5bf3c70",
   "metadata": {},
   "source": [
    "Для анализа будем использовать метод pivot_table."
   ]
  },
  {
   "cell_type": "code",
   "execution_count": null,
   "id": "c44422ab",
   "metadata": {},
   "outputs": [
    {
     "data": {
      "text/html": [
       "<div>\n",
       "<style scoped>\n",
       "    .dataframe tbody tr th:only-of-type {\n",
       "        vertical-align: middle;\n",
       "    }\n",
       "\n",
       "    .dataframe tbody tr th {\n",
       "        vertical-align: top;\n",
       "    }\n",
       "\n",
       "    .dataframe thead th {\n",
       "        text-align: right;\n",
       "    }\n",
       "</style>\n",
       "<table border=\"1\" class=\"dataframe\">\n",
       "  <thead>\n",
       "    <tr style=\"text-align: right;\">\n",
       "      <th></th>\n",
       "      <th>debt</th>\n",
       "    </tr>\n",
       "    <tr>\n",
       "      <th>purpose_category</th>\n",
       "      <th></th>\n",
       "    </tr>\n",
       "  </thead>\n",
       "  <tbody>\n",
       "    <tr>\n",
       "      <th>операции с автомобилем</th>\n",
       "      <td>0.093547</td>\n",
       "    </tr>\n",
       "    <tr>\n",
       "      <th>операции с недвижимостью</th>\n",
       "      <td>0.072314</td>\n",
       "    </tr>\n",
       "    <tr>\n",
       "      <th>получение образования</th>\n",
       "      <td>0.092177</td>\n",
       "    </tr>\n",
       "    <tr>\n",
       "      <th>проведение свадьбы</th>\n",
       "      <td>0.079657</td>\n",
       "    </tr>\n",
       "  </tbody>\n",
       "</table>\n",
       "</div>"
      ],
      "text/plain": [
       "                              debt\n",
       "purpose_category                  \n",
       "операции с автомобилем    0.093547\n",
       "операции с недвижимостью  0.072314\n",
       "получение образования     0.092177\n",
       "проведение свадьбы        0.079657"
      ]
     },
     "execution_count": 35,
     "metadata": {},
     "output_type": "execute_result"
    }
   ],
   "source": [
    "data_pivot_purpose = data_log.pivot_table(index = 'purpose_category', values= 'debt')\n",
    "data_pivot_purpose"
   ]
  },
  {
   "cell_type": "markdown",
   "id": "dc6225f1",
   "metadata": {},
   "source": [
    "###### Вывод 4\n",
    "Глядя на категории, мы видим, что те клиенты, которые берут кредит для операций с автомобилем и получения образования, испытывают больше трудностей с погашением задолженности, чем те, кто берут кредит для операций с недвижимостью и проведения свадебных церемоний."
   ]
  },
  {
   "cell_type": "markdown",
   "id": "047180d4",
   "metadata": {},
   "source": [
    "## Общий вывод:"
   ]
  },
  {
   "cell_type": "markdown",
   "id": "433ea524",
   "metadata": {},
   "source": [
    "В ходе данного иследования мы выяснили, что семейное положение и количество детей влияет на факт погошения кредита в срок, так как клиенты овдовевшие и не имеющие детей лучше справляются с погашением задолженостей. Также мы увидели, что клиенты с доходом от 30 до 50 тысяч и те, кто берет кредит на операции по недвижимости, хорошо справляются с погашением задолженности."
   ]
  }
 ],
 "metadata": {
  "ExecuteTimeLog": [
   {
    "duration": 450,
    "start_time": "2022-03-30T10:09:22.894Z"
   },
   {
    "duration": 66,
    "start_time": "2022-03-30T10:10:55.054Z"
   },
   {
    "duration": 6,
    "start_time": "2022-03-30T10:11:28.776Z"
   },
   {
    "duration": 67,
    "start_time": "2022-03-30T10:36:03.373Z"
   },
   {
    "duration": 14,
    "start_time": "2022-03-30T10:41:28.130Z"
   },
   {
    "duration": 490,
    "start_time": "2022-03-30T12:27:30.953Z"
   },
   {
    "duration": 15,
    "start_time": "2022-03-30T12:28:00.928Z"
   },
   {
    "duration": 7,
    "start_time": "2022-03-30T12:53:23.796Z"
   },
   {
    "duration": 73,
    "start_time": "2022-03-30T12:54:30.854Z"
   },
   {
    "duration": 89,
    "start_time": "2022-03-30T12:54:41.691Z"
   },
   {
    "duration": 10,
    "start_time": "2022-03-30T13:05:46.463Z"
   },
   {
    "duration": 4,
    "start_time": "2022-03-30T13:09:55.887Z"
   },
   {
    "duration": 4,
    "start_time": "2022-03-30T13:09:59.429Z"
   },
   {
    "duration": 5,
    "start_time": "2022-03-30T13:10:14.193Z"
   },
   {
    "duration": 4,
    "start_time": "2022-03-30T13:30:27.382Z"
   },
   {
    "duration": 4,
    "start_time": "2022-03-30T13:30:41.264Z"
   },
   {
    "duration": 94,
    "start_time": "2022-03-30T14:09:22.877Z"
   },
   {
    "duration": 578,
    "start_time": "2022-03-30T14:09:30.394Z"
   },
   {
    "duration": 10,
    "start_time": "2022-03-30T14:11:57.758Z"
   },
   {
    "duration": 26,
    "start_time": "2022-03-30T14:12:09.877Z"
   },
   {
    "duration": 6,
    "start_time": "2022-03-30T14:12:45.290Z"
   },
   {
    "duration": 13,
    "start_time": "2022-03-30T14:12:47.069Z"
   },
   {
    "duration": 5,
    "start_time": "2022-03-30T14:16:05.823Z"
   },
   {
    "duration": 13,
    "start_time": "2022-03-30T14:18:33.835Z"
   },
   {
    "duration": 15,
    "start_time": "2022-03-30T14:20:03.034Z"
   },
   {
    "duration": 422,
    "start_time": "2022-03-31T03:30:10.993Z"
   },
   {
    "duration": 426,
    "start_time": "2022-03-31T04:09:21.279Z"
   },
   {
    "duration": 16,
    "start_time": "2022-03-31T04:09:21.708Z"
   },
   {
    "duration": 11,
    "start_time": "2022-03-31T04:09:21.726Z"
   },
   {
    "duration": 102,
    "start_time": "2022-03-31T04:09:21.740Z"
   },
   {
    "duration": 1,
    "start_time": "2022-03-31T04:09:21.843Z"
   },
   {
    "duration": 0,
    "start_time": "2022-03-31T04:09:21.845Z"
   },
   {
    "duration": 0,
    "start_time": "2022-03-31T04:09:21.847Z"
   },
   {
    "duration": 0,
    "start_time": "2022-03-31T04:09:21.848Z"
   },
   {
    "duration": 106,
    "start_time": "2022-03-31T04:11:01.690Z"
   },
   {
    "duration": 13,
    "start_time": "2022-03-31T04:11:14.769Z"
   },
   {
    "duration": 13,
    "start_time": "2022-03-31T04:11:56.544Z"
   },
   {
    "duration": 112,
    "start_time": "2022-03-31T04:13:19.794Z"
   },
   {
    "duration": 5,
    "start_time": "2022-03-31T04:22:13.922Z"
   },
   {
    "duration": 4,
    "start_time": "2022-03-31T04:22:15.594Z"
   },
   {
    "duration": 4,
    "start_time": "2022-03-31T04:22:19.329Z"
   },
   {
    "duration": 62,
    "start_time": "2022-03-31T04:22:33.770Z"
   },
   {
    "duration": 6,
    "start_time": "2022-03-31T04:22:39.970Z"
   },
   {
    "duration": 10,
    "start_time": "2022-03-31T04:23:12.986Z"
   },
   {
    "duration": 120,
    "start_time": "2022-03-31T04:23:33.242Z"
   },
   {
    "duration": 12,
    "start_time": "2022-03-31T04:23:47.065Z"
   },
   {
    "duration": 13,
    "start_time": "2022-03-31T04:29:13.218Z"
   },
   {
    "duration": 112,
    "start_time": "2022-03-31T04:35:54.509Z"
   },
   {
    "duration": 113,
    "start_time": "2022-03-31T04:36:05.788Z"
   },
   {
    "duration": 106,
    "start_time": "2022-03-31T04:36:33.596Z"
   },
   {
    "duration": 5,
    "start_time": "2022-03-31T04:36:42.196Z"
   },
   {
    "duration": 6,
    "start_time": "2022-03-31T04:36:53.380Z"
   },
   {
    "duration": 5,
    "start_time": "2022-03-31T04:37:20.067Z"
   },
   {
    "duration": 14,
    "start_time": "2022-03-31T04:39:58.268Z"
   },
   {
    "duration": 14,
    "start_time": "2022-03-31T04:41:56.686Z"
   },
   {
    "duration": 11,
    "start_time": "2022-03-31T04:42:07.286Z"
   },
   {
    "duration": 20,
    "start_time": "2022-03-31T04:43:03.821Z"
   },
   {
    "duration": 8,
    "start_time": "2022-03-31T04:45:42.590Z"
   },
   {
    "duration": 20,
    "start_time": "2022-03-31T04:45:54.415Z"
   },
   {
    "duration": 10,
    "start_time": "2022-03-31T04:46:07.730Z"
   },
   {
    "duration": 10,
    "start_time": "2022-03-31T04:46:21.141Z"
   },
   {
    "duration": 21,
    "start_time": "2022-03-31T04:46:27.053Z"
   },
   {
    "duration": 21,
    "start_time": "2022-03-31T04:46:48.670Z"
   },
   {
    "duration": 9,
    "start_time": "2022-03-31T04:47:08.847Z"
   },
   {
    "duration": 10,
    "start_time": "2022-03-31T04:47:14.998Z"
   },
   {
    "duration": 20,
    "start_time": "2022-03-31T04:47:20.654Z"
   },
   {
    "duration": 11,
    "start_time": "2022-03-31T04:47:25.445Z"
   },
   {
    "duration": 21,
    "start_time": "2022-03-31T04:47:30.652Z"
   },
   {
    "duration": 13,
    "start_time": "2022-03-31T04:48:25.742Z"
   },
   {
    "duration": 13,
    "start_time": "2022-03-31T04:50:03.278Z"
   },
   {
    "duration": 10,
    "start_time": "2022-03-31T04:55:32.782Z"
   },
   {
    "duration": 9,
    "start_time": "2022-03-31T04:55:42.222Z"
   },
   {
    "duration": 23,
    "start_time": "2022-03-31T04:55:52.446Z"
   },
   {
    "duration": 11,
    "start_time": "2022-03-31T04:56:02.573Z"
   },
   {
    "duration": 22,
    "start_time": "2022-03-31T04:56:16.110Z"
   },
   {
    "duration": 10,
    "start_time": "2022-03-31T04:56:29.326Z"
   },
   {
    "duration": 26,
    "start_time": "2022-03-31T04:57:03.725Z"
   },
   {
    "duration": 116,
    "start_time": "2022-03-31T05:17:11.818Z"
   },
   {
    "duration": 6,
    "start_time": "2022-03-31T05:17:20.432Z"
   },
   {
    "duration": 11,
    "start_time": "2022-03-31T05:18:15.753Z"
   },
   {
    "duration": 6,
    "start_time": "2022-03-31T05:18:30.752Z"
   },
   {
    "duration": 6,
    "start_time": "2022-03-31T05:18:39.896Z"
   },
   {
    "duration": 5,
    "start_time": "2022-03-31T05:21:39.048Z"
   },
   {
    "duration": 452,
    "start_time": "2022-03-31T05:22:11.756Z"
   },
   {
    "duration": 14,
    "start_time": "2022-03-31T05:22:12.210Z"
   },
   {
    "duration": 16,
    "start_time": "2022-03-31T05:22:12.226Z"
   },
   {
    "duration": 14,
    "start_time": "2022-03-31T05:22:12.244Z"
   },
   {
    "duration": 4,
    "start_time": "2022-03-31T05:22:12.260Z"
   },
   {
    "duration": 13,
    "start_time": "2022-03-31T05:22:12.266Z"
   },
   {
    "duration": 13,
    "start_time": "2022-03-31T05:22:12.281Z"
   },
   {
    "duration": 47,
    "start_time": "2022-03-31T05:22:12.295Z"
   },
   {
    "duration": 5,
    "start_time": "2022-03-31T05:22:12.344Z"
   },
   {
    "duration": 8,
    "start_time": "2022-03-31T05:22:12.351Z"
   },
   {
    "duration": 12,
    "start_time": "2022-03-31T05:22:12.361Z"
   },
   {
    "duration": 4,
    "start_time": "2022-03-31T05:22:58.174Z"
   },
   {
    "duration": 6,
    "start_time": "2022-03-31T05:23:07.117Z"
   },
   {
    "duration": 4,
    "start_time": "2022-03-31T05:23:11.220Z"
   },
   {
    "duration": 10,
    "start_time": "2022-03-31T05:23:14.133Z"
   },
   {
    "duration": 4,
    "start_time": "2022-03-31T05:23:42.301Z"
   },
   {
    "duration": 5,
    "start_time": "2022-03-31T05:23:47.556Z"
   },
   {
    "duration": 12,
    "start_time": "2022-03-31T05:23:55.478Z"
   },
   {
    "duration": 4,
    "start_time": "2022-03-31T05:26:27.101Z"
   },
   {
    "duration": 3,
    "start_time": "2022-03-31T05:26:29.037Z"
   },
   {
    "duration": 5,
    "start_time": "2022-03-31T05:26:47.605Z"
   },
   {
    "duration": 6,
    "start_time": "2022-03-31T06:12:44.350Z"
   },
   {
    "duration": 67,
    "start_time": "2022-04-01T04:31:14.651Z"
   },
   {
    "duration": 582,
    "start_time": "2022-04-01T04:31:25.580Z"
   },
   {
    "duration": 22,
    "start_time": "2022-04-01T04:31:26.164Z"
   },
   {
    "duration": 19,
    "start_time": "2022-04-01T04:31:26.189Z"
   },
   {
    "duration": 56,
    "start_time": "2022-04-01T04:31:26.212Z"
   },
   {
    "duration": 6,
    "start_time": "2022-04-01T04:31:26.270Z"
   },
   {
    "duration": 15,
    "start_time": "2022-04-01T04:31:26.279Z"
   },
   {
    "duration": 19,
    "start_time": "2022-04-01T04:31:26.296Z"
   },
   {
    "duration": 81,
    "start_time": "2022-04-01T04:31:26.317Z"
   },
   {
    "duration": 5,
    "start_time": "2022-04-01T04:31:26.400Z"
   },
   {
    "duration": 24,
    "start_time": "2022-04-01T04:31:26.408Z"
   },
   {
    "duration": 37,
    "start_time": "2022-04-01T04:31:26.434Z"
   },
   {
    "duration": 5,
    "start_time": "2022-04-01T04:31:26.474Z"
   },
   {
    "duration": 29,
    "start_time": "2022-04-01T04:31:26.481Z"
   },
   {
    "duration": 19,
    "start_time": "2022-04-01T04:35:40.677Z"
   },
   {
    "duration": 37,
    "start_time": "2022-04-01T04:35:48.477Z"
   },
   {
    "duration": 46,
    "start_time": "2022-04-01T04:36:14.134Z"
   },
   {
    "duration": 46,
    "start_time": "2022-04-01T04:36:21.334Z"
   },
   {
    "duration": 15,
    "start_time": "2022-04-01T04:44:09.223Z"
   },
   {
    "duration": 40,
    "start_time": "2022-04-01T04:44:24.335Z"
   },
   {
    "duration": 30,
    "start_time": "2022-04-01T04:44:51.617Z"
   },
   {
    "duration": 9,
    "start_time": "2022-04-01T05:01:57.969Z"
   },
   {
    "duration": 601,
    "start_time": "2022-04-01T05:05:48.936Z"
   },
   {
    "duration": 33,
    "start_time": "2022-04-01T05:05:49.540Z"
   },
   {
    "duration": 19,
    "start_time": "2022-04-01T05:05:49.575Z"
   },
   {
    "duration": 16,
    "start_time": "2022-04-01T05:05:49.597Z"
   },
   {
    "duration": 56,
    "start_time": "2022-04-01T05:05:49.616Z"
   },
   {
    "duration": 15,
    "start_time": "2022-04-01T05:05:49.674Z"
   },
   {
    "duration": 19,
    "start_time": "2022-04-01T05:05:49.692Z"
   },
   {
    "duration": 85,
    "start_time": "2022-04-01T05:05:49.714Z"
   },
   {
    "duration": 5,
    "start_time": "2022-04-01T05:05:49.801Z"
   },
   {
    "duration": 9,
    "start_time": "2022-04-01T05:05:49.808Z"
   },
   {
    "duration": 53,
    "start_time": "2022-04-01T05:05:49.820Z"
   },
   {
    "duration": 4,
    "start_time": "2022-04-01T05:05:49.876Z"
   },
   {
    "duration": 9,
    "start_time": "2022-04-01T05:05:49.882Z"
   },
   {
    "duration": 81,
    "start_time": "2022-04-01T05:05:49.894Z"
   },
   {
    "duration": 93,
    "start_time": "2022-04-01T05:05:49.977Z"
   },
   {
    "duration": 31,
    "start_time": "2022-04-01T05:05:50.072Z"
   },
   {
    "duration": 596,
    "start_time": "2022-04-01T05:06:30.318Z"
   },
   {
    "duration": 21,
    "start_time": "2022-04-01T05:06:30.917Z"
   },
   {
    "duration": 42,
    "start_time": "2022-04-01T05:06:30.940Z"
   },
   {
    "duration": 15,
    "start_time": "2022-04-01T05:06:30.985Z"
   },
   {
    "duration": 24,
    "start_time": "2022-04-01T05:06:31.002Z"
   },
   {
    "duration": 39,
    "start_time": "2022-04-01T05:06:31.028Z"
   },
   {
    "duration": 44,
    "start_time": "2022-04-01T05:06:31.069Z"
   },
   {
    "duration": 45,
    "start_time": "2022-04-01T05:06:31.115Z"
   },
   {
    "duration": 5,
    "start_time": "2022-04-01T05:06:31.162Z"
   },
   {
    "duration": 24,
    "start_time": "2022-04-01T05:06:31.170Z"
   },
   {
    "duration": 35,
    "start_time": "2022-04-01T05:06:31.197Z"
   },
   {
    "duration": 9,
    "start_time": "2022-04-01T05:06:31.235Z"
   },
   {
    "duration": 34,
    "start_time": "2022-04-01T05:06:31.247Z"
   },
   {
    "duration": 8,
    "start_time": "2022-04-01T05:06:31.283Z"
   },
   {
    "duration": 78,
    "start_time": "2022-04-01T05:06:31.293Z"
   },
   {
    "duration": 28,
    "start_time": "2022-04-01T05:06:31.374Z"
   },
   {
    "duration": 9,
    "start_time": "2022-04-01T05:09:28.167Z"
   },
   {
    "duration": 592,
    "start_time": "2022-04-01T05:09:48.852Z"
   },
   {
    "duration": 31,
    "start_time": "2022-04-01T05:09:49.446Z"
   },
   {
    "duration": 20,
    "start_time": "2022-04-01T05:09:49.479Z"
   },
   {
    "duration": 16,
    "start_time": "2022-04-01T05:09:49.502Z"
   },
   {
    "duration": 49,
    "start_time": "2022-04-01T05:09:49.519Z"
   },
   {
    "duration": 15,
    "start_time": "2022-04-01T05:09:49.570Z"
   },
   {
    "duration": 19,
    "start_time": "2022-04-01T05:09:49.587Z"
   },
   {
    "duration": 78,
    "start_time": "2022-04-01T05:09:49.608Z"
   },
   {
    "duration": 5,
    "start_time": "2022-04-01T05:09:49.689Z"
   },
   {
    "duration": 6,
    "start_time": "2022-04-01T05:09:49.697Z"
   },
   {
    "duration": 15,
    "start_time": "2022-04-01T05:09:49.706Z"
   },
   {
    "duration": 6,
    "start_time": "2022-04-01T05:09:49.767Z"
   },
   {
    "duration": 33,
    "start_time": "2022-04-01T05:09:49.775Z"
   },
   {
    "duration": 73,
    "start_time": "2022-04-01T05:09:49.810Z"
   },
   {
    "duration": 9,
    "start_time": "2022-04-01T05:09:49.885Z"
   },
   {
    "duration": 30,
    "start_time": "2022-04-01T05:09:49.896Z"
   },
   {
    "duration": 24,
    "start_time": "2022-04-01T05:11:52.213Z"
   },
   {
    "duration": 9,
    "start_time": "2022-04-01T05:15:01.621Z"
   },
   {
    "duration": 8,
    "start_time": "2022-04-01T05:15:09.835Z"
   },
   {
    "duration": 10,
    "start_time": "2022-04-01T05:15:25.611Z"
   },
   {
    "duration": 10,
    "start_time": "2022-04-01T05:15:34.412Z"
   },
   {
    "duration": 106,
    "start_time": "2022-04-01T05:18:43.355Z"
   },
   {
    "duration": 13,
    "start_time": "2022-04-01T05:18:47.475Z"
   },
   {
    "duration": 9,
    "start_time": "2022-04-01T05:18:56.148Z"
   },
   {
    "duration": 9,
    "start_time": "2022-04-01T05:19:11.172Z"
   },
   {
    "duration": 9,
    "start_time": "2022-04-01T05:20:46.549Z"
   },
   {
    "duration": 10,
    "start_time": "2022-04-01T05:21:38.189Z"
   },
   {
    "duration": 9,
    "start_time": "2022-04-01T05:24:30.381Z"
   },
   {
    "duration": 1836,
    "start_time": "2022-04-01T05:30:30.806Z"
   },
   {
    "duration": 10,
    "start_time": "2022-04-01T05:32:18.269Z"
   },
   {
    "duration": 10,
    "start_time": "2022-04-01T05:32:20.364Z"
   },
   {
    "duration": 17,
    "start_time": "2022-04-01T05:32:29.437Z"
   },
   {
    "duration": 13,
    "start_time": "2022-04-01T05:32:41.255Z"
   },
   {
    "duration": 19,
    "start_time": "2022-04-01T08:43:49.186Z"
   },
   {
    "duration": 19,
    "start_time": "2022-04-01T09:00:46.132Z"
   },
   {
    "duration": 13,
    "start_time": "2022-04-01T09:03:19.388Z"
   },
   {
    "duration": 12,
    "start_time": "2022-04-01T09:08:13.821Z"
   },
   {
    "duration": 9,
    "start_time": "2022-04-01T09:38:45.856Z"
   },
   {
    "duration": 585,
    "start_time": "2022-04-01T09:38:57.662Z"
   },
   {
    "duration": 34,
    "start_time": "2022-04-01T09:38:58.250Z"
   },
   {
    "duration": 24,
    "start_time": "2022-04-01T09:38:58.287Z"
   },
   {
    "duration": 63,
    "start_time": "2022-04-01T09:38:58.315Z"
   },
   {
    "duration": 7,
    "start_time": "2022-04-01T09:38:58.381Z"
   },
   {
    "duration": 22,
    "start_time": "2022-04-01T09:38:58.391Z"
   },
   {
    "duration": 62,
    "start_time": "2022-04-01T09:38:58.416Z"
   },
   {
    "duration": 38,
    "start_time": "2022-04-01T09:38:58.481Z"
   },
   {
    "duration": 46,
    "start_time": "2022-04-01T09:38:58.521Z"
   },
   {
    "duration": 6,
    "start_time": "2022-04-01T09:38:58.571Z"
   },
   {
    "duration": 16,
    "start_time": "2022-04-01T09:38:58.579Z"
   },
   {
    "duration": 5,
    "start_time": "2022-04-01T09:38:58.597Z"
   },
   {
    "duration": 73,
    "start_time": "2022-04-01T09:38:58.604Z"
   },
   {
    "duration": 49,
    "start_time": "2022-04-01T09:38:58.679Z"
   },
   {
    "duration": 8,
    "start_time": "2022-04-01T09:38:58.731Z"
   },
   {
    "duration": 24,
    "start_time": "2022-04-01T09:38:58.768Z"
   },
   {
    "duration": 19,
    "start_time": "2022-04-01T09:38:58.795Z"
   },
   {
    "duration": 128,
    "start_time": "2022-04-01T09:38:58.816Z"
   },
   {
    "duration": 0,
    "start_time": "2022-04-01T09:38:58.947Z"
   },
   {
    "duration": 0,
    "start_time": "2022-04-01T09:38:58.948Z"
   },
   {
    "duration": 11,
    "start_time": "2022-04-01T09:39:47.767Z"
   },
   {
    "duration": 16,
    "start_time": "2022-04-01T09:39:59.366Z"
   },
   {
    "duration": 12,
    "start_time": "2022-04-01T09:40:14.559Z"
   },
   {
    "duration": 16,
    "start_time": "2022-04-01T09:41:09.111Z"
   },
   {
    "duration": 262,
    "start_time": "2022-04-01T13:59:26.429Z"
   },
   {
    "duration": 54,
    "start_time": "2022-04-01T14:01:51.301Z"
   },
   {
    "duration": 6,
    "start_time": "2022-04-01T14:02:10.049Z"
   },
   {
    "duration": 543,
    "start_time": "2022-04-01T14:02:17.097Z"
   },
   {
    "duration": 16,
    "start_time": "2022-04-01T14:02:17.642Z"
   },
   {
    "duration": 14,
    "start_time": "2022-04-01T14:02:17.660Z"
   },
   {
    "duration": 20,
    "start_time": "2022-04-01T14:02:17.701Z"
   },
   {
    "duration": 6,
    "start_time": "2022-04-01T14:02:17.723Z"
   },
   {
    "duration": 16,
    "start_time": "2022-04-01T14:02:17.731Z"
   },
   {
    "duration": 57,
    "start_time": "2022-04-01T14:02:17.749Z"
   },
   {
    "duration": 4,
    "start_time": "2022-04-01T14:02:17.809Z"
   },
   {
    "duration": 9,
    "start_time": "2022-04-01T14:02:17.816Z"
   },
   {
    "duration": 14,
    "start_time": "2022-04-01T14:02:17.829Z"
   },
   {
    "duration": 4,
    "start_time": "2022-04-01T14:02:17.845Z"
   },
   {
    "duration": 69,
    "start_time": "2022-04-01T14:02:17.850Z"
   },
   {
    "duration": 35,
    "start_time": "2022-04-01T14:02:17.921Z"
   },
   {
    "duration": 6,
    "start_time": "2022-04-01T14:02:17.958Z"
   },
   {
    "duration": 58,
    "start_time": "2022-04-01T14:02:17.966Z"
   },
   {
    "duration": 19,
    "start_time": "2022-04-01T14:02:18.026Z"
   },
   {
    "duration": 15,
    "start_time": "2022-04-01T14:02:18.047Z"
   },
   {
    "duration": 13,
    "start_time": "2022-04-01T14:02:18.063Z"
   },
   {
    "duration": 48,
    "start_time": "2022-04-01T14:02:18.078Z"
   },
   {
    "duration": 12,
    "start_time": "2022-04-01T14:02:18.128Z"
   },
   {
    "duration": 3726,
    "start_time": "2022-04-01T14:02:18.142Z"
   },
   {
    "duration": 3271,
    "start_time": "2022-04-01T14:02:22.381Z"
   },
   {
    "duration": 5,
    "start_time": "2022-04-01T14:02:52.945Z"
   },
   {
    "duration": 5,
    "start_time": "2022-04-01T14:02:57.113Z"
   },
   {
    "duration": 7,
    "start_time": "2022-04-01T14:03:05.057Z"
   },
   {
    "duration": 6,
    "start_time": "2022-04-01T14:04:03.865Z"
   },
   {
    "duration": 12,
    "start_time": "2022-04-01T14:08:35.613Z"
   },
   {
    "duration": 10,
    "start_time": "2022-04-01T14:09:03.417Z"
   },
   {
    "duration": 11,
    "start_time": "2022-04-01T14:09:21.268Z"
   },
   {
    "duration": 3116,
    "start_time": "2022-04-01T14:09:37.257Z"
   },
   {
    "duration": 9,
    "start_time": "2022-04-01T14:11:54.898Z"
   },
   {
    "duration": 22,
    "start_time": "2022-04-01T14:12:40.854Z"
   },
   {
    "duration": 4,
    "start_time": "2022-04-01T14:25:36.801Z"
   },
   {
    "duration": 4,
    "start_time": "2022-04-01T14:25:46.518Z"
   },
   {
    "duration": 12,
    "start_time": "2022-04-01T14:29:12.609Z"
   },
   {
    "duration": 12,
    "start_time": "2022-04-01T14:30:13.913Z"
   },
   {
    "duration": 6,
    "start_time": "2022-04-01T14:31:00.177Z"
   },
   {
    "duration": 7,
    "start_time": "2022-04-01T14:31:04.485Z"
   },
   {
    "duration": 9,
    "start_time": "2022-04-01T14:31:06.505Z"
   },
   {
    "duration": 7,
    "start_time": "2022-04-01T14:31:17.869Z"
   },
   {
    "duration": 4,
    "start_time": "2022-04-01T14:31:55.013Z"
   },
   {
    "duration": 12,
    "start_time": "2022-04-01T14:35:19.658Z"
   },
   {
    "duration": 498,
    "start_time": "2022-04-01T14:35:38.484Z"
   },
   {
    "duration": 16,
    "start_time": "2022-04-01T14:35:38.984Z"
   },
   {
    "duration": 15,
    "start_time": "2022-04-01T14:35:39.006Z"
   },
   {
    "duration": 36,
    "start_time": "2022-04-01T14:35:39.024Z"
   },
   {
    "duration": 6,
    "start_time": "2022-04-01T14:35:39.063Z"
   },
   {
    "duration": 13,
    "start_time": "2022-04-01T14:35:39.071Z"
   },
   {
    "duration": 33,
    "start_time": "2022-04-01T14:35:39.086Z"
   },
   {
    "duration": 13,
    "start_time": "2022-04-01T14:35:39.120Z"
   },
   {
    "duration": 7,
    "start_time": "2022-04-01T14:35:39.135Z"
   },
   {
    "duration": 14,
    "start_time": "2022-04-01T14:35:39.143Z"
   },
   {
    "duration": 4,
    "start_time": "2022-04-01T14:35:39.159Z"
   },
   {
    "duration": 49,
    "start_time": "2022-04-01T14:35:39.165Z"
   },
   {
    "duration": 34,
    "start_time": "2022-04-01T14:35:39.216Z"
   },
   {
    "duration": 6,
    "start_time": "2022-04-01T14:35:39.252Z"
   },
   {
    "duration": 22,
    "start_time": "2022-04-01T14:35:39.260Z"
   },
   {
    "duration": 21,
    "start_time": "2022-04-01T14:35:39.301Z"
   },
   {
    "duration": 9,
    "start_time": "2022-04-01T14:35:39.324Z"
   },
   {
    "duration": 12,
    "start_time": "2022-04-01T14:35:39.334Z"
   },
   {
    "duration": 7,
    "start_time": "2022-04-01T14:35:39.347Z"
   },
   {
    "duration": 10,
    "start_time": "2022-04-01T14:35:39.356Z"
   },
   {
    "duration": 38,
    "start_time": "2022-04-01T14:35:39.367Z"
   },
   {
    "duration": 3,
    "start_time": "2022-04-01T14:35:39.407Z"
   },
   {
    "duration": 6,
    "start_time": "2022-04-01T14:35:39.412Z"
   },
   {
    "duration": 19,
    "start_time": "2022-04-01T14:35:39.420Z"
   },
   {
    "duration": 1141,
    "start_time": "2022-04-01T14:35:55.891Z"
   },
   {
    "duration": 809,
    "start_time": "2022-04-01T14:37:43.718Z"
   },
   {
    "duration": 949,
    "start_time": "2022-04-01T14:38:09.847Z"
   },
   {
    "duration": 475,
    "start_time": "2022-04-01T14:38:34.860Z"
   },
   {
    "duration": 17,
    "start_time": "2022-04-01T14:38:35.337Z"
   },
   {
    "duration": 39,
    "start_time": "2022-04-01T14:38:35.357Z"
   },
   {
    "duration": 34,
    "start_time": "2022-04-01T14:38:35.399Z"
   },
   {
    "duration": 12,
    "start_time": "2022-04-01T14:38:35.435Z"
   },
   {
    "duration": 29,
    "start_time": "2022-04-01T14:38:35.449Z"
   },
   {
    "duration": 30,
    "start_time": "2022-04-01T14:38:35.480Z"
   },
   {
    "duration": 5,
    "start_time": "2022-04-01T14:38:35.512Z"
   },
   {
    "duration": 34,
    "start_time": "2022-04-01T14:38:35.519Z"
   },
   {
    "duration": 28,
    "start_time": "2022-04-01T14:38:35.556Z"
   },
   {
    "duration": 36,
    "start_time": "2022-04-01T14:38:35.585Z"
   },
   {
    "duration": 29,
    "start_time": "2022-04-01T14:38:35.623Z"
   },
   {
    "duration": 37,
    "start_time": "2022-04-01T14:38:35.654Z"
   },
   {
    "duration": 12,
    "start_time": "2022-04-01T14:38:35.693Z"
   },
   {
    "duration": 41,
    "start_time": "2022-04-01T14:38:35.707Z"
   },
   {
    "duration": 19,
    "start_time": "2022-04-01T14:38:35.750Z"
   },
   {
    "duration": 12,
    "start_time": "2022-04-01T14:38:35.770Z"
   },
   {
    "duration": 30,
    "start_time": "2022-04-01T14:38:35.784Z"
   },
   {
    "duration": 11,
    "start_time": "2022-04-01T14:38:35.816Z"
   },
   {
    "duration": 15,
    "start_time": "2022-04-01T14:38:35.829Z"
   },
   {
    "duration": 3,
    "start_time": "2022-04-01T14:38:35.846Z"
   },
   {
    "duration": 6,
    "start_time": "2022-04-01T14:38:35.850Z"
   },
   {
    "duration": 16,
    "start_time": "2022-04-01T14:38:35.857Z"
   },
   {
    "duration": 31,
    "start_time": "2022-04-01T14:38:35.875Z"
   },
   {
    "duration": 11,
    "start_time": "2022-04-01T14:39:25.715Z"
   },
   {
    "duration": 16,
    "start_time": "2022-04-01T14:40:09.715Z"
   },
   {
    "duration": 20,
    "start_time": "2022-04-01T14:40:23.439Z"
   },
   {
    "duration": 3,
    "start_time": "2022-04-01T14:44:18.148Z"
   },
   {
    "duration": 21,
    "start_time": "2022-04-01T14:44:19.920Z"
   },
   {
    "duration": 8,
    "start_time": "2022-04-01T14:50:09.263Z"
   },
   {
    "duration": 3,
    "start_time": "2022-04-01T14:56:40.167Z"
   },
   {
    "duration": 24,
    "start_time": "2022-04-01T14:57:45.004Z"
   },
   {
    "duration": 4,
    "start_time": "2022-04-01T14:59:25.984Z"
   },
   {
    "duration": 18,
    "start_time": "2022-04-01T14:59:27.840Z"
   },
   {
    "duration": 4,
    "start_time": "2022-04-01T15:06:48.339Z"
   },
   {
    "duration": 911,
    "start_time": "2022-04-01T15:06:51.112Z"
   },
   {
    "duration": 4,
    "start_time": "2022-04-01T15:07:10.639Z"
   },
   {
    "duration": 22,
    "start_time": "2022-04-01T15:07:12.219Z"
   },
   {
    "duration": 4,
    "start_time": "2022-04-01T15:09:18.012Z"
   },
   {
    "duration": 48,
    "start_time": "2022-04-01T15:09:19.292Z"
   },
   {
    "duration": 3,
    "start_time": "2022-04-01T15:09:54.559Z"
   },
   {
    "duration": 30,
    "start_time": "2022-04-01T15:09:55.496Z"
   },
   {
    "duration": 3,
    "start_time": "2022-04-01T15:10:12.760Z"
   },
   {
    "duration": 763,
    "start_time": "2022-04-01T15:10:13.176Z"
   },
   {
    "duration": 2,
    "start_time": "2022-04-01T15:10:33.144Z"
   },
   {
    "duration": 875,
    "start_time": "2022-04-01T15:10:34.479Z"
   },
   {
    "duration": 3,
    "start_time": "2022-04-01T15:11:27.988Z"
   },
   {
    "duration": 18,
    "start_time": "2022-04-01T15:11:29.467Z"
   },
   {
    "duration": 49,
    "start_time": "2022-04-02T05:46:35.723Z"
   },
   {
    "duration": 487,
    "start_time": "2022-04-02T05:46:47.167Z"
   },
   {
    "duration": 17,
    "start_time": "2022-04-02T05:46:47.657Z"
   },
   {
    "duration": 20,
    "start_time": "2022-04-02T05:46:47.676Z"
   },
   {
    "duration": 13,
    "start_time": "2022-04-02T05:46:47.699Z"
   },
   {
    "duration": 5,
    "start_time": "2022-04-02T05:46:47.732Z"
   },
   {
    "duration": 13,
    "start_time": "2022-04-02T05:46:47.739Z"
   },
   {
    "duration": 8,
    "start_time": "2022-04-02T05:46:47.754Z"
   },
   {
    "duration": 16,
    "start_time": "2022-04-02T05:46:47.764Z"
   },
   {
    "duration": 5,
    "start_time": "2022-04-02T05:46:47.782Z"
   },
   {
    "duration": 46,
    "start_time": "2022-04-02T05:46:47.790Z"
   },
   {
    "duration": 18,
    "start_time": "2022-04-02T05:46:47.838Z"
   },
   {
    "duration": 4,
    "start_time": "2022-04-02T05:46:47.857Z"
   },
   {
    "duration": 31,
    "start_time": "2022-04-02T05:46:47.862Z"
   },
   {
    "duration": 48,
    "start_time": "2022-04-02T05:46:47.895Z"
   },
   {
    "duration": 7,
    "start_time": "2022-04-02T05:46:47.944Z"
   },
   {
    "duration": 42,
    "start_time": "2022-04-02T05:46:47.952Z"
   },
   {
    "duration": 27,
    "start_time": "2022-04-02T05:46:47.996Z"
   },
   {
    "duration": 25,
    "start_time": "2022-04-02T05:46:48.024Z"
   },
   {
    "duration": 35,
    "start_time": "2022-04-02T05:46:48.051Z"
   },
   {
    "duration": 8,
    "start_time": "2022-04-02T05:46:48.087Z"
   },
   {
    "duration": 31,
    "start_time": "2022-04-02T05:46:48.097Z"
   },
   {
    "duration": 21,
    "start_time": "2022-04-02T05:46:48.129Z"
   },
   {
    "duration": 32,
    "start_time": "2022-04-02T05:46:48.152Z"
   },
   {
    "duration": 18,
    "start_time": "2022-04-02T05:46:48.185Z"
   },
   {
    "duration": 24,
    "start_time": "2022-04-02T05:46:48.205Z"
   },
   {
    "duration": 37,
    "start_time": "2022-04-02T05:46:48.231Z"
   },
   {
    "duration": 7,
    "start_time": "2022-04-02T05:48:13.667Z"
   },
   {
    "duration": 4,
    "start_time": "2022-04-02T05:50:11.126Z"
   },
   {
    "duration": 4,
    "start_time": "2022-04-02T05:50:27.765Z"
   },
   {
    "duration": 765,
    "start_time": "2022-04-02T05:59:38.842Z"
   },
   {
    "duration": 6,
    "start_time": "2022-04-02T05:59:58.152Z"
   },
   {
    "duration": 13,
    "start_time": "2022-04-02T06:00:08.775Z"
   },
   {
    "duration": 21,
    "start_time": "2022-04-02T06:00:21.441Z"
   },
   {
    "duration": 1397,
    "start_time": "2022-04-02T06:01:17.133Z"
   },
   {
    "duration": 1447,
    "start_time": "2022-04-02T06:01:32.720Z"
   },
   {
    "duration": 524,
    "start_time": "2022-04-02T06:01:57.417Z"
   },
   {
    "duration": 16,
    "start_time": "2022-04-02T06:01:57.943Z"
   },
   {
    "duration": 13,
    "start_time": "2022-04-02T06:01:57.960Z"
   },
   {
    "duration": 13,
    "start_time": "2022-04-02T06:01:57.975Z"
   },
   {
    "duration": 4,
    "start_time": "2022-04-02T06:01:57.990Z"
   },
   {
    "duration": 44,
    "start_time": "2022-04-02T06:01:57.995Z"
   },
   {
    "duration": 1443,
    "start_time": "2022-04-02T06:01:58.041Z"
   },
   {
    "duration": 0,
    "start_time": "2022-04-02T06:01:59.486Z"
   },
   {
    "duration": 0,
    "start_time": "2022-04-02T06:01:59.488Z"
   },
   {
    "duration": 0,
    "start_time": "2022-04-02T06:01:59.489Z"
   },
   {
    "duration": 0,
    "start_time": "2022-04-02T06:01:59.490Z"
   },
   {
    "duration": 0,
    "start_time": "2022-04-02T06:01:59.491Z"
   },
   {
    "duration": 0,
    "start_time": "2022-04-02T06:01:59.492Z"
   },
   {
    "duration": 0,
    "start_time": "2022-04-02T06:01:59.493Z"
   },
   {
    "duration": 0,
    "start_time": "2022-04-02T06:01:59.494Z"
   },
   {
    "duration": 0,
    "start_time": "2022-04-02T06:01:59.495Z"
   },
   {
    "duration": 0,
    "start_time": "2022-04-02T06:01:59.497Z"
   },
   {
    "duration": 0,
    "start_time": "2022-04-02T06:01:59.498Z"
   },
   {
    "duration": 0,
    "start_time": "2022-04-02T06:01:59.499Z"
   },
   {
    "duration": 0,
    "start_time": "2022-04-02T06:01:59.500Z"
   },
   {
    "duration": 0,
    "start_time": "2022-04-02T06:01:59.502Z"
   },
   {
    "duration": 0,
    "start_time": "2022-04-02T06:01:59.503Z"
   },
   {
    "duration": 0,
    "start_time": "2022-04-02T06:01:59.504Z"
   },
   {
    "duration": 0,
    "start_time": "2022-04-02T06:01:59.506Z"
   },
   {
    "duration": 0,
    "start_time": "2022-04-02T06:01:59.507Z"
   },
   {
    "duration": 0,
    "start_time": "2022-04-02T06:01:59.509Z"
   },
   {
    "duration": 51,
    "start_time": "2022-04-02T06:02:54.907Z"
   },
   {
    "duration": 491,
    "start_time": "2022-04-02T06:03:01.789Z"
   },
   {
    "duration": 21,
    "start_time": "2022-04-02T06:03:02.282Z"
   },
   {
    "duration": 29,
    "start_time": "2022-04-02T06:03:02.305Z"
   },
   {
    "duration": 16,
    "start_time": "2022-04-02T06:03:02.336Z"
   },
   {
    "duration": 6,
    "start_time": "2022-04-02T06:03:02.354Z"
   },
   {
    "duration": 24,
    "start_time": "2022-04-02T06:03:02.361Z"
   },
   {
    "duration": 50,
    "start_time": "2022-04-02T06:03:19.208Z"
   },
   {
    "duration": 537,
    "start_time": "2022-04-02T06:03:32.114Z"
   },
   {
    "duration": 18,
    "start_time": "2022-04-02T06:03:32.653Z"
   },
   {
    "duration": 15,
    "start_time": "2022-04-02T06:03:32.673Z"
   },
   {
    "duration": 14,
    "start_time": "2022-04-02T06:03:32.691Z"
   },
   {
    "duration": 5,
    "start_time": "2022-04-02T06:03:32.733Z"
   },
   {
    "duration": 13,
    "start_time": "2022-04-02T06:03:32.740Z"
   },
   {
    "duration": 49,
    "start_time": "2022-04-02T06:03:58.261Z"
   },
   {
    "duration": 463,
    "start_time": "2022-04-02T06:04:04.577Z"
   },
   {
    "duration": 18,
    "start_time": "2022-04-02T06:04:05.042Z"
   },
   {
    "duration": 16,
    "start_time": "2022-04-02T06:04:05.062Z"
   },
   {
    "duration": 15,
    "start_time": "2022-04-02T06:04:05.080Z"
   },
   {
    "duration": 36,
    "start_time": "2022-04-02T06:04:05.096Z"
   },
   {
    "duration": 13,
    "start_time": "2022-04-02T06:04:05.134Z"
   },
   {
    "duration": 51,
    "start_time": "2022-04-02T06:04:17.112Z"
   },
   {
    "duration": 7,
    "start_time": "2022-04-02T06:04:31.950Z"
   },
   {
    "duration": 6,
    "start_time": "2022-04-02T06:04:39.568Z"
   },
   {
    "duration": 460,
    "start_time": "2022-04-02T06:04:45.584Z"
   },
   {
    "duration": 16,
    "start_time": "2022-04-02T06:04:46.047Z"
   },
   {
    "duration": 20,
    "start_time": "2022-04-02T06:04:46.065Z"
   },
   {
    "duration": 14,
    "start_time": "2022-04-02T06:04:46.087Z"
   },
   {
    "duration": 7,
    "start_time": "2022-04-02T06:04:46.102Z"
   },
   {
    "duration": 31,
    "start_time": "2022-04-02T06:04:46.110Z"
   },
   {
    "duration": 24,
    "start_time": "2022-04-02T06:04:46.143Z"
   },
   {
    "duration": 14,
    "start_time": "2022-04-02T06:04:46.169Z"
   },
   {
    "duration": 7,
    "start_time": "2022-04-02T06:04:46.185Z"
   },
   {
    "duration": 38,
    "start_time": "2022-04-02T06:04:46.194Z"
   },
   {
    "duration": 12,
    "start_time": "2022-04-02T06:04:46.233Z"
   },
   {
    "duration": 6,
    "start_time": "2022-04-02T06:04:46.247Z"
   },
   {
    "duration": 22,
    "start_time": "2022-04-02T06:04:46.254Z"
   },
   {
    "duration": 56,
    "start_time": "2022-04-02T06:04:46.278Z"
   },
   {
    "duration": 6,
    "start_time": "2022-04-02T06:04:46.336Z"
   },
   {
    "duration": 19,
    "start_time": "2022-04-02T06:04:46.344Z"
   },
   {
    "duration": 14,
    "start_time": "2022-04-02T06:04:46.365Z"
   },
   {
    "duration": 14,
    "start_time": "2022-04-02T06:04:46.381Z"
   },
   {
    "duration": 39,
    "start_time": "2022-04-02T06:04:46.397Z"
   },
   {
    "duration": 9,
    "start_time": "2022-04-02T06:04:46.438Z"
   },
   {
    "duration": 16,
    "start_time": "2022-04-02T06:04:46.448Z"
   },
   {
    "duration": 16,
    "start_time": "2022-04-02T06:04:46.465Z"
   },
   {
    "duration": 33,
    "start_time": "2022-04-02T06:04:46.482Z"
   },
   {
    "duration": 18,
    "start_time": "2022-04-02T06:04:46.517Z"
   },
   {
    "duration": 4,
    "start_time": "2022-04-02T06:04:46.537Z"
   },
   {
    "duration": 23,
    "start_time": "2022-04-02T06:04:46.543Z"
   },
   {
    "duration": 75,
    "start_time": "2022-04-02T06:05:30.824Z"
   },
   {
    "duration": 470,
    "start_time": "2022-04-02T06:05:40.869Z"
   },
   {
    "duration": 20,
    "start_time": "2022-04-02T06:05:41.341Z"
   },
   {
    "duration": 17,
    "start_time": "2022-04-02T06:05:41.362Z"
   },
   {
    "duration": 15,
    "start_time": "2022-04-02T06:05:41.381Z"
   },
   {
    "duration": 4,
    "start_time": "2022-04-02T06:05:41.398Z"
   },
   {
    "duration": 34,
    "start_time": "2022-04-02T06:05:41.403Z"
   },
   {
    "duration": 22,
    "start_time": "2022-04-02T06:05:41.439Z"
   },
   {
    "duration": 17,
    "start_time": "2022-04-02T06:05:41.463Z"
   },
   {
    "duration": 4,
    "start_time": "2022-04-02T06:05:41.482Z"
   },
   {
    "duration": 6,
    "start_time": "2022-04-02T06:05:41.489Z"
   },
   {
    "duration": 12,
    "start_time": "2022-04-02T06:05:41.531Z"
   },
   {
    "duration": 10,
    "start_time": "2022-04-02T06:05:41.544Z"
   },
   {
    "duration": 26,
    "start_time": "2022-04-02T06:05:41.555Z"
   },
   {
    "duration": 53,
    "start_time": "2022-04-02T06:05:41.582Z"
   },
   {
    "duration": 6,
    "start_time": "2022-04-02T06:05:41.637Z"
   },
   {
    "duration": 20,
    "start_time": "2022-04-02T06:05:41.645Z"
   },
   {
    "duration": 16,
    "start_time": "2022-04-02T06:05:41.666Z"
   },
   {
    "duration": 11,
    "start_time": "2022-04-02T06:05:41.684Z"
   },
   {
    "duration": 40,
    "start_time": "2022-04-02T06:05:41.697Z"
   },
   {
    "duration": 8,
    "start_time": "2022-04-02T06:05:41.739Z"
   },
   {
    "duration": 15,
    "start_time": "2022-04-02T06:05:41.748Z"
   },
   {
    "duration": 4,
    "start_time": "2022-04-02T06:05:41.764Z"
   },
   {
    "duration": 95,
    "start_time": "2022-04-02T06:05:41.769Z"
   },
   {
    "duration": 0,
    "start_time": "2022-04-02T06:05:41.866Z"
   },
   {
    "duration": 0,
    "start_time": "2022-04-02T06:05:41.867Z"
   },
   {
    "duration": 0,
    "start_time": "2022-04-02T06:05:41.868Z"
   },
   {
    "duration": 12,
    "start_time": "2022-04-02T06:07:14.349Z"
   },
   {
    "duration": 7,
    "start_time": "2022-04-02T06:08:31.672Z"
   },
   {
    "duration": 20,
    "start_time": "2022-04-02T06:18:25.306Z"
   },
   {
    "duration": 22,
    "start_time": "2022-04-02T06:18:31.914Z"
   },
   {
    "duration": 448,
    "start_time": "2022-04-02T06:18:48.589Z"
   },
   {
    "duration": 17,
    "start_time": "2022-04-02T06:18:49.039Z"
   },
   {
    "duration": 14,
    "start_time": "2022-04-02T06:18:49.058Z"
   },
   {
    "duration": 21,
    "start_time": "2022-04-02T06:18:49.074Z"
   },
   {
    "duration": 5,
    "start_time": "2022-04-02T06:18:49.097Z"
   },
   {
    "duration": 35,
    "start_time": "2022-04-02T06:18:49.103Z"
   },
   {
    "duration": 8,
    "start_time": "2022-04-02T06:18:49.139Z"
   },
   {
    "duration": 26,
    "start_time": "2022-04-02T06:18:49.149Z"
   },
   {
    "duration": 13,
    "start_time": "2022-04-02T06:18:49.177Z"
   },
   {
    "duration": 14,
    "start_time": "2022-04-02T06:18:49.193Z"
   },
   {
    "duration": 4,
    "start_time": "2022-04-02T06:18:49.232Z"
   },
   {
    "duration": 15,
    "start_time": "2022-04-02T06:18:49.237Z"
   },
   {
    "duration": 18,
    "start_time": "2022-04-02T06:18:49.254Z"
   },
   {
    "duration": 4,
    "start_time": "2022-04-02T06:18:49.274Z"
   },
   {
    "duration": 24,
    "start_time": "2022-04-02T06:18:49.281Z"
   },
   {
    "duration": 52,
    "start_time": "2022-04-02T06:18:49.307Z"
   },
   {
    "duration": 6,
    "start_time": "2022-04-02T06:18:49.361Z"
   },
   {
    "duration": 23,
    "start_time": "2022-04-02T06:18:49.369Z"
   },
   {
    "duration": 21,
    "start_time": "2022-04-02T06:18:49.394Z"
   },
   {
    "duration": 10,
    "start_time": "2022-04-02T06:18:49.432Z"
   },
   {
    "duration": 18,
    "start_time": "2022-04-02T06:18:49.444Z"
   },
   {
    "duration": 10,
    "start_time": "2022-04-02T06:18:49.464Z"
   },
   {
    "duration": 19,
    "start_time": "2022-04-02T06:18:49.475Z"
   },
   {
    "duration": 4,
    "start_time": "2022-04-02T06:18:49.496Z"
   },
   {
    "duration": 102,
    "start_time": "2022-04-02T06:18:49.501Z"
   },
   {
    "duration": 0,
    "start_time": "2022-04-02T06:18:49.605Z"
   },
   {
    "duration": 0,
    "start_time": "2022-04-02T06:18:49.606Z"
   },
   {
    "duration": 0,
    "start_time": "2022-04-02T06:18:49.607Z"
   },
   {
    "duration": 7,
    "start_time": "2022-04-02T06:39:51.122Z"
   },
   {
    "duration": 7,
    "start_time": "2022-04-02T06:40:08.136Z"
   },
   {
    "duration": 7,
    "start_time": "2022-04-02T06:40:37.989Z"
   },
   {
    "duration": 527,
    "start_time": "2022-04-02T06:40:45.125Z"
   },
   {
    "duration": 17,
    "start_time": "2022-04-02T06:40:45.655Z"
   },
   {
    "duration": 16,
    "start_time": "2022-04-02T06:40:45.674Z"
   },
   {
    "duration": 38,
    "start_time": "2022-04-02T06:40:45.693Z"
   },
   {
    "duration": 11,
    "start_time": "2022-04-02T06:40:45.733Z"
   },
   {
    "duration": 17,
    "start_time": "2022-04-02T06:40:45.746Z"
   },
   {
    "duration": 9,
    "start_time": "2022-04-02T06:40:45.764Z"
   },
   {
    "duration": 14,
    "start_time": "2022-04-02T06:40:45.775Z"
   },
   {
    "duration": 12,
    "start_time": "2022-04-02T06:40:45.791Z"
   },
   {
    "duration": 36,
    "start_time": "2022-04-02T06:40:45.808Z"
   },
   {
    "duration": 4,
    "start_time": "2022-04-02T06:40:45.846Z"
   },
   {
    "duration": 8,
    "start_time": "2022-04-02T06:40:45.852Z"
   },
   {
    "duration": 15,
    "start_time": "2022-04-02T06:40:45.862Z"
   },
   {
    "duration": 6,
    "start_time": "2022-04-02T06:40:45.879Z"
   },
   {
    "duration": 50,
    "start_time": "2022-04-02T06:40:45.886Z"
   },
   {
    "duration": 34,
    "start_time": "2022-04-02T06:40:45.937Z"
   },
   {
    "duration": 6,
    "start_time": "2022-04-02T06:40:45.973Z"
   },
   {
    "duration": 25,
    "start_time": "2022-04-02T06:40:45.981Z"
   },
   {
    "duration": 35,
    "start_time": "2022-04-02T06:40:46.007Z"
   },
   {
    "duration": 9,
    "start_time": "2022-04-02T06:40:46.043Z"
   },
   {
    "duration": 16,
    "start_time": "2022-04-02T06:40:46.053Z"
   },
   {
    "duration": 9,
    "start_time": "2022-04-02T06:40:46.071Z"
   },
   {
    "duration": 13,
    "start_time": "2022-04-02T06:40:46.082Z"
   },
   {
    "duration": 3,
    "start_time": "2022-04-02T06:40:46.097Z"
   },
   {
    "duration": 103,
    "start_time": "2022-04-02T06:40:46.102Z"
   },
   {
    "duration": 0,
    "start_time": "2022-04-02T06:40:46.207Z"
   },
   {
    "duration": 0,
    "start_time": "2022-04-02T06:40:46.208Z"
   },
   {
    "duration": 0,
    "start_time": "2022-04-02T06:40:46.209Z"
   },
   {
    "duration": 12,
    "start_time": "2022-04-02T07:00:15.083Z"
   },
   {
    "duration": 512,
    "start_time": "2022-04-02T07:00:22.819Z"
   },
   {
    "duration": 16,
    "start_time": "2022-04-02T07:00:23.333Z"
   },
   {
    "duration": 14,
    "start_time": "2022-04-02T07:00:23.350Z"
   },
   {
    "duration": 13,
    "start_time": "2022-04-02T07:00:23.366Z"
   },
   {
    "duration": 5,
    "start_time": "2022-04-02T07:00:23.380Z"
   },
   {
    "duration": 15,
    "start_time": "2022-04-02T07:00:23.387Z"
   },
   {
    "duration": 9,
    "start_time": "2022-04-02T07:00:23.432Z"
   },
   {
    "duration": 12,
    "start_time": "2022-04-02T07:00:23.443Z"
   },
   {
    "duration": 11,
    "start_time": "2022-04-02T07:00:23.456Z"
   },
   {
    "duration": 15,
    "start_time": "2022-04-02T07:00:23.471Z"
   },
   {
    "duration": 6,
    "start_time": "2022-04-02T07:00:23.488Z"
   },
   {
    "duration": 9,
    "start_time": "2022-04-02T07:00:23.495Z"
   },
   {
    "duration": 35,
    "start_time": "2022-04-02T07:00:23.506Z"
   },
   {
    "duration": 3,
    "start_time": "2022-04-02T07:00:23.543Z"
   },
   {
    "duration": 24,
    "start_time": "2022-04-02T07:00:23.548Z"
   },
   {
    "duration": 59,
    "start_time": "2022-04-02T07:00:23.574Z"
   },
   {
    "duration": 7,
    "start_time": "2022-04-02T07:00:23.634Z"
   },
   {
    "duration": 21,
    "start_time": "2022-04-02T07:00:23.643Z"
   },
   {
    "duration": 15,
    "start_time": "2022-04-02T07:00:23.666Z"
   },
   {
    "duration": 11,
    "start_time": "2022-04-02T07:00:23.683Z"
   },
   {
    "duration": 40,
    "start_time": "2022-04-02T07:00:23.696Z"
   },
   {
    "duration": 8,
    "start_time": "2022-04-02T07:00:23.738Z"
   },
   {
    "duration": 14,
    "start_time": "2022-04-02T07:00:23.748Z"
   },
   {
    "duration": 3,
    "start_time": "2022-04-02T07:00:23.764Z"
   },
   {
    "duration": 95,
    "start_time": "2022-04-02T07:00:23.769Z"
   },
   {
    "duration": 0,
    "start_time": "2022-04-02T07:00:23.866Z"
   },
   {
    "duration": 0,
    "start_time": "2022-04-02T07:00:23.868Z"
   },
   {
    "duration": 0,
    "start_time": "2022-04-02T07:00:23.869Z"
   },
   {
    "duration": 12,
    "start_time": "2022-04-02T07:01:18.210Z"
   },
   {
    "duration": 7,
    "start_time": "2022-04-02T07:01:25.330Z"
   },
   {
    "duration": 3,
    "start_time": "2022-04-02T07:01:28.603Z"
   },
   {
    "duration": 21,
    "start_time": "2022-04-02T07:01:29.098Z"
   },
   {
    "duration": 13,
    "start_time": "2022-04-02T07:01:42.551Z"
   },
   {
    "duration": 20,
    "start_time": "2022-04-02T07:01:50.954Z"
   },
   {
    "duration": 14,
    "start_time": "2022-04-02T07:02:15.752Z"
   },
   {
    "duration": 6,
    "start_time": "2022-04-02T07:03:38.545Z"
   },
   {
    "duration": 7,
    "start_time": "2022-04-02T07:03:48.796Z"
   },
   {
    "duration": 493,
    "start_time": "2022-04-02T07:03:58.439Z"
   },
   {
    "duration": 16,
    "start_time": "2022-04-02T07:03:58.934Z"
   },
   {
    "duration": 26,
    "start_time": "2022-04-02T07:03:58.952Z"
   },
   {
    "duration": 13,
    "start_time": "2022-04-02T07:03:58.980Z"
   },
   {
    "duration": 6,
    "start_time": "2022-04-02T07:03:58.994Z"
   },
   {
    "duration": 38,
    "start_time": "2022-04-02T07:03:59.002Z"
   },
   {
    "duration": 8,
    "start_time": "2022-04-02T07:03:59.041Z"
   },
   {
    "duration": 12,
    "start_time": "2022-04-02T07:03:59.051Z"
   },
   {
    "duration": 6,
    "start_time": "2022-04-02T07:03:59.065Z"
   },
   {
    "duration": 14,
    "start_time": "2022-04-02T07:03:59.075Z"
   },
   {
    "duration": 4,
    "start_time": "2022-04-02T07:03:59.090Z"
   },
   {
    "duration": 37,
    "start_time": "2022-04-02T07:03:59.095Z"
   },
   {
    "duration": 12,
    "start_time": "2022-04-02T07:03:59.133Z"
   },
   {
    "duration": 4,
    "start_time": "2022-04-02T07:03:59.147Z"
   },
   {
    "duration": 20,
    "start_time": "2022-04-02T07:03:59.153Z"
   },
   {
    "duration": 65,
    "start_time": "2022-04-02T07:03:59.176Z"
   },
   {
    "duration": 7,
    "start_time": "2022-04-02T07:03:59.242Z"
   },
   {
    "duration": 19,
    "start_time": "2022-04-02T07:03:59.250Z"
   },
   {
    "duration": 14,
    "start_time": "2022-04-02T07:03:59.271Z"
   },
   {
    "duration": 10,
    "start_time": "2022-04-02T07:03:59.287Z"
   },
   {
    "duration": 40,
    "start_time": "2022-04-02T07:03:59.299Z"
   },
   {
    "duration": 8,
    "start_time": "2022-04-02T07:03:59.341Z"
   },
   {
    "duration": 12,
    "start_time": "2022-04-02T07:03:59.351Z"
   },
   {
    "duration": 4,
    "start_time": "2022-04-02T07:03:59.365Z"
   },
   {
    "duration": 95,
    "start_time": "2022-04-02T07:03:59.370Z"
   },
   {
    "duration": 0,
    "start_time": "2022-04-02T07:03:59.466Z"
   },
   {
    "duration": 0,
    "start_time": "2022-04-02T07:03:59.468Z"
   },
   {
    "duration": 0,
    "start_time": "2022-04-02T07:03:59.469Z"
   },
   {
    "duration": 13,
    "start_time": "2022-04-02T07:04:02.479Z"
   },
   {
    "duration": 13,
    "start_time": "2022-04-02T07:04:53.718Z"
   },
   {
    "duration": 6,
    "start_time": "2022-04-02T07:05:04.878Z"
   },
   {
    "duration": 8,
    "start_time": "2022-04-02T07:08:12.258Z"
   },
   {
    "duration": 12,
    "start_time": "2022-04-02T07:08:36.217Z"
   },
   {
    "duration": 24,
    "start_time": "2022-04-02T07:08:47.813Z"
   },
   {
    "duration": 9,
    "start_time": "2022-04-02T07:09:53.841Z"
   },
   {
    "duration": 4,
    "start_time": "2022-04-02T07:10:00.381Z"
   },
   {
    "duration": 21,
    "start_time": "2022-04-02T07:10:00.785Z"
   },
   {
    "duration": 26,
    "start_time": "2022-04-02T07:29:45.960Z"
   },
   {
    "duration": 19,
    "start_time": "2022-04-02T07:30:25.116Z"
   },
   {
    "duration": 17,
    "start_time": "2022-04-02T07:30:53.573Z"
   },
   {
    "duration": 17,
    "start_time": "2022-04-02T07:31:11.134Z"
   },
   {
    "duration": 18,
    "start_time": "2022-04-02T07:33:08.907Z"
   },
   {
    "duration": 21,
    "start_time": "2022-04-02T07:33:22.628Z"
   },
   {
    "duration": 8,
    "start_time": "2022-04-02T07:36:24.276Z"
   },
   {
    "duration": 5,
    "start_time": "2022-04-02T07:36:31.869Z"
   },
   {
    "duration": 7,
    "start_time": "2022-04-02T07:38:39.558Z"
   },
   {
    "duration": 4,
    "start_time": "2022-04-02T07:41:06.658Z"
   },
   {
    "duration": 7,
    "start_time": "2022-04-02T07:41:15.858Z"
   },
   {
    "duration": 495,
    "start_time": "2022-04-02T07:51:20.335Z"
   },
   {
    "duration": 17,
    "start_time": "2022-04-02T07:51:20.833Z"
   },
   {
    "duration": 16,
    "start_time": "2022-04-02T07:51:20.852Z"
   },
   {
    "duration": 13,
    "start_time": "2022-04-02T07:51:20.871Z"
   },
   {
    "duration": 8,
    "start_time": "2022-04-02T07:51:20.885Z"
   },
   {
    "duration": 48,
    "start_time": "2022-04-02T07:51:20.895Z"
   },
   {
    "duration": 8,
    "start_time": "2022-04-02T07:51:20.945Z"
   },
   {
    "duration": 8,
    "start_time": "2022-04-02T07:51:20.955Z"
   },
   {
    "duration": 8,
    "start_time": "2022-04-02T07:51:20.964Z"
   },
   {
    "duration": 7,
    "start_time": "2022-04-02T07:51:20.977Z"
   },
   {
    "duration": 47,
    "start_time": "2022-04-02T07:51:20.985Z"
   },
   {
    "duration": 14,
    "start_time": "2022-04-02T07:51:21.034Z"
   },
   {
    "duration": 5,
    "start_time": "2022-04-02T07:51:21.050Z"
   },
   {
    "duration": 7,
    "start_time": "2022-04-02T07:51:21.057Z"
   },
   {
    "duration": 12,
    "start_time": "2022-04-02T07:51:21.065Z"
   },
   {
    "duration": 4,
    "start_time": "2022-04-02T07:51:21.078Z"
   },
   {
    "duration": 51,
    "start_time": "2022-04-02T07:51:21.084Z"
   },
   {
    "duration": 37,
    "start_time": "2022-04-02T07:51:21.136Z"
   },
   {
    "duration": 7,
    "start_time": "2022-04-02T07:51:21.175Z"
   },
   {
    "duration": 20,
    "start_time": "2022-04-02T07:51:21.184Z"
   },
   {
    "duration": 37,
    "start_time": "2022-04-02T07:51:21.205Z"
   },
   {
    "duration": 8,
    "start_time": "2022-04-02T07:51:21.244Z"
   },
   {
    "duration": 16,
    "start_time": "2022-04-02T07:51:21.253Z"
   },
   {
    "duration": 8,
    "start_time": "2022-04-02T07:51:21.271Z"
   },
   {
    "duration": 14,
    "start_time": "2022-04-02T07:51:21.281Z"
   },
   {
    "duration": 37,
    "start_time": "2022-04-02T07:51:21.296Z"
   },
   {
    "duration": 27,
    "start_time": "2022-04-02T07:51:21.335Z"
   },
   {
    "duration": 8,
    "start_time": "2022-04-02T07:51:21.365Z"
   },
   {
    "duration": 10,
    "start_time": "2022-04-02T07:51:21.374Z"
   },
   {
    "duration": 23,
    "start_time": "2022-04-02T07:51:21.386Z"
   },
   {
    "duration": 23,
    "start_time": "2022-04-02T07:51:21.410Z"
   },
   {
    "duration": 24,
    "start_time": "2022-04-02T07:51:21.434Z"
   },
   {
    "duration": 5,
    "start_time": "2022-04-02T07:55:38.142Z"
   },
   {
    "duration": 5,
    "start_time": "2022-04-02T07:55:55.790Z"
   },
   {
    "duration": 5,
    "start_time": "2022-04-02T07:55:57.858Z"
   },
   {
    "duration": 6,
    "start_time": "2022-04-02T07:56:32.858Z"
   },
   {
    "duration": 19,
    "start_time": "2022-04-02T07:59:36.706Z"
   },
   {
    "duration": 78,
    "start_time": "2022-04-02T08:04:26.553Z"
   },
   {
    "duration": 19,
    "start_time": "2022-04-02T08:04:57.121Z"
   },
   {
    "duration": 13,
    "start_time": "2022-04-02T08:05:31.489Z"
   },
   {
    "duration": 35,
    "start_time": "2022-04-02T08:06:30.881Z"
   },
   {
    "duration": 32,
    "start_time": "2022-04-02T08:07:07.909Z"
   },
   {
    "duration": 4,
    "start_time": "2022-04-02T08:11:34.640Z"
   },
   {
    "duration": 6,
    "start_time": "2022-04-02T08:11:45.906Z"
   },
   {
    "duration": 6,
    "start_time": "2022-04-02T08:12:40.532Z"
   },
   {
    "duration": 1430,
    "start_time": "2022-04-02T08:15:34.143Z"
   },
   {
    "duration": 17,
    "start_time": "2022-04-02T08:16:42.904Z"
   },
   {
    "duration": 504,
    "start_time": "2022-04-02T08:17:45.095Z"
   },
   {
    "duration": 17,
    "start_time": "2022-04-02T08:17:45.601Z"
   },
   {
    "duration": 19,
    "start_time": "2022-04-02T08:17:45.619Z"
   },
   {
    "duration": 13,
    "start_time": "2022-04-02T08:17:45.641Z"
   },
   {
    "duration": 7,
    "start_time": "2022-04-02T08:17:45.656Z"
   },
   {
    "duration": 17,
    "start_time": "2022-04-02T08:17:45.665Z"
   },
   {
    "duration": 10,
    "start_time": "2022-04-02T08:17:45.683Z"
   },
   {
    "duration": 10,
    "start_time": "2022-04-02T08:17:45.695Z"
   },
   {
    "duration": 7,
    "start_time": "2022-04-02T08:17:45.732Z"
   },
   {
    "duration": 16,
    "start_time": "2022-04-02T08:17:45.743Z"
   },
   {
    "duration": 8,
    "start_time": "2022-04-02T08:17:45.761Z"
   },
   {
    "duration": 16,
    "start_time": "2022-04-02T08:17:45.771Z"
   },
   {
    "duration": 12,
    "start_time": "2022-04-02T08:17:45.788Z"
   },
   {
    "duration": 9,
    "start_time": "2022-04-02T08:17:45.802Z"
   },
   {
    "duration": 30,
    "start_time": "2022-04-02T08:17:45.813Z"
   },
   {
    "duration": 4,
    "start_time": "2022-04-02T08:17:45.845Z"
   },
   {
    "duration": 23,
    "start_time": "2022-04-02T08:17:45.850Z"
   },
   {
    "duration": 57,
    "start_time": "2022-04-02T08:17:45.875Z"
   },
   {
    "duration": 7,
    "start_time": "2022-04-02T08:17:45.934Z"
   },
   {
    "duration": 21,
    "start_time": "2022-04-02T08:17:45.943Z"
   },
   {
    "duration": 19,
    "start_time": "2022-04-02T08:17:45.965Z"
   },
   {
    "duration": 10,
    "start_time": "2022-04-02T08:17:45.986Z"
   },
   {
    "duration": 41,
    "start_time": "2022-04-02T08:17:45.998Z"
   },
   {
    "duration": 9,
    "start_time": "2022-04-02T08:17:46.040Z"
   },
   {
    "duration": 15,
    "start_time": "2022-04-02T08:17:46.051Z"
   },
   {
    "duration": 4,
    "start_time": "2022-04-02T08:17:46.068Z"
   },
   {
    "duration": 29,
    "start_time": "2022-04-02T08:17:46.073Z"
   },
   {
    "duration": 30,
    "start_time": "2022-04-02T08:17:46.106Z"
   },
   {
    "duration": 5,
    "start_time": "2022-04-02T08:17:46.138Z"
   },
   {
    "duration": 25,
    "start_time": "2022-04-02T08:17:46.145Z"
   },
   {
    "duration": 12,
    "start_time": "2022-04-02T08:17:46.172Z"
   },
   {
    "duration": 11,
    "start_time": "2022-04-02T08:17:46.186Z"
   },
   {
    "duration": 0,
    "start_time": "2022-04-02T08:18:12.267Z"
   },
   {
    "duration": 0,
    "start_time": "2022-04-02T08:18:12.269Z"
   },
   {
    "duration": 0,
    "start_time": "2022-04-02T08:18:12.271Z"
   },
   {
    "duration": 5,
    "start_time": "2022-04-02T08:18:14.460Z"
   },
   {
    "duration": 5,
    "start_time": "2022-04-02T08:18:16.836Z"
   },
   {
    "duration": 26077,
    "start_time": "2022-04-02T08:18:17.867Z"
   },
   {
    "duration": 0,
    "start_time": "2022-04-02T08:18:43.946Z"
   },
   {
    "duration": 0,
    "start_time": "2022-04-02T08:19:17.243Z"
   },
   {
    "duration": 13,
    "start_time": "2022-04-02T08:20:08.656Z"
   },
   {
    "duration": 15,
    "start_time": "2022-04-02T08:20:25.483Z"
   },
   {
    "duration": 13,
    "start_time": "2022-04-02T08:20:55.059Z"
   },
   {
    "duration": 9,
    "start_time": "2022-04-02T08:21:02.652Z"
   },
   {
    "duration": 21,
    "start_time": "2022-04-02T08:21:15.479Z"
   },
   {
    "duration": 20,
    "start_time": "2022-04-02T08:22:35.619Z"
   },
   {
    "duration": 19,
    "start_time": "2022-04-02T08:22:48.627Z"
   },
   {
    "duration": 20,
    "start_time": "2022-04-02T08:22:52.215Z"
   },
   {
    "duration": 20,
    "start_time": "2022-04-02T08:23:02.866Z"
   },
   {
    "duration": 11,
    "start_time": "2022-04-02T08:25:17.962Z"
   },
   {
    "duration": 19,
    "start_time": "2022-04-02T08:31:00.829Z"
   },
   {
    "duration": 24,
    "start_time": "2022-04-02T08:32:35.367Z"
   },
   {
    "duration": 19,
    "start_time": "2022-04-02T08:32:42.994Z"
   },
   {
    "duration": 23,
    "start_time": "2022-04-02T08:32:48.654Z"
   },
   {
    "duration": 23,
    "start_time": "2022-04-02T08:34:09.923Z"
   },
   {
    "duration": 41,
    "start_time": "2022-04-02T08:34:39.891Z"
   },
   {
    "duration": 33,
    "start_time": "2022-04-02T08:35:03.611Z"
   },
   {
    "duration": 5,
    "start_time": "2022-04-02T08:56:48.733Z"
   },
   {
    "duration": 14,
    "start_time": "2022-04-02T08:58:43.200Z"
   },
   {
    "duration": 16,
    "start_time": "2022-04-02T08:59:16.852Z"
   },
   {
    "duration": 16,
    "start_time": "2022-04-02T08:59:18.932Z"
   },
   {
    "duration": 16,
    "start_time": "2022-04-02T08:59:30.012Z"
   },
   {
    "duration": 23,
    "start_time": "2022-04-02T09:01:46.992Z"
   },
   {
    "duration": 25,
    "start_time": "2022-04-02T09:02:05.364Z"
   },
   {
    "duration": 21,
    "start_time": "2022-04-02T09:11:05.192Z"
   },
   {
    "duration": 32,
    "start_time": "2022-04-02T09:12:01.105Z"
   },
   {
    "duration": 15,
    "start_time": "2022-04-02T09:12:38.284Z"
   },
   {
    "duration": 9,
    "start_time": "2022-04-02T09:14:35.729Z"
   },
   {
    "duration": 6,
    "start_time": "2022-04-02T09:24:49.910Z"
   },
   {
    "duration": 7,
    "start_time": "2022-04-02T09:27:41.091Z"
   },
   {
    "duration": 9,
    "start_time": "2022-04-02T09:30:25.375Z"
   },
   {
    "duration": 12,
    "start_time": "2022-04-02T09:30:46.031Z"
   },
   {
    "duration": 2639,
    "start_time": "2022-04-02T09:31:06.911Z"
   },
   {
    "duration": 2836,
    "start_time": "2022-04-02T09:31:09.871Z"
   },
   {
    "duration": 15,
    "start_time": "2022-04-02T09:31:30.076Z"
   },
   {
    "duration": 14,
    "start_time": "2022-04-02T09:36:57.020Z"
   },
   {
    "duration": 14,
    "start_time": "2022-04-02T09:37:06.268Z"
   },
   {
    "duration": 14,
    "start_time": "2022-04-02T09:37:16.568Z"
   },
   {
    "duration": 209,
    "start_time": "2022-04-02T09:38:48.372Z"
   },
   {
    "duration": 173,
    "start_time": "2022-04-02T09:39:18.936Z"
   },
   {
    "duration": 172,
    "start_time": "2022-04-02T09:39:30.464Z"
   },
   {
    "duration": 10,
    "start_time": "2022-04-02T09:39:41.692Z"
   },
   {
    "duration": 12,
    "start_time": "2022-04-02T09:39:50.784Z"
   },
   {
    "duration": 13,
    "start_time": "2022-04-02T09:40:03.236Z"
   },
   {
    "duration": 10,
    "start_time": "2022-04-02T09:41:35.796Z"
   },
   {
    "duration": 14,
    "start_time": "2022-04-02T09:51:11.128Z"
   },
   {
    "duration": 183,
    "start_time": "2022-04-02T11:40:45.277Z"
   },
   {
    "duration": 10,
    "start_time": "2022-04-02T11:41:46.269Z"
   },
   {
    "duration": 23,
    "start_time": "2022-04-02T11:42:05.657Z"
   },
   {
    "duration": 30,
    "start_time": "2022-04-02T11:42:17.253Z"
   },
   {
    "duration": 28,
    "start_time": "2022-04-02T11:43:06.217Z"
   },
   {
    "duration": 23,
    "start_time": "2022-04-02T11:43:36.941Z"
   },
   {
    "duration": 25,
    "start_time": "2022-04-02T11:44:41.257Z"
   },
   {
    "duration": 34,
    "start_time": "2022-04-02T11:46:21.321Z"
   },
   {
    "duration": 33,
    "start_time": "2022-04-02T11:49:33.261Z"
   },
   {
    "duration": 19,
    "start_time": "2022-04-02T11:54:09.706Z"
   },
   {
    "duration": 18,
    "start_time": "2022-04-02T11:54:13.470Z"
   },
   {
    "duration": 9,
    "start_time": "2022-04-02T11:54:22.926Z"
   },
   {
    "duration": 33,
    "start_time": "2022-04-02T11:54:33.926Z"
   },
   {
    "duration": 8,
    "start_time": "2022-04-02T12:10:29.599Z"
   },
   {
    "duration": 8,
    "start_time": "2022-04-02T12:10:52.107Z"
   },
   {
    "duration": 2805,
    "start_time": "2022-04-02T12:12:04.851Z"
   },
   {
    "duration": 14,
    "start_time": "2022-04-02T12:17:14.631Z"
   },
   {
    "duration": 14,
    "start_time": "2022-04-02T12:17:24.512Z"
   },
   {
    "duration": 16,
    "start_time": "2022-04-02T12:17:31.096Z"
   },
   {
    "duration": 28,
    "start_time": "2022-04-02T12:21:33.711Z"
   },
   {
    "duration": 268,
    "start_time": "2022-04-02T12:22:21.271Z"
   },
   {
    "duration": 27,
    "start_time": "2022-04-02T12:22:31.272Z"
   },
   {
    "duration": 16,
    "start_time": "2022-04-02T12:23:19.208Z"
   },
   {
    "duration": 177,
    "start_time": "2022-04-02T12:23:26.747Z"
   },
   {
    "duration": 168,
    "start_time": "2022-04-02T12:23:56.607Z"
   },
   {
    "duration": 17,
    "start_time": "2022-04-02T12:25:43.367Z"
   },
   {
    "duration": 15,
    "start_time": "2022-04-02T12:25:55.576Z"
   },
   {
    "duration": 16,
    "start_time": "2022-04-02T12:28:24.836Z"
   },
   {
    "duration": 13,
    "start_time": "2022-04-02T12:28:43.204Z"
   },
   {
    "duration": 18,
    "start_time": "2022-04-02T12:29:14.648Z"
   },
   {
    "duration": 24,
    "start_time": "2022-04-02T12:29:34.212Z"
   },
   {
    "duration": 516,
    "start_time": "2022-04-02T12:31:35.009Z"
   },
   {
    "duration": 16,
    "start_time": "2022-04-02T12:31:35.527Z"
   },
   {
    "duration": 13,
    "start_time": "2022-04-02T12:31:35.545Z"
   },
   {
    "duration": 14,
    "start_time": "2022-04-02T12:31:35.560Z"
   },
   {
    "duration": 8,
    "start_time": "2022-04-02T12:31:35.576Z"
   },
   {
    "duration": 25,
    "start_time": "2022-04-02T12:31:35.586Z"
   },
   {
    "duration": 19,
    "start_time": "2022-04-02T12:31:35.613Z"
   },
   {
    "duration": 9,
    "start_time": "2022-04-02T12:31:35.634Z"
   },
   {
    "duration": 10,
    "start_time": "2022-04-02T12:31:35.645Z"
   },
   {
    "duration": 8,
    "start_time": "2022-04-02T12:31:35.658Z"
   },
   {
    "duration": 14,
    "start_time": "2022-04-02T12:31:35.667Z"
   },
   {
    "duration": 16,
    "start_time": "2022-04-02T12:31:35.683Z"
   },
   {
    "duration": 4,
    "start_time": "2022-04-02T12:31:35.700Z"
   },
   {
    "duration": 28,
    "start_time": "2022-04-02T12:31:35.706Z"
   },
   {
    "duration": 16,
    "start_time": "2022-04-02T12:31:35.736Z"
   },
   {
    "duration": 4,
    "start_time": "2022-04-02T12:31:35.754Z"
   },
   {
    "duration": 24,
    "start_time": "2022-04-02T12:31:35.759Z"
   },
   {
    "duration": 57,
    "start_time": "2022-04-02T12:31:35.785Z"
   },
   {
    "duration": 7,
    "start_time": "2022-04-02T12:31:35.844Z"
   },
   {
    "duration": 25,
    "start_time": "2022-04-02T12:31:35.853Z"
   },
   {
    "duration": 23,
    "start_time": "2022-04-02T12:31:35.880Z"
   },
   {
    "duration": 15,
    "start_time": "2022-04-02T12:31:35.905Z"
   },
   {
    "duration": 13,
    "start_time": "2022-04-02T12:31:35.932Z"
   },
   {
    "duration": 8,
    "start_time": "2022-04-02T12:31:35.947Z"
   },
   {
    "duration": 13,
    "start_time": "2022-04-02T12:31:35.957Z"
   },
   {
    "duration": 4,
    "start_time": "2022-04-02T12:31:35.972Z"
   },
   {
    "duration": 25,
    "start_time": "2022-04-02T12:31:35.977Z"
   },
   {
    "duration": 8,
    "start_time": "2022-04-02T12:31:36.034Z"
   },
   {
    "duration": 14,
    "start_time": "2022-04-02T12:31:36.043Z"
   },
   {
    "duration": 29,
    "start_time": "2022-04-02T12:31:36.059Z"
   },
   {
    "duration": 9,
    "start_time": "2022-04-02T12:31:36.089Z"
   },
   {
    "duration": 15,
    "start_time": "2022-04-02T12:31:36.100Z"
   },
   {
    "duration": 23,
    "start_time": "2022-04-02T12:31:36.116Z"
   },
   {
    "duration": 6,
    "start_time": "2022-04-02T12:31:36.140Z"
   },
   {
    "duration": 168,
    "start_time": "2022-04-02T12:31:36.148Z"
   },
   {
    "duration": 171,
    "start_time": "2022-04-02T12:31:47.220Z"
   },
   {
    "duration": 17,
    "start_time": "2022-04-02T12:37:26.808Z"
   },
   {
    "duration": 17,
    "start_time": "2022-04-02T12:37:37.716Z"
   },
   {
    "duration": 78,
    "start_time": "2022-04-02T12:39:16.083Z"
   },
   {
    "duration": 16,
    "start_time": "2022-04-02T12:39:23.044Z"
   },
   {
    "duration": 17,
    "start_time": "2022-04-02T12:39:37.364Z"
   },
   {
    "duration": 8,
    "start_time": "2022-04-02T12:42:31.552Z"
   },
   {
    "duration": 14,
    "start_time": "2022-04-02T12:43:16.492Z"
   },
   {
    "duration": 7,
    "start_time": "2022-04-02T12:45:23.640Z"
   },
   {
    "duration": 14,
    "start_time": "2022-04-02T12:45:32.049Z"
   },
   {
    "duration": 12,
    "start_time": "2022-04-02T12:46:34.420Z"
   },
   {
    "duration": 11,
    "start_time": "2022-04-02T12:46:38.729Z"
   },
   {
    "duration": 12,
    "start_time": "2022-04-02T12:46:46.140Z"
   },
   {
    "duration": 12,
    "start_time": "2022-04-02T12:47:16.772Z"
   },
   {
    "duration": 15,
    "start_time": "2022-04-02T12:47:24.208Z"
   },
   {
    "duration": 14,
    "start_time": "2022-04-02T12:47:46.441Z"
   },
   {
    "duration": 12,
    "start_time": "2022-04-02T12:48:02.729Z"
   },
   {
    "duration": 499,
    "start_time": "2022-04-02T12:48:11.448Z"
   },
   {
    "duration": 16,
    "start_time": "2022-04-02T12:48:11.949Z"
   },
   {
    "duration": 14,
    "start_time": "2022-04-02T12:48:11.967Z"
   },
   {
    "duration": 14,
    "start_time": "2022-04-02T12:48:11.983Z"
   },
   {
    "duration": 5,
    "start_time": "2022-04-02T12:48:11.998Z"
   },
   {
    "duration": 38,
    "start_time": "2022-04-02T12:48:12.004Z"
   },
   {
    "duration": 7,
    "start_time": "2022-04-02T12:48:12.044Z"
   },
   {
    "duration": 9,
    "start_time": "2022-04-02T12:48:12.053Z"
   },
   {
    "duration": 11,
    "start_time": "2022-04-02T12:48:12.064Z"
   },
   {
    "duration": 5,
    "start_time": "2022-04-02T12:48:12.079Z"
   },
   {
    "duration": 7,
    "start_time": "2022-04-02T12:48:12.086Z"
   },
   {
    "duration": 50,
    "start_time": "2022-04-02T12:48:12.094Z"
   },
   {
    "duration": 5,
    "start_time": "2022-04-02T12:48:12.145Z"
   },
   {
    "duration": 10,
    "start_time": "2022-04-02T12:48:12.152Z"
   },
   {
    "duration": 13,
    "start_time": "2022-04-02T12:48:12.164Z"
   },
   {
    "duration": 4,
    "start_time": "2022-04-02T12:48:12.178Z"
   },
   {
    "duration": 49,
    "start_time": "2022-04-02T12:48:12.184Z"
   },
   {
    "duration": 36,
    "start_time": "2022-04-02T12:48:12.234Z"
   },
   {
    "duration": 8,
    "start_time": "2022-04-02T12:48:12.271Z"
   },
   {
    "duration": 21,
    "start_time": "2022-04-02T12:48:12.280Z"
   },
   {
    "duration": 36,
    "start_time": "2022-04-02T12:48:12.303Z"
   },
   {
    "duration": 15,
    "start_time": "2022-04-02T12:48:12.341Z"
   },
   {
    "duration": 17,
    "start_time": "2022-04-02T12:48:12.357Z"
   },
   {
    "duration": 8,
    "start_time": "2022-04-02T12:48:12.376Z"
   },
   {
    "duration": 17,
    "start_time": "2022-04-02T12:48:12.386Z"
   },
   {
    "duration": 30,
    "start_time": "2022-04-02T12:48:12.404Z"
   },
   {
    "duration": 28,
    "start_time": "2022-04-02T12:48:12.435Z"
   },
   {
    "duration": 7,
    "start_time": "2022-04-02T12:48:12.466Z"
   },
   {
    "duration": 6,
    "start_time": "2022-04-02T12:48:12.475Z"
   },
   {
    "duration": 24,
    "start_time": "2022-04-02T12:48:12.482Z"
   },
   {
    "duration": 28,
    "start_time": "2022-04-02T12:48:12.508Z"
   },
   {
    "duration": 9,
    "start_time": "2022-04-02T12:48:12.537Z"
   },
   {
    "duration": 26,
    "start_time": "2022-04-02T12:48:12.548Z"
   },
   {
    "duration": 13,
    "start_time": "2022-04-02T12:48:12.576Z"
   },
   {
    "duration": 48,
    "start_time": "2022-04-02T12:48:12.591Z"
   },
   {
    "duration": 16,
    "start_time": "2022-04-02T12:49:38.471Z"
   },
   {
    "duration": 12,
    "start_time": "2022-04-02T12:49:41.768Z"
   },
   {
    "duration": 14,
    "start_time": "2022-04-02T12:49:44.202Z"
   },
   {
    "duration": 575,
    "start_time": "2022-04-02T12:49:58.088Z"
   },
   {
    "duration": 17,
    "start_time": "2022-04-02T12:49:58.665Z"
   },
   {
    "duration": 15,
    "start_time": "2022-04-02T12:49:58.684Z"
   },
   {
    "duration": 32,
    "start_time": "2022-04-02T12:49:58.700Z"
   },
   {
    "duration": 6,
    "start_time": "2022-04-02T12:49:58.735Z"
   },
   {
    "duration": 13,
    "start_time": "2022-04-02T12:49:58.743Z"
   },
   {
    "duration": 8,
    "start_time": "2022-04-02T12:49:58.758Z"
   },
   {
    "duration": 11,
    "start_time": "2022-04-02T12:49:58.767Z"
   },
   {
    "duration": 9,
    "start_time": "2022-04-02T12:49:58.780Z"
   },
   {
    "duration": 6,
    "start_time": "2022-04-02T12:49:58.832Z"
   },
   {
    "duration": 10,
    "start_time": "2022-04-02T12:49:58.839Z"
   },
   {
    "duration": 15,
    "start_time": "2022-04-02T12:49:58.851Z"
   },
   {
    "duration": 3,
    "start_time": "2022-04-02T12:49:58.868Z"
   },
   {
    "duration": 6,
    "start_time": "2022-04-02T12:49:58.875Z"
   },
   {
    "duration": 62,
    "start_time": "2022-04-02T12:49:58.882Z"
   },
   {
    "duration": 4,
    "start_time": "2022-04-02T12:49:58.946Z"
   },
   {
    "duration": 30,
    "start_time": "2022-04-02T12:49:58.952Z"
   },
   {
    "duration": 61,
    "start_time": "2022-04-02T12:49:58.984Z"
   },
   {
    "duration": 8,
    "start_time": "2022-04-02T12:49:59.047Z"
   },
   {
    "duration": 23,
    "start_time": "2022-04-02T12:49:59.057Z"
   },
   {
    "duration": 15,
    "start_time": "2022-04-02T12:49:59.081Z"
   },
   {
    "duration": 39,
    "start_time": "2022-04-02T12:49:59.098Z"
   },
   {
    "duration": 14,
    "start_time": "2022-04-02T12:49:59.139Z"
   },
   {
    "duration": 7,
    "start_time": "2022-04-02T12:49:59.155Z"
   },
   {
    "duration": 13,
    "start_time": "2022-04-02T12:49:59.164Z"
   },
   {
    "duration": 4,
    "start_time": "2022-04-02T12:49:59.178Z"
   },
   {
    "duration": 63,
    "start_time": "2022-04-02T12:49:59.183Z"
   },
   {
    "duration": 7,
    "start_time": "2022-04-02T12:49:59.248Z"
   },
   {
    "duration": 5,
    "start_time": "2022-04-02T12:49:59.256Z"
   },
   {
    "duration": 24,
    "start_time": "2022-04-02T12:49:59.263Z"
   },
   {
    "duration": 6,
    "start_time": "2022-04-02T12:49:59.289Z"
   },
   {
    "duration": 6,
    "start_time": "2022-04-02T12:49:59.331Z"
   },
   {
    "duration": 23,
    "start_time": "2022-04-02T12:49:59.339Z"
   },
   {
    "duration": 14,
    "start_time": "2022-04-02T12:49:59.364Z"
   },
   {
    "duration": 53,
    "start_time": "2022-04-02T12:49:59.380Z"
   },
   {
    "duration": 15,
    "start_time": "2022-04-02T12:50:10.271Z"
   },
   {
    "duration": 18,
    "start_time": "2022-04-02T12:50:26.994Z"
   },
   {
    "duration": 4,
    "start_time": "2022-04-02T12:50:40.399Z"
   },
   {
    "duration": 4,
    "start_time": "2022-04-02T12:50:43.028Z"
   },
   {
    "duration": 13,
    "start_time": "2022-04-02T12:50:46.484Z"
   },
   {
    "duration": 4,
    "start_time": "2022-04-02T12:50:48.435Z"
   },
   {
    "duration": 4,
    "start_time": "2022-04-02T12:50:50.315Z"
   },
   {
    "duration": 4,
    "start_time": "2022-04-02T12:50:52.423Z"
   },
   {
    "duration": 4,
    "start_time": "2022-04-02T12:51:12.111Z"
   },
   {
    "duration": 520,
    "start_time": "2022-04-02T12:51:19.640Z"
   },
   {
    "duration": 16,
    "start_time": "2022-04-02T12:51:20.163Z"
   },
   {
    "duration": 28,
    "start_time": "2022-04-02T12:51:20.181Z"
   },
   {
    "duration": 13,
    "start_time": "2022-04-02T12:51:20.211Z"
   },
   {
    "duration": 5,
    "start_time": "2022-04-02T12:51:20.232Z"
   },
   {
    "duration": 13,
    "start_time": "2022-04-02T12:51:20.238Z"
   },
   {
    "duration": 7,
    "start_time": "2022-04-02T12:51:20.253Z"
   },
   {
    "duration": 14,
    "start_time": "2022-04-02T12:51:20.261Z"
   },
   {
    "duration": 9,
    "start_time": "2022-04-02T12:51:20.277Z"
   },
   {
    "duration": 5,
    "start_time": "2022-04-02T12:51:20.290Z"
   },
   {
    "duration": 37,
    "start_time": "2022-04-02T12:51:20.297Z"
   },
   {
    "duration": 16,
    "start_time": "2022-04-02T12:51:20.336Z"
   },
   {
    "duration": 3,
    "start_time": "2022-04-02T12:51:20.353Z"
   },
   {
    "duration": 8,
    "start_time": "2022-04-02T12:51:20.358Z"
   },
   {
    "duration": 12,
    "start_time": "2022-04-02T12:51:20.367Z"
   },
   {
    "duration": 4,
    "start_time": "2022-04-02T12:51:20.380Z"
   },
   {
    "duration": 51,
    "start_time": "2022-04-02T12:51:20.385Z"
   },
   {
    "duration": 32,
    "start_time": "2022-04-02T12:51:20.438Z"
   },
   {
    "duration": 7,
    "start_time": "2022-04-02T12:51:20.472Z"
   },
   {
    "duration": 21,
    "start_time": "2022-04-02T12:51:20.480Z"
   },
   {
    "duration": 37,
    "start_time": "2022-04-02T12:51:20.502Z"
   },
   {
    "duration": 12,
    "start_time": "2022-04-02T12:51:20.540Z"
   },
   {
    "duration": 17,
    "start_time": "2022-04-02T12:51:20.553Z"
   },
   {
    "duration": 8,
    "start_time": "2022-04-02T12:51:20.572Z"
   },
   {
    "duration": 13,
    "start_time": "2022-04-02T12:51:20.582Z"
   },
   {
    "duration": 3,
    "start_time": "2022-04-02T12:51:20.597Z"
   },
   {
    "duration": 53,
    "start_time": "2022-04-02T12:51:20.602Z"
   },
   {
    "duration": 8,
    "start_time": "2022-04-02T12:51:20.658Z"
   },
   {
    "duration": 6,
    "start_time": "2022-04-02T12:51:20.668Z"
   },
   {
    "duration": 23,
    "start_time": "2022-04-02T12:51:20.676Z"
   },
   {
    "duration": 5,
    "start_time": "2022-04-02T12:51:20.701Z"
   },
   {
    "duration": 27,
    "start_time": "2022-04-02T12:51:20.708Z"
   },
   {
    "duration": 23,
    "start_time": "2022-04-02T12:51:20.737Z"
   },
   {
    "duration": 3,
    "start_time": "2022-04-02T12:51:20.762Z"
   },
   {
    "duration": 4,
    "start_time": "2022-04-02T12:51:20.767Z"
   },
   {
    "duration": 4,
    "start_time": "2022-04-02T12:51:24.243Z"
   },
   {
    "duration": 21,
    "start_time": "2022-04-02T12:52:57.163Z"
   },
   {
    "duration": 8,
    "start_time": "2022-04-02T12:53:04.399Z"
   },
   {
    "duration": 18,
    "start_time": "2022-04-02T12:55:07.007Z"
   },
   {
    "duration": 15,
    "start_time": "2022-04-02T12:55:57.923Z"
   },
   {
    "duration": 14,
    "start_time": "2022-04-02T12:57:39.775Z"
   },
   {
    "duration": 22,
    "start_time": "2022-04-02T12:58:54.331Z"
   },
   {
    "duration": 16,
    "start_time": "2022-04-02T12:59:15.875Z"
   },
   {
    "duration": 17,
    "start_time": "2022-04-02T13:05:00.399Z"
   },
   {
    "duration": 23,
    "start_time": "2022-04-02T13:36:42.508Z"
   },
   {
    "duration": 18,
    "start_time": "2022-04-02T13:36:51.804Z"
   },
   {
    "duration": 18,
    "start_time": "2022-04-02T13:37:02.128Z"
   },
   {
    "duration": 14,
    "start_time": "2022-04-02T13:38:24.648Z"
   },
   {
    "duration": 5,
    "start_time": "2022-04-02T13:53:48.723Z"
   },
   {
    "duration": 6,
    "start_time": "2022-04-02T13:53:50.738Z"
   },
   {
    "duration": 531,
    "start_time": "2022-04-02T13:53:57.811Z"
   },
   {
    "duration": 16,
    "start_time": "2022-04-02T13:53:58.344Z"
   },
   {
    "duration": 20,
    "start_time": "2022-04-02T13:53:58.362Z"
   },
   {
    "duration": 30,
    "start_time": "2022-04-02T13:53:58.385Z"
   },
   {
    "duration": 19,
    "start_time": "2022-04-02T13:53:58.416Z"
   },
   {
    "duration": 14,
    "start_time": "2022-04-02T13:53:58.437Z"
   },
   {
    "duration": 6,
    "start_time": "2022-04-02T13:53:58.453Z"
   },
   {
    "duration": 8,
    "start_time": "2022-04-02T13:53:58.460Z"
   },
   {
    "duration": 16,
    "start_time": "2022-04-02T13:53:58.470Z"
   },
   {
    "duration": 3,
    "start_time": "2022-04-02T13:53:58.490Z"
   },
   {
    "duration": 37,
    "start_time": "2022-04-02T13:53:58.495Z"
   },
   {
    "duration": 13,
    "start_time": "2022-04-02T13:53:58.534Z"
   },
   {
    "duration": 6,
    "start_time": "2022-04-02T13:53:58.548Z"
   },
   {
    "duration": 19,
    "start_time": "2022-04-02T13:53:58.555Z"
   },
   {
    "duration": 3,
    "start_time": "2022-04-02T13:53:58.576Z"
   },
   {
    "duration": 52,
    "start_time": "2022-04-02T13:53:58.581Z"
   },
   {
    "duration": 37,
    "start_time": "2022-04-02T13:53:58.634Z"
   },
   {
    "duration": 7,
    "start_time": "2022-04-02T13:53:58.673Z"
   },
   {
    "duration": 25,
    "start_time": "2022-04-02T13:53:58.681Z"
   },
   {
    "duration": 35,
    "start_time": "2022-04-02T13:53:58.707Z"
   },
   {
    "duration": 14,
    "start_time": "2022-04-02T13:53:58.744Z"
   },
   {
    "duration": 20,
    "start_time": "2022-04-02T13:53:58.760Z"
   },
   {
    "duration": 8,
    "start_time": "2022-04-02T13:53:58.781Z"
   },
   {
    "duration": 16,
    "start_time": "2022-04-02T13:53:58.791Z"
   },
   {
    "duration": 4,
    "start_time": "2022-04-02T13:53:58.808Z"
   },
   {
    "duration": 21,
    "start_time": "2022-04-02T13:53:58.831Z"
   },
   {
    "duration": 8,
    "start_time": "2022-04-02T13:53:58.854Z"
   },
   {
    "duration": 4,
    "start_time": "2022-04-02T13:53:58.865Z"
   },
   {
    "duration": 26,
    "start_time": "2022-04-02T13:53:58.870Z"
   },
   {
    "duration": 5,
    "start_time": "2022-04-02T13:53:58.898Z"
   },
   {
    "duration": 6,
    "start_time": "2022-04-02T13:53:58.932Z"
   },
   {
    "duration": 23,
    "start_time": "2022-04-02T13:53:58.939Z"
   },
   {
    "duration": 14,
    "start_time": "2022-04-02T13:53:58.964Z"
   },
   {
    "duration": 16,
    "start_time": "2022-04-02T13:53:58.980Z"
   },
   {
    "duration": 46,
    "start_time": "2022-04-02T13:53:58.997Z"
   },
   {
    "duration": 2,
    "start_time": "2022-04-02T14:09:14.527Z"
   },
   {
    "duration": 3,
    "start_time": "2022-04-02T14:09:17.763Z"
   },
   {
    "duration": 522,
    "start_time": "2022-04-02T14:42:38.536Z"
   },
   {
    "duration": 17,
    "start_time": "2022-04-02T14:42:39.060Z"
   },
   {
    "duration": 22,
    "start_time": "2022-04-02T14:42:39.080Z"
   },
   {
    "duration": 27,
    "start_time": "2022-04-02T14:42:39.105Z"
   },
   {
    "duration": 5,
    "start_time": "2022-04-02T14:42:39.134Z"
   },
   {
    "duration": 22,
    "start_time": "2022-04-02T14:42:39.141Z"
   },
   {
    "duration": 7,
    "start_time": "2022-04-02T14:42:39.165Z"
   },
   {
    "duration": 9,
    "start_time": "2022-04-02T14:42:39.174Z"
   },
   {
    "duration": 19,
    "start_time": "2022-04-02T14:42:39.184Z"
   },
   {
    "duration": 27,
    "start_time": "2022-04-02T14:42:39.206Z"
   },
   {
    "duration": 11,
    "start_time": "2022-04-02T14:42:39.235Z"
   },
   {
    "duration": 16,
    "start_time": "2022-04-02T14:42:39.248Z"
   },
   {
    "duration": 6,
    "start_time": "2022-04-02T14:42:39.265Z"
   },
   {
    "duration": 19,
    "start_time": "2022-04-02T14:42:39.273Z"
   },
   {
    "duration": 4,
    "start_time": "2022-04-02T14:42:39.294Z"
   },
   {
    "duration": 21,
    "start_time": "2022-04-02T14:42:39.332Z"
   },
   {
    "duration": 40,
    "start_time": "2022-04-02T14:42:39.355Z"
   },
   {
    "duration": 8,
    "start_time": "2022-04-02T14:42:39.397Z"
   },
   {
    "duration": 43,
    "start_time": "2022-04-02T14:42:39.407Z"
   },
   {
    "duration": 15,
    "start_time": "2022-04-02T14:42:39.452Z"
   },
   {
    "duration": 14,
    "start_time": "2022-04-02T14:42:39.469Z"
   },
   {
    "duration": 16,
    "start_time": "2022-04-02T14:42:39.485Z"
   },
   {
    "duration": 10,
    "start_time": "2022-04-02T14:42:39.532Z"
   },
   {
    "duration": 29,
    "start_time": "2022-04-02T14:42:39.544Z"
   },
   {
    "duration": 4,
    "start_time": "2022-04-02T14:42:39.575Z"
   },
   {
    "duration": 25,
    "start_time": "2022-04-02T14:42:39.581Z"
   },
   {
    "duration": 26,
    "start_time": "2022-04-02T14:42:39.608Z"
   },
   {
    "duration": 7,
    "start_time": "2022-04-02T14:42:39.638Z"
   },
   {
    "duration": 29,
    "start_time": "2022-04-02T14:42:39.646Z"
   },
   {
    "duration": 18,
    "start_time": "2022-04-02T14:42:39.677Z"
   },
   {
    "duration": 35,
    "start_time": "2022-04-02T14:42:39.697Z"
   },
   {
    "duration": 18,
    "start_time": "2022-04-02T14:42:39.733Z"
   },
   {
    "duration": 17,
    "start_time": "2022-04-02T14:42:39.753Z"
   },
   {
    "duration": 46,
    "start_time": "2022-04-13T01:51:41.106Z"
   },
   {
    "duration": 443,
    "start_time": "2022-04-13T01:51:50.308Z"
   },
   {
    "duration": 13,
    "start_time": "2022-04-13T01:51:50.753Z"
   },
   {
    "duration": 11,
    "start_time": "2022-04-13T01:51:50.767Z"
   },
   {
    "duration": 12,
    "start_time": "2022-04-13T01:51:50.779Z"
   },
   {
    "duration": 4,
    "start_time": "2022-04-13T01:51:50.792Z"
   },
   {
    "duration": 14,
    "start_time": "2022-04-13T01:51:50.797Z"
   },
   {
    "duration": 5,
    "start_time": "2022-04-13T01:51:50.813Z"
   },
   {
    "duration": 34,
    "start_time": "2022-04-13T01:51:50.820Z"
   },
   {
    "duration": 13,
    "start_time": "2022-04-13T01:51:50.856Z"
   },
   {
    "duration": 5,
    "start_time": "2022-04-13T01:51:50.871Z"
   },
   {
    "duration": 7,
    "start_time": "2022-04-13T01:51:50.877Z"
   },
   {
    "duration": 10,
    "start_time": "2022-04-13T01:51:50.885Z"
   },
   {
    "duration": 5,
    "start_time": "2022-04-13T01:51:50.896Z"
   },
   {
    "duration": 15,
    "start_time": "2022-04-13T01:51:50.902Z"
   },
   {
    "duration": 6,
    "start_time": "2022-04-13T01:51:50.918Z"
   },
   {
    "duration": 3,
    "start_time": "2022-04-13T01:51:50.954Z"
   },
   {
    "duration": 19,
    "start_time": "2022-04-13T01:51:50.959Z"
   },
   {
    "duration": 32,
    "start_time": "2022-04-13T01:51:50.979Z"
   },
   {
    "duration": 8,
    "start_time": "2022-04-13T01:51:51.012Z"
   },
   {
    "duration": 43,
    "start_time": "2022-04-13T01:51:51.021Z"
   },
   {
    "duration": 12,
    "start_time": "2022-04-13T01:51:51.066Z"
   },
   {
    "duration": 10,
    "start_time": "2022-04-13T01:51:51.079Z"
   },
   {
    "duration": 13,
    "start_time": "2022-04-13T01:51:51.090Z"
   },
   {
    "duration": 6,
    "start_time": "2022-04-13T01:51:51.105Z"
   },
   {
    "duration": 11,
    "start_time": "2022-04-13T01:51:51.113Z"
   },
   {
    "duration": 28,
    "start_time": "2022-04-13T01:51:51.126Z"
   },
   {
    "duration": 19,
    "start_time": "2022-04-13T01:51:51.156Z"
   },
   {
    "duration": 6,
    "start_time": "2022-04-13T01:51:51.178Z"
   },
   {
    "duration": 6,
    "start_time": "2022-04-13T01:51:51.185Z"
   },
   {
    "duration": 19,
    "start_time": "2022-04-13T01:51:51.192Z"
   },
   {
    "duration": 13,
    "start_time": "2022-04-13T01:51:51.212Z"
   },
   {
    "duration": 12,
    "start_time": "2022-04-13T01:51:51.254Z"
   },
   {
    "duration": 13,
    "start_time": "2022-04-13T01:51:51.267Z"
   },
   {
    "duration": 12,
    "start_time": "2022-04-13T01:51:51.281Z"
   },
   {
    "duration": 6,
    "start_time": "2022-04-13T01:59:29.472Z"
   },
   {
    "duration": 432,
    "start_time": "2022-04-13T02:19:13.607Z"
   },
   {
    "duration": 19,
    "start_time": "2022-04-13T02:19:14.041Z"
   },
   {
    "duration": 13,
    "start_time": "2022-04-13T02:19:14.062Z"
   },
   {
    "duration": 11,
    "start_time": "2022-04-13T02:19:14.077Z"
   },
   {
    "duration": 4,
    "start_time": "2022-04-13T02:19:14.090Z"
   },
   {
    "duration": 12,
    "start_time": "2022-04-13T02:19:14.096Z"
   },
   {
    "duration": 5,
    "start_time": "2022-04-13T02:19:14.110Z"
   },
   {
    "duration": 42,
    "start_time": "2022-04-13T02:19:14.117Z"
   },
   {
    "duration": 15,
    "start_time": "2022-04-13T02:19:14.161Z"
   },
   {
    "duration": 3,
    "start_time": "2022-04-13T02:19:14.178Z"
   },
   {
    "duration": 6,
    "start_time": "2022-04-13T02:19:14.182Z"
   },
   {
    "duration": 13,
    "start_time": "2022-04-13T02:19:14.190Z"
   },
   {
    "duration": 4,
    "start_time": "2022-04-13T02:19:14.205Z"
   },
   {
    "duration": 16,
    "start_time": "2022-04-13T02:19:14.211Z"
   },
   {
    "duration": 7,
    "start_time": "2022-04-13T02:19:14.254Z"
   },
   {
    "duration": 7,
    "start_time": "2022-04-13T02:19:14.262Z"
   },
   {
    "duration": 6,
    "start_time": "2022-04-13T02:19:14.270Z"
   },
   {
    "duration": 20,
    "start_time": "2022-04-13T02:19:14.277Z"
   },
   {
    "duration": 33,
    "start_time": "2022-04-13T02:19:14.298Z"
   },
   {
    "duration": 28,
    "start_time": "2022-04-13T02:19:14.332Z"
   },
   {
    "duration": 18,
    "start_time": "2022-04-13T02:19:14.361Z"
   },
   {
    "duration": 18,
    "start_time": "2022-04-13T02:19:14.380Z"
   },
   {
    "duration": 12,
    "start_time": "2022-04-13T02:19:14.399Z"
   },
   {
    "duration": 14,
    "start_time": "2022-04-13T02:19:14.412Z"
   },
   {
    "duration": 10,
    "start_time": "2022-04-13T02:19:14.427Z"
   },
   {
    "duration": 9,
    "start_time": "2022-04-13T02:19:14.455Z"
   },
   {
    "duration": 3,
    "start_time": "2022-04-13T02:19:14.466Z"
   },
   {
    "duration": 17,
    "start_time": "2022-04-13T02:19:14.472Z"
   },
   {
    "duration": 7,
    "start_time": "2022-04-13T02:19:14.490Z"
   },
   {
    "duration": 4,
    "start_time": "2022-04-13T02:19:14.498Z"
   },
   {
    "duration": 23,
    "start_time": "2022-04-13T02:19:14.503Z"
   },
   {
    "duration": 40,
    "start_time": "2022-04-13T02:19:14.527Z"
   },
   {
    "duration": 11,
    "start_time": "2022-04-13T02:19:14.568Z"
   },
   {
    "duration": 11,
    "start_time": "2022-04-13T02:19:14.581Z"
   },
   {
    "duration": 11,
    "start_time": "2022-04-13T02:19:14.594Z"
   }
  ],
  "kernelspec": {
   "display_name": "Python 3.9.7 (conda)",
   "language": "python",
   "name": "python3"
  },
  "language_info": {
   "codemirror_mode": {
    "name": "ipython",
    "version": 3
   },
   "file_extension": ".py",
   "mimetype": "text/x-python",
   "name": "python",
   "nbconvert_exporter": "python",
   "pygments_lexer": "ipython3",
   "version": "3.9.7"
  },
  "toc": {
   "base_numbering": 1,
   "nav_menu": {
    "height": "260px",
    "width": "271px"
   },
   "number_sections": true,
   "sideBar": true,
   "skip_h1_title": true,
   "title_cell": "Table of Contents",
   "title_sidebar": "Contents",
   "toc_cell": false,
   "toc_position": {},
   "toc_section_display": true,
   "toc_window_display": false
  },
  "vscode": {
   "interpreter": {
    "hash": "b80f4d5c14ea3e8caf583296ef2c7ece2b48b85a9d5cc66fe87cbdb2934101be"
   }
  }
 },
 "nbformat": 4,
 "nbformat_minor": 5
}
