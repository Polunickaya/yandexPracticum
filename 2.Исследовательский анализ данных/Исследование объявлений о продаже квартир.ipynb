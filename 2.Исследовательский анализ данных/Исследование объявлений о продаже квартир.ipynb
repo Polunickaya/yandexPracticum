{
 "cells": [
  {
   "cell_type": "markdown",
   "metadata": {},
   "source": [
    "# Исследование объявлений о продаже квартир\n",
    "\n",
    "В нашем распоряжении данные сервиса Яндекc Недвижимость — архив объявлений о продаже квартир в Санкт-Петербурге и соседних населённых пунктах за несколько лет. Нужно научиться определять рыночную стоимость объектов недвижимости. \n",
    "\n",
    "По каждой квартире на продажу доступны два вида данных. Первые вписаны пользователем, вторые получены автоматически на основе картографических данных. Например, расстояние до центра, аэропорта, ближайшего парка и водоёма. \n",
    "\n",
    "**Цель исследования** - научиться определять рыночную стоимость объектов недвижимости. \n",
    "\n",
    "\n",
    "**Задача** — установить параметры, которые позволят построить автоматизированную систему: она отследит аномалии и мошенническую деятельность.\n",
    "\n",
    "\n",
    "**Ход исследования**\n",
    "\n",
    "Данные поличим из файла /datasets/real_estate_data.csv. О качестве данных ничего не известно. Поэтому перед проверкой гипотез понадобится обзор данных.  \n",
    "\n",
    "\n",
    "Таким образом, исследование пройдёт в четыре этапа:\n",
    " 1. Изучение данных из файла.\n",
    " 2. Предобработка данных.\n",
    " 3. Расчёты и добавление результатов в таблицу.\n",
    " 4. Исследовательский анализ данных.\n",
    " 5. Вывод."
   ]
  },
  {
   "cell_type": "markdown",
   "metadata": {},
   "source": [
    "## Изучение данных из файла"
   ]
  },
  {
   "cell_type": "code",
   "execution_count": 1,
   "metadata": {},
   "outputs": [],
   "source": [
    "import warnings #импортируем управление предупреждениями\n",
    "warnings.filterwarnings('ignore') #просим игнорировать предупреждения\n",
    "import matplotlib.pyplot as plt # импортируем библиотеку matplotlib \n",
    "import pandas as pd #импорт библиотеки pandas\n",
    "data = pd.read_csv('/datasets/real_estate_data.csv', sep='\\t') #чтение файла с данными и сохранение в data "
   ]
  },
  {
   "cell_type": "markdown",
   "metadata": {},
   "source": [
    "Для начала ознакомимся с нашими данными."
   ]
  },
  {
   "cell_type": "code",
   "execution_count": 2,
   "metadata": {},
   "outputs": [
    {
     "data": {
      "text/html": [
       "<div>\n",
       "<style scoped>\n",
       "    .dataframe tbody tr th:only-of-type {\n",
       "        vertical-align: middle;\n",
       "    }\n",
       "\n",
       "    .dataframe tbody tr th {\n",
       "        vertical-align: top;\n",
       "    }\n",
       "\n",
       "    .dataframe thead th {\n",
       "        text-align: right;\n",
       "    }\n",
       "</style>\n",
       "<table border=\"1\" class=\"dataframe\">\n",
       "  <thead>\n",
       "    <tr style=\"text-align: right;\">\n",
       "      <th></th>\n",
       "      <th>total_images</th>\n",
       "      <th>last_price</th>\n",
       "      <th>total_area</th>\n",
       "      <th>first_day_exposition</th>\n",
       "      <th>rooms</th>\n",
       "      <th>ceiling_height</th>\n",
       "      <th>floors_total</th>\n",
       "      <th>living_area</th>\n",
       "      <th>floor</th>\n",
       "      <th>is_apartment</th>\n",
       "      <th>...</th>\n",
       "      <th>kitchen_area</th>\n",
       "      <th>balcony</th>\n",
       "      <th>locality_name</th>\n",
       "      <th>airports_nearest</th>\n",
       "      <th>cityCenters_nearest</th>\n",
       "      <th>parks_around3000</th>\n",
       "      <th>parks_nearest</th>\n",
       "      <th>ponds_around3000</th>\n",
       "      <th>ponds_nearest</th>\n",
       "      <th>days_exposition</th>\n",
       "    </tr>\n",
       "  </thead>\n",
       "  <tbody>\n",
       "    <tr>\n",
       "      <th>0</th>\n",
       "      <td>20</td>\n",
       "      <td>13000000.0</td>\n",
       "      <td>108.00</td>\n",
       "      <td>2019-03-07T00:00:00</td>\n",
       "      <td>3</td>\n",
       "      <td>2.70</td>\n",
       "      <td>16.0</td>\n",
       "      <td>51.00</td>\n",
       "      <td>8</td>\n",
       "      <td>NaN</td>\n",
       "      <td>...</td>\n",
       "      <td>25.00</td>\n",
       "      <td>NaN</td>\n",
       "      <td>Санкт-Петербург</td>\n",
       "      <td>18863.0</td>\n",
       "      <td>16028.0</td>\n",
       "      <td>1.0</td>\n",
       "      <td>482.0</td>\n",
       "      <td>2.0</td>\n",
       "      <td>755.0</td>\n",
       "      <td>NaN</td>\n",
       "    </tr>\n",
       "    <tr>\n",
       "      <th>1</th>\n",
       "      <td>7</td>\n",
       "      <td>3350000.0</td>\n",
       "      <td>40.40</td>\n",
       "      <td>2018-12-04T00:00:00</td>\n",
       "      <td>1</td>\n",
       "      <td>NaN</td>\n",
       "      <td>11.0</td>\n",
       "      <td>18.60</td>\n",
       "      <td>1</td>\n",
       "      <td>NaN</td>\n",
       "      <td>...</td>\n",
       "      <td>11.00</td>\n",
       "      <td>2.0</td>\n",
       "      <td>посёлок Шушары</td>\n",
       "      <td>12817.0</td>\n",
       "      <td>18603.0</td>\n",
       "      <td>0.0</td>\n",
       "      <td>NaN</td>\n",
       "      <td>0.0</td>\n",
       "      <td>NaN</td>\n",
       "      <td>81.0</td>\n",
       "    </tr>\n",
       "    <tr>\n",
       "      <th>2</th>\n",
       "      <td>10</td>\n",
       "      <td>5196000.0</td>\n",
       "      <td>56.00</td>\n",
       "      <td>2015-08-20T00:00:00</td>\n",
       "      <td>2</td>\n",
       "      <td>NaN</td>\n",
       "      <td>5.0</td>\n",
       "      <td>34.30</td>\n",
       "      <td>4</td>\n",
       "      <td>NaN</td>\n",
       "      <td>...</td>\n",
       "      <td>8.30</td>\n",
       "      <td>0.0</td>\n",
       "      <td>Санкт-Петербург</td>\n",
       "      <td>21741.0</td>\n",
       "      <td>13933.0</td>\n",
       "      <td>1.0</td>\n",
       "      <td>90.0</td>\n",
       "      <td>2.0</td>\n",
       "      <td>574.0</td>\n",
       "      <td>558.0</td>\n",
       "    </tr>\n",
       "    <tr>\n",
       "      <th>3</th>\n",
       "      <td>0</td>\n",
       "      <td>64900000.0</td>\n",
       "      <td>159.00</td>\n",
       "      <td>2015-07-24T00:00:00</td>\n",
       "      <td>3</td>\n",
       "      <td>NaN</td>\n",
       "      <td>14.0</td>\n",
       "      <td>NaN</td>\n",
       "      <td>9</td>\n",
       "      <td>NaN</td>\n",
       "      <td>...</td>\n",
       "      <td>NaN</td>\n",
       "      <td>0.0</td>\n",
       "      <td>Санкт-Петербург</td>\n",
       "      <td>28098.0</td>\n",
       "      <td>6800.0</td>\n",
       "      <td>2.0</td>\n",
       "      <td>84.0</td>\n",
       "      <td>3.0</td>\n",
       "      <td>234.0</td>\n",
       "      <td>424.0</td>\n",
       "    </tr>\n",
       "    <tr>\n",
       "      <th>4</th>\n",
       "      <td>2</td>\n",
       "      <td>10000000.0</td>\n",
       "      <td>100.00</td>\n",
       "      <td>2018-06-19T00:00:00</td>\n",
       "      <td>2</td>\n",
       "      <td>3.03</td>\n",
       "      <td>14.0</td>\n",
       "      <td>32.00</td>\n",
       "      <td>13</td>\n",
       "      <td>NaN</td>\n",
       "      <td>...</td>\n",
       "      <td>41.00</td>\n",
       "      <td>NaN</td>\n",
       "      <td>Санкт-Петербург</td>\n",
       "      <td>31856.0</td>\n",
       "      <td>8098.0</td>\n",
       "      <td>2.0</td>\n",
       "      <td>112.0</td>\n",
       "      <td>1.0</td>\n",
       "      <td>48.0</td>\n",
       "      <td>121.0</td>\n",
       "    </tr>\n",
       "    <tr>\n",
       "      <th>5</th>\n",
       "      <td>10</td>\n",
       "      <td>2890000.0</td>\n",
       "      <td>30.40</td>\n",
       "      <td>2018-09-10T00:00:00</td>\n",
       "      <td>1</td>\n",
       "      <td>NaN</td>\n",
       "      <td>12.0</td>\n",
       "      <td>14.40</td>\n",
       "      <td>5</td>\n",
       "      <td>NaN</td>\n",
       "      <td>...</td>\n",
       "      <td>9.10</td>\n",
       "      <td>NaN</td>\n",
       "      <td>городской посёлок Янино-1</td>\n",
       "      <td>NaN</td>\n",
       "      <td>NaN</td>\n",
       "      <td>NaN</td>\n",
       "      <td>NaN</td>\n",
       "      <td>NaN</td>\n",
       "      <td>NaN</td>\n",
       "      <td>55.0</td>\n",
       "    </tr>\n",
       "    <tr>\n",
       "      <th>6</th>\n",
       "      <td>6</td>\n",
       "      <td>3700000.0</td>\n",
       "      <td>37.30</td>\n",
       "      <td>2017-11-02T00:00:00</td>\n",
       "      <td>1</td>\n",
       "      <td>NaN</td>\n",
       "      <td>26.0</td>\n",
       "      <td>10.60</td>\n",
       "      <td>6</td>\n",
       "      <td>NaN</td>\n",
       "      <td>...</td>\n",
       "      <td>14.40</td>\n",
       "      <td>1.0</td>\n",
       "      <td>посёлок Парголово</td>\n",
       "      <td>52996.0</td>\n",
       "      <td>19143.0</td>\n",
       "      <td>0.0</td>\n",
       "      <td>NaN</td>\n",
       "      <td>0.0</td>\n",
       "      <td>NaN</td>\n",
       "      <td>155.0</td>\n",
       "    </tr>\n",
       "    <tr>\n",
       "      <th>7</th>\n",
       "      <td>5</td>\n",
       "      <td>7915000.0</td>\n",
       "      <td>71.60</td>\n",
       "      <td>2019-04-18T00:00:00</td>\n",
       "      <td>2</td>\n",
       "      <td>NaN</td>\n",
       "      <td>24.0</td>\n",
       "      <td>NaN</td>\n",
       "      <td>22</td>\n",
       "      <td>NaN</td>\n",
       "      <td>...</td>\n",
       "      <td>18.90</td>\n",
       "      <td>2.0</td>\n",
       "      <td>Санкт-Петербург</td>\n",
       "      <td>23982.0</td>\n",
       "      <td>11634.0</td>\n",
       "      <td>0.0</td>\n",
       "      <td>NaN</td>\n",
       "      <td>0.0</td>\n",
       "      <td>NaN</td>\n",
       "      <td>NaN</td>\n",
       "    </tr>\n",
       "    <tr>\n",
       "      <th>8</th>\n",
       "      <td>20</td>\n",
       "      <td>2900000.0</td>\n",
       "      <td>33.16</td>\n",
       "      <td>2018-05-23T00:00:00</td>\n",
       "      <td>1</td>\n",
       "      <td>NaN</td>\n",
       "      <td>27.0</td>\n",
       "      <td>15.43</td>\n",
       "      <td>26</td>\n",
       "      <td>NaN</td>\n",
       "      <td>...</td>\n",
       "      <td>8.81</td>\n",
       "      <td>NaN</td>\n",
       "      <td>посёлок Мурино</td>\n",
       "      <td>NaN</td>\n",
       "      <td>NaN</td>\n",
       "      <td>NaN</td>\n",
       "      <td>NaN</td>\n",
       "      <td>NaN</td>\n",
       "      <td>NaN</td>\n",
       "      <td>189.0</td>\n",
       "    </tr>\n",
       "    <tr>\n",
       "      <th>9</th>\n",
       "      <td>18</td>\n",
       "      <td>5400000.0</td>\n",
       "      <td>61.00</td>\n",
       "      <td>2017-02-26T00:00:00</td>\n",
       "      <td>3</td>\n",
       "      <td>2.50</td>\n",
       "      <td>9.0</td>\n",
       "      <td>43.60</td>\n",
       "      <td>7</td>\n",
       "      <td>NaN</td>\n",
       "      <td>...</td>\n",
       "      <td>6.50</td>\n",
       "      <td>2.0</td>\n",
       "      <td>Санкт-Петербург</td>\n",
       "      <td>50898.0</td>\n",
       "      <td>15008.0</td>\n",
       "      <td>0.0</td>\n",
       "      <td>NaN</td>\n",
       "      <td>0.0</td>\n",
       "      <td>NaN</td>\n",
       "      <td>289.0</td>\n",
       "    </tr>\n",
       "  </tbody>\n",
       "</table>\n",
       "<p>10 rows × 22 columns</p>\n",
       "</div>"
      ],
      "text/plain": [
       "   total_images  last_price  total_area first_day_exposition  rooms  \\\n",
       "0            20  13000000.0      108.00  2019-03-07T00:00:00      3   \n",
       "1             7   3350000.0       40.40  2018-12-04T00:00:00      1   \n",
       "2            10   5196000.0       56.00  2015-08-20T00:00:00      2   \n",
       "3             0  64900000.0      159.00  2015-07-24T00:00:00      3   \n",
       "4             2  10000000.0      100.00  2018-06-19T00:00:00      2   \n",
       "5            10   2890000.0       30.40  2018-09-10T00:00:00      1   \n",
       "6             6   3700000.0       37.30  2017-11-02T00:00:00      1   \n",
       "7             5   7915000.0       71.60  2019-04-18T00:00:00      2   \n",
       "8            20   2900000.0       33.16  2018-05-23T00:00:00      1   \n",
       "9            18   5400000.0       61.00  2017-02-26T00:00:00      3   \n",
       "\n",
       "   ceiling_height  floors_total  living_area  floor is_apartment  ...  \\\n",
       "0            2.70          16.0        51.00      8          NaN  ...   \n",
       "1             NaN          11.0        18.60      1          NaN  ...   \n",
       "2             NaN           5.0        34.30      4          NaN  ...   \n",
       "3             NaN          14.0          NaN      9          NaN  ...   \n",
       "4            3.03          14.0        32.00     13          NaN  ...   \n",
       "5             NaN          12.0        14.40      5          NaN  ...   \n",
       "6             NaN          26.0        10.60      6          NaN  ...   \n",
       "7             NaN          24.0          NaN     22          NaN  ...   \n",
       "8             NaN          27.0        15.43     26          NaN  ...   \n",
       "9            2.50           9.0        43.60      7          NaN  ...   \n",
       "\n",
       "   kitchen_area  balcony              locality_name  airports_nearest  \\\n",
       "0         25.00      NaN            Санкт-Петербург           18863.0   \n",
       "1         11.00      2.0             посёлок Шушары           12817.0   \n",
       "2          8.30      0.0            Санкт-Петербург           21741.0   \n",
       "3           NaN      0.0            Санкт-Петербург           28098.0   \n",
       "4         41.00      NaN            Санкт-Петербург           31856.0   \n",
       "5          9.10      NaN  городской посёлок Янино-1               NaN   \n",
       "6         14.40      1.0          посёлок Парголово           52996.0   \n",
       "7         18.90      2.0            Санкт-Петербург           23982.0   \n",
       "8          8.81      NaN             посёлок Мурино               NaN   \n",
       "9          6.50      2.0            Санкт-Петербург           50898.0   \n",
       "\n",
       "  cityCenters_nearest  parks_around3000  parks_nearest  ponds_around3000  \\\n",
       "0             16028.0               1.0          482.0               2.0   \n",
       "1             18603.0               0.0            NaN               0.0   \n",
       "2             13933.0               1.0           90.0               2.0   \n",
       "3              6800.0               2.0           84.0               3.0   \n",
       "4              8098.0               2.0          112.0               1.0   \n",
       "5                 NaN               NaN            NaN               NaN   \n",
       "6             19143.0               0.0            NaN               0.0   \n",
       "7             11634.0               0.0            NaN               0.0   \n",
       "8                 NaN               NaN            NaN               NaN   \n",
       "9             15008.0               0.0            NaN               0.0   \n",
       "\n",
       "   ponds_nearest  days_exposition  \n",
       "0          755.0              NaN  \n",
       "1            NaN             81.0  \n",
       "2          574.0            558.0  \n",
       "3          234.0            424.0  \n",
       "4           48.0            121.0  \n",
       "5            NaN             55.0  \n",
       "6            NaN            155.0  \n",
       "7            NaN              NaN  \n",
       "8            NaN            189.0  \n",
       "9            NaN            289.0  \n",
       "\n",
       "[10 rows x 22 columns]"
      ]
     },
     "execution_count": 2,
     "metadata": {},
     "output_type": "execute_result"
    }
   ],
   "source": [
    "data.head(10) #получение первых 10 строк таблицы data"
   ]
  },
  {
   "cell_type": "code",
   "execution_count": 3,
   "metadata": {},
   "outputs": [
    {
     "name": "stdout",
     "output_type": "stream",
     "text": [
      "<class 'pandas.core.frame.DataFrame'>\n",
      "RangeIndex: 23699 entries, 0 to 23698\n",
      "Data columns (total 22 columns):\n",
      " #   Column                Non-Null Count  Dtype  \n",
      "---  ------                --------------  -----  \n",
      " 0   total_images          23699 non-null  int64  \n",
      " 1   last_price            23699 non-null  float64\n",
      " 2   total_area            23699 non-null  float64\n",
      " 3   first_day_exposition  23699 non-null  object \n",
      " 4   rooms                 23699 non-null  int64  \n",
      " 5   ceiling_height        14504 non-null  float64\n",
      " 6   floors_total          23613 non-null  float64\n",
      " 7   living_area           21796 non-null  float64\n",
      " 8   floor                 23699 non-null  int64  \n",
      " 9   is_apartment          2775 non-null   object \n",
      " 10  studio                23699 non-null  bool   \n",
      " 11  open_plan             23699 non-null  bool   \n",
      " 12  kitchen_area          21421 non-null  float64\n",
      " 13  balcony               12180 non-null  float64\n",
      " 14  locality_name         23650 non-null  object \n",
      " 15  airports_nearest      18157 non-null  float64\n",
      " 16  cityCenters_nearest   18180 non-null  float64\n",
      " 17  parks_around3000      18181 non-null  float64\n",
      " 18  parks_nearest         8079 non-null   float64\n",
      " 19  ponds_around3000      18181 non-null  float64\n",
      " 20  ponds_nearest         9110 non-null   float64\n",
      " 21  days_exposition       20518 non-null  float64\n",
      "dtypes: bool(2), float64(14), int64(3), object(3)\n",
      "memory usage: 3.7+ MB\n"
     ]
    }
   ],
   "source": [
    "data.info() #получение общей информации о данных в таблице data"
   ]
  },
  {
   "cell_type": "markdown",
   "metadata": {},
   "source": [
    "### Вывод"
   ]
  },
  {
   "cell_type": "markdown",
   "metadata": {},
   "source": [
    "Итак, в таблице 22 столбца. Тип данных в большинстве столбцах — float64, но также присутствует тип bool, int64 и object.\n",
    "\n",
    "Согласно документации к данным:\n",
    "\n",
    "* `airports_nearest` — расстояние до ближайшего аэропорта в метрах (м)\n",
    "* `balcony` — число балконов\n",
    "* `ceiling_height` — высота потолков (м)\n",
    "* `cityCenters_nearest` — расстояние до центра города (м)\n",
    "* `days_exposition` — сколько дней было размещено объявление (от публикации до снятия)\n",
    "* `first_day_exposition` — дата публикации\n",
    "* `floor` — этаж\n",
    "* `floors_total` — всего этажей в доме\n",
    "* `is_apartment` — апартаменты (булев тип)\n",
    "* `kitchen_area` — площадь кухни в квадратных метрах (м²)\n",
    "* `last_price` — цена на момент снятия с публикации\n",
    "* `living_area` — жилая площадь в квадратных метрах (м²)\n",
    "* `locality_name` — название населённого пункта\n",
    "* `open_plan` — свободная планировка (булев тип)\n",
    "* `parks_around3000` — число парков в радиусе 3 км\n",
    "* `parks_nearest` — расстояние до ближайшего парка (м)\n",
    "* `ponds_around3000` — число водоёмов в радиусе 3 км\n",
    "* `ponds_nearest` — расстояние до ближайшего водоёма (м)\n",
    "* `rooms` — число комнат\n",
    "* `studio` — квартира-студия (булев тип)\n",
    "* `total_area` — площадь квартиры в квадратных метрах (м²)\n",
    "* `total_images` — число фотографий квартиры в объявлении\n",
    "В названиях колонок видим нарушение стиля - строчные буквы сочетаются с прописными.\n",
    "\n",
    "Количество значений в столбцах различается. Значит, в данных есть пропущенные значения.\n",
    "\n",
    "Также сразу видно, что в столбце `is_apartment` должен быть булев тип по документации, а по общей информации из таблицы видим, что значение в этом столбце object. \n",
    "\n",
    "Выводы\n",
    "\n",
    "Предварительно можно утверждать, что данных достаточно для анализа, но встречаются пропуски в данных, с чем предстоит разобраться.\n",
    "\n",
    "Чтобы двигаться дальше, нужно устранить проблемы в данных."
   ]
  },
  {
   "cell_type": "markdown",
   "metadata": {},
   "source": [
    "## Предобработка данных"
   ]
  },
  {
   "cell_type": "markdown",
   "metadata": {},
   "source": [
    "###  Пропуски значений"
   ]
  },
  {
   "cell_type": "markdown",
   "metadata": {},
   "source": [
    "Изучим пропущенные значение в таблице методом isna()"
   ]
  },
  {
   "cell_type": "code",
   "execution_count": 4,
   "metadata": {},
   "outputs": [
    {
     "data": {
      "text/plain": [
       "total_images                0\n",
       "last_price                  0\n",
       "total_area                  0\n",
       "first_day_exposition        0\n",
       "rooms                       0\n",
       "ceiling_height           9195\n",
       "floors_total               86\n",
       "living_area              1903\n",
       "floor                       0\n",
       "is_apartment            20924\n",
       "studio                      0\n",
       "open_plan                   0\n",
       "kitchen_area             2278\n",
       "balcony                 11519\n",
       "locality_name              49\n",
       "airports_nearest         5542\n",
       "cityCenters_nearest      5519\n",
       "parks_around3000         5518\n",
       "parks_nearest           15620\n",
       "ponds_around3000         5518\n",
       "ponds_nearest           14589\n",
       "days_exposition          3181\n",
       "dtype: int64"
      ]
     },
     "execution_count": 4,
     "metadata": {},
     "output_type": "execute_result"
    }
   ],
   "source": [
    "data.isna().sum() #количество пропусков"
   ]
  },
  {
   "cell_type": "code",
   "execution_count": 5,
   "metadata": {},
   "outputs": [
    {
     "data": {
      "text/plain": [
       "total_images             0.00\n",
       "last_price               0.00\n",
       "total_area               0.00\n",
       "first_day_exposition     0.00\n",
       "rooms                    0.00\n",
       "ceiling_height          38.80\n",
       "floors_total             0.36\n",
       "living_area              8.03\n",
       "floor                    0.00\n",
       "is_apartment            88.29\n",
       "studio                   0.00\n",
       "open_plan                0.00\n",
       "kitchen_area             9.61\n",
       "balcony                 48.61\n",
       "locality_name            0.21\n",
       "airports_nearest        23.38\n",
       "cityCenters_nearest     23.29\n",
       "parks_around3000        23.28\n",
       "parks_nearest           65.91\n",
       "ponds_around3000        23.28\n",
       "ponds_nearest           61.56\n",
       "days_exposition         13.42\n",
       "dtype: float64"
      ]
     },
     "execution_count": 5,
     "metadata": {},
     "output_type": "execute_result"
    }
   ],
   "source": [
    "round(data.isna().sum()*100/len(data), 2) #доля пропусков"
   ]
  },
  {
   "cell_type": "markdown",
   "metadata": {},
   "source": [
    "Во многих столбцах наблюдаем пропущенные значения.\n",
    "\n",
    "Можем предположить, что пропуски в стобце `balcony` непосредственно связаны отсутствием самих балконов. В данном случае заменим пропуски на ноль. \n",
    "\n",
    "Аналогичная мысль появляется при анализе пропусков в столбцах `ponds_around3000` и `parks_around3000`, скорее всего NaN указаны для тех объектов, которые находятся дальше от парков и водоёмов более чем на 3 км. В этих столбцах тоже заменим пропуски на ноль. В `floors_total`  всего 0,36% пропусков. Можем заменить на 0, на ход исследования это не повлияет. \n",
    "\n",
    "Проанализируем столбец `days_exposition`, вполне вероятно, что квартира все еще на продаже. "
   ]
  },
  {
   "cell_type": "code",
   "execution_count": 6,
   "metadata": {},
   "outputs": [
    {
     "data": {
      "text/html": [
       "<div>\n",
       "<style scoped>\n",
       "    .dataframe tbody tr th:only-of-type {\n",
       "        vertical-align: middle;\n",
       "    }\n",
       "\n",
       "    .dataframe tbody tr th {\n",
       "        vertical-align: top;\n",
       "    }\n",
       "\n",
       "    .dataframe thead th {\n",
       "        text-align: right;\n",
       "    }\n",
       "</style>\n",
       "<table border=\"1\" class=\"dataframe\">\n",
       "  <thead>\n",
       "    <tr style=\"text-align: right;\">\n",
       "      <th></th>\n",
       "      <th>total_images</th>\n",
       "      <th>last_price</th>\n",
       "      <th>total_area</th>\n",
       "      <th>first_day_exposition</th>\n",
       "      <th>rooms</th>\n",
       "      <th>ceiling_height</th>\n",
       "      <th>floors_total</th>\n",
       "      <th>living_area</th>\n",
       "      <th>floor</th>\n",
       "      <th>is_apartment</th>\n",
       "      <th>...</th>\n",
       "      <th>kitchen_area</th>\n",
       "      <th>balcony</th>\n",
       "      <th>locality_name</th>\n",
       "      <th>airports_nearest</th>\n",
       "      <th>cityCenters_nearest</th>\n",
       "      <th>parks_around3000</th>\n",
       "      <th>parks_nearest</th>\n",
       "      <th>ponds_around3000</th>\n",
       "      <th>ponds_nearest</th>\n",
       "      <th>days_exposition</th>\n",
       "    </tr>\n",
       "  </thead>\n",
       "  <tbody>\n",
       "    <tr>\n",
       "      <th>0</th>\n",
       "      <td>20</td>\n",
       "      <td>13000000.0</td>\n",
       "      <td>108.00</td>\n",
       "      <td>2019-03-07T00:00:00</td>\n",
       "      <td>3</td>\n",
       "      <td>2.70</td>\n",
       "      <td>16.0</td>\n",
       "      <td>51.0</td>\n",
       "      <td>8</td>\n",
       "      <td>NaN</td>\n",
       "      <td>...</td>\n",
       "      <td>25.00</td>\n",
       "      <td>NaN</td>\n",
       "      <td>Санкт-Петербург</td>\n",
       "      <td>18863.0</td>\n",
       "      <td>16028.0</td>\n",
       "      <td>1.0</td>\n",
       "      <td>482.0</td>\n",
       "      <td>2.0</td>\n",
       "      <td>755.0</td>\n",
       "      <td>NaN</td>\n",
       "    </tr>\n",
       "    <tr>\n",
       "      <th>7</th>\n",
       "      <td>5</td>\n",
       "      <td>7915000.0</td>\n",
       "      <td>71.60</td>\n",
       "      <td>2019-04-18T00:00:00</td>\n",
       "      <td>2</td>\n",
       "      <td>NaN</td>\n",
       "      <td>24.0</td>\n",
       "      <td>NaN</td>\n",
       "      <td>22</td>\n",
       "      <td>NaN</td>\n",
       "      <td>...</td>\n",
       "      <td>18.90</td>\n",
       "      <td>2.0</td>\n",
       "      <td>Санкт-Петербург</td>\n",
       "      <td>23982.0</td>\n",
       "      <td>11634.0</td>\n",
       "      <td>0.0</td>\n",
       "      <td>NaN</td>\n",
       "      <td>0.0</td>\n",
       "      <td>NaN</td>\n",
       "      <td>NaN</td>\n",
       "    </tr>\n",
       "    <tr>\n",
       "      <th>44</th>\n",
       "      <td>13</td>\n",
       "      <td>5350000.0</td>\n",
       "      <td>40.00</td>\n",
       "      <td>2018-11-18T00:00:00</td>\n",
       "      <td>1</td>\n",
       "      <td>NaN</td>\n",
       "      <td>22.0</td>\n",
       "      <td>NaN</td>\n",
       "      <td>3</td>\n",
       "      <td>NaN</td>\n",
       "      <td>...</td>\n",
       "      <td>NaN</td>\n",
       "      <td>1.0</td>\n",
       "      <td>Санкт-Петербург</td>\n",
       "      <td>30471.0</td>\n",
       "      <td>11603.0</td>\n",
       "      <td>1.0</td>\n",
       "      <td>620.0</td>\n",
       "      <td>1.0</td>\n",
       "      <td>1152.0</td>\n",
       "      <td>NaN</td>\n",
       "    </tr>\n",
       "    <tr>\n",
       "      <th>45</th>\n",
       "      <td>17</td>\n",
       "      <td>5200000.0</td>\n",
       "      <td>50.60</td>\n",
       "      <td>2018-12-02T00:00:00</td>\n",
       "      <td>2</td>\n",
       "      <td>2.65</td>\n",
       "      <td>9.0</td>\n",
       "      <td>30.3</td>\n",
       "      <td>7</td>\n",
       "      <td>NaN</td>\n",
       "      <td>...</td>\n",
       "      <td>7.00</td>\n",
       "      <td>NaN</td>\n",
       "      <td>Санкт-Петербург</td>\n",
       "      <td>30011.0</td>\n",
       "      <td>12872.0</td>\n",
       "      <td>0.0</td>\n",
       "      <td>NaN</td>\n",
       "      <td>0.0</td>\n",
       "      <td>NaN</td>\n",
       "      <td>NaN</td>\n",
       "    </tr>\n",
       "    <tr>\n",
       "      <th>46</th>\n",
       "      <td>17</td>\n",
       "      <td>6600000.0</td>\n",
       "      <td>52.10</td>\n",
       "      <td>2019-01-31T00:00:00</td>\n",
       "      <td>2</td>\n",
       "      <td>2.60</td>\n",
       "      <td>24.0</td>\n",
       "      <td>29.7</td>\n",
       "      <td>9</td>\n",
       "      <td>NaN</td>\n",
       "      <td>...</td>\n",
       "      <td>8.30</td>\n",
       "      <td>2.0</td>\n",
       "      <td>Санкт-Петербург</td>\n",
       "      <td>15114.0</td>\n",
       "      <td>12702.0</td>\n",
       "      <td>0.0</td>\n",
       "      <td>NaN</td>\n",
       "      <td>0.0</td>\n",
       "      <td>NaN</td>\n",
       "      <td>NaN</td>\n",
       "    </tr>\n",
       "    <tr>\n",
       "      <th>...</th>\n",
       "      <td>...</td>\n",
       "      <td>...</td>\n",
       "      <td>...</td>\n",
       "      <td>...</td>\n",
       "      <td>...</td>\n",
       "      <td>...</td>\n",
       "      <td>...</td>\n",
       "      <td>...</td>\n",
       "      <td>...</td>\n",
       "      <td>...</td>\n",
       "      <td>...</td>\n",
       "      <td>...</td>\n",
       "      <td>...</td>\n",
       "      <td>...</td>\n",
       "      <td>...</td>\n",
       "      <td>...</td>\n",
       "      <td>...</td>\n",
       "      <td>...</td>\n",
       "      <td>...</td>\n",
       "      <td>...</td>\n",
       "      <td>...</td>\n",
       "    </tr>\n",
       "    <tr>\n",
       "      <th>23684</th>\n",
       "      <td>20</td>\n",
       "      <td>21400000.0</td>\n",
       "      <td>145.00</td>\n",
       "      <td>2018-11-02T00:00:00</td>\n",
       "      <td>4</td>\n",
       "      <td>3.00</td>\n",
       "      <td>26.0</td>\n",
       "      <td>71.4</td>\n",
       "      <td>17</td>\n",
       "      <td>NaN</td>\n",
       "      <td>...</td>\n",
       "      <td>15.60</td>\n",
       "      <td>NaN</td>\n",
       "      <td>Санкт-Петербург</td>\n",
       "      <td>11827.0</td>\n",
       "      <td>11459.0</td>\n",
       "      <td>0.0</td>\n",
       "      <td>NaN</td>\n",
       "      <td>0.0</td>\n",
       "      <td>NaN</td>\n",
       "      <td>NaN</td>\n",
       "    </tr>\n",
       "    <tr>\n",
       "      <th>23685</th>\n",
       "      <td>15</td>\n",
       "      <td>2490000.0</td>\n",
       "      <td>31.00</td>\n",
       "      <td>2019-01-24T00:00:00</td>\n",
       "      <td>1</td>\n",
       "      <td>2.50</td>\n",
       "      <td>5.0</td>\n",
       "      <td>17.3</td>\n",
       "      <td>5</td>\n",
       "      <td>NaN</td>\n",
       "      <td>...</td>\n",
       "      <td>5.60</td>\n",
       "      <td>1.0</td>\n",
       "      <td>Ломоносов</td>\n",
       "      <td>48393.0</td>\n",
       "      <td>51818.0</td>\n",
       "      <td>0.0</td>\n",
       "      <td>NaN</td>\n",
       "      <td>0.0</td>\n",
       "      <td>NaN</td>\n",
       "      <td>NaN</td>\n",
       "    </tr>\n",
       "    <tr>\n",
       "      <th>23694</th>\n",
       "      <td>9</td>\n",
       "      <td>9700000.0</td>\n",
       "      <td>133.81</td>\n",
       "      <td>2017-03-21T00:00:00</td>\n",
       "      <td>3</td>\n",
       "      <td>3.70</td>\n",
       "      <td>5.0</td>\n",
       "      <td>73.3</td>\n",
       "      <td>3</td>\n",
       "      <td>NaN</td>\n",
       "      <td>...</td>\n",
       "      <td>13.83</td>\n",
       "      <td>NaN</td>\n",
       "      <td>Санкт-Петербург</td>\n",
       "      <td>24665.0</td>\n",
       "      <td>4232.0</td>\n",
       "      <td>1.0</td>\n",
       "      <td>796.0</td>\n",
       "      <td>3.0</td>\n",
       "      <td>381.0</td>\n",
       "      <td>NaN</td>\n",
       "    </tr>\n",
       "    <tr>\n",
       "      <th>23696</th>\n",
       "      <td>18</td>\n",
       "      <td>2500000.0</td>\n",
       "      <td>56.70</td>\n",
       "      <td>2018-02-11T00:00:00</td>\n",
       "      <td>2</td>\n",
       "      <td>NaN</td>\n",
       "      <td>3.0</td>\n",
       "      <td>29.7</td>\n",
       "      <td>1</td>\n",
       "      <td>NaN</td>\n",
       "      <td>...</td>\n",
       "      <td>NaN</td>\n",
       "      <td>NaN</td>\n",
       "      <td>село Рождествено</td>\n",
       "      <td>NaN</td>\n",
       "      <td>NaN</td>\n",
       "      <td>NaN</td>\n",
       "      <td>NaN</td>\n",
       "      <td>NaN</td>\n",
       "      <td>NaN</td>\n",
       "      <td>NaN</td>\n",
       "    </tr>\n",
       "    <tr>\n",
       "      <th>23698</th>\n",
       "      <td>4</td>\n",
       "      <td>1350000.0</td>\n",
       "      <td>32.30</td>\n",
       "      <td>2017-07-21T00:00:00</td>\n",
       "      <td>1</td>\n",
       "      <td>2.50</td>\n",
       "      <td>5.0</td>\n",
       "      <td>12.3</td>\n",
       "      <td>1</td>\n",
       "      <td>NaN</td>\n",
       "      <td>...</td>\n",
       "      <td>9.00</td>\n",
       "      <td>NaN</td>\n",
       "      <td>поселок Новый Учхоз</td>\n",
       "      <td>NaN</td>\n",
       "      <td>NaN</td>\n",
       "      <td>NaN</td>\n",
       "      <td>NaN</td>\n",
       "      <td>NaN</td>\n",
       "      <td>NaN</td>\n",
       "      <td>NaN</td>\n",
       "    </tr>\n",
       "  </tbody>\n",
       "</table>\n",
       "<p>3181 rows × 22 columns</p>\n",
       "</div>"
      ],
      "text/plain": [
       "       total_images  last_price  total_area first_day_exposition  rooms  \\\n",
       "0                20  13000000.0      108.00  2019-03-07T00:00:00      3   \n",
       "7                 5   7915000.0       71.60  2019-04-18T00:00:00      2   \n",
       "44               13   5350000.0       40.00  2018-11-18T00:00:00      1   \n",
       "45               17   5200000.0       50.60  2018-12-02T00:00:00      2   \n",
       "46               17   6600000.0       52.10  2019-01-31T00:00:00      2   \n",
       "...             ...         ...         ...                  ...    ...   \n",
       "23684            20  21400000.0      145.00  2018-11-02T00:00:00      4   \n",
       "23685            15   2490000.0       31.00  2019-01-24T00:00:00      1   \n",
       "23694             9   9700000.0      133.81  2017-03-21T00:00:00      3   \n",
       "23696            18   2500000.0       56.70  2018-02-11T00:00:00      2   \n",
       "23698             4   1350000.0       32.30  2017-07-21T00:00:00      1   \n",
       "\n",
       "       ceiling_height  floors_total  living_area  floor is_apartment  ...  \\\n",
       "0                2.70          16.0         51.0      8          NaN  ...   \n",
       "7                 NaN          24.0          NaN     22          NaN  ...   \n",
       "44                NaN          22.0          NaN      3          NaN  ...   \n",
       "45               2.65           9.0         30.3      7          NaN  ...   \n",
       "46               2.60          24.0         29.7      9          NaN  ...   \n",
       "...               ...           ...          ...    ...          ...  ...   \n",
       "23684            3.00          26.0         71.4     17          NaN  ...   \n",
       "23685            2.50           5.0         17.3      5          NaN  ...   \n",
       "23694            3.70           5.0         73.3      3          NaN  ...   \n",
       "23696             NaN           3.0         29.7      1          NaN  ...   \n",
       "23698            2.50           5.0         12.3      1          NaN  ...   \n",
       "\n",
       "       kitchen_area  balcony        locality_name  airports_nearest  \\\n",
       "0             25.00      NaN      Санкт-Петербург           18863.0   \n",
       "7             18.90      2.0      Санкт-Петербург           23982.0   \n",
       "44              NaN      1.0      Санкт-Петербург           30471.0   \n",
       "45             7.00      NaN      Санкт-Петербург           30011.0   \n",
       "46             8.30      2.0      Санкт-Петербург           15114.0   \n",
       "...             ...      ...                  ...               ...   \n",
       "23684         15.60      NaN      Санкт-Петербург           11827.0   \n",
       "23685          5.60      1.0            Ломоносов           48393.0   \n",
       "23694         13.83      NaN      Санкт-Петербург           24665.0   \n",
       "23696           NaN      NaN     село Рождествено               NaN   \n",
       "23698          9.00      NaN  поселок Новый Учхоз               NaN   \n",
       "\n",
       "      cityCenters_nearest  parks_around3000  parks_nearest  ponds_around3000  \\\n",
       "0                 16028.0               1.0          482.0               2.0   \n",
       "7                 11634.0               0.0            NaN               0.0   \n",
       "44                11603.0               1.0          620.0               1.0   \n",
       "45                12872.0               0.0            NaN               0.0   \n",
       "46                12702.0               0.0            NaN               0.0   \n",
       "...                   ...               ...            ...               ...   \n",
       "23684             11459.0               0.0            NaN               0.0   \n",
       "23685             51818.0               0.0            NaN               0.0   \n",
       "23694              4232.0               1.0          796.0               3.0   \n",
       "23696                 NaN               NaN            NaN               NaN   \n",
       "23698                 NaN               NaN            NaN               NaN   \n",
       "\n",
       "       ponds_nearest  days_exposition  \n",
       "0              755.0              NaN  \n",
       "7                NaN              NaN  \n",
       "44            1152.0              NaN  \n",
       "45               NaN              NaN  \n",
       "46               NaN              NaN  \n",
       "...              ...              ...  \n",
       "23684            NaN              NaN  \n",
       "23685            NaN              NaN  \n",
       "23694          381.0              NaN  \n",
       "23696            NaN              NaN  \n",
       "23698            NaN              NaN  \n",
       "\n",
       "[3181 rows x 22 columns]"
      ]
     },
     "metadata": {},
     "output_type": "display_data"
    }
   ],
   "source": [
    "display(data.query('days_exposition.isna()')) #смотрим на срез данных\n",
    "  "
   ]
  },
  {
   "cell_type": "markdown",
   "metadata": {},
   "source": [
    "Видим, что большинство объявлений от 2019 и 2018 года, скорее всего на момент выгрузки данных объявления все еще были актуальны. Предположить, что квартиры уже проданы не можем, так как в таком случае система бы поставила дату закрытия объявления.\n",
    "\n",
    "В данном случае логично убрать из анализа квартиры, которые все еще на продаже, так как они могут иметь завышенную цену или другие аномальные значения."
   ]
  },
  {
   "cell_type": "code",
   "execution_count": 7,
   "metadata": {},
   "outputs": [
    {
     "data": {
      "text/plain": [
       "0"
      ]
     },
     "execution_count": 7,
     "metadata": {},
     "output_type": "execute_result"
    }
   ],
   "source": [
    "data.dropna(subset=['days_exposition'], inplace=True) #удаляем строки с пропусками в столбце days_exposition\n",
    "data['days_exposition'].isna().sum() #проверяем результат"
   ]
  },
  {
   "cell_type": "markdown",
   "metadata": {},
   "source": [
    "Заменим пропущенные значения в столбцах `balcony`, `ponds_around3000`, `floors_total` и `parks_around3000` на 0 с помощью цикла for.\n",
    "Для этого создадим переменную `columns_to_replace`"
   ]
  },
  {
   "cell_type": "code",
   "execution_count": 8,
   "metadata": {},
   "outputs": [
    {
     "data": {
      "text/plain": [
       "total_images                0\n",
       "last_price                  0\n",
       "total_area                  0\n",
       "first_day_exposition        0\n",
       "rooms                       0\n",
       "ceiling_height           8467\n",
       "floors_total                0\n",
       "living_area              1705\n",
       "floor                       0\n",
       "is_apartment            18018\n",
       "studio                      0\n",
       "open_plan                   0\n",
       "kitchen_area             2075\n",
       "balcony                     0\n",
       "locality_name              48\n",
       "airports_nearest         4675\n",
       "cityCenters_nearest      4653\n",
       "parks_around3000            0\n",
       "parks_nearest           13584\n",
       "ponds_around3000            0\n",
       "ponds_nearest           12624\n",
       "days_exposition             0\n",
       "dtype: int64"
      ]
     },
     "execution_count": 8,
     "metadata": {},
     "output_type": "execute_result"
    }
   ],
   "source": [
    "columns_to_replace = ['balcony', 'ponds_around3000', 'parks_around3000', 'floors_total']  #перебор названий столбцов в цикле и замена пропущенных значений на 0\n",
    "for i in columns_to_replace:\n",
    "    data[i] = data[i].fillna(0)\n",
    "data.isna().sum() #проверяем результат работы цикла"
   ]
  },
  {
   "cell_type": "markdown",
   "metadata": {},
   "source": [
    "Теперь заменим пропуски в столбце `is_apartment` на значение False. Можно предположить, что апартаментов в нашем исследовании не так много и пропуски означают, что исследуемая недвижимость не апартаменты."
   ]
  },
  {
   "cell_type": "code",
   "execution_count": 9,
   "metadata": {},
   "outputs": [
    {
     "data": {
      "text/plain": [
       "total_images                0\n",
       "last_price                  0\n",
       "total_area                  0\n",
       "first_day_exposition        0\n",
       "rooms                       0\n",
       "ceiling_height           8467\n",
       "floors_total                0\n",
       "living_area              1705\n",
       "floor                       0\n",
       "is_apartment                0\n",
       "studio                      0\n",
       "open_plan                   0\n",
       "kitchen_area             2075\n",
       "balcony                     0\n",
       "locality_name              48\n",
       "airports_nearest         4675\n",
       "cityCenters_nearest      4653\n",
       "parks_around3000            0\n",
       "parks_nearest           13584\n",
       "ponds_around3000            0\n",
       "ponds_nearest           12624\n",
       "days_exposition             0\n",
       "dtype: int64"
      ]
     },
     "execution_count": 9,
     "metadata": {},
     "output_type": "execute_result"
    }
   ],
   "source": [
    "data['is_apartment'] = data['is_apartment'].fillna(False) #заполняем пропуски булевым значением False\n",
    "data.isna().sum() #проверяем, заменились ли пропуски "
   ]
  },
  {
   "cell_type": "markdown",
   "metadata": {},
   "source": [
    "Попробуем заполнить пропуски в столбце `living_area`. Найдем соотношение средней общей площади к средней жилой, а затем заполним отношением общей площади к найденному соотношению. То же самое проделаем с пропусками в столбце `kitchen_area`. "
   ]
  },
  {
   "cell_type": "code",
   "execution_count": 10,
   "metadata": {},
   "outputs": [
    {
     "data": {
      "text/plain": [
       "total_images                0\n",
       "last_price                  0\n",
       "total_area                  0\n",
       "first_day_exposition        0\n",
       "rooms                       0\n",
       "ceiling_height           8467\n",
       "floors_total                0\n",
       "living_area                 0\n",
       "floor                       0\n",
       "is_apartment                0\n",
       "studio                      0\n",
       "open_plan                   0\n",
       "kitchen_area                0\n",
       "balcony                     0\n",
       "locality_name              48\n",
       "airports_nearest         4675\n",
       "cityCenters_nearest      4653\n",
       "parks_around3000            0\n",
       "parks_nearest           13584\n",
       "ponds_around3000            0\n",
       "ponds_nearest           12624\n",
       "days_exposition             0\n",
       "dtype: int64"
      ]
     },
     "execution_count": 10,
     "metadata": {},
     "output_type": "execute_result"
    }
   ],
   "source": [
    "new_living_area = data[data['living_area'].isnull() == False]['total_area'].mean() / \\\n",
    "data[data['living_area'].isnull()== False]['living_area'].mean() #считаем соотношение средней общей площади к средней жилой\n",
    "\n",
    "new_kitchen_area = data[data['kitchen_area'].isnull() == False]['total_area'].mean() / \\\n",
    "data[data['kitchen_area'].isnull()== False]['kitchen_area'].mean() #считаем соотношение средней общей площади к средней площади кухни\n",
    "\n",
    "data['living_area'] = data['living_area'].fillna(data['total_area']/new_living_area) #заполняем отношением средней общей площади к средней жилой\n",
    "data['kitchen_area'] = data['kitchen_area'].fillna(data['total_area']/new_kitchen_area) #заполняем отношением средней общей площади к средней площади кухни\n",
    "data.isna().sum()"
   ]
  },
  {
   "cell_type": "code",
   "execution_count": 11,
   "metadata": {},
   "outputs": [
    {
     "data": {
      "text/html": [
       "<div>\n",
       "<style scoped>\n",
       "    .dataframe tbody tr th:only-of-type {\n",
       "        vertical-align: middle;\n",
       "    }\n",
       "\n",
       "    .dataframe tbody tr th {\n",
       "        vertical-align: top;\n",
       "    }\n",
       "\n",
       "    .dataframe thead th {\n",
       "        text-align: right;\n",
       "    }\n",
       "</style>\n",
       "<table border=\"1\" class=\"dataframe\">\n",
       "  <thead>\n",
       "    <tr style=\"text-align: right;\">\n",
       "      <th></th>\n",
       "      <th>total_images</th>\n",
       "      <th>last_price</th>\n",
       "      <th>total_area</th>\n",
       "      <th>first_day_exposition</th>\n",
       "      <th>rooms</th>\n",
       "      <th>ceiling_height</th>\n",
       "      <th>floors_total</th>\n",
       "      <th>living_area</th>\n",
       "      <th>floor</th>\n",
       "      <th>is_apartment</th>\n",
       "      <th>studio</th>\n",
       "      <th>open_plan</th>\n",
       "      <th>kitchen_area</th>\n",
       "      <th>balcony</th>\n",
       "      <th>locality_name</th>\n",
       "      <th>airports_nearest</th>\n",
       "      <th>cityCenters_nearest</th>\n",
       "      <th>parks_around3000</th>\n",
       "      <th>parks_nearest</th>\n",
       "      <th>ponds_around3000</th>\n",
       "      <th>ponds_nearest</th>\n",
       "      <th>days_exposition</th>\n",
       "    </tr>\n",
       "  </thead>\n",
       "  <tbody>\n",
       "    <tr>\n",
       "      <th>1</th>\n",
       "      <td>7</td>\n",
       "      <td>3350000.0</td>\n",
       "      <td>40.40</td>\n",
       "      <td>2018-12-04T00:00:00</td>\n",
       "      <td>1</td>\n",
       "      <td>NaN</td>\n",
       "      <td>11.0</td>\n",
       "      <td>18.600000</td>\n",
       "      <td>1</td>\n",
       "      <td>False</td>\n",
       "      <td>False</td>\n",
       "      <td>False</td>\n",
       "      <td>11.000000</td>\n",
       "      <td>2.0</td>\n",
       "      <td>посёлок Шушары</td>\n",
       "      <td>12817.0</td>\n",
       "      <td>18603.0</td>\n",
       "      <td>0.0</td>\n",
       "      <td>NaN</td>\n",
       "      <td>0.0</td>\n",
       "      <td>NaN</td>\n",
       "      <td>81.0</td>\n",
       "    </tr>\n",
       "    <tr>\n",
       "      <th>2</th>\n",
       "      <td>10</td>\n",
       "      <td>5196000.0</td>\n",
       "      <td>56.00</td>\n",
       "      <td>2015-08-20T00:00:00</td>\n",
       "      <td>2</td>\n",
       "      <td>NaN</td>\n",
       "      <td>5.0</td>\n",
       "      <td>34.300000</td>\n",
       "      <td>4</td>\n",
       "      <td>False</td>\n",
       "      <td>False</td>\n",
       "      <td>False</td>\n",
       "      <td>8.300000</td>\n",
       "      <td>0.0</td>\n",
       "      <td>Санкт-Петербург</td>\n",
       "      <td>21741.0</td>\n",
       "      <td>13933.0</td>\n",
       "      <td>1.0</td>\n",
       "      <td>90.0</td>\n",
       "      <td>2.0</td>\n",
       "      <td>574.0</td>\n",
       "      <td>558.0</td>\n",
       "    </tr>\n",
       "    <tr>\n",
       "      <th>3</th>\n",
       "      <td>0</td>\n",
       "      <td>64900000.0</td>\n",
       "      <td>159.00</td>\n",
       "      <td>2015-07-24T00:00:00</td>\n",
       "      <td>3</td>\n",
       "      <td>NaN</td>\n",
       "      <td>14.0</td>\n",
       "      <td>90.856428</td>\n",
       "      <td>9</td>\n",
       "      <td>False</td>\n",
       "      <td>False</td>\n",
       "      <td>False</td>\n",
       "      <td>27.975245</td>\n",
       "      <td>0.0</td>\n",
       "      <td>Санкт-Петербург</td>\n",
       "      <td>28098.0</td>\n",
       "      <td>6800.0</td>\n",
       "      <td>2.0</td>\n",
       "      <td>84.0</td>\n",
       "      <td>3.0</td>\n",
       "      <td>234.0</td>\n",
       "      <td>424.0</td>\n",
       "    </tr>\n",
       "    <tr>\n",
       "      <th>4</th>\n",
       "      <td>2</td>\n",
       "      <td>10000000.0</td>\n",
       "      <td>100.00</td>\n",
       "      <td>2018-06-19T00:00:00</td>\n",
       "      <td>2</td>\n",
       "      <td>3.03</td>\n",
       "      <td>14.0</td>\n",
       "      <td>32.000000</td>\n",
       "      <td>13</td>\n",
       "      <td>False</td>\n",
       "      <td>False</td>\n",
       "      <td>False</td>\n",
       "      <td>41.000000</td>\n",
       "      <td>0.0</td>\n",
       "      <td>Санкт-Петербург</td>\n",
       "      <td>31856.0</td>\n",
       "      <td>8098.0</td>\n",
       "      <td>2.0</td>\n",
       "      <td>112.0</td>\n",
       "      <td>1.0</td>\n",
       "      <td>48.0</td>\n",
       "      <td>121.0</td>\n",
       "    </tr>\n",
       "    <tr>\n",
       "      <th>5</th>\n",
       "      <td>10</td>\n",
       "      <td>2890000.0</td>\n",
       "      <td>30.40</td>\n",
       "      <td>2018-09-10T00:00:00</td>\n",
       "      <td>1</td>\n",
       "      <td>NaN</td>\n",
       "      <td>12.0</td>\n",
       "      <td>14.400000</td>\n",
       "      <td>5</td>\n",
       "      <td>False</td>\n",
       "      <td>False</td>\n",
       "      <td>False</td>\n",
       "      <td>9.100000</td>\n",
       "      <td>0.0</td>\n",
       "      <td>городской посёлок Янино-1</td>\n",
       "      <td>NaN</td>\n",
       "      <td>NaN</td>\n",
       "      <td>0.0</td>\n",
       "      <td>NaN</td>\n",
       "      <td>0.0</td>\n",
       "      <td>NaN</td>\n",
       "      <td>55.0</td>\n",
       "    </tr>\n",
       "    <tr>\n",
       "      <th>6</th>\n",
       "      <td>6</td>\n",
       "      <td>3700000.0</td>\n",
       "      <td>37.30</td>\n",
       "      <td>2017-11-02T00:00:00</td>\n",
       "      <td>1</td>\n",
       "      <td>NaN</td>\n",
       "      <td>26.0</td>\n",
       "      <td>10.600000</td>\n",
       "      <td>6</td>\n",
       "      <td>False</td>\n",
       "      <td>False</td>\n",
       "      <td>False</td>\n",
       "      <td>14.400000</td>\n",
       "      <td>1.0</td>\n",
       "      <td>посёлок Парголово</td>\n",
       "      <td>52996.0</td>\n",
       "      <td>19143.0</td>\n",
       "      <td>0.0</td>\n",
       "      <td>NaN</td>\n",
       "      <td>0.0</td>\n",
       "      <td>NaN</td>\n",
       "      <td>155.0</td>\n",
       "    </tr>\n",
       "    <tr>\n",
       "      <th>8</th>\n",
       "      <td>20</td>\n",
       "      <td>2900000.0</td>\n",
       "      <td>33.16</td>\n",
       "      <td>2018-05-23T00:00:00</td>\n",
       "      <td>1</td>\n",
       "      <td>NaN</td>\n",
       "      <td>27.0</td>\n",
       "      <td>15.430000</td>\n",
       "      <td>26</td>\n",
       "      <td>False</td>\n",
       "      <td>False</td>\n",
       "      <td>False</td>\n",
       "      <td>8.810000</td>\n",
       "      <td>0.0</td>\n",
       "      <td>посёлок Мурино</td>\n",
       "      <td>NaN</td>\n",
       "      <td>NaN</td>\n",
       "      <td>0.0</td>\n",
       "      <td>NaN</td>\n",
       "      <td>0.0</td>\n",
       "      <td>NaN</td>\n",
       "      <td>189.0</td>\n",
       "    </tr>\n",
       "    <tr>\n",
       "      <th>9</th>\n",
       "      <td>18</td>\n",
       "      <td>5400000.0</td>\n",
       "      <td>61.00</td>\n",
       "      <td>2017-02-26T00:00:00</td>\n",
       "      <td>3</td>\n",
       "      <td>2.50</td>\n",
       "      <td>9.0</td>\n",
       "      <td>43.600000</td>\n",
       "      <td>7</td>\n",
       "      <td>False</td>\n",
       "      <td>False</td>\n",
       "      <td>False</td>\n",
       "      <td>6.500000</td>\n",
       "      <td>2.0</td>\n",
       "      <td>Санкт-Петербург</td>\n",
       "      <td>50898.0</td>\n",
       "      <td>15008.0</td>\n",
       "      <td>0.0</td>\n",
       "      <td>NaN</td>\n",
       "      <td>0.0</td>\n",
       "      <td>NaN</td>\n",
       "      <td>289.0</td>\n",
       "    </tr>\n",
       "    <tr>\n",
       "      <th>10</th>\n",
       "      <td>5</td>\n",
       "      <td>5050000.0</td>\n",
       "      <td>39.60</td>\n",
       "      <td>2017-11-16T00:00:00</td>\n",
       "      <td>1</td>\n",
       "      <td>2.67</td>\n",
       "      <td>12.0</td>\n",
       "      <td>20.300000</td>\n",
       "      <td>3</td>\n",
       "      <td>False</td>\n",
       "      <td>False</td>\n",
       "      <td>False</td>\n",
       "      <td>8.500000</td>\n",
       "      <td>0.0</td>\n",
       "      <td>Санкт-Петербург</td>\n",
       "      <td>38357.0</td>\n",
       "      <td>13878.0</td>\n",
       "      <td>1.0</td>\n",
       "      <td>310.0</td>\n",
       "      <td>2.0</td>\n",
       "      <td>553.0</td>\n",
       "      <td>137.0</td>\n",
       "    </tr>\n",
       "    <tr>\n",
       "      <th>11</th>\n",
       "      <td>9</td>\n",
       "      <td>3300000.0</td>\n",
       "      <td>44.00</td>\n",
       "      <td>2018-08-27T00:00:00</td>\n",
       "      <td>2</td>\n",
       "      <td>NaN</td>\n",
       "      <td>5.0</td>\n",
       "      <td>31.000000</td>\n",
       "      <td>4</td>\n",
       "      <td>False</td>\n",
       "      <td>False</td>\n",
       "      <td>False</td>\n",
       "      <td>6.000000</td>\n",
       "      <td>1.0</td>\n",
       "      <td>Ломоносов</td>\n",
       "      <td>48252.0</td>\n",
       "      <td>51677.0</td>\n",
       "      <td>0.0</td>\n",
       "      <td>NaN</td>\n",
       "      <td>0.0</td>\n",
       "      <td>NaN</td>\n",
       "      <td>7.0</td>\n",
       "    </tr>\n",
       "  </tbody>\n",
       "</table>\n",
       "</div>"
      ],
      "text/plain": [
       "    total_images  last_price  total_area first_day_exposition  rooms  \\\n",
       "1              7   3350000.0       40.40  2018-12-04T00:00:00      1   \n",
       "2             10   5196000.0       56.00  2015-08-20T00:00:00      2   \n",
       "3              0  64900000.0      159.00  2015-07-24T00:00:00      3   \n",
       "4              2  10000000.0      100.00  2018-06-19T00:00:00      2   \n",
       "5             10   2890000.0       30.40  2018-09-10T00:00:00      1   \n",
       "6              6   3700000.0       37.30  2017-11-02T00:00:00      1   \n",
       "8             20   2900000.0       33.16  2018-05-23T00:00:00      1   \n",
       "9             18   5400000.0       61.00  2017-02-26T00:00:00      3   \n",
       "10             5   5050000.0       39.60  2017-11-16T00:00:00      1   \n",
       "11             9   3300000.0       44.00  2018-08-27T00:00:00      2   \n",
       "\n",
       "    ceiling_height  floors_total  living_area  floor  is_apartment  studio  \\\n",
       "1              NaN          11.0    18.600000      1         False   False   \n",
       "2              NaN           5.0    34.300000      4         False   False   \n",
       "3              NaN          14.0    90.856428      9         False   False   \n",
       "4             3.03          14.0    32.000000     13         False   False   \n",
       "5              NaN          12.0    14.400000      5         False   False   \n",
       "6              NaN          26.0    10.600000      6         False   False   \n",
       "8              NaN          27.0    15.430000     26         False   False   \n",
       "9             2.50           9.0    43.600000      7         False   False   \n",
       "10            2.67          12.0    20.300000      3         False   False   \n",
       "11             NaN           5.0    31.000000      4         False   False   \n",
       "\n",
       "    open_plan  kitchen_area  balcony              locality_name  \\\n",
       "1       False     11.000000      2.0             посёлок Шушары   \n",
       "2       False      8.300000      0.0            Санкт-Петербург   \n",
       "3       False     27.975245      0.0            Санкт-Петербург   \n",
       "4       False     41.000000      0.0            Санкт-Петербург   \n",
       "5       False      9.100000      0.0  городской посёлок Янино-1   \n",
       "6       False     14.400000      1.0          посёлок Парголово   \n",
       "8       False      8.810000      0.0             посёлок Мурино   \n",
       "9       False      6.500000      2.0            Санкт-Петербург   \n",
       "10      False      8.500000      0.0            Санкт-Петербург   \n",
       "11      False      6.000000      1.0                  Ломоносов   \n",
       "\n",
       "    airports_nearest  cityCenters_nearest  parks_around3000  parks_nearest  \\\n",
       "1            12817.0              18603.0               0.0            NaN   \n",
       "2            21741.0              13933.0               1.0           90.0   \n",
       "3            28098.0               6800.0               2.0           84.0   \n",
       "4            31856.0               8098.0               2.0          112.0   \n",
       "5                NaN                  NaN               0.0            NaN   \n",
       "6            52996.0              19143.0               0.0            NaN   \n",
       "8                NaN                  NaN               0.0            NaN   \n",
       "9            50898.0              15008.0               0.0            NaN   \n",
       "10           38357.0              13878.0               1.0          310.0   \n",
       "11           48252.0              51677.0               0.0            NaN   \n",
       "\n",
       "    ponds_around3000  ponds_nearest  days_exposition  \n",
       "1                0.0            NaN             81.0  \n",
       "2                2.0          574.0            558.0  \n",
       "3                3.0          234.0            424.0  \n",
       "4                1.0           48.0            121.0  \n",
       "5                0.0            NaN             55.0  \n",
       "6                0.0            NaN            155.0  \n",
       "8                0.0            NaN            189.0  \n",
       "9                0.0            NaN            289.0  \n",
       "10               2.0          553.0            137.0  \n",
       "11               0.0            NaN              7.0  "
      ]
     },
     "execution_count": 11,
     "metadata": {},
     "output_type": "execute_result"
    }
   ],
   "source": [
    "pd.set_option('display.max_columns', None) # выводим все стролбцы в табличке\n",
    "data.head(10) #смотрим на 10 первых строк"
   ]
  },
  {
   "cell_type": "markdown",
   "metadata": {},
   "source": [
    "Создадим условие, при котором все квартиры, у которых жилая и площаль кухни в сумме больше общей площади, заполняются нулем. "
   ]
  },
  {
   "cell_type": "code",
   "execution_count": 12,
   "metadata": {},
   "outputs": [],
   "source": [
    "data.loc[(data['living_area'] + data['kitchen_area']) > data['total_area'], 'kitchen_area'] = data['kitchen_area'].fillna(0)\n"
   ]
  },
  {
   "cell_type": "markdown",
   "metadata": {},
   "source": [
    "В дальнейшем анализе мы не будем работать со значениями из столбца `living_area` и `kitchen_area`."
   ]
  },
  {
   "cell_type": "markdown",
   "metadata": {},
   "source": [
    "У нас остались пропуски в столбцах: `ceiling_height`, `locality_name`, `airports_nearest`, `cityCenters_nearest`, `parks_nearest`, `ponds_nearest`. Причем в некоторых очень большое количество - более 60% от общего числа данных, но так как для этих столбцов нет подходящего значения на замену - оставим значения пустыми. Замена медианой, средним значением или нулями может привести к  искажению результатов исследования."
   ]
  },
  {
   "cell_type": "markdown",
   "metadata": {},
   "source": [
    "Комментарии по проделанной работе с пропущенными значениями укажем ниже к каждому столбцу:\n",
    "* `balcony` (число балконов) - _заменили пропуски на 0_\n",
    "* `is_apartment (апартаменты)` - _заменили пропуски на False_\n",
    "* `ceiling_height`(высота потолков (м)) - _для данного столбца нет подходящего значения на замену_\n",
    "* `floors_total` (всего этажей в доме) - _заменили пропуски на 0_\n",
    "* `living_area` (жилая площадь в квадратных метрах (м²)) - _заполнили отношением средней общей площади к средней жилой_\n",
    "* `kitchen_area` (площадь кухни в квадратных метрах (м²)) - _заполнили отношением средней общей площади к средней площади кухни_\n",
    "* `locality_name` (название населённого пункта) - _для данного столбца нет подходящего значения на замену_\n",
    "* `airports_nearest` (расстояние до ближайшего аэропорта в метрах (м))- _для данного столбца нет подходящего значения на замену_\n",
    "* `cityCenters_nearest` (расстояние до центра города (м)) - _для данного столбца нет подходящего значения на замену_\n",
    "* `parks_around3000` (число парков в радиусе 3 км) - _заменили пропуски на 0_\n",
    "* `ponds_around3000` (число водоёмов в радиусе 3 км) - _заменили пропуски на 0_\n",
    "* `ponds_nearest` (расстояние до ближайшего водоёма) - _для данного столбца нет подходящего значения на замену_\n",
    "* `days_exposition` (сколько дней было размещено объявление (от публикации до снятия)) - _удалили из анализа_\n",
    "\n",
    "В целом, видим много пропущенных значений в датасете, что является поводом обратиться к разработчику и выяснить причины. \n",
    "\n",
    "Предварительно можем предположить, что на этапе выгрузки дынных произошел сбой. Однако есть вероятность, что в некоторые столбцы данные не внесены специально."
   ]
  },
  {
   "cell_type": "markdown",
   "metadata": {},
   "source": [
    "### Изменение типов данных."
   ]
  },
  {
   "cell_type": "markdown",
   "metadata": {},
   "source": [
    "Заменим вещественный тип данных в столбце `is_apartment` на bool с помощью метода astype().\n",
    "А также поменяем данные в столбцах `days_exposition`, `floors_total`, `parks_around3000`, `ponds_around3000` и `balcony` на тип int64.\n"
   ]
  },
  {
   "cell_type": "code",
   "execution_count": 13,
   "metadata": {},
   "outputs": [],
   "source": [
    "data['is_apartment'] = data['is_apartment'].astype('bool')"
   ]
  },
  {
   "cell_type": "markdown",
   "metadata": {},
   "source": [
    "Поменяем тип данных в стобцах  `days_exposition`, `floors_total`, `parks_around3000`, `ponds_around3000` и `balcony` с float на int64 с помощью цикла for."
   ]
  },
  {
   "cell_type": "code",
   "execution_count": 14,
   "metadata": {},
   "outputs": [],
   "source": [
    "type_replace = ['days_exposition', 'floors_total', 'balcony', 'parks_around3000', 'ponds_around3000'] #перебор названий столбцов в цикле и замена типа данных на int\n",
    "for j in type_replace:\n",
    "    data[j] = data[j].astype('int')"
   ]
  },
  {
   "cell_type": "markdown",
   "metadata": {},
   "source": [
    "Поменяем тип данных в столбце `first_day_exposition` на datetime."
   ]
  },
  {
   "cell_type": "code",
   "execution_count": 15,
   "metadata": {},
   "outputs": [
    {
     "name": "stdout",
     "output_type": "stream",
     "text": [
      "<class 'pandas.core.frame.DataFrame'>\n",
      "Int64Index: 20518 entries, 1 to 23697\n",
      "Data columns (total 22 columns):\n",
      " #   Column                Non-Null Count  Dtype         \n",
      "---  ------                --------------  -----         \n",
      " 0   total_images          20518 non-null  int64         \n",
      " 1   last_price            20518 non-null  float64       \n",
      " 2   total_area            20518 non-null  float64       \n",
      " 3   first_day_exposition  20518 non-null  datetime64[ns]\n",
      " 4   rooms                 20518 non-null  int64         \n",
      " 5   ceiling_height        12051 non-null  float64       \n",
      " 6   floors_total          20518 non-null  int64         \n",
      " 7   living_area           20518 non-null  float64       \n",
      " 8   floor                 20518 non-null  int64         \n",
      " 9   is_apartment          20518 non-null  bool          \n",
      " 10  studio                20518 non-null  bool          \n",
      " 11  open_plan             20518 non-null  bool          \n",
      " 12  kitchen_area          20518 non-null  float64       \n",
      " 13  balcony               20518 non-null  int64         \n",
      " 14  locality_name         20470 non-null  object        \n",
      " 15  airports_nearest      15843 non-null  float64       \n",
      " 16  cityCenters_nearest   15865 non-null  float64       \n",
      " 17  parks_around3000      20518 non-null  int64         \n",
      " 18  parks_nearest         6934 non-null   float64       \n",
      " 19  ponds_around3000      20518 non-null  int64         \n",
      " 20  ponds_nearest         7894 non-null   float64       \n",
      " 21  days_exposition       20518 non-null  int64         \n",
      "dtypes: bool(3), datetime64[ns](1), float64(9), int64(8), object(1)\n",
      "memory usage: 3.7+ MB\n"
     ]
    }
   ],
   "source": [
    "data['first_day_exposition'] = pd.to_datetime(data['first_day_exposition'], format = '%Y-%m-%d') #переводим столбец с датой в формат даты без времени, так как время не указано\n",
    "data.info() #проверяем информацию по таблице с измененным типом данных"
   ]
  },
  {
   "cell_type": "markdown",
   "metadata": {},
   "source": [
    "### Вывод"
   ]
  },
  {
   "cell_type": "markdown",
   "metadata": {},
   "source": [
    "Закончили этап предобработки данных.\n",
    "Заменили пропущенные значения на ноль, где это было уместно. Также заменили тип данных в столбцах `days_exposition`, `floors_total`, `balcony`, `parks_around3000`, `ponds_around3000` на int для удобства дальнейшего исследования.\n",
    "В столбце `first_day_exposition` исправили тип данных на datetime, а  в `is_apartment`на bool."
   ]
  },
  {
   "cell_type": "markdown",
   "metadata": {},
   "source": [
    "## Расчёты и добавление результатов в таблицу"
   ]
  },
  {
   "cell_type": "markdown",
   "metadata": {},
   "source": [
    "Добавим в таблицу новые данные:\n",
    "* цену квадратного метра\n",
    "* день недели, месяц и год публикации объявления\n",
    "* этаж квартиры; варианты — первый, последний, другой\n",
    "* соотношение жилой и общей площади, а также отношение площади кухни к общей."
   ]
  },
  {
   "cell_type": "code",
   "execution_count": 16,
   "metadata": {},
   "outputs": [],
   "source": [
    "data['price_one_square_meter'] = (data['last_price'] /data['total_area']).round(2) #дабаляем столбец с ценой квадратного метра\n",
    "data['weekday'] = data['first_day_exposition'].dt.weekday #добавляем столбец со днем недели\n",
    "data['month'] = data['first_day_exposition'].dt.month #добавляем столбец с месяцем\n",
    "data['year'] = data['first_day_exposition'].dt.year #добавляем столбец с годом"
   ]
  },
  {
   "cell_type": "code",
   "execution_count": 17,
   "metadata": {},
   "outputs": [],
   "source": [
    "def to_floor(value): #функция для распределения этажей квартиры\n",
    "    floors_total = value['floors_total']\n",
    "    floor = value['floor']\n",
    "    if floor == 1:\n",
    "        return 'первый'\n",
    "    elif floor == floors_total:\n",
    "        return 'последний'\n",
    "    else:\n",
    "        return 'другой'"
   ]
  },
  {
   "cell_type": "code",
   "execution_count": 18,
   "metadata": {},
   "outputs": [],
   "source": [
    "data['floor_category'] = data.apply(to_floor, axis = 1) #добавляем новый столбец с результатами работы функции"
   ]
  },
  {
   "cell_type": "code",
   "execution_count": 19,
   "metadata": {},
   "outputs": [
    {
     "data": {
      "text/html": [
       "<div>\n",
       "<style scoped>\n",
       "    .dataframe tbody tr th:only-of-type {\n",
       "        vertical-align: middle;\n",
       "    }\n",
       "\n",
       "    .dataframe tbody tr th {\n",
       "        vertical-align: top;\n",
       "    }\n",
       "\n",
       "    .dataframe thead th {\n",
       "        text-align: right;\n",
       "    }\n",
       "</style>\n",
       "<table border=\"1\" class=\"dataframe\">\n",
       "  <thead>\n",
       "    <tr style=\"text-align: right;\">\n",
       "      <th></th>\n",
       "      <th>total_images</th>\n",
       "      <th>last_price</th>\n",
       "      <th>total_area</th>\n",
       "      <th>first_day_exposition</th>\n",
       "      <th>rooms</th>\n",
       "      <th>ceiling_height</th>\n",
       "      <th>floors_total</th>\n",
       "      <th>living_area</th>\n",
       "      <th>floor</th>\n",
       "      <th>is_apartment</th>\n",
       "      <th>studio</th>\n",
       "      <th>open_plan</th>\n",
       "      <th>kitchen_area</th>\n",
       "      <th>balcony</th>\n",
       "      <th>locality_name</th>\n",
       "      <th>airports_nearest</th>\n",
       "      <th>cityCenters_nearest</th>\n",
       "      <th>parks_around3000</th>\n",
       "      <th>parks_nearest</th>\n",
       "      <th>ponds_around3000</th>\n",
       "      <th>ponds_nearest</th>\n",
       "      <th>days_exposition</th>\n",
       "      <th>price_one_square_meter</th>\n",
       "      <th>weekday</th>\n",
       "      <th>month</th>\n",
       "      <th>year</th>\n",
       "      <th>floor_category</th>\n",
       "      <th>living_area_ratio</th>\n",
       "      <th>kitchen_area_ratio</th>\n",
       "    </tr>\n",
       "  </thead>\n",
       "  <tbody>\n",
       "    <tr>\n",
       "      <th>1</th>\n",
       "      <td>7</td>\n",
       "      <td>3350000.0</td>\n",
       "      <td>40.4</td>\n",
       "      <td>2018-12-04</td>\n",
       "      <td>1</td>\n",
       "      <td>NaN</td>\n",
       "      <td>11</td>\n",
       "      <td>18.600000</td>\n",
       "      <td>1</td>\n",
       "      <td>False</td>\n",
       "      <td>False</td>\n",
       "      <td>False</td>\n",
       "      <td>11.000000</td>\n",
       "      <td>2</td>\n",
       "      <td>посёлок Шушары</td>\n",
       "      <td>12817.0</td>\n",
       "      <td>18603.0</td>\n",
       "      <td>0</td>\n",
       "      <td>NaN</td>\n",
       "      <td>0</td>\n",
       "      <td>NaN</td>\n",
       "      <td>81</td>\n",
       "      <td>82920.79</td>\n",
       "      <td>1</td>\n",
       "      <td>12</td>\n",
       "      <td>2018</td>\n",
       "      <td>первый</td>\n",
       "      <td>0.460396</td>\n",
       "      <td>0.272277</td>\n",
       "    </tr>\n",
       "    <tr>\n",
       "      <th>2</th>\n",
       "      <td>10</td>\n",
       "      <td>5196000.0</td>\n",
       "      <td>56.0</td>\n",
       "      <td>2015-08-20</td>\n",
       "      <td>2</td>\n",
       "      <td>NaN</td>\n",
       "      <td>5</td>\n",
       "      <td>34.300000</td>\n",
       "      <td>4</td>\n",
       "      <td>False</td>\n",
       "      <td>False</td>\n",
       "      <td>False</td>\n",
       "      <td>8.300000</td>\n",
       "      <td>0</td>\n",
       "      <td>Санкт-Петербург</td>\n",
       "      <td>21741.0</td>\n",
       "      <td>13933.0</td>\n",
       "      <td>1</td>\n",
       "      <td>90.0</td>\n",
       "      <td>2</td>\n",
       "      <td>574.0</td>\n",
       "      <td>558</td>\n",
       "      <td>92785.71</td>\n",
       "      <td>3</td>\n",
       "      <td>8</td>\n",
       "      <td>2015</td>\n",
       "      <td>другой</td>\n",
       "      <td>0.612500</td>\n",
       "      <td>0.148214</td>\n",
       "    </tr>\n",
       "    <tr>\n",
       "      <th>3</th>\n",
       "      <td>0</td>\n",
       "      <td>64900000.0</td>\n",
       "      <td>159.0</td>\n",
       "      <td>2015-07-24</td>\n",
       "      <td>3</td>\n",
       "      <td>NaN</td>\n",
       "      <td>14</td>\n",
       "      <td>90.856428</td>\n",
       "      <td>9</td>\n",
       "      <td>False</td>\n",
       "      <td>False</td>\n",
       "      <td>False</td>\n",
       "      <td>27.975245</td>\n",
       "      <td>0</td>\n",
       "      <td>Санкт-Петербург</td>\n",
       "      <td>28098.0</td>\n",
       "      <td>6800.0</td>\n",
       "      <td>2</td>\n",
       "      <td>84.0</td>\n",
       "      <td>3</td>\n",
       "      <td>234.0</td>\n",
       "      <td>424</td>\n",
       "      <td>408176.10</td>\n",
       "      <td>4</td>\n",
       "      <td>7</td>\n",
       "      <td>2015</td>\n",
       "      <td>другой</td>\n",
       "      <td>0.571424</td>\n",
       "      <td>0.175945</td>\n",
       "    </tr>\n",
       "    <tr>\n",
       "      <th>4</th>\n",
       "      <td>2</td>\n",
       "      <td>10000000.0</td>\n",
       "      <td>100.0</td>\n",
       "      <td>2018-06-19</td>\n",
       "      <td>2</td>\n",
       "      <td>3.03</td>\n",
       "      <td>14</td>\n",
       "      <td>32.000000</td>\n",
       "      <td>13</td>\n",
       "      <td>False</td>\n",
       "      <td>False</td>\n",
       "      <td>False</td>\n",
       "      <td>41.000000</td>\n",
       "      <td>0</td>\n",
       "      <td>Санкт-Петербург</td>\n",
       "      <td>31856.0</td>\n",
       "      <td>8098.0</td>\n",
       "      <td>2</td>\n",
       "      <td>112.0</td>\n",
       "      <td>1</td>\n",
       "      <td>48.0</td>\n",
       "      <td>121</td>\n",
       "      <td>100000.00</td>\n",
       "      <td>1</td>\n",
       "      <td>6</td>\n",
       "      <td>2018</td>\n",
       "      <td>другой</td>\n",
       "      <td>0.320000</td>\n",
       "      <td>0.410000</td>\n",
       "    </tr>\n",
       "    <tr>\n",
       "      <th>5</th>\n",
       "      <td>10</td>\n",
       "      <td>2890000.0</td>\n",
       "      <td>30.4</td>\n",
       "      <td>2018-09-10</td>\n",
       "      <td>1</td>\n",
       "      <td>NaN</td>\n",
       "      <td>12</td>\n",
       "      <td>14.400000</td>\n",
       "      <td>5</td>\n",
       "      <td>False</td>\n",
       "      <td>False</td>\n",
       "      <td>False</td>\n",
       "      <td>9.100000</td>\n",
       "      <td>0</td>\n",
       "      <td>городской посёлок Янино-1</td>\n",
       "      <td>NaN</td>\n",
       "      <td>NaN</td>\n",
       "      <td>0</td>\n",
       "      <td>NaN</td>\n",
       "      <td>0</td>\n",
       "      <td>NaN</td>\n",
       "      <td>55</td>\n",
       "      <td>95065.79</td>\n",
       "      <td>0</td>\n",
       "      <td>9</td>\n",
       "      <td>2018</td>\n",
       "      <td>другой</td>\n",
       "      <td>0.473684</td>\n",
       "      <td>0.299342</td>\n",
       "    </tr>\n",
       "  </tbody>\n",
       "</table>\n",
       "</div>"
      ],
      "text/plain": [
       "   total_images  last_price  total_area first_day_exposition  rooms  \\\n",
       "1             7   3350000.0        40.4           2018-12-04      1   \n",
       "2            10   5196000.0        56.0           2015-08-20      2   \n",
       "3             0  64900000.0       159.0           2015-07-24      3   \n",
       "4             2  10000000.0       100.0           2018-06-19      2   \n",
       "5            10   2890000.0        30.4           2018-09-10      1   \n",
       "\n",
       "   ceiling_height  floors_total  living_area  floor  is_apartment  studio  \\\n",
       "1             NaN            11    18.600000      1         False   False   \n",
       "2             NaN             5    34.300000      4         False   False   \n",
       "3             NaN            14    90.856428      9         False   False   \n",
       "4            3.03            14    32.000000     13         False   False   \n",
       "5             NaN            12    14.400000      5         False   False   \n",
       "\n",
       "   open_plan  kitchen_area  balcony              locality_name  \\\n",
       "1      False     11.000000        2             посёлок Шушары   \n",
       "2      False      8.300000        0            Санкт-Петербург   \n",
       "3      False     27.975245        0            Санкт-Петербург   \n",
       "4      False     41.000000        0            Санкт-Петербург   \n",
       "5      False      9.100000        0  городской посёлок Янино-1   \n",
       "\n",
       "   airports_nearest  cityCenters_nearest  parks_around3000  parks_nearest  \\\n",
       "1           12817.0              18603.0                 0            NaN   \n",
       "2           21741.0              13933.0                 1           90.0   \n",
       "3           28098.0               6800.0                 2           84.0   \n",
       "4           31856.0               8098.0                 2          112.0   \n",
       "5               NaN                  NaN                 0            NaN   \n",
       "\n",
       "   ponds_around3000  ponds_nearest  days_exposition  price_one_square_meter  \\\n",
       "1                 0            NaN               81                82920.79   \n",
       "2                 2          574.0              558                92785.71   \n",
       "3                 3          234.0              424               408176.10   \n",
       "4                 1           48.0              121               100000.00   \n",
       "5                 0            NaN               55                95065.79   \n",
       "\n",
       "   weekday  month  year floor_category  living_area_ratio  kitchen_area_ratio  \n",
       "1        1     12  2018         первый           0.460396            0.272277  \n",
       "2        3      8  2015         другой           0.612500            0.148214  \n",
       "3        4      7  2015         другой           0.571424            0.175945  \n",
       "4        1      6  2018         другой           0.320000            0.410000  \n",
       "5        0      9  2018         другой           0.473684            0.299342  "
      ]
     },
     "execution_count": 19,
     "metadata": {},
     "output_type": "execute_result"
    }
   ],
   "source": [
    "data['living_area_ratio'] = data['living_area'] / data['total_area'] #добавляем столбец соотношения жилой площади к общей\n",
    "data['kitchen_area_ratio'] = data['kitchen_area'] / data['total_area'] #добавляем столбец отношения площади кухни к общей\n",
    "data.head() #проверяем наличие новых столбцов"
   ]
  },
  {
   "cell_type": "markdown",
   "metadata": {},
   "source": [
    "### Вывод\n",
    "\n",
    "Добавили нужные нам для анализа данные в таблицу."
   ]
  },
  {
   "cell_type": "markdown",
   "metadata": {},
   "source": [
    "## Исследовательский анализ данных"
   ]
  },
  {
   "cell_type": "markdown",
   "metadata": {},
   "source": [
    "### Изучим следующие параметры: площадь, цена, число комнат, высота потолков."
   ]
  },
  {
   "cell_type": "code",
   "execution_count": 20,
   "metadata": {},
   "outputs": [
    {
     "data": {
      "text/plain": [
       "count    20518.000000\n",
       "mean        58.870830\n",
       "std         34.077046\n",
       "min         12.000000\n",
       "25%         39.500000\n",
       "50%         50.900000\n",
       "75%         67.900000\n",
       "max        900.000000\n",
       "Name: total_area, dtype: float64"
      ]
     },
     "execution_count": 20,
     "metadata": {},
     "output_type": "execute_result"
    },
    {
     "data": {
      "image/png": "[encoded data removed]",
      "text/plain": [
       "<Figure size 432x288 with 1 Axes>"
      ]
     },
     "metadata": {
      "needs_background": "light"
     },
     "output_type": "display_data"
    }
   ],
   "source": [
    "data['total_area'].hist(range=(0, 500), bins=100) #построим гистограмму для площади\n",
    "data['total_area'].describe() #получим общее описание по столбцу total_area"
   ]
  },
  {
   "cell_type": "markdown",
   "metadata": {},
   "source": [
    "В целом данные однородные, наблюдаем пик на 40-ка м². Есть небольшие выбросы, которые не будут влиять на исход исследования за счет небольшого количества. Среднее и медиана не сильно отличаются друг от друга. Еще обратим внимание на максимальное значение 900 м², но не будем его исправлять, так как вполне вероятно, что значение правдивое. "
   ]
  },
  {
   "cell_type": "code",
   "execution_count": 21,
   "metadata": {},
   "outputs": [
    {
     "data": {
      "text/plain": [
       "count    2.051800e+04\n",
       "mean     6.266173e+06\n",
       "std      1.086298e+07\n",
       "min      1.219000e+04\n",
       "25%      3.400000e+06\n",
       "50%      4.500000e+06\n",
       "75%      6.500000e+06\n",
       "max      7.630000e+08\n",
       "Name: last_price, dtype: float64"
      ]
     },
     "execution_count": 21,
     "metadata": {},
     "output_type": "execute_result"
    },
    {
     "data": {
      "image/png": "[encoded data removed]",
      "text/plain": [
       "<Figure size 432x288 with 1 Axes>"
      ]
     },
     "metadata": {
      "needs_background": "light"
     },
     "output_type": "display_data"
    }
   ],
   "source": [
    "data['last_price'].hist(range=(0, 15000000), bins=100) #построим гистограмму для цены\n",
    "data['last_price'].describe() #получим общее описание по столбцу last_price"
   ]
  },
  {
   "cell_type": "markdown",
   "metadata": {},
   "source": [
    "На гистограмме цены наблюдаем нормальное распределение данных. Видим пик на 4 млн, что похоже на правду. Но в то же время минимальная стоимость объекта по общему описанию - 12 190 рублей, что вряд ли корректно."
   ]
  },
  {
   "cell_type": "code",
   "execution_count": 22,
   "metadata": {},
   "outputs": [
    {
     "data": {
      "text/plain": [
       "count    20518.000000\n",
       "mean         2.024564\n",
       "std          1.054808\n",
       "min          0.000000\n",
       "25%          1.000000\n",
       "50%          2.000000\n",
       "75%          3.000000\n",
       "max         19.000000\n",
       "Name: rooms, dtype: float64"
      ]
     },
     "execution_count": 22,
     "metadata": {},
     "output_type": "execute_result"
    },
    {
     "data": {
      "image/png": "[encoded data removed]",
      "text/plain": [
       "<Figure size 432x288 with 1 Axes>"
      ]
     },
     "metadata": {
      "needs_background": "light"
     },
     "output_type": "display_data"
    }
   ],
   "source": [
    "data['rooms'].hist(bins=30) #построим гистограмму для числа комнат\n",
    "data['rooms'].describe() #получим общее описание по столбцу rooms"
   ]
  },
  {
   "cell_type": "markdown",
   "metadata": {},
   "source": [
    "Видим, что больше всего объектов с одной и двумя комнатами. Также обратим внимание на аномалии - количество комнат 0, причина появления которых непонятна. "
   ]
  },
  {
   "cell_type": "code",
   "execution_count": 23,
   "metadata": {},
   "outputs": [
    {
     "data": {
      "text/plain": [
       "count    12051.000000\n",
       "mean         2.761805\n",
       "std          1.263803\n",
       "min          1.000000\n",
       "25%          2.520000\n",
       "50%          2.650000\n",
       "75%          2.800000\n",
       "max        100.000000\n",
       "Name: ceiling_height, dtype: float64"
      ]
     },
     "execution_count": 23,
     "metadata": {},
     "output_type": "execute_result"
    },
    {
     "data": {
      "image/png": "[encoded data removed]",
      "text/plain": [
       "<Figure size 432x288 with 1 Axes>"
      ]
     },
     "metadata": {
      "needs_background": "light"
     },
     "output_type": "display_data"
    }
   ],
   "source": [
    "data['ceiling_height'].hist(range=(1, 5), bins=30) #построим гистограмму для высоты потолков\n",
    "data['ceiling_height'].describe() #получим общее описание по столбцу ceiling_height"
   ]
  },
  {
   "cell_type": "markdown",
   "metadata": {},
   "source": [
    "В среднем высота потолков в выборке составляет 2,7 метра - вполне реальное значение. Но также присутствуют аномальные значения, так как 1 и 100 метров."
   ]
  },
  {
   "cell_type": "markdown",
   "metadata": {},
   "source": [
    "**Вывод**\n",
    "\n",
    "Практически во всех проверенных столбцах видим аномальные значения, которые описали выше. О причине их возникновения лучше уточнить у заказчика. Для дальнейшего исследования не будем удалять аномальные значения."
   ]
  },
  {
   "cell_type": "markdown",
   "metadata": {},
   "source": [
    "### Изучим время продажи квартиры."
   ]
  },
  {
   "cell_type": "markdown",
   "metadata": {},
   "source": [
    "Построим гистограмму и посчитаем среднее значение и медиану. \n",
    "\n",
    "Так как на предыдущих шагах мы заменили пропущенные значения в столбце `days_exposition` на 0, не будем учитывать их при построениии гистограммы.\n",
    "\n",
    "Для начала построим диаграмму размаха, чтобы визуально оценить характеристики распределения."
   ]
  },
  {
   "cell_type": "code",
   "execution_count": 24,
   "metadata": {},
   "outputs": [
    {
     "data": {
      "text/plain": [
       "(1.0, 1000.0)"
      ]
     },
     "execution_count": 24,
     "metadata": {},
     "output_type": "execute_result"
    },
    {
     "data": {
      "image/png": "[encoded data removed]",
      "text/plain": [
       "<Figure size 432x288 with 1 Axes>"
      ]
     },
     "metadata": {
      "needs_background": "light"
     },
     "output_type": "display_data"
    }
   ],
   "source": [
    "plt.boxplot(data['days_exposition']) #строим диаграмму размаха\n",
    "plt.ylim(1,1000)"
   ]
  },
  {
   "cell_type": "markdown",
   "metadata": {},
   "source": [
    "Большая часть значений лежит в диапазоне до 200 дней, а ориентировочная граница нормального размаха примерно 500 дней.\n",
    "\n",
    "Построим гистрограммы для наглядности."
   ]
  },
  {
   "cell_type": "code",
   "execution_count": 25,
   "metadata": {},
   "outputs": [
    {
     "data": {
      "text/plain": [
       "<AxesSubplot:ylabel='Frequency'>"
      ]
     },
     "execution_count": 25,
     "metadata": {},
     "output_type": "execute_result"
    },
    {
     "data": {
      "image/png": "[encoded data removed]",
      "text/plain": [
       "<Figure size 432x288 with 1 Axes>"
      ]
     },
     "metadata": {
      "needs_background": "light"
     },
     "output_type": "display_data"
    },
    {
     "data": {
      "image/png": "[encoded data removed]",
      "text/plain": [
       "<Figure size 432x288 with 1 Axes>"
      ]
     },
     "metadata": {
      "needs_background": "light"
     },
     "output_type": "display_data"
    }
   ],
   "source": [
    "data.plot(y = 'days_exposition', kind = 'hist', range = (1,1600), bins = 30, grid = True) #строим гистограмму времени продажи квартиры\n",
    "data.plot(y = 'days_exposition', kind = 'hist', range = (1,200), bins = 100, grid = True) #строим гистограмму времени продажи квартиры для нормальных значений "
   ]
  },
  {
   "cell_type": "code",
   "execution_count": 26,
   "metadata": {},
   "outputs": [
    {
     "data": {
      "text/plain": [
       "count    20518.000000\n",
       "mean       180.888634\n",
       "std        219.727988\n",
       "min          1.000000\n",
       "25%         45.000000\n",
       "50%         95.000000\n",
       "75%        232.000000\n",
       "max       1580.000000\n",
       "Name: days_exposition, dtype: float64"
      ]
     },
     "execution_count": 26,
     "metadata": {},
     "output_type": "execute_result"
    }
   ],
   "source": [
    "\n",
    "data[data['days_exposition']!=0]['days_exposition'].describe() #получим общее описание по столбцу days_exposition, без учета нулевых значений"
   ]
  },
  {
   "cell_type": "markdown",
   "metadata": {},
   "source": [
    "На гистограмме нормальных значений видим несколько подозрительных пиков, самые явные примерно на 45, 60 и 90, также есть выбивающиеся значения на 7-ми и 30-ти днях.\n",
    "\n",
    "Проверим количество уникальных значений методом value_counts."
   ]
  },
  {
   "cell_type": "code",
   "execution_count": 27,
   "metadata": {},
   "outputs": [
    {
     "data": {
      "text/plain": [
       "45      880\n",
       "60      538\n",
       "7       234\n",
       "30      208\n",
       "90      204\n",
       "       ... \n",
       "1112      1\n",
       "1080      1\n",
       "1064      1\n",
       "1032      1\n",
       "1391      1\n",
       "Name: days_exposition, Length: 1141, dtype: int64"
      ]
     },
     "execution_count": 27,
     "metadata": {},
     "output_type": "execute_result"
    }
   ],
   "source": [
    "data[data['days_exposition']!=0]['days_exposition'].value_counts() #проверяем количество уникальных значений"
   ]
  },
  {
   "cell_type": "markdown",
   "metadata": {},
   "source": [
    "Действительно, видим много публикаций, которые были проданы за 7, 30, 45, 60 и 90 дней, что вызывает подозрения. Можем предположить, что дата снятия публикации - это не есть дата продажи. Скорее всего публикации снимаются автоматически по истечению заранее обозначенного на платформе времени. Подтверждение данной гипотезе есть на официальном сайте Яндекс Справка."
   ]
  },
  {
   "cell_type": "markdown",
   "metadata": {},
   "source": [
    "**Вывод** \n",
    "\n",
    "Исходя из общего описания, межквартальный размах для времени продажи квартиры является промежуток начиная от 45 и до 232 дней, а по диаграмме размаха нормальные значения простираются примерно до 500 дней, остальные значения считаются выбросами. \n",
    "\n",
    "Можем сказать, что обычно продажа занимает от 1 до 500 дней, если продажа прошла до 45 дней, то это считается быстро, а после 550 дней - необычно долго. "
   ]
  },
  {
   "cell_type": "markdown",
   "metadata": {},
   "source": [
    "### Убираем редкие и выбивающиеся значения."
   ]
  },
  {
   "cell_type": "markdown",
   "metadata": {},
   "source": [
    "Примем решение убрать из анализа выбивающиеся значения в столбце `days_exposition`, так как мы выяснили, что это особенность размещения публикации на Яндекс Недвижимость.\n",
    "\n",
    "Для этого сделаем срез, который исключает значения в 7, 30, 45, 60 и 90 дней."
   ]
  },
  {
   "cell_type": "code",
   "execution_count": 28,
   "metadata": {},
   "outputs": [],
   "source": [
    "data2 = data.query('total_area <= 200 \\\n",
    "    and last_price <= 20000000 \\\n",
    "    and 0 < rooms <= 5 \\\n",
    "    and 2.2 <= ceiling_height <= 4 \\\n",
    "    and days_exposition != 0 \\\n",
    "    and days_exposition != 7 \\\n",
    "    and days_exposition != 30 \\\n",
    "    and days_exposition != 45 \\\n",
    "    and days_exposition != 60 \\\n",
    "    and days_exposition != 90'\\\n",
    "                 ) #делаем срез без аномалий\n"
   ]
  },
  {
   "cell_type": "markdown",
   "metadata": {},
   "source": [
    "Теперь посмотрим на диаграмму размаха и общее описание для отфильтрованных значений столбца `days_exposition`."
   ]
  },
  {
   "cell_type": "code",
   "execution_count": 29,
   "metadata": {},
   "outputs": [
    {
     "data": {
      "text/plain": [
       "count    10490.000000\n",
       "mean       200.744423\n",
       "std        231.153982\n",
       "min          1.000000\n",
       "25%         47.000000\n",
       "50%        117.000000\n",
       "75%        265.000000\n",
       "max       1580.000000\n",
       "Name: days_exposition, dtype: float64"
      ]
     },
     "execution_count": 29,
     "metadata": {},
     "output_type": "execute_result"
    },
    {
     "data": {
      "image/png": "[encoded data removed]",
      "text/plain": [
       "<Figure size 432x288 with 1 Axes>"
      ]
     },
     "metadata": {
      "needs_background": "light"
     },
     "output_type": "display_data"
    }
   ],
   "source": [
    "plt.boxplot(data2['days_exposition']) #строим диаграмму размаха\n",
    "plt.ylim(1,1000)\n",
    "data2['days_exposition'].describe()"
   ]
  },
  {
   "cell_type": "code",
   "execution_count": 30,
   "metadata": {},
   "outputs": [
    {
     "data": {
      "text/plain": [
       "<AxesSubplot:ylabel='Frequency'>"
      ]
     },
     "execution_count": 30,
     "metadata": {},
     "output_type": "execute_result"
    },
    {
     "data": {
      "image/png": "[encoded data removed]",
      "text/plain": [
       "<Figure size 432x288 with 1 Axes>"
      ]
     },
     "metadata": {
      "needs_background": "light"
     },
     "output_type": "display_data"
    },
    {
     "data": {
      "image/png": "[encoded data removed]",
      "text/plain": [
       "<Figure size 432x288 with 1 Axes>"
      ]
     },
     "metadata": {
      "needs_background": "light"
     },
     "output_type": "display_data"
    }
   ],
   "source": [
    "data2.plot(y = 'days_exposition', kind = 'hist', range = (1,1600), bins = 30, grid = True) #строим гистограмму времени продажи квартиры\n",
    "data2.plot(y = 'days_exposition', kind = 'hist', range = (1,200), bins = 100, grid = True) #строим гистограмму времени продажи квартиры для нормальных значений "
   ]
  },
  {
   "cell_type": "code",
   "execution_count": 31,
   "metadata": {},
   "outputs": [
    {
     "data": {
      "text/plain": [
       "4       102\n",
       "3        90\n",
       "8        88\n",
       "14       86\n",
       "5        83\n",
       "       ... \n",
       "636       1\n",
       "684       1\n",
       "700       1\n",
       "688       1\n",
       "1375      1\n",
       "Name: days_exposition, Length: 1009, dtype: int64"
      ]
     },
     "execution_count": 31,
     "metadata": {},
     "output_type": "execute_result"
    }
   ],
   "source": [
    "data2['days_exposition'].value_counts() #проверяем количество уникальных значений"
   ]
  },
  {
   "cell_type": "markdown",
   "metadata": {},
   "source": [
    "**Вывод**\n",
    "\n",
    "В этом разделе очистили нашу таблицу от выбивающихся значений. Ограничили цену до 20 млн, высоту потолков от 2.2 до 4х метров, общую площадь до 200, и удалили выбивающиеся значения в столбце days_exposition, так как мы выяснили, что это особенность размещения публикации на Яндекс Недвижимость - исключили значения в 7, 30, 45, 60 и 90 дней.\n",
    "\n",
    "В отфильтрованных данных по столбцу `days_exposition` видим изменение среднего (195) и медианы (114), в то время как в изначальных данных данных значение среднего было 180, а медианы - 95. Также видим, что теперь нормальные значения доходят до 600 дней, а ранее было 500."
   ]
  },
  {
   "cell_type": "markdown",
   "metadata": {},
   "source": [
    "### Какие факторы больше всего влияют на стоимость квартиры? "
   ]
  },
  {
   "cell_type": "markdown",
   "metadata": {},
   "source": [
    "**Проанализируем зависит ли цена квартиры от площади.**"
   ]
  },
  {
   "cell_type": "code",
   "execution_count": 32,
   "metadata": {},
   "outputs": [
    {
     "data": {
      "text/plain": [
       "<AxesSubplot:xlabel='total_area'>"
      ]
     },
     "execution_count": 32,
     "metadata": {},
     "output_type": "execute_result"
    },
    {
     "data": {
      "image/png": "[encoded data removed]",
      "text/plain": [
       "<Figure size 432x288 with 1 Axes>"
      ]
     },
     "metadata": {
      "needs_background": "light"
     },
     "output_type": "display_data"
    }
   ],
   "source": [
    "data2.pivot_table(index='total_area', values='last_price', aggfunc='median').plot(style='o', alpha=0.5) #строим график по сводной таблице"
   ]
  },
  {
   "cell_type": "code",
   "execution_count": 33,
   "metadata": {},
   "outputs": [
    {
     "data": {
      "text/plain": [
       "0.773311674777403"
      ]
     },
     "execution_count": 33,
     "metadata": {},
     "output_type": "execute_result"
    }
   ],
   "source": [
    "data2['total_area'].corr(data['last_price']) #считаем коэффициент корреляции Пирсона"
   ]
  },
  {
   "cell_type": "markdown",
   "metadata": {},
   "source": [
    "Видим зависимость стоимости квартиры от ее площади, но также обратим внимание на маленький процент корреляции. "
   ]
  },
  {
   "cell_type": "markdown",
   "metadata": {},
   "source": [
    "Видим, что эти два праметра почти не взаимосвязаны друг с другом. Но нужно смотреть грубже, так как маловероятно, что это правда. "
   ]
  },
  {
   "cell_type": "markdown",
   "metadata": {},
   "source": [
    "**Проанализируем зависит ли цена квартиры от количества комнат.**"
   ]
  },
  {
   "cell_type": "code",
   "execution_count": 34,
   "metadata": {},
   "outputs": [
    {
     "data": {
      "text/plain": [
       "<AxesSubplot:xlabel='rooms'>"
      ]
     },
     "execution_count": 34,
     "metadata": {},
     "output_type": "execute_result"
    },
    {
     "data": {
      "image/png": "[encoded data removed]",
      "text/plain": [
       "<Figure size 432x288 with 1 Axes>"
      ]
     },
     "metadata": {
      "needs_background": "light"
     },
     "output_type": "display_data"
    }
   ],
   "source": [
    "data2.pivot_table(index = 'rooms', values = 'last_price').plot() #строим график по сводной таблице"
   ]
  },
  {
   "cell_type": "code",
   "execution_count": 35,
   "metadata": {},
   "outputs": [
    {
     "data": {
      "text/plain": [
       "0.49852610296725675"
      ]
     },
     "execution_count": 35,
     "metadata": {},
     "output_type": "execute_result"
    }
   ],
   "source": [
    "data2['rooms'].corr(data['last_price']) #считаем коэффициент корреляции Пирсона"
   ]
  },
  {
   "cell_type": "markdown",
   "metadata": {},
   "source": [
    "Видим плавное подорожание стоимости начиная от одной и до пяти комнат, взаимосвязь очевидна. Только вот процент корреляции маленький. \n"
   ]
  },
  {
   "cell_type": "markdown",
   "metadata": {},
   "source": [
    "**Проанализируем зависит ли цена квартиры от удаленности от центра.**"
   ]
  },
  {
   "cell_type": "code",
   "execution_count": 36,
   "metadata": {},
   "outputs": [
    {
     "data": {
      "text/plain": [
       "<AxesSubplot:xlabel='cityCenters_nearest'>"
      ]
     },
     "execution_count": 36,
     "metadata": {},
     "output_type": "execute_result"
    },
    {
     "data": {
      "image/png": "[encoded data removed]",
      "text/plain": [
       "<Figure size 432x288 with 1 Axes>"
      ]
     },
     "metadata": {
      "needs_background": "light"
     },
     "output_type": "display_data"
    }
   ],
   "source": [
    "data.pivot_table(index='cityCenters_nearest', values='last_price').plot() #строим график по сводной таблице"
   ]
  },
  {
   "cell_type": "code",
   "execution_count": 37,
   "metadata": {},
   "outputs": [
    {
     "data": {
      "text/plain": [
       "-0.19343667576402354"
      ]
     },
     "execution_count": 37,
     "metadata": {},
     "output_type": "execute_result"
    }
   ],
   "source": [
    "data['cityCenters_nearest'].corr(data['last_price']) #считаем коэффициент корреляции Пирсона"
   ]
  },
  {
   "cell_type": "markdown",
   "metadata": {},
   "source": [
    "Тут видим явную зависимость, что подтверждает и отрицательная корреляция. Чем ближе квартира к центру, тем она дороже."
   ]
  },
  {
   "cell_type": "markdown",
   "metadata": {},
   "source": [
    "**Проанализируем зависит ли цена квартиры от этажа: первый, последний или другой.**"
   ]
  },
  {
   "cell_type": "code",
   "execution_count": 38,
   "metadata": {},
   "outputs": [
    {
     "data": {
      "text/plain": [
       "<AxesSubplot:xlabel='floor_category'>"
      ]
     },
     "execution_count": 38,
     "metadata": {},
     "output_type": "execute_result"
    },
    {
     "data": {
      "image/png": "[encoded data removed]",
      "text/plain": [
       "<Figure size 432x288 with 1 Axes>"
      ]
     },
     "metadata": {
      "needs_background": "light"
     },
     "output_type": "display_data"
    }
   ],
   "source": [
    "data.pivot_table(index='floor_category', values='last_price').plot() #строим график по сводной таблице"
   ]
  },
  {
   "cell_type": "markdown",
   "metadata": {},
   "source": [
    "По графику можем сказать, что квартиры на первом этаже в среднем дешевле, чем на любом другом. В то время как, квартиры на последнем этаже дороже остальных квартир. "
   ]
  },
  {
   "cell_type": "markdown",
   "metadata": {},
   "source": [
    "**Проанализируем зависит ли цена квартиры от даты размещения: дня недели, месяца и года.**"
   ]
  },
  {
   "cell_type": "code",
   "execution_count": 39,
   "metadata": {},
   "outputs": [
    {
     "data": {
      "text/plain": [
       "<AxesSubplot:xlabel='weekday'>"
      ]
     },
     "execution_count": 39,
     "metadata": {},
     "output_type": "execute_result"
    },
    {
     "data": {
      "image/png": "[encoded data removed]",
      "text/plain": [
       "<Figure size 432x288 with 1 Axes>"
      ]
     },
     "metadata": {
      "needs_background": "light"
     },
     "output_type": "display_data"
    }
   ],
   "source": [
    "data.pivot_table(index=['weekday'], values='last_price', aggfunc='median').plot() #строим график по сводной таблице"
   ]
  },
  {
   "cell_type": "code",
   "execution_count": 40,
   "metadata": {},
   "outputs": [
    {
     "data": {
      "text/plain": [
       "0.00463690877420102"
      ]
     },
     "execution_count": 40,
     "metadata": {},
     "output_type": "execute_result"
    }
   ],
   "source": [
    "data['weekday'].corr(data['last_price']) #считаем коэффициент корреляции Пирсона"
   ]
  },
  {
   "cell_type": "markdown",
   "metadata": {},
   "source": [
    "Видим, что начиная от понедельника стоимость на квартиры стремительно падает вплоть до пятницы. В субботу самая низная стоимость. "
   ]
  },
  {
   "cell_type": "code",
   "execution_count": 41,
   "metadata": {},
   "outputs": [
    {
     "data": {
      "text/plain": [
       "<AxesSubplot:xlabel='month'>"
      ]
     },
     "execution_count": 41,
     "metadata": {},
     "output_type": "execute_result"
    },
    {
     "data": {
      "image/png": "[encoded data removed]",
      "text/plain": [
       "<Figure size 432x288 with 1 Axes>"
      ]
     },
     "metadata": {
      "needs_background": "light"
     },
     "output_type": "display_data"
    }
   ],
   "source": [
    "data.pivot_table(index=['month'], values='last_price', aggfunc='median').plot() #строим график по сводной таблице"
   ]
  },
  {
   "cell_type": "code",
   "execution_count": 42,
   "metadata": {},
   "outputs": [
    {
     "data": {
      "text/plain": [
       "0.005631446656550295"
      ]
     },
     "execution_count": 42,
     "metadata": {},
     "output_type": "execute_result"
    }
   ],
   "source": [
    "data['month'].corr(data['last_price']) #считаем коэффициент корреляции Пирсона"
   ]
  },
  {
   "cell_type": "markdown",
   "metadata": {},
   "source": [
    "Есть зависимость от месяца размещения, летом квартиры стоят в среднем дешевле. Видим, что в июне дешевле всего, а дальше идет увеличение цены перед новым годом. "
   ]
  },
  {
   "cell_type": "code",
   "execution_count": 43,
   "metadata": {},
   "outputs": [
    {
     "data": {
      "text/plain": [
       "<AxesSubplot:xlabel='year'>"
      ]
     },
     "execution_count": 43,
     "metadata": {},
     "output_type": "execute_result"
    },
    {
     "data": {
      "image/png": "[encoded data removed]",
      "text/plain": [
       "<Figure size 432x288 with 1 Axes>"
      ]
     },
     "metadata": {
      "needs_background": "light"
     },
     "output_type": "display_data"
    }
   ],
   "source": [
    "data.pivot_table(index=['year'], values='last_price', aggfunc='median').plot() #строим график по сводной таблице"
   ]
  },
  {
   "cell_type": "code",
   "execution_count": 44,
   "metadata": {},
   "outputs": [
    {
     "data": {
      "text/plain": [
       "-0.06112153555000583"
      ]
     },
     "execution_count": 44,
     "metadata": {},
     "output_type": "execute_result"
    }
   ],
   "source": [
    "data['year'].corr(data['last_price']) #считаем коэффициент корреляции Пирсона"
   ]
  },
  {
   "cell_type": "markdown",
   "metadata": {},
   "source": [
    "Видно, что начиная с 2014 стоимость падала и до 2016 года, далее наблюдаем практически одинаковую стоимость на протяжение трех лет, а далее увеличение. "
   ]
  },
  {
   "cell_type": "markdown",
   "metadata": {},
   "source": [
    "**Вывод**\n",
    "\n",
    "После анализа указаных параметров выявили четкую взаимосвязь стоимости квартиры от ее расположения, а точнее расстояния до центра города - чем ближе квартира к центру, тем она дороже. Также заметили, что стоимость квартиры зависит от числа комнат - чем больше комнат, тем дороже. На каком этаже расположена квартира: на первом этаже квартиры дешевле, а на последнем дороже. И от даты размещения: по пятницам и субботам стоимость квартиры при размещении дешевле, чем в остальные дни. Летом  квартиры стоят в среднем дешевле, а также увидели, что начиная с 2014 стоимость падала и до 2016 года, далее наблюдаем практически одинаковую стоимость на протяжение трех лет, а далее увеличение. "
   ]
  },
  {
   "cell_type": "markdown",
   "metadata": {},
   "source": [
    "### Анализ 10-ти населённых пунктов с наибольшим числом объявлений"
   ]
  },
  {
   "cell_type": "code",
   "execution_count": 45,
   "metadata": {},
   "outputs": [
    {
     "data": {
      "text/plain": [
       "Санкт-Петербург      13638\n",
       "посёлок Мурино         517\n",
       "посёлок Шушары         408\n",
       "Всеволожск             339\n",
       "Колпино                308\n",
       "Пушкин                 307\n",
       "посёлок Парголово      302\n",
       "деревня Кудрово        299\n",
       "Гатчина                268\n",
       "Выборг                 208\n",
       "Name: locality_name, dtype: int64"
      ]
     },
     "execution_count": 45,
     "metadata": {},
     "output_type": "execute_result"
    }
   ],
   "source": [
    "data['locality_name'].value_counts().head(10) #посмотрим на 10 населённых пунктов с наибольшим числом объявлений"
   ]
  },
  {
   "cell_type": "markdown",
   "metadata": {},
   "source": [
    "Построим сводную таблицу для подсчета средней цены квадратного метра в десяти населенных пунктах с наибольшим числом объявлений."
   ]
  },
  {
   "cell_type": "code",
   "execution_count": 46,
   "metadata": {},
   "outputs": [
    {
     "data": {
      "text/html": [
       "<div>\n",
       "<style scoped>\n",
       "    .dataframe tbody tr th:only-of-type {\n",
       "        vertical-align: middle;\n",
       "    }\n",
       "\n",
       "    .dataframe tbody tr th {\n",
       "        vertical-align: top;\n",
       "    }\n",
       "\n",
       "    .dataframe thead th {\n",
       "        text-align: right;\n",
       "    }\n",
       "</style>\n",
       "<table border=\"1\" class=\"dataframe\">\n",
       "  <thead>\n",
       "    <tr style=\"text-align: right;\">\n",
       "      <th></th>\n",
       "      <th>count</th>\n",
       "      <th>mean</th>\n",
       "    </tr>\n",
       "    <tr>\n",
       "      <th>locality_name</th>\n",
       "      <th></th>\n",
       "      <th></th>\n",
       "    </tr>\n",
       "  </thead>\n",
       "  <tbody>\n",
       "    <tr>\n",
       "      <th>Санкт-Петербург</th>\n",
       "      <td>13638</td>\n",
       "      <td>112412.025191</td>\n",
       "    </tr>\n",
       "    <tr>\n",
       "      <th>посёлок Мурино</th>\n",
       "      <td>517</td>\n",
       "      <td>85818.383520</td>\n",
       "    </tr>\n",
       "    <tr>\n",
       "      <th>посёлок Шушары</th>\n",
       "      <td>408</td>\n",
       "      <td>78010.167525</td>\n",
       "    </tr>\n",
       "    <tr>\n",
       "      <th>Всеволожск</th>\n",
       "      <td>339</td>\n",
       "      <td>68570.615310</td>\n",
       "    </tr>\n",
       "    <tr>\n",
       "      <th>Колпино</th>\n",
       "      <td>308</td>\n",
       "      <td>74865.364351</td>\n",
       "    </tr>\n",
       "    <tr>\n",
       "      <th>Пушкин</th>\n",
       "      <td>307</td>\n",
       "      <td>102074.629283</td>\n",
       "    </tr>\n",
       "    <tr>\n",
       "      <th>посёлок Парголово</th>\n",
       "      <td>302</td>\n",
       "      <td>89505.043543</td>\n",
       "    </tr>\n",
       "    <tr>\n",
       "      <th>деревня Кудрово</th>\n",
       "      <td>299</td>\n",
       "      <td>92473.547559</td>\n",
       "    </tr>\n",
       "    <tr>\n",
       "      <th>Гатчина</th>\n",
       "      <td>268</td>\n",
       "      <td>67928.326791</td>\n",
       "    </tr>\n",
       "    <tr>\n",
       "      <th>Выборг</th>\n",
       "      <td>208</td>\n",
       "      <td>57084.583221</td>\n",
       "    </tr>\n",
       "  </tbody>\n",
       "</table>\n",
       "</div>"
      ],
      "text/plain": [
       "                   count           mean\n",
       "locality_name                          \n",
       "Санкт-Петербург    13638  112412.025191\n",
       "посёлок Мурино       517   85818.383520\n",
       "посёлок Шушары       408   78010.167525\n",
       "Всеволожск           339   68570.615310\n",
       "Колпино              308   74865.364351\n",
       "Пушкин               307  102074.629283\n",
       "посёлок Парголово    302   89505.043543\n",
       "деревня Кудрово      299   92473.547559\n",
       "Гатчина              268   67928.326791\n",
       "Выборг               208   57084.583221"
      ]
     },
     "metadata": {},
     "output_type": "display_data"
    }
   ],
   "source": [
    "locality_name_pivot_table = data.pivot_table(index = 'locality_name', values = 'price_one_square_meter', aggfunc=['count', 'mean'])\n",
    "locality_name_pivot_table.columns = ['count', 'mean']\n",
    "locality_name_pivot_table = locality_name_pivot_table.sort_values('count', ascending = False).head(10)\n",
    "display(locality_name_pivot_table) "
   ]
  },
  {
   "cell_type": "code",
   "execution_count": 47,
   "metadata": {},
   "outputs": [
    {
     "data": {
      "text/html": [
       "<div>\n",
       "<style scoped>\n",
       "    .dataframe tbody tr th:only-of-type {\n",
       "        vertical-align: middle;\n",
       "    }\n",
       "\n",
       "    .dataframe tbody tr th {\n",
       "        vertical-align: top;\n",
       "    }\n",
       "\n",
       "    .dataframe thead th {\n",
       "        text-align: right;\n",
       "    }\n",
       "</style>\n",
       "<table border=\"1\" class=\"dataframe\">\n",
       "  <thead>\n",
       "    <tr style=\"text-align: right;\">\n",
       "      <th></th>\n",
       "      <th>count</th>\n",
       "      <th>mean</th>\n",
       "    </tr>\n",
       "    <tr>\n",
       "      <th>locality_name</th>\n",
       "      <th></th>\n",
       "      <th></th>\n",
       "    </tr>\n",
       "  </thead>\n",
       "  <tbody>\n",
       "    <tr>\n",
       "      <th>Санкт-Петербург</th>\n",
       "      <td>13638</td>\n",
       "      <td>112412.025191</td>\n",
       "    </tr>\n",
       "  </tbody>\n",
       "</table>\n",
       "</div>"
      ],
      "text/plain": [
       "                 count           mean\n",
       "locality_name                        \n",
       "Санкт-Петербург  13638  112412.025191"
      ]
     },
     "execution_count": 47,
     "metadata": {},
     "output_type": "execute_result"
    }
   ],
   "source": [
    "locality_name_pivot_table[locality_name_pivot_table['mean']==locality_name_pivot_table['mean'].max()] #найдем город с самой высокой стоимостью жилья "
   ]
  },
  {
   "cell_type": "code",
   "execution_count": 48,
   "metadata": {},
   "outputs": [
    {
     "data": {
      "text/html": [
       "<div>\n",
       "<style scoped>\n",
       "    .dataframe tbody tr th:only-of-type {\n",
       "        vertical-align: middle;\n",
       "    }\n",
       "\n",
       "    .dataframe tbody tr th {\n",
       "        vertical-align: top;\n",
       "    }\n",
       "\n",
       "    .dataframe thead th {\n",
       "        text-align: right;\n",
       "    }\n",
       "</style>\n",
       "<table border=\"1\" class=\"dataframe\">\n",
       "  <thead>\n",
       "    <tr style=\"text-align: right;\">\n",
       "      <th></th>\n",
       "      <th>count</th>\n",
       "      <th>mean</th>\n",
       "    </tr>\n",
       "    <tr>\n",
       "      <th>locality_name</th>\n",
       "      <th></th>\n",
       "      <th></th>\n",
       "    </tr>\n",
       "  </thead>\n",
       "  <tbody>\n",
       "    <tr>\n",
       "      <th>Выборг</th>\n",
       "      <td>208</td>\n",
       "      <td>57084.583221</td>\n",
       "    </tr>\n",
       "  </tbody>\n",
       "</table>\n",
       "</div>"
      ],
      "text/plain": [
       "               count          mean\n",
       "locality_name                     \n",
       "Выборг           208  57084.583221"
      ]
     },
     "execution_count": 48,
     "metadata": {},
     "output_type": "execute_result"
    }
   ],
   "source": [
    "locality_name_pivot_table[locality_name_pivot_table['mean']==locality_name_pivot_table['mean'].min()]  #найдем город с самой низкой стоимостью жилья "
   ]
  },
  {
   "cell_type": "markdown",
   "metadata": {},
   "source": [
    "**Вывод**\n",
    "\n",
    "Мы нашли 10 посёлков с наибольши количеством объявлений. На первом месте Санкт-Петербург, а на последнем Выборг.\n",
    "По наибольшей стоимости жилья лидирует Санкт-Петербург, как и ожидалось. В Выборге, судя по нашим данным, самая низкая стоимость жилья."
   ]
  },
  {
   "cell_type": "markdown",
   "metadata": {},
   "source": [
    "### Изучим предложения квартир"
   ]
  },
  {
   "cell_type": "markdown",
   "metadata": {},
   "source": [
    "Выделим квартиры в Санкт-Петербурге , наша задача — выяснить, какая область входит в центр. "
   ]
  },
  {
   "cell_type": "code",
   "execution_count": 49,
   "metadata": {},
   "outputs": [
    {
     "data": {
      "text/plain": [
       "<AxesSubplot:xlabel='cityCenters_nearest_km'>"
      ]
     },
     "execution_count": 49,
     "metadata": {},
     "output_type": "execute_result"
    },
    {
     "data": {
      "image/png": "[encoded data removed]",
      "text/plain": [
       "<Figure size 432x288 with 1 Axes>"
      ]
     },
     "metadata": {
      "needs_background": "light"
     },
     "output_type": "display_data"
    }
   ],
   "source": [
    "data['cityCenters_nearest_km'] = data['cityCenters_nearest']/1000 #дабляем столбец с километрами\n",
    "data['cityCenters_nearest_km'] = data['cityCenters_nearest_km'].fillna(0) #заполняем пропуски нулем\n",
    "data['cityCenters_nearest_km'] = data['cityCenters_nearest_km'].astype('int') #округляем значения до целого\n",
    "(data.query('locality_name == \"Санкт-Петербург\" and cityCenters_nearest_km !=0')\n",
    " .pivot_table(index = 'cityCenters_nearest_km', values = 'price_one_square_meter')\n",
    ").plot() #строим график для квартир в Санкт-Петербурге, без учета нулей\n"
   ]
  },
  {
   "cell_type": "markdown",
   "metadata": {},
   "source": [
    "**Вывод**\n",
    "\n",
    "По графику видим, что цена резко меняется примерно на 3-х километрах, это и будем считать центральной зоной. "
   ]
  },
  {
   "cell_type": "markdown",
   "metadata": {},
   "source": [
    "### Выделим сегмент квартир в центре"
   ]
  },
  {
   "cell_type": "markdown",
   "metadata": {},
   "source": [
    "На предыдущем шаге выяснили, что можем считать центральной зоной 6 километров. \n",
    "Для анализа сделаем новую таблицу с помощью среза."
   ]
  },
  {
   "cell_type": "code",
   "execution_count": 50,
   "metadata": {},
   "outputs": [],
   "source": [
    "spb_center = data.query('cityCenters_nearest_km <= 3 and locality_name == \"Санкт-Петербург\"') #выделим квартиры в центре, беря за радиус 3 км"
   ]
  },
  {
   "cell_type": "markdown",
   "metadata": {},
   "source": [
    "**Проанализируем зависимость стоимости квартиры от площади в центральной зоне Санкт-Петербурга.**"
   ]
  },
  {
   "cell_type": "code",
   "execution_count": 51,
   "metadata": {},
   "outputs": [
    {
     "data": {
      "text/plain": [
       "<AxesSubplot:xlabel='total_area'>"
      ]
     },
     "execution_count": 51,
     "metadata": {},
     "output_type": "execute_result"
    },
    {
     "data": {
      "image/png": "[encoded data removed]",
      "text/plain": [
       "<Figure size 432x288 with 1 Axes>"
      ]
     },
     "metadata": {
      "needs_background": "light"
     },
     "output_type": "display_data"
    }
   ],
   "source": [
    "spb_center.pivot_table(index='total_area', values='last_price').plot(style='o', alpha=0.5) #делаем сводную таблицу и график"
   ]
  },
  {
   "cell_type": "code",
   "execution_count": 52,
   "metadata": {},
   "outputs": [
    {
     "data": {
      "text/plain": [
       "0.5553676223973506"
      ]
     },
     "execution_count": 52,
     "metadata": {},
     "output_type": "execute_result"
    }
   ],
   "source": [
    "spb_center['total_area'].corr(spb_center['last_price']) #посчитаем корреляцию"
   ]
  },
  {
   "cell_type": "markdown",
   "metadata": {},
   "source": [
    "По графику видим, что в пределах центра СПБ площадь квартиры влияет на ее стоимость, также, как и по общей выборке данных. Обратим внимание, что корреляция для центральной зоны стала немного меньше."
   ]
  },
  {
   "cell_type": "markdown",
   "metadata": {},
   "source": [
    "**Проанализируем зависимость стоимости квартиры от числа комнат в центральной зоне Санкт-Петербурга.**"
   ]
  },
  {
   "cell_type": "code",
   "execution_count": 53,
   "metadata": {},
   "outputs": [
    {
     "data": {
      "text/plain": [
       "<AxesSubplot:xlabel='rooms'>"
      ]
     },
     "execution_count": 53,
     "metadata": {},
     "output_type": "execute_result"
    },
    {
     "data": {
      "image/png": "[encoded data removed]",
      "text/plain": [
       "<Figure size 432x288 with 1 Axes>"
      ]
     },
     "metadata": {
      "needs_background": "light"
     },
     "output_type": "display_data"
    }
   ],
   "source": [
    "spb_center.pivot_table(index='rooms', values='last_price').plot() #делаем сводную таблицу и график"
   ]
  },
  {
   "cell_type": "code",
   "execution_count": 54,
   "metadata": {},
   "outputs": [
    {
     "data": {
      "text/plain": [
       "0.2648207962070345"
      ]
     },
     "execution_count": 54,
     "metadata": {},
     "output_type": "execute_result"
    }
   ],
   "source": [
    "spb_center['rooms'].corr(spb_center['last_price']) #посчитаем корреляцию"
   ]
  },
  {
   "cell_type": "markdown",
   "metadata": {},
   "source": [
    "Для центральной зоны видим характерное подорожание квартиры от количества комнат начиная с одной, в то время как в общей выборке данных наблюдали примерно одинаковую стоимость для квартир от одной до 10 комнат. Но в то же время процент корреляции низкий, поэтому связь тут неоднозначна. "
   ]
  },
  {
   "cell_type": "markdown",
   "metadata": {},
   "source": [
    "**Проанализируем зависимость стоимости квартиры от высоты потолков в центральной зоне Санкт-Петербурга.**"
   ]
  },
  {
   "cell_type": "code",
   "execution_count": 55,
   "metadata": {},
   "outputs": [
    {
     "data": {
      "text/plain": [
       "<AxesSubplot:xlabel='ceiling_height'>"
      ]
     },
     "execution_count": 55,
     "metadata": {},
     "output_type": "execute_result"
    },
    {
     "data": {
      "image/png": "[encoded data removed]",
      "text/plain": [
       "<Figure size 432x288 with 1 Axes>"
      ]
     },
     "metadata": {
      "needs_background": "light"
     },
     "output_type": "display_data"
    }
   ],
   "source": [
    "spb_center.pivot_table(index='ceiling_height', values='last_price').plot() #делаем сводную таблицу и график"
   ]
  },
  {
   "cell_type": "code",
   "execution_count": 56,
   "metadata": {},
   "outputs": [
    {
     "data": {
      "text/plain": [
       "0.06126135685480788"
      ]
     },
     "execution_count": 56,
     "metadata": {},
     "output_type": "execute_result"
    }
   ],
   "source": [
    "spb_center['ceiling_height'].corr(spb_center['last_price']) #посчитаем корреляцию"
   ]
  },
  {
   "cell_type": "markdown",
   "metadata": {},
   "source": [
    "По графику не видим четкую зависимость стоимости квартиры от высоты потолков, корреляция это подтверждает, процент мизерный. Также обратим внимание на резкий спад стоимости начиная с пяти метров. "
   ]
  },
  {
   "cell_type": "markdown",
   "metadata": {},
   "source": [
    "**Проанализируем зависимость стоимости квартиры от этажа в центральной зоне Санкт-Петербурга.**"
   ]
  },
  {
   "cell_type": "code",
   "execution_count": 57,
   "metadata": {},
   "outputs": [
    {
     "data": {
      "text/plain": [
       "<AxesSubplot:xlabel='floor_category'>"
      ]
     },
     "execution_count": 57,
     "metadata": {},
     "output_type": "execute_result"
    },
    {
     "data": {
      "image/png": "[encoded data removed]",
      "text/plain": [
       "<Figure size 432x288 with 1 Axes>"
      ]
     },
     "metadata": {
      "needs_background": "light"
     },
     "output_type": "display_data"
    }
   ],
   "source": [
    "spb_center.pivot_table(index='floor_category', values='last_price').plot() #делаем сводную таблицу и график"
   ]
  },
  {
   "cell_type": "markdown",
   "metadata": {},
   "source": [
    "В сравнении с общей выборкой, для цетральной зоны ситуация со стоимостью квартиры не изменилась. Квартиры на первом этаже в среднем дешевле, чем на любом другом. В то время как, квартиры на последнем этаже дороже остальных квартир."
   ]
  },
  {
   "cell_type": "markdown",
   "metadata": {},
   "source": [
    "**Проанализируем зависимость стоимости квартиры от удаленности от центра в центральной зоне Санкт-Петербурга.**"
   ]
  },
  {
   "cell_type": "code",
   "execution_count": 58,
   "metadata": {},
   "outputs": [
    {
     "data": {
      "text/plain": [
       "<AxesSubplot:xlabel='cityCenters_nearest_km'>"
      ]
     },
     "execution_count": 58,
     "metadata": {},
     "output_type": "execute_result"
    },
    {
     "data": {
      "image/png": "[encoded data removed]",
      "text/plain": [
       "<Figure size 432x288 with 1 Axes>"
      ]
     },
     "metadata": {
      "needs_background": "light"
     },
     "output_type": "display_data"
    }
   ],
   "source": [
    "spb_center.pivot_table(index='cityCenters_nearest_km', values='last_price').plot() #делаем сводную таблицу и график"
   ]
  },
  {
   "cell_type": "code",
   "execution_count": 59,
   "metadata": {},
   "outputs": [
    {
     "data": {
      "text/plain": [
       "-0.06585098071086656"
      ]
     },
     "execution_count": 59,
     "metadata": {},
     "output_type": "execute_result"
    }
   ],
   "source": [
    "spb_center['cityCenters_nearest_km'].corr(spb_center['last_price']) #посчитаем корреляцию"
   ]
  },
  {
   "cell_type": "markdown",
   "metadata": {},
   "source": [
    "Судя по графику четкая зависимость не прослеживается, так как мы и так анализируем информацию по центру города. "
   ]
  },
  {
   "cell_type": "markdown",
   "metadata": {},
   "source": [
    "**Проанализируем зависимость стоимости квартиры от дня размещения объявления в центральной зоне Санкт-Петербурга.**"
   ]
  },
  {
   "cell_type": "code",
   "execution_count": 60,
   "metadata": {},
   "outputs": [
    {
     "data": {
      "text/plain": [
       "<AxesSubplot:xlabel='weekday'>"
      ]
     },
     "execution_count": 60,
     "metadata": {},
     "output_type": "execute_result"
    },
    {
     "data": {
      "image/png": "[encoded data removed]",
      "text/plain": [
       "<Figure size 432x288 with 1 Axes>"
      ]
     },
     "metadata": {
      "needs_background": "light"
     },
     "output_type": "display_data"
    }
   ],
   "source": [
    "spb_center.pivot_table(index='weekday', values='last_price').plot() #делаем сводную таблицу и график"
   ]
  },
  {
   "cell_type": "code",
   "execution_count": 61,
   "metadata": {},
   "outputs": [
    {
     "data": {
      "text/plain": [
       "0.03338420199968604"
      ]
     },
     "execution_count": 61,
     "metadata": {},
     "output_type": "execute_result"
    }
   ],
   "source": [
    "spb_center['weekday'].corr(spb_center['last_price']) #посчитаем корреляцию"
   ]
  },
  {
   "cell_type": "markdown",
   "metadata": {},
   "source": [
    "По графику видим, что в четверг и субботу стоимость на квартиры ниже всего, а пятницу самая высокая. А то время как в общей выборке, по пятницам как раз было дешевле всего. "
   ]
  },
  {
   "cell_type": "markdown",
   "metadata": {},
   "source": [
    "**Проанализируем зависимость стоимости квартиры от месяца размещения объявления в центральной зоне Санкт-Петербурга.**"
   ]
  },
  {
   "cell_type": "code",
   "execution_count": 62,
   "metadata": {},
   "outputs": [
    {
     "data": {
      "text/plain": [
       "<AxesSubplot:xlabel='month'>"
      ]
     },
     "execution_count": 62,
     "metadata": {},
     "output_type": "execute_result"
    },
    {
     "data": {
      "image/png": "[encoded data removed]",
      "text/plain": [
       "<Figure size 432x288 with 1 Axes>"
      ]
     },
     "metadata": {
      "needs_background": "light"
     },
     "output_type": "display_data"
    }
   ],
   "source": [
    "spb_center.pivot_table(index='month', values='last_price').plot() #делаем сводную таблицу и график"
   ]
  },
  {
   "cell_type": "code",
   "execution_count": 63,
   "metadata": {},
   "outputs": [
    {
     "data": {
      "text/plain": [
       "0.00437986813110868"
      ]
     },
     "execution_count": 63,
     "metadata": {},
     "output_type": "execute_result"
    }
   ],
   "source": [
    "spb_center['month'].corr(spb_center['last_price']) #посчитаем корреляцию"
   ]
  },
  {
   "cell_type": "markdown",
   "metadata": {},
   "source": [
    "Видим явную зависимость стоимости квартиры от месяца размещения объявления по отрицательной корреляции. В июне квартиры дешевле всего, как и в общей выборке. И в целом летом квартыры дешевле. Вполне вероянтно, что на рынке недвижимости есть своя сезонность, в связи с которой стоимость на недвижимость поднимается к концу года и держится на уровне весь январь."
   ]
  },
  {
   "cell_type": "markdown",
   "metadata": {},
   "source": [
    "**Проанализируем зависимость стоимости квартиры от года размещения объявления в центральной зоне Санкт-Петербурга.**"
   ]
  },
  {
   "cell_type": "code",
   "execution_count": 64,
   "metadata": {},
   "outputs": [
    {
     "data": {
      "text/plain": [
       "<AxesSubplot:xlabel='year'>"
      ]
     },
     "execution_count": 64,
     "metadata": {},
     "output_type": "execute_result"
    },
    {
     "data": {
      "image/png": "[encoded data removed]",
      "text/plain": [
       "<Figure size 432x288 with 1 Axes>"
      ]
     },
     "metadata": {
      "needs_background": "light"
     },
     "output_type": "display_data"
    }
   ],
   "source": [
    "spb_center.pivot_table(index='year', values='last_price').plot() #делаем сводную таблицу и график"
   ]
  },
  {
   "cell_type": "code",
   "execution_count": 65,
   "metadata": {},
   "outputs": [
    {
     "data": {
      "text/plain": [
       "-0.06583586836683011"
      ]
     },
     "execution_count": 65,
     "metadata": {},
     "output_type": "execute_result"
    }
   ],
   "source": [
    "spb_center['year'].corr(spb_center['last_price']) #посчитаем корреляцию"
   ]
  },
  {
   "cell_type": "markdown",
   "metadata": {},
   "source": [
    "Видно, что начиная с 2014 года стоимость падала и до 2016 года, как и в общей выборке. Но в отличии от общих данных наблюдаем самую низкую стоимость в 2018 году и подорожание к 2019 году. "
   ]
  },
  {
   "cell_type": "markdown",
   "metadata": {},
   "source": [
    "**Вывод**\n",
    "\n",
    "Мы проанализировали центральную территорию Санкт-Петербурга и изучили площадь, цену, число комнат, высоту потолков. Также выделили факторы, которые влияют на стоимость квартиры (число комнат, этаж, дата размещения объявления).\n",
    "\n",
    "После анализа указаных параметров выявили  взаимосвязь стоимости квартиры от числа комнат - чем больше комнат, тем дороже. На каком этаже расположена квартира: на первом этаже квартиры дешевле, а на последнем дороже. И от даты размещения: в четверг и субботу стоимость на квартиры ниже всего, а в пятницу самая высокая. Летом квартиры стоят в среднем дешевле, а также увидели, что начиная с 2014 стоимость падала и до 2016 года, и заметили минимальную стоимость на квартиру в 2018 году. "
   ]
  },
  {
   "cell_type": "markdown",
   "metadata": {},
   "source": [
    "## Общий вывод"
   ]
  },
  {
   "cell_type": "markdown",
   "metadata": {},
   "source": [
    "При анализе данных из выборки были определены аномалии в данных. Были пропущеные значения в большом количестве, некоторые мы заменили на нулевые значения. Остальные данные, например расстояние до центра, аэропорта, ближайшего парка и водоёма заменить не удалось.\n",
    "\n",
    "В ходе исследования мы обнаружили много публикаций, которые были сняты в 7, 30, 45, 60 и 90 дней, мы выявили, что дата снятия публикации - это не есть дата продажи. В связи с этим из анализа были удалены указанные объявления.\n",
    "Мы нашли 10 посёлков с наибольши количеством объявлений. На первом месте Санкт-Петербург, а на последнем Выборг. По наибольшей стоимости жилья лидирует Санкт-Петербург. В Выборге, судя по нашим данным, самая низкая стоимость жилья.\n",
    "\n",
    "Мы выявили при помощи графиков и диаграммы размаха, что нормальные значения продажи квартир варьируются от 1 до 550 дней. Также выяснили, что на стоимость квартиры больше всего влияют количество комнат, этаж квартиры, близость к центру. Еще на стоимость влияют день, месяц, год размещения и общая площадь.\n"
   ]
  }
 ],
 "metadata": {
  "ExecuteTimeLog": [
   {
    "duration": 78,
    "start_time": "2022-04-13T15:22:42.626Z"
   },
   {
    "duration": 598,
    "start_time": "2022-04-13T15:22:50.048Z"
   },
   {
    "duration": 55,
    "start_time": "2022-04-13T15:22:51.473Z"
   },
   {
    "duration": 4,
    "start_time": "2022-04-13T15:23:54.949Z"
   },
   {
    "duration": 4,
    "start_time": "2022-04-13T15:23:57.101Z"
   },
   {
    "duration": 4,
    "start_time": "2022-04-13T15:24:00.888Z"
   },
   {
    "duration": 851,
    "start_time": "2022-04-13T15:26:27.584Z"
   },
   {
    "duration": 71,
    "start_time": "2022-04-13T15:26:28.438Z"
   },
   {
    "duration": 21,
    "start_time": "2022-04-13T15:26:28.523Z"
   },
   {
    "duration": 24,
    "start_time": "2022-04-13T15:26:28.547Z"
   },
   {
    "duration": 26,
    "start_time": "2022-04-13T15:26:28.573Z"
   },
   {
    "duration": 31,
    "start_time": "2022-04-13T15:26:28.602Z"
   },
   {
    "duration": 31,
    "start_time": "2022-04-13T15:26:28.636Z"
   },
   {
    "duration": 43,
    "start_time": "2022-04-13T15:26:28.670Z"
   },
   {
    "duration": 48,
    "start_time": "2022-04-13T15:26:28.716Z"
   },
   {
    "duration": 67,
    "start_time": "2022-04-14T02:47:14.392Z"
   },
   {
    "duration": 595,
    "start_time": "2022-04-14T02:47:41.162Z"
   },
   {
    "duration": 53,
    "start_time": "2022-04-14T02:47:41.759Z"
   },
   {
    "duration": 39,
    "start_time": "2022-04-14T02:47:41.814Z"
   },
   {
    "duration": 5,
    "start_time": "2022-04-14T02:47:41.855Z"
   },
   {
    "duration": 6,
    "start_time": "2022-04-14T02:47:41.863Z"
   },
   {
    "duration": 7,
    "start_time": "2022-04-14T02:47:41.871Z"
   },
   {
    "duration": 23,
    "start_time": "2022-04-14T02:47:41.880Z"
   },
   {
    "duration": 59,
    "start_time": "2022-04-14T02:47:41.906Z"
   },
   {
    "duration": 9,
    "start_time": "2022-04-14T02:47:41.968Z"
   },
   {
    "duration": 12,
    "start_time": "2022-04-14T02:52:52.261Z"
   },
   {
    "duration": 15,
    "start_time": "2022-04-14T02:52:57.284Z"
   },
   {
    "duration": 90,
    "start_time": "2022-04-14T03:22:43.337Z"
   },
   {
    "duration": 8,
    "start_time": "2022-04-14T03:24:16.759Z"
   },
   {
    "duration": 800,
    "start_time": "2022-04-14T03:25:07.592Z"
   },
   {
    "duration": 218,
    "start_time": "2022-04-14T03:25:45.512Z"
   },
   {
    "duration": 223,
    "start_time": "2022-04-14T03:25:50.534Z"
   },
   {
    "duration": 188,
    "start_time": "2022-04-14T03:25:58.007Z"
   },
   {
    "duration": 251,
    "start_time": "2022-04-14T03:26:06.383Z"
   },
   {
    "duration": 198,
    "start_time": "2022-04-14T03:26:10.566Z"
   },
   {
    "duration": 216,
    "start_time": "2022-04-14T03:26:31.742Z"
   },
   {
    "duration": 204,
    "start_time": "2022-04-14T03:28:59.192Z"
   },
   {
    "duration": 201,
    "start_time": "2022-04-14T03:29:06.079Z"
   },
   {
    "duration": 203,
    "start_time": "2022-04-14T03:29:14.535Z"
   },
   {
    "duration": 187,
    "start_time": "2022-04-14T03:29:17.977Z"
   },
   {
    "duration": 196,
    "start_time": "2022-04-14T03:29:21.073Z"
   },
   {
    "duration": 198,
    "start_time": "2022-04-14T03:29:32.496Z"
   },
   {
    "duration": 205,
    "start_time": "2022-04-14T03:30:29.960Z"
   },
   {
    "duration": 203,
    "start_time": "2022-04-14T03:30:34.416Z"
   },
   {
    "duration": 442,
    "start_time": "2022-04-14T03:31:01.104Z"
   },
   {
    "duration": 405,
    "start_time": "2022-04-14T03:31:27.311Z"
   },
   {
    "duration": 350,
    "start_time": "2022-04-14T03:31:36.920Z"
   },
   {
    "duration": 277,
    "start_time": "2022-04-14T03:31:53.088Z"
   },
   {
    "duration": 260,
    "start_time": "2022-04-14T03:32:00.487Z"
   },
   {
    "duration": 300,
    "start_time": "2022-04-14T03:32:07.656Z"
   },
   {
    "duration": 12,
    "start_time": "2022-04-14T03:32:47.551Z"
   },
   {
    "duration": 1701,
    "start_time": "2022-04-14T03:33:35.513Z"
   },
   {
    "duration": 1335,
    "start_time": "2022-04-14T03:33:54.600Z"
   },
   {
    "duration": 11,
    "start_time": "2022-04-14T03:34:08.497Z"
   },
   {
    "duration": 557,
    "start_time": "2022-04-14T03:34:23.689Z"
   },
   {
    "duration": 56,
    "start_time": "2022-04-14T03:34:24.249Z"
   },
   {
    "duration": 48,
    "start_time": "2022-04-14T03:34:24.308Z"
   },
   {
    "duration": 5,
    "start_time": "2022-04-14T03:34:24.361Z"
   },
   {
    "duration": 10,
    "start_time": "2022-04-14T03:34:24.369Z"
   },
   {
    "duration": 8,
    "start_time": "2022-04-14T03:34:24.381Z"
   },
   {
    "duration": 18,
    "start_time": "2022-04-14T03:34:24.391Z"
   },
   {
    "duration": 54,
    "start_time": "2022-04-14T03:34:24.411Z"
   },
   {
    "duration": 17,
    "start_time": "2022-04-14T03:34:24.468Z"
   },
   {
    "duration": 629,
    "start_time": "2022-04-14T03:34:24.488Z"
   },
   {
    "duration": 12,
    "start_time": "2022-04-14T03:34:25.119Z"
   },
   {
    "duration": 120,
    "start_time": "2022-04-14T03:34:25.133Z"
   },
   {
    "duration": 0,
    "start_time": "2022-04-14T03:34:25.255Z"
   },
   {
    "duration": 7,
    "start_time": "2022-04-14T03:35:17.169Z"
   },
   {
    "duration": 799,
    "start_time": "2022-04-14T03:36:09.978Z"
   },
   {
    "duration": 54,
    "start_time": "2022-04-14T03:36:10.780Z"
   },
   {
    "duration": 33,
    "start_time": "2022-04-14T03:36:10.836Z"
   },
   {
    "duration": 6,
    "start_time": "2022-04-14T03:36:10.872Z"
   },
   {
    "duration": 7,
    "start_time": "2022-04-14T03:36:10.880Z"
   },
   {
    "duration": 15,
    "start_time": "2022-04-14T03:36:10.889Z"
   },
   {
    "duration": 19,
    "start_time": "2022-04-14T03:36:10.906Z"
   },
   {
    "duration": 15,
    "start_time": "2022-04-14T03:36:10.951Z"
   },
   {
    "duration": 16,
    "start_time": "2022-04-14T03:36:10.968Z"
   },
   {
    "duration": 754,
    "start_time": "2022-04-14T03:36:10.987Z"
   },
   {
    "duration": 18,
    "start_time": "2022-04-14T03:36:11.743Z"
   },
   {
    "duration": 6,
    "start_time": "2022-04-14T03:36:11.763Z"
   },
   {
    "duration": 14,
    "start_time": "2022-04-14T03:36:11.771Z"
   },
   {
    "duration": 15,
    "start_time": "2022-04-14T03:41:08.397Z"
   },
   {
    "duration": 21,
    "start_time": "2022-04-14T03:46:38.775Z"
   },
   {
    "duration": 102,
    "start_time": "2022-04-14T03:56:41.362Z"
   },
   {
    "duration": 22,
    "start_time": "2022-04-14T03:56:46.390Z"
   },
   {
    "duration": 18,
    "start_time": "2022-04-14T03:57:22.088Z"
   },
   {
    "duration": 617,
    "start_time": "2022-04-14T04:02:12.656Z"
   },
   {
    "duration": 55,
    "start_time": "2022-04-14T04:02:13.275Z"
   },
   {
    "duration": 34,
    "start_time": "2022-04-14T04:02:13.332Z"
   },
   {
    "duration": 5,
    "start_time": "2022-04-14T04:02:13.371Z"
   },
   {
    "duration": 10,
    "start_time": "2022-04-14T04:02:13.379Z"
   },
   {
    "duration": 8,
    "start_time": "2022-04-14T04:02:13.392Z"
   },
   {
    "duration": 56,
    "start_time": "2022-04-14T04:02:13.403Z"
   },
   {
    "duration": 18,
    "start_time": "2022-04-14T04:02:13.462Z"
   },
   {
    "duration": 21,
    "start_time": "2022-04-14T04:02:13.483Z"
   },
   {
    "duration": 46,
    "start_time": "2022-04-14T04:02:13.509Z"
   },
   {
    "duration": 9,
    "start_time": "2022-04-14T04:02:13.557Z"
   },
   {
    "duration": 17,
    "start_time": "2022-04-14T04:02:13.568Z"
   },
   {
    "duration": 6,
    "start_time": "2022-04-14T04:02:13.588Z"
   },
   {
    "duration": 155,
    "start_time": "2022-04-14T04:02:13.597Z"
   },
   {
    "duration": 0,
    "start_time": "2022-04-14T04:02:13.755Z"
   },
   {
    "duration": 0,
    "start_time": "2022-04-14T04:02:13.756Z"
   },
   {
    "duration": 18,
    "start_time": "2022-04-14T04:02:42.417Z"
   },
   {
    "duration": 4,
    "start_time": "2022-04-14T04:02:55.584Z"
   },
   {
    "duration": 18,
    "start_time": "2022-04-14T04:03:28.465Z"
   },
   {
    "duration": 601,
    "start_time": "2022-04-14T04:03:50.056Z"
   },
   {
    "duration": 56,
    "start_time": "2022-04-14T04:03:50.660Z"
   },
   {
    "duration": 44,
    "start_time": "2022-04-14T04:03:50.718Z"
   },
   {
    "duration": 7,
    "start_time": "2022-04-14T04:03:50.766Z"
   },
   {
    "duration": 8,
    "start_time": "2022-04-14T04:03:50.776Z"
   },
   {
    "duration": 7,
    "start_time": "2022-04-14T04:03:50.786Z"
   },
   {
    "duration": 17,
    "start_time": "2022-04-14T04:03:50.796Z"
   },
   {
    "duration": 18,
    "start_time": "2022-04-14T04:03:50.851Z"
   },
   {
    "duration": 17,
    "start_time": "2022-04-14T04:03:50.872Z"
   },
   {
    "duration": 13,
    "start_time": "2022-04-14T04:03:50.894Z"
   },
   {
    "duration": 50,
    "start_time": "2022-04-14T04:03:50.909Z"
   },
   {
    "duration": 17,
    "start_time": "2022-04-14T04:03:50.961Z"
   },
   {
    "duration": 6,
    "start_time": "2022-04-14T04:03:50.981Z"
   },
   {
    "duration": 140,
    "start_time": "2022-04-14T04:03:50.989Z"
   },
   {
    "duration": 0,
    "start_time": "2022-04-14T04:03:51.132Z"
   },
   {
    "duration": 0,
    "start_time": "2022-04-14T04:03:51.133Z"
   },
   {
    "duration": 19,
    "start_time": "2022-04-14T04:05:28.791Z"
   },
   {
    "duration": 20,
    "start_time": "2022-04-14T04:06:46.073Z"
   },
   {
    "duration": 20,
    "start_time": "2022-04-14T04:07:40.410Z"
   },
   {
    "duration": 6,
    "start_time": "2022-04-14T04:08:16.273Z"
   },
   {
    "duration": 8,
    "start_time": "2022-04-14T04:08:37.121Z"
   },
   {
    "duration": 13,
    "start_time": "2022-04-14T04:16:34.122Z"
   },
   {
    "duration": 20,
    "start_time": "2022-04-14T04:16:43.257Z"
   },
   {
    "duration": 8,
    "start_time": "2022-04-14T04:16:50.912Z"
   },
   {
    "duration": 10,
    "start_time": "2022-04-14T04:16:55.576Z"
   },
   {
    "duration": 599,
    "start_time": "2022-04-14T04:17:06.958Z"
   },
   {
    "duration": 56,
    "start_time": "2022-04-14T04:17:07.560Z"
   },
   {
    "duration": 45,
    "start_time": "2022-04-14T04:17:07.618Z"
   },
   {
    "duration": 7,
    "start_time": "2022-04-14T04:17:07.666Z"
   },
   {
    "duration": 6,
    "start_time": "2022-04-14T04:17:07.677Z"
   },
   {
    "duration": 6,
    "start_time": "2022-04-14T04:17:07.686Z"
   },
   {
    "duration": 63,
    "start_time": "2022-04-14T04:17:07.694Z"
   },
   {
    "duration": 18,
    "start_time": "2022-04-14T04:17:07.759Z"
   },
   {
    "duration": 18,
    "start_time": "2022-04-14T04:17:07.779Z"
   },
   {
    "duration": 53,
    "start_time": "2022-04-14T04:17:07.800Z"
   },
   {
    "duration": 8,
    "start_time": "2022-04-14T04:17:07.856Z"
   },
   {
    "duration": 16,
    "start_time": "2022-04-14T04:17:07.867Z"
   },
   {
    "duration": 18,
    "start_time": "2022-04-14T04:17:07.886Z"
   },
   {
    "duration": 62,
    "start_time": "2022-04-14T04:17:07.909Z"
   },
   {
    "duration": 8,
    "start_time": "2022-04-14T04:17:07.973Z"
   },
   {
    "duration": 86,
    "start_time": "2022-04-14T04:17:07.983Z"
   },
   {
    "duration": 0,
    "start_time": "2022-04-14T04:17:08.071Z"
   },
   {
    "duration": 13,
    "start_time": "2022-04-14T04:58:42.508Z"
   },
   {
    "duration": 5,
    "start_time": "2022-04-14T04:58:44.276Z"
   },
   {
    "duration": 12,
    "start_time": "2022-04-14T04:58:45.947Z"
   },
   {
    "duration": 23,
    "start_time": "2022-04-14T05:03:32.779Z"
   },
   {
    "duration": 8,
    "start_time": "2022-04-14T05:03:36.139Z"
   },
   {
    "duration": 12,
    "start_time": "2022-04-14T05:10:31.650Z"
   },
   {
    "duration": 586,
    "start_time": "2022-04-14T05:10:40.767Z"
   },
   {
    "duration": 54,
    "start_time": "2022-04-14T05:10:41.355Z"
   },
   {
    "duration": 62,
    "start_time": "2022-04-14T05:10:41.411Z"
   },
   {
    "duration": 44,
    "start_time": "2022-04-14T05:10:41.476Z"
   },
   {
    "duration": 60,
    "start_time": "2022-04-14T05:10:41.522Z"
   },
   {
    "duration": 75,
    "start_time": "2022-04-14T05:10:41.584Z"
   },
   {
    "duration": 28,
    "start_time": "2022-04-14T05:10:41.662Z"
   },
   {
    "duration": 6,
    "start_time": "2022-04-14T05:10:41.693Z"
   },
   {
    "duration": 46,
    "start_time": "2022-04-14T05:10:41.701Z"
   },
   {
    "duration": 52,
    "start_time": "2022-04-14T05:10:41.751Z"
   },
   {
    "duration": 56,
    "start_time": "2022-04-14T05:10:41.805Z"
   },
   {
    "duration": 36,
    "start_time": "2022-04-14T05:10:41.864Z"
   },
   {
    "duration": 82,
    "start_time": "2022-04-14T05:10:41.902Z"
   },
   {
    "duration": 0,
    "start_time": "2022-04-14T05:10:41.986Z"
   },
   {
    "duration": 16,
    "start_time": "2022-04-14T05:53:25.214Z"
   },
   {
    "duration": 593,
    "start_time": "2022-04-14T05:59:03.049Z"
   },
   {
    "duration": 23,
    "start_time": "2022-04-14T06:05:46.795Z"
   },
   {
    "duration": 22,
    "start_time": "2022-04-14T06:06:04.435Z"
   },
   {
    "duration": 21,
    "start_time": "2022-04-14T06:06:08.154Z"
   },
   {
    "duration": 19,
    "start_time": "2022-04-14T06:06:13.523Z"
   },
   {
    "duration": 19,
    "start_time": "2022-04-14T06:06:17.394Z"
   },
   {
    "duration": 17,
    "start_time": "2022-04-14T06:06:23.258Z"
   },
   {
    "duration": 9,
    "start_time": "2022-04-14T06:13:00.819Z"
   },
   {
    "duration": 59,
    "start_time": "2022-04-14T06:14:56.644Z"
   },
   {
    "duration": 128,
    "start_time": "2022-04-14T09:37:44.225Z"
   },
   {
    "duration": 8,
    "start_time": "2022-04-14T09:55:57.174Z"
   },
   {
    "duration": 10,
    "start_time": "2022-04-14T09:56:04.693Z"
   },
   {
    "duration": 9,
    "start_time": "2022-04-14T10:14:53.517Z"
   },
   {
    "duration": 8,
    "start_time": "2022-04-14T10:39:18.435Z"
   },
   {
    "duration": 819,
    "start_time": "2022-04-14T10:46:44.312Z"
   },
   {
    "duration": 84,
    "start_time": "2022-04-14T10:46:45.135Z"
   },
   {
    "duration": 46,
    "start_time": "2022-04-14T10:46:45.222Z"
   },
   {
    "duration": 18,
    "start_time": "2022-04-14T10:46:45.271Z"
   },
   {
    "duration": 23,
    "start_time": "2022-04-14T10:46:45.293Z"
   },
   {
    "duration": 51,
    "start_time": "2022-04-14T10:46:45.319Z"
   },
   {
    "duration": 40,
    "start_time": "2022-04-14T10:46:45.372Z"
   },
   {
    "duration": 664,
    "start_time": "2022-04-14T10:46:45.415Z"
   },
   {
    "duration": 16,
    "start_time": "2022-04-14T10:46:46.082Z"
   },
   {
    "duration": 28,
    "start_time": "2022-04-14T10:46:46.101Z"
   },
   {
    "duration": 10,
    "start_time": "2022-04-14T10:46:46.153Z"
   },
   {
    "duration": 146,
    "start_time": "2022-04-14T10:46:46.166Z"
   },
   {
    "duration": 0,
    "start_time": "2022-04-14T10:46:46.315Z"
   },
   {
    "duration": 18,
    "start_time": "2022-04-14T10:49:54.371Z"
   },
   {
    "duration": 606,
    "start_time": "2022-04-14T10:50:01.000Z"
   },
   {
    "duration": 62,
    "start_time": "2022-04-14T10:50:01.609Z"
   },
   {
    "duration": 38,
    "start_time": "2022-04-14T10:50:01.673Z"
   },
   {
    "duration": 13,
    "start_time": "2022-04-14T10:50:01.714Z"
   },
   {
    "duration": 31,
    "start_time": "2022-04-14T10:50:01.730Z"
   },
   {
    "duration": 31,
    "start_time": "2022-04-14T10:50:01.763Z"
   },
   {
    "duration": 22,
    "start_time": "2022-04-14T10:50:01.797Z"
   },
   {
    "duration": 64,
    "start_time": "2022-04-14T10:50:01.821Z"
   },
   {
    "duration": 619,
    "start_time": "2022-04-14T10:50:01.887Z"
   },
   {
    "duration": 21,
    "start_time": "2022-04-14T10:50:02.509Z"
   },
   {
    "duration": 24,
    "start_time": "2022-04-14T10:50:02.533Z"
   },
   {
    "duration": 139,
    "start_time": "2022-04-14T10:50:02.559Z"
   },
   {
    "duration": 0,
    "start_time": "2022-04-14T10:50:02.700Z"
   },
   {
    "duration": 46,
    "start_time": "2022-04-14T14:23:00.401Z"
   },
   {
    "duration": 536,
    "start_time": "2022-04-14T14:23:10.040Z"
   },
   {
    "duration": 32,
    "start_time": "2022-04-14T14:23:10.579Z"
   },
   {
    "duration": 14,
    "start_time": "2022-04-14T14:23:10.612Z"
   },
   {
    "duration": 7,
    "start_time": "2022-04-14T14:23:10.628Z"
   },
   {
    "duration": 11,
    "start_time": "2022-04-14T14:23:10.655Z"
   },
   {
    "duration": 14,
    "start_time": "2022-04-14T14:23:10.668Z"
   },
   {
    "duration": 11,
    "start_time": "2022-04-14T14:23:10.684Z"
   },
   {
    "duration": 623,
    "start_time": "2022-04-14T14:23:10.697Z"
   },
   {
    "duration": 37,
    "start_time": "2022-04-14T14:23:11.322Z"
   },
   {
    "duration": 148,
    "start_time": "2022-04-14T14:23:11.362Z"
   },
   {
    "duration": 14,
    "start_time": "2022-04-14T14:23:11.511Z"
   },
   {
    "duration": 4,
    "start_time": "2022-04-14T14:23:11.527Z"
   },
   {
    "duration": 133,
    "start_time": "2022-04-14T14:23:11.533Z"
   },
   {
    "duration": 0,
    "start_time": "2022-04-14T14:23:11.668Z"
   },
   {
    "duration": 72,
    "start_time": "2022-04-14T14:28:57.794Z"
   },
   {
    "duration": 606,
    "start_time": "2022-04-14T14:29:10.188Z"
   },
   {
    "duration": 539,
    "start_time": "2022-04-14T14:29:29.135Z"
   },
   {
    "duration": 728,
    "start_time": "2022-04-14T14:30:40.927Z"
   },
   {
    "duration": 29,
    "start_time": "2022-04-14T14:30:41.657Z"
   },
   {
    "duration": 20,
    "start_time": "2022-04-14T14:30:41.687Z"
   },
   {
    "duration": 9,
    "start_time": "2022-04-14T14:30:41.708Z"
   },
   {
    "duration": 17,
    "start_time": "2022-04-14T14:30:41.718Z"
   },
   {
    "duration": 26,
    "start_time": "2022-04-14T14:30:41.737Z"
   },
   {
    "duration": 10,
    "start_time": "2022-04-14T14:30:41.764Z"
   },
   {
    "duration": 548,
    "start_time": "2022-04-14T14:30:41.776Z"
   },
   {
    "duration": 40,
    "start_time": "2022-04-14T14:30:42.325Z"
   },
   {
    "duration": 137,
    "start_time": "2022-04-14T14:30:42.367Z"
   },
   {
    "duration": 13,
    "start_time": "2022-04-14T14:30:42.505Z"
   },
   {
    "duration": 4,
    "start_time": "2022-04-14T14:30:42.520Z"
   },
   {
    "duration": 123,
    "start_time": "2022-04-14T14:30:42.526Z"
   },
   {
    "duration": 0,
    "start_time": "2022-04-14T14:30:42.651Z"
   },
   {
    "duration": 590,
    "start_time": "2022-04-14T14:31:02.179Z"
   },
   {
    "duration": 508,
    "start_time": "2022-04-14T14:31:08.770Z"
   },
   {
    "duration": 69,
    "start_time": "2022-04-14T14:52:26.707Z"
   },
   {
    "duration": 17,
    "start_time": "2022-04-14T14:52:36.450Z"
   },
   {
    "duration": 8,
    "start_time": "2022-04-14T14:53:54.958Z"
   },
   {
    "duration": 14,
    "start_time": "2022-04-14T14:54:05.097Z"
   },
   {
    "duration": 12,
    "start_time": "2022-04-14T14:54:44.734Z"
   },
   {
    "duration": 13,
    "start_time": "2022-04-14T14:54:53.178Z"
   },
   {
    "duration": 14,
    "start_time": "2022-04-14T14:55:01.441Z"
   },
   {
    "duration": 7,
    "start_time": "2022-04-14T14:55:43.433Z"
   },
   {
    "duration": 12,
    "start_time": "2022-04-14T14:56:31.951Z"
   },
   {
    "duration": 4,
    "start_time": "2022-04-14T15:00:26.915Z"
   },
   {
    "duration": 7,
    "start_time": "2022-04-14T15:16:20.050Z"
   },
   {
    "duration": 7,
    "start_time": "2022-04-14T15:36:14.256Z"
   },
   {
    "duration": 13,
    "start_time": "2022-04-14T15:37:34.637Z"
   },
   {
    "duration": 13,
    "start_time": "2022-04-14T15:42:41.913Z"
   },
   {
    "duration": 12,
    "start_time": "2022-04-14T15:43:50.183Z"
   },
   {
    "duration": 16,
    "start_time": "2022-04-14T15:44:01.223Z"
   },
   {
    "duration": 6,
    "start_time": "2022-04-14T15:49:21.517Z"
   },
   {
    "duration": 800,
    "start_time": "2022-04-14T15:49:30.769Z"
   },
   {
    "duration": 31,
    "start_time": "2022-04-14T15:49:31.571Z"
   },
   {
    "duration": 22,
    "start_time": "2022-04-14T15:49:31.603Z"
   },
   {
    "duration": 9,
    "start_time": "2022-04-14T15:49:31.627Z"
   },
   {
    "duration": 26,
    "start_time": "2022-04-14T15:49:31.638Z"
   },
   {
    "duration": 12,
    "start_time": "2022-04-14T15:49:31.666Z"
   },
   {
    "duration": 12,
    "start_time": "2022-04-14T15:49:31.679Z"
   },
   {
    "duration": 17,
    "start_time": "2022-04-14T15:49:31.693Z"
   },
   {
    "duration": 6,
    "start_time": "2022-04-14T15:49:31.712Z"
   },
   {
    "duration": 49,
    "start_time": "2022-04-14T15:49:31.721Z"
   },
   {
    "duration": 180,
    "start_time": "2022-04-14T15:49:31.772Z"
   },
   {
    "duration": 8,
    "start_time": "2022-04-14T15:54:33.855Z"
   },
   {
    "duration": 20,
    "start_time": "2022-04-14T15:54:51.839Z"
   },
   {
    "duration": 5,
    "start_time": "2022-04-14T15:56:22.002Z"
   },
   {
    "duration": 4,
    "start_time": "2022-04-14T15:56:25.603Z"
   },
   {
    "duration": 22,
    "start_time": "2022-04-14T15:58:47.301Z"
   },
   {
    "duration": 989,
    "start_time": "2022-04-14T16:13:28.853Z"
   },
   {
    "duration": 39,
    "start_time": "2022-04-14T16:13:29.845Z"
   },
   {
    "duration": 18,
    "start_time": "2022-04-14T16:13:29.886Z"
   },
   {
    "duration": 10,
    "start_time": "2022-04-14T16:13:29.907Z"
   },
   {
    "duration": 49,
    "start_time": "2022-04-14T16:13:29.919Z"
   },
   {
    "duration": 14,
    "start_time": "2022-04-14T16:13:29.970Z"
   },
   {
    "duration": 17,
    "start_time": "2022-04-14T16:13:29.986Z"
   },
   {
    "duration": 5,
    "start_time": "2022-04-14T16:13:30.005Z"
   },
   {
    "duration": 31,
    "start_time": "2022-04-14T16:13:30.012Z"
   },
   {
    "duration": 27,
    "start_time": "2022-04-14T16:13:30.046Z"
   },
   {
    "duration": 181,
    "start_time": "2022-04-14T16:13:30.075Z"
   },
   {
    "duration": 85,
    "start_time": "2022-04-15T02:45:30.266Z"
   },
   {
    "duration": 986,
    "start_time": "2022-04-15T02:45:45.626Z"
   },
   {
    "duration": 38,
    "start_time": "2022-04-15T02:45:46.614Z"
   },
   {
    "duration": 18,
    "start_time": "2022-04-15T02:45:46.654Z"
   },
   {
    "duration": 114,
    "start_time": "2022-04-15T02:45:46.673Z"
   },
   {
    "duration": 0,
    "start_time": "2022-04-15T02:45:46.790Z"
   },
   {
    "duration": 0,
    "start_time": "2022-04-15T02:45:46.791Z"
   },
   {
    "duration": 0,
    "start_time": "2022-04-15T02:45:46.792Z"
   },
   {
    "duration": 0,
    "start_time": "2022-04-15T02:45:46.794Z"
   },
   {
    "duration": 0,
    "start_time": "2022-04-15T02:45:46.797Z"
   },
   {
    "duration": 0,
    "start_time": "2022-04-15T02:45:46.818Z"
   },
   {
    "duration": 0,
    "start_time": "2022-04-15T02:45:46.821Z"
   },
   {
    "duration": 0,
    "start_time": "2022-04-15T02:45:46.822Z"
   },
   {
    "duration": 20,
    "start_time": "2022-04-15T02:46:08.961Z"
   },
   {
    "duration": 780,
    "start_time": "2022-04-15T02:46:33.752Z"
   },
   {
    "duration": 38,
    "start_time": "2022-04-15T02:46:34.535Z"
   },
   {
    "duration": 19,
    "start_time": "2022-04-15T02:46:34.574Z"
   },
   {
    "duration": 47,
    "start_time": "2022-04-15T02:46:34.595Z"
   },
   {
    "duration": 10,
    "start_time": "2022-04-15T02:46:34.644Z"
   },
   {
    "duration": 28,
    "start_time": "2022-04-15T02:46:34.656Z"
   },
   {
    "duration": 14,
    "start_time": "2022-04-15T02:46:34.686Z"
   },
   {
    "duration": 33,
    "start_time": "2022-04-15T02:46:34.702Z"
   },
   {
    "duration": 6,
    "start_time": "2022-04-15T02:46:34.737Z"
   },
   {
    "duration": 17,
    "start_time": "2022-04-15T02:46:34.745Z"
   },
   {
    "duration": 21,
    "start_time": "2022-04-15T02:46:34.764Z"
   },
   {
    "duration": 207,
    "start_time": "2022-04-15T02:46:34.787Z"
   },
   {
    "duration": 7,
    "start_time": "2022-04-15T02:47:29.840Z"
   },
   {
    "duration": 7,
    "start_time": "2022-04-15T02:47:42.433Z"
   },
   {
    "duration": 813,
    "start_time": "2022-04-15T02:47:51.485Z"
   },
   {
    "duration": 39,
    "start_time": "2022-04-15T02:47:52.300Z"
   },
   {
    "duration": 17,
    "start_time": "2022-04-15T02:47:52.341Z"
   },
   {
    "duration": 7,
    "start_time": "2022-04-15T02:47:52.361Z"
   },
   {
    "duration": 14,
    "start_time": "2022-04-15T02:47:52.370Z"
   },
   {
    "duration": 51,
    "start_time": "2022-04-15T02:47:52.386Z"
   },
   {
    "duration": 21,
    "start_time": "2022-04-15T02:47:52.439Z"
   },
   {
    "duration": 19,
    "start_time": "2022-04-15T02:47:52.462Z"
   },
   {
    "duration": 34,
    "start_time": "2022-04-15T02:47:52.484Z"
   },
   {
    "duration": 20,
    "start_time": "2022-04-15T02:47:52.524Z"
   },
   {
    "duration": 23,
    "start_time": "2022-04-15T02:47:52.546Z"
   },
   {
    "duration": 188,
    "start_time": "2022-04-15T02:47:52.572Z"
   },
   {
    "duration": 41,
    "start_time": "2022-04-15T04:38:12.908Z"
   },
   {
    "duration": 11,
    "start_time": "2022-04-15T04:39:46.109Z"
   },
   {
    "duration": 30,
    "start_time": "2022-04-15T04:40:10.229Z"
   },
   {
    "duration": 43,
    "start_time": "2022-04-15T04:48:54.589Z"
   },
   {
    "duration": 28,
    "start_time": "2022-04-15T04:49:21.951Z"
   },
   {
    "duration": 78,
    "start_time": "2022-04-15T05:17:24.811Z"
   },
   {
    "duration": 10,
    "start_time": "2022-04-15T05:18:32.696Z"
   },
   {
    "duration": 9,
    "start_time": "2022-04-15T05:19:52.912Z"
   },
   {
    "duration": 783,
    "start_time": "2022-04-15T05:19:58.168Z"
   },
   {
    "duration": 33,
    "start_time": "2022-04-15T05:19:58.953Z"
   },
   {
    "duration": 30,
    "start_time": "2022-04-15T05:19:58.988Z"
   },
   {
    "duration": 10,
    "start_time": "2022-04-15T05:19:59.021Z"
   },
   {
    "duration": 16,
    "start_time": "2022-04-15T05:19:59.033Z"
   },
   {
    "duration": 14,
    "start_time": "2022-04-15T05:19:59.051Z"
   },
   {
    "duration": 29,
    "start_time": "2022-04-15T05:19:59.067Z"
   },
   {
    "duration": 6,
    "start_time": "2022-04-15T05:19:59.098Z"
   },
   {
    "duration": 11,
    "start_time": "2022-04-15T05:19:59.118Z"
   },
   {
    "duration": 19,
    "start_time": "2022-04-15T05:19:59.131Z"
   },
   {
    "duration": 97,
    "start_time": "2022-04-15T05:19:59.152Z"
   },
   {
    "duration": 0,
    "start_time": "2022-04-15T05:19:59.251Z"
   },
   {
    "duration": 15,
    "start_time": "2022-04-15T05:20:50.434Z"
   },
   {
    "duration": 16,
    "start_time": "2022-04-15T05:21:32.810Z"
   },
   {
    "duration": 40,
    "start_time": "2022-04-15T05:21:39.970Z"
   },
   {
    "duration": 43,
    "start_time": "2022-04-15T05:26:35.316Z"
   },
   {
    "duration": 5,
    "start_time": "2022-04-15T09:38:35.736Z"
   },
   {
    "duration": 0,
    "start_time": "2022-04-15T09:39:46.873Z"
   },
   {
    "duration": 768,
    "start_time": "2022-04-15T09:39:54.858Z"
   },
   {
    "duration": 36,
    "start_time": "2022-04-15T09:39:55.628Z"
   },
   {
    "duration": 19,
    "start_time": "2022-04-15T09:39:55.666Z"
   },
   {
    "duration": 31,
    "start_time": "2022-04-15T09:39:55.687Z"
   },
   {
    "duration": 20,
    "start_time": "2022-04-15T09:39:55.720Z"
   },
   {
    "duration": 17,
    "start_time": "2022-04-15T09:39:55.742Z"
   },
   {
    "duration": 15,
    "start_time": "2022-04-15T09:39:55.762Z"
   },
   {
    "duration": 5,
    "start_time": "2022-04-15T09:39:55.780Z"
   },
   {
    "duration": 41,
    "start_time": "2022-04-15T09:39:55.787Z"
   },
   {
    "duration": 32,
    "start_time": "2022-04-15T09:39:55.832Z"
   },
   {
    "duration": 52,
    "start_time": "2022-04-15T09:39:55.867Z"
   },
   {
    "duration": 2458,
    "start_time": "2022-04-15T09:39:55.922Z"
   },
   {
    "duration": 0,
    "start_time": "2022-04-15T09:39:58.382Z"
   },
   {
    "duration": 0,
    "start_time": "2022-04-15T09:39:58.384Z"
   },
   {
    "duration": 5,
    "start_time": "2022-04-15T09:40:07.603Z"
   },
   {
    "duration": 4,
    "start_time": "2022-04-15T09:44:57.981Z"
   },
   {
    "duration": 2157,
    "start_time": "2022-04-15T09:45:00.349Z"
   },
   {
    "duration": 88,
    "start_time": "2022-04-15T09:46:17.212Z"
   },
   {
    "duration": 22,
    "start_time": "2022-04-15T09:46:42.470Z"
   },
   {
    "duration": 69,
    "start_time": "2022-04-15T14:16:35.568Z"
   },
   {
    "duration": 4,
    "start_time": "2022-04-15T14:19:30.827Z"
   },
   {
    "duration": 8,
    "start_time": "2022-04-15T14:19:34.347Z"
   },
   {
    "duration": 1235,
    "start_time": "2022-04-15T14:19:40.180Z"
   },
   {
    "duration": 55,
    "start_time": "2022-04-15T14:19:41.418Z"
   },
   {
    "duration": 24,
    "start_time": "2022-04-15T14:19:41.476Z"
   },
   {
    "duration": 14,
    "start_time": "2022-04-15T14:19:41.525Z"
   },
   {
    "duration": 22,
    "start_time": "2022-04-15T14:19:41.542Z"
   },
   {
    "duration": 16,
    "start_time": "2022-04-15T14:19:41.567Z"
   },
   {
    "duration": 51,
    "start_time": "2022-04-15T14:19:41.585Z"
   },
   {
    "duration": 11,
    "start_time": "2022-04-15T14:19:41.638Z"
   },
   {
    "duration": 20,
    "start_time": "2022-04-15T14:19:41.651Z"
   },
   {
    "duration": 36,
    "start_time": "2022-04-15T14:19:41.675Z"
   },
   {
    "duration": 56,
    "start_time": "2022-04-15T14:19:41.713Z"
   },
   {
    "duration": 6,
    "start_time": "2022-04-15T14:19:41.771Z"
   },
   {
    "duration": 16,
    "start_time": "2022-04-15T14:19:41.779Z"
   },
   {
    "duration": 509,
    "start_time": "2022-04-15T14:19:41.797Z"
   },
   {
    "duration": 0,
    "start_time": "2022-04-15T14:19:42.308Z"
   },
   {
    "duration": 0,
    "start_time": "2022-04-15T14:19:42.310Z"
   },
   {
    "duration": 458,
    "start_time": "2022-04-15T14:20:05.629Z"
   },
   {
    "duration": 393,
    "start_time": "2022-04-15T14:20:26.859Z"
   },
   {
    "duration": 10,
    "start_time": "2022-04-15T14:21:28.799Z"
   },
   {
    "duration": 889,
    "start_time": "2022-04-15T14:21:38.860Z"
   },
   {
    "duration": 50,
    "start_time": "2022-04-15T14:21:39.752Z"
   },
   {
    "duration": 24,
    "start_time": "2022-04-15T14:21:39.824Z"
   },
   {
    "duration": 14,
    "start_time": "2022-04-15T14:21:39.853Z"
   },
   {
    "duration": 55,
    "start_time": "2022-04-15T14:21:39.870Z"
   },
   {
    "duration": 19,
    "start_time": "2022-04-15T14:21:39.927Z"
   },
   {
    "duration": 19,
    "start_time": "2022-04-15T14:21:39.949Z"
   },
   {
    "duration": 4,
    "start_time": "2022-04-15T14:21:39.970Z"
   },
   {
    "duration": 54,
    "start_time": "2022-04-15T14:21:39.976Z"
   },
   {
    "duration": 28,
    "start_time": "2022-04-15T14:21:40.033Z"
   },
   {
    "duration": 71,
    "start_time": "2022-04-15T14:21:40.063Z"
   },
   {
    "duration": 5,
    "start_time": "2022-04-15T14:21:40.136Z"
   },
   {
    "duration": 114,
    "start_time": "2022-04-15T14:21:40.143Z"
   },
   {
    "duration": 0,
    "start_time": "2022-04-15T14:21:40.260Z"
   },
   {
    "duration": 0,
    "start_time": "2022-04-15T14:21:40.261Z"
   },
   {
    "duration": 499,
    "start_time": "2022-04-15T14:22:19.176Z"
   },
   {
    "duration": 60,
    "start_time": "2022-04-15T14:23:14.456Z"
   },
   {
    "duration": 7,
    "start_time": "2022-04-15T14:29:38.092Z"
   },
   {
    "duration": 36,
    "start_time": "2022-04-15T14:30:23.109Z"
   },
   {
    "duration": 38,
    "start_time": "2022-04-15T14:31:52.689Z"
   },
   {
    "duration": 3,
    "start_time": "2022-04-15T14:32:25.490Z"
   },
   {
    "duration": 190,
    "start_time": "2022-04-15T14:37:25.987Z"
   },
   {
    "duration": 232,
    "start_time": "2022-04-15T14:37:47.037Z"
   },
   {
    "duration": 1313,
    "start_time": "2022-04-15T14:38:04.365Z"
   },
   {
    "duration": 1321,
    "start_time": "2022-04-15T14:38:21.125Z"
   },
   {
    "duration": 223,
    "start_time": "2022-04-15T14:38:33.333Z"
   },
   {
    "duration": 198,
    "start_time": "2022-04-15T14:39:05.745Z"
   },
   {
    "duration": 2190,
    "start_time": "2022-04-15T14:39:20.729Z"
   },
   {
    "duration": 2182,
    "start_time": "2022-04-15T14:39:27.125Z"
   },
   {
    "duration": 2493,
    "start_time": "2022-04-15T14:39:37.273Z"
   },
   {
    "duration": 1363,
    "start_time": "2022-04-15T14:39:54.885Z"
   },
   {
    "duration": 231,
    "start_time": "2022-04-15T14:40:06.397Z"
   },
   {
    "duration": 217,
    "start_time": "2022-04-15T14:40:14.405Z"
   },
   {
    "duration": 275,
    "start_time": "2022-04-15T14:40:18.201Z"
   },
   {
    "duration": 261,
    "start_time": "2022-04-15T14:40:22.801Z"
   },
   {
    "duration": 764,
    "start_time": "2022-04-15T14:40:44.509Z"
   },
   {
    "duration": 777,
    "start_time": "2022-04-15T14:40:50.017Z"
   },
   {
    "duration": 256,
    "start_time": "2022-04-15T14:40:55.925Z"
   },
   {
    "duration": 253,
    "start_time": "2022-04-15T14:40:59.589Z"
   },
   {
    "duration": 369,
    "start_time": "2022-04-15T14:42:13.773Z"
   },
   {
    "duration": 644,
    "start_time": "2022-04-15T14:42:46.661Z"
   },
   {
    "duration": 40,
    "start_time": "2022-04-15T14:52:24.673Z"
   },
   {
    "duration": 411,
    "start_time": "2022-04-15T15:08:27.454Z"
   },
   {
    "duration": 257,
    "start_time": "2022-04-15T15:12:24.470Z"
   },
   {
    "duration": 283,
    "start_time": "2022-04-15T15:16:37.249Z"
   },
   {
    "duration": 273,
    "start_time": "2022-04-15T15:17:16.454Z"
   },
   {
    "duration": 272,
    "start_time": "2022-04-15T15:17:30.417Z"
   },
   {
    "duration": 240,
    "start_time": "2022-04-15T15:17:39.930Z"
   },
   {
    "duration": 260,
    "start_time": "2022-04-15T15:17:48.506Z"
   },
   {
    "duration": 289,
    "start_time": "2022-04-15T15:17:56.426Z"
   },
   {
    "duration": 698,
    "start_time": "2022-04-15T15:21:55.861Z"
   },
   {
    "duration": 698,
    "start_time": "2022-04-15T15:22:15.630Z"
   },
   {
    "duration": 314,
    "start_time": "2022-04-15T15:27:12.899Z"
   },
   {
    "duration": 265,
    "start_time": "2022-04-15T15:27:19.931Z"
   },
   {
    "duration": 417,
    "start_time": "2022-04-15T15:27:27.290Z"
   },
   {
    "duration": 416,
    "start_time": "2022-04-15T15:27:33.966Z"
   },
   {
    "duration": 387,
    "start_time": "2022-04-15T15:27:42.399Z"
   },
   {
    "duration": 406,
    "start_time": "2022-04-15T15:27:47.747Z"
   },
   {
    "duration": 503,
    "start_time": "2022-04-15T15:27:51.715Z"
   },
   {
    "duration": 468,
    "start_time": "2022-04-15T15:27:55.727Z"
   },
   {
    "duration": 356,
    "start_time": "2022-04-15T15:28:07.806Z"
   },
   {
    "duration": 271,
    "start_time": "2022-04-15T15:29:58.838Z"
   },
   {
    "duration": 351,
    "start_time": "2022-04-15T15:30:05.234Z"
   },
   {
    "duration": 269,
    "start_time": "2022-04-15T15:30:13.398Z"
   },
   {
    "duration": 21,
    "start_time": "2022-04-15T16:14:23.994Z"
   },
   {
    "duration": 59,
    "start_time": "2022-04-16T04:59:20.422Z"
   },
   {
    "duration": 9,
    "start_time": "2022-04-16T04:59:25.488Z"
   },
   {
    "duration": 904,
    "start_time": "2022-04-16T04:59:31.650Z"
   },
   {
    "duration": 29,
    "start_time": "2022-04-16T04:59:32.556Z"
   },
   {
    "duration": 15,
    "start_time": "2022-04-16T04:59:32.587Z"
   },
   {
    "duration": 8,
    "start_time": "2022-04-16T04:59:32.603Z"
   },
   {
    "duration": 10,
    "start_time": "2022-04-16T04:59:32.613Z"
   },
   {
    "duration": 37,
    "start_time": "2022-04-16T04:59:32.624Z"
   },
   {
    "duration": 11,
    "start_time": "2022-04-16T04:59:32.663Z"
   },
   {
    "duration": 4,
    "start_time": "2022-04-16T04:59:32.675Z"
   },
   {
    "duration": 12,
    "start_time": "2022-04-16T04:59:32.680Z"
   },
   {
    "duration": 19,
    "start_time": "2022-04-16T04:59:32.693Z"
   },
   {
    "duration": 46,
    "start_time": "2022-04-16T04:59:32.713Z"
   },
   {
    "duration": 3,
    "start_time": "2022-04-16T04:59:32.761Z"
   },
   {
    "duration": 275,
    "start_time": "2022-04-16T04:59:32.766Z"
   },
   {
    "duration": 30,
    "start_time": "2022-04-16T04:59:33.043Z"
   },
   {
    "duration": 229,
    "start_time": "2022-04-16T04:59:33.075Z"
   },
   {
    "duration": 295,
    "start_time": "2022-04-16T04:59:33.306Z"
   },
   {
    "duration": 163,
    "start_time": "2022-04-16T04:59:33.602Z"
   },
   {
    "duration": 159,
    "start_time": "2022-04-16T04:59:33.767Z"
   },
   {
    "duration": 82,
    "start_time": "2022-04-16T04:59:33.927Z"
   },
   {
    "duration": 136,
    "start_time": "2022-04-16T05:10:59.456Z"
   },
   {
    "duration": 203,
    "start_time": "2022-04-16T05:12:27.025Z"
   },
   {
    "duration": 210,
    "start_time": "2022-04-16T05:13:01.735Z"
   },
   {
    "duration": 209,
    "start_time": "2022-04-16T05:13:10.272Z"
   },
   {
    "duration": 33,
    "start_time": "2022-04-16T05:31:34.784Z"
   },
   {
    "duration": 31,
    "start_time": "2022-04-16T05:32:18.728Z"
   },
   {
    "duration": 38,
    "start_time": "2022-04-16T05:32:25.238Z"
   },
   {
    "duration": 32,
    "start_time": "2022-04-16T05:32:47.228Z"
   },
   {
    "duration": 120,
    "start_time": "2022-04-16T05:36:50.641Z"
   },
   {
    "duration": 4109,
    "start_time": "2022-04-16T05:37:08.908Z"
   },
   {
    "duration": 4028,
    "start_time": "2022-04-16T05:37:38.538Z"
   },
   {
    "duration": 210,
    "start_time": "2022-04-16T05:38:33.469Z"
   },
   {
    "duration": 604,
    "start_time": "2022-04-16T05:39:09.480Z"
   },
   {
    "duration": 215,
    "start_time": "2022-04-16T05:39:30.468Z"
   },
   {
    "duration": 213,
    "start_time": "2022-04-16T05:53:31.491Z"
   },
   {
    "duration": 210,
    "start_time": "2022-04-16T05:54:10.068Z"
   },
   {
    "duration": 212,
    "start_time": "2022-04-16T05:54:19.320Z"
   },
   {
    "duration": 208,
    "start_time": "2022-04-16T05:55:47.768Z"
   },
   {
    "duration": 218,
    "start_time": "2022-04-16T05:55:55.572Z"
   },
   {
    "duration": 14,
    "start_time": "2022-04-16T06:02:08.828Z"
   },
   {
    "duration": 14,
    "start_time": "2022-04-16T06:02:31.207Z"
   },
   {
    "duration": 11,
    "start_time": "2022-04-16T06:02:48.222Z"
   },
   {
    "duration": 491,
    "start_time": "2022-04-16T06:36:12.726Z"
   },
   {
    "duration": 76,
    "start_time": "2022-04-16T07:01:13.615Z"
   },
   {
    "duration": 435,
    "start_time": "2022-04-16T07:09:23.941Z"
   },
   {
    "duration": 463,
    "start_time": "2022-04-16T07:09:36.380Z"
   },
   {
    "duration": 910,
    "start_time": "2022-04-16T07:09:42.756Z"
   },
   {
    "duration": 9,
    "start_time": "2022-04-16T07:13:08.329Z"
   },
   {
    "duration": 11,
    "start_time": "2022-04-16T07:16:32.193Z"
   },
   {
    "duration": 133,
    "start_time": "2022-04-16T09:27:12.746Z"
   },
   {
    "duration": 132,
    "start_time": "2022-04-16T09:27:42.514Z"
   },
   {
    "duration": 135,
    "start_time": "2022-04-16T09:28:05.038Z"
   },
   {
    "duration": 124,
    "start_time": "2022-04-16T09:29:25.426Z"
   },
   {
    "duration": 138,
    "start_time": "2022-04-16T09:31:37.475Z"
   },
   {
    "duration": 11,
    "start_time": "2022-04-16T09:32:27.010Z"
   },
   {
    "duration": 80,
    "start_time": "2022-04-16T09:32:37.289Z"
   },
   {
    "duration": 80,
    "start_time": "2022-04-16T09:49:35.031Z"
   },
   {
    "duration": 75,
    "start_time": "2022-04-16T09:50:21.890Z"
   },
   {
    "duration": 10,
    "start_time": "2022-04-16T09:50:38.315Z"
   },
   {
    "duration": 11,
    "start_time": "2022-04-16T09:50:57.127Z"
   },
   {
    "duration": 81,
    "start_time": "2022-04-16T09:50:59.418Z"
   },
   {
    "duration": 413,
    "start_time": "2022-04-16T09:52:45.187Z"
   },
   {
    "duration": 7,
    "start_time": "2022-04-16T09:53:44.447Z"
   },
   {
    "duration": 725,
    "start_time": "2022-04-16T10:00:39.664Z"
   },
   {
    "duration": 31,
    "start_time": "2022-04-16T10:00:40.391Z"
   },
   {
    "duration": 17,
    "start_time": "2022-04-16T10:00:40.424Z"
   },
   {
    "duration": 10,
    "start_time": "2022-04-16T10:00:40.454Z"
   },
   {
    "duration": 12,
    "start_time": "2022-04-16T10:00:40.465Z"
   },
   {
    "duration": 12,
    "start_time": "2022-04-16T10:00:40.478Z"
   },
   {
    "duration": 11,
    "start_time": "2022-04-16T10:00:40.491Z"
   },
   {
    "duration": 5,
    "start_time": "2022-04-16T10:00:40.503Z"
   },
   {
    "duration": 13,
    "start_time": "2022-04-16T10:00:40.509Z"
   },
   {
    "duration": 19,
    "start_time": "2022-04-16T10:00:40.554Z"
   },
   {
    "duration": 13,
    "start_time": "2022-04-16T10:00:40.575Z"
   },
   {
    "duration": 3,
    "start_time": "2022-04-16T10:00:40.589Z"
   },
   {
    "duration": 286,
    "start_time": "2022-04-16T10:00:40.593Z"
   },
   {
    "duration": 23,
    "start_time": "2022-04-16T10:00:40.881Z"
   },
   {
    "duration": 232,
    "start_time": "2022-04-16T10:00:40.905Z"
   },
   {
    "duration": 273,
    "start_time": "2022-04-16T10:00:41.139Z"
   },
   {
    "duration": 162,
    "start_time": "2022-04-16T10:00:41.413Z"
   },
   {
    "duration": 150,
    "start_time": "2022-04-16T10:00:41.576Z"
   },
   {
    "duration": 82,
    "start_time": "2022-04-16T10:00:41.728Z"
   },
   {
    "duration": 432,
    "start_time": "2022-04-16T10:00:41.812Z"
   },
   {
    "duration": 16,
    "start_time": "2022-04-16T10:00:42.246Z"
   },
   {
    "duration": 9,
    "start_time": "2022-04-16T10:00:42.264Z"
   },
   {
    "duration": 9,
    "start_time": "2022-04-16T10:00:42.275Z"
   },
   {
    "duration": 98,
    "start_time": "2022-04-16T10:00:42.286Z"
   },
   {
    "duration": 499,
    "start_time": "2022-04-16T10:00:42.385Z"
   },
   {
    "duration": 6,
    "start_time": "2022-04-16T10:00:42.886Z"
   },
   {
    "duration": 106,
    "start_time": "2022-04-16T10:02:43.848Z"
   },
   {
    "duration": 80,
    "start_time": "2022-04-16T10:02:51.176Z"
   },
   {
    "duration": 66,
    "start_time": "2022-04-16T10:09:28.143Z"
   },
   {
    "duration": 16,
    "start_time": "2022-04-16T10:09:37.679Z"
   },
   {
    "duration": 2297,
    "start_time": "2022-04-16T10:11:06.740Z"
   },
   {
    "duration": 128,
    "start_time": "2022-04-16T10:11:18.248Z"
   },
   {
    "duration": 108,
    "start_time": "2022-04-16T10:12:07.583Z"
   },
   {
    "duration": 119,
    "start_time": "2022-04-16T10:12:14.659Z"
   },
   {
    "duration": 138,
    "start_time": "2022-04-16T10:12:18.031Z"
   },
   {
    "duration": 116,
    "start_time": "2022-04-16T10:12:21.267Z"
   },
   {
    "duration": 121,
    "start_time": "2022-04-16T10:13:19.943Z"
   },
   {
    "duration": 118,
    "start_time": "2022-04-16T10:13:27.595Z"
   },
   {
    "duration": 128,
    "start_time": "2022-04-16T10:14:20.955Z"
   },
   {
    "duration": 197,
    "start_time": "2022-04-16T10:16:20.363Z"
   },
   {
    "duration": 125,
    "start_time": "2022-04-16T10:19:35.736Z"
   },
   {
    "duration": 6,
    "start_time": "2022-04-16T10:21:03.119Z"
   },
   {
    "duration": 145,
    "start_time": "2022-04-16T10:44:24.470Z"
   },
   {
    "duration": 120,
    "start_time": "2022-04-16T10:44:39.221Z"
   },
   {
    "duration": 119,
    "start_time": "2022-04-16T10:44:46.937Z"
   },
   {
    "duration": 121,
    "start_time": "2022-04-16T10:44:53.753Z"
   },
   {
    "duration": 140,
    "start_time": "2022-04-16T10:45:08.191Z"
   },
   {
    "duration": 149,
    "start_time": "2022-04-16T10:48:08.733Z"
   },
   {
    "duration": 20,
    "start_time": "2022-04-16T11:00:33.457Z"
   },
   {
    "duration": 146,
    "start_time": "2022-04-16T11:00:42.069Z"
   },
   {
    "duration": 150,
    "start_time": "2022-04-16T11:09:43.066Z"
   },
   {
    "duration": 132,
    "start_time": "2022-04-16T11:11:27.998Z"
   },
   {
    "duration": 6,
    "start_time": "2022-04-16T11:11:50.354Z"
   },
   {
    "duration": 153,
    "start_time": "2022-04-16T11:13:29.162Z"
   },
   {
    "duration": 142,
    "start_time": "2022-04-16T11:15:42.558Z"
   },
   {
    "duration": 6,
    "start_time": "2022-04-16T11:16:21.074Z"
   },
   {
    "duration": 212,
    "start_time": "2022-04-16T11:16:44.766Z"
   },
   {
    "duration": 135,
    "start_time": "2022-04-16T11:27:30.398Z"
   },
   {
    "duration": 133,
    "start_time": "2022-04-16T11:27:49.298Z"
   },
   {
    "duration": 19,
    "start_time": "2022-04-16T11:28:48.413Z"
   },
   {
    "duration": 124,
    "start_time": "2022-04-16T11:30:09.070Z"
   },
   {
    "duration": 143,
    "start_time": "2022-04-16T11:32:14.298Z"
   },
   {
    "duration": 362,
    "start_time": "2022-04-16T11:32:39.206Z"
   },
   {
    "duration": 113,
    "start_time": "2022-04-16T11:35:11.694Z"
   },
   {
    "duration": 112,
    "start_time": "2022-04-16T11:35:26.090Z"
   },
   {
    "duration": 6,
    "start_time": "2022-04-16T11:37:08.753Z"
   },
   {
    "duration": 2562,
    "start_time": "2022-04-16T11:37:38.789Z"
   },
   {
    "duration": 2187,
    "start_time": "2022-04-16T11:38:25.289Z"
   },
   {
    "duration": 133,
    "start_time": "2022-04-16T11:38:36.621Z"
   },
   {
    "duration": 2414,
    "start_time": "2022-04-16T11:40:03.659Z"
   },
   {
    "duration": 120,
    "start_time": "2022-04-16T11:40:17.005Z"
   },
   {
    "duration": 32,
    "start_time": "2022-04-16T11:40:54.281Z"
   },
   {
    "duration": 12,
    "start_time": "2022-04-16T11:41:06.475Z"
   },
   {
    "duration": 134,
    "start_time": "2022-04-16T11:41:20.441Z"
   },
   {
    "duration": 128,
    "start_time": "2022-04-16T11:41:58.161Z"
   },
   {
    "duration": 130,
    "start_time": "2022-04-16T11:42:20.557Z"
   },
   {
    "duration": 116,
    "start_time": "2022-04-16T11:43:07.429Z"
   },
   {
    "duration": 139,
    "start_time": "2022-04-16T11:43:39.842Z"
   },
   {
    "duration": 216,
    "start_time": "2022-04-16T11:43:46.106Z"
   },
   {
    "duration": 112,
    "start_time": "2022-04-16T11:44:00.877Z"
   },
   {
    "duration": 107,
    "start_time": "2022-04-16T11:44:21.690Z"
   },
   {
    "duration": 120,
    "start_time": "2022-04-16T11:44:29.021Z"
   },
   {
    "duration": 6,
    "start_time": "2022-04-16T11:55:16.434Z"
   },
   {
    "duration": 562,
    "start_time": "2022-04-16T11:57:23.550Z"
   },
   {
    "duration": 120,
    "start_time": "2022-04-16T14:07:39.318Z"
   },
   {
    "duration": 114,
    "start_time": "2022-04-16T14:07:51.130Z"
   },
   {
    "duration": 127,
    "start_time": "2022-04-16T14:09:59.325Z"
   },
   {
    "duration": 601,
    "start_time": "2022-04-16T14:12:29.909Z"
   },
   {
    "duration": 5,
    "start_time": "2022-04-16T14:13:03.973Z"
   },
   {
    "duration": 133,
    "start_time": "2022-04-16T14:13:09.421Z"
   },
   {
    "duration": 7,
    "start_time": "2022-04-16T14:13:48.281Z"
   },
   {
    "duration": 5,
    "start_time": "2022-04-16T14:14:02.585Z"
   },
   {
    "duration": 129,
    "start_time": "2022-04-16T14:14:47.017Z"
   },
   {
    "duration": 5,
    "start_time": "2022-04-16T14:14:49.073Z"
   },
   {
    "duration": 125,
    "start_time": "2022-04-16T14:26:45.945Z"
   },
   {
    "duration": 126,
    "start_time": "2022-04-16T14:27:26.357Z"
   },
   {
    "duration": 115,
    "start_time": "2022-04-16T14:27:49.869Z"
   },
   {
    "duration": 6,
    "start_time": "2022-04-16T14:27:52.512Z"
   },
   {
    "duration": 118,
    "start_time": "2022-04-16T14:27:55.605Z"
   },
   {
    "duration": 8,
    "start_time": "2022-04-16T14:28:52.589Z"
   },
   {
    "duration": 32,
    "start_time": "2022-04-16T14:32:51.557Z"
   },
   {
    "duration": 36,
    "start_time": "2022-04-16T14:33:11.554Z"
   },
   {
    "duration": 144,
    "start_time": "2022-04-16T14:33:34.941Z"
   },
   {
    "duration": 144,
    "start_time": "2022-04-16T14:34:02.437Z"
   },
   {
    "duration": 138,
    "start_time": "2022-04-16T14:34:58.789Z"
   },
   {
    "duration": 151,
    "start_time": "2022-04-16T14:47:47.468Z"
   },
   {
    "duration": 135,
    "start_time": "2022-04-16T14:48:25.300Z"
   },
   {
    "duration": 119,
    "start_time": "2022-04-16T14:48:50.364Z"
   },
   {
    "duration": 246,
    "start_time": "2022-04-16T14:49:10.157Z"
   },
   {
    "duration": 107,
    "start_time": "2022-04-16T14:50:54.084Z"
   },
   {
    "duration": 10,
    "start_time": "2022-04-16T14:53:53.837Z"
   },
   {
    "duration": 113,
    "start_time": "2022-04-16T14:54:08.193Z"
   },
   {
    "duration": 6,
    "start_time": "2022-04-16T14:54:45.173Z"
   },
   {
    "duration": 22,
    "start_time": "2022-04-16T14:59:16.977Z"
   },
   {
    "duration": 22,
    "start_time": "2022-04-16T14:59:44.665Z"
   },
   {
    "duration": 24,
    "start_time": "2022-04-16T15:00:00.753Z"
   },
   {
    "duration": 39,
    "start_time": "2022-04-16T15:00:53.417Z"
   },
   {
    "duration": 24,
    "start_time": "2022-04-16T15:02:37.141Z"
   },
   {
    "duration": 131,
    "start_time": "2022-04-16T15:04:29.348Z"
   },
   {
    "duration": 692,
    "start_time": "2022-04-16T15:13:53.786Z"
   },
   {
    "duration": 30,
    "start_time": "2022-04-16T15:13:54.480Z"
   },
   {
    "duration": 15,
    "start_time": "2022-04-16T15:13:54.512Z"
   },
   {
    "duration": 26,
    "start_time": "2022-04-16T15:13:54.529Z"
   },
   {
    "duration": 10,
    "start_time": "2022-04-16T15:13:54.557Z"
   },
   {
    "duration": 11,
    "start_time": "2022-04-16T15:13:54.569Z"
   },
   {
    "duration": 10,
    "start_time": "2022-04-16T15:13:54.581Z"
   },
   {
    "duration": 3,
    "start_time": "2022-04-16T15:13:54.592Z"
   },
   {
    "duration": 11,
    "start_time": "2022-04-16T15:13:54.597Z"
   },
   {
    "duration": 50,
    "start_time": "2022-04-16T15:13:54.610Z"
   },
   {
    "duration": 13,
    "start_time": "2022-04-16T15:13:54.662Z"
   },
   {
    "duration": 4,
    "start_time": "2022-04-16T15:13:54.676Z"
   },
   {
    "duration": 262,
    "start_time": "2022-04-16T15:13:54.682Z"
   },
   {
    "duration": 27,
    "start_time": "2022-04-16T15:13:54.946Z"
   },
   {
    "duration": 227,
    "start_time": "2022-04-16T15:13:54.974Z"
   },
   {
    "duration": 291,
    "start_time": "2022-04-16T15:13:55.202Z"
   },
   {
    "duration": 161,
    "start_time": "2022-04-16T15:13:55.495Z"
   },
   {
    "duration": 151,
    "start_time": "2022-04-16T15:13:55.658Z"
   },
   {
    "duration": 87,
    "start_time": "2022-04-16T15:13:55.810Z"
   },
   {
    "duration": 430,
    "start_time": "2022-04-16T15:13:55.899Z"
   },
   {
    "duration": 13,
    "start_time": "2022-04-16T15:13:56.330Z"
   },
   {
    "duration": 10,
    "start_time": "2022-04-16T15:13:56.354Z"
   },
   {
    "duration": 10,
    "start_time": "2022-04-16T15:13:56.366Z"
   },
   {
    "duration": 99,
    "start_time": "2022-04-16T15:13:56.378Z"
   },
   {
    "duration": 497,
    "start_time": "2022-04-16T15:13:56.478Z"
   },
   {
    "duration": 6,
    "start_time": "2022-04-16T15:13:56.976Z"
   },
   {
    "duration": 126,
    "start_time": "2022-04-16T15:13:56.984Z"
   },
   {
    "duration": 5,
    "start_time": "2022-04-16T15:13:57.115Z"
   },
   {
    "duration": 8,
    "start_time": "2022-04-16T15:13:57.122Z"
   },
   {
    "duration": 133,
    "start_time": "2022-04-16T15:13:57.132Z"
   },
   {
    "duration": 8,
    "start_time": "2022-04-16T15:13:57.267Z"
   },
   {
    "duration": 24,
    "start_time": "2022-04-16T15:13:57.276Z"
   },
   {
    "duration": 159,
    "start_time": "2022-04-16T15:13:57.302Z"
   },
   {
    "duration": 5,
    "start_time": "2022-04-16T15:13:57.463Z"
   },
   {
    "duration": 129,
    "start_time": "2022-04-16T15:13:57.470Z"
   },
   {
    "duration": 131,
    "start_time": "2022-04-16T15:13:57.601Z"
   },
   {
    "duration": 5,
    "start_time": "2022-04-16T15:13:57.734Z"
   },
   {
    "duration": 147,
    "start_time": "2022-04-16T15:13:57.740Z"
   },
   {
    "duration": 5,
    "start_time": "2022-04-16T15:13:57.888Z"
   },
   {
    "duration": 133,
    "start_time": "2022-04-16T15:13:57.895Z"
   },
   {
    "duration": 5,
    "start_time": "2022-04-16T15:13:58.029Z"
   },
   {
    "duration": 133,
    "start_time": "2022-04-16T15:16:35.482Z"
   },
   {
    "duration": 8,
    "start_time": "2022-04-16T15:23:08.313Z"
   },
   {
    "duration": 76,
    "start_time": "2022-04-16T15:25:06.678Z"
   },
   {
    "duration": 9,
    "start_time": "2022-04-16T15:26:04.545Z"
   },
   {
    "duration": 8,
    "start_time": "2022-04-16T15:26:20.117Z"
   },
   {
    "duration": 8,
    "start_time": "2022-04-16T15:26:26.257Z"
   },
   {
    "duration": 16,
    "start_time": "2022-04-16T15:30:40.845Z"
   },
   {
    "duration": 23,
    "start_time": "2022-04-16T15:32:32.477Z"
   },
   {
    "duration": 9,
    "start_time": "2022-04-16T15:32:45.985Z"
   },
   {
    "duration": 8,
    "start_time": "2022-04-16T15:33:04.589Z"
   },
   {
    "duration": 7,
    "start_time": "2022-04-16T15:33:10.765Z"
   },
   {
    "duration": 18,
    "start_time": "2022-04-16T15:36:01.569Z"
   },
   {
    "duration": 22,
    "start_time": "2022-04-16T15:36:16.613Z"
   },
   {
    "duration": 22,
    "start_time": "2022-04-16T15:37:56.766Z"
   },
   {
    "duration": 129,
    "start_time": "2022-04-16T15:57:26.090Z"
   },
   {
    "duration": 5,
    "start_time": "2022-04-16T15:57:31.890Z"
   },
   {
    "duration": 6,
    "start_time": "2022-04-16T15:57:46.582Z"
   },
   {
    "duration": 17,
    "start_time": "2022-04-16T15:58:14.397Z"
   },
   {
    "duration": 6,
    "start_time": "2022-04-16T15:59:38.894Z"
   },
   {
    "duration": 226,
    "start_time": "2022-04-16T16:06:15.962Z"
   },
   {
    "duration": 11,
    "start_time": "2022-04-16T16:07:21.762Z"
   },
   {
    "duration": 229,
    "start_time": "2022-04-16T16:07:29.826Z"
   },
   {
    "duration": 10,
    "start_time": "2022-04-16T16:09:37.214Z"
   },
   {
    "duration": 12,
    "start_time": "2022-04-16T16:10:16.109Z"
   },
   {
    "duration": 5,
    "start_time": "2022-04-16T16:10:37.505Z"
   },
   {
    "duration": 136,
    "start_time": "2022-04-16T16:13:22.394Z"
   },
   {
    "duration": 343,
    "start_time": "2022-04-16T16:13:32.830Z"
   },
   {
    "duration": 155,
    "start_time": "2022-04-16T16:14:09.901Z"
   },
   {
    "duration": 154,
    "start_time": "2022-04-16T16:22:41.170Z"
   },
   {
    "duration": 161,
    "start_time": "2022-04-16T16:23:38.561Z"
   },
   {
    "duration": 1065,
    "start_time": "2022-04-16T16:31:10.519Z"
   },
   {
    "duration": 34,
    "start_time": "2022-04-16T16:31:11.587Z"
   },
   {
    "duration": 17,
    "start_time": "2022-04-16T16:31:11.622Z"
   },
   {
    "duration": 25,
    "start_time": "2022-04-16T16:31:11.641Z"
   },
   {
    "duration": 21,
    "start_time": "2022-04-16T16:31:11.668Z"
   },
   {
    "duration": 24,
    "start_time": "2022-04-16T16:31:11.691Z"
   },
   {
    "duration": 21,
    "start_time": "2022-04-16T16:31:11.717Z"
   },
   {
    "duration": 27,
    "start_time": "2022-04-16T16:31:11.740Z"
   },
   {
    "duration": 29,
    "start_time": "2022-04-16T16:31:11.768Z"
   },
   {
    "duration": 17,
    "start_time": "2022-04-16T16:31:11.800Z"
   },
   {
    "duration": 15,
    "start_time": "2022-04-16T16:31:11.819Z"
   },
   {
    "duration": 5,
    "start_time": "2022-04-16T16:31:11.836Z"
   },
   {
    "duration": 387,
    "start_time": "2022-04-16T16:31:11.843Z"
   },
   {
    "duration": 27,
    "start_time": "2022-04-16T16:31:12.232Z"
   },
   {
    "duration": 341,
    "start_time": "2022-04-16T16:31:12.261Z"
   },
   {
    "duration": 307,
    "start_time": "2022-04-16T16:31:12.603Z"
   },
   {
    "duration": 174,
    "start_time": "2022-04-16T16:31:12.912Z"
   },
   {
    "duration": 167,
    "start_time": "2022-04-16T16:31:13.088Z"
   },
   {
    "duration": 100,
    "start_time": "2022-04-16T16:31:13.256Z"
   },
   {
    "duration": 470,
    "start_time": "2022-04-16T16:31:13.359Z"
   },
   {
    "duration": 24,
    "start_time": "2022-04-16T16:31:13.831Z"
   },
   {
    "duration": 10,
    "start_time": "2022-04-16T16:31:13.856Z"
   },
   {
    "duration": 14,
    "start_time": "2022-04-16T16:31:13.868Z"
   },
   {
    "duration": 142,
    "start_time": "2022-04-16T16:31:13.885Z"
   },
   {
    "duration": 575,
    "start_time": "2022-04-16T16:31:14.039Z"
   },
   {
    "duration": 7,
    "start_time": "2022-04-16T16:31:14.615Z"
   },
   {
    "duration": 138,
    "start_time": "2022-04-16T16:31:14.623Z"
   },
   {
    "duration": 6,
    "start_time": "2022-04-16T16:31:14.765Z"
   },
   {
    "duration": 11,
    "start_time": "2022-04-16T16:31:14.772Z"
   },
   {
    "duration": 206,
    "start_time": "2022-04-16T16:31:14.785Z"
   },
   {
    "duration": 8,
    "start_time": "2022-04-16T16:31:14.992Z"
   },
   {
    "duration": 32,
    "start_time": "2022-04-16T16:31:15.001Z"
   },
   {
    "duration": 221,
    "start_time": "2022-04-16T16:31:15.035Z"
   },
   {
    "duration": 6,
    "start_time": "2022-04-16T16:31:15.258Z"
   },
   {
    "duration": 161,
    "start_time": "2022-04-16T16:31:15.266Z"
   },
   {
    "duration": 153,
    "start_time": "2022-04-16T16:31:15.429Z"
   },
   {
    "duration": 5,
    "start_time": "2022-04-16T16:31:15.584Z"
   },
   {
    "duration": 157,
    "start_time": "2022-04-16T16:31:15.591Z"
   },
   {
    "duration": 6,
    "start_time": "2022-04-16T16:31:15.753Z"
   },
   {
    "duration": 152,
    "start_time": "2022-04-16T16:31:15.761Z"
   },
   {
    "duration": 6,
    "start_time": "2022-04-16T16:31:15.915Z"
   },
   {
    "duration": 21,
    "start_time": "2022-04-16T16:31:15.922Z"
   },
   {
    "duration": 35,
    "start_time": "2022-04-16T16:31:15.945Z"
   },
   {
    "duration": 84,
    "start_time": "2022-04-16T16:31:15.982Z"
   },
   {
    "duration": 0,
    "start_time": "2022-04-16T16:31:16.068Z"
   },
   {
    "duration": 0,
    "start_time": "2022-04-16T16:31:16.069Z"
   },
   {
    "duration": 0,
    "start_time": "2022-04-16T16:31:16.070Z"
   },
   {
    "duration": 9,
    "start_time": "2022-04-16T16:32:10.246Z"
   },
   {
    "duration": 8,
    "start_time": "2022-04-16T16:32:24.650Z"
   },
   {
    "duration": 8,
    "start_time": "2022-04-17T06:40:40.560Z"
   },
   {
    "duration": 3,
    "start_time": "2022-04-17T06:40:42.483Z"
   },
   {
    "duration": 40,
    "start_time": "2022-04-17T06:40:47.768Z"
   },
   {
    "duration": 866,
    "start_time": "2022-04-17T06:40:57.798Z"
   },
   {
    "duration": 27,
    "start_time": "2022-04-17T06:40:58.666Z"
   },
   {
    "duration": 13,
    "start_time": "2022-04-17T06:40:58.700Z"
   },
   {
    "duration": 8,
    "start_time": "2022-04-17T06:40:58.715Z"
   },
   {
    "duration": 11,
    "start_time": "2022-04-17T06:40:58.724Z"
   },
   {
    "duration": 10,
    "start_time": "2022-04-17T06:40:58.736Z"
   },
   {
    "duration": 10,
    "start_time": "2022-04-17T06:40:58.747Z"
   },
   {
    "duration": 3,
    "start_time": "2022-04-17T06:40:58.759Z"
   },
   {
    "duration": 44,
    "start_time": "2022-04-17T06:40:58.764Z"
   },
   {
    "duration": 16,
    "start_time": "2022-04-17T06:40:58.810Z"
   },
   {
    "duration": 11,
    "start_time": "2022-04-17T06:40:58.828Z"
   },
   {
    "duration": 3,
    "start_time": "2022-04-17T06:40:58.841Z"
   },
   {
    "duration": 268,
    "start_time": "2022-04-17T06:40:58.845Z"
   },
   {
    "duration": 21,
    "start_time": "2022-04-17T06:40:59.115Z"
   },
   {
    "duration": 222,
    "start_time": "2022-04-17T06:40:59.138Z"
   },
   {
    "duration": 255,
    "start_time": "2022-04-17T06:40:59.362Z"
   },
   {
    "duration": 155,
    "start_time": "2022-04-17T06:40:59.618Z"
   },
   {
    "duration": 151,
    "start_time": "2022-04-17T06:40:59.775Z"
   },
   {
    "duration": 85,
    "start_time": "2022-04-17T06:40:59.928Z"
   },
   {
    "duration": 416,
    "start_time": "2022-04-17T06:41:00.014Z"
   },
   {
    "duration": 11,
    "start_time": "2022-04-17T06:41:00.431Z"
   },
   {
    "duration": 14,
    "start_time": "2022-04-17T06:41:00.443Z"
   },
   {
    "duration": 16,
    "start_time": "2022-04-17T06:41:00.459Z"
   },
   {
    "duration": 84,
    "start_time": "2022-04-17T06:41:00.476Z"
   },
   {
    "duration": 477,
    "start_time": "2022-04-17T06:41:00.562Z"
   },
   {
    "duration": 6,
    "start_time": "2022-04-17T06:41:01.040Z"
   },
   {
    "duration": 129,
    "start_time": "2022-04-17T06:41:01.047Z"
   },
   {
    "duration": 5,
    "start_time": "2022-04-17T06:41:01.181Z"
   },
   {
    "duration": 18,
    "start_time": "2022-04-17T06:41:01.187Z"
   },
   {
    "duration": 120,
    "start_time": "2022-04-17T06:41:01.207Z"
   },
   {
    "duration": 7,
    "start_time": "2022-04-17T06:41:01.329Z"
   },
   {
    "duration": 21,
    "start_time": "2022-04-17T06:41:01.337Z"
   },
   {
    "duration": 149,
    "start_time": "2022-04-17T06:41:01.359Z"
   },
   {
    "duration": 6,
    "start_time": "2022-04-17T06:41:01.510Z"
   },
   {
    "duration": 191,
    "start_time": "2022-04-17T06:41:01.517Z"
   },
   {
    "duration": 228,
    "start_time": "2022-04-17T06:41:01.710Z"
   },
   {
    "duration": 4,
    "start_time": "2022-04-17T06:41:01.940Z"
   },
   {
    "duration": 224,
    "start_time": "2022-04-17T06:41:02.001Z"
   },
   {
    "duration": 5,
    "start_time": "2022-04-17T06:41:02.226Z"
   },
   {
    "duration": 280,
    "start_time": "2022-04-17T06:41:02.232Z"
   },
   {
    "duration": 4,
    "start_time": "2022-04-17T06:41:02.514Z"
   },
   {
    "duration": 20,
    "start_time": "2022-04-17T06:41:02.520Z"
   },
   {
    "duration": 75,
    "start_time": "2022-04-17T06:41:02.541Z"
   },
   {
    "duration": 7,
    "start_time": "2022-04-17T06:41:02.617Z"
   },
   {
    "duration": 37,
    "start_time": "2022-04-17T06:41:02.625Z"
   },
   {
    "duration": 279,
    "start_time": "2022-04-17T06:41:02.664Z"
   },
   {
    "duration": 64,
    "start_time": "2022-04-17T06:41:02.944Z"
   },
   {
    "duration": 68,
    "start_time": "2022-04-17T07:03:16.903Z"
   },
   {
    "duration": 132,
    "start_time": "2022-04-17T07:03:29.031Z"
   },
   {
    "duration": 135,
    "start_time": "2022-04-17T07:03:56.903Z"
   },
   {
    "duration": 170,
    "start_time": "2022-04-17T07:04:28.615Z"
   },
   {
    "duration": 145,
    "start_time": "2022-04-17T07:05:07.859Z"
   },
   {
    "duration": 15,
    "start_time": "2022-04-17T07:05:42.543Z"
   },
   {
    "duration": 120,
    "start_time": "2022-04-17T07:06:17.275Z"
   },
   {
    "duration": 16,
    "start_time": "2022-04-17T07:06:23.787Z"
   },
   {
    "duration": 133,
    "start_time": "2022-04-17T07:07:30.227Z"
   },
   {
    "duration": 16,
    "start_time": "2022-04-17T07:09:51.483Z"
   },
   {
    "duration": 665,
    "start_time": "2022-04-17T07:10:08.843Z"
   },
   {
    "duration": 29,
    "start_time": "2022-04-17T07:10:09.510Z"
   },
   {
    "duration": 14,
    "start_time": "2022-04-17T07:10:09.540Z"
   },
   {
    "duration": 8,
    "start_time": "2022-04-17T07:10:09.556Z"
   },
   {
    "duration": 10,
    "start_time": "2022-04-17T07:10:09.565Z"
   },
   {
    "duration": 11,
    "start_time": "2022-04-17T07:10:09.600Z"
   },
   {
    "duration": 9,
    "start_time": "2022-04-17T07:10:09.612Z"
   },
   {
    "duration": 2,
    "start_time": "2022-04-17T07:10:09.623Z"
   },
   {
    "duration": 10,
    "start_time": "2022-04-17T07:10:09.627Z"
   },
   {
    "duration": 15,
    "start_time": "2022-04-17T07:10:09.640Z"
   },
   {
    "duration": 12,
    "start_time": "2022-04-17T07:10:09.657Z"
   },
   {
    "duration": 3,
    "start_time": "2022-04-17T07:10:09.699Z"
   },
   {
    "duration": 258,
    "start_time": "2022-04-17T07:10:09.704Z"
   },
   {
    "duration": 23,
    "start_time": "2022-04-17T07:10:09.964Z"
   },
   {
    "duration": 212,
    "start_time": "2022-04-17T07:10:10.000Z"
   },
   {
    "duration": 264,
    "start_time": "2022-04-17T07:10:10.214Z"
   },
   {
    "duration": 170,
    "start_time": "2022-04-17T07:10:10.479Z"
   },
   {
    "duration": 141,
    "start_time": "2022-04-17T07:10:10.651Z"
   },
   {
    "duration": 78,
    "start_time": "2022-04-17T07:10:10.801Z"
   },
   {
    "duration": 420,
    "start_time": "2022-04-17T07:10:10.880Z"
   },
   {
    "duration": 11,
    "start_time": "2022-04-17T07:10:11.302Z"
   },
   {
    "duration": 9,
    "start_time": "2022-04-17T07:10:11.314Z"
   },
   {
    "duration": 10,
    "start_time": "2022-04-17T07:10:11.324Z"
   },
   {
    "duration": 97,
    "start_time": "2022-04-17T07:10:11.336Z"
   },
   {
    "duration": 467,
    "start_time": "2022-04-17T07:10:11.435Z"
   },
   {
    "duration": 6,
    "start_time": "2022-04-17T07:10:11.904Z"
   },
   {
    "duration": 139,
    "start_time": "2022-04-17T07:10:11.911Z"
   },
   {
    "duration": 5,
    "start_time": "2022-04-17T07:10:12.053Z"
   },
   {
    "duration": 26,
    "start_time": "2022-04-17T07:10:12.062Z"
   },
   {
    "duration": 116,
    "start_time": "2022-04-17T07:10:12.089Z"
   },
   {
    "duration": 7,
    "start_time": "2022-04-17T07:10:12.207Z"
   },
   {
    "duration": 36,
    "start_time": "2022-04-17T07:10:12.216Z"
   },
   {
    "duration": 132,
    "start_time": "2022-04-17T07:10:12.254Z"
   },
   {
    "duration": 13,
    "start_time": "2022-04-17T07:10:12.388Z"
   },
   {
    "duration": 128,
    "start_time": "2022-04-17T07:10:12.403Z"
   },
   {
    "duration": 144,
    "start_time": "2022-04-17T07:10:12.533Z"
   },
   {
    "duration": 5,
    "start_time": "2022-04-17T07:10:12.678Z"
   },
   {
    "duration": 149,
    "start_time": "2022-04-17T07:10:12.684Z"
   },
   {
    "duration": 4,
    "start_time": "2022-04-17T07:10:12.835Z"
   },
   {
    "duration": 134,
    "start_time": "2022-04-17T07:10:12.841Z"
   },
   {
    "duration": 5,
    "start_time": "2022-04-17T07:10:12.976Z"
   },
   {
    "duration": 18,
    "start_time": "2022-04-17T07:10:12.983Z"
   },
   {
    "duration": 24,
    "start_time": "2022-04-17T07:10:13.002Z"
   },
   {
    "duration": 6,
    "start_time": "2022-04-17T07:10:13.028Z"
   },
   {
    "duration": 20,
    "start_time": "2022-04-17T07:10:13.036Z"
   },
   {
    "duration": 173,
    "start_time": "2022-04-17T07:10:13.057Z"
   },
   {
    "duration": 8,
    "start_time": "2022-04-17T07:10:13.231Z"
   },
   {
    "duration": 138,
    "start_time": "2022-04-17T07:10:13.240Z"
   },
   {
    "duration": 133,
    "start_time": "2022-04-17T07:10:13.379Z"
   },
   {
    "duration": 187,
    "start_time": "2022-04-17T07:10:13.513Z"
   },
   {
    "duration": 132,
    "start_time": "2022-04-17T07:10:13.701Z"
   },
   {
    "duration": 78,
    "start_time": "2022-04-17T07:10:13.834Z"
   },
   {
    "duration": 0,
    "start_time": "2022-04-17T07:10:13.914Z"
   },
   {
    "duration": 120,
    "start_time": "2022-04-17T07:12:50.549Z"
   },
   {
    "duration": 163,
    "start_time": "2022-04-17T07:14:35.952Z"
   },
   {
    "duration": 127,
    "start_time": "2022-04-17T07:14:44.464Z"
   },
   {
    "duration": 119,
    "start_time": "2022-04-17T07:14:58.928Z"
   },
   {
    "duration": 127,
    "start_time": "2022-04-17T07:15:11.016Z"
   },
   {
    "duration": 130,
    "start_time": "2022-04-17T07:15:23.128Z"
   },
   {
    "duration": 131,
    "start_time": "2022-04-17T07:15:30.445Z"
   },
   {
    "duration": 121,
    "start_time": "2022-04-17T07:34:57.909Z"
   },
   {
    "duration": 122,
    "start_time": "2022-04-17T07:35:15.449Z"
   },
   {
    "duration": 125,
    "start_time": "2022-04-17T07:35:22.953Z"
   },
   {
    "duration": 16,
    "start_time": "2022-04-17T12:21:13.138Z"
   },
   {
    "duration": 97,
    "start_time": "2022-04-17T12:21:15.883Z"
   },
   {
    "duration": 10,
    "start_time": "2022-04-17T12:21:23.148Z"
   },
   {
    "duration": 9,
    "start_time": "2022-04-17T12:21:26.234Z"
   },
   {
    "duration": 10,
    "start_time": "2022-04-17T12:21:29.360Z"
   },
   {
    "duration": 1234,
    "start_time": "2022-04-17T12:21:40.512Z"
   },
   {
    "duration": 49,
    "start_time": "2022-04-17T12:21:41.749Z"
   },
   {
    "duration": 23,
    "start_time": "2022-04-17T12:21:41.800Z"
   },
   {
    "duration": 13,
    "start_time": "2022-04-17T12:21:41.853Z"
   },
   {
    "duration": 16,
    "start_time": "2022-04-17T12:21:41.870Z"
   },
   {
    "duration": 16,
    "start_time": "2022-04-17T12:21:41.888Z"
   },
   {
    "duration": 53,
    "start_time": "2022-04-17T12:21:41.906Z"
   },
   {
    "duration": 4,
    "start_time": "2022-04-17T12:21:41.962Z"
   },
   {
    "duration": 21,
    "start_time": "2022-04-17T12:21:41.969Z"
   },
   {
    "duration": 29,
    "start_time": "2022-04-17T12:21:41.993Z"
   },
   {
    "duration": 44,
    "start_time": "2022-04-17T12:21:42.024Z"
   },
   {
    "duration": 4,
    "start_time": "2022-04-17T12:21:42.071Z"
   },
   {
    "duration": 489,
    "start_time": "2022-04-17T12:21:42.078Z"
   },
   {
    "duration": 38,
    "start_time": "2022-04-17T12:21:42.571Z"
   },
   {
    "duration": 408,
    "start_time": "2022-04-17T12:21:42.611Z"
   },
   {
    "duration": 481,
    "start_time": "2022-04-17T12:21:43.021Z"
   },
   {
    "duration": 283,
    "start_time": "2022-04-17T12:21:43.505Z"
   },
   {
    "duration": 283,
    "start_time": "2022-04-17T12:21:43.790Z"
   },
   {
    "duration": 158,
    "start_time": "2022-04-17T12:21:44.075Z"
   },
   {
    "duration": 777,
    "start_time": "2022-04-17T12:21:44.235Z"
   },
   {
    "duration": 17,
    "start_time": "2022-04-17T12:21:45.014Z"
   },
   {
    "duration": 30,
    "start_time": "2022-04-17T12:21:45.033Z"
   },
   {
    "duration": 16,
    "start_time": "2022-04-17T12:21:45.065Z"
   },
   {
    "duration": 169,
    "start_time": "2022-04-17T12:21:45.083Z"
   },
   {
    "duration": 846,
    "start_time": "2022-04-17T12:21:45.254Z"
   },
   {
    "duration": 9,
    "start_time": "2022-04-17T12:21:46.102Z"
   },
   {
    "duration": 229,
    "start_time": "2022-04-17T12:21:46.113Z"
   },
   {
    "duration": 7,
    "start_time": "2022-04-17T12:21:46.351Z"
   },
   {
    "duration": 17,
    "start_time": "2022-04-17T12:21:46.360Z"
   },
   {
    "duration": 321,
    "start_time": "2022-04-17T12:21:46.379Z"
   },
   {
    "duration": 9,
    "start_time": "2022-04-17T12:21:46.702Z"
   },
   {
    "duration": 60,
    "start_time": "2022-04-17T12:21:46.714Z"
   },
   {
    "duration": 257,
    "start_time": "2022-04-17T12:21:46.777Z"
   },
   {
    "duration": 20,
    "start_time": "2022-04-17T12:21:47.037Z"
   },
   {
    "duration": 218,
    "start_time": "2022-04-17T12:21:47.059Z"
   },
   {
    "duration": 247,
    "start_time": "2022-04-17T12:21:47.279Z"
   },
   {
    "duration": 8,
    "start_time": "2022-04-17T12:21:47.528Z"
   },
   {
    "duration": 244,
    "start_time": "2022-04-17T12:21:47.551Z"
   },
   {
    "duration": 7,
    "start_time": "2022-04-17T12:21:47.797Z"
   },
   {
    "duration": 241,
    "start_time": "2022-04-17T12:21:47.806Z"
   },
   {
    "duration": 7,
    "start_time": "2022-04-17T12:21:48.055Z"
   },
   {
    "duration": 26,
    "start_time": "2022-04-17T12:21:48.066Z"
   },
   {
    "duration": 41,
    "start_time": "2022-04-17T12:21:48.096Z"
   },
   {
    "duration": 17,
    "start_time": "2022-04-17T12:21:48.139Z"
   },
   {
    "duration": 20,
    "start_time": "2022-04-17T12:21:48.158Z"
   },
   {
    "duration": 296,
    "start_time": "2022-04-17T12:21:48.180Z"
   },
   {
    "duration": 11,
    "start_time": "2022-04-17T12:21:48.479Z"
   },
   {
    "duration": 340,
    "start_time": "2022-04-17T12:21:48.493Z"
   },
   {
    "duration": 251,
    "start_time": "2022-04-17T12:21:48.835Z"
   },
   {
    "duration": 333,
    "start_time": "2022-04-17T12:21:49.089Z"
   },
   {
    "duration": 366,
    "start_time": "2022-04-17T12:21:49.425Z"
   },
   {
    "duration": 252,
    "start_time": "2022-04-17T12:21:49.794Z"
   },
   {
    "duration": 248,
    "start_time": "2022-04-17T12:21:50.052Z"
   },
   {
    "duration": 252,
    "start_time": "2022-04-17T12:21:50.302Z"
   },
   {
    "duration": 258,
    "start_time": "2022-04-17T12:21:50.556Z"
   },
   {
    "duration": 13,
    "start_time": "2022-04-17T12:24:15.312Z"
   },
   {
    "duration": 272,
    "start_time": "2022-04-17T12:25:10.844Z"
   },
   {
    "duration": 257,
    "start_time": "2022-04-17T12:25:30.024Z"
   },
   {
    "duration": 273,
    "start_time": "2022-04-17T12:25:51.691Z"
   },
   {
    "duration": 267,
    "start_time": "2022-04-17T12:27:57.730Z"
   },
   {
    "duration": 8,
    "start_time": "2022-04-17T12:28:25.765Z"
   },
   {
    "duration": 10,
    "start_time": "2022-04-17T12:29:20.819Z"
   },
   {
    "duration": 11,
    "start_time": "2022-04-17T12:29:27.253Z"
   },
   {
    "duration": 232,
    "start_time": "2022-04-17T12:30:46.303Z"
   },
   {
    "duration": 231,
    "start_time": "2022-04-17T12:32:37.356Z"
   },
   {
    "duration": 949,
    "start_time": "2022-04-17T12:32:49.903Z"
   },
   {
    "duration": 49,
    "start_time": "2022-04-17T12:32:50.855Z"
   },
   {
    "duration": 22,
    "start_time": "2022-04-17T12:32:50.906Z"
   },
   {
    "duration": 33,
    "start_time": "2022-04-17T12:32:50.930Z"
   },
   {
    "duration": 18,
    "start_time": "2022-04-17T12:32:50.966Z"
   },
   {
    "duration": 16,
    "start_time": "2022-04-17T12:32:50.986Z"
   },
   {
    "duration": 49,
    "start_time": "2022-04-17T12:32:51.004Z"
   },
   {
    "duration": 8,
    "start_time": "2022-04-17T12:32:51.055Z"
   },
   {
    "duration": 18,
    "start_time": "2022-04-17T12:32:51.065Z"
   },
   {
    "duration": 27,
    "start_time": "2022-04-17T12:32:51.086Z"
   },
   {
    "duration": 40,
    "start_time": "2022-04-17T12:32:51.115Z"
   },
   {
    "duration": 5,
    "start_time": "2022-04-17T12:32:51.157Z"
   },
   {
    "duration": 487,
    "start_time": "2022-04-17T12:32:51.164Z"
   },
   {
    "duration": 38,
    "start_time": "2022-04-17T12:32:51.656Z"
   },
   {
    "duration": 404,
    "start_time": "2022-04-17T12:32:51.695Z"
   },
   {
    "duration": 593,
    "start_time": "2022-04-17T12:32:52.101Z"
   },
   {
    "duration": 290,
    "start_time": "2022-04-17T12:32:52.697Z"
   },
   {
    "duration": 287,
    "start_time": "2022-04-17T12:32:52.989Z"
   },
   {
    "duration": 159,
    "start_time": "2022-04-17T12:32:53.279Z"
   },
   {
    "duration": 770,
    "start_time": "2022-04-17T12:32:53.440Z"
   },
   {
    "duration": 16,
    "start_time": "2022-04-17T12:32:54.212Z"
   },
   {
    "duration": 29,
    "start_time": "2022-04-17T12:32:54.230Z"
   },
   {
    "duration": 15,
    "start_time": "2022-04-17T12:32:54.262Z"
   },
   {
    "duration": 173,
    "start_time": "2022-04-17T12:32:54.280Z"
   },
   {
    "duration": 843,
    "start_time": "2022-04-17T12:32:54.455Z"
   },
   {
    "duration": 9,
    "start_time": "2022-04-17T12:32:55.300Z"
   },
   {
    "duration": 225,
    "start_time": "2022-04-17T12:32:55.311Z"
   },
   {
    "duration": 16,
    "start_time": "2022-04-17T12:32:55.538Z"
   },
   {
    "duration": 15,
    "start_time": "2022-04-17T12:32:55.556Z"
   },
   {
    "duration": 225,
    "start_time": "2022-04-17T12:32:55.574Z"
   },
   {
    "duration": 10,
    "start_time": "2022-04-17T12:32:55.801Z"
   },
   {
    "duration": 56,
    "start_time": "2022-04-17T12:32:55.813Z"
   },
   {
    "duration": 246,
    "start_time": "2022-04-17T12:32:55.871Z"
   },
   {
    "duration": 8,
    "start_time": "2022-04-17T12:32:56.119Z"
   },
   {
    "duration": 237,
    "start_time": "2022-04-17T12:32:56.130Z"
   },
   {
    "duration": 250,
    "start_time": "2022-04-17T12:32:56.370Z"
   },
   {
    "duration": 8,
    "start_time": "2022-04-17T12:32:56.623Z"
   },
   {
    "duration": 237,
    "start_time": "2022-04-17T12:32:56.652Z"
   },
   {
    "duration": 7,
    "start_time": "2022-04-17T12:32:56.891Z"
   },
   {
    "duration": 246,
    "start_time": "2022-04-17T12:32:56.901Z"
   },
   {
    "duration": 7,
    "start_time": "2022-04-17T12:32:57.153Z"
   },
   {
    "duration": 13,
    "start_time": "2022-04-17T12:32:57.162Z"
   },
   {
    "duration": 33,
    "start_time": "2022-04-17T12:32:57.177Z"
   },
   {
    "duration": 43,
    "start_time": "2022-04-17T12:32:57.212Z"
   },
   {
    "duration": 17,
    "start_time": "2022-04-17T12:32:57.258Z"
   },
   {
    "duration": 279,
    "start_time": "2022-04-17T12:32:57.277Z"
   },
   {
    "duration": 12,
    "start_time": "2022-04-17T12:32:57.558Z"
   },
   {
    "duration": 234,
    "start_time": "2022-04-17T12:32:57.573Z"
   },
   {
    "duration": 278,
    "start_time": "2022-04-17T12:32:57.809Z"
   },
   {
    "duration": 310,
    "start_time": "2022-04-17T12:32:58.089Z"
   },
   {
    "duration": 230,
    "start_time": "2022-04-17T12:32:58.401Z"
   },
   {
    "duration": 317,
    "start_time": "2022-04-17T12:32:58.633Z"
   },
   {
    "duration": 304,
    "start_time": "2022-04-17T12:32:58.953Z"
   },
   {
    "duration": 309,
    "start_time": "2022-04-17T12:32:59.260Z"
   },
   {
    "duration": 318,
    "start_time": "2022-04-17T12:32:59.571Z"
   },
   {
    "duration": 14,
    "start_time": "2022-04-17T12:35:06.480Z"
   },
   {
    "duration": 15,
    "start_time": "2022-04-17T12:35:13.742Z"
   },
   {
    "duration": 234,
    "start_time": "2022-04-17T12:35:28.608Z"
   },
   {
    "duration": 7,
    "start_time": "2022-04-17T12:40:48.318Z"
   },
   {
    "duration": 7,
    "start_time": "2022-04-17T12:41:14.373Z"
   },
   {
    "duration": 7,
    "start_time": "2022-04-17T12:41:34.202Z"
   },
   {
    "duration": 723,
    "start_time": "2022-04-17T12:42:00.087Z"
   },
   {
    "duration": 9,
    "start_time": "2022-04-17T12:42:34.704Z"
   },
   {
    "duration": 7,
    "start_time": "2022-04-17T12:42:52.447Z"
   },
   {
    "duration": 8,
    "start_time": "2022-04-17T12:43:18.756Z"
   },
   {
    "duration": 7,
    "start_time": "2022-04-17T12:43:29.209Z"
   },
   {
    "duration": 244,
    "start_time": "2022-04-17T12:56:33.529Z"
   },
   {
    "duration": 8,
    "start_time": "2022-04-17T12:56:47.929Z"
   },
   {
    "duration": 222,
    "start_time": "2022-04-17T12:56:53.259Z"
   },
   {
    "duration": 231,
    "start_time": "2022-04-17T12:58:39.636Z"
   },
   {
    "duration": 7,
    "start_time": "2022-04-17T12:58:47.208Z"
   },
   {
    "duration": 257,
    "start_time": "2022-04-17T13:00:36.649Z"
   },
   {
    "duration": 9,
    "start_time": "2022-04-17T13:00:47.709Z"
   },
   {
    "duration": 8,
    "start_time": "2022-04-17T13:01:00.897Z"
   },
   {
    "duration": 214,
    "start_time": "2022-04-17T13:01:07.091Z"
   },
   {
    "duration": 9,
    "start_time": "2022-04-17T13:01:12.934Z"
   },
   {
    "duration": 224,
    "start_time": "2022-04-17T13:01:18.894Z"
   },
   {
    "duration": 303,
    "start_time": "2022-04-17T13:01:27.039Z"
   },
   {
    "duration": 8,
    "start_time": "2022-04-17T13:01:33.432Z"
   },
   {
    "duration": 236,
    "start_time": "2022-04-17T13:01:40.508Z"
   },
   {
    "duration": 8,
    "start_time": "2022-04-17T13:01:49.548Z"
   },
   {
    "duration": 233,
    "start_time": "2022-04-17T13:01:55.133Z"
   },
   {
    "duration": 7,
    "start_time": "2022-04-17T13:02:01.144Z"
   },
   {
    "duration": 238,
    "start_time": "2022-04-17T13:02:05.705Z"
   },
   {
    "duration": 7,
    "start_time": "2022-04-17T13:02:22.958Z"
   },
   {
    "duration": 7,
    "start_time": "2022-04-17T13:02:42.010Z"
   },
   {
    "duration": 8,
    "start_time": "2022-04-17T13:02:49.896Z"
   },
   {
    "duration": 6,
    "start_time": "2022-04-17T13:03:01.437Z"
   },
   {
    "duration": 7,
    "start_time": "2022-04-17T13:03:12.372Z"
   },
   {
    "duration": 7,
    "start_time": "2022-04-17T13:03:22.712Z"
   },
   {
    "duration": 241,
    "start_time": "2022-04-17T13:03:51.762Z"
   },
   {
    "duration": 7,
    "start_time": "2022-04-17T13:03:55.381Z"
   },
   {
    "duration": 238,
    "start_time": "2022-04-17T13:19:35.564Z"
   },
   {
    "duration": 243,
    "start_time": "2022-04-17T13:20:36.221Z"
   },
   {
    "duration": 1944,
    "start_time": "2022-04-17T13:21:06.048Z"
   },
   {
    "duration": 292,
    "start_time": "2022-04-17T13:21:20.319Z"
   },
   {
    "duration": 225,
    "start_time": "2022-04-17T13:21:27.197Z"
   },
   {
    "duration": 11,
    "start_time": "2022-04-17T13:32:03.693Z"
   },
   {
    "duration": 10,
    "start_time": "2022-04-17T13:32:06.356Z"
   },
   {
    "duration": 198,
    "start_time": "2022-04-17T13:32:07.968Z"
   },
   {
    "duration": 7,
    "start_time": "2022-04-17T13:32:11.114Z"
   },
   {
    "duration": 215,
    "start_time": "2022-04-17T13:32:14.108Z"
   },
   {
    "duration": 9,
    "start_time": "2022-04-17T13:32:17.357Z"
   },
   {
    "duration": 242,
    "start_time": "2022-04-17T13:32:33.703Z"
   },
   {
    "duration": 7,
    "start_time": "2022-04-17T13:32:37.492Z"
   },
   {
    "duration": 236,
    "start_time": "2022-04-17T13:32:50.551Z"
   },
   {
    "duration": 224,
    "start_time": "2022-04-17T13:32:54.599Z"
   },
   {
    "duration": 230,
    "start_time": "2022-04-17T13:33:52.560Z"
   },
   {
    "duration": 7,
    "start_time": "2022-04-17T13:33:55.813Z"
   },
   {
    "duration": 8,
    "start_time": "2022-04-17T13:39:18.012Z"
   },
   {
    "duration": 6,
    "start_time": "2022-04-17T13:39:20.972Z"
   },
   {
    "duration": 7,
    "start_time": "2022-04-17T13:43:53.374Z"
   },
   {
    "duration": 210,
    "start_time": "2022-04-17T13:43:54.920Z"
   },
   {
    "duration": 923,
    "start_time": "2022-04-17T14:12:08.456Z"
   },
   {
    "duration": 47,
    "start_time": "2022-04-17T14:12:09.382Z"
   },
   {
    "duration": 36,
    "start_time": "2022-04-17T14:12:09.431Z"
   },
   {
    "duration": 21,
    "start_time": "2022-04-17T14:12:09.469Z"
   },
   {
    "duration": 69,
    "start_time": "2022-04-17T14:12:09.493Z"
   },
   {
    "duration": 15,
    "start_time": "2022-04-17T14:12:09.564Z"
   },
   {
    "duration": 39,
    "start_time": "2022-04-17T14:12:09.581Z"
   },
   {
    "duration": 31,
    "start_time": "2022-04-17T14:12:09.624Z"
   },
   {
    "duration": 49,
    "start_time": "2022-04-17T14:12:09.659Z"
   },
   {
    "duration": 36,
    "start_time": "2022-04-17T14:12:09.711Z"
   },
   {
    "duration": 25,
    "start_time": "2022-04-17T14:12:09.752Z"
   },
   {
    "duration": 27,
    "start_time": "2022-04-17T14:12:09.779Z"
   },
   {
    "duration": 516,
    "start_time": "2022-04-17T14:12:09.809Z"
   },
   {
    "duration": 53,
    "start_time": "2022-04-17T14:12:10.329Z"
   },
   {
    "duration": 419,
    "start_time": "2022-04-17T14:12:10.384Z"
   },
   {
    "duration": 493,
    "start_time": "2022-04-17T14:12:10.806Z"
   },
   {
    "duration": 292,
    "start_time": "2022-04-17T14:12:11.301Z"
   },
   {
    "duration": 297,
    "start_time": "2022-04-17T14:12:11.596Z"
   },
   {
    "duration": 167,
    "start_time": "2022-04-17T14:12:11.897Z"
   },
   {
    "duration": 770,
    "start_time": "2022-04-17T14:12:12.067Z"
   },
   {
    "duration": 26,
    "start_time": "2022-04-17T14:12:12.840Z"
   },
   {
    "duration": 18,
    "start_time": "2022-04-17T14:12:12.869Z"
   },
   {
    "duration": 25,
    "start_time": "2022-04-17T14:12:12.890Z"
   },
   {
    "duration": 182,
    "start_time": "2022-04-17T14:12:12.917Z"
   },
   {
    "duration": 1166,
    "start_time": "2022-04-17T14:12:13.102Z"
   },
   {
    "duration": 10,
    "start_time": "2022-04-17T14:12:14.271Z"
   },
   {
    "duration": 231,
    "start_time": "2022-04-17T14:12:14.283Z"
   },
   {
    "duration": 8,
    "start_time": "2022-04-17T14:12:14.516Z"
   },
   {
    "duration": 30,
    "start_time": "2022-04-17T14:12:14.526Z"
   },
   {
    "duration": 228,
    "start_time": "2022-04-17T14:12:14.559Z"
   },
   {
    "duration": 10,
    "start_time": "2022-04-17T14:12:14.789Z"
   },
   {
    "duration": 58,
    "start_time": "2022-04-17T14:12:14.802Z"
   },
   {
    "duration": 262,
    "start_time": "2022-04-17T14:12:14.863Z"
   },
   {
    "duration": 7,
    "start_time": "2022-04-17T14:12:15.128Z"
   },
   {
    "duration": 222,
    "start_time": "2022-04-17T14:12:15.152Z"
   },
   {
    "duration": 249,
    "start_time": "2022-04-17T14:12:15.376Z"
   },
   {
    "duration": 7,
    "start_time": "2022-04-17T14:12:15.627Z"
   },
   {
    "duration": 260,
    "start_time": "2022-04-17T14:12:15.636Z"
   },
   {
    "duration": 7,
    "start_time": "2022-04-17T14:12:15.898Z"
   },
   {
    "duration": 247,
    "start_time": "2022-04-17T14:12:15.907Z"
   },
   {
    "duration": 7,
    "start_time": "2022-04-17T14:12:16.160Z"
   },
   {
    "duration": 14,
    "start_time": "2022-04-17T14:12:16.169Z"
   },
   {
    "duration": 68,
    "start_time": "2022-04-17T14:12:16.185Z"
   },
   {
    "duration": 11,
    "start_time": "2022-04-17T14:12:16.255Z"
   },
   {
    "duration": 18,
    "start_time": "2022-04-17T14:12:16.269Z"
   },
   {
    "duration": 279,
    "start_time": "2022-04-17T14:12:16.291Z"
   },
   {
    "duration": 13,
    "start_time": "2022-04-17T14:12:16.572Z"
   },
   {
    "duration": 345,
    "start_time": "2022-04-17T14:12:16.587Z"
   },
   {
    "duration": 18,
    "start_time": "2022-04-17T14:12:16.935Z"
   },
   {
    "duration": 238,
    "start_time": "2022-04-17T14:12:16.956Z"
   },
   {
    "duration": 7,
    "start_time": "2022-04-17T14:12:17.197Z"
   },
   {
    "duration": 318,
    "start_time": "2022-04-17T14:12:17.206Z"
   },
   {
    "duration": 7,
    "start_time": "2022-04-17T14:12:17.527Z"
   },
   {
    "duration": 233,
    "start_time": "2022-04-17T14:12:17.536Z"
   },
   {
    "duration": 247,
    "start_time": "2022-04-17T14:12:17.771Z"
   },
   {
    "duration": 7,
    "start_time": "2022-04-17T14:12:18.020Z"
   },
   {
    "duration": 252,
    "start_time": "2022-04-17T14:12:18.029Z"
   },
   {
    "duration": 6,
    "start_time": "2022-04-17T14:12:18.283Z"
   },
   {
    "duration": 233,
    "start_time": "2022-04-17T14:12:18.291Z"
   },
   {
    "duration": 7,
    "start_time": "2022-04-17T14:12:18.526Z"
   },
   {
    "duration": 229,
    "start_time": "2022-04-17T14:12:18.551Z"
   },
   {
    "duration": 6,
    "start_time": "2022-04-17T14:12:18.782Z"
   },
   {
    "duration": 1241,
    "start_time": "2022-04-18T14:37:36.005Z"
   },
   {
    "duration": 65,
    "start_time": "2022-04-18T14:37:38.797Z"
   },
   {
    "duration": 30,
    "start_time": "2022-04-18T14:52:39.979Z"
   },
   {
    "duration": 1054,
    "start_time": "2022-04-18T14:53:07.082Z"
   },
   {
    "duration": 55,
    "start_time": "2022-04-18T14:53:08.138Z"
   },
   {
    "duration": 22,
    "start_time": "2022-04-18T14:53:08.196Z"
   },
   {
    "duration": 13,
    "start_time": "2022-04-18T14:53:08.221Z"
   },
   {
    "duration": 17,
    "start_time": "2022-04-18T14:53:08.236Z"
   },
   {
    "duration": 26,
    "start_time": "2022-04-18T14:53:08.294Z"
   },
   {
    "duration": 21,
    "start_time": "2022-04-18T14:53:08.322Z"
   },
   {
    "duration": 49,
    "start_time": "2022-04-18T14:53:08.345Z"
   },
   {
    "duration": 11,
    "start_time": "2022-04-18T14:53:08.397Z"
   },
   {
    "duration": 231,
    "start_time": "2022-04-18T14:53:08.412Z"
   },
   {
    "duration": 0,
    "start_time": "2022-04-18T14:53:08.647Z"
   },
   {
    "duration": 0,
    "start_time": "2022-04-18T14:53:08.649Z"
   },
   {
    "duration": 0,
    "start_time": "2022-04-18T14:53:08.651Z"
   },
   {
    "duration": 0,
    "start_time": "2022-04-18T14:53:08.653Z"
   },
   {
    "duration": 0,
    "start_time": "2022-04-18T14:53:08.655Z"
   },
   {
    "duration": 0,
    "start_time": "2022-04-18T14:53:08.656Z"
   },
   {
    "duration": 0,
    "start_time": "2022-04-18T14:53:08.658Z"
   },
   {
    "duration": 0,
    "start_time": "2022-04-18T14:53:08.659Z"
   },
   {
    "duration": 0,
    "start_time": "2022-04-18T14:53:08.661Z"
   },
   {
    "duration": 0,
    "start_time": "2022-04-18T14:53:08.693Z"
   },
   {
    "duration": 0,
    "start_time": "2022-04-18T14:53:08.695Z"
   },
   {
    "duration": 0,
    "start_time": "2022-04-18T14:53:08.696Z"
   },
   {
    "duration": 0,
    "start_time": "2022-04-18T14:53:08.698Z"
   },
   {
    "duration": 0,
    "start_time": "2022-04-18T14:53:08.699Z"
   },
   {
    "duration": 0,
    "start_time": "2022-04-18T14:53:08.700Z"
   },
   {
    "duration": 0,
    "start_time": "2022-04-18T14:53:08.702Z"
   },
   {
    "duration": 0,
    "start_time": "2022-04-18T14:53:08.704Z"
   },
   {
    "duration": 0,
    "start_time": "2022-04-18T14:53:08.706Z"
   },
   {
    "duration": 0,
    "start_time": "2022-04-18T14:53:08.707Z"
   },
   {
    "duration": 0,
    "start_time": "2022-04-18T14:53:08.709Z"
   },
   {
    "duration": 1,
    "start_time": "2022-04-18T14:53:08.710Z"
   },
   {
    "duration": 0,
    "start_time": "2022-04-18T14:53:08.712Z"
   },
   {
    "duration": 0,
    "start_time": "2022-04-18T14:53:08.713Z"
   },
   {
    "duration": 0,
    "start_time": "2022-04-18T14:53:08.715Z"
   },
   {
    "duration": 0,
    "start_time": "2022-04-18T14:53:08.716Z"
   },
   {
    "duration": 0,
    "start_time": "2022-04-18T14:53:08.717Z"
   },
   {
    "duration": 0,
    "start_time": "2022-04-18T14:53:08.719Z"
   },
   {
    "duration": 0,
    "start_time": "2022-04-18T14:53:08.721Z"
   },
   {
    "duration": 0,
    "start_time": "2022-04-18T14:53:08.723Z"
   },
   {
    "duration": 0,
    "start_time": "2022-04-18T14:53:08.725Z"
   },
   {
    "duration": 1,
    "start_time": "2022-04-18T14:53:08.727Z"
   },
   {
    "duration": 0,
    "start_time": "2022-04-18T14:53:08.730Z"
   },
   {
    "duration": 0,
    "start_time": "2022-04-18T14:53:08.731Z"
   },
   {
    "duration": 0,
    "start_time": "2022-04-18T14:53:08.795Z"
   },
   {
    "duration": 1,
    "start_time": "2022-04-18T14:53:08.796Z"
   },
   {
    "duration": 0,
    "start_time": "2022-04-18T14:53:08.799Z"
   },
   {
    "duration": 0,
    "start_time": "2022-04-18T14:53:08.800Z"
   },
   {
    "duration": 0,
    "start_time": "2022-04-18T14:53:08.803Z"
   },
   {
    "duration": 0,
    "start_time": "2022-04-18T14:53:08.805Z"
   },
   {
    "duration": 1,
    "start_time": "2022-04-18T14:53:08.806Z"
   },
   {
    "duration": 1,
    "start_time": "2022-04-18T14:53:08.808Z"
   },
   {
    "duration": 0,
    "start_time": "2022-04-18T14:53:08.811Z"
   },
   {
    "duration": 0,
    "start_time": "2022-04-18T14:53:08.813Z"
   },
   {
    "duration": 0,
    "start_time": "2022-04-18T14:53:08.816Z"
   },
   {
    "duration": 0,
    "start_time": "2022-04-18T14:53:08.817Z"
   },
   {
    "duration": 0,
    "start_time": "2022-04-18T14:53:08.819Z"
   },
   {
    "duration": 0,
    "start_time": "2022-04-18T14:53:08.821Z"
   },
   {
    "duration": 0,
    "start_time": "2022-04-18T14:53:08.824Z"
   },
   {
    "duration": 0,
    "start_time": "2022-04-18T14:53:08.826Z"
   },
   {
    "duration": 0,
    "start_time": "2022-04-18T14:53:08.828Z"
   },
   {
    "duration": 0,
    "start_time": "2022-04-18T14:53:08.830Z"
   },
   {
    "duration": 0,
    "start_time": "2022-04-18T14:53:08.832Z"
   },
   {
    "duration": 0,
    "start_time": "2022-04-18T14:53:08.893Z"
   },
   {
    "duration": 41,
    "start_time": "2022-04-18T14:53:14.346Z"
   },
   {
    "duration": 11,
    "start_time": "2022-04-18T14:53:36.983Z"
   },
   {
    "duration": 30,
    "start_time": "2022-04-18T14:53:57.851Z"
   },
   {
    "duration": 1090,
    "start_time": "2022-04-18T14:54:06.652Z"
   },
   {
    "duration": 63,
    "start_time": "2022-04-18T14:54:07.745Z"
   },
   {
    "duration": 23,
    "start_time": "2022-04-18T14:54:07.810Z"
   },
   {
    "duration": 12,
    "start_time": "2022-04-18T14:54:07.836Z"
   },
   {
    "duration": 49,
    "start_time": "2022-04-18T14:54:07.850Z"
   },
   {
    "duration": 30,
    "start_time": "2022-04-18T14:54:07.900Z"
   },
   {
    "duration": 17,
    "start_time": "2022-04-18T14:54:07.932Z"
   },
   {
    "duration": 49,
    "start_time": "2022-04-18T14:54:07.952Z"
   },
   {
    "duration": 4,
    "start_time": "2022-04-18T14:54:08.003Z"
   },
   {
    "duration": 11,
    "start_time": "2022-04-18T14:54:08.011Z"
   },
   {
    "duration": 28,
    "start_time": "2022-04-18T14:54:08.026Z"
   },
   {
    "duration": 53,
    "start_time": "2022-04-18T14:54:08.057Z"
   },
   {
    "duration": 6,
    "start_time": "2022-04-18T14:54:08.112Z"
   },
   {
    "duration": 485,
    "start_time": "2022-04-18T14:54:08.121Z"
   },
   {
    "duration": 54,
    "start_time": "2022-04-18T14:54:08.608Z"
   },
   {
    "duration": 457,
    "start_time": "2022-04-18T14:54:08.665Z"
   },
   {
    "duration": 909,
    "start_time": "2022-04-18T14:54:09.124Z"
   },
   {
    "duration": 577,
    "start_time": "2022-04-18T14:54:10.035Z"
   },
   {
    "duration": 499,
    "start_time": "2022-04-18T14:54:10.615Z"
   },
   {
    "duration": 290,
    "start_time": "2022-04-18T14:54:11.116Z"
   },
   {
    "duration": 965,
    "start_time": "2022-04-18T14:54:11.408Z"
   },
   {
    "duration": 27,
    "start_time": "2022-04-18T14:54:12.376Z"
   },
   {
    "duration": 15,
    "start_time": "2022-04-18T14:54:12.405Z"
   },
   {
    "duration": 18,
    "start_time": "2022-04-18T14:54:12.422Z"
   },
   {
    "duration": 177,
    "start_time": "2022-04-18T14:54:12.442Z"
   },
   {
    "duration": 871,
    "start_time": "2022-04-18T14:54:12.621Z"
   },
   {
    "duration": 9,
    "start_time": "2022-04-18T14:54:13.495Z"
   },
   {
    "duration": 231,
    "start_time": "2022-04-18T14:54:13.509Z"
   },
   {
    "duration": 8,
    "start_time": "2022-04-18T14:54:13.743Z"
   },
   {
    "duration": 11,
    "start_time": "2022-04-18T14:54:13.753Z"
   },
   {
    "duration": 229,
    "start_time": "2022-04-18T14:54:13.766Z"
   },
   {
    "duration": 12,
    "start_time": "2022-04-18T14:54:13.998Z"
   },
   {
    "duration": 36,
    "start_time": "2022-04-18T14:54:14.012Z"
   },
   {
    "duration": 279,
    "start_time": "2022-04-18T14:54:14.051Z"
   },
   {
    "duration": 8,
    "start_time": "2022-04-18T14:54:14.333Z"
   },
   {
    "duration": 242,
    "start_time": "2022-04-18T14:54:14.343Z"
   },
   {
    "duration": 250,
    "start_time": "2022-04-18T14:54:14.588Z"
   },
   {
    "duration": 7,
    "start_time": "2022-04-18T14:54:14.840Z"
   },
   {
    "duration": 254,
    "start_time": "2022-04-18T14:54:14.849Z"
   },
   {
    "duration": 8,
    "start_time": "2022-04-18T14:54:15.105Z"
   },
   {
    "duration": 345,
    "start_time": "2022-04-18T14:54:15.115Z"
   },
   {
    "duration": 10,
    "start_time": "2022-04-18T14:54:15.463Z"
   },
   {
    "duration": 26,
    "start_time": "2022-04-18T14:54:15.475Z"
   },
   {
    "duration": 34,
    "start_time": "2022-04-18T14:54:15.503Z"
   },
   {
    "duration": 12,
    "start_time": "2022-04-18T14:54:15.539Z"
   },
   {
    "duration": 46,
    "start_time": "2022-04-18T14:54:15.554Z"
   },
   {
    "duration": 255,
    "start_time": "2022-04-18T14:54:15.603Z"
   },
   {
    "duration": 14,
    "start_time": "2022-04-18T14:54:15.861Z"
   },
   {
    "duration": 328,
    "start_time": "2022-04-18T14:54:15.878Z"
   },
   {
    "duration": 7,
    "start_time": "2022-04-18T14:54:16.208Z"
   },
   {
    "duration": 240,
    "start_time": "2022-04-18T14:54:16.217Z"
   },
   {
    "duration": 8,
    "start_time": "2022-04-18T14:54:16.459Z"
   },
   {
    "duration": 310,
    "start_time": "2022-04-18T14:54:16.469Z"
   },
   {
    "duration": 14,
    "start_time": "2022-04-18T14:54:16.782Z"
   },
   {
    "duration": 212,
    "start_time": "2022-04-18T14:54:16.798Z"
   },
   {
    "duration": 241,
    "start_time": "2022-04-18T14:54:17.013Z"
   },
   {
    "duration": 7,
    "start_time": "2022-04-18T14:54:17.256Z"
   },
   {
    "duration": 253,
    "start_time": "2022-04-18T14:54:17.266Z"
   },
   {
    "duration": 7,
    "start_time": "2022-04-18T14:54:17.522Z"
   },
   {
    "duration": 226,
    "start_time": "2022-04-18T14:54:17.531Z"
   },
   {
    "duration": 9,
    "start_time": "2022-04-18T14:54:17.760Z"
   },
   {
    "duration": 246,
    "start_time": "2022-04-18T14:54:17.771Z"
   },
   {
    "duration": 8,
    "start_time": "2022-04-18T14:54:18.020Z"
   },
   {
    "duration": 30,
    "start_time": "2022-04-18T14:54:31.484Z"
   },
   {
    "duration": 146,
    "start_time": "2022-04-18T14:54:37.488Z"
   },
   {
    "duration": 12,
    "start_time": "2022-04-18T14:55:00.848Z"
   },
   {
    "duration": 3318,
    "start_time": "2022-04-18T14:55:27.236Z"
   },
   {
    "duration": 3451,
    "start_time": "2022-04-18T14:55:49.644Z"
   },
   {
    "duration": 3779,
    "start_time": "2022-04-18T14:55:56.580Z"
   },
   {
    "duration": 26,
    "start_time": "2022-04-18T14:56:07.023Z"
   },
   {
    "duration": 53,
    "start_time": "2022-04-18T14:56:15.799Z"
   },
   {
    "duration": 11,
    "start_time": "2022-04-18T14:56:32.076Z"
   },
   {
    "duration": 6,
    "start_time": "2022-04-18T14:56:58.439Z"
   },
   {
    "duration": 11,
    "start_time": "2022-04-18T14:57:30.086Z"
   },
   {
    "duration": 14,
    "start_time": "2022-04-18T14:58:15.629Z"
   },
   {
    "duration": 1315,
    "start_time": "2022-04-18T14:58:35.507Z"
   },
   {
    "duration": 49,
    "start_time": "2022-04-18T14:58:36.824Z"
   },
   {
    "duration": 38,
    "start_time": "2022-04-18T14:58:36.875Z"
   },
   {
    "duration": 13,
    "start_time": "2022-04-18T14:58:36.915Z"
   },
   {
    "duration": 18,
    "start_time": "2022-04-18T14:58:36.930Z"
   },
   {
    "duration": 120,
    "start_time": "2022-04-18T14:58:36.993Z"
   },
   {
    "duration": 0,
    "start_time": "2022-04-18T14:58:37.118Z"
   },
   {
    "duration": 0,
    "start_time": "2022-04-18T14:58:37.119Z"
   },
   {
    "duration": 0,
    "start_time": "2022-04-18T14:58:37.121Z"
   },
   {
    "duration": 0,
    "start_time": "2022-04-18T14:58:37.122Z"
   },
   {
    "duration": 0,
    "start_time": "2022-04-18T14:58:37.124Z"
   },
   {
    "duration": 0,
    "start_time": "2022-04-18T14:58:37.126Z"
   },
   {
    "duration": 0,
    "start_time": "2022-04-18T14:58:37.129Z"
   },
   {
    "duration": 0,
    "start_time": "2022-04-18T14:58:37.131Z"
   },
   {
    "duration": 0,
    "start_time": "2022-04-18T14:58:37.133Z"
   },
   {
    "duration": 0,
    "start_time": "2022-04-18T14:58:37.135Z"
   },
   {
    "duration": 0,
    "start_time": "2022-04-18T14:58:37.137Z"
   },
   {
    "duration": 0,
    "start_time": "2022-04-18T14:58:37.140Z"
   },
   {
    "duration": 0,
    "start_time": "2022-04-18T14:58:37.142Z"
   },
   {
    "duration": 0,
    "start_time": "2022-04-18T14:58:37.144Z"
   },
   {
    "duration": 0,
    "start_time": "2022-04-18T14:58:37.146Z"
   },
   {
    "duration": 0,
    "start_time": "2022-04-18T14:58:37.147Z"
   },
   {
    "duration": 0,
    "start_time": "2022-04-18T14:58:37.149Z"
   },
   {
    "duration": 0,
    "start_time": "2022-04-18T14:58:37.150Z"
   },
   {
    "duration": 0,
    "start_time": "2022-04-18T14:58:37.152Z"
   },
   {
    "duration": 0,
    "start_time": "2022-04-18T14:58:37.194Z"
   },
   {
    "duration": 0,
    "start_time": "2022-04-18T14:58:37.195Z"
   },
   {
    "duration": 0,
    "start_time": "2022-04-18T14:58:37.197Z"
   },
   {
    "duration": 0,
    "start_time": "2022-04-18T14:58:37.199Z"
   },
   {
    "duration": 0,
    "start_time": "2022-04-18T14:58:37.200Z"
   },
   {
    "duration": 0,
    "start_time": "2022-04-18T14:58:37.201Z"
   },
   {
    "duration": 0,
    "start_time": "2022-04-18T14:58:37.203Z"
   },
   {
    "duration": 0,
    "start_time": "2022-04-18T14:58:37.204Z"
   },
   {
    "duration": 0,
    "start_time": "2022-04-18T14:58:37.206Z"
   },
   {
    "duration": 0,
    "start_time": "2022-04-18T14:58:37.210Z"
   },
   {
    "duration": 0,
    "start_time": "2022-04-18T14:58:37.213Z"
   },
   {
    "duration": 0,
    "start_time": "2022-04-18T14:58:37.216Z"
   },
   {
    "duration": 0,
    "start_time": "2022-04-18T14:58:37.218Z"
   },
   {
    "duration": 0,
    "start_time": "2022-04-18T14:58:37.220Z"
   },
   {
    "duration": 0,
    "start_time": "2022-04-18T14:58:37.223Z"
   },
   {
    "duration": 0,
    "start_time": "2022-04-18T14:58:37.224Z"
   },
   {
    "duration": 0,
    "start_time": "2022-04-18T14:58:37.226Z"
   },
   {
    "duration": 0,
    "start_time": "2022-04-18T14:58:37.228Z"
   },
   {
    "duration": 0,
    "start_time": "2022-04-18T14:58:37.230Z"
   },
   {
    "duration": 0,
    "start_time": "2022-04-18T14:58:37.232Z"
   },
   {
    "duration": 0,
    "start_time": "2022-04-18T14:58:37.293Z"
   },
   {
    "duration": 0,
    "start_time": "2022-04-18T14:58:37.297Z"
   },
   {
    "duration": 0,
    "start_time": "2022-04-18T14:58:37.298Z"
   },
   {
    "duration": 0,
    "start_time": "2022-04-18T14:58:37.300Z"
   },
   {
    "duration": 0,
    "start_time": "2022-04-18T14:58:37.303Z"
   },
   {
    "duration": 0,
    "start_time": "2022-04-18T14:58:37.304Z"
   },
   {
    "duration": 0,
    "start_time": "2022-04-18T14:58:37.307Z"
   },
   {
    "duration": 0,
    "start_time": "2022-04-18T14:58:37.309Z"
   },
   {
    "duration": 0,
    "start_time": "2022-04-18T14:58:37.311Z"
   },
   {
    "duration": 0,
    "start_time": "2022-04-18T14:58:37.313Z"
   },
   {
    "duration": 0,
    "start_time": "2022-04-18T14:58:37.314Z"
   },
   {
    "duration": 0,
    "start_time": "2022-04-18T14:58:37.317Z"
   },
   {
    "duration": 0,
    "start_time": "2022-04-18T14:58:37.319Z"
   },
   {
    "duration": 0,
    "start_time": "2022-04-18T14:58:37.321Z"
   },
   {
    "duration": 0,
    "start_time": "2022-04-18T14:58:37.323Z"
   },
   {
    "duration": 0,
    "start_time": "2022-04-18T14:58:37.324Z"
   },
   {
    "duration": 0,
    "start_time": "2022-04-18T14:58:37.326Z"
   },
   {
    "duration": 0,
    "start_time": "2022-04-18T14:58:37.327Z"
   },
   {
    "duration": 291,
    "start_time": "2022-04-18T14:59:26.642Z"
   },
   {
    "duration": 16,
    "start_time": "2022-04-18T15:00:08.077Z"
   },
   {
    "duration": 208,
    "start_time": "2022-04-18T15:00:11.201Z"
   },
   {
    "duration": 9,
    "start_time": "2022-04-18T15:00:32.131Z"
   },
   {
    "duration": 799,
    "start_time": "2022-04-18T15:00:36.881Z"
   },
   {
    "duration": 14,
    "start_time": "2022-04-18T15:00:51.521Z"
   },
   {
    "duration": 15,
    "start_time": "2022-04-18T15:00:55.624Z"
   },
   {
    "duration": 37,
    "start_time": "2022-04-18T15:01:39.344Z"
   },
   {
    "duration": 1345,
    "start_time": "2022-04-18T15:03:37.088Z"
   },
   {
    "duration": 76,
    "start_time": "2022-04-18T15:03:38.437Z"
   },
   {
    "duration": 32,
    "start_time": "2022-04-18T15:03:38.516Z"
   },
   {
    "duration": 43,
    "start_time": "2022-04-18T15:03:38.551Z"
   },
   {
    "duration": 25,
    "start_time": "2022-04-18T15:03:38.600Z"
   },
   {
    "duration": 207,
    "start_time": "2022-04-18T15:03:38.628Z"
   },
   {
    "duration": 0,
    "start_time": "2022-04-18T15:03:38.843Z"
   },
   {
    "duration": 0,
    "start_time": "2022-04-18T15:03:38.845Z"
   },
   {
    "duration": 0,
    "start_time": "2022-04-18T15:03:38.847Z"
   },
   {
    "duration": 0,
    "start_time": "2022-04-18T15:03:38.850Z"
   },
   {
    "duration": 0,
    "start_time": "2022-04-18T15:03:38.852Z"
   },
   {
    "duration": 0,
    "start_time": "2022-04-18T15:03:38.854Z"
   },
   {
    "duration": 0,
    "start_time": "2022-04-18T15:03:38.856Z"
   },
   {
    "duration": 0,
    "start_time": "2022-04-18T15:03:38.858Z"
   },
   {
    "duration": 0,
    "start_time": "2022-04-18T15:03:38.861Z"
   },
   {
    "duration": 0,
    "start_time": "2022-04-18T15:03:38.862Z"
   },
   {
    "duration": 0,
    "start_time": "2022-04-18T15:03:38.894Z"
   },
   {
    "duration": 0,
    "start_time": "2022-04-18T15:03:38.895Z"
   },
   {
    "duration": 0,
    "start_time": "2022-04-18T15:03:38.897Z"
   },
   {
    "duration": 0,
    "start_time": "2022-04-18T15:03:38.898Z"
   },
   {
    "duration": 0,
    "start_time": "2022-04-18T15:03:38.900Z"
   },
   {
    "duration": 0,
    "start_time": "2022-04-18T15:03:38.902Z"
   },
   {
    "duration": 0,
    "start_time": "2022-04-18T15:03:38.903Z"
   },
   {
    "duration": 0,
    "start_time": "2022-04-18T15:03:38.904Z"
   },
   {
    "duration": 0,
    "start_time": "2022-04-18T15:03:38.906Z"
   },
   {
    "duration": 0,
    "start_time": "2022-04-18T15:03:38.907Z"
   },
   {
    "duration": 0,
    "start_time": "2022-04-18T15:03:38.909Z"
   },
   {
    "duration": 0,
    "start_time": "2022-04-18T15:03:38.910Z"
   },
   {
    "duration": 0,
    "start_time": "2022-04-18T15:03:38.912Z"
   },
   {
    "duration": 0,
    "start_time": "2022-04-18T15:03:38.913Z"
   },
   {
    "duration": 0,
    "start_time": "2022-04-18T15:03:38.915Z"
   },
   {
    "duration": 0,
    "start_time": "2022-04-18T15:03:38.916Z"
   },
   {
    "duration": 0,
    "start_time": "2022-04-18T15:03:38.918Z"
   },
   {
    "duration": 0,
    "start_time": "2022-04-18T15:03:38.919Z"
   },
   {
    "duration": 0,
    "start_time": "2022-04-18T15:03:38.921Z"
   },
   {
    "duration": 0,
    "start_time": "2022-04-18T15:03:38.922Z"
   },
   {
    "duration": 0,
    "start_time": "2022-04-18T15:03:38.924Z"
   },
   {
    "duration": 0,
    "start_time": "2022-04-18T15:03:38.925Z"
   },
   {
    "duration": 0,
    "start_time": "2022-04-18T15:03:38.927Z"
   },
   {
    "duration": 0,
    "start_time": "2022-04-18T15:03:38.928Z"
   },
   {
    "duration": 0,
    "start_time": "2022-04-18T15:03:38.993Z"
   },
   {
    "duration": 0,
    "start_time": "2022-04-18T15:03:38.995Z"
   },
   {
    "duration": 0,
    "start_time": "2022-04-18T15:03:38.997Z"
   },
   {
    "duration": 0,
    "start_time": "2022-04-18T15:03:38.998Z"
   },
   {
    "duration": 0,
    "start_time": "2022-04-18T15:03:38.999Z"
   },
   {
    "duration": 0,
    "start_time": "2022-04-18T15:03:39.001Z"
   },
   {
    "duration": 0,
    "start_time": "2022-04-18T15:03:39.002Z"
   },
   {
    "duration": 0,
    "start_time": "2022-04-18T15:03:39.004Z"
   },
   {
    "duration": 0,
    "start_time": "2022-04-18T15:03:39.005Z"
   },
   {
    "duration": 0,
    "start_time": "2022-04-18T15:03:39.007Z"
   },
   {
    "duration": 1,
    "start_time": "2022-04-18T15:03:39.008Z"
   },
   {
    "duration": 0,
    "start_time": "2022-04-18T15:03:39.010Z"
   },
   {
    "duration": 0,
    "start_time": "2022-04-18T15:03:39.011Z"
   },
   {
    "duration": 0,
    "start_time": "2022-04-18T15:03:39.013Z"
   },
   {
    "duration": 0,
    "start_time": "2022-04-18T15:03:39.014Z"
   },
   {
    "duration": 0,
    "start_time": "2022-04-18T15:03:39.015Z"
   },
   {
    "duration": 0,
    "start_time": "2022-04-18T15:03:39.017Z"
   },
   {
    "duration": 0,
    "start_time": "2022-04-18T15:03:39.018Z"
   },
   {
    "duration": 0,
    "start_time": "2022-04-18T15:03:39.020Z"
   },
   {
    "duration": 0,
    "start_time": "2022-04-18T15:03:39.022Z"
   },
   {
    "duration": 0,
    "start_time": "2022-04-18T15:03:39.024Z"
   },
   {
    "duration": 0,
    "start_time": "2022-04-18T15:03:39.025Z"
   },
   {
    "duration": 0,
    "start_time": "2022-04-18T15:03:39.027Z"
   },
   {
    "duration": 11,
    "start_time": "2022-04-18T15:03:44.893Z"
   },
   {
    "duration": 12,
    "start_time": "2022-04-18T15:08:50.897Z"
   },
   {
    "duration": 10,
    "start_time": "2022-04-18T15:09:35.433Z"
   },
   {
    "duration": 8,
    "start_time": "2022-04-18T15:09:47.631Z"
   },
   {
    "duration": 8,
    "start_time": "2022-04-18T15:10:01.449Z"
   },
   {
    "duration": 21,
    "start_time": "2022-04-18T15:10:11.577Z"
   },
   {
    "duration": 22,
    "start_time": "2022-04-18T15:10:53.931Z"
   },
   {
    "duration": 20,
    "start_time": "2022-04-18T15:10:57.084Z"
   },
   {
    "duration": 21,
    "start_time": "2022-04-18T15:11:00.149Z"
   },
   {
    "duration": 105,
    "start_time": "2022-04-18T15:11:20.959Z"
   },
   {
    "duration": 12,
    "start_time": "2022-04-18T15:11:34.218Z"
   },
   {
    "duration": 21,
    "start_time": "2022-04-18T15:11:38.694Z"
   },
   {
    "duration": 21,
    "start_time": "2022-04-18T15:11:44.373Z"
   },
   {
    "duration": 31,
    "start_time": "2022-04-18T15:11:50.065Z"
   },
   {
    "duration": 11,
    "start_time": "2022-04-18T15:12:27.900Z"
   },
   {
    "duration": 5,
    "start_time": "2022-04-18T15:12:54.827Z"
   },
   {
    "duration": 11,
    "start_time": "2022-04-18T15:12:59.101Z"
   },
   {
    "duration": 974,
    "start_time": "2022-04-18T15:13:09.836Z"
   },
   {
    "duration": 49,
    "start_time": "2022-04-18T15:13:10.812Z"
   },
   {
    "duration": 38,
    "start_time": "2022-04-18T15:13:10.863Z"
   },
   {
    "duration": 13,
    "start_time": "2022-04-18T15:13:10.904Z"
   },
   {
    "duration": 16,
    "start_time": "2022-04-18T15:13:10.919Z"
   },
   {
    "duration": 5,
    "start_time": "2022-04-18T15:13:10.937Z"
   },
   {
    "duration": 145,
    "start_time": "2022-04-18T15:13:10.945Z"
   },
   {
    "duration": 0,
    "start_time": "2022-04-18T15:13:11.095Z"
   },
   {
    "duration": 0,
    "start_time": "2022-04-18T15:13:11.096Z"
   },
   {
    "duration": 0,
    "start_time": "2022-04-18T15:13:11.098Z"
   },
   {
    "duration": 0,
    "start_time": "2022-04-18T15:13:11.100Z"
   },
   {
    "duration": 0,
    "start_time": "2022-04-18T15:13:11.101Z"
   },
   {
    "duration": 0,
    "start_time": "2022-04-18T15:13:11.103Z"
   },
   {
    "duration": 0,
    "start_time": "2022-04-18T15:13:11.104Z"
   },
   {
    "duration": 0,
    "start_time": "2022-04-18T15:13:11.105Z"
   },
   {
    "duration": 0,
    "start_time": "2022-04-18T15:13:11.107Z"
   },
   {
    "duration": 0,
    "start_time": "2022-04-18T15:13:11.108Z"
   },
   {
    "duration": 0,
    "start_time": "2022-04-18T15:13:11.110Z"
   },
   {
    "duration": 0,
    "start_time": "2022-04-18T15:13:11.111Z"
   },
   {
    "duration": 0,
    "start_time": "2022-04-18T15:13:11.112Z"
   },
   {
    "duration": 0,
    "start_time": "2022-04-18T15:13:11.114Z"
   },
   {
    "duration": 0,
    "start_time": "2022-04-18T15:13:11.116Z"
   },
   {
    "duration": 0,
    "start_time": "2022-04-18T15:13:11.117Z"
   },
   {
    "duration": 0,
    "start_time": "2022-04-18T15:13:11.118Z"
   },
   {
    "duration": 0,
    "start_time": "2022-04-18T15:13:11.120Z"
   },
   {
    "duration": 0,
    "start_time": "2022-04-18T15:13:11.122Z"
   },
   {
    "duration": 0,
    "start_time": "2022-04-18T15:13:11.123Z"
   },
   {
    "duration": 0,
    "start_time": "2022-04-18T15:13:11.124Z"
   },
   {
    "duration": 0,
    "start_time": "2022-04-18T15:13:11.126Z"
   },
   {
    "duration": 0,
    "start_time": "2022-04-18T15:13:11.128Z"
   },
   {
    "duration": 1,
    "start_time": "2022-04-18T15:13:11.129Z"
   },
   {
    "duration": 0,
    "start_time": "2022-04-18T15:13:11.131Z"
   },
   {
    "duration": 0,
    "start_time": "2022-04-18T15:13:11.132Z"
   },
   {
    "duration": 0,
    "start_time": "2022-04-18T15:13:11.193Z"
   },
   {
    "duration": 0,
    "start_time": "2022-04-18T15:13:11.195Z"
   },
   {
    "duration": 0,
    "start_time": "2022-04-18T15:13:11.196Z"
   },
   {
    "duration": 0,
    "start_time": "2022-04-18T15:13:11.198Z"
   },
   {
    "duration": 0,
    "start_time": "2022-04-18T15:13:11.199Z"
   },
   {
    "duration": 0,
    "start_time": "2022-04-18T15:13:11.201Z"
   },
   {
    "duration": 0,
    "start_time": "2022-04-18T15:13:11.203Z"
   },
   {
    "duration": 0,
    "start_time": "2022-04-18T15:13:11.204Z"
   },
   {
    "duration": 0,
    "start_time": "2022-04-18T15:13:11.205Z"
   },
   {
    "duration": 0,
    "start_time": "2022-04-18T15:13:11.207Z"
   },
   {
    "duration": 0,
    "start_time": "2022-04-18T15:13:11.208Z"
   },
   {
    "duration": 0,
    "start_time": "2022-04-18T15:13:11.209Z"
   },
   {
    "duration": 0,
    "start_time": "2022-04-18T15:13:11.211Z"
   },
   {
    "duration": 0,
    "start_time": "2022-04-18T15:13:11.213Z"
   },
   {
    "duration": 0,
    "start_time": "2022-04-18T15:13:11.214Z"
   },
   {
    "duration": 0,
    "start_time": "2022-04-18T15:13:11.216Z"
   },
   {
    "duration": 0,
    "start_time": "2022-04-18T15:13:11.217Z"
   },
   {
    "duration": 0,
    "start_time": "2022-04-18T15:13:11.219Z"
   },
   {
    "duration": 0,
    "start_time": "2022-04-18T15:13:11.220Z"
   },
   {
    "duration": 0,
    "start_time": "2022-04-18T15:13:11.221Z"
   },
   {
    "duration": 0,
    "start_time": "2022-04-18T15:13:11.222Z"
   },
   {
    "duration": 0,
    "start_time": "2022-04-18T15:13:11.224Z"
   },
   {
    "duration": 0,
    "start_time": "2022-04-18T15:13:11.225Z"
   },
   {
    "duration": 0,
    "start_time": "2022-04-18T15:13:11.226Z"
   },
   {
    "duration": 0,
    "start_time": "2022-04-18T15:13:11.227Z"
   },
   {
    "duration": 0,
    "start_time": "2022-04-18T15:13:11.229Z"
   },
   {
    "duration": 0,
    "start_time": "2022-04-18T15:13:11.230Z"
   },
   {
    "duration": 0,
    "start_time": "2022-04-18T15:13:11.232Z"
   },
   {
    "duration": 0,
    "start_time": "2022-04-18T15:13:11.294Z"
   },
   {
    "duration": 0,
    "start_time": "2022-04-18T15:13:11.296Z"
   },
   {
    "duration": 0,
    "start_time": "2022-04-18T15:13:11.297Z"
   },
   {
    "duration": 12,
    "start_time": "2022-04-18T15:13:27.323Z"
   },
   {
    "duration": 22,
    "start_time": "2022-04-18T15:13:47.680Z"
   },
   {
    "duration": 12,
    "start_time": "2022-04-18T15:14:14.363Z"
   },
   {
    "duration": 9,
    "start_time": "2022-04-18T15:16:20.263Z"
   },
   {
    "duration": 14,
    "start_time": "2022-04-18T15:16:24.147Z"
   },
   {
    "duration": 6,
    "start_time": "2022-04-18T15:16:36.379Z"
   },
   {
    "duration": 6,
    "start_time": "2022-04-18T15:16:42.447Z"
   },
   {
    "duration": 11,
    "start_time": "2022-04-18T15:16:47.713Z"
   },
   {
    "duration": 24,
    "start_time": "2022-04-18T15:17:02.242Z"
   },
   {
    "duration": 110,
    "start_time": "2022-04-19T03:03:34.597Z"
   },
   {
    "duration": 64,
    "start_time": "2022-04-19T03:03:52.200Z"
   },
   {
    "duration": 7,
    "start_time": "2022-04-19T03:04:55.724Z"
   },
   {
    "duration": 1233,
    "start_time": "2022-04-19T03:05:00.959Z"
   },
   {
    "duration": 54,
    "start_time": "2022-04-19T03:05:02.195Z"
   },
   {
    "duration": 22,
    "start_time": "2022-04-19T03:05:02.252Z"
   },
   {
    "duration": 13,
    "start_time": "2022-04-19T03:05:02.277Z"
   },
   {
    "duration": 46,
    "start_time": "2022-04-19T03:05:02.292Z"
   },
   {
    "duration": 25,
    "start_time": "2022-04-19T03:05:02.341Z"
   },
   {
    "duration": 17,
    "start_time": "2022-04-19T03:05:02.368Z"
   },
   {
    "duration": 48,
    "start_time": "2022-04-19T03:05:02.388Z"
   },
   {
    "duration": 4,
    "start_time": "2022-04-19T03:05:02.439Z"
   },
   {
    "duration": 17,
    "start_time": "2022-04-19T03:05:02.447Z"
   },
   {
    "duration": 28,
    "start_time": "2022-04-19T03:05:02.467Z"
   },
   {
    "duration": 19,
    "start_time": "2022-04-19T03:05:02.526Z"
   },
   {
    "duration": 4,
    "start_time": "2022-04-19T03:05:02.548Z"
   },
   {
    "duration": 487,
    "start_time": "2022-04-19T03:05:02.554Z"
   },
   {
    "duration": 38,
    "start_time": "2022-04-19T03:05:03.044Z"
   },
   {
    "duration": 407,
    "start_time": "2022-04-19T03:05:03.084Z"
   },
   {
    "duration": 494,
    "start_time": "2022-04-19T03:05:03.494Z"
   },
   {
    "duration": 394,
    "start_time": "2022-04-19T03:05:03.991Z"
   },
   {
    "duration": 286,
    "start_time": "2022-04-19T03:05:04.388Z"
   },
   {
    "duration": 162,
    "start_time": "2022-04-19T03:05:04.676Z"
   },
   {
    "duration": 1507,
    "start_time": "2022-04-19T03:05:04.840Z"
   },
   {
    "duration": 3,
    "start_time": "2022-04-19T03:05:06.349Z"
   },
   {
    "duration": 72,
    "start_time": "2022-04-19T03:05:06.355Z"
   },
   {
    "duration": 17,
    "start_time": "2022-04-19T03:05:06.430Z"
   },
   {
    "duration": 290,
    "start_time": "2022-04-19T03:05:06.449Z"
   },
   {
    "duration": 1274,
    "start_time": "2022-04-19T03:05:06.742Z"
   },
   {
    "duration": 14,
    "start_time": "2022-04-19T03:05:08.018Z"
   },
   {
    "duration": 228,
    "start_time": "2022-04-19T03:05:08.038Z"
   },
   {
    "duration": 8,
    "start_time": "2022-04-19T03:05:08.268Z"
   },
   {
    "duration": 11,
    "start_time": "2022-04-19T03:05:08.277Z"
   },
   {
    "duration": 237,
    "start_time": "2022-04-19T03:05:08.291Z"
   },
   {
    "duration": 9,
    "start_time": "2022-04-19T03:05:08.530Z"
   },
   {
    "duration": 37,
    "start_time": "2022-04-19T03:05:08.541Z"
   },
   {
    "duration": 266,
    "start_time": "2022-04-19T03:05:08.580Z"
   },
   {
    "duration": 7,
    "start_time": "2022-04-19T03:05:08.848Z"
   },
   {
    "duration": 235,
    "start_time": "2022-04-19T03:05:08.857Z"
   },
   {
    "duration": 242,
    "start_time": "2022-04-19T03:05:09.094Z"
   },
   {
    "duration": 7,
    "start_time": "2022-04-19T03:05:09.338Z"
   },
   {
    "duration": 253,
    "start_time": "2022-04-19T03:05:09.347Z"
   },
   {
    "duration": 8,
    "start_time": "2022-04-19T03:05:09.602Z"
   },
   {
    "duration": 255,
    "start_time": "2022-04-19T03:05:09.612Z"
   },
   {
    "duration": 9,
    "start_time": "2022-04-19T03:05:09.870Z"
   },
   {
    "duration": 14,
    "start_time": "2022-04-19T03:05:09.882Z"
   },
   {
    "duration": 36,
    "start_time": "2022-04-19T03:05:09.924Z"
   },
   {
    "duration": 12,
    "start_time": "2022-04-19T03:05:09.963Z"
   },
   {
    "duration": 49,
    "start_time": "2022-04-19T03:05:09.977Z"
   },
   {
    "duration": 257,
    "start_time": "2022-04-19T03:05:10.029Z"
   },
   {
    "duration": 15,
    "start_time": "2022-04-19T03:05:10.289Z"
   },
   {
    "duration": 239,
    "start_time": "2022-04-19T03:05:10.307Z"
   },
   {
    "duration": 8,
    "start_time": "2022-04-19T03:05:10.549Z"
   },
   {
    "duration": 252,
    "start_time": "2022-04-19T03:05:10.560Z"
   },
   {
    "duration": 15,
    "start_time": "2022-04-19T03:05:10.815Z"
   },
   {
    "duration": 333,
    "start_time": "2022-04-19T03:05:10.832Z"
   },
   {
    "duration": 9,
    "start_time": "2022-04-19T03:05:11.167Z"
   },
   {
    "duration": 235,
    "start_time": "2022-04-19T03:05:11.178Z"
   },
   {
    "duration": 252,
    "start_time": "2022-04-19T03:05:11.416Z"
   },
   {
    "duration": 9,
    "start_time": "2022-04-19T03:05:11.670Z"
   },
   {
    "duration": 255,
    "start_time": "2022-04-19T03:05:11.682Z"
   },
   {
    "duration": 7,
    "start_time": "2022-04-19T03:05:11.940Z"
   },
   {
    "duration": 246,
    "start_time": "2022-04-19T03:05:11.950Z"
   },
   {
    "duration": 9,
    "start_time": "2022-04-19T03:05:12.199Z"
   },
   {
    "duration": 227,
    "start_time": "2022-04-19T03:05:12.226Z"
   },
   {
    "duration": 9,
    "start_time": "2022-04-19T03:05:12.456Z"
   },
   {
    "duration": 28,
    "start_time": "2022-04-19T03:08:16.432Z"
   },
   {
    "duration": 9,
    "start_time": "2022-04-19T03:09:59.911Z"
   },
   {
    "duration": 9,
    "start_time": "2022-04-19T03:18:25.765Z"
   },
   {
    "duration": 7,
    "start_time": "2022-04-19T03:19:31.899Z"
   },
   {
    "duration": 108,
    "start_time": "2022-04-19T03:19:44.685Z"
   },
   {
    "duration": 6,
    "start_time": "2022-04-19T03:19:48.734Z"
   },
   {
    "duration": 6,
    "start_time": "2022-04-19T03:19:57.567Z"
   },
   {
    "duration": 17,
    "start_time": "2022-04-19T03:29:40.854Z"
   },
   {
    "duration": 30,
    "start_time": "2022-04-19T03:30:14.494Z"
   },
   {
    "duration": 7,
    "start_time": "2022-04-19T03:30:17.685Z"
   },
   {
    "duration": 27,
    "start_time": "2022-04-19T03:30:32.889Z"
   },
   {
    "duration": 45,
    "start_time": "2022-04-19T03:30:37.639Z"
   },
   {
    "duration": 107,
    "start_time": "2022-04-19T03:30:56.166Z"
   },
   {
    "duration": 28,
    "start_time": "2022-04-19T03:31:15.709Z"
   },
   {
    "duration": 6,
    "start_time": "2022-04-19T03:42:09.843Z"
   },
   {
    "duration": 7,
    "start_time": "2022-04-19T03:42:21.142Z"
   },
   {
    "duration": 6,
    "start_time": "2022-04-19T03:42:28.560Z"
   },
   {
    "duration": 5,
    "start_time": "2022-04-19T03:42:53.545Z"
   },
   {
    "duration": 27,
    "start_time": "2022-04-19T03:43:00.746Z"
   },
   {
    "duration": 27,
    "start_time": "2022-04-19T03:43:06.065Z"
   },
   {
    "duration": 16,
    "start_time": "2022-04-19T03:44:49.954Z"
   },
   {
    "duration": 114,
    "start_time": "2022-04-19T03:45:47.439Z"
   },
   {
    "duration": 16,
    "start_time": "2022-04-19T03:46:03.277Z"
   },
   {
    "duration": 17,
    "start_time": "2022-04-19T03:46:11.031Z"
   },
   {
    "duration": 17,
    "start_time": "2022-04-19T03:46:14.932Z"
   },
   {
    "duration": 30,
    "start_time": "2022-04-19T03:48:01.723Z"
   },
   {
    "duration": 18,
    "start_time": "2022-04-19T04:14:06.957Z"
   },
   {
    "duration": 10,
    "start_time": "2022-04-19T04:15:33.123Z"
   },
   {
    "duration": 151,
    "start_time": "2022-04-19T04:15:46.820Z"
   },
   {
    "duration": 131,
    "start_time": "2022-04-19T04:15:58.462Z"
   },
   {
    "duration": 19,
    "start_time": "2022-04-19T04:16:03.238Z"
   },
   {
    "duration": 147,
    "start_time": "2022-04-19T04:16:04.546Z"
   },
   {
    "duration": 865,
    "start_time": "2022-04-19T04:18:11.104Z"
   },
   {
    "duration": 978,
    "start_time": "2022-04-19T04:18:28.523Z"
   },
   {
    "duration": 54,
    "start_time": "2022-04-19T04:18:29.503Z"
   },
   {
    "duration": 23,
    "start_time": "2022-04-19T04:18:29.559Z"
   },
   {
    "duration": 12,
    "start_time": "2022-04-19T04:18:29.585Z"
   },
   {
    "duration": 19,
    "start_time": "2022-04-19T04:18:29.624Z"
   },
   {
    "duration": 25,
    "start_time": "2022-04-19T04:18:29.645Z"
   },
   {
    "duration": 18,
    "start_time": "2022-04-19T04:18:29.673Z"
   },
   {
    "duration": 47,
    "start_time": "2022-04-19T04:18:29.693Z"
   },
   {
    "duration": 4,
    "start_time": "2022-04-19T04:18:29.742Z"
   },
   {
    "duration": 14,
    "start_time": "2022-04-19T04:18:29.749Z"
   },
   {
    "duration": 60,
    "start_time": "2022-04-19T04:18:29.765Z"
   },
   {
    "duration": 20,
    "start_time": "2022-04-19T04:18:29.827Z"
   },
   {
    "duration": 4,
    "start_time": "2022-04-19T04:18:29.849Z"
   },
   {
    "duration": 481,
    "start_time": "2022-04-19T04:18:29.855Z"
   },
   {
    "duration": 40,
    "start_time": "2022-04-19T04:18:30.338Z"
   },
   {
    "duration": 420,
    "start_time": "2022-04-19T04:18:30.380Z"
   },
   {
    "duration": 472,
    "start_time": "2022-04-19T04:18:30.802Z"
   },
   {
    "duration": 282,
    "start_time": "2022-04-19T04:18:31.276Z"
   },
   {
    "duration": 284,
    "start_time": "2022-04-19T04:18:31.560Z"
   },
   {
    "duration": 193,
    "start_time": "2022-04-19T04:18:31.846Z"
   },
   {
    "duration": 1522,
    "start_time": "2022-04-19T04:18:32.041Z"
   },
   {
    "duration": 70,
    "start_time": "2022-04-19T04:18:33.565Z"
   },
   {
    "duration": 14,
    "start_time": "2022-04-19T04:18:33.638Z"
   },
   {
    "duration": 73,
    "start_time": "2022-04-19T04:18:33.654Z"
   },
   {
    "duration": 296,
    "start_time": "2022-04-19T04:18:33.729Z"
   },
   {
    "duration": 1227,
    "start_time": "2022-04-19T04:18:34.027Z"
   },
   {
    "duration": 8,
    "start_time": "2022-04-19T04:18:35.257Z"
   },
   {
    "duration": 274,
    "start_time": "2022-04-19T04:18:35.270Z"
   },
   {
    "duration": 7,
    "start_time": "2022-04-19T04:18:35.547Z"
   },
   {
    "duration": 12,
    "start_time": "2022-04-19T04:18:35.556Z"
   },
   {
    "duration": 223,
    "start_time": "2022-04-19T04:18:35.570Z"
   },
   {
    "duration": 9,
    "start_time": "2022-04-19T04:18:35.796Z"
   },
   {
    "duration": 50,
    "start_time": "2022-04-19T04:18:35.807Z"
   },
   {
    "duration": 259,
    "start_time": "2022-04-19T04:18:35.859Z"
   },
   {
    "duration": 7,
    "start_time": "2022-04-19T04:18:36.124Z"
   },
   {
    "duration": 218,
    "start_time": "2022-04-19T04:18:36.133Z"
   },
   {
    "duration": 241,
    "start_time": "2022-04-19T04:18:36.353Z"
   },
   {
    "duration": 7,
    "start_time": "2022-04-19T04:18:36.596Z"
   },
   {
    "duration": 248,
    "start_time": "2022-04-19T04:18:36.605Z"
   },
   {
    "duration": 7,
    "start_time": "2022-04-19T04:18:36.855Z"
   },
   {
    "duration": 240,
    "start_time": "2022-04-19T04:18:36.865Z"
   },
   {
    "duration": 18,
    "start_time": "2022-04-19T04:18:37.108Z"
   },
   {
    "duration": 11,
    "start_time": "2022-04-19T04:18:37.129Z"
   },
   {
    "duration": 35,
    "start_time": "2022-04-19T04:18:37.143Z"
   },
   {
    "duration": 45,
    "start_time": "2022-04-19T04:18:37.181Z"
   },
   {
    "duration": 11,
    "start_time": "2022-04-19T04:18:37.229Z"
   },
   {
    "duration": 268,
    "start_time": "2022-04-19T04:18:37.243Z"
   },
   {
    "duration": 17,
    "start_time": "2022-04-19T04:18:37.513Z"
   },
   {
    "duration": 224,
    "start_time": "2022-04-19T04:18:37.532Z"
   },
   {
    "duration": 7,
    "start_time": "2022-04-19T04:18:37.758Z"
   },
   {
    "duration": 282,
    "start_time": "2022-04-19T04:18:37.767Z"
   },
   {
    "duration": 7,
    "start_time": "2022-04-19T04:18:38.051Z"
   },
   {
    "duration": 317,
    "start_time": "2022-04-19T04:18:38.060Z"
   },
   {
    "duration": 7,
    "start_time": "2022-04-19T04:18:38.379Z"
   },
   {
    "duration": 209,
    "start_time": "2022-04-19T04:18:38.388Z"
   },
   {
    "duration": 338,
    "start_time": "2022-04-19T04:18:38.599Z"
   },
   {
    "duration": 8,
    "start_time": "2022-04-19T04:18:38.940Z"
   },
   {
    "duration": 407,
    "start_time": "2022-04-19T04:18:38.951Z"
   },
   {
    "duration": 7,
    "start_time": "2022-04-19T04:18:39.360Z"
   },
   {
    "duration": 236,
    "start_time": "2022-04-19T04:18:39.369Z"
   },
   {
    "duration": 21,
    "start_time": "2022-04-19T04:18:39.608Z"
   },
   {
    "duration": 230,
    "start_time": "2022-04-19T04:18:39.632Z"
   },
   {
    "duration": 7,
    "start_time": "2022-04-19T04:18:39.864Z"
   },
   {
    "duration": 22,
    "start_time": "2022-04-19T04:25:49.872Z"
   },
   {
    "duration": 98,
    "start_time": "2022-04-19T04:29:20.916Z"
   },
   {
    "duration": 40,
    "start_time": "2022-04-19T04:31:38.809Z"
   },
   {
    "duration": 35,
    "start_time": "2022-04-19T04:37:36.627Z"
   },
   {
    "duration": 37,
    "start_time": "2022-04-19T04:39:10.086Z"
   },
   {
    "duration": 41,
    "start_time": "2022-04-19T04:39:49.134Z"
   },
   {
    "duration": 5,
    "start_time": "2022-04-19T04:40:30.214Z"
   },
   {
    "duration": 45,
    "start_time": "2022-04-19T04:41:06.776Z"
   },
   {
    "duration": 11,
    "start_time": "2022-04-19T05:08:16.642Z"
   },
   {
    "duration": 10,
    "start_time": "2022-04-19T05:08:31.256Z"
   },
   {
    "duration": 18,
    "start_time": "2022-04-19T05:09:28.307Z"
   },
   {
    "duration": 44,
    "start_time": "2022-04-19T05:09:30.366Z"
   },
   {
    "duration": 10,
    "start_time": "2022-04-19T05:09:34.951Z"
   },
   {
    "duration": 10,
    "start_time": "2022-04-19T05:09:40.361Z"
   },
   {
    "duration": 972,
    "start_time": "2022-04-19T05:09:47.659Z"
   },
   {
    "duration": 52,
    "start_time": "2022-04-19T05:09:48.634Z"
   },
   {
    "duration": 46,
    "start_time": "2022-04-19T05:09:48.688Z"
   },
   {
    "duration": 12,
    "start_time": "2022-04-19T05:09:48.736Z"
   },
   {
    "duration": 28,
    "start_time": "2022-04-19T05:09:48.751Z"
   },
   {
    "duration": 43,
    "start_time": "2022-04-19T05:09:48.781Z"
   },
   {
    "duration": 17,
    "start_time": "2022-04-19T05:09:48.827Z"
   },
   {
    "duration": 16,
    "start_time": "2022-04-19T05:09:48.846Z"
   },
   {
    "duration": 16,
    "start_time": "2022-04-19T05:09:48.864Z"
   },
   {
    "duration": 76,
    "start_time": "2022-04-19T05:09:48.882Z"
   },
   {
    "duration": 11,
    "start_time": "2022-04-19T05:09:48.960Z"
   },
   {
    "duration": 4,
    "start_time": "2022-04-19T05:09:48.973Z"
   },
   {
    "duration": 49,
    "start_time": "2022-04-19T05:09:48.980Z"
   },
   {
    "duration": 26,
    "start_time": "2022-04-19T05:09:49.033Z"
   },
   {
    "duration": 19,
    "start_time": "2022-04-19T05:09:49.061Z"
   },
   {
    "duration": 5,
    "start_time": "2022-04-19T05:09:49.082Z"
   },
   {
    "duration": 503,
    "start_time": "2022-04-19T05:09:49.089Z"
   },
   {
    "duration": 46,
    "start_time": "2022-04-19T05:09:49.594Z"
   },
   {
    "duration": 414,
    "start_time": "2022-04-19T05:09:49.642Z"
   },
   {
    "duration": 491,
    "start_time": "2022-04-19T05:09:50.059Z"
   },
   {
    "duration": 302,
    "start_time": "2022-04-19T05:09:50.552Z"
   },
   {
    "duration": 281,
    "start_time": "2022-04-19T05:09:50.857Z"
   },
   {
    "duration": 159,
    "start_time": "2022-04-19T05:09:51.140Z"
   },
   {
    "duration": 795,
    "start_time": "2022-04-19T05:09:51.301Z"
   },
   {
    "duration": 27,
    "start_time": "2022-04-19T05:09:52.098Z"
   },
   {
    "duration": 14,
    "start_time": "2022-04-19T05:09:52.128Z"
   },
   {
    "duration": 21,
    "start_time": "2022-04-19T05:09:52.144Z"
   },
   {
    "duration": 179,
    "start_time": "2022-04-19T05:09:52.168Z"
   },
   {
    "duration": 880,
    "start_time": "2022-04-19T05:09:52.350Z"
   },
   {
    "duration": 8,
    "start_time": "2022-04-19T05:09:53.233Z"
   },
   {
    "duration": 233,
    "start_time": "2022-04-19T05:09:53.243Z"
   },
   {
    "duration": 7,
    "start_time": "2022-04-19T05:09:53.478Z"
   },
   {
    "duration": 19,
    "start_time": "2022-04-19T05:09:53.487Z"
   },
   {
    "duration": 218,
    "start_time": "2022-04-19T05:09:53.524Z"
   },
   {
    "duration": 10,
    "start_time": "2022-04-19T05:09:53.744Z"
   },
   {
    "duration": 38,
    "start_time": "2022-04-19T05:09:53.756Z"
   },
   {
    "duration": 277,
    "start_time": "2022-04-19T05:09:53.796Z"
   },
   {
    "duration": 7,
    "start_time": "2022-04-19T05:09:54.076Z"
   },
   {
    "duration": 239,
    "start_time": "2022-04-19T05:09:54.085Z"
   },
   {
    "duration": 244,
    "start_time": "2022-04-19T05:09:54.326Z"
   },
   {
    "duration": 7,
    "start_time": "2022-04-19T05:09:54.576Z"
   },
   {
    "duration": 259,
    "start_time": "2022-04-19T05:09:54.585Z"
   },
   {
    "duration": 7,
    "start_time": "2022-04-19T05:09:54.846Z"
   },
   {
    "duration": 251,
    "start_time": "2022-04-19T05:09:54.855Z"
   },
   {
    "duration": 7,
    "start_time": "2022-04-19T05:09:55.108Z"
   },
   {
    "duration": 12,
    "start_time": "2022-04-19T05:09:55.125Z"
   },
   {
    "duration": 38,
    "start_time": "2022-04-19T05:09:55.139Z"
   },
   {
    "duration": 11,
    "start_time": "2022-04-19T05:09:55.179Z"
   },
   {
    "duration": 41,
    "start_time": "2022-04-19T05:09:55.192Z"
   },
   {
    "duration": 258,
    "start_time": "2022-04-19T05:09:55.235Z"
   },
   {
    "duration": 13,
    "start_time": "2022-04-19T05:09:55.495Z"
   },
   {
    "duration": 239,
    "start_time": "2022-04-19T05:09:55.510Z"
   },
   {
    "duration": 9,
    "start_time": "2022-04-19T05:09:55.751Z"
   },
   {
    "duration": 248,
    "start_time": "2022-04-19T05:09:55.763Z"
   },
   {
    "duration": 18,
    "start_time": "2022-04-19T05:09:56.014Z"
   },
   {
    "duration": 323,
    "start_time": "2022-04-19T05:09:56.034Z"
   },
   {
    "duration": 7,
    "start_time": "2022-04-19T05:09:56.360Z"
   },
   {
    "duration": 236,
    "start_time": "2022-04-19T05:09:56.370Z"
   },
   {
    "duration": 246,
    "start_time": "2022-04-19T05:09:56.608Z"
   },
   {
    "duration": 7,
    "start_time": "2022-04-19T05:09:56.856Z"
   },
   {
    "duration": 259,
    "start_time": "2022-04-19T05:09:56.865Z"
   },
   {
    "duration": 7,
    "start_time": "2022-04-19T05:09:57.126Z"
   },
   {
    "duration": 224,
    "start_time": "2022-04-19T05:09:57.135Z"
   },
   {
    "duration": 6,
    "start_time": "2022-04-19T05:09:57.362Z"
   },
   {
    "duration": 232,
    "start_time": "2022-04-19T05:09:57.370Z"
   },
   {
    "duration": 20,
    "start_time": "2022-04-19T05:09:57.604Z"
   },
   {
    "duration": 34,
    "start_time": "2022-04-19T05:12:16.860Z"
   },
   {
    "duration": 43,
    "start_time": "2022-04-19T05:12:19.067Z"
   },
   {
    "duration": 11,
    "start_time": "2022-04-19T05:12:31.632Z"
   },
   {
    "duration": 8,
    "start_time": "2022-04-19T05:15:50.159Z"
   },
   {
    "duration": 19,
    "start_time": "2022-04-19T05:30:24.168Z"
   },
   {
    "duration": 15,
    "start_time": "2022-04-19T05:35:23.392Z"
   },
   {
    "duration": 265,
    "start_time": "2022-04-19T05:35:29.074Z"
   },
   {
    "duration": 109,
    "start_time": "2022-04-19T05:38:20.077Z"
   },
   {
    "duration": 22,
    "start_time": "2022-04-19T05:38:33.607Z"
   },
   {
    "duration": 19,
    "start_time": "2022-04-19T05:39:01.143Z"
   },
   {
    "duration": 146,
    "start_time": "2022-04-19T05:39:03.418Z"
   },
   {
    "duration": 152,
    "start_time": "2022-04-19T05:39:26.019Z"
   },
   {
    "duration": 150,
    "start_time": "2022-04-19T05:39:47.134Z"
   },
   {
    "duration": 20,
    "start_time": "2022-04-19T05:40:09.620Z"
   },
   {
    "duration": 138,
    "start_time": "2022-04-19T05:40:11.266Z"
   },
   {
    "duration": 148,
    "start_time": "2022-04-19T05:40:13.890Z"
   },
   {
    "duration": 150,
    "start_time": "2022-04-19T05:40:22.931Z"
   },
   {
    "duration": 880,
    "start_time": "2022-04-19T05:40:24.867Z"
   },
   {
    "duration": 11,
    "start_time": "2022-04-19T05:40:31.412Z"
   },
   {
    "duration": 929,
    "start_time": "2022-04-19T05:42:23.748Z"
   },
   {
    "duration": 59,
    "start_time": "2022-04-19T05:42:24.680Z"
   },
   {
    "duration": 24,
    "start_time": "2022-04-19T05:42:24.741Z"
   },
   {
    "duration": 12,
    "start_time": "2022-04-19T05:42:24.768Z"
   },
   {
    "duration": 19,
    "start_time": "2022-04-19T05:42:24.823Z"
   },
   {
    "duration": 27,
    "start_time": "2022-04-19T05:42:24.844Z"
   },
   {
    "duration": 58,
    "start_time": "2022-04-19T05:42:24.873Z"
   },
   {
    "duration": 17,
    "start_time": "2022-04-19T05:42:24.933Z"
   },
   {
    "duration": 34,
    "start_time": "2022-04-19T05:42:24.952Z"
   },
   {
    "duration": 68,
    "start_time": "2022-04-19T05:42:24.991Z"
   },
   {
    "duration": 10,
    "start_time": "2022-04-19T05:42:25.061Z"
   },
   {
    "duration": 7,
    "start_time": "2022-04-19T05:42:25.073Z"
   },
   {
    "duration": 45,
    "start_time": "2022-04-19T05:42:25.082Z"
   },
   {
    "duration": 28,
    "start_time": "2022-04-19T05:42:25.129Z"
   },
   {
    "duration": 19,
    "start_time": "2022-04-19T05:42:25.160Z"
   },
   {
    "duration": 5,
    "start_time": "2022-04-19T05:42:25.181Z"
   },
   {
    "duration": 515,
    "start_time": "2022-04-19T05:42:25.188Z"
   },
   {
    "duration": 53,
    "start_time": "2022-04-19T05:42:25.705Z"
   },
   {
    "duration": 465,
    "start_time": "2022-04-19T05:42:25.760Z"
   },
   {
    "duration": 422,
    "start_time": "2022-04-19T05:42:26.227Z"
   },
   {
    "duration": 294,
    "start_time": "2022-04-19T05:42:26.651Z"
   },
   {
    "duration": 287,
    "start_time": "2022-04-19T05:42:26.947Z"
   },
   {
    "duration": 163,
    "start_time": "2022-04-19T05:42:27.236Z"
   },
   {
    "duration": 784,
    "start_time": "2022-04-19T05:42:27.401Z"
   },
   {
    "duration": 16,
    "start_time": "2022-04-19T05:42:28.187Z"
   },
   {
    "duration": 30,
    "start_time": "2022-04-19T05:42:28.206Z"
   },
   {
    "duration": 26,
    "start_time": "2022-04-19T05:42:28.238Z"
   },
   {
    "duration": 168,
    "start_time": "2022-04-19T05:42:28.270Z"
   },
   {
    "duration": 127,
    "start_time": "2022-04-19T05:42:28.441Z"
   },
   {
    "duration": 1,
    "start_time": "2022-04-19T05:42:28.571Z"
   },
   {
    "duration": 0,
    "start_time": "2022-04-19T05:42:28.573Z"
   },
   {
    "duration": 0,
    "start_time": "2022-04-19T05:42:28.575Z"
   },
   {
    "duration": 0,
    "start_time": "2022-04-19T05:42:28.578Z"
   },
   {
    "duration": 0,
    "start_time": "2022-04-19T05:42:28.580Z"
   },
   {
    "duration": 0,
    "start_time": "2022-04-19T05:42:28.582Z"
   },
   {
    "duration": 0,
    "start_time": "2022-04-19T05:42:28.584Z"
   },
   {
    "duration": 0,
    "start_time": "2022-04-19T05:42:28.586Z"
   },
   {
    "duration": 0,
    "start_time": "2022-04-19T05:42:28.588Z"
   },
   {
    "duration": 0,
    "start_time": "2022-04-19T05:42:28.623Z"
   },
   {
    "duration": 0,
    "start_time": "2022-04-19T05:42:28.626Z"
   },
   {
    "duration": 0,
    "start_time": "2022-04-19T05:42:28.628Z"
   },
   {
    "duration": 0,
    "start_time": "2022-04-19T05:42:28.630Z"
   },
   {
    "duration": 0,
    "start_time": "2022-04-19T05:42:28.633Z"
   },
   {
    "duration": 0,
    "start_time": "2022-04-19T05:42:28.635Z"
   },
   {
    "duration": 0,
    "start_time": "2022-04-19T05:42:28.637Z"
   },
   {
    "duration": 1,
    "start_time": "2022-04-19T05:42:28.639Z"
   },
   {
    "duration": 0,
    "start_time": "2022-04-19T05:42:28.641Z"
   },
   {
    "duration": 1,
    "start_time": "2022-04-19T05:42:28.643Z"
   },
   {
    "duration": 0,
    "start_time": "2022-04-19T05:42:28.645Z"
   },
   {
    "duration": 0,
    "start_time": "2022-04-19T05:42:28.647Z"
   },
   {
    "duration": 0,
    "start_time": "2022-04-19T05:42:28.650Z"
   },
   {
    "duration": 0,
    "start_time": "2022-04-19T05:42:28.651Z"
   },
   {
    "duration": 0,
    "start_time": "2022-04-19T05:42:28.654Z"
   },
   {
    "duration": 0,
    "start_time": "2022-04-19T05:42:28.656Z"
   },
   {
    "duration": 0,
    "start_time": "2022-04-19T05:42:28.658Z"
   },
   {
    "duration": 0,
    "start_time": "2022-04-19T05:42:28.660Z"
   },
   {
    "duration": 0,
    "start_time": "2022-04-19T05:42:28.662Z"
   },
   {
    "duration": 0,
    "start_time": "2022-04-19T05:42:28.725Z"
   },
   {
    "duration": 0,
    "start_time": "2022-04-19T05:42:28.727Z"
   },
   {
    "duration": 0,
    "start_time": "2022-04-19T05:42:28.729Z"
   },
   {
    "duration": 0,
    "start_time": "2022-04-19T05:42:28.731Z"
   },
   {
    "duration": 0,
    "start_time": "2022-04-19T05:42:28.733Z"
   },
   {
    "duration": 0,
    "start_time": "2022-04-19T05:42:28.735Z"
   },
   {
    "duration": 0,
    "start_time": "2022-04-19T05:42:28.738Z"
   },
   {
    "duration": 0,
    "start_time": "2022-04-19T05:42:28.740Z"
   },
   {
    "duration": 0,
    "start_time": "2022-04-19T05:42:28.742Z"
   },
   {
    "duration": 1431,
    "start_time": "2022-04-19T05:51:29.114Z"
   },
   {
    "duration": 9,
    "start_time": "2022-04-19T05:51:34.126Z"
   },
   {
    "duration": 251,
    "start_time": "2022-04-19T05:52:57.843Z"
   },
   {
    "duration": 8,
    "start_time": "2022-04-19T05:53:01.290Z"
   },
   {
    "duration": 11,
    "start_time": "2022-04-19T05:53:23.812Z"
   },
   {
    "duration": 240,
    "start_time": "2022-04-19T05:53:28.317Z"
   },
   {
    "duration": 9,
    "start_time": "2022-04-19T06:18:35.152Z"
   },
   {
    "duration": 45,
    "start_time": "2022-04-19T06:18:38.750Z"
   },
   {
    "duration": 8,
    "start_time": "2022-04-19T06:20:38.170Z"
   },
   {
    "duration": 242,
    "start_time": "2022-04-19T06:20:55.503Z"
   },
   {
    "duration": 7,
    "start_time": "2022-04-19T06:21:02.392Z"
   },
   {
    "duration": 210,
    "start_time": "2022-04-19T06:21:10.328Z"
   },
   {
    "duration": 244,
    "start_time": "2022-04-19T06:21:45.418Z"
   },
   {
    "duration": 7,
    "start_time": "2022-04-19T06:21:50.056Z"
   },
   {
    "duration": 229,
    "start_time": "2022-04-19T06:21:53.738Z"
   },
   {
    "duration": 8,
    "start_time": "2022-04-19T06:21:56.096Z"
   },
   {
    "duration": 219,
    "start_time": "2022-04-19T06:21:59.640Z"
   },
   {
    "duration": 11,
    "start_time": "2022-04-19T06:22:16.279Z"
   },
   {
    "duration": 32,
    "start_time": "2022-04-19T06:22:19.161Z"
   },
   {
    "duration": 11,
    "start_time": "2022-04-19T06:22:22.305Z"
   },
   {
    "duration": 48,
    "start_time": "2022-04-19T06:22:36.152Z"
   },
   {
    "duration": 235,
    "start_time": "2022-04-19T06:22:54.346Z"
   },
   {
    "duration": 13,
    "start_time": "2022-04-19T06:22:57.595Z"
   },
   {
    "duration": 11,
    "start_time": "2022-04-19T06:23:02.418Z"
   },
   {
    "duration": 201,
    "start_time": "2022-04-19T06:23:05.459Z"
   },
   {
    "duration": 296,
    "start_time": "2022-04-19T06:23:08.573Z"
   },
   {
    "duration": 7,
    "start_time": "2022-04-19T06:23:11.337Z"
   },
   {
    "duration": 220,
    "start_time": "2022-04-19T06:23:14.135Z"
   },
   {
    "duration": 7,
    "start_time": "2022-04-19T06:23:17.089Z"
   },
   {
    "duration": 207,
    "start_time": "2022-04-19T06:23:20.160Z"
   },
   {
    "duration": 233,
    "start_time": "2022-04-19T06:23:22.449Z"
   },
   {
    "duration": 7,
    "start_time": "2022-04-19T06:23:24.779Z"
   },
   {
    "duration": 222,
    "start_time": "2022-04-19T06:23:27.160Z"
   },
   {
    "duration": 7,
    "start_time": "2022-04-19T06:23:29.416Z"
   },
   {
    "duration": 206,
    "start_time": "2022-04-19T06:23:31.392Z"
   },
   {
    "duration": 7,
    "start_time": "2022-04-19T06:23:33.778Z"
   },
   {
    "duration": 205,
    "start_time": "2022-04-19T06:23:36.266Z"
   },
   {
    "duration": 7,
    "start_time": "2022-04-19T06:23:38.088Z"
   },
   {
    "duration": 19,
    "start_time": "2022-04-19T06:24:05.473Z"
   },
   {
    "duration": 139,
    "start_time": "2022-04-19T06:24:07.754Z"
   },
   {
    "duration": 250,
    "start_time": "2022-04-19T06:24:32.818Z"
   },
   {
    "duration": 8,
    "start_time": "2022-04-19T06:24:44.344Z"
   },
   {
    "duration": 741,
    "start_time": "2022-04-20T04:51:27.071Z"
   },
   {
    "duration": 35,
    "start_time": "2022-04-20T04:51:42.051Z"
   },
   {
    "duration": 16,
    "start_time": "2022-04-20T04:51:42.088Z"
   },
   {
    "duration": 9,
    "start_time": "2022-04-20T04:51:42.106Z"
   },
   {
    "duration": 23,
    "start_time": "2022-04-20T04:51:42.117Z"
   },
   {
    "duration": 59,
    "start_time": "2022-04-20T04:51:42.142Z"
   },
   {
    "duration": 18,
    "start_time": "2022-04-20T04:53:03.821Z"
   },
   {
    "duration": 50,
    "start_time": "2022-04-20T04:54:03.321Z"
   },
   {
    "duration": 42,
    "start_time": "2022-04-20T05:28:24.290Z"
   },
   {
    "duration": 6,
    "start_time": "2022-04-20T05:39:24.373Z"
   },
   {
    "duration": 874,
    "start_time": "2022-04-20T05:39:33.532Z"
   },
   {
    "duration": 29,
    "start_time": "2022-04-20T05:39:34.409Z"
   },
   {
    "duration": 15,
    "start_time": "2022-04-20T05:39:34.440Z"
   },
   {
    "duration": 8,
    "start_time": "2022-04-20T05:39:34.456Z"
   },
   {
    "duration": 39,
    "start_time": "2022-04-20T05:39:34.466Z"
   },
   {
    "duration": 16,
    "start_time": "2022-04-20T05:39:34.506Z"
   },
   {
    "duration": 5,
    "start_time": "2022-04-20T05:39:34.523Z"
   },
   {
    "duration": 11,
    "start_time": "2022-04-20T05:39:34.530Z"
   },
   {
    "duration": 10,
    "start_time": "2022-04-20T05:39:34.542Z"
   },
   {
    "duration": 48,
    "start_time": "2022-04-20T05:39:34.555Z"
   },
   {
    "duration": 21,
    "start_time": "2022-04-20T05:39:34.605Z"
   },
   {
    "duration": 8,
    "start_time": "2022-04-20T05:39:34.627Z"
   },
   {
    "duration": 4,
    "start_time": "2022-04-20T05:39:34.636Z"
   },
   {
    "duration": 10,
    "start_time": "2022-04-20T05:39:34.642Z"
   },
   {
    "duration": 48,
    "start_time": "2022-04-20T05:39:34.653Z"
   },
   {
    "duration": 13,
    "start_time": "2022-04-20T05:39:34.703Z"
   },
   {
    "duration": 3,
    "start_time": "2022-04-20T05:39:34.717Z"
   },
   {
    "duration": 265,
    "start_time": "2022-04-20T05:39:34.721Z"
   },
   {
    "duration": 29,
    "start_time": "2022-04-20T05:39:34.988Z"
   },
   {
    "duration": 254,
    "start_time": "2022-04-20T05:39:35.018Z"
   },
   {
    "duration": 220,
    "start_time": "2022-04-20T05:39:35.274Z"
   },
   {
    "duration": 154,
    "start_time": "2022-04-20T05:39:35.495Z"
   },
   {
    "duration": 143,
    "start_time": "2022-04-20T05:39:35.650Z"
   },
   {
    "duration": 77,
    "start_time": "2022-04-20T05:39:35.794Z"
   },
   {
    "duration": 405,
    "start_time": "2022-04-20T05:39:35.873Z"
   },
   {
    "duration": 10,
    "start_time": "2022-04-20T05:39:36.279Z"
   },
   {
    "duration": 7,
    "start_time": "2022-04-20T05:39:36.300Z"
   },
   {
    "duration": 10,
    "start_time": "2022-04-20T05:39:36.311Z"
   },
   {
    "duration": 87,
    "start_time": "2022-04-20T05:39:36.322Z"
   },
   {
    "duration": 493,
    "start_time": "2022-04-20T05:39:36.411Z"
   },
   {
    "duration": 7,
    "start_time": "2022-04-20T05:39:36.906Z"
   },
   {
    "duration": 164,
    "start_time": "2022-04-20T05:39:36.915Z"
   },
   {
    "duration": 6,
    "start_time": "2022-04-20T05:39:37.081Z"
   },
   {
    "duration": 141,
    "start_time": "2022-04-20T05:39:37.101Z"
   },
   {
    "duration": 6,
    "start_time": "2022-04-20T05:39:37.244Z"
   },
   {
    "duration": 141,
    "start_time": "2022-04-20T05:39:37.251Z"
   },
   {
    "duration": 10,
    "start_time": "2022-04-20T05:39:37.393Z"
   },
   {
    "duration": 124,
    "start_time": "2022-04-20T05:39:37.405Z"
   },
   {
    "duration": 141,
    "start_time": "2022-04-20T05:39:37.531Z"
   },
   {
    "duration": 6,
    "start_time": "2022-04-20T05:39:37.674Z"
   },
   {
    "duration": 143,
    "start_time": "2022-04-20T05:39:37.681Z"
   },
   {
    "duration": 6,
    "start_time": "2022-04-20T05:39:37.826Z"
   },
   {
    "duration": 135,
    "start_time": "2022-04-20T05:39:37.833Z"
   },
   {
    "duration": 5,
    "start_time": "2022-04-20T05:39:37.970Z"
   },
   {
    "duration": 8,
    "start_time": "2022-04-20T05:39:37.976Z"
   },
   {
    "duration": 20,
    "start_time": "2022-04-20T05:39:38.000Z"
   },
   {
    "duration": 7,
    "start_time": "2022-04-20T05:39:38.022Z"
   },
   {
    "duration": 7,
    "start_time": "2022-04-20T05:39:38.030Z"
   },
   {
    "duration": 147,
    "start_time": "2022-04-20T05:39:38.039Z"
   },
   {
    "duration": 17,
    "start_time": "2022-04-20T05:39:38.187Z"
   },
   {
    "duration": 110,
    "start_time": "2022-04-20T05:39:38.205Z"
   },
   {
    "duration": 4,
    "start_time": "2022-04-20T05:39:38.317Z"
   },
   {
    "duration": 185,
    "start_time": "2022-04-20T05:39:38.322Z"
   },
   {
    "duration": 4,
    "start_time": "2022-04-20T05:39:38.509Z"
   },
   {
    "duration": 131,
    "start_time": "2022-04-20T05:39:38.515Z"
   },
   {
    "duration": 5,
    "start_time": "2022-04-20T05:39:38.647Z"
   },
   {
    "duration": 123,
    "start_time": "2022-04-20T05:39:38.653Z"
   },
   {
    "duration": 140,
    "start_time": "2022-04-20T05:39:38.777Z"
   },
   {
    "duration": 5,
    "start_time": "2022-04-20T05:39:38.918Z"
   },
   {
    "duration": 140,
    "start_time": "2022-04-20T05:39:38.924Z"
   },
   {
    "duration": 5,
    "start_time": "2022-04-20T05:39:39.065Z"
   },
   {
    "duration": 120,
    "start_time": "2022-04-20T05:39:39.071Z"
   },
   {
    "duration": 10,
    "start_time": "2022-04-20T05:39:39.193Z"
   },
   {
    "duration": 123,
    "start_time": "2022-04-20T05:39:39.204Z"
   },
   {
    "duration": 5,
    "start_time": "2022-04-20T05:39:39.328Z"
   },
   {
    "duration": 11,
    "start_time": "2022-04-20T05:40:01.995Z"
   },
   {
    "duration": 14,
    "start_time": "2022-04-20T05:41:05.402Z"
   },
   {
    "duration": 13,
    "start_time": "2022-04-20T05:41:20.719Z"
   },
   {
    "duration": 684,
    "start_time": "2022-04-20T05:41:33.139Z"
   },
   {
    "duration": 29,
    "start_time": "2022-04-20T05:41:33.825Z"
   },
   {
    "duration": 15,
    "start_time": "2022-04-20T05:41:33.855Z"
   },
   {
    "duration": 9,
    "start_time": "2022-04-20T05:41:33.872Z"
   },
   {
    "duration": 10,
    "start_time": "2022-04-20T05:41:33.901Z"
   },
   {
    "duration": 16,
    "start_time": "2022-04-20T05:41:33.912Z"
   },
   {
    "duration": 6,
    "start_time": "2022-04-20T05:41:33.929Z"
   },
   {
    "duration": 11,
    "start_time": "2022-04-20T05:41:33.936Z"
   },
   {
    "duration": 10,
    "start_time": "2022-04-20T05:41:33.949Z"
   },
   {
    "duration": 55,
    "start_time": "2022-04-20T05:41:33.961Z"
   },
   {
    "duration": 22,
    "start_time": "2022-04-20T05:41:34.017Z"
   },
   {
    "duration": 7,
    "start_time": "2022-04-20T05:41:34.040Z"
   },
   {
    "duration": 3,
    "start_time": "2022-04-20T05:41:34.048Z"
   },
   {
    "duration": 92,
    "start_time": "2022-04-20T05:41:34.054Z"
   },
   {
    "duration": 0,
    "start_time": "2022-04-20T05:41:34.148Z"
   },
   {
    "duration": 0,
    "start_time": "2022-04-20T05:41:34.149Z"
   },
   {
    "duration": 0,
    "start_time": "2022-04-20T05:41:34.150Z"
   },
   {
    "duration": 0,
    "start_time": "2022-04-20T05:41:34.152Z"
   },
   {
    "duration": 0,
    "start_time": "2022-04-20T05:41:34.153Z"
   },
   {
    "duration": 0,
    "start_time": "2022-04-20T05:41:34.154Z"
   },
   {
    "duration": 0,
    "start_time": "2022-04-20T05:41:34.155Z"
   },
   {
    "duration": 0,
    "start_time": "2022-04-20T05:41:34.156Z"
   },
   {
    "duration": 0,
    "start_time": "2022-04-20T05:41:34.157Z"
   },
   {
    "duration": 0,
    "start_time": "2022-04-20T05:41:34.158Z"
   },
   {
    "duration": 0,
    "start_time": "2022-04-20T05:41:34.159Z"
   },
   {
    "duration": 0,
    "start_time": "2022-04-20T05:41:34.160Z"
   },
   {
    "duration": 0,
    "start_time": "2022-04-20T05:41:34.161Z"
   },
   {
    "duration": 0,
    "start_time": "2022-04-20T05:41:34.162Z"
   },
   {
    "duration": 0,
    "start_time": "2022-04-20T05:41:34.163Z"
   },
   {
    "duration": 0,
    "start_time": "2022-04-20T05:41:34.164Z"
   },
   {
    "duration": 0,
    "start_time": "2022-04-20T05:41:34.165Z"
   },
   {
    "duration": 0,
    "start_time": "2022-04-20T05:41:34.165Z"
   },
   {
    "duration": 0,
    "start_time": "2022-04-20T05:41:34.167Z"
   },
   {
    "duration": 0,
    "start_time": "2022-04-20T05:41:34.200Z"
   },
   {
    "duration": 0,
    "start_time": "2022-04-20T05:41:34.201Z"
   },
   {
    "duration": 0,
    "start_time": "2022-04-20T05:41:34.202Z"
   },
   {
    "duration": 0,
    "start_time": "2022-04-20T05:41:34.203Z"
   },
   {
    "duration": 0,
    "start_time": "2022-04-20T05:41:34.204Z"
   },
   {
    "duration": 0,
    "start_time": "2022-04-20T05:41:34.205Z"
   },
   {
    "duration": 0,
    "start_time": "2022-04-20T05:41:34.206Z"
   },
   {
    "duration": 0,
    "start_time": "2022-04-20T05:41:34.207Z"
   },
   {
    "duration": 0,
    "start_time": "2022-04-20T05:41:34.208Z"
   },
   {
    "duration": 0,
    "start_time": "2022-04-20T05:41:34.209Z"
   },
   {
    "duration": 0,
    "start_time": "2022-04-20T05:41:34.210Z"
   },
   {
    "duration": 1,
    "start_time": "2022-04-20T05:41:34.211Z"
   },
   {
    "duration": 0,
    "start_time": "2022-04-20T05:41:34.212Z"
   },
   {
    "duration": 0,
    "start_time": "2022-04-20T05:41:34.213Z"
   },
   {
    "duration": 0,
    "start_time": "2022-04-20T05:41:34.214Z"
   },
   {
    "duration": 0,
    "start_time": "2022-04-20T05:41:34.215Z"
   },
   {
    "duration": 0,
    "start_time": "2022-04-20T05:41:34.216Z"
   },
   {
    "duration": 0,
    "start_time": "2022-04-20T05:41:34.217Z"
   },
   {
    "duration": 0,
    "start_time": "2022-04-20T05:41:34.218Z"
   },
   {
    "duration": 0,
    "start_time": "2022-04-20T05:41:34.219Z"
   },
   {
    "duration": 0,
    "start_time": "2022-04-20T05:41:34.220Z"
   },
   {
    "duration": 0,
    "start_time": "2022-04-20T05:41:34.221Z"
   },
   {
    "duration": 0,
    "start_time": "2022-04-20T05:41:34.222Z"
   },
   {
    "duration": 0,
    "start_time": "2022-04-20T05:41:34.223Z"
   },
   {
    "duration": 0,
    "start_time": "2022-04-20T05:41:34.224Z"
   },
   {
    "duration": 0,
    "start_time": "2022-04-20T05:41:34.225Z"
   },
   {
    "duration": 0,
    "start_time": "2022-04-20T05:41:34.226Z"
   },
   {
    "duration": 0,
    "start_time": "2022-04-20T05:41:34.227Z"
   },
   {
    "duration": 0,
    "start_time": "2022-04-20T05:41:34.228Z"
   },
   {
    "duration": 0,
    "start_time": "2022-04-20T05:41:34.229Z"
   },
   {
    "duration": 0,
    "start_time": "2022-04-20T05:41:34.230Z"
   },
   {
    "duration": 0,
    "start_time": "2022-04-20T05:41:34.231Z"
   },
   {
    "duration": 5,
    "start_time": "2022-04-20T05:42:11.254Z"
   },
   {
    "duration": 3,
    "start_time": "2022-04-20T05:50:41.043Z"
   },
   {
    "duration": 32,
    "start_time": "2022-04-20T05:51:02.376Z"
   },
   {
    "duration": 5,
    "start_time": "2022-04-20T05:51:26.951Z"
   },
   {
    "duration": 774,
    "start_time": "2022-04-20T05:51:34.021Z"
   },
   {
    "duration": 30,
    "start_time": "2022-04-20T05:51:34.797Z"
   },
   {
    "duration": 15,
    "start_time": "2022-04-20T05:51:34.829Z"
   },
   {
    "duration": 8,
    "start_time": "2022-04-20T05:51:34.846Z"
   },
   {
    "duration": 11,
    "start_time": "2022-04-20T05:51:34.857Z"
   },
   {
    "duration": 43,
    "start_time": "2022-04-20T05:51:34.869Z"
   },
   {
    "duration": 5,
    "start_time": "2022-04-20T05:51:34.914Z"
   },
   {
    "duration": 12,
    "start_time": "2022-04-20T05:51:34.921Z"
   },
   {
    "duration": 12,
    "start_time": "2022-04-20T05:51:34.934Z"
   },
   {
    "duration": 63,
    "start_time": "2022-04-20T05:51:34.948Z"
   },
   {
    "duration": 23,
    "start_time": "2022-04-20T05:51:35.013Z"
   },
   {
    "duration": 7,
    "start_time": "2022-04-20T05:51:35.038Z"
   },
   {
    "duration": 4,
    "start_time": "2022-04-20T05:51:35.047Z"
   },
   {
    "duration": 94,
    "start_time": "2022-04-20T05:51:35.054Z"
   },
   {
    "duration": 0,
    "start_time": "2022-04-20T05:51:35.151Z"
   },
   {
    "duration": 0,
    "start_time": "2022-04-20T05:51:35.152Z"
   },
   {
    "duration": 0,
    "start_time": "2022-04-20T05:51:35.155Z"
   },
   {
    "duration": 0,
    "start_time": "2022-04-20T05:51:35.156Z"
   },
   {
    "duration": 0,
    "start_time": "2022-04-20T05:51:35.158Z"
   },
   {
    "duration": 0,
    "start_time": "2022-04-20T05:51:35.159Z"
   },
   {
    "duration": 0,
    "start_time": "2022-04-20T05:51:35.161Z"
   },
   {
    "duration": 0,
    "start_time": "2022-04-20T05:51:35.162Z"
   },
   {
    "duration": 0,
    "start_time": "2022-04-20T05:51:35.163Z"
   },
   {
    "duration": 0,
    "start_time": "2022-04-20T05:51:35.165Z"
   },
   {
    "duration": 0,
    "start_time": "2022-04-20T05:51:35.166Z"
   },
   {
    "duration": 0,
    "start_time": "2022-04-20T05:51:35.168Z"
   },
   {
    "duration": 0,
    "start_time": "2022-04-20T05:51:35.200Z"
   },
   {
    "duration": 0,
    "start_time": "2022-04-20T05:51:35.202Z"
   },
   {
    "duration": 0,
    "start_time": "2022-04-20T05:51:35.204Z"
   },
   {
    "duration": 0,
    "start_time": "2022-04-20T05:51:35.205Z"
   },
   {
    "duration": 0,
    "start_time": "2022-04-20T05:51:35.206Z"
   },
   {
    "duration": 0,
    "start_time": "2022-04-20T05:51:35.207Z"
   },
   {
    "duration": 0,
    "start_time": "2022-04-20T05:51:35.208Z"
   },
   {
    "duration": 0,
    "start_time": "2022-04-20T05:51:35.209Z"
   },
   {
    "duration": 0,
    "start_time": "2022-04-20T05:51:35.210Z"
   },
   {
    "duration": 0,
    "start_time": "2022-04-20T05:51:35.210Z"
   },
   {
    "duration": 0,
    "start_time": "2022-04-20T05:51:35.211Z"
   },
   {
    "duration": 0,
    "start_time": "2022-04-20T05:51:35.212Z"
   },
   {
    "duration": 0,
    "start_time": "2022-04-20T05:51:35.213Z"
   },
   {
    "duration": 0,
    "start_time": "2022-04-20T05:51:35.214Z"
   },
   {
    "duration": 0,
    "start_time": "2022-04-20T05:51:35.215Z"
   },
   {
    "duration": 0,
    "start_time": "2022-04-20T05:51:35.216Z"
   },
   {
    "duration": 0,
    "start_time": "2022-04-20T05:51:35.217Z"
   },
   {
    "duration": 0,
    "start_time": "2022-04-20T05:51:35.218Z"
   },
   {
    "duration": 0,
    "start_time": "2022-04-20T05:51:35.219Z"
   },
   {
    "duration": 0,
    "start_time": "2022-04-20T05:51:35.219Z"
   },
   {
    "duration": 0,
    "start_time": "2022-04-20T05:51:35.220Z"
   },
   {
    "duration": 0,
    "start_time": "2022-04-20T05:51:35.221Z"
   },
   {
    "duration": 0,
    "start_time": "2022-04-20T05:51:35.222Z"
   },
   {
    "duration": 0,
    "start_time": "2022-04-20T05:51:35.223Z"
   },
   {
    "duration": 0,
    "start_time": "2022-04-20T05:51:35.224Z"
   },
   {
    "duration": 0,
    "start_time": "2022-04-20T05:51:35.225Z"
   },
   {
    "duration": 0,
    "start_time": "2022-04-20T05:51:35.226Z"
   },
   {
    "duration": 0,
    "start_time": "2022-04-20T05:51:35.227Z"
   },
   {
    "duration": 0,
    "start_time": "2022-04-20T05:51:35.228Z"
   },
   {
    "duration": 0,
    "start_time": "2022-04-20T05:51:35.229Z"
   },
   {
    "duration": 0,
    "start_time": "2022-04-20T05:51:35.230Z"
   },
   {
    "duration": 0,
    "start_time": "2022-04-20T05:51:35.231Z"
   },
   {
    "duration": 0,
    "start_time": "2022-04-20T05:51:35.232Z"
   },
   {
    "duration": 0,
    "start_time": "2022-04-20T05:51:35.233Z"
   },
   {
    "duration": 0,
    "start_time": "2022-04-20T05:51:35.234Z"
   },
   {
    "duration": 0,
    "start_time": "2022-04-20T05:51:35.235Z"
   },
   {
    "duration": 0,
    "start_time": "2022-04-20T05:51:35.235Z"
   },
   {
    "duration": 0,
    "start_time": "2022-04-20T05:51:35.301Z"
   },
   {
    "duration": 0,
    "start_time": "2022-04-20T05:51:35.301Z"
   },
   {
    "duration": 9,
    "start_time": "2022-04-20T05:54:05.452Z"
   },
   {
    "duration": 5,
    "start_time": "2022-04-20T05:54:31.129Z"
   },
   {
    "duration": 13,
    "start_time": "2022-04-20T05:56:57.406Z"
   },
   {
    "duration": 6,
    "start_time": "2022-04-20T05:57:00.150Z"
   },
   {
    "duration": 11,
    "start_time": "2022-04-20T05:57:14.966Z"
   },
   {
    "duration": 9,
    "start_time": "2022-04-20T05:57:19.766Z"
   },
   {
    "duration": 11,
    "start_time": "2022-04-20T05:57:31.453Z"
   },
   {
    "duration": 17,
    "start_time": "2022-04-20T05:57:34.681Z"
   },
   {
    "duration": 87,
    "start_time": "2022-04-20T05:57:51.220Z"
   },
   {
    "duration": 76,
    "start_time": "2022-04-20T05:58:05.451Z"
   },
   {
    "duration": 10,
    "start_time": "2022-04-20T05:58:20.461Z"
   },
   {
    "duration": 12,
    "start_time": "2022-04-20T05:58:25.334Z"
   },
   {
    "duration": 80,
    "start_time": "2022-04-20T05:58:27.106Z"
   },
   {
    "duration": 11,
    "start_time": "2022-04-20T05:58:52.751Z"
   },
   {
    "duration": 9,
    "start_time": "2022-04-20T05:58:57.766Z"
   },
   {
    "duration": 13,
    "start_time": "2022-04-20T06:08:07.426Z"
   },
   {
    "duration": 777,
    "start_time": "2022-04-20T06:08:14.054Z"
   },
   {
    "duration": 30,
    "start_time": "2022-04-20T06:08:14.833Z"
   },
   {
    "duration": 35,
    "start_time": "2022-04-20T06:08:14.865Z"
   },
   {
    "duration": 9,
    "start_time": "2022-04-20T06:08:14.903Z"
   },
   {
    "duration": 11,
    "start_time": "2022-04-20T06:08:14.914Z"
   },
   {
    "duration": 36,
    "start_time": "2022-04-20T06:08:14.926Z"
   },
   {
    "duration": 36,
    "start_time": "2022-04-20T06:08:14.964Z"
   },
   {
    "duration": 11,
    "start_time": "2022-04-20T06:08:15.002Z"
   },
   {
    "duration": 14,
    "start_time": "2022-04-20T06:08:15.015Z"
   },
   {
    "duration": 27,
    "start_time": "2022-04-20T06:08:15.032Z"
   },
   {
    "duration": 40,
    "start_time": "2022-04-20T06:08:15.061Z"
   },
   {
    "duration": 11,
    "start_time": "2022-04-20T06:08:15.103Z"
   },
   {
    "duration": 3,
    "start_time": "2022-04-20T06:08:15.116Z"
   },
   {
    "duration": 11,
    "start_time": "2022-04-20T06:08:15.120Z"
   },
   {
    "duration": 16,
    "start_time": "2022-04-20T06:08:15.133Z"
   },
   {
    "duration": 12,
    "start_time": "2022-04-20T06:08:15.151Z"
   },
   {
    "duration": 4,
    "start_time": "2022-04-20T06:08:15.164Z"
   },
   {
    "duration": 247,
    "start_time": "2022-04-20T06:08:15.169Z"
   },
   {
    "duration": 22,
    "start_time": "2022-04-20T06:08:15.418Z"
   },
   {
    "duration": 221,
    "start_time": "2022-04-20T06:08:15.442Z"
   },
   {
    "duration": 273,
    "start_time": "2022-04-20T06:08:15.665Z"
   },
   {
    "duration": 167,
    "start_time": "2022-04-20T06:08:15.939Z"
   },
   {
    "duration": 169,
    "start_time": "2022-04-20T06:08:16.108Z"
   },
   {
    "duration": 80,
    "start_time": "2022-04-20T06:08:16.279Z"
   },
   {
    "duration": 425,
    "start_time": "2022-04-20T06:08:16.361Z"
   },
   {
    "duration": 18,
    "start_time": "2022-04-20T06:08:16.788Z"
   },
   {
    "duration": 8,
    "start_time": "2022-04-20T06:08:16.807Z"
   },
   {
    "duration": 12,
    "start_time": "2022-04-20T06:08:16.819Z"
   },
   {
    "duration": 107,
    "start_time": "2022-04-20T06:08:16.832Z"
   },
   {
    "duration": 506,
    "start_time": "2022-04-20T06:08:16.940Z"
   },
   {
    "duration": 6,
    "start_time": "2022-04-20T06:08:17.448Z"
   },
   {
    "duration": 157,
    "start_time": "2022-04-20T06:08:17.455Z"
   },
   {
    "duration": 7,
    "start_time": "2022-04-20T06:08:17.613Z"
   },
   {
    "duration": 157,
    "start_time": "2022-04-20T06:08:17.621Z"
   },
   {
    "duration": 6,
    "start_time": "2022-04-20T06:08:17.779Z"
   },
   {
    "duration": 158,
    "start_time": "2022-04-20T06:08:17.787Z"
   },
   {
    "duration": 5,
    "start_time": "2022-04-20T06:08:17.947Z"
   },
   {
    "duration": 147,
    "start_time": "2022-04-20T06:08:17.953Z"
   },
   {
    "duration": 139,
    "start_time": "2022-04-20T06:08:18.101Z"
   },
   {
    "duration": 5,
    "start_time": "2022-04-20T06:08:18.242Z"
   },
   {
    "duration": 127,
    "start_time": "2022-04-20T06:08:18.249Z"
   },
   {
    "duration": 4,
    "start_time": "2022-04-20T06:08:18.378Z"
   },
   {
    "duration": 134,
    "start_time": "2022-04-20T06:08:18.384Z"
   },
   {
    "duration": 5,
    "start_time": "2022-04-20T06:08:18.520Z"
   },
   {
    "duration": 17,
    "start_time": "2022-04-20T06:08:18.526Z"
   },
   {
    "duration": 31,
    "start_time": "2022-04-20T06:08:18.544Z"
   },
   {
    "duration": 7,
    "start_time": "2022-04-20T06:08:18.577Z"
   },
   {
    "duration": 23,
    "start_time": "2022-04-20T06:08:18.585Z"
   },
   {
    "duration": 133,
    "start_time": "2022-04-20T06:08:18.609Z"
   },
   {
    "duration": 8,
    "start_time": "2022-04-20T06:08:18.743Z"
   },
   {
    "duration": 135,
    "start_time": "2022-04-20T06:08:18.752Z"
   },
   {
    "duration": 12,
    "start_time": "2022-04-20T06:08:18.889Z"
   },
   {
    "duration": 153,
    "start_time": "2022-04-20T06:08:18.902Z"
   },
   {
    "duration": 5,
    "start_time": "2022-04-20T06:08:19.056Z"
   },
   {
    "duration": 204,
    "start_time": "2022-04-20T06:08:19.063Z"
   },
   {
    "duration": 5,
    "start_time": "2022-04-20T06:08:19.269Z"
   },
   {
    "duration": 193,
    "start_time": "2022-04-20T06:08:19.276Z"
   },
   {
    "duration": 212,
    "start_time": "2022-04-20T06:08:19.471Z"
   },
   {
    "duration": 6,
    "start_time": "2022-04-20T06:08:19.685Z"
   },
   {
    "duration": 212,
    "start_time": "2022-04-20T06:08:19.701Z"
   },
   {
    "duration": 6,
    "start_time": "2022-04-20T06:08:19.915Z"
   },
   {
    "duration": 134,
    "start_time": "2022-04-20T06:08:19.922Z"
   },
   {
    "duration": 6,
    "start_time": "2022-04-20T06:08:20.058Z"
   },
   {
    "duration": 130,
    "start_time": "2022-04-20T06:08:20.065Z"
   },
   {
    "duration": 6,
    "start_time": "2022-04-20T06:08:20.197Z"
   },
   {
    "duration": 68,
    "start_time": "2022-04-20T06:23:22.035Z"
   },
   {
    "duration": 37,
    "start_time": "2022-04-20T06:26:39.176Z"
   },
   {
    "duration": 36,
    "start_time": "2022-04-20T06:27:11.937Z"
   },
   {
    "duration": 6,
    "start_time": "2022-04-20T06:30:09.186Z"
   },
   {
    "duration": 6,
    "start_time": "2022-04-20T06:30:25.579Z"
   },
   {
    "duration": 732,
    "start_time": "2022-04-20T06:30:35.378Z"
   },
   {
    "duration": 28,
    "start_time": "2022-04-20T06:30:36.112Z"
   },
   {
    "duration": 14,
    "start_time": "2022-04-20T06:30:36.142Z"
   },
   {
    "duration": 9,
    "start_time": "2022-04-20T06:30:36.158Z"
   },
   {
    "duration": 33,
    "start_time": "2022-04-20T06:30:36.169Z"
   },
   {
    "duration": 56,
    "start_time": "2022-04-20T06:30:36.204Z"
   },
   {
    "duration": 11,
    "start_time": "2022-04-20T06:30:36.261Z"
   },
   {
    "duration": 35,
    "start_time": "2022-04-20T06:30:36.274Z"
   },
   {
    "duration": 15,
    "start_time": "2022-04-20T06:30:36.311Z"
   },
   {
    "duration": 30,
    "start_time": "2022-04-20T06:30:36.328Z"
   },
   {
    "duration": 51,
    "start_time": "2022-04-20T06:30:36.360Z"
   },
   {
    "duration": 8,
    "start_time": "2022-04-20T06:30:36.413Z"
   },
   {
    "duration": 6,
    "start_time": "2022-04-20T06:30:36.423Z"
   },
   {
    "duration": 5,
    "start_time": "2022-04-20T06:30:36.433Z"
   },
   {
    "duration": 3,
    "start_time": "2022-04-20T06:30:36.440Z"
   },
   {
    "duration": 9,
    "start_time": "2022-04-20T06:30:36.445Z"
   },
   {
    "duration": 46,
    "start_time": "2022-04-20T06:30:36.456Z"
   },
   {
    "duration": 11,
    "start_time": "2022-04-20T06:30:36.504Z"
   },
   {
    "duration": 3,
    "start_time": "2022-04-20T06:30:36.517Z"
   },
   {
    "duration": 231,
    "start_time": "2022-04-20T06:30:36.521Z"
   },
   {
    "duration": 22,
    "start_time": "2022-04-20T06:30:36.753Z"
   },
   {
    "duration": 219,
    "start_time": "2022-04-20T06:30:36.777Z"
   },
   {
    "duration": 269,
    "start_time": "2022-04-20T06:30:36.999Z"
   },
   {
    "duration": 154,
    "start_time": "2022-04-20T06:30:37.270Z"
   },
   {
    "duration": 159,
    "start_time": "2022-04-20T06:30:37.426Z"
   },
   {
    "duration": 79,
    "start_time": "2022-04-20T06:30:37.587Z"
   },
   {
    "duration": 414,
    "start_time": "2022-04-20T06:30:37.668Z"
   },
   {
    "duration": 18,
    "start_time": "2022-04-20T06:30:38.083Z"
   },
   {
    "duration": 8,
    "start_time": "2022-04-20T06:30:38.102Z"
   },
   {
    "duration": 11,
    "start_time": "2022-04-20T06:30:38.112Z"
   },
   {
    "duration": 93,
    "start_time": "2022-04-20T06:30:38.124Z"
   },
   {
    "duration": 470,
    "start_time": "2022-04-20T06:30:38.219Z"
   },
   {
    "duration": 11,
    "start_time": "2022-04-20T06:30:38.690Z"
   },
   {
    "duration": 148,
    "start_time": "2022-04-20T06:30:38.702Z"
   },
   {
    "duration": 6,
    "start_time": "2022-04-20T06:30:38.852Z"
   },
   {
    "duration": 150,
    "start_time": "2022-04-20T06:30:38.859Z"
   },
   {
    "duration": 6,
    "start_time": "2022-04-20T06:30:39.011Z"
   },
   {
    "duration": 300,
    "start_time": "2022-04-20T06:30:39.018Z"
   },
   {
    "duration": 4,
    "start_time": "2022-04-20T06:30:39.320Z"
   },
   {
    "duration": 274,
    "start_time": "2022-04-20T06:30:39.326Z"
   },
   {
    "duration": 227,
    "start_time": "2022-04-20T06:30:39.605Z"
   },
   {
    "duration": 5,
    "start_time": "2022-04-20T06:30:39.833Z"
   },
   {
    "duration": 265,
    "start_time": "2022-04-20T06:30:39.840Z"
   },
   {
    "duration": 5,
    "start_time": "2022-04-20T06:30:40.106Z"
   },
   {
    "duration": 225,
    "start_time": "2022-04-20T06:30:40.112Z"
   },
   {
    "duration": 8,
    "start_time": "2022-04-20T06:30:40.338Z"
   },
   {
    "duration": 63,
    "start_time": "2022-04-20T06:30:40.347Z"
   },
   {
    "duration": 24,
    "start_time": "2022-04-20T06:30:40.412Z"
   },
   {
    "duration": 6,
    "start_time": "2022-04-20T06:30:40.438Z"
   },
   {
    "duration": 58,
    "start_time": "2022-04-20T06:30:40.446Z"
   },
   {
    "duration": 177,
    "start_time": "2022-04-20T06:30:40.507Z"
   },
   {
    "duration": 15,
    "start_time": "2022-04-20T06:30:40.685Z"
   },
   {
    "duration": 129,
    "start_time": "2022-04-20T06:30:40.701Z"
   },
   {
    "duration": 5,
    "start_time": "2022-04-20T06:30:40.831Z"
   },
   {
    "duration": 139,
    "start_time": "2022-04-20T06:30:40.837Z"
   },
   {
    "duration": 5,
    "start_time": "2022-04-20T06:30:40.978Z"
   },
   {
    "duration": 194,
    "start_time": "2022-04-20T06:30:40.984Z"
   },
   {
    "duration": 5,
    "start_time": "2022-04-20T06:30:41.180Z"
   },
   {
    "duration": 122,
    "start_time": "2022-04-20T06:30:41.200Z"
   },
   {
    "duration": 139,
    "start_time": "2022-04-20T06:30:41.324Z"
   },
   {
    "duration": 5,
    "start_time": "2022-04-20T06:30:41.464Z"
   },
   {
    "duration": 147,
    "start_time": "2022-04-20T06:30:41.470Z"
   },
   {
    "duration": 5,
    "start_time": "2022-04-20T06:30:41.618Z"
   },
   {
    "duration": 128,
    "start_time": "2022-04-20T06:30:41.625Z"
   },
   {
    "duration": 5,
    "start_time": "2022-04-20T06:30:41.754Z"
   },
   {
    "duration": 130,
    "start_time": "2022-04-20T06:30:41.760Z"
   },
   {
    "duration": 4,
    "start_time": "2022-04-20T06:30:41.900Z"
   },
   {
    "duration": 5,
    "start_time": "2022-04-20T06:30:59.213Z"
   },
   {
    "duration": 7,
    "start_time": "2022-04-20T06:31:21.999Z"
   },
   {
    "duration": 11,
    "start_time": "2022-04-20T06:32:53.900Z"
   },
   {
    "duration": 10,
    "start_time": "2022-04-20T06:32:57.343Z"
   },
   {
    "duration": 5,
    "start_time": "2022-04-20T06:33:00.776Z"
   },
   {
    "duration": 11,
    "start_time": "2022-04-20T06:33:01.454Z"
   },
   {
    "duration": 10,
    "start_time": "2022-04-20T06:39:02.255Z"
   },
   {
    "duration": 5,
    "start_time": "2022-04-20T06:42:56.543Z"
   },
   {
    "duration": 748,
    "start_time": "2022-04-20T06:44:01.675Z"
   },
   {
    "duration": 30,
    "start_time": "2022-04-20T06:44:02.425Z"
   },
   {
    "duration": 16,
    "start_time": "2022-04-20T06:44:02.457Z"
   },
   {
    "duration": 30,
    "start_time": "2022-04-20T06:44:02.474Z"
   },
   {
    "duration": 10,
    "start_time": "2022-04-20T06:44:02.506Z"
   },
   {
    "duration": 34,
    "start_time": "2022-04-20T06:44:02.517Z"
   },
   {
    "duration": 8,
    "start_time": "2022-04-20T06:44:02.552Z"
   },
   {
    "duration": 9,
    "start_time": "2022-04-20T06:44:02.562Z"
   },
   {
    "duration": 36,
    "start_time": "2022-04-20T06:44:02.572Z"
   },
   {
    "duration": 21,
    "start_time": "2022-04-20T06:44:02.610Z"
   },
   {
    "duration": 24,
    "start_time": "2022-04-20T06:44:02.632Z"
   },
   {
    "duration": 9,
    "start_time": "2022-04-20T06:44:02.657Z"
   },
   {
    "duration": 5,
    "start_time": "2022-04-20T06:44:02.667Z"
   },
   {
    "duration": 31,
    "start_time": "2022-04-20T06:44:02.674Z"
   },
   {
    "duration": 16,
    "start_time": "2022-04-20T06:44:02.707Z"
   },
   {
    "duration": 11,
    "start_time": "2022-04-20T06:44:02.725Z"
   },
   {
    "duration": 3,
    "start_time": "2022-04-20T06:44:02.738Z"
   },
   {
    "duration": 243,
    "start_time": "2022-04-20T06:44:02.742Z"
   },
   {
    "duration": 30,
    "start_time": "2022-04-20T06:44:02.987Z"
   },
   {
    "duration": 232,
    "start_time": "2022-04-20T06:44:03.019Z"
   },
   {
    "duration": 263,
    "start_time": "2022-04-20T06:44:03.252Z"
   },
   {
    "duration": 152,
    "start_time": "2022-04-20T06:44:03.517Z"
   },
   {
    "duration": 159,
    "start_time": "2022-04-20T06:44:03.670Z"
   },
   {
    "duration": 82,
    "start_time": "2022-04-20T06:44:03.830Z"
   },
   {
    "duration": 444,
    "start_time": "2022-04-20T06:44:03.913Z"
   },
   {
    "duration": 13,
    "start_time": "2022-04-20T06:44:04.359Z"
   },
   {
    "duration": 8,
    "start_time": "2022-04-20T06:44:04.374Z"
   },
   {
    "duration": 21,
    "start_time": "2022-04-20T06:44:04.383Z"
   },
   {
    "duration": 74,
    "start_time": "2022-04-20T06:44:04.405Z"
   },
   {
    "duration": 507,
    "start_time": "2022-04-20T06:44:04.481Z"
   },
   {
    "duration": 5,
    "start_time": "2022-04-20T06:44:04.989Z"
   },
   {
    "duration": 144,
    "start_time": "2022-04-20T06:44:04.996Z"
   },
   {
    "duration": 5,
    "start_time": "2022-04-20T06:44:05.142Z"
   },
   {
    "duration": 154,
    "start_time": "2022-04-20T06:44:05.148Z"
   },
   {
    "duration": 6,
    "start_time": "2022-04-20T06:44:05.303Z"
   },
   {
    "duration": 204,
    "start_time": "2022-04-20T06:44:05.310Z"
   },
   {
    "duration": 5,
    "start_time": "2022-04-20T06:44:05.515Z"
   },
   {
    "duration": 134,
    "start_time": "2022-04-20T06:44:05.521Z"
   },
   {
    "duration": 194,
    "start_time": "2022-04-20T06:44:05.657Z"
   },
   {
    "duration": 5,
    "start_time": "2022-04-20T06:44:05.852Z"
   },
   {
    "duration": 127,
    "start_time": "2022-04-20T06:44:05.860Z"
   },
   {
    "duration": 13,
    "start_time": "2022-04-20T06:44:05.988Z"
   },
   {
    "duration": 125,
    "start_time": "2022-04-20T06:44:06.003Z"
   },
   {
    "duration": 4,
    "start_time": "2022-04-20T06:44:06.130Z"
   },
   {
    "duration": 8,
    "start_time": "2022-04-20T06:44:06.136Z"
   },
   {
    "duration": 24,
    "start_time": "2022-04-20T06:44:06.145Z"
   },
   {
    "duration": 7,
    "start_time": "2022-04-20T06:44:06.170Z"
   },
   {
    "duration": 27,
    "start_time": "2022-04-20T06:44:06.178Z"
   },
   {
    "duration": 128,
    "start_time": "2022-04-20T06:44:06.207Z"
   },
   {
    "duration": 7,
    "start_time": "2022-04-20T06:44:06.337Z"
   },
   {
    "duration": 131,
    "start_time": "2022-04-20T06:44:06.345Z"
   },
   {
    "duration": 4,
    "start_time": "2022-04-20T06:44:06.478Z"
   },
   {
    "duration": 148,
    "start_time": "2022-04-20T06:44:06.483Z"
   },
   {
    "duration": 5,
    "start_time": "2022-04-20T06:44:06.632Z"
   },
   {
    "duration": 186,
    "start_time": "2022-04-20T06:44:06.638Z"
   },
   {
    "duration": 6,
    "start_time": "2022-04-20T06:44:06.825Z"
   },
   {
    "duration": 130,
    "start_time": "2022-04-20T06:44:06.832Z"
   },
   {
    "duration": 145,
    "start_time": "2022-04-20T06:44:06.964Z"
   },
   {
    "duration": 5,
    "start_time": "2022-04-20T06:44:07.110Z"
   },
   {
    "duration": 140,
    "start_time": "2022-04-20T06:44:07.116Z"
   },
   {
    "duration": 5,
    "start_time": "2022-04-20T06:44:07.258Z"
   },
   {
    "duration": 122,
    "start_time": "2022-04-20T06:44:07.264Z"
   },
   {
    "duration": 5,
    "start_time": "2022-04-20T06:44:07.400Z"
   },
   {
    "duration": 128,
    "start_time": "2022-04-20T06:44:07.406Z"
   },
   {
    "duration": 4,
    "start_time": "2022-04-20T06:44:07.536Z"
   },
   {
    "duration": 441,
    "start_time": "2022-04-21T14:14:04.550Z"
   },
   {
    "duration": 65,
    "start_time": "2022-04-21T14:14:17.683Z"
   },
   {
    "duration": 7,
    "start_time": "2022-04-21T14:14:34.769Z"
   },
   {
    "duration": 45,
    "start_time": "2022-04-21T14:15:08.993Z"
   },
   {
    "duration": 902,
    "start_time": "2022-04-21T14:15:17.851Z"
   },
   {
    "duration": 31,
    "start_time": "2022-04-21T14:15:18.756Z"
   },
   {
    "duration": 17,
    "start_time": "2022-04-21T14:15:18.789Z"
   },
   {
    "duration": 11,
    "start_time": "2022-04-21T14:15:18.825Z"
   },
   {
    "duration": 11,
    "start_time": "2022-04-21T14:15:18.838Z"
   },
   {
    "duration": 36,
    "start_time": "2022-04-21T14:15:18.851Z"
   },
   {
    "duration": 42,
    "start_time": "2022-04-21T14:15:18.889Z"
   },
   {
    "duration": 12,
    "start_time": "2022-04-21T14:15:18.933Z"
   },
   {
    "duration": 11,
    "start_time": "2022-04-21T14:15:18.947Z"
   },
   {
    "duration": 30,
    "start_time": "2022-04-21T14:15:18.962Z"
   },
   {
    "duration": 51,
    "start_time": "2022-04-21T14:15:18.994Z"
   },
   {
    "duration": 7,
    "start_time": "2022-04-21T14:15:19.047Z"
   },
   {
    "duration": 4,
    "start_time": "2022-04-21T14:15:19.057Z"
   },
   {
    "duration": 15,
    "start_time": "2022-04-21T14:15:19.064Z"
   },
   {
    "duration": 17,
    "start_time": "2022-04-21T14:15:19.081Z"
   },
   {
    "duration": 13,
    "start_time": "2022-04-21T14:15:19.124Z"
   },
   {
    "duration": 3,
    "start_time": "2022-04-21T14:15:19.139Z"
   },
   {
    "duration": 248,
    "start_time": "2022-04-21T14:15:19.144Z"
   },
   {
    "duration": 31,
    "start_time": "2022-04-21T14:15:19.394Z"
   },
   {
    "duration": 243,
    "start_time": "2022-04-21T14:15:19.426Z"
   },
   {
    "duration": 306,
    "start_time": "2022-04-21T14:15:19.672Z"
   },
   {
    "duration": 176,
    "start_time": "2022-04-21T14:15:19.981Z"
   },
   {
    "duration": 235,
    "start_time": "2022-04-21T14:15:20.159Z"
   },
   {
    "duration": 140,
    "start_time": "2022-04-21T14:15:20.396Z"
   },
   {
    "duration": 495,
    "start_time": "2022-04-21T14:15:20.539Z"
   },
   {
    "duration": 20,
    "start_time": "2022-04-21T14:15:21.036Z"
   },
   {
    "duration": 9,
    "start_time": "2022-04-21T14:15:21.058Z"
   },
   {
    "duration": 16,
    "start_time": "2022-04-21T14:15:21.071Z"
   },
   {
    "duration": 114,
    "start_time": "2022-04-21T14:15:21.089Z"
   },
   {
    "duration": 702,
    "start_time": "2022-04-21T14:15:21.205Z"
   },
   {
    "duration": 17,
    "start_time": "2022-04-21T14:15:21.908Z"
   },
   {
    "duration": 162,
    "start_time": "2022-04-21T14:15:21.926Z"
   },
   {
    "duration": 7,
    "start_time": "2022-04-21T14:15:22.090Z"
   },
   {
    "duration": 152,
    "start_time": "2022-04-21T14:15:22.099Z"
   },
   {
    "duration": 6,
    "start_time": "2022-04-21T14:15:22.252Z"
   },
   {
    "duration": 151,
    "start_time": "2022-04-21T14:15:22.260Z"
   },
   {
    "duration": 11,
    "start_time": "2022-04-21T14:15:22.413Z"
   },
   {
    "duration": 130,
    "start_time": "2022-04-21T14:15:22.426Z"
   },
   {
    "duration": 147,
    "start_time": "2022-04-21T14:15:22.558Z"
   },
   {
    "duration": 4,
    "start_time": "2022-04-21T14:15:22.707Z"
   },
   {
    "duration": 140,
    "start_time": "2022-04-21T14:15:22.713Z"
   },
   {
    "duration": 7,
    "start_time": "2022-04-21T14:15:22.855Z"
   },
   {
    "duration": 225,
    "start_time": "2022-04-21T14:15:22.864Z"
   },
   {
    "duration": 5,
    "start_time": "2022-04-21T14:15:23.092Z"
   },
   {
    "duration": 10,
    "start_time": "2022-04-21T14:15:23.099Z"
   },
   {
    "duration": 31,
    "start_time": "2022-04-21T14:15:23.111Z"
   },
   {
    "duration": 8,
    "start_time": "2022-04-21T14:15:23.144Z"
   },
   {
    "duration": 11,
    "start_time": "2022-04-21T14:15:23.153Z"
   },
   {
    "duration": 167,
    "start_time": "2022-04-21T14:15:23.166Z"
   },
   {
    "duration": 8,
    "start_time": "2022-04-21T14:15:23.336Z"
   },
   {
    "duration": 154,
    "start_time": "2022-04-21T14:15:23.346Z"
   },
   {
    "duration": 5,
    "start_time": "2022-04-21T14:15:23.501Z"
   },
   {
    "duration": 169,
    "start_time": "2022-04-21T14:15:23.508Z"
   },
   {
    "duration": 6,
    "start_time": "2022-04-21T14:15:23.679Z"
   },
   {
    "duration": 220,
    "start_time": "2022-04-21T14:15:23.686Z"
   },
   {
    "duration": 6,
    "start_time": "2022-04-21T14:15:23.908Z"
   },
   {
    "duration": 139,
    "start_time": "2022-04-21T14:15:23.924Z"
   },
   {
    "duration": 152,
    "start_time": "2022-04-21T14:15:24.065Z"
   },
   {
    "duration": 6,
    "start_time": "2022-04-21T14:15:24.223Z"
   },
   {
    "duration": 155,
    "start_time": "2022-04-21T14:15:24.231Z"
   },
   {
    "duration": 6,
    "start_time": "2022-04-21T14:15:24.388Z"
   },
   {
    "duration": 142,
    "start_time": "2022-04-21T14:15:24.396Z"
   },
   {
    "duration": 6,
    "start_time": "2022-04-21T14:15:24.541Z"
   },
   {
    "duration": 141,
    "start_time": "2022-04-21T14:15:24.549Z"
   },
   {
    "duration": 5,
    "start_time": "2022-04-21T14:15:24.691Z"
   },
   {
    "duration": 92,
    "start_time": "2022-04-21T14:15:24.697Z"
   },
   {
    "duration": 91,
    "start_time": "2022-04-21T14:15:24.790Z"
   }
  ],
  "kernelspec": {
   "display_name": "Python 3.9.7 (conda)",
   "language": "python",
   "name": "python3"
  },
  "language_info": {
   "codemirror_mode": {
    "name": "ipython",
    "version": 3
   },
   "file_extension": ".py",
   "mimetype": "text/x-python",
   "name": "python",
   "nbconvert_exporter": "python",
   "pygments_lexer": "ipython3",
   "version": "3.9.7"
  },
  "toc": {
   "base_numbering": 1,
   "nav_menu": {},
   "number_sections": true,
   "sideBar": true,
   "skip_h1_title": true,
   "title_cell": "Содержание",
   "title_sidebar": "Contents",
   "toc_cell": true,
   "toc_position": {
    "height": "calc(100% - 180px)",
    "left": "10px",
    "top": "150px",
    "width": "207.587px"
   },
   "toc_section_display": true,
   "toc_window_display": true
  },
  "vscode": {
   "interpreter": {
    "hash": "b80f4d5c14ea3e8caf583296ef2c7ece2b48b85a9d5cc66fe87cbdb2934101be"
   }
  }
 },
 "nbformat": 4,
 "nbformat_minor": 4
}
